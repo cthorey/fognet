{
 "cells": [
  {
   "cell_type": "code",
   "execution_count": 84,
   "metadata": {
    "collapsed": false
   },
   "outputs": [
    {
     "name": "stdout",
     "output_type": "stream",
     "text": [
      "The autoreload extension is already loaded. To reload it, use:\n",
      "  %reload_ext autoreload\n"
     ]
    }
   ],
   "source": [
    "%load_ext autoreload\n",
    "%autoreload 2\n",
    "from utils.arima_utils import *\n",
    "from utils.helper import *\n",
    "import seaborn as sns\n",
    "import matplotlib.pylab as plt\n",
    "%matplotlib inline"
   ]
  },
  {
   "cell_type": "code",
   "execution_count": 35,
   "metadata": {
    "collapsed": true
   },
   "outputs": [],
   "source": [
    "from utils import pipe_def_arima"
   ]
  },
  {
   "cell_type": "code",
   "execution_count": 36,
   "metadata": {
    "collapsed": true
   },
   "outputs": [],
   "source": [
    "root = '/Users/thorey/Documents/project/competition/fognet/models/bbking/arima/'"
   ]
  },
  {
   "cell_type": "markdown",
   "metadata": {},
   "source": [
    "# TODO LIST\n",
    "\n",
    "## TO-DO\n",
    "2. Implement random sampling feature space\n",
    "\n",
    "5. TODO VARMAX model avec micro data et x exodata\n",
    "\n",
    "## DONE\n",
    "\n",
    "3. Recursive FIT EM-like estiamtion - improve the score a tiny bit !\n",
    "\n",
    "4. TODO DOES SARIMAX perform the same if we input the nan with time interpolation ?\n",
    "\n",
    "    - **Rapport**\n",
    "\n",
    "        - Significant improvement in the performance when we use time interpolation for yield\n",
    "        - We implement it in the pipeline as a yield arg !\n",
    "        \n",
    "3. Try only with ARIMA, pas SARIMAX\n",
    "    - ** Rapport **\n",
    "        - Ne fonctionne pas car n'a pas de possibilite de faire de la bonne forecast. mod.filter pas implementer !\n",
    "        \n",
    "6. Essayer d'enlever le Standard scaler\n",
    "    - ** Rapport **\n",
    "        - Ca ne change rien\n",
    "        \n",
    "2. Implement avec PCA en premier pour voir si ca a de l'effet\n",
    "    - ** Rapport **\n",
    "        - Oui ca a de l'effet, implementer !"
   ]
  },
  {
   "cell_type": "markdown",
   "metadata": {},
   "source": [
    "# implementing recursive fit procedure"
   ]
  },
  {
   "cell_type": "code",
   "execution_count": 121,
   "metadata": {
    "collapsed": false
   },
   "outputs": [
    {
     "name": "stdout",
     "output_type": "stream",
     "text": [
      "{'AR': 0, 'MA': 1, 'D': 1}\n",
      "Loading the prepro pipeline\n",
      "Set up the checkpoints\n"
     ]
    }
   ],
   "source": [
    "from utils.arima_utils import *\n",
    "config = parse_conf_file(os.path.join(root,'model_0','conf_model.json'))\n",
    "model = ArimaModel(config=config)"
   ]
  },
  {
   "cell_type": "code",
   "execution_count": 120,
   "metadata": {
    "collapsed": false
   },
   "outputs": [
    {
     "name": "stderr",
     "output_type": "stream",
     "text": [
      "\r",
      "  0%|          | 0/3 [00:00<?, ?it/s]"
     ]
    },
    {
     "name": "stdout",
     "output_type": "stream",
     "text": [
      "Le train is composed by 1 group and 3058 observation\n",
      "Le test is composed by 1 group and 1020 observation\n"
     ]
    },
    {
     "name": "stderr",
     "output_type": "stream",
     "text": [
      "\r",
      " 33%|███▎      | 1/3 [00:21<00:43, 21.91s/it]"
     ]
    },
    {
     "name": "stdout",
     "output_type": "stream",
     "text": [
      "Le train is composed by 1 group and 1089 observation\n",
      "Le test is composed by 1 group and 363 observation\n"
     ]
    },
    {
     "name": "stderr",
     "output_type": "stream",
     "text": [
      "/Users/thorey/miniconda2/envs/fognet/lib/python2.7/site-packages/statsmodels-0.8.0-py2.7-macosx-10.5-x86_64.egg/statsmodels/base/model.py:471: ConvergenceWarning: Maximum Likelihood optimization failed to converge. Check mle_retvals\n",
      "  \"Check mle_retvals\", ConvergenceWarning)\n",
      " 67%|██████▋   | 2/3 [00:35<00:19, 19.38s/it]"
     ]
    },
    {
     "name": "stdout",
     "output_type": "stream",
     "text": [
      "Le train is composed by 1 group and 1385 observation\n",
      "Le test is composed by 1 group and 462 observation\n"
     ]
    },
    {
     "name": "stderr",
     "output_type": "stream",
     "text": [
      "/Users/thorey/miniconda2/envs/fognet/lib/python2.7/site-packages/statsmodels-0.8.0-py2.7-macosx-10.5-x86_64.egg/statsmodels/base/model.py:471: ConvergenceWarning: Maximum Likelihood optimization failed to converge. Check mle_retvals\n",
      "  \"Check mle_retvals\", ConvergenceWarning)\n"
     ]
    },
    {
     "name": "stdout",
     "output_type": "stream",
     "text": [
      "0 ieme iterations, error 0.466\n"
     ]
    },
    {
     "name": "stderr",
     "output_type": "stream",
     "text": [
      "\r",
      "  0%|          | 0/3 [00:00<?, ?it/s]"
     ]
    },
    {
     "name": "stdout",
     "output_type": "stream",
     "text": [
      "Le train is composed by 1 group and 3058 observation\n",
      "Le test is composed by 1 group and 1020 observation\n"
     ]
    },
    {
     "name": "stderr",
     "output_type": "stream",
     "text": [
      "\r",
      " 33%|███▎      | 1/3 [00:24<00:48, 24.30s/it]"
     ]
    },
    {
     "name": "stdout",
     "output_type": "stream",
     "text": [
      "Le train is composed by 1 group and 1089 observation\n",
      "Le test is composed by 1 group and 363 observation\n"
     ]
    },
    {
     "name": "stderr",
     "output_type": "stream",
     "text": [
      "/Users/thorey/miniconda2/envs/fognet/lib/python2.7/site-packages/statsmodels-0.8.0-py2.7-macosx-10.5-x86_64.egg/statsmodels/base/model.py:471: ConvergenceWarning: Maximum Likelihood optimization failed to converge. Check mle_retvals\n",
      "  \"Check mle_retvals\", ConvergenceWarning)\n",
      " 67%|██████▋   | 2/3 [00:39<00:21, 21.49s/it]"
     ]
    },
    {
     "name": "stdout",
     "output_type": "stream",
     "text": [
      "Le train is composed by 1 group and 1385 observation\n",
      "Le test is composed by 1 group and 462 observation\n"
     ]
    },
    {
     "name": "stderr",
     "output_type": "stream",
     "text": [
      "/Users/thorey/miniconda2/envs/fognet/lib/python2.7/site-packages/statsmodels-0.8.0-py2.7-macosx-10.5-x86_64.egg/statsmodels/base/model.py:471: ConvergenceWarning: Maximum Likelihood optimization failed to converge. Check mle_retvals\n",
      "  \"Check mle_retvals\", ConvergenceWarning)\n"
     ]
    },
    {
     "name": "stdout",
     "output_type": "stream",
     "text": [
      "1 ieme iterations, error 0.368\n"
     ]
    },
    {
     "name": "stderr",
     "output_type": "stream",
     "text": [
      "\r",
      "  0%|          | 0/3 [00:00<?, ?it/s]"
     ]
    },
    {
     "name": "stdout",
     "output_type": "stream",
     "text": [
      "Le train is composed by 1 group and 3058 observation\n",
      "Le test is composed by 1 group and 1020 observation\n"
     ]
    },
    {
     "name": "stderr",
     "output_type": "stream",
     "text": [
      "\r",
      " 33%|███▎      | 1/3 [00:23<00:47, 23.97s/it]"
     ]
    },
    {
     "name": "stdout",
     "output_type": "stream",
     "text": [
      "Le train is composed by 1 group and 1089 observation\n",
      "Le test is composed by 1 group and 363 observation\n"
     ]
    },
    {
     "name": "stderr",
     "output_type": "stream",
     "text": [
      "/Users/thorey/miniconda2/envs/fognet/lib/python2.7/site-packages/statsmodels-0.8.0-py2.7-macosx-10.5-x86_64.egg/statsmodels/base/model.py:471: ConvergenceWarning: Maximum Likelihood optimization failed to converge. Check mle_retvals\n",
      "  \"Check mle_retvals\", ConvergenceWarning)\n",
      " 67%|██████▋   | 2/3 [00:37<00:20, 20.90s/it]"
     ]
    },
    {
     "name": "stdout",
     "output_type": "stream",
     "text": [
      "Le train is composed by 1 group and 1385 observation\n",
      "Le test is composed by 1 group and 462 observation\n"
     ]
    },
    {
     "name": "stderr",
     "output_type": "stream",
     "text": [
      "/Users/thorey/miniconda2/envs/fognet/lib/python2.7/site-packages/statsmodels-0.8.0-py2.7-macosx-10.5-x86_64.egg/statsmodels/base/model.py:471: ConvergenceWarning: Maximum Likelihood optimization failed to converge. Check mle_retvals\n",
      "  \"Check mle_retvals\", ConvergenceWarning)\n"
     ]
    },
    {
     "name": "stdout",
     "output_type": "stream",
     "text": [
      "2 ieme iterations, error 0.273\n"
     ]
    },
    {
     "name": "stderr",
     "output_type": "stream",
     "text": [
      "\r",
      "  0%|          | 0/3 [00:00<?, ?it/s]"
     ]
    },
    {
     "name": "stdout",
     "output_type": "stream",
     "text": [
      "Le train is composed by 1 group and 3058 observation\n",
      "Le test is composed by 1 group and 1020 observation\n"
     ]
    },
    {
     "name": "stderr",
     "output_type": "stream",
     "text": [
      "\r",
      " 33%|███▎      | 1/3 [00:24<00:49, 24.61s/it]"
     ]
    },
    {
     "name": "stdout",
     "output_type": "stream",
     "text": [
      "Le train is composed by 1 group and 1089 observation\n",
      "Le test is composed by 1 group and 363 observation\n"
     ]
    },
    {
     "name": "stderr",
     "output_type": "stream",
     "text": [
      "/Users/thorey/miniconda2/envs/fognet/lib/python2.7/site-packages/statsmodels-0.8.0-py2.7-macosx-10.5-x86_64.egg/statsmodels/base/model.py:471: ConvergenceWarning: Maximum Likelihood optimization failed to converge. Check mle_retvals\n",
      "  \"Check mle_retvals\", ConvergenceWarning)\n",
      " 67%|██████▋   | 2/3 [00:38<00:21, 21.28s/it]"
     ]
    },
    {
     "name": "stdout",
     "output_type": "stream",
     "text": [
      "Le train is composed by 1 group and 1385 observation\n",
      "Le test is composed by 1 group and 462 observation\n"
     ]
    },
    {
     "name": "stderr",
     "output_type": "stream",
     "text": [
      "/Users/thorey/miniconda2/envs/fognet/lib/python2.7/site-packages/statsmodels-0.8.0-py2.7-macosx-10.5-x86_64.egg/statsmodels/base/model.py:471: ConvergenceWarning: Maximum Likelihood optimization failed to converge. Check mle_retvals\n",
      "  \"Check mle_retvals\", ConvergenceWarning)\n"
     ]
    },
    {
     "name": "stdout",
     "output_type": "stream",
     "text": [
      "3 ieme iterations, error 0.201\n"
     ]
    },
    {
     "name": "stderr",
     "output_type": "stream",
     "text": [
      "\r",
      "  0%|          | 0/3 [00:00<?, ?it/s]"
     ]
    },
    {
     "name": "stdout",
     "output_type": "stream",
     "text": [
      "Le train is composed by 1 group and 3058 observation\n",
      "Le test is composed by 1 group and 1020 observation\n"
     ]
    },
    {
     "name": "stderr",
     "output_type": "stream",
     "text": [
      "\r",
      " 33%|███▎      | 1/3 [00:25<00:50, 25.40s/it]"
     ]
    },
    {
     "name": "stdout",
     "output_type": "stream",
     "text": [
      "Le train is composed by 1 group and 1089 observation\n",
      "Le test is composed by 1 group and 363 observation\n"
     ]
    },
    {
     "name": "stderr",
     "output_type": "stream",
     "text": [
      "/Users/thorey/miniconda2/envs/fognet/lib/python2.7/site-packages/statsmodels-0.8.0-py2.7-macosx-10.5-x86_64.egg/statsmodels/base/model.py:471: ConvergenceWarning: Maximum Likelihood optimization failed to converge. Check mle_retvals\n",
      "  \"Check mle_retvals\", ConvergenceWarning)\n",
      " 67%|██████▋   | 2/3 [00:38<00:21, 21.66s/it]"
     ]
    },
    {
     "name": "stdout",
     "output_type": "stream",
     "text": [
      "Le train is composed by 1 group and 1385 observation\n",
      "Le test is composed by 1 group and 462 observation\n"
     ]
    },
    {
     "name": "stderr",
     "output_type": "stream",
     "text": [
      "/Users/thorey/miniconda2/envs/fognet/lib/python2.7/site-packages/statsmodels-0.8.0-py2.7-macosx-10.5-x86_64.egg/statsmodels/base/model.py:471: ConvergenceWarning: Maximum Likelihood optimization failed to converge. Check mle_retvals\n",
      "  \"Check mle_retvals\", ConvergenceWarning)\n"
     ]
    },
    {
     "name": "stdout",
     "output_type": "stream",
     "text": [
      "4 ieme iterations, error 0.162\n"
     ]
    },
    {
     "name": "stderr",
     "output_type": "stream",
     "text": [
      "\r",
      "  0%|          | 0/3 [00:00<?, ?it/s]"
     ]
    },
    {
     "name": "stdout",
     "output_type": "stream",
     "text": [
      "Le train is composed by 1 group and 3058 observation\n",
      "Le test is composed by 1 group and 1020 observation\n"
     ]
    },
    {
     "name": "stderr",
     "output_type": "stream",
     "text": [
      "\r",
      " 33%|███▎      | 1/3 [00:24<00:49, 24.85s/it]"
     ]
    },
    {
     "name": "stdout",
     "output_type": "stream",
     "text": [
      "Le train is composed by 1 group and 1089 observation\n",
      "Le test is composed by 1 group and 363 observation\n"
     ]
    },
    {
     "name": "stderr",
     "output_type": "stream",
     "text": [
      "/Users/thorey/miniconda2/envs/fognet/lib/python2.7/site-packages/statsmodels-0.8.0-py2.7-macosx-10.5-x86_64.egg/statsmodels/base/model.py:471: ConvergenceWarning: Maximum Likelihood optimization failed to converge. Check mle_retvals\n",
      "  \"Check mle_retvals\", ConvergenceWarning)\n",
      " 67%|██████▋   | 2/3 [00:37<00:21, 21.29s/it]"
     ]
    },
    {
     "name": "stdout",
     "output_type": "stream",
     "text": [
      "Le train is composed by 1 group and 1385 observation\n",
      "Le test is composed by 1 group and 462 observation\n"
     ]
    },
    {
     "name": "stderr",
     "output_type": "stream",
     "text": [
      "/Users/thorey/miniconda2/envs/fognet/lib/python2.7/site-packages/statsmodels-0.8.0-py2.7-macosx-10.5-x86_64.egg/statsmodels/base/model.py:471: ConvergenceWarning: Maximum Likelihood optimization failed to converge. Check mle_retvals\n",
      "  \"Check mle_retvals\", ConvergenceWarning)\n"
     ]
    },
    {
     "name": "stdout",
     "output_type": "stream",
     "text": [
      "Will write output to ~/Documents/project/competition/fognet/models/bbking/arima/model_0/AR_0_MA_1_D_1/submissions_20160408_112916.csv\n",
      "train summary:\n",
      "    rmse : 1.794\n",
      "    aic : 7307.732\n",
      "    bic : 7513.591\n",
      "    hqic : 7383.891\n",
      "test summary:\n",
      "    rmse : 0.939\n",
      "    aic : 2071.534\n",
      "    bic : 2235.662\n",
      "    hqic : 2135.465\n"
     ]
    }
   ],
   "source": [
    "model.iterative_fit()"
   ]
  },
  {
   "cell_type": "markdown",
   "metadata": {},
   "source": []
  },
  {
   "cell_type": "markdown",
   "metadata": {},
   "source": [
    "# Implement random sampling feature space"
   ]
  },
  {
   "cell_type": "code",
   "execution_count": 75,
   "metadata": {
    "collapsed": false
   },
   "outputs": [
    {
     "name": "stdout",
     "output_type": "stream",
     "text": [
      "{'AR': 0, 'MA': 1, 'D': 1}\n",
      "Loading the prepro pipeline\n",
      "Set up the checkpoints\n",
      "Loading the prepro pipeline\n",
      "Set up the checkpoints\n"
     ]
    }
   ],
   "source": [
    "from utils.arima_utils import *\n",
    "config = parse_conf_file(os.path.join(root,'model_0','conf_model.json'))\n",
    "model = ArimaModel(config=config)\n",
    "model.AR = 0\n",
    "model.D = 1\n",
    "model.MA = 0\n",
    "model.pca_components = 10\n",
    "model.init_data()\n",
    "model.init_model()"
   ]
  },
  {
   "cell_type": "code",
   "execution_count": 76,
   "metadata": {
    "collapsed": false
   },
   "outputs": [
    {
     "name": "stderr",
     "output_type": "stream",
     "text": [
      "\r",
      "  0%|          | 0/3 [00:00<?, ?it/s]"
     ]
    },
    {
     "name": "stdout",
     "output_type": "stream",
     "text": [
      "Le train is composed by 1 group and 3058 observation\n",
      "Le test is composed by 1 group and 1020 observation\n",
      "train summary:\n",
      "    rmse : 100000.000\n",
      "    aic : 100000.000\n",
      "    bic : 100000.000\n",
      "    hqic : 100000.000\n",
      "test summary:\n",
      "    rmse : 2.000\n",
      "    aic : 2.000\n",
      "    bic : 2.000\n",
      "    hqic : 2.000\n"
     ]
    }
   ],
   "source": [
    "model.fit()"
   ]
  },
  {
   "cell_type": "code",
   "execution_count": 74,
   "metadata": {
    "collapsed": false
   },
   "outputs": [
    {
     "name": "stdout",
     "output_type": "stream",
     "text": [
      "Le train is composed by 1 group and 1089 observation\n",
      "Le test is composed by 1 group and 363 observation\n"
     ]
    },
    {
     "ename": "ValueError",
     "evalue": "could not broadcast input array from shape (0,0) into shape (1,1)",
     "output_type": "error",
     "traceback": [
      "\u001b[0;31m---------------------------------------------------------------------------\u001b[0m",
      "\u001b[0;31mValueError\u001b[0m                                Traceback (most recent call last)",
      "\u001b[0;32m<ipython-input-74-fac71d853b2c>\u001b[0m in \u001b[0;36m<module>\u001b[0;34m()\u001b[0m\n\u001b[1;32m      4\u001b[0m                     \u001b[0morder\u001b[0m \u001b[0;34m=\u001b[0m \u001b[0;34m(\u001b[0m\u001b[0;36m0\u001b[0m\u001b[0;34m,\u001b[0m\u001b[0;36m1\u001b[0m\u001b[0;34m,\u001b[0m\u001b[0;36m0\u001b[0m\u001b[0;34m)\u001b[0m\u001b[0;34m,\u001b[0m\u001b[0;34m\u001b[0m\u001b[0m\n\u001b[1;32m      5\u001b[0m                     \u001b[0menforce_stationarity\u001b[0m \u001b[0;34m=\u001b[0m \u001b[0mFalse\u001b[0m\u001b[0;34m,\u001b[0m\u001b[0;34m\u001b[0m\u001b[0m\n\u001b[0;32m----> 6\u001b[0;31m                     enforce_invertibility = False)\n\u001b[0m",
      "\u001b[0;32m/Users/thorey/miniconda2/envs/fognet/lib/python2.7/site-packages/statsmodels-0.8.0-py2.7-macosx-10.5-x86_64.egg/statsmodels/tsa/statespace/sarimax.pyc\u001b[0m in \u001b[0;36m__init__\u001b[0;34m(self, endog, exog, order, seasonal_order, trend, measurement_error, time_varying_regression, mle_regression, simple_differencing, enforce_stationarity, enforce_invertibility, hamilton_representation, **kwargs)\u001b[0m\n\u001b[1;32m    516\u001b[0m         \u001b[0mself\u001b[0m\u001b[0;34m.\u001b[0m\u001b[0mssm\u001b[0m\u001b[0;34m.\u001b[0m\u001b[0mdesign\u001b[0m \u001b[0;34m=\u001b[0m \u001b[0mself\u001b[0m\u001b[0;34m.\u001b[0m\u001b[0minitial_design\u001b[0m\u001b[0;34m\u001b[0m\u001b[0m\n\u001b[1;32m    517\u001b[0m         \u001b[0mself\u001b[0m\u001b[0;34m.\u001b[0m\u001b[0mssm\u001b[0m\u001b[0;34m.\u001b[0m\u001b[0mstate_intercept\u001b[0m \u001b[0;34m=\u001b[0m \u001b[0mself\u001b[0m\u001b[0;34m.\u001b[0m\u001b[0minitial_state_intercept\u001b[0m\u001b[0;34m\u001b[0m\u001b[0m\n\u001b[0;32m--> 518\u001b[0;31m         \u001b[0mself\u001b[0m\u001b[0;34m.\u001b[0m\u001b[0mssm\u001b[0m\u001b[0;34m.\u001b[0m\u001b[0mtransition\u001b[0m \u001b[0;34m=\u001b[0m \u001b[0mself\u001b[0m\u001b[0;34m.\u001b[0m\u001b[0minitial_transition\u001b[0m\u001b[0;34m\u001b[0m\u001b[0m\n\u001b[0m\u001b[1;32m    519\u001b[0m         \u001b[0mself\u001b[0m\u001b[0;34m.\u001b[0m\u001b[0mssm\u001b[0m\u001b[0;34m.\u001b[0m\u001b[0mselection\u001b[0m \u001b[0;34m=\u001b[0m \u001b[0mself\u001b[0m\u001b[0;34m.\u001b[0m\u001b[0minitial_selection\u001b[0m\u001b[0;34m\u001b[0m\u001b[0m\n\u001b[1;32m    520\u001b[0m \u001b[0;34m\u001b[0m\u001b[0m\n",
      "\u001b[0;32m/Users/thorey/miniconda2/envs/fognet/lib/python2.7/site-packages/statsmodels-0.8.0-py2.7-macosx-10.5-x86_64.egg/statsmodels/tsa/statespace/sarimax.pyc\u001b[0m in \u001b[0;36minitial_transition\u001b[0;34m(self)\u001b[0m\n\u001b[1;32m    780\u001b[0m \u001b[0;34m\u001b[0m\u001b[0m\n\u001b[1;32m    781\u001b[0m         \u001b[0;31m# T_c\u001b[0m\u001b[0;34m\u001b[0m\u001b[0;34m\u001b[0m\u001b[0m\n\u001b[0;32m--> 782\u001b[0;31m         \u001b[0mtransition\u001b[0m\u001b[0;34m[\u001b[0m\u001b[0mstart\u001b[0m\u001b[0;34m:\u001b[0m\u001b[0mend\u001b[0m\u001b[0;34m,\u001b[0m \u001b[0mstart\u001b[0m\u001b[0;34m:\u001b[0m\u001b[0mend\u001b[0m\u001b[0;34m]\u001b[0m \u001b[0;34m=\u001b[0m \u001b[0mcompanion_matrix\u001b[0m\u001b[0;34m(\u001b[0m\u001b[0mself\u001b[0m\u001b[0;34m.\u001b[0m\u001b[0m_k_order\u001b[0m\u001b[0;34m)\u001b[0m\u001b[0;34m\u001b[0m\u001b[0m\n\u001b[0m\u001b[1;32m    783\u001b[0m         \u001b[0;32mif\u001b[0m \u001b[0mself\u001b[0m\u001b[0;34m.\u001b[0m\u001b[0mhamilton_representation\u001b[0m\u001b[0;34m:\u001b[0m\u001b[0;34m\u001b[0m\u001b[0m\n\u001b[1;32m    784\u001b[0m             transition[start:end, start:end] = np.transpose(\n",
      "\u001b[0;31mValueError\u001b[0m: could not broadcast input array from shape (0,0) into shape (1,1)"
     ]
    }
   ],
   "source": [
    "train,test = train_test_split(df)\n",
    "mod2=sm.tsa.SARIMAX(endog = train['feat_yield'],\n",
    "                    exog = train[model.regressors],\n",
    "                    order = (0,1,0),\n",
    "                    enforce_stationarity = False,\n",
    "                    enforce_invertibility = False)"
   ]
  },
  {
   "cell_type": "code",
   "execution_count": null,
   "metadata": {
    "collapsed": true
   },
   "outputs": [],
   "source": []
  },
  {
   "cell_type": "code",
   "execution_count": 70,
   "metadata": {
    "collapsed": false
   },
   "outputs": [
    {
     "name": "stdout",
     "output_type": "stream",
     "text": [
      "Le train is composed by 1 group and 1089 observation\n",
      "Le test is composed by 1 group and 363 observation\n"
     ]
    },
    {
     "ename": "ValueError",
     "evalue": "could not broadcast input array from shape (0,0) into shape (1,1)",
     "output_type": "error",
     "traceback": [
      "\u001b[0;31m---------------------------------------------------------------------------\u001b[0m",
      "\u001b[0;31mValueError\u001b[0m                                Traceback (most recent call last)",
      "\u001b[0;32m<ipython-input-70-0dbde6073bf8>\u001b[0m in \u001b[0;36m<module>\u001b[0;34m()\u001b[0m\n\u001b[1;32m      2\u001b[0m \u001b[0mdf\u001b[0m \u001b[0;34m=\u001b[0m \u001b[0mmodel\u001b[0m\u001b[0;34m.\u001b[0m\u001b[0mdf\u001b[0m\u001b[0;34m\u001b[0m\u001b[0m\n\u001b[1;32m      3\u001b[0m \u001b[0mdf\u001b[0m \u001b[0;34m=\u001b[0m \u001b[0mdf\u001b[0m\u001b[0;34m.\u001b[0m\u001b[0mgroupby\u001b[0m\u001b[0;34m(\u001b[0m\u001b[0;34m'group'\u001b[0m\u001b[0;34m)\u001b[0m\u001b[0;34m.\u001b[0m\u001b[0mget_group\u001b[0m\u001b[0;34m(\u001b[0m\u001b[0;34m'group1'\u001b[0m\u001b[0;34m)\u001b[0m\u001b[0;34m\u001b[0m\u001b[0m\n\u001b[0;32m----> 4\u001b[0;31m \u001b[0mmodel\u001b[0m\u001b[0;34m.\u001b[0m\u001b[0mfit_group\u001b[0m\u001b[0;34m(\u001b[0m\u001b[0mdf\u001b[0m\u001b[0;34m)\u001b[0m\u001b[0;34m\u001b[0m\u001b[0m\n\u001b[0m",
      "\u001b[0;32m/Users/thorey/Documents/project/competition/fognet/utils/arima_utils.py\u001b[0m in \u001b[0;36mfit_group\u001b[0;34m(self, df)\u001b[0m\n\u001b[1;32m    108\u001b[0m         \u001b[0;32mexcept\u001b[0m \u001b[0mValueError\u001b[0m\u001b[0;34m:\u001b[0m\u001b[0;34m\u001b[0m\u001b[0m\n\u001b[1;32m    109\u001b[0m             train_model = self.get_model(\n\u001b[0;32m--> 110\u001b[0;31m                 train, enforce_stationarity=False, enforce_invertibility=False)\n\u001b[0m\u001b[1;32m    111\u001b[0m             \u001b[0mtrain_results\u001b[0m \u001b[0;34m=\u001b[0m \u001b[0mtrain_model\u001b[0m\u001b[0;34m.\u001b[0m\u001b[0mfit\u001b[0m\u001b[0;34m(\u001b[0m\u001b[0mmaxiter\u001b[0m\u001b[0;34m=\u001b[0m\u001b[0;36m100\u001b[0m\u001b[0;34m)\u001b[0m\u001b[0;34m\u001b[0m\u001b[0m\n\u001b[1;32m    112\u001b[0m         \u001b[0;32mexcept\u001b[0m\u001b[0;34m:\u001b[0m\u001b[0;34m\u001b[0m\u001b[0m\n",
      "\u001b[0;32m/Users/thorey/Documents/project/competition/fognet/utils/arima_utils.py\u001b[0m in \u001b[0;36mget_model\u001b[0;34m(self, df, enforce_stationarity, enforce_invertibility)\u001b[0m\n\u001b[1;32m     65\u001b[0m                                      \u001b[0mseasonal_order\u001b[0m\u001b[0;34m=\u001b[0m\u001b[0mself\u001b[0m\u001b[0;34m.\u001b[0m\u001b[0mseasonal_order\u001b[0m\u001b[0;34m,\u001b[0m\u001b[0;34m\u001b[0m\u001b[0m\n\u001b[1;32m     66\u001b[0m                                      \u001b[0menforce_invertibility\u001b[0m\u001b[0;34m=\u001b[0m\u001b[0menforce_invertibility\u001b[0m\u001b[0;34m,\u001b[0m\u001b[0;34m\u001b[0m\u001b[0m\n\u001b[0;32m---> 67\u001b[0;31m                                      enforce_stationarity=enforce_stationarity)\n\u001b[0m\u001b[1;32m     68\u001b[0m         \u001b[0;32melse\u001b[0m\u001b[0;34m:\u001b[0m\u001b[0;34m\u001b[0m\u001b[0m\n\u001b[1;32m     69\u001b[0m             raise ValueError('%s is not implemented' %\n",
      "\u001b[0;32m/Users/thorey/miniconda2/envs/fognet/lib/python2.7/site-packages/statsmodels-0.8.0-py2.7-macosx-10.5-x86_64.egg/statsmodels/tsa/statespace/sarimax.pyc\u001b[0m in \u001b[0;36m__init__\u001b[0;34m(self, endog, exog, order, seasonal_order, trend, measurement_error, time_varying_regression, mle_regression, simple_differencing, enforce_stationarity, enforce_invertibility, hamilton_representation, **kwargs)\u001b[0m\n\u001b[1;32m    516\u001b[0m         \u001b[0mself\u001b[0m\u001b[0;34m.\u001b[0m\u001b[0mssm\u001b[0m\u001b[0;34m.\u001b[0m\u001b[0mdesign\u001b[0m \u001b[0;34m=\u001b[0m \u001b[0mself\u001b[0m\u001b[0;34m.\u001b[0m\u001b[0minitial_design\u001b[0m\u001b[0;34m\u001b[0m\u001b[0m\n\u001b[1;32m    517\u001b[0m         \u001b[0mself\u001b[0m\u001b[0;34m.\u001b[0m\u001b[0mssm\u001b[0m\u001b[0;34m.\u001b[0m\u001b[0mstate_intercept\u001b[0m \u001b[0;34m=\u001b[0m \u001b[0mself\u001b[0m\u001b[0;34m.\u001b[0m\u001b[0minitial_state_intercept\u001b[0m\u001b[0;34m\u001b[0m\u001b[0m\n\u001b[0;32m--> 518\u001b[0;31m         \u001b[0mself\u001b[0m\u001b[0;34m.\u001b[0m\u001b[0mssm\u001b[0m\u001b[0;34m.\u001b[0m\u001b[0mtransition\u001b[0m \u001b[0;34m=\u001b[0m \u001b[0mself\u001b[0m\u001b[0;34m.\u001b[0m\u001b[0minitial_transition\u001b[0m\u001b[0;34m\u001b[0m\u001b[0m\n\u001b[0m\u001b[1;32m    519\u001b[0m         \u001b[0mself\u001b[0m\u001b[0;34m.\u001b[0m\u001b[0mssm\u001b[0m\u001b[0;34m.\u001b[0m\u001b[0mselection\u001b[0m \u001b[0;34m=\u001b[0m \u001b[0mself\u001b[0m\u001b[0;34m.\u001b[0m\u001b[0minitial_selection\u001b[0m\u001b[0;34m\u001b[0m\u001b[0m\n\u001b[1;32m    520\u001b[0m \u001b[0;34m\u001b[0m\u001b[0m\n",
      "\u001b[0;32m/Users/thorey/miniconda2/envs/fognet/lib/python2.7/site-packages/statsmodels-0.8.0-py2.7-macosx-10.5-x86_64.egg/statsmodels/tsa/statespace/sarimax.pyc\u001b[0m in \u001b[0;36minitial_transition\u001b[0;34m(self)\u001b[0m\n\u001b[1;32m    780\u001b[0m \u001b[0;34m\u001b[0m\u001b[0m\n\u001b[1;32m    781\u001b[0m         \u001b[0;31m# T_c\u001b[0m\u001b[0;34m\u001b[0m\u001b[0;34m\u001b[0m\u001b[0m\n\u001b[0;32m--> 782\u001b[0;31m         \u001b[0mtransition\u001b[0m\u001b[0;34m[\u001b[0m\u001b[0mstart\u001b[0m\u001b[0;34m:\u001b[0m\u001b[0mend\u001b[0m\u001b[0;34m,\u001b[0m \u001b[0mstart\u001b[0m\u001b[0;34m:\u001b[0m\u001b[0mend\u001b[0m\u001b[0;34m]\u001b[0m \u001b[0;34m=\u001b[0m \u001b[0mcompanion_matrix\u001b[0m\u001b[0;34m(\u001b[0m\u001b[0mself\u001b[0m\u001b[0;34m.\u001b[0m\u001b[0m_k_order\u001b[0m\u001b[0;34m)\u001b[0m\u001b[0;34m\u001b[0m\u001b[0m\n\u001b[0m\u001b[1;32m    783\u001b[0m         \u001b[0;32mif\u001b[0m \u001b[0mself\u001b[0m\u001b[0;34m.\u001b[0m\u001b[0mhamilton_representation\u001b[0m\u001b[0;34m:\u001b[0m\u001b[0;34m\u001b[0m\u001b[0m\n\u001b[1;32m    784\u001b[0m             transition[start:end, start:end] = np.transpose(\n",
      "\u001b[0;31mValueError\u001b[0m: could not broadcast input array from shape (0,0) into shape (1,1)"
     ]
    }
   ],
   "source": [
    "model.verbose = 2\n",
    "df = model.df\n",
    "df = df.groupby('group').get_group('group1')\n",
    "model.fit_group(df)"
   ]
  },
  {
   "cell_type": "code",
   "execution_count": null,
   "metadata": {
    "collapsed": true
   },
   "outputs": [],
   "source": []
  },
  {
   "cell_type": "code",
   "execution_count": 11,
   "metadata": {
    "collapsed": false
   },
   "outputs": [
    {
     "data": {
      "text/plain": [
       "0"
      ]
     },
     "execution_count": 11,
     "metadata": {},
     "output_type": "execute_result"
    }
   ],
   "source": [
    "model.Season_AR"
   ]
  },
  {
   "cell_type": "code",
   "execution_count": 4,
   "metadata": {
    "collapsed": false
   },
   "outputs": [
    {
     "name": "stdout",
     "output_type": "stream",
     "text": [
      "Le train is composed by 1 group and 3058 observation\n",
      "Le test is composed by 1 group and 1020 observation\n"
     ]
    }
   ],
   "source": [
    "df = model.df\n",
    "df0 = df.groupby('group').get_group('group0')\n",
    "train,test = train_test_split(df0)"
   ]
  },
  {
   "cell_type": "code",
   "execution_count": null,
   "metadata": {
    "collapsed": true
   },
   "outputs": [],
   "source": [
    "{u'Season_RA': 3, u'D': 1, u'Season_Period': 1, u'AR': 2, u'Season_MA': 1, u'Season_D': 1, u'MA': 3}"
   ]
  },
  {
   "cell_type": "code",
   "execution_count": 71,
   "metadata": {
    "collapsed": false
   },
   "outputs": [
    {
     "ename": "KeyError",
     "evalue": "\"['feat_9'] not in index\"",
     "output_type": "error",
     "traceback": [
      "\u001b[0;31m---------------------------------------------------------------------------\u001b[0m",
      "\u001b[0;31mKeyError\u001b[0m                                  Traceback (most recent call last)",
      "\u001b[0;32m<ipython-input-71-46ceeed678b7>\u001b[0m in \u001b[0;36m<module>\u001b[0;34m()\u001b[0m\n\u001b[1;32m      1\u001b[0m mod2=sm.tsa.SARIMAX(endog = train['feat_yield'],\n\u001b[0;32m----> 2\u001b[0;31m                     \u001b[0mexog\u001b[0m \u001b[0;34m=\u001b[0m \u001b[0mtrain\u001b[0m\u001b[0;34m[\u001b[0m\u001b[0mmodel\u001b[0m\u001b[0;34m.\u001b[0m\u001b[0mregressors\u001b[0m\u001b[0;34m]\u001b[0m\u001b[0;34m,\u001b[0m\u001b[0;34m\u001b[0m\u001b[0m\n\u001b[0m\u001b[1;32m      3\u001b[0m                     \u001b[0morder\u001b[0m \u001b[0;34m=\u001b[0m \u001b[0;34m(\u001b[0m\u001b[0;36m0\u001b[0m\u001b[0;34m,\u001b[0m\u001b[0;36m1\u001b[0m\u001b[0;34m,\u001b[0m\u001b[0;36m0\u001b[0m\u001b[0;34m)\u001b[0m\u001b[0;34m,\u001b[0m\u001b[0;34m\u001b[0m\u001b[0m\n\u001b[1;32m      4\u001b[0m                     \u001b[0mseasonal_order\u001b[0m \u001b[0;34m=\u001b[0m \u001b[0;34m(\u001b[0m\u001b[0;36m3\u001b[0m\u001b[0;34m,\u001b[0m\u001b[0;36m1\u001b[0m\u001b[0;34m,\u001b[0m\u001b[0;36m1\u001b[0m\u001b[0;34m,\u001b[0m\u001b[0;36m1\u001b[0m\u001b[0;34m)\u001b[0m\u001b[0;34m,\u001b[0m\u001b[0;34m\u001b[0m\u001b[0m\n\u001b[1;32m      5\u001b[0m                     \u001b[0menforce_stationarity\u001b[0m \u001b[0;34m=\u001b[0m \u001b[0mFalse\u001b[0m\u001b[0;34m,\u001b[0m\u001b[0;34m\u001b[0m\u001b[0m\n",
      "\u001b[0;32m/Users/thorey/miniconda2/envs/fognet/lib/python2.7/site-packages/pandas/core/frame.pyc\u001b[0m in \u001b[0;36m__getitem__\u001b[0;34m(self, key)\u001b[0m\n\u001b[1;32m   1961\u001b[0m         \u001b[0;32mif\u001b[0m \u001b[0misinstance\u001b[0m\u001b[0;34m(\u001b[0m\u001b[0mkey\u001b[0m\u001b[0;34m,\u001b[0m \u001b[0;34m(\u001b[0m\u001b[0mSeries\u001b[0m\u001b[0;34m,\u001b[0m \u001b[0mnp\u001b[0m\u001b[0;34m.\u001b[0m\u001b[0mndarray\u001b[0m\u001b[0;34m,\u001b[0m \u001b[0mIndex\u001b[0m\u001b[0;34m,\u001b[0m \u001b[0mlist\u001b[0m\u001b[0;34m)\u001b[0m\u001b[0;34m)\u001b[0m\u001b[0;34m:\u001b[0m\u001b[0;34m\u001b[0m\u001b[0m\n\u001b[1;32m   1962\u001b[0m             \u001b[0;31m# either boolean or fancy integer index\u001b[0m\u001b[0;34m\u001b[0m\u001b[0;34m\u001b[0m\u001b[0m\n\u001b[0;32m-> 1963\u001b[0;31m             \u001b[0;32mreturn\u001b[0m \u001b[0mself\u001b[0m\u001b[0;34m.\u001b[0m\u001b[0m_getitem_array\u001b[0m\u001b[0;34m(\u001b[0m\u001b[0mkey\u001b[0m\u001b[0;34m)\u001b[0m\u001b[0;34m\u001b[0m\u001b[0m\n\u001b[0m\u001b[1;32m   1964\u001b[0m         \u001b[0;32melif\u001b[0m \u001b[0misinstance\u001b[0m\u001b[0;34m(\u001b[0m\u001b[0mkey\u001b[0m\u001b[0;34m,\u001b[0m \u001b[0mDataFrame\u001b[0m\u001b[0;34m)\u001b[0m\u001b[0;34m:\u001b[0m\u001b[0;34m\u001b[0m\u001b[0m\n\u001b[1;32m   1965\u001b[0m             \u001b[0;32mreturn\u001b[0m \u001b[0mself\u001b[0m\u001b[0;34m.\u001b[0m\u001b[0m_getitem_frame\u001b[0m\u001b[0;34m(\u001b[0m\u001b[0mkey\u001b[0m\u001b[0;34m)\u001b[0m\u001b[0;34m\u001b[0m\u001b[0m\n",
      "\u001b[0;32m/Users/thorey/miniconda2/envs/fognet/lib/python2.7/site-packages/pandas/core/frame.pyc\u001b[0m in \u001b[0;36m_getitem_array\u001b[0;34m(self, key)\u001b[0m\n\u001b[1;32m   2005\u001b[0m             \u001b[0;32mreturn\u001b[0m \u001b[0mself\u001b[0m\u001b[0;34m.\u001b[0m\u001b[0mtake\u001b[0m\u001b[0;34m(\u001b[0m\u001b[0mindexer\u001b[0m\u001b[0;34m,\u001b[0m \u001b[0maxis\u001b[0m\u001b[0;34m=\u001b[0m\u001b[0;36m0\u001b[0m\u001b[0;34m,\u001b[0m \u001b[0mconvert\u001b[0m\u001b[0;34m=\u001b[0m\u001b[0mFalse\u001b[0m\u001b[0;34m)\u001b[0m\u001b[0;34m\u001b[0m\u001b[0m\n\u001b[1;32m   2006\u001b[0m         \u001b[0;32melse\u001b[0m\u001b[0;34m:\u001b[0m\u001b[0;34m\u001b[0m\u001b[0m\n\u001b[0;32m-> 2007\u001b[0;31m             \u001b[0mindexer\u001b[0m \u001b[0;34m=\u001b[0m \u001b[0mself\u001b[0m\u001b[0;34m.\u001b[0m\u001b[0mix\u001b[0m\u001b[0;34m.\u001b[0m\u001b[0m_convert_to_indexer\u001b[0m\u001b[0;34m(\u001b[0m\u001b[0mkey\u001b[0m\u001b[0;34m,\u001b[0m \u001b[0maxis\u001b[0m\u001b[0;34m=\u001b[0m\u001b[0;36m1\u001b[0m\u001b[0;34m)\u001b[0m\u001b[0;34m\u001b[0m\u001b[0m\n\u001b[0m\u001b[1;32m   2008\u001b[0m             \u001b[0;32mreturn\u001b[0m \u001b[0mself\u001b[0m\u001b[0;34m.\u001b[0m\u001b[0mtake\u001b[0m\u001b[0;34m(\u001b[0m\u001b[0mindexer\u001b[0m\u001b[0;34m,\u001b[0m \u001b[0maxis\u001b[0m\u001b[0;34m=\u001b[0m\u001b[0;36m1\u001b[0m\u001b[0;34m,\u001b[0m \u001b[0mconvert\u001b[0m\u001b[0;34m=\u001b[0m\u001b[0mTrue\u001b[0m\u001b[0;34m)\u001b[0m\u001b[0;34m\u001b[0m\u001b[0m\n\u001b[1;32m   2009\u001b[0m \u001b[0;34m\u001b[0m\u001b[0m\n",
      "\u001b[0;32m/Users/thorey/miniconda2/envs/fognet/lib/python2.7/site-packages/pandas/core/indexing.pyc\u001b[0m in \u001b[0;36m_convert_to_indexer\u001b[0;34m(self, obj, axis, is_setter)\u001b[0m\n\u001b[1;32m   1148\u001b[0m                 \u001b[0mmask\u001b[0m \u001b[0;34m=\u001b[0m \u001b[0mcheck\u001b[0m \u001b[0;34m==\u001b[0m \u001b[0;34m-\u001b[0m\u001b[0;36m1\u001b[0m\u001b[0;34m\u001b[0m\u001b[0m\n\u001b[1;32m   1149\u001b[0m                 \u001b[0;32mif\u001b[0m \u001b[0mmask\u001b[0m\u001b[0;34m.\u001b[0m\u001b[0many\u001b[0m\u001b[0;34m(\u001b[0m\u001b[0;34m)\u001b[0m\u001b[0;34m:\u001b[0m\u001b[0;34m\u001b[0m\u001b[0m\n\u001b[0;32m-> 1150\u001b[0;31m                     \u001b[0;32mraise\u001b[0m \u001b[0mKeyError\u001b[0m\u001b[0;34m(\u001b[0m\u001b[0;34m'%s not in index'\u001b[0m \u001b[0;34m%\u001b[0m \u001b[0mobjarr\u001b[0m\u001b[0;34m[\u001b[0m\u001b[0mmask\u001b[0m\u001b[0;34m]\u001b[0m\u001b[0;34m)\u001b[0m\u001b[0;34m\u001b[0m\u001b[0m\n\u001b[0m\u001b[1;32m   1151\u001b[0m \u001b[0;34m\u001b[0m\u001b[0m\n\u001b[1;32m   1152\u001b[0m                 \u001b[0;32mreturn\u001b[0m \u001b[0m_values_from_object\u001b[0m\u001b[0;34m(\u001b[0m\u001b[0mindexer\u001b[0m\u001b[0;34m)\u001b[0m\u001b[0;34m\u001b[0m\u001b[0m\n",
      "\u001b[0;31mKeyError\u001b[0m: \"['feat_9'] not in index\""
     ]
    }
   ],
   "source": [
    "mod2=sm.tsa.SARIMAX(endog = train['feat_yield'],\n",
    "                    exog = train[model.regressors],\n",
    "                    order = (0,1,0),\n",
    "                    seasonal_order = (3,1,1,1),\n",
    "                    enforce_stationarity = False,\n",
    "                    enforce_invertibility = False)"
   ]
  },
  {
   "cell_type": "code",
   "execution_count": 21,
   "metadata": {
    "collapsed": false
   },
   "outputs": [
    {
     "name": "stderr",
     "output_type": "stream",
     "text": [
      "/Users/thorey/miniconda2/envs/fognet/lib/python2.7/site-packages/statsmodels-0.8.0-py2.7-macosx-10.5-x86_64.egg/statsmodels/base/model.py:471: ConvergenceWarning: Maximum Likelihood optimization failed to converge. Check mle_retvals\n",
      "  \"Check mle_retvals\", ConvergenceWarning)\n"
     ]
    }
   ],
   "source": [
    "res = mod2.fit()"
   ]
  },
  {
   "cell_type": "code",
   "execution_count": 22,
   "metadata": {
    "collapsed": false
   },
   "outputs": [
    {
     "name": "stdout",
     "output_type": "stream",
     "text": [
      "                                 Statespace Model Results                                \n",
      "=========================================================================================\n",
      "Dep. Variable:                        feat_yield   No. Observations:                 3058\n",
      "Model:             SARIMAX(2, 1, 3)x(3, 1, 1, 1)   Log Likelihood               -6412.596\n",
      "Date:                           Thu, 07 Apr 2016   AIC                          12863.193\n",
      "Time:                                   14:47:02   BIC                          12977.678\n",
      "Sample:                               11-23-2013   HQIC                         12904.333\n",
      "                                    - 08-09-2014                                         \n",
      "Covariance Type:                             opg                                         \n",
      "==============================================================================\n",
      "                 coef    std err          z      P>|z|      [0.025      0.975]\n",
      "------------------------------------------------------------------------------\n",
      "feat_0        -0.0984      0.141     -0.696      0.487      -0.376       0.179\n",
      "feat_1         1.2180      0.033     37.375      0.000       1.154       1.282\n",
      "feat_2        -0.0130      0.072     -0.179      0.858      -0.155       0.129\n",
      "feat_3         1.0024      0.229      4.368      0.000       0.553       1.452\n",
      "feat_4        -2.4535      0.432     -5.678      0.000      -3.300      -1.607\n",
      "feat_5         3.3092      0.408      8.117      0.000       2.510       4.108\n",
      "feat_6         1.1129      0.118      9.434      0.000       0.882       1.344\n",
      "feat_7         0.3950      0.049      8.110      0.000       0.300       0.491\n",
      "feat_8         0.3097      0.096      3.212      0.001       0.121       0.499\n",
      "ar.L1         -1.0332      2.562     -0.403      0.687      -6.054       3.987\n",
      "ar.L2         -0.1862      1.966     -0.095      0.925      -4.040       3.668\n",
      "ma.L1          0.3334      0.278      1.200      0.230      -0.211       0.878\n",
      "ma.L2         -0.8883      0.270     -3.293      0.001      -1.417      -0.360\n",
      "ma.L3         -0.4451      0.258     -1.728      0.084      -0.950       0.060\n",
      "ar.S.L1        0.5286      2.776      0.190      0.849      -4.913       5.970\n",
      "ar.S.L2        0.0946      2.220      0.043      0.966      -4.256       4.445\n",
      "ar.S.L3       -0.0424      0.358     -0.118      0.906      -0.745       0.660\n",
      "ma.S.L1       -0.9292      0.010    -93.820      0.000      -0.949      -0.910\n",
      "sigma2         3.8606      0.759      5.083      0.000       2.372       5.349\n",
      "===================================================================================\n",
      "Ljung-Box (Q):                       98.99   Jarque-Bera (JB):             76723.66\n",
      "Prob(Q):                              0.00   Prob(JB):                         0.00\n",
      "Heteroskedasticity (H):               0.88   Skew:                             1.54\n",
      "Prob(H) (two-sided):                  0.04   Kurtosis:                        27.37\n",
      "===================================================================================\n",
      "\n",
      "Warnings:\n",
      "[1] Covariance matrix calculated using the outer product of gradients (complex-step).\n"
     ]
    }
   ],
   "source": [
    "print(res.summary())"
   ]
  },
  {
   "cell_type": "code",
   "execution_count": 469,
   "metadata": {
    "collapsed": true
   },
   "outputs": [],
   "source": [
    "sm.tsa.SARIMAX?"
   ]
  },
  {
   "cell_type": "code",
   "execution_count": 437,
   "metadata": {
    "collapsed": true
   },
   "outputs": [],
   "source": [
    "sm.tsa.SARIMAX?"
   ]
  },
  {
   "cell_type": "code",
   "execution_count": 435,
   "metadata": {
    "collapsed": false
   },
   "outputs": [
    {
     "name": "stderr",
     "output_type": "stream",
     "text": [
      "\r",
      "  0%|          | 0/3 [00:00<?, ?it/s]"
     ]
    },
    {
     "name": "stdout",
     "output_type": "stream",
     "text": [
      "Le train is composed by 1 group and 3058 observation\n",
      "Le test is composed by 1 group and 1020 observation\n",
      "                           Statespace Model Results                           \n",
      "==============================================================================\n",
      "Dep. Variable:             feat_yield   No. Observations:                 3058\n",
      "Model:               SARIMAX(0, 1, 1)   Log Likelihood               -6608.933\n",
      "Date:                Thu, 07 Apr 2016   AIC                          13239.866\n",
      "Time:                        14:03:30   BIC                          13306.147\n",
      "Sample:                    11-23-2013   HQIC                         13263.684\n",
      "                         - 08-09-2014                                         \n",
      "Covariance Type:                  opg                                         \n",
      "==============================================================================\n",
      "                 coef    std err          z      P>|z|      [0.025      0.975]\n",
      "------------------------------------------------------------------------------\n",
      "feat_0        -0.1855      0.143     -1.299      0.194      -0.465       0.094\n",
      "feat_1         1.2447      0.029     42.671      0.000       1.188       1.302\n",
      "feat_2        -0.0133      0.073     -0.181      0.857      -0.157       0.131\n",
      "feat_3         1.0986      0.269      4.078      0.000       0.571       1.627\n",
      "feat_4        -3.0076      0.447     -6.729      0.000      -3.884      -2.132\n",
      "feat_5         3.7381      0.411      9.096      0.000       2.933       4.544\n",
      "feat_6         1.2017      0.115     10.467      0.000       0.977       1.427\n",
      "feat_7         0.4254      0.050      8.429      0.000       0.326       0.524\n",
      "feat_8         0.1873      0.109      1.715      0.086      -0.027       0.401\n",
      "ma.L1         -0.0223      0.008     -2.969      0.003      -0.037      -0.008\n",
      "sigma2         4.4191      0.042    105.708      0.000       4.337       4.501\n",
      "===================================================================================\n",
      "Ljung-Box (Q):                      279.98   Jarque-Bera (JB):             81898.99\n",
      "Prob(Q):                              0.00   Prob(JB):                         0.00\n",
      "Heteroskedasticity (H):               0.94   Skew:                             0.24\n",
      "Prob(H) (two-sided):                  0.35   Kurtosis:                        28.35\n",
      "===================================================================================\n",
      "\n",
      "Warnings:\n",
      "[1] Covariance matrix calculated using the outer product of gradients (complex-step).\n"
     ]
    },
    {
     "name": "stderr",
     "output_type": "stream",
     "text": [
      "\r",
      " 33%|███▎      | 1/3 [00:03<00:06,  3.33s/it]"
     ]
    },
    {
     "name": "stdout",
     "output_type": "stream",
     "text": [
      "Le train is composed by 1 group and 1089 observation\n",
      "Le test is composed by 1 group and 363 observation\n",
      "                           Statespace Model Results                           \n",
      "==============================================================================\n",
      "Dep. Variable:             feat_yield   No. Observations:                 1089\n",
      "Model:               SARIMAX(0, 1, 1)   Log Likelihood               -2295.060\n",
      "Date:                Thu, 07 Apr 2016   AIC                           4612.120\n",
      "Time:                        14:03:33   BIC                           4667.044\n",
      "Sample:                    12-01-2014   HQIC                          4632.908\n",
      "                         - 03-01-2015                                         \n",
      "Covariance Type:                  opg                                         \n",
      "==============================================================================\n",
      "                 coef    std err          z      P>|z|      [0.025      0.975]\n",
      "------------------------------------------------------------------------------\n",
      "feat_0        -0.0057      0.134     -0.043      0.966      -0.269       0.257\n",
      "feat_1         1.6478      0.072     23.020      0.000       1.507       1.788\n",
      "feat_2         1.6688      1.592      1.048      0.295      -1.452       4.790\n",
      "feat_3         1.0396      0.780      1.332      0.183      -0.490       2.569\n",
      "feat_4        -0.2664      0.727     -0.366      0.714      -1.692       1.159\n",
      "feat_5         0.9075      0.701      1.295      0.195      -0.466       2.281\n",
      "feat_6         3.8983     81.089      0.048      0.962    -155.033     162.830\n",
      "feat_7         0.0881      0.091      0.973      0.330      -0.089       0.266\n",
      "feat_8         0.4054      0.597      0.679      0.497      -0.765       1.576\n",
      "ma.L1         -0.1078      0.017     -6.344      0.000      -0.141      -0.074\n",
      "sigma2         3.9788      0.070     56.711      0.000       3.841       4.116\n",
      "===================================================================================\n",
      "Ljung-Box (Q):                      119.51   Jarque-Bera (JB):              7221.38\n",
      "Prob(Q):                              0.00   Prob(JB):                         0.00\n",
      "Heteroskedasticity (H):               1.56   Skew:                            -0.36\n",
      "Prob(H) (two-sided):                  0.00   Kurtosis:                        15.60\n",
      "===================================================================================\n",
      "\n",
      "Warnings:\n",
      "[1] Covariance matrix calculated using the outer product of gradients (complex-step).\n"
     ]
    },
    {
     "name": "stderr",
     "output_type": "stream",
     "text": [
      "\r",
      " 67%|██████▋   | 2/3 [00:05<00:03,  3.09s/it]"
     ]
    },
    {
     "name": "stdout",
     "output_type": "stream",
     "text": [
      "Le train is composed by 1 group and 1385 observation\n",
      "Le test is composed by 1 group and 462 observation\n",
      "                           Statespace Model Results                           \n",
      "==============================================================================\n",
      "Dep. Variable:             feat_yield   No. Observations:                 1385\n",
      "Model:               SARIMAX(0, 1, 1)   Log Likelihood               -2093.254\n",
      "Date:                Thu, 07 Apr 2016   AIC                           4208.508\n",
      "Time:                        14:03:35   BIC                           4266.076\n",
      "Sample:                    08-03-2015   HQIC                          4230.040\n",
      "                         - 11-26-2015                                         \n",
      "Covariance Type:                  opg                                         \n",
      "==============================================================================\n",
      "                 coef    std err          z      P>|z|      [0.025      0.975]\n",
      "------------------------------------------------------------------------------\n",
      "feat_0        -0.2556      0.112     -2.278      0.023      -0.475      -0.036\n",
      "feat_1         0.5697      0.021     27.692      0.000       0.529       0.610\n",
      "feat_2         2.2236      0.307      7.241      0.000       1.622       2.825\n",
      "feat_3         0.5825      0.461      1.265      0.206      -0.320       1.485\n",
      "feat_4        -1.1420      0.421     -2.714      0.007      -1.967      -0.317\n",
      "feat_5         1.2788      0.389      3.288      0.001       0.517       2.041\n",
      "feat_6         0.4870      0.086      5.647      0.000       0.318       0.656\n",
      "feat_7        -0.0438      0.060     -0.727      0.467      -0.162       0.074\n",
      "feat_8         0.2501      0.379      0.659      0.510      -0.493       0.994\n",
      "ma.L1         -0.2143      0.005    -44.053      0.000      -0.224      -0.205\n",
      "sigma2         1.2057      0.014     88.405      0.000       1.179       1.232\n",
      "===================================================================================\n",
      "Ljung-Box (Q):                      204.35   Jarque-Bera (JB):            353683.29\n",
      "Prob(Q):                              0.00   Prob(JB):                         0.00\n",
      "Heteroskedasticity (H):              10.40   Skew:                             2.53\n",
      "Prob(H) (two-sided):                  0.00   Kurtosis:                        81.15\n",
      "===================================================================================\n",
      "\n",
      "Warnings:\n",
      "[1] Covariance matrix calculated using the outer product of gradients (complex-step).\n"
     ]
    },
    {
     "name": "stderr",
     "output_type": "stream",
     "text": []
    },
    {
     "name": "stdout",
     "output_type": "stream",
     "text": [
      "Will write output to ~/Documents/project/competition/fognet/models/bbking/arima/model_0/AR_0_MA_1_D_1/submissions_20160407_140336.csv\n",
      "train summary:\n",
      "    rmse : 1.898\n",
      "    aic : 7353.498\n",
      "    bic : 7413.089\n",
      "    hqic : 7375.544\n",
      "test summary:\n",
      "    rmse : 0.919\n",
      "    aic : 2019.872\n",
      "    bic : 2067.383\n",
      "    hqic : 2038.379\n"
     ]
    }
   ],
   "source": [
    "model.fit()"
   ]
  },
  {
   "cell_type": "markdown",
   "metadata": {},
   "source": [
    "# Implement avec PCA en premier pour voir si ca a de l'effet"
   ]
  },
  {
   "cell_type": "code",
   "execution_count": 355,
   "metadata": {
    "collapsed": false
   },
   "outputs": [
    {
     "name": "stdout",
     "output_type": "stream",
     "text": [
      "{'AR': 0, 'MA': 1, 'D': 1}\n",
      "Loading the prepro pipeline\n",
      "Set up the checkpoints\n"
     ]
    }
   ],
   "source": [
    "from utils.arima_utils import *\n",
    "config = parse_conf_file(os.path.join(root,'model_2','conf_model.json'))\n",
    "model = ArimaModel(config=config)"
   ]
  },
  {
   "cell_type": "code",
   "execution_count": 356,
   "metadata": {
    "collapsed": false
   },
   "outputs": [
    {
     "name": "stderr",
     "output_type": "stream",
     "text": [
      "\r",
      "  0%|          | 0/3 [00:00<?, ?it/s]"
     ]
    },
    {
     "name": "stdout",
     "output_type": "stream",
     "text": [
      "Le train is composed by 1 group and 3058 observation\n",
      "Le test is composed by 1 group and 1020 observation\n",
      "                           Statespace Model Results                           \n",
      "==============================================================================\n",
      "Dep. Variable:             feat_yield   No. Observations:                 3058\n",
      "Model:               SARIMAX(0, 1, 1)   Log Likelihood               -6724.266\n",
      "Date:                Thu, 07 Apr 2016   AIC                          13458.532\n",
      "Time:                        12:20:28   BIC                          13488.659\n",
      "Sample:                    11-23-2013   HQIC                         13469.358\n",
      "                         - 08-09-2014                                         \n",
      "Covariance Type:                  opg                                         \n",
      "==============================================================================\n",
      "                 coef    std err          z      P>|z|      [0.025      0.975]\n",
      "------------------------------------------------------------------------------\n",
      "feat_0         1.5226      0.037     40.638      0.000       1.449       1.596\n",
      "feat_1        -0.1615      0.050     -3.246      0.001      -0.259      -0.064\n",
      "feat_2         0.2111      0.052      4.048      0.000       0.109       0.313\n",
      "ma.L1         -0.0239      0.006     -3.874      0.000      -0.036      -0.012\n",
      "sigma2         4.7653      0.042    112.763      0.000       4.682       4.848\n",
      "===================================================================================\n",
      "Ljung-Box (Q):                      292.23   Jarque-Bera (JB):             96749.56\n",
      "Prob(Q):                              0.00   Prob(JB):                         0.00\n",
      "Heteroskedasticity (H):               1.06   Skew:                             0.06\n",
      "Prob(H) (two-sided):                  0.39   Kurtosis:                        30.56\n",
      "===================================================================================\n",
      "\n",
      "Warnings:\n",
      "[1] Covariance matrix calculated using the outer product of gradients (complex-step).\n"
     ]
    },
    {
     "name": "stderr",
     "output_type": "stream",
     "text": [
      "\r",
      " 33%|███▎      | 1/3 [00:02<00:04,  2.32s/it]"
     ]
    },
    {
     "name": "stdout",
     "output_type": "stream",
     "text": [
      "Le train is composed by 1 group and 1089 observation\n",
      "Le test is composed by 1 group and 363 observation\n",
      "                           Statespace Model Results                           \n",
      "==============================================================================\n",
      "Dep. Variable:             feat_yield   No. Observations:                 1089\n",
      "Model:               SARIMAX(0, 1, 1)   Log Likelihood               -2340.729\n",
      "Date:                Thu, 07 Apr 2016   AIC                           4691.459\n",
      "Time:                        12:20:29   BIC                           4716.424\n",
      "Sample:                    12-01-2014   HQIC                          4700.908\n",
      "                         - 03-01-2015                                         \n",
      "Covariance Type:                  opg                                         \n",
      "==============================================================================\n",
      "                 coef    std err          z      P>|z|      [0.025      0.975]\n",
      "------------------------------------------------------------------------------\n",
      "feat_0         1.5673      0.075     20.774      0.000       1.419       1.715\n",
      "feat_1        -0.2732      0.076     -3.588      0.000      -0.422      -0.124\n",
      "feat_2        -0.3059      0.092     -3.331      0.001      -0.486      -0.126\n",
      "ma.L1         -0.0991      0.014     -7.025      0.000      -0.127      -0.071\n",
      "sigma2         4.3272      0.078     55.355      0.000       4.174       4.480\n",
      "===================================================================================\n",
      "Ljung-Box (Q):                      117.21   Jarque-Bera (JB):              8905.32\n",
      "Prob(Q):                              0.00   Prob(JB):                         0.00\n",
      "Heteroskedasticity (H):               1.37   Skew:                            -0.62\n",
      "Prob(H) (two-sided):                  0.00   Kurtosis:                        16.96\n",
      "===================================================================================\n",
      "\n",
      "Warnings:\n",
      "[1] Covariance matrix calculated using the outer product of gradients (complex-step).\n"
     ]
    },
    {
     "name": "stderr",
     "output_type": "stream",
     "text": [
      "\r",
      " 67%|██████▋   | 2/3 [00:03<00:01,  1.90s/it]"
     ]
    },
    {
     "name": "stdout",
     "output_type": "stream",
     "text": [
      "Le train is composed by 1 group and 1385 observation\n",
      "Le test is composed by 1 group and 462 observation\n",
      "                           Statespace Model Results                           \n",
      "==============================================================================\n",
      "Dep. Variable:             feat_yield   No. Observations:                 1385\n",
      "Model:               SARIMAX(0, 1, 1)   Log Likelihood               -2141.517\n",
      "Date:                Thu, 07 Apr 2016   AIC                           4293.035\n",
      "Time:                        12:20:30   BIC                           4319.202\n",
      "Sample:                    08-03-2015   HQIC                          4302.822\n",
      "                         - 11-26-2015                                         \n",
      "Covariance Type:                  opg                                         \n",
      "==============================================================================\n",
      "                 coef    std err          z      P>|z|      [0.025      0.975]\n",
      "------------------------------------------------------------------------------\n",
      "feat_0         0.4765      0.035     13.640      0.000       0.408       0.545\n",
      "feat_1        -0.1429      0.041     -3.472      0.001      -0.224      -0.062\n",
      "feat_2        -0.1522      0.063     -2.408      0.016      -0.276      -0.028\n",
      "ma.L1         -0.2103      0.004    -55.210      0.000      -0.218      -0.203\n",
      "sigma2         1.2927      0.010    124.181      0.000       1.272       1.313\n",
      "===================================================================================\n",
      "Ljung-Box (Q):                      218.15   Jarque-Bera (JB):            386722.58\n",
      "Prob(Q):                              0.00   Prob(JB):                         0.00\n",
      "Heteroskedasticity (H):               9.87   Skew:                             2.49\n",
      "Prob(H) (two-sided):                  0.00   Kurtosis:                        84.74\n",
      "===================================================================================\n",
      "\n",
      "Warnings:\n",
      "[1] Covariance matrix calculated using the outer product of gradients (complex-step).\n"
     ]
    },
    {
     "name": "stderr",
     "output_type": "stream",
     "text": []
    },
    {
     "name": "stdout",
     "output_type": "stream",
     "text": [
      "Will write output to ~/Documents/project/competition/fognet/models/bbking/arima/model_2/AR_0_MA_1_D_1/submissions_20160407_122031.csv\n",
      "train summary:\n",
      "    rmse : 1.989\n",
      "    aic : 7481.008\n",
      "    bic : 7508.095\n",
      "    hqic : 7491.029\n",
      "test summary:\n",
      "    rmse : 0.949\n",
      "    aic : 2037.312\n",
      "    bic : 2058.908\n",
      "    hqic : 2045.724\n"
     ]
    }
   ],
   "source": [
    "model.fit()"
   ]
  },
  {
   "cell_type": "code",
   "execution_count": null,
   "metadata": {
    "collapsed": true
   },
   "outputs": [],
   "source": [
    "train summary:\n",
    "    rmse : 1.964\n",
    "    aic : 7434.571\n",
    "    bic : 7477.910\n",
    "    hqic : 7450.604\n",
    "test summary:\n",
    "    rmse : 0.998\n",
    "    aic : 2039.104\n",
    "    bic : 2073.657\n",
    "    hqic : 2052.563"
   ]
  },
  {
   "cell_type": "markdown",
   "metadata": {},
   "source": [
    "#  Try only with ARIMA, pas SARIMAX"
   ]
  },
  {
   "cell_type": "markdown",
   "metadata": {},
   "source": [
    "**Rapport**\n"
   ]
  },
  {
   "cell_type": "code",
   "execution_count": 427,
   "metadata": {
    "collapsed": false
   },
   "outputs": [
    {
     "name": "stdout",
     "output_type": "stream",
     "text": [
      "{'AR': 0, 'MA': 1, 'D': 1}\n",
      "Loading the prepro pipeline\n",
      "Set up the checkpoints\n",
      "Set up the checkpoints\n"
     ]
    }
   ],
   "source": [
    "from utils.arima_utils import *\n",
    "config = parse_conf_file(os.path.join(root,'model_0','conf_model.json'))\n",
    "model = ArimaModel(config=config)\n",
    "model.AR = 5\n",
    "model.init_model()"
   ]
  },
  {
   "cell_type": "code",
   "execution_count": 428,
   "metadata": {
    "collapsed": false
   },
   "outputs": [
    {
     "name": "stderr",
     "output_type": "stream",
     "text": [
      "\r",
      "  0%|          | 0/3 [00:00<?, ?it/s]"
     ]
    },
    {
     "name": "stdout",
     "output_type": "stream",
     "text": [
      "Le train is composed by 1 group and 3058 observation\n",
      "Le test is composed by 1 group and 1020 observation\n",
      "                             ARIMA Model Results                              \n",
      "==============================================================================\n",
      "Dep. Variable:           D.feat_yield   No. Observations:                 3057\n",
      "Model:                 ARIMA(5, 1, 1)   Log Likelihood               -6836.561\n",
      "Method:                       css-mle   S.D. of innovations              2.264\n",
      "Date:                Thu, 07 Apr 2016   AIC                          13707.121\n",
      "Time:                        13:59:55   BIC                          13809.550\n",
      "Sample:                    11-23-2013   HQIC                         13743.929\n",
      "                         - 08-09-2014                                         \n",
      "======================================================================================\n",
      "                         coef    std err          z      P>|z|      [0.025      0.975]\n",
      "--------------------------------------------------------------------------------------\n",
      "const                  0.0837      0.032      2.587      0.010       0.020       0.147\n",
      "feat_0                -0.5544      0.128     -4.320      0.000      -0.806      -0.303\n",
      "feat_1                 0.2554      0.050      5.097      0.000       0.157       0.354\n",
      "feat_2                -0.0023      0.016     -0.140      0.888      -0.034       0.030\n",
      "feat_3                 0.0566      0.027      2.080      0.038       0.003       0.110\n",
      "feat_4                -0.7472      0.304     -2.459      0.014      -1.343      -0.152\n",
      "feat_5                 0.7563      0.302      2.503      0.012       0.164       1.348\n",
      "feat_6                 0.4759      0.133      3.566      0.000       0.214       0.737\n",
      "feat_7                 0.0392      0.026      1.513      0.130      -0.012       0.090\n",
      "feat_8                -0.0172      0.030     -0.571      0.568      -0.076       0.042\n",
      "ar.L1.D.feat_yield     0.7193      0.038     18.769      0.000       0.644       0.794\n",
      "ar.L2.D.feat_yield    -0.2414      0.022    -10.849      0.000      -0.285      -0.198\n",
      "ar.L3.D.feat_yield     0.0176      0.024      0.734      0.463      -0.029       0.065\n",
      "ar.L4.D.feat_yield    -0.0573      0.022     -2.564      0.010      -0.101      -0.014\n",
      "ar.L5.D.feat_yield    -0.0721      0.022     -3.334      0.001      -0.114      -0.030\n",
      "ma.L1.D.feat_yield    -0.7356      0.035    -20.837      0.000      -0.805      -0.666\n",
      "                                    Roots                                    \n",
      "=============================================================================\n",
      "                 Real           Imaginary           Modulus         Frequency\n",
      "-----------------------------------------------------------------------------\n",
      "AR.1            1.0890           -0.7219j            1.3066           -0.0932\n",
      "AR.2            1.0890           +0.7219j            1.3066            0.0932\n",
      "AR.3           -0.2502           -1.7957j            1.8130           -0.2720\n",
      "AR.4           -0.2502           +1.7957j            1.8130            0.2720\n",
      "AR.5           -2.4729           -0.0000j            2.4729           -0.5000\n",
      "MA.1            1.3594           +0.0000j            1.3594            0.0000\n",
      "-----------------------------------------------------------------------------\n"
     ]
    },
    {
     "ename": "AttributeError",
     "evalue": "'ARIMA' object has no attribute 'filter'",
     "output_type": "error",
     "traceback": [
      "\u001b[0;31m---------------------------------------------------------------------------\u001b[0m",
      "\u001b[0;31mAttributeError\u001b[0m                            Traceback (most recent call last)",
      "\u001b[0;32m<ipython-input-428-1938638aa215>\u001b[0m in \u001b[0;36m<module>\u001b[0;34m()\u001b[0m\n\u001b[0;32m----> 1\u001b[0;31m \u001b[0mmodel\u001b[0m\u001b[0;34m.\u001b[0m\u001b[0mfit\u001b[0m\u001b[0;34m(\u001b[0m\u001b[0;34m)\u001b[0m\u001b[0;34m\u001b[0m\u001b[0m\n\u001b[0m",
      "\u001b[0;32m/Users/thorey/Documents/project/competition/fognet/utils/arima_utils.py\u001b[0m in \u001b[0;36mfit\u001b[0;34m(self)\u001b[0m\n\u001b[1;32m    121\u001b[0m         \u001b[0;31m# try:\u001b[0m\u001b[0;34m\u001b[0m\u001b[0;34m\u001b[0m\u001b[0m\n\u001b[1;32m    122\u001b[0m         \u001b[0;32mfor\u001b[0m \u001b[0mname\u001b[0m\u001b[0;34m,\u001b[0m \u001b[0mgp\u001b[0m \u001b[0;32min\u001b[0m \u001b[0mtqdm\u001b[0m\u001b[0;34m(\u001b[0m\u001b[0mdfgroup\u001b[0m\u001b[0;34m,\u001b[0m \u001b[0mtotal\u001b[0m\u001b[0;34m=\u001b[0m\u001b[0mdfgroup\u001b[0m\u001b[0;34m.\u001b[0m\u001b[0mngroups\u001b[0m\u001b[0;34m)\u001b[0m\u001b[0;34m:\u001b[0m\u001b[0;34m\u001b[0m\u001b[0m\n\u001b[0;32m--> 123\u001b[0;31m             \u001b[0mtrains\u001b[0m\u001b[0;34m,\u001b[0m \u001b[0mtests\u001b[0m \u001b[0;34m=\u001b[0m \u001b[0mself\u001b[0m\u001b[0;34m.\u001b[0m\u001b[0mfit_group\u001b[0m\u001b[0;34m(\u001b[0m\u001b[0mgp\u001b[0m\u001b[0;34m)\u001b[0m\u001b[0;34m\u001b[0m\u001b[0m\n\u001b[0m\u001b[1;32m    124\u001b[0m             \u001b[0mtrain_score\u001b[0m\u001b[0;34m.\u001b[0m\u001b[0mappend\u001b[0m\u001b[0;34m(\u001b[0m\u001b[0mtrains\u001b[0m\u001b[0;34m)\u001b[0m\u001b[0;34m\u001b[0m\u001b[0m\n\u001b[1;32m    125\u001b[0m             \u001b[0mtest_score\u001b[0m\u001b[0;34m.\u001b[0m\u001b[0mappend\u001b[0m\u001b[0;34m(\u001b[0m\u001b[0mtests\u001b[0m\u001b[0;34m)\u001b[0m\u001b[0;34m\u001b[0m\u001b[0m\n",
      "\u001b[0;32m/Users/thorey/Documents/project/competition/fognet/utils/arima_utils.py\u001b[0m in \u001b[0;36mfit_group\u001b[0;34m(self, df)\u001b[0m\n\u001b[1;32m    104\u001b[0m         \u001b[0;31m# testing\u001b[0m\u001b[0;34m\u001b[0m\u001b[0;34m\u001b[0m\u001b[0m\n\u001b[1;32m    105\u001b[0m         \u001b[0mtest_model\u001b[0m \u001b[0;34m=\u001b[0m \u001b[0mself\u001b[0m\u001b[0;34m.\u001b[0m\u001b[0mget_model\u001b[0m\u001b[0;34m(\u001b[0m\u001b[0mtest\u001b[0m\u001b[0;34m)\u001b[0m\u001b[0;34m\u001b[0m\u001b[0m\n\u001b[0;32m--> 106\u001b[0;31m         \u001b[0mtest_results\u001b[0m \u001b[0;34m=\u001b[0m \u001b[0mtest_model\u001b[0m\u001b[0;34m.\u001b[0m\u001b[0mfilter\u001b[0m\u001b[0;34m(\u001b[0m\u001b[0mtrain_results\u001b[0m\u001b[0;34m.\u001b[0m\u001b[0mparams\u001b[0m\u001b[0;34m)\u001b[0m\u001b[0;34m\u001b[0m\u001b[0m\n\u001b[0m\u001b[1;32m    107\u001b[0m         \u001b[0mtest\u001b[0m \u001b[0;34m=\u001b[0m \u001b[0mself\u001b[0m\u001b[0;34m.\u001b[0m\u001b[0mmerge_fitted_values\u001b[0m\u001b[0;34m(\u001b[0m\u001b[0mtest\u001b[0m\u001b[0;34m,\u001b[0m \u001b[0mtest_results\u001b[0m\u001b[0;34m)\u001b[0m\u001b[0;34m\u001b[0m\u001b[0m\n\u001b[1;32m    108\u001b[0m         \u001b[0mtest_score\u001b[0m \u001b[0;34m=\u001b[0m \u001b[0mself\u001b[0m\u001b[0;34m.\u001b[0m\u001b[0mget_information_fit\u001b[0m\u001b[0;34m(\u001b[0m\u001b[0mtest\u001b[0m\u001b[0;34m,\u001b[0m \u001b[0mtest_results\u001b[0m\u001b[0;34m)\u001b[0m\u001b[0;34m\u001b[0m\u001b[0m\n",
      "\u001b[0;31mAttributeError\u001b[0m: 'ARIMA' object has no attribute 'filter'"
     ]
    }
   ],
   "source": [
    "model.fit()"
   ]
  },
  {
   "cell_type": "code",
   "execution_count": 429,
   "metadata": {
    "collapsed": false
   },
   "outputs": [],
   "source": [
    "model.which_architecture = 'ARIMA'"
   ]
  },
  {
   "cell_type": "code",
   "execution_count": 430,
   "metadata": {
    "collapsed": false
   },
   "outputs": [
    {
     "name": "stdout",
     "output_type": "stream",
     "text": [
      "Set up the checkpoints\n"
     ]
    }
   ],
   "source": [
    "model.init_model()"
   ]
  },
  {
   "cell_type": "code",
   "execution_count": 433,
   "metadata": {
    "collapsed": true
   },
   "outputs": [],
   "source": [
    "sm.tsa.SARIMAX?"
   ]
  },
  {
   "cell_type": "code",
   "execution_count": 431,
   "metadata": {
    "collapsed": false
   },
   "outputs": [],
   "source": [
    "m = sm.tsa.ARIMA(endog = model.df['feat_yield'],\n",
    "            exog = model.df[model.regressors],\n",
    "            order = model.order)"
   ]
  },
  {
   "cell_type": "code",
   "execution_count": 432,
   "metadata": {
    "collapsed": false
   },
   "outputs": [
    {
     "ename": "AttributeError",
     "evalue": "'ARIMA' object has no attribute 'filter'",
     "output_type": "error",
     "traceback": [
      "\u001b[0;31m---------------------------------------------------------------------------\u001b[0m",
      "\u001b[0;31mAttributeError\u001b[0m                            Traceback (most recent call last)",
      "\u001b[0;32m<ipython-input-432-4d650f2c12ce>\u001b[0m in \u001b[0;36m<module>\u001b[0;34m()\u001b[0m\n\u001b[0;32m----> 1\u001b[0;31m \u001b[0mm\u001b[0m\u001b[0;34m.\u001b[0m\u001b[0mfilter\u001b[0m\u001b[0;34m(\u001b[0m\u001b[0mres\u001b[0m\u001b[0;34m.\u001b[0m\u001b[0mparams\u001b[0m\u001b[0;34m)\u001b[0m\u001b[0;34m\u001b[0m\u001b[0m\n\u001b[0m",
      "\u001b[0;31mAttributeError\u001b[0m: 'ARIMA' object has no attribute 'filter'"
     ]
    }
   ],
   "source": [
    "m.filter(res.params)"
   ]
  },
  {
   "cell_type": "code",
   "execution_count": 190,
   "metadata": {
    "collapsed": false
   },
   "outputs": [],
   "source": [
    "df.join?"
   ]
  },
  {
   "cell_type": "code",
   "execution_count": 182,
   "metadata": {
    "collapsed": false
   },
   "outputs": [
    {
     "data": {
      "text/plain": [
       "(7377, 7377)"
      ]
     },
     "execution_count": 182,
     "metadata": {},
     "output_type": "execute_result"
    }
   ],
   "source": [
    "len(res.fittedvalues),len(model.df)"
   ]
  },
  {
   "cell_type": "markdown",
   "metadata": {},
   "source": [
    "# Does SARIMAX perform the same if we input the nan with time interpolation"
   ]
  },
  {
   "cell_type": "markdown",
   "metadata": {},
   "source": [
    "**Rapport**\n",
    "\n",
    "- Significant improvement in the performance when we use time interpolation for yield\n",
    "- We implement it in the pipeline as a yield arg !"
   ]
  },
  {
   "cell_type": "code",
   "execution_count": 154,
   "metadata": {
    "collapsed": false
   },
   "outputs": [],
   "source": [
    "from utils.arima_utils import *"
   ]
  },
  {
   "cell_type": "code",
   "execution_count": 159,
   "metadata": {
    "collapsed": false
   },
   "outputs": [
    {
     "name": "stdout",
     "output_type": "stream",
     "text": [
      "{'AR': 0, 'MA': 1, 'D': 1}\n",
      "Loading the prepro pipeline\n",
      "Set up the checkpoints\n",
      "Set up the checkpoints\n"
     ]
    }
   ],
   "source": [
    "# On prend le meilleur model pour l'instant\n",
    "config = parse_conf_file(os.path.join(root,'model_0','conf_model.json'))\n",
    "model = ArimaModel(config=config)\n",
    "model.verbose = 0\n",
    "model.Season_AR = 1\n",
    "model.Season_Period = 0\n",
    "model.AR = 3\n",
    "model.Season_MA =0\n",
    "model.MA = 1\n",
    "\n",
    "model.init_model()"
   ]
  },
  {
   "cell_type": "code",
   "execution_count": 160,
   "metadata": {
    "collapsed": false
   },
   "outputs": [
    {
     "data": {
      "text/plain": [
       "(1, 0, 0, 0)"
      ]
     },
     "execution_count": 160,
     "metadata": {},
     "output_type": "execute_result"
    }
   ],
   "source": [
    "model.seasonal_order"
   ]
  },
  {
   "cell_type": "code",
   "execution_count": 161,
   "metadata": {
    "collapsed": true
   },
   "outputs": [
    {
     "name": "stderr",
     "output_type": "stream",
     "text": [
      "\r",
      "  0%|          | 0/3 [00:00<?, ?it/s]"
     ]
    },
    {
     "name": "stdout",
     "output_type": "stream",
     "text": [
      "Le train is composed by 1 group and 3058 observation\n",
      "Le test is composed by 1 group and 1020 observation\n"
     ]
    },
    {
     "name": "stderr",
     "output_type": "stream",
     "text": [
      "/Users/thorey/miniconda2/envs/fognet/lib/python2.7/site-packages/statsmodels-0.8.0-py2.7-macosx-10.5-x86_64.egg/statsmodels/base/model.py:471: ConvergenceWarning: Maximum Likelihood optimization failed to converge. Check mle_retvals\n",
      "  \"Check mle_retvals\", ConvergenceWarning)\n",
      " 33%|███▎      | 1/3 [00:15<00:30, 15.24s/it]"
     ]
    },
    {
     "name": "stdout",
     "output_type": "stream",
     "text": [
      "Le train is composed by 1 group and 1089 observation\n",
      "Le test is composed by 1 group and 363 observation\n"
     ]
    },
    {
     "name": "stderr",
     "output_type": "stream",
     "text": [
      "/Users/thorey/miniconda2/envs/fognet/lib/python2.7/site-packages/statsmodels-0.8.0-py2.7-macosx-10.5-x86_64.egg/statsmodels/base/model.py:471: ConvergenceWarning: Maximum Likelihood optimization failed to converge. Check mle_retvals\n",
      "  \"Check mle_retvals\", ConvergenceWarning)\n",
      " 67%|██████▋   | 2/3 [00:21<00:12, 12.55s/it]"
     ]
    },
    {
     "name": "stdout",
     "output_type": "stream",
     "text": [
      "Le train is composed by 1 group and 1385 observation\n",
      "Le test is composed by 1 group and 462 observation\n"
     ]
    },
    {
     "name": "stderr",
     "output_type": "stream",
     "text": [
      "/Users/thorey/miniconda2/envs/fognet/lib/python2.7/site-packages/statsmodels-0.8.0-py2.7-macosx-10.5-x86_64.egg/statsmodels/base/model.py:471: ConvergenceWarning: Maximum Likelihood optimization failed to converge. Check mle_retvals\n",
      "  \"Check mle_retvals\", ConvergenceWarning)\n"
     ]
    },
    {
     "name": "stdout",
     "output_type": "stream",
     "text": [
      "Will write output to ~/Documents/project/competition/fognet/models/bbking/arima/model_0/AR_0_MA_1_D_1/submissions_20160407_103505.csv\n",
      "train summary:\n",
      "    rmse : 1.777\n",
      "    aic : 7131.676\n",
      "    bic : 7212.936\n",
      "    hqic : 7161.739\n",
      "test summary:\n",
      "    rmse : 0.903\n",
      "    aic : 1976.788\n",
      "    bic : 2041.576\n",
      "    hqic : 2002.025\n"
     ]
    }
   ],
   "source": [
    "model.fit()"
   ]
  },
  {
   "cell_type": "code",
   "execution_count": null,
   "metadata": {
    "collapsed": true
   },
   "outputs": [],
   "source": []
  }
 ],
 "metadata": {
  "kernelspec": {
   "display_name": "Python 2",
   "language": "python",
   "name": "python2"
  },
  "language_info": {
   "codemirror_mode": {
    "name": "ipython",
    "version": 2
   },
   "file_extension": ".py",
   "mimetype": "text/x-python",
   "name": "python",
   "nbconvert_exporter": "python",
   "pygments_lexer": "ipython2",
   "version": "2.7.11"
  },
  "latex_envs": {
   "bibliofile": "biblio.bib",
   "cite_by": "apalike",
   "current_citInitial": 1,
   "eqLabelWithNumbers": true,
   "eqNumInitial": 0
  }
 },
 "nbformat": 4,
 "nbformat_minor": 0
}

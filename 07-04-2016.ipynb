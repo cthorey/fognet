{
 "cells": [
  {
   "cell_type": "code",
   "execution_count": 4,
   "metadata": {
    "collapsed": false
   },
   "outputs": [
    {
     "name": "stdout",
     "output_type": "stream",
     "text": [
      "The autoreload extension is already loaded. To reload it, use:\n",
      "  %reload_ext autoreload\n"
     ]
    }
   ],
   "source": [
    "%load_ext autoreload\n",
    "%autoreload 2\n",
    "from utils.arima_utils import *\n",
    "from utils.helper import *\n",
    "import seaborn as sns\n",
    "import matplotlib.pylab as plt"
   ]
  },
  {
   "cell_type": "code",
   "execution_count": 222,
   "metadata": {
    "collapsed": true
   },
   "outputs": [],
   "source": [
    "from utils import pipe_def_arima"
   ]
  },
  {
   "cell_type": "code",
   "execution_count": 5,
   "metadata": {
    "collapsed": true
   },
   "outputs": [],
   "source": [
    "root = '/Users/thorey/Documents/project/competition/fognet/models/bbking/arima/'"
   ]
  },
  {
   "cell_type": "markdown",
   "metadata": {},
   "source": [
    "# TODO LIST\n",
    "\n",
    "## TO-DO\n",
    "2. Implement random sampling feature space\n",
    "5. TODO VARMAX model avec micro data et x exodata\n",
    "\n",
    "## DONE\n",
    "\n",
    "4. TODO DOES SARIMAX perform the same if we input the nan with time interpolation ?\n",
    "\n",
    "    - **Rapport**\n",
    "\n",
    "        - Significant improvement in the performance when we use time interpolation for yield\n",
    "        - We implement it in the pipeline as a yield arg !\n",
    "        \n",
    "3. Try only with ARIMA, pas SARIMAX\n",
    "    - ** Rapport **\n",
    "        - implementer - self.which_architecture\n",
    "        \n",
    "6. Essayer d'enlever le Standard scaler\n",
    "    - ** Rapport **\n",
    "        - Ca ne change rien\n",
    "        \n",
    "2. Implement avec PCA en premier pour voir si ca a de l'effet\n",
    "    - ** Rapport **\n",
    "        - Oui ca a de l'effet, implementer !"
   ]
  },
  {
   "cell_type": "markdown",
   "metadata": {},
   "source": [
    "# Implement avec PCA en premier pour voir si ca a de l'effet"
   ]
  },
  {
   "cell_type": "code",
   "execution_count": 355,
   "metadata": {
    "collapsed": false
   },
   "outputs": [
    {
     "name": "stdout",
     "output_type": "stream",
     "text": [
      "{'AR': 0, 'MA': 1, 'D': 1}\n",
      "Loading the prepro pipeline\n",
      "Set up the checkpoints\n"
     ]
    }
   ],
   "source": [
    "from utils.arima_utils import *\n",
    "config = parse_conf_file(os.path.join(root,'model_2','conf_model.json'))\n",
    "model = ArimaModel(config=config)"
   ]
  },
  {
   "cell_type": "code",
   "execution_count": 356,
   "metadata": {
    "collapsed": false
   },
   "outputs": [
    {
     "name": "stderr",
     "output_type": "stream",
     "text": [
      "\r",
      "  0%|          | 0/3 [00:00<?, ?it/s]"
     ]
    },
    {
     "name": "stdout",
     "output_type": "stream",
     "text": [
      "Le train is composed by 1 group and 3058 observation\n",
      "Le test is composed by 1 group and 1020 observation\n",
      "                           Statespace Model Results                           \n",
      "==============================================================================\n",
      "Dep. Variable:             feat_yield   No. Observations:                 3058\n",
      "Model:               SARIMAX(0, 1, 1)   Log Likelihood               -6724.266\n",
      "Date:                Thu, 07 Apr 2016   AIC                          13458.532\n",
      "Time:                        12:20:28   BIC                          13488.659\n",
      "Sample:                    11-23-2013   HQIC                         13469.358\n",
      "                         - 08-09-2014                                         \n",
      "Covariance Type:                  opg                                         \n",
      "==============================================================================\n",
      "                 coef    std err          z      P>|z|      [0.025      0.975]\n",
      "------------------------------------------------------------------------------\n",
      "feat_0         1.5226      0.037     40.638      0.000       1.449       1.596\n",
      "feat_1        -0.1615      0.050     -3.246      0.001      -0.259      -0.064\n",
      "feat_2         0.2111      0.052      4.048      0.000       0.109       0.313\n",
      "ma.L1         -0.0239      0.006     -3.874      0.000      -0.036      -0.012\n",
      "sigma2         4.7653      0.042    112.763      0.000       4.682       4.848\n",
      "===================================================================================\n",
      "Ljung-Box (Q):                      292.23   Jarque-Bera (JB):             96749.56\n",
      "Prob(Q):                              0.00   Prob(JB):                         0.00\n",
      "Heteroskedasticity (H):               1.06   Skew:                             0.06\n",
      "Prob(H) (two-sided):                  0.39   Kurtosis:                        30.56\n",
      "===================================================================================\n",
      "\n",
      "Warnings:\n",
      "[1] Covariance matrix calculated using the outer product of gradients (complex-step).\n"
     ]
    },
    {
     "name": "stderr",
     "output_type": "stream",
     "text": [
      "\r",
      " 33%|███▎      | 1/3 [00:02<00:04,  2.32s/it]"
     ]
    },
    {
     "name": "stdout",
     "output_type": "stream",
     "text": [
      "Le train is composed by 1 group and 1089 observation\n",
      "Le test is composed by 1 group and 363 observation\n",
      "                           Statespace Model Results                           \n",
      "==============================================================================\n",
      "Dep. Variable:             feat_yield   No. Observations:                 1089\n",
      "Model:               SARIMAX(0, 1, 1)   Log Likelihood               -2340.729\n",
      "Date:                Thu, 07 Apr 2016   AIC                           4691.459\n",
      "Time:                        12:20:29   BIC                           4716.424\n",
      "Sample:                    12-01-2014   HQIC                          4700.908\n",
      "                         - 03-01-2015                                         \n",
      "Covariance Type:                  opg                                         \n",
      "==============================================================================\n",
      "                 coef    std err          z      P>|z|      [0.025      0.975]\n",
      "------------------------------------------------------------------------------\n",
      "feat_0         1.5673      0.075     20.774      0.000       1.419       1.715\n",
      "feat_1        -0.2732      0.076     -3.588      0.000      -0.422      -0.124\n",
      "feat_2        -0.3059      0.092     -3.331      0.001      -0.486      -0.126\n",
      "ma.L1         -0.0991      0.014     -7.025      0.000      -0.127      -0.071\n",
      "sigma2         4.3272      0.078     55.355      0.000       4.174       4.480\n",
      "===================================================================================\n",
      "Ljung-Box (Q):                      117.21   Jarque-Bera (JB):              8905.32\n",
      "Prob(Q):                              0.00   Prob(JB):                         0.00\n",
      "Heteroskedasticity (H):               1.37   Skew:                            -0.62\n",
      "Prob(H) (two-sided):                  0.00   Kurtosis:                        16.96\n",
      "===================================================================================\n",
      "\n",
      "Warnings:\n",
      "[1] Covariance matrix calculated using the outer product of gradients (complex-step).\n"
     ]
    },
    {
     "name": "stderr",
     "output_type": "stream",
     "text": [
      "\r",
      " 67%|██████▋   | 2/3 [00:03<00:01,  1.90s/it]"
     ]
    },
    {
     "name": "stdout",
     "output_type": "stream",
     "text": [
      "Le train is composed by 1 group and 1385 observation\n",
      "Le test is composed by 1 group and 462 observation\n",
      "                           Statespace Model Results                           \n",
      "==============================================================================\n",
      "Dep. Variable:             feat_yield   No. Observations:                 1385\n",
      "Model:               SARIMAX(0, 1, 1)   Log Likelihood               -2141.517\n",
      "Date:                Thu, 07 Apr 2016   AIC                           4293.035\n",
      "Time:                        12:20:30   BIC                           4319.202\n",
      "Sample:                    08-03-2015   HQIC                          4302.822\n",
      "                         - 11-26-2015                                         \n",
      "Covariance Type:                  opg                                         \n",
      "==============================================================================\n",
      "                 coef    std err          z      P>|z|      [0.025      0.975]\n",
      "------------------------------------------------------------------------------\n",
      "feat_0         0.4765      0.035     13.640      0.000       0.408       0.545\n",
      "feat_1        -0.1429      0.041     -3.472      0.001      -0.224      -0.062\n",
      "feat_2        -0.1522      0.063     -2.408      0.016      -0.276      -0.028\n",
      "ma.L1         -0.2103      0.004    -55.210      0.000      -0.218      -0.203\n",
      "sigma2         1.2927      0.010    124.181      0.000       1.272       1.313\n",
      "===================================================================================\n",
      "Ljung-Box (Q):                      218.15   Jarque-Bera (JB):            386722.58\n",
      "Prob(Q):                              0.00   Prob(JB):                         0.00\n",
      "Heteroskedasticity (H):               9.87   Skew:                             2.49\n",
      "Prob(H) (two-sided):                  0.00   Kurtosis:                        84.74\n",
      "===================================================================================\n",
      "\n",
      "Warnings:\n",
      "[1] Covariance matrix calculated using the outer product of gradients (complex-step).\n"
     ]
    },
    {
     "name": "stderr",
     "output_type": "stream",
     "text": []
    },
    {
     "name": "stdout",
     "output_type": "stream",
     "text": [
      "Will write output to ~/Documents/project/competition/fognet/models/bbking/arima/model_2/AR_0_MA_1_D_1/submissions_20160407_122031.csv\n",
      "train summary:\n",
      "    rmse : 1.989\n",
      "    aic : 7481.008\n",
      "    bic : 7508.095\n",
      "    hqic : 7491.029\n",
      "test summary:\n",
      "    rmse : 0.949\n",
      "    aic : 2037.312\n",
      "    bic : 2058.908\n",
      "    hqic : 2045.724\n"
     ]
    }
   ],
   "source": [
    "model.fit()"
   ]
  },
  {
   "cell_type": "code",
   "execution_count": null,
   "metadata": {
    "collapsed": true
   },
   "outputs": [],
   "source": [
    "train summary:\n",
    "    rmse : 1.964\n",
    "    aic : 7434.571\n",
    "    bic : 7477.910\n",
    "    hqic : 7450.604\n",
    "test summary:\n",
    "    rmse : 0.998\n",
    "    aic : 2039.104\n",
    "    bic : 2073.657\n",
    "    hqic : 2052.563"
   ]
  },
  {
   "cell_type": "markdown",
   "metadata": {},
   "source": [
    "#  Try only with ARIMA, pas SARIMAX"
   ]
  },
  {
   "cell_type": "markdown",
   "metadata": {},
   "source": [
    "**Rapport**\n"
   ]
  },
  {
   "cell_type": "code",
   "execution_count": 205,
   "metadata": {
    "collapsed": false
   },
   "outputs": [
    {
     "name": "stdout",
     "output_type": "stream",
     "text": [
      "{'AR': 0, 'MA': 1, 'D': 1}\n",
      "Loading the prepro pipeline\n",
      "Set up the checkpoints\n",
      "Set up the checkpoints\n"
     ]
    }
   ],
   "source": [
    "from utils.arima_utils import *\n",
    "config = parse_conf_file(os.path.join(root,'model_0','conf_model.json'))\n",
    "model = ArimaModel(config=config)\n",
    "model.AR = 5\n",
    "model.init_model()"
   ]
  },
  {
   "cell_type": "code",
   "execution_count": 206,
   "metadata": {
    "collapsed": true
   },
   "outputs": [
    {
     "name": "stderr",
     "output_type": "stream",
     "text": [
      "\r",
      "  0%|          | 0/3 [00:00<?, ?it/s]"
     ]
    },
    {
     "name": "stdout",
     "output_type": "stream",
     "text": [
      "Le train is composed by 1 group and 3058 observation\n",
      "Le test is composed by 1 group and 1020 observation\n",
      "                           Statespace Model Results                           \n",
      "==============================================================================\n",
      "Dep. Variable:             feat_yield   No. Observations:                 3058\n",
      "Model:               SARIMAX(5, 1, 1)   Log Likelihood               -6412.491\n",
      "Date:                Thu, 07 Apr 2016   AIC                          12856.982\n",
      "Time:                        11:14:38   BIC                          12953.390\n",
      "Sample:                    11-23-2013   HQIC                         12891.626\n",
      "                         - 08-09-2014                                         \n",
      "Covariance Type:                  opg                                         \n",
      "==============================================================================\n",
      "                 coef    std err          z      P>|z|      [0.025      0.975]\n",
      "------------------------------------------------------------------------------\n",
      "feat_0        -0.1768      0.147     -1.206      0.228      -0.464       0.111\n",
      "feat_1         1.2381      0.032     38.462      0.000       1.175       1.301\n",
      "feat_2        -0.0336      0.078     -0.430      0.667      -0.187       0.120\n",
      "feat_3         0.6598      0.233      2.836      0.005       0.204       1.116\n",
      "feat_4        -2.6999      0.429     -6.297      0.000      -3.540      -1.860\n",
      "feat_5         3.5196      0.405      8.696      0.000       2.726       4.313\n",
      "feat_6         1.2459      0.119     10.459      0.000       1.012       1.479\n",
      "feat_7         0.4034      0.049      8.220      0.000       0.307       0.500\n",
      "feat_8         0.1721      0.099      1.742      0.082      -0.022       0.366\n",
      "ar.L1          0.8668      0.009    101.758      0.000       0.850       0.883\n",
      "ar.L2         -0.1851      0.011    -17.400      0.000      -0.206      -0.164\n",
      "ar.L3          0.0817      0.013      6.381      0.000       0.057       0.107\n",
      "ar.L4         -0.0203      0.013     -1.557      0.120      -0.046       0.005\n",
      "ar.L5          0.0532      0.011      4.687      0.000       0.031       0.076\n",
      "ma.L1         -0.9911      0.002   -404.797      0.000      -0.996      -0.986\n",
      "sigma2         3.8836      0.038    101.044      0.000       3.808       3.959\n",
      "===================================================================================\n",
      "Ljung-Box (Q):                      112.05   Jarque-Bera (JB):             79104.80\n",
      "Prob(Q):                              0.00   Prob(JB):                         0.00\n",
      "Heteroskedasticity (H):               0.91   Skew:                             1.78\n",
      "Prob(H) (two-sided):                  0.15   Kurtosis:                        27.66\n",
      "===================================================================================\n",
      "\n",
      "Warnings:\n",
      "[1] Covariance matrix calculated using the outer product of gradients (complex-step).\n"
     ]
    },
    {
     "name": "stderr",
     "output_type": "stream",
     "text": [
      "\r",
      " 33%|███▎      | 1/3 [00:14<00:29, 14.56s/it]"
     ]
    },
    {
     "name": "stdout",
     "output_type": "stream",
     "text": [
      "Le train is composed by 1 group and 1089 observation\n",
      "Le test is composed by 1 group and 363 observation\n"
     ]
    },
    {
     "name": "stderr",
     "output_type": "stream",
     "text": [
      "/Users/thorey/miniconda2/envs/fognet/lib/python2.7/site-packages/statsmodels-0.8.0-py2.7-macosx-10.5-x86_64.egg/statsmodels/base/model.py:471: ConvergenceWarning: Maximum Likelihood optimization failed to converge. Check mle_retvals\n",
      "  \"Check mle_retvals\", ConvergenceWarning)\n"
     ]
    },
    {
     "name": "stdout",
     "output_type": "stream",
     "text": [
      "                           Statespace Model Results                           \n",
      "==============================================================================\n",
      "Dep. Variable:             feat_yield   No. Observations:                 1089\n",
      "Model:               SARIMAX(5, 1, 1)   Log Likelihood               -2230.899\n",
      "Date:                Thu, 07 Apr 2016   AIC                           4493.797\n",
      "Time:                        11:14:44   BIC                           4573.686\n",
      "Sample:                    12-01-2014   HQIC                          4524.035\n",
      "                         - 03-01-2015                                         \n",
      "Covariance Type:                  opg                                         \n",
      "==============================================================================\n",
      "                 coef    std err          z      P>|z|      [0.025      0.975]\n",
      "------------------------------------------------------------------------------\n",
      "feat_0         0.0741      0.139      0.533      0.594      -0.199       0.347\n",
      "feat_1         1.6383      0.082     19.890      0.000       1.477       1.800\n",
      "feat_2         1.5998      1.718      0.931      0.352      -1.767       4.967\n",
      "feat_3         1.2288      0.720      1.707      0.088      -0.182       2.640\n",
      "feat_4        -0.0517      0.720     -0.072      0.943      -1.464       1.360\n",
      "feat_5         0.7528      0.694      1.084      0.278      -0.608       2.114\n",
      "feat_6         2.3786      9.615      0.247      0.805     -16.467      21.224\n",
      "feat_7         0.1349      0.099      1.366      0.172      -0.059       0.328\n",
      "feat_8         0.7058      0.525      1.344      0.179      -0.324       1.735\n",
      "ar.L1          0.7827      0.019     41.268      0.000       0.745       0.820\n",
      "ar.L2         -0.0526      0.020     -2.573      0.010      -0.093      -0.013\n",
      "ar.L3         -0.0301      0.021     -1.459      0.145      -0.071       0.010\n",
      "ar.L4          0.0020      0.024      0.081      0.935      -0.045       0.049\n",
      "ar.L5          0.0531      0.017      3.131      0.002       0.020       0.086\n",
      "ma.L1         -0.9853      0.007   -150.860      0.000      -0.998      -0.972\n",
      "sigma2         3.5307      0.069     50.988      0.000       3.395       3.666\n",
      "===================================================================================\n",
      "Ljung-Box (Q):                       56.92   Jarque-Bera (JB):              7126.94\n",
      "Prob(Q):                              0.04   Prob(JB):                         0.00\n",
      "Heteroskedasticity (H):               1.65   Skew:                             0.66\n",
      "Prob(H) (two-sided):                  0.00   Kurtosis:                        15.47\n",
      "===================================================================================\n",
      "\n",
      "Warnings:\n",
      "[1] Covariance matrix calculated using the outer product of gradients (complex-step).\n"
     ]
    },
    {
     "name": "stderr",
     "output_type": "stream",
     "text": [
      "\r",
      " 67%|██████▋   | 2/3 [00:20<00:12, 12.09s/it]"
     ]
    },
    {
     "name": "stdout",
     "output_type": "stream",
     "text": [
      "Le train is composed by 1 group and 1385 observation\n",
      "Le test is composed by 1 group and 462 observation\n",
      "                           Statespace Model Results                           \n",
      "==============================================================================\n",
      "Dep. Variable:             feat_yield   No. Observations:                 1385\n",
      "Model:               SARIMAX(5, 1, 1)   Log Likelihood               -1999.619\n",
      "Date:                Thu, 07 Apr 2016   AIC                           4031.238\n",
      "Time:                        11:14:50   BIC                           4114.973\n",
      "Sample:                    08-03-2015   HQIC                          4062.557\n",
      "                         - 11-26-2015                                         \n",
      "Covariance Type:                  opg                                         \n",
      "==============================================================================\n",
      "                 coef    std err          z      P>|z|      [0.025      0.975]\n",
      "------------------------------------------------------------------------------\n",
      "feat_0        -0.1840      0.120     -1.532      0.125      -0.419       0.051\n",
      "feat_1         0.5092      0.021     24.230      0.000       0.468       0.550\n",
      "feat_2         2.4338      0.306      7.962      0.000       1.835       3.033\n",
      "feat_3         0.4040      0.428      0.943      0.345      -0.435       1.243\n",
      "feat_4        -0.6842      0.444     -1.541      0.123      -1.554       0.186\n",
      "feat_5         0.8019      0.420      1.911      0.056      -0.020       1.624\n",
      "feat_6         0.4399      0.094      4.679      0.000       0.256       0.624\n",
      "feat_7         0.0097      0.066      0.148      0.882      -0.119       0.139\n",
      "feat_8         0.2965      0.300      0.989      0.323      -0.291       0.884\n",
      "ar.L1          0.7231      0.007    108.658      0.000       0.710       0.736\n",
      "ar.L2          0.0111      0.012      0.912      0.362      -0.013       0.035\n",
      "ar.L3         -0.1183      0.018     -6.548      0.000      -0.154      -0.083\n",
      "ar.L4          0.1813      0.010     17.872      0.000       0.161       0.201\n",
      "ar.L5         -0.0751      0.010     -7.495      0.000      -0.095      -0.055\n",
      "ma.L1         -0.9918      0.004   -223.238      0.000      -1.000      -0.983\n",
      "sigma2         1.0512      0.013     83.582      0.000       1.027       1.076\n",
      "===================================================================================\n",
      "Ljung-Box (Q):                       91.37   Jarque-Bera (JB):            534173.76\n",
      "Prob(Q):                              0.00   Prob(JB):                         0.00\n",
      "Heteroskedasticity (H):               9.95   Skew:                             5.51\n",
      "Prob(H) (two-sided):                  0.00   Kurtosis:                        98.61\n",
      "===================================================================================\n",
      "\n",
      "Warnings:\n",
      "[1] Covariance matrix calculated using the outer product of gradients (complex-step).\n"
     ]
    },
    {
     "name": "stderr",
     "output_type": "stream",
     "text": []
    },
    {
     "name": "stdout",
     "output_type": "stream",
     "text": [
      "Will write output to ~/Documents/project/competition/fognet/models/bbking/arima/model_0/AR_0_MA_1_D_1/submissions_20160407_111450.csv\n",
      "train summary:\n",
      "    rmse : 1.772\n",
      "    aic : 7127.339\n",
      "    bic : 7214.016\n",
      "    hqic : 7159.406\n",
      "test summary:\n",
      "    rmse : 0.908\n",
      "    aic : 1982.381\n",
      "    bic : 2051.488\n",
      "    hqic : 2009.300\n"
     ]
    }
   ],
   "source": [
    "model.fit()"
   ]
  },
  {
   "cell_type": "code",
   "execution_count": 193,
   "metadata": {
    "collapsed": false
   },
   "outputs": [],
   "source": [
    "model.which_architecture = 'ARIMA'"
   ]
  },
  {
   "cell_type": "code",
   "execution_count": 194,
   "metadata": {
    "collapsed": false
   },
   "outputs": [
    {
     "name": "stdout",
     "output_type": "stream",
     "text": [
      "Set up the checkpoints\n"
     ]
    }
   ],
   "source": [
    "model.init_model()"
   ]
  },
  {
   "cell_type": "code",
   "execution_count": 184,
   "metadata": {
    "collapsed": false
   },
   "outputs": [],
   "source": [
    "m = sm.tsa.SARIMAX(endog = model.df['feat_yield'],\n",
    "            exog = model.df[model.regressors],\n",
    "            order = model.order)"
   ]
  },
  {
   "cell_type": "code",
   "execution_count": 191,
   "metadata": {
    "collapsed": false
   },
   "outputs": [
    {
     "data": {
      "text/plain": [
       "<statsmodels.tsa.statespace.sarimax.SARIMAXResultsWrapper at 0x122f0b4d0>"
      ]
     },
     "execution_count": 191,
     "metadata": {},
     "output_type": "execute_result"
    }
   ],
   "source": [
    "m.filter(res.params)"
   ]
  },
  {
   "cell_type": "code",
   "execution_count": 190,
   "metadata": {
    "collapsed": false
   },
   "outputs": [],
   "source": [
    "df.join?"
   ]
  },
  {
   "cell_type": "code",
   "execution_count": 182,
   "metadata": {
    "collapsed": false
   },
   "outputs": [
    {
     "data": {
      "text/plain": [
       "(7377, 7377)"
      ]
     },
     "execution_count": 182,
     "metadata": {},
     "output_type": "execute_result"
    }
   ],
   "source": [
    "len(res.fittedvalues),len(model.df)"
   ]
  },
  {
   "cell_type": "markdown",
   "metadata": {},
   "source": [
    "# Does SARIMAX perform the same if we input the nan with time interpolation"
   ]
  },
  {
   "cell_type": "markdown",
   "metadata": {},
   "source": [
    "**Rapport**\n",
    "\n",
    "- Significant improvement in the performance when we use time interpolation for yield\n",
    "- We implement it in the pipeline as a yield arg !"
   ]
  },
  {
   "cell_type": "code",
   "execution_count": 154,
   "metadata": {
    "collapsed": false
   },
   "outputs": [],
   "source": [
    "from utils.arima_utils import *"
   ]
  },
  {
   "cell_type": "code",
   "execution_count": 159,
   "metadata": {
    "collapsed": false
   },
   "outputs": [
    {
     "name": "stdout",
     "output_type": "stream",
     "text": [
      "{'AR': 0, 'MA': 1, 'D': 1}\n",
      "Loading the prepro pipeline\n",
      "Set up the checkpoints\n",
      "Set up the checkpoints\n"
     ]
    }
   ],
   "source": [
    "# On prend le meilleur model pour l'instant\n",
    "config = parse_conf_file(os.path.join(root,'model_0','conf_model.json'))\n",
    "model = ArimaModel(config=config)\n",
    "model.verbose = 0\n",
    "model.Season_AR = 1\n",
    "model.Season_Period = 0\n",
    "model.AR = 3\n",
    "model.Season_MA =0\n",
    "model.MA = 1\n",
    "\n",
    "model.init_model()"
   ]
  },
  {
   "cell_type": "code",
   "execution_count": 160,
   "metadata": {
    "collapsed": false
   },
   "outputs": [
    {
     "data": {
      "text/plain": [
       "(1, 0, 0, 0)"
      ]
     },
     "execution_count": 160,
     "metadata": {},
     "output_type": "execute_result"
    }
   ],
   "source": [
    "model.seasonal_order"
   ]
  },
  {
   "cell_type": "code",
   "execution_count": 161,
   "metadata": {
    "collapsed": true
   },
   "outputs": [
    {
     "name": "stderr",
     "output_type": "stream",
     "text": [
      "\r",
      "  0%|          | 0/3 [00:00<?, ?it/s]"
     ]
    },
    {
     "name": "stdout",
     "output_type": "stream",
     "text": [
      "Le train is composed by 1 group and 3058 observation\n",
      "Le test is composed by 1 group and 1020 observation\n"
     ]
    },
    {
     "name": "stderr",
     "output_type": "stream",
     "text": [
      "/Users/thorey/miniconda2/envs/fognet/lib/python2.7/site-packages/statsmodels-0.8.0-py2.7-macosx-10.5-x86_64.egg/statsmodels/base/model.py:471: ConvergenceWarning: Maximum Likelihood optimization failed to converge. Check mle_retvals\n",
      "  \"Check mle_retvals\", ConvergenceWarning)\n",
      " 33%|███▎      | 1/3 [00:15<00:30, 15.24s/it]"
     ]
    },
    {
     "name": "stdout",
     "output_type": "stream",
     "text": [
      "Le train is composed by 1 group and 1089 observation\n",
      "Le test is composed by 1 group and 363 observation\n"
     ]
    },
    {
     "name": "stderr",
     "output_type": "stream",
     "text": [
      "/Users/thorey/miniconda2/envs/fognet/lib/python2.7/site-packages/statsmodels-0.8.0-py2.7-macosx-10.5-x86_64.egg/statsmodels/base/model.py:471: ConvergenceWarning: Maximum Likelihood optimization failed to converge. Check mle_retvals\n",
      "  \"Check mle_retvals\", ConvergenceWarning)\n",
      " 67%|██████▋   | 2/3 [00:21<00:12, 12.55s/it]"
     ]
    },
    {
     "name": "stdout",
     "output_type": "stream",
     "text": [
      "Le train is composed by 1 group and 1385 observation\n",
      "Le test is composed by 1 group and 462 observation\n"
     ]
    },
    {
     "name": "stderr",
     "output_type": "stream",
     "text": [
      "/Users/thorey/miniconda2/envs/fognet/lib/python2.7/site-packages/statsmodels-0.8.0-py2.7-macosx-10.5-x86_64.egg/statsmodels/base/model.py:471: ConvergenceWarning: Maximum Likelihood optimization failed to converge. Check mle_retvals\n",
      "  \"Check mle_retvals\", ConvergenceWarning)\n"
     ]
    },
    {
     "name": "stdout",
     "output_type": "stream",
     "text": [
      "Will write output to ~/Documents/project/competition/fognet/models/bbking/arima/model_0/AR_0_MA_1_D_1/submissions_20160407_103505.csv\n",
      "train summary:\n",
      "    rmse : 1.777\n",
      "    aic : 7131.676\n",
      "    bic : 7212.936\n",
      "    hqic : 7161.739\n",
      "test summary:\n",
      "    rmse : 0.903\n",
      "    aic : 1976.788\n",
      "    bic : 2041.576\n",
      "    hqic : 2002.025\n"
     ]
    }
   ],
   "source": [
    "model.fit()"
   ]
  },
  {
   "cell_type": "code",
   "execution_count": null,
   "metadata": {
    "collapsed": true
   },
   "outputs": [],
   "source": []
  }
 ],
 "metadata": {
  "kernelspec": {
   "display_name": "Python 2",
   "language": "python",
   "name": "python2"
  },
  "language_info": {
   "codemirror_mode": {
    "name": "ipython",
    "version": 2
   },
   "file_extension": ".py",
   "mimetype": "text/x-python",
   "name": "python",
   "nbconvert_exporter": "python",
   "pygments_lexer": "ipython2",
   "version": "2.7.11"
  },
  "latex_envs": {
   "bibliofile": "biblio.bib",
   "cite_by": "apalike",
   "current_citInitial": 1,
   "eqLabelWithNumbers": true,
   "eqNumInitial": 0
  }
 },
 "nbformat": 4,
 "nbformat_minor": 0
}

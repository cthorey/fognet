{
 "cells": [
  {
   "cell_type": "code",
   "execution_count": 119,
   "metadata": {
    "collapsed": false
   },
   "outputs": [
    {
     "name": "stdout",
     "output_type": "stream",
     "text": [
      "The autoreload extension is already loaded. To reload it, use:\n",
      "  %reload_ext autoreload\n"
     ]
    }
   ],
   "source": [
    "%load_ext autoreload\n",
    "%autoreload 2\n",
    "from utils.arima_utils import *\n",
    "from utils.helper import *\n",
    "import seaborn as sns\n",
    "import matplotlib.pylab as plt\n",
    "%matplotlib inline"
   ]
  },
  {
   "cell_type": "code",
   "execution_count": 120,
   "metadata": {
    "collapsed": true
   },
   "outputs": [],
   "source": [
    "from utils import pipe_def_arima"
   ]
  },
  {
   "cell_type": "code",
   "execution_count": 121,
   "metadata": {
    "collapsed": true
   },
   "outputs": [],
   "source": [
    "root = '/Users/thorey/Documents/project/competition/fognet/models/bbking/arima/'"
   ]
  },
  {
   "cell_type": "markdown",
   "metadata": {},
   "source": [
    "# TODO LIST\n",
    "\n",
    "## TO-DO\n",
    "2. Implement random sampling feature space\n",
    "\n",
    "5. TODO VARMAX model avec micro data et x exodata\n",
    "\n",
    "## DONE\n",
    "\n",
    "3. Recursive FIT EM-like estiamtion - improve the score a tiny bit !\n",
    "\n",
    "4. TODO DOES SARIMAX perform the same if we input the nan with time interpolation ?\n",
    "\n",
    "    - **Rapport**\n",
    "\n",
    "        - Significant improvement in the performance when we use time interpolation for yield\n",
    "        - We implement it in the pipeline as a yield arg !\n",
    "        \n",
    "3. Try only with ARIMA, pas SARIMAX\n",
    "    - ** Rapport **\n",
    "        - Ne fonctionne pas car n'a pas de possibilite de faire de la bonne forecast. mod.filter pas implementer !\n",
    "        \n",
    "6. Essayer d'enlever le Standard scaler\n",
    "    - ** Rapport **\n",
    "        - Ca ne change rien\n",
    "        \n",
    "2. Implement avec PCA en premier pour voir si ca a de l'effet\n",
    "    - ** Rapport **\n",
    "        - Oui ca a de l'effet, implementer !"
   ]
  },
  {
   "cell_type": "code",
   "execution_count": 180,
   "metadata": {
    "collapsed": false
   },
   "outputs": [
    {
     "name": "stdout",
     "output_type": "stream",
     "text": [
      "Loading the prepro pipeline\n",
      "Set up the checkpoints\n"
     ]
    }
   ],
   "source": [
    "from utils.arima_utils import *\n",
    "config = parse_conf_file(os.path.join(root,'model_0','conf_model.json'))\n",
    "model = ArimaModel(config=config,mode='train')"
   ]
  },
  {
   "cell_type": "code",
   "execution_count": 181,
   "metadata": {
    "collapsed": false
   },
   "outputs": [
    {
     "name": "stdout",
     "output_type": "stream",
     "text": [
      "Le train is composed by 1 group and 3058 observation\n",
      "Le test is composed by 1 group and 1020 observation\n",
      "Le train is composed by 1 group and 1089 observation\n",
      "Le test is composed by 1 group and 363 observation\n"
     ]
    },
    {
     "name": "stderr",
     "output_type": "stream",
     "text": [
      "/Users/thorey/miniconda2/envs/fognet/lib/python2.7/site-packages/statsmodels-0.8.0-py2.7-macosx-10.5-x86_64.egg/statsmodels/base/model.py:471: ConvergenceWarning: Maximum Likelihood optimization failed to converge. Check mle_retvals\n",
      "  \"Check mle_retvals\", ConvergenceWarning)\n"
     ]
    },
    {
     "name": "stdout",
     "output_type": "stream",
     "text": [
      "Le train is composed by 1 group and 1385 observation\n",
      "Le test is composed by 1 group and 462 observation\n"
     ]
    },
    {
     "name": "stderr",
     "output_type": "stream",
     "text": [
      "/Users/thorey/miniconda2/envs/fognet/lib/python2.7/site-packages/statsmodels-0.8.0-py2.7-macosx-10.5-x86_64.egg/statsmodels/base/model.py:471: ConvergenceWarning: Maximum Likelihood optimization failed to converge. Check mle_retvals\n",
      "  \"Check mle_retvals\", ConvergenceWarning)\n"
     ]
    },
    {
     "name": "stdout",
     "output_type": "stream",
     "text": [
      "Le train is composed by 1 group and 3058 observation\n",
      "Le test is composed by 1 group and 1020 observation\n",
      "Le train is composed by 1 group and 1089 observation\n",
      "Le test is composed by 1 group and 363 observation\n",
      "Le train is composed by 1 group and 1385 observation\n",
      "Le test is composed by 1 group and 462 observation\n",
      "train summary:\n",
      "    rmse : 1.825\n",
      "    aic : 7377.840\n",
      "    bic : 7583.698\n",
      "    hqic : 7453.998\n",
      "test summary:\n",
      "    rmse : 0.904\n",
      "    aic : 2084.483\n",
      "    bic : 2248.611\n",
      "    hqic : 2148.414\n"
     ]
    }
   ],
   "source": [
    "model.train()"
   ]
  },
  {
   "cell_type": "code",
   "execution_count": 189,
   "metadata": {
    "collapsed": false
   },
   "outputs": [
    {
     "name": "stdout",
     "output_type": "stream",
     "text": [
      "Loading the prepro pipeline\n",
      "Loading model params for group1 from /Users/thorey/Documents/project/competition/fognet/models/bbking/arima/model_0/AR_0_MA_1_D_1/model_group1.pkl\n",
      "Loading model params for group0 from /Users/thorey/Documents/project/competition/fognet/models/bbking/arima/model_0/AR_0_MA_1_D_1/model_group0.pkl\n",
      "Loading model params for group3 from /Users/thorey/Documents/project/competition/fognet/models/bbking/arima/model_0/AR_0_MA_1_D_1/model_group3.pkl\n"
     ]
    }
   ],
   "source": [
    "from utils.arima_utils import *\n",
    "config = parse_conf_file(os.path.join(os.path.expanduser(model.folder),'conf_model.json'))\n",
    "model_insp = ArimaModel(config=config,mode='inspection')"
   ]
  },
  {
   "cell_type": "code",
   "execution_count": 190,
   "metadata": {
    "collapsed": false
   },
   "outputs": [
    {
     "name": "stdout",
     "output_type": "stream",
     "text": [
      "Le train is composed by 1 group and 3058 observation\n",
      "Le test is composed by 1 group and 1020 observation\n",
      "Le train is composed by 1 group and 1089 observation\n",
      "Le test is composed by 1 group and 363 observation\n",
      "Le train is composed by 1 group and 1385 observation\n",
      "Le test is composed by 1 group and 462 observation\n",
      "train summary:\n",
      "    rmse : 1.825\n",
      "    aic : 7377.840\n",
      "    bic : 7583.698\n",
      "    hqic : 7453.998\n",
      "test summary:\n",
      "    rmse : 0.904\n",
      "    aic : 2084.483\n",
      "    bic : 2248.611\n",
      "    hqic : 2148.414\n"
     ]
    }
   ],
   "source": [
    "model_insp.predict()"
   ]
  },
  {
   "cell_type": "code",
   "execution_count": 191,
   "metadata": {
    "collapsed": false
   },
   "outputs": [
    {
     "data": {
      "text/plain": [
       "<matplotlib.axes._subplots.AxesSubplot at 0x1182f1f50>"
      ]
     },
     "execution_count": 191,
     "metadata": {},
     "output_type": "execute_result"
    },
    {
     "data": {
      "image/png": "[encoded data removed]",
      "text/plain": [
       "<matplotlib.figure.Figure at 0x1222dc810>"
      ]
     },
     "metadata": {},
     "output_type": "display_data"
    }
   ],
   "source": [
    "model_insp.df.yield_pred.plot()"
   ]
  },
  {
   "cell_type": "code",
   "execution_count": 140,
   "metadata": {
    "collapsed": false
   },
   "outputs": [
    {
     "name": "stdout",
     "output_type": "stream",
     "text": [
      "Le train is composed by 1 group and 3058 observation\n",
      "Le test is composed by 1 group and 1020 observation\n"
     ]
    }
   ],
   "source": [
    "df0 = model.dfgroup.get_group('group0')\n",
    "train,test = train_test_split(df0)"
   ]
  },
  {
   "cell_type": "code",
   "execution_count": 153,
   "metadata": {
    "collapsed": false
   },
   "outputs": [
    {
     "data": {
      "text/plain": [
       "[1.2816922748018493,\n",
       " 3837.1136960870235,\n",
       " 4024.3608965255994,\n",
       " 3908.2122551901325,\n",
       " 1020]"
      ]
     },
     "execution_count": 153,
     "metadata": {},
     "output_type": "execute_result"
    }
   ],
   "source": [
    "model.get_scores('group0',test)"
   ]
  },
  {
   "cell_type": "code",
   "execution_count": 156,
   "metadata": {
    "collapsed": true
   },
   "outputs": [],
   "source": [
    "model.update_main_df('group0',gp)"
   ]
  },
  {
   "cell_type": "code",
   "execution_count": 155,
   "metadata": {
    "collapsed": false
   },
   "outputs": [
    {
     "data": {
      "text/html": [
       "<div>\n",
       "<table border=\"1\" class=\"dataframe\">\n",
       "  <thead>\n",
       "    <tr style=\"text-align: right;\">\n",
       "      <th></th>\n",
       "      <th>feat_yield</th>\n",
       "      <th>feat_0</th>\n",
       "      <th>feat_1</th>\n",
       "      <th>feat_2</th>\n",
       "      <th>feat_3</th>\n",
       "      <th>feat_4</th>\n",
       "      <th>feat_5</th>\n",
       "      <th>feat_6</th>\n",
       "      <th>feat_7</th>\n",
       "      <th>feat_8</th>\n",
       "      <th>...</th>\n",
       "      <th>aga_DD</th>\n",
       "      <th>aga_Ff</th>\n",
       "      <th>aga_ff10</th>\n",
       "      <th>aga_WW</th>\n",
       "      <th>aga_W'W'</th>\n",
       "      <th>aga_c</th>\n",
       "      <th>aga_VV</th>\n",
       "      <th>aga_Td</th>\n",
       "      <th>group</th>\n",
       "      <th>yield_pred</th>\n",
       "    </tr>\n",
       "  </thead>\n",
       "  <tbody>\n",
       "    <tr>\n",
       "      <th>2015-08-03 14:00:00</th>\n",
       "      <td>0</td>\n",
       "      <td>1.114465</td>\n",
       "      <td>-0.197217</td>\n",
       "      <td>-0.209284</td>\n",
       "      <td>-0.874422</td>\n",
       "      <td>-0.142061</td>\n",
       "      <td>1.681099</td>\n",
       "      <td>1.002294</td>\n",
       "      <td>0.591712</td>\n",
       "      <td>-0.183449</td>\n",
       "      <td>...</td>\n",
       "      <td>Wind blowing from the west-southwest</td>\n",
       "      <td>6</td>\n",
       "      <td>NaN</td>\n",
       "      <td>NaN</td>\n",
       "      <td>NaN</td>\n",
       "      <td>No Significant Clouds</td>\n",
       "      <td>10.0 and more</td>\n",
       "      <td>17</td>\n",
       "      <td>group3</td>\n",
       "      <td>0</td>\n",
       "    </tr>\n",
       "    <tr>\n",
       "      <th>2015-08-03 16:00:00</th>\n",
       "      <td>0</td>\n",
       "      <td>1.114465</td>\n",
       "      <td>-0.197217</td>\n",
       "      <td>-0.209284</td>\n",
       "      <td>-0.874422</td>\n",
       "      <td>-0.142061</td>\n",
       "      <td>1.681099</td>\n",
       "      <td>1.002294</td>\n",
       "      <td>0.591712</td>\n",
       "      <td>-0.183449</td>\n",
       "      <td>...</td>\n",
       "      <td>Wind blowing from the west-southwest</td>\n",
       "      <td>6</td>\n",
       "      <td>NaN</td>\n",
       "      <td>NaN</td>\n",
       "      <td>NaN</td>\n",
       "      <td>Few clouds (10-30%) 480 m</td>\n",
       "      <td>10.0 and more</td>\n",
       "      <td>16</td>\n",
       "      <td>group3</td>\n",
       "      <td>0</td>\n",
       "    </tr>\n",
       "    <tr>\n",
       "      <th>2015-08-03 18:00:00</th>\n",
       "      <td>0</td>\n",
       "      <td>1.144622</td>\n",
       "      <td>-0.340115</td>\n",
       "      <td>-0.350510</td>\n",
       "      <td>-0.729301</td>\n",
       "      <td>-0.331935</td>\n",
       "      <td>2.275865</td>\n",
       "      <td>1.002294</td>\n",
       "      <td>0.537285</td>\n",
       "      <td>0.344257</td>\n",
       "      <td>...</td>\n",
       "      <td>Wind blowing from the south-southwest</td>\n",
       "      <td>3</td>\n",
       "      <td>NaN</td>\n",
       "      <td>NaN</td>\n",
       "      <td>NaN</td>\n",
       "      <td>No Significant Clouds</td>\n",
       "      <td>10.0 and more</td>\n",
       "      <td>16</td>\n",
       "      <td>group3</td>\n",
       "      <td>0</td>\n",
       "    </tr>\n",
       "    <tr>\n",
       "      <th>2015-08-03 20:00:00</th>\n",
       "      <td>0</td>\n",
       "      <td>1.144622</td>\n",
       "      <td>-0.340115</td>\n",
       "      <td>-0.350510</td>\n",
       "      <td>-0.729301</td>\n",
       "      <td>-0.331935</td>\n",
       "      <td>2.275865</td>\n",
       "      <td>1.002294</td>\n",
       "      <td>0.537285</td>\n",
       "      <td>0.344257</td>\n",
       "      <td>...</td>\n",
       "      <td>Wind blowing from the south</td>\n",
       "      <td>4</td>\n",
       "      <td>NaN</td>\n",
       "      <td>NaN</td>\n",
       "      <td>NaN</td>\n",
       "      <td>No Significant Clouds</td>\n",
       "      <td>10.0 and more</td>\n",
       "      <td>16</td>\n",
       "      <td>group3</td>\n",
       "      <td>0</td>\n",
       "    </tr>\n",
       "    <tr>\n",
       "      <th>2015-08-03 22:00:00</th>\n",
       "      <td>0</td>\n",
       "      <td>1.144622</td>\n",
       "      <td>-0.340115</td>\n",
       "      <td>-0.350510</td>\n",
       "      <td>-0.729301</td>\n",
       "      <td>-0.331935</td>\n",
       "      <td>2.275865</td>\n",
       "      <td>1.002294</td>\n",
       "      <td>0.537285</td>\n",
       "      <td>0.344257</td>\n",
       "      <td>...</td>\n",
       "      <td>Wind blowing from the south</td>\n",
       "      <td>3</td>\n",
       "      <td>NaN</td>\n",
       "      <td>NaN</td>\n",
       "      <td>NaN</td>\n",
       "      <td>No Significant Clouds</td>\n",
       "      <td>10.0 and more</td>\n",
       "      <td>17</td>\n",
       "      <td>group3</td>\n",
       "      <td>0</td>\n",
       "    </tr>\n",
       "    <tr>\n",
       "      <th>2015-08-04 00:00:00</th>\n",
       "      <td>0</td>\n",
       "      <td>1.144622</td>\n",
       "      <td>-0.340115</td>\n",
       "      <td>-0.350510</td>\n",
       "      <td>-0.729301</td>\n",
       "      <td>-0.331935</td>\n",
       "      <td>2.275865</td>\n",
       "      <td>1.002294</td>\n",
       "      <td>0.537285</td>\n",
       "      <td>0.344257</td>\n",
       "      <td>...</td>\n",
       "      <td>Calm, no wind</td>\n",
       "      <td>0</td>\n",
       "      <td>NaN</td>\n",
       "      <td>NaN</td>\n",
       "      <td>NaN</td>\n",
       "      <td>No Significant Clouds</td>\n",
       "      <td>10.0 and more</td>\n",
       "      <td>17</td>\n",
       "      <td>group3</td>\n",
       "      <td>0</td>\n",
       "    </tr>\n",
       "    <tr>\n",
       "      <th>2015-08-04 02:00:00</th>\n",
       "      <td>0</td>\n",
       "      <td>1.144622</td>\n",
       "      <td>-0.340115</td>\n",
       "      <td>-0.350510</td>\n",
       "      <td>-0.729301</td>\n",
       "      <td>-0.331935</td>\n",
       "      <td>2.275865</td>\n",
       "      <td>1.002294</td>\n",
       "      <td>0.537285</td>\n",
       "      <td>0.344257</td>\n",
       "      <td>...</td>\n",
       "      <td>Calm, no wind</td>\n",
       "      <td>0</td>\n",
       "      <td>NaN</td>\n",
       "      <td>NaN</td>\n",
       "      <td>NaN</td>\n",
       "      <td>No Significant Clouds</td>\n",
       "      <td>10.0 and more</td>\n",
       "      <td>16</td>\n",
       "      <td>group3</td>\n",
       "      <td>0</td>\n",
       "    </tr>\n",
       "    <tr>\n",
       "      <th>2015-08-04 04:00:00</th>\n",
       "      <td>0</td>\n",
       "      <td>1.144622</td>\n",
       "      <td>-0.340115</td>\n",
       "      <td>-0.350510</td>\n",
       "      <td>-0.729301</td>\n",
       "      <td>-0.331935</td>\n",
       "      <td>2.275865</td>\n",
       "      <td>1.002294</td>\n",
       "      <td>0.537285</td>\n",
       "      <td>0.344257</td>\n",
       "      <td>...</td>\n",
       "      <td>Wind blowing from the west</td>\n",
       "      <td>1</td>\n",
       "      <td>NaN</td>\n",
       "      <td>NaN</td>\n",
       "      <td>NaN</td>\n",
       "      <td>No Significant Clouds</td>\n",
       "      <td>10.0 and more</td>\n",
       "      <td>16</td>\n",
       "      <td>group3</td>\n",
       "      <td>0</td>\n",
       "    </tr>\n",
       "    <tr>\n",
       "      <th>2015-08-04 06:00:00</th>\n",
       "      <td>0</td>\n",
       "      <td>0.119258</td>\n",
       "      <td>-0.797388</td>\n",
       "      <td>-0.802434</td>\n",
       "      <td>-0.729301</td>\n",
       "      <td>0.933896</td>\n",
       "      <td>-0.103199</td>\n",
       "      <td>0.932732</td>\n",
       "      <td>0.537285</td>\n",
       "      <td>-0.711154</td>\n",
       "      <td>...</td>\n",
       "      <td>Wind blowing from the west</td>\n",
       "      <td>2</td>\n",
       "      <td>NaN</td>\n",
       "      <td>NaN</td>\n",
       "      <td>NaN</td>\n",
       "      <td>Scattered clouds (40-50%) 240 m, broken clouds...</td>\n",
       "      <td>10.0 and more</td>\n",
       "      <td>17</td>\n",
       "      <td>group3</td>\n",
       "      <td>0</td>\n",
       "    </tr>\n",
       "    <tr>\n",
       "      <th>2015-08-04 08:00:00</th>\n",
       "      <td>0</td>\n",
       "      <td>0.179573</td>\n",
       "      <td>-0.683070</td>\n",
       "      <td>-0.689453</td>\n",
       "      <td>0.576784</td>\n",
       "      <td>0.807313</td>\n",
       "      <td>0.491567</td>\n",
       "      <td>0.932732</td>\n",
       "      <td>0.537285</td>\n",
       "      <td>-0.711154</td>\n",
       "      <td>...</td>\n",
       "      <td>Calm, no wind</td>\n",
       "      <td>0</td>\n",
       "      <td>NaN</td>\n",
       "      <td>NaN</td>\n",
       "      <td>NaN</td>\n",
       "      <td>Scattered clouds (40-50%) 240 m, broken clouds...</td>\n",
       "      <td>10.0 and more</td>\n",
       "      <td>18</td>\n",
       "      <td>group3</td>\n",
       "      <td>0</td>\n",
       "    </tr>\n",
       "    <tr>\n",
       "      <th>2015-08-04 10:00:00</th>\n",
       "      <td>0</td>\n",
       "      <td>0.179573</td>\n",
       "      <td>-0.683070</td>\n",
       "      <td>-0.689453</td>\n",
       "      <td>0.576784</td>\n",
       "      <td>0.807313</td>\n",
       "      <td>0.491567</td>\n",
       "      <td>0.932732</td>\n",
       "      <td>0.537285</td>\n",
       "      <td>-0.711154</td>\n",
       "      <td>...</td>\n",
       "      <td>Wind blowing from the west-southwest</td>\n",
       "      <td>2</td>\n",
       "      <td>NaN</td>\n",
       "      <td>NaN</td>\n",
       "      <td>NaN</td>\n",
       "      <td>No Significant Clouds</td>\n",
       "      <td>10.0 and more</td>\n",
       "      <td>17</td>\n",
       "      <td>group3</td>\n",
       "      <td>0</td>\n",
       "    </tr>\n",
       "    <tr>\n",
       "      <th>2015-08-04 12:00:00</th>\n",
       "      <td>0</td>\n",
       "      <td>0.601782</td>\n",
       "      <td>-0.711650</td>\n",
       "      <td>-0.717698</td>\n",
       "      <td>-0.148819</td>\n",
       "      <td>0.427563</td>\n",
       "      <td>1.086333</td>\n",
       "      <td>0.932732</td>\n",
       "      <td>0.537285</td>\n",
       "      <td>-0.711154</td>\n",
       "      <td>...</td>\n",
       "      <td>Wind blowing from the west</td>\n",
       "      <td>3</td>\n",
       "      <td>NaN</td>\n",
       "      <td>NaN</td>\n",
       "      <td>NaN</td>\n",
       "      <td>No Significant Clouds</td>\n",
       "      <td>10.0 and more</td>\n",
       "      <td>17</td>\n",
       "      <td>group3</td>\n",
       "      <td>0</td>\n",
       "    </tr>\n",
       "    <tr>\n",
       "      <th>2015-08-04 14:00:00</th>\n",
       "      <td>0</td>\n",
       "      <td>1.054149</td>\n",
       "      <td>-0.883127</td>\n",
       "      <td>-0.887169</td>\n",
       "      <td>-0.874422</td>\n",
       "      <td>-0.078769</td>\n",
       "      <td>0.491567</td>\n",
       "      <td>0.932732</td>\n",
       "      <td>0.537285</td>\n",
       "      <td>-1.238859</td>\n",
       "      <td>...</td>\n",
       "      <td>Wind blowing from the west</td>\n",
       "      <td>6</td>\n",
       "      <td>NaN</td>\n",
       "      <td>NaN</td>\n",
       "      <td>NaN</td>\n",
       "      <td>No Significant Clouds</td>\n",
       "      <td>10.0 and more</td>\n",
       "      <td>17</td>\n",
       "      <td>group3</td>\n",
       "      <td>0</td>\n",
       "    </tr>\n",
       "    <tr>\n",
       "      <th>2015-08-04 16:00:00</th>\n",
       "      <td>0</td>\n",
       "      <td>1.054149</td>\n",
       "      <td>-0.883127</td>\n",
       "      <td>-0.887169</td>\n",
       "      <td>-0.874422</td>\n",
       "      <td>-0.078769</td>\n",
       "      <td>0.491567</td>\n",
       "      <td>0.932732</td>\n",
       "      <td>0.537285</td>\n",
       "      <td>-1.238859</td>\n",
       "      <td>...</td>\n",
       "      <td>Wind blowing from the west</td>\n",
       "      <td>6</td>\n",
       "      <td>NaN</td>\n",
       "      <td>NaN</td>\n",
       "      <td>NaN</td>\n",
       "      <td>No Significant Clouds</td>\n",
       "      <td>10.0 and more</td>\n",
       "      <td>16</td>\n",
       "      <td>group3</td>\n",
       "      <td>0</td>\n",
       "    </tr>\n",
       "    <tr>\n",
       "      <th>2015-08-04 18:00:00</th>\n",
       "      <td>0</td>\n",
       "      <td>0.692256</td>\n",
       "      <td>-1.026025</td>\n",
       "      <td>-1.028395</td>\n",
       "      <td>-0.729301</td>\n",
       "      <td>0.300980</td>\n",
       "      <td>-0.697965</td>\n",
       "      <td>0.932732</td>\n",
       "      <td>0.455645</td>\n",
       "      <td>-0.711154</td>\n",
       "      <td>...</td>\n",
       "      <td>Wind blowing from the south-southwest</td>\n",
       "      <td>2</td>\n",
       "      <td>NaN</td>\n",
       "      <td>NaN</td>\n",
       "      <td>NaN</td>\n",
       "      <td>No Significant Clouds</td>\n",
       "      <td>10.0 and more</td>\n",
       "      <td>16</td>\n",
       "      <td>group3</td>\n",
       "      <td>0</td>\n",
       "    </tr>\n",
       "    <tr>\n",
       "      <th>2015-08-04 20:00:00</th>\n",
       "      <td>0</td>\n",
       "      <td>0.692256</td>\n",
       "      <td>-1.026025</td>\n",
       "      <td>-1.028395</td>\n",
       "      <td>-0.729301</td>\n",
       "      <td>0.300980</td>\n",
       "      <td>-0.697965</td>\n",
       "      <td>0.932732</td>\n",
       "      <td>0.455645</td>\n",
       "      <td>-0.711154</td>\n",
       "      <td>...</td>\n",
       "      <td>Wind blowing from the south-west</td>\n",
       "      <td>2</td>\n",
       "      <td>NaN</td>\n",
       "      <td>NaN</td>\n",
       "      <td>NaN</td>\n",
       "      <td>No Significant Clouds</td>\n",
       "      <td>10.0 and more</td>\n",
       "      <td>16</td>\n",
       "      <td>group3</td>\n",
       "      <td>0</td>\n",
       "    </tr>\n",
       "    <tr>\n",
       "      <th>2015-08-04 22:00:00</th>\n",
       "      <td>0</td>\n",
       "      <td>0.692256</td>\n",
       "      <td>-1.026025</td>\n",
       "      <td>-1.028395</td>\n",
       "      <td>-0.729301</td>\n",
       "      <td>0.300980</td>\n",
       "      <td>-0.697965</td>\n",
       "      <td>0.932732</td>\n",
       "      <td>0.455645</td>\n",
       "      <td>-0.711154</td>\n",
       "      <td>...</td>\n",
       "      <td>Wind blowing from the west</td>\n",
       "      <td>3</td>\n",
       "      <td>NaN</td>\n",
       "      <td>NaN</td>\n",
       "      <td>NaN</td>\n",
       "      <td>No Significant Clouds</td>\n",
       "      <td>10.0 and more</td>\n",
       "      <td>17</td>\n",
       "      <td>group3</td>\n",
       "      <td>0</td>\n",
       "    </tr>\n",
       "    <tr>\n",
       "      <th>2015-08-05 00:00:00</th>\n",
       "      <td>0</td>\n",
       "      <td>0.692256</td>\n",
       "      <td>-1.026025</td>\n",
       "      <td>-1.028395</td>\n",
       "      <td>-0.729301</td>\n",
       "      <td>0.300980</td>\n",
       "      <td>-0.697965</td>\n",
       "      <td>0.932732</td>\n",
       "      <td>0.455645</td>\n",
       "      <td>-0.711154</td>\n",
       "      <td>...</td>\n",
       "      <td>Wind blowing from the south-west</td>\n",
       "      <td>2</td>\n",
       "      <td>NaN</td>\n",
       "      <td>NaN</td>\n",
       "      <td>NaN</td>\n",
       "      <td>No Significant Clouds</td>\n",
       "      <td>10.0 and more</td>\n",
       "      <td>18</td>\n",
       "      <td>group3</td>\n",
       "      <td>0</td>\n",
       "    </tr>\n",
       "    <tr>\n",
       "      <th>2015-08-05 02:00:00</th>\n",
       "      <td>0</td>\n",
       "      <td>0.692256</td>\n",
       "      <td>-1.026025</td>\n",
       "      <td>-1.028395</td>\n",
       "      <td>-0.729301</td>\n",
       "      <td>0.300980</td>\n",
       "      <td>-0.697965</td>\n",
       "      <td>0.932732</td>\n",
       "      <td>0.455645</td>\n",
       "      <td>-0.711154</td>\n",
       "      <td>...</td>\n",
       "      <td>Calm, no wind</td>\n",
       "      <td>0</td>\n",
       "      <td>NaN</td>\n",
       "      <td>NaN</td>\n",
       "      <td>NaN</td>\n",
       "      <td>Scattered clouds (40-50%) 300 m</td>\n",
       "      <td>10.0 and more</td>\n",
       "      <td>18</td>\n",
       "      <td>group3</td>\n",
       "      <td>0</td>\n",
       "    </tr>\n",
       "    <tr>\n",
       "      <th>2015-08-05 04:00:00</th>\n",
       "      <td>0</td>\n",
       "      <td>0.692256</td>\n",
       "      <td>-1.026025</td>\n",
       "      <td>-1.028395</td>\n",
       "      <td>-0.729301</td>\n",
       "      <td>0.300980</td>\n",
       "      <td>-0.697965</td>\n",
       "      <td>0.932732</td>\n",
       "      <td>0.455645</td>\n",
       "      <td>-0.711154</td>\n",
       "      <td>...</td>\n",
       "      <td>Wind blowing from the south</td>\n",
       "      <td>2</td>\n",
       "      <td>NaN</td>\n",
       "      <td>NaN</td>\n",
       "      <td>NaN</td>\n",
       "      <td>Scattered clouds (40-50%) 300 m</td>\n",
       "      <td>10.0 and more</td>\n",
       "      <td>18</td>\n",
       "      <td>group3</td>\n",
       "      <td>0</td>\n",
       "    </tr>\n",
       "    <tr>\n",
       "      <th>2015-08-05 06:00:00</th>\n",
       "      <td>0</td>\n",
       "      <td>0.209731</td>\n",
       "      <td>-1.311821</td>\n",
       "      <td>-1.310848</td>\n",
       "      <td>-0.729301</td>\n",
       "      <td>0.933896</td>\n",
       "      <td>-0.103199</td>\n",
       "      <td>1.002294</td>\n",
       "      <td>0.455645</td>\n",
       "      <td>-1.238859</td>\n",
       "      <td>...</td>\n",
       "      <td>Wind blowing from the west-southwest</td>\n",
       "      <td>2</td>\n",
       "      <td>NaN</td>\n",
       "      <td>NaN</td>\n",
       "      <td>NaN</td>\n",
       "      <td>Broken clouds (60-90%) 180 m</td>\n",
       "      <td>10.0 and more</td>\n",
       "      <td>18</td>\n",
       "      <td>group3</td>\n",
       "      <td>0</td>\n",
       "    </tr>\n",
       "    <tr>\n",
       "      <th>2015-08-05 08:00:00</th>\n",
       "      <td>0</td>\n",
       "      <td>0.390678</td>\n",
       "      <td>-1.197502</td>\n",
       "      <td>-1.197867</td>\n",
       "      <td>0.576784</td>\n",
       "      <td>0.933896</td>\n",
       "      <td>-0.103199</td>\n",
       "      <td>1.002294</td>\n",
       "      <td>0.455645</td>\n",
       "      <td>-0.711154</td>\n",
       "      <td>...</td>\n",
       "      <td>variable wind direction</td>\n",
       "      <td>1</td>\n",
       "      <td>NaN</td>\n",
       "      <td>NaN</td>\n",
       "      <td>NaN</td>\n",
       "      <td>Broken clouds (60-90%) 120 m</td>\n",
       "      <td>6.0</td>\n",
       "      <td>19</td>\n",
       "      <td>group3</td>\n",
       "      <td>0</td>\n",
       "    </tr>\n",
       "    <tr>\n",
       "      <th>2015-08-05 10:00:00</th>\n",
       "      <td>0</td>\n",
       "      <td>0.390678</td>\n",
       "      <td>-1.197502</td>\n",
       "      <td>-1.197867</td>\n",
       "      <td>0.576784</td>\n",
       "      <td>0.933896</td>\n",
       "      <td>-0.103199</td>\n",
       "      <td>1.002294</td>\n",
       "      <td>0.455645</td>\n",
       "      <td>-0.711154</td>\n",
       "      <td>...</td>\n",
       "      <td>Wind blowing from the north-northeast</td>\n",
       "      <td>2</td>\n",
       "      <td>NaN</td>\n",
       "      <td>NaN</td>\n",
       "      <td>NaN</td>\n",
       "      <td>Few clouds (10-30%) 240 m, scattered clouds (4...</td>\n",
       "      <td>10.0 and more</td>\n",
       "      <td>18</td>\n",
       "      <td>group3</td>\n",
       "      <td>0</td>\n",
       "    </tr>\n",
       "    <tr>\n",
       "      <th>2015-08-05 12:00:00</th>\n",
       "      <td>0</td>\n",
       "      <td>0.752571</td>\n",
       "      <td>-1.226082</td>\n",
       "      <td>-1.226112</td>\n",
       "      <td>-0.148819</td>\n",
       "      <td>0.997188</td>\n",
       "      <td>0.491567</td>\n",
       "      <td>1.002294</td>\n",
       "      <td>0.455645</td>\n",
       "      <td>-1.238859</td>\n",
       "      <td>...</td>\n",
       "      <td>Wind blowing from the west-northwest</td>\n",
       "      <td>2</td>\n",
       "      <td>NaN</td>\n",
       "      <td>NaN</td>\n",
       "      <td>NaN</td>\n",
       "      <td>Few clouds (10-30%) 240 m, scattered clouds (4...</td>\n",
       "      <td>10.0 and more</td>\n",
       "      <td>18</td>\n",
       "      <td>group3</td>\n",
       "      <td>0</td>\n",
       "    </tr>\n",
       "    <tr>\n",
       "      <th>2015-08-05 14:00:00</th>\n",
       "      <td>0</td>\n",
       "      <td>1.144622</td>\n",
       "      <td>-1.540457</td>\n",
       "      <td>-1.536810</td>\n",
       "      <td>-1.600025</td>\n",
       "      <td>0.174397</td>\n",
       "      <td>-0.103199</td>\n",
       "      <td>1.002294</td>\n",
       "      <td>0.455645</td>\n",
       "      <td>-0.711154</td>\n",
       "      <td>...</td>\n",
       "      <td>NaN</td>\n",
       "      <td>NaN</td>\n",
       "      <td>NaN</td>\n",
       "      <td>NaN</td>\n",
       "      <td>NaN</td>\n",
       "      <td>No Significant Clouds</td>\n",
       "      <td>10.0 and more</td>\n",
       "      <td>18</td>\n",
       "      <td>group3</td>\n",
       "      <td>0</td>\n",
       "    </tr>\n",
       "    <tr>\n",
       "      <th>2015-08-05 16:00:00</th>\n",
       "      <td>0</td>\n",
       "      <td>1.144622</td>\n",
       "      <td>-1.540457</td>\n",
       "      <td>-1.536810</td>\n",
       "      <td>-1.600025</td>\n",
       "      <td>0.174397</td>\n",
       "      <td>-0.103199</td>\n",
       "      <td>1.002294</td>\n",
       "      <td>0.455645</td>\n",
       "      <td>-0.711154</td>\n",
       "      <td>...</td>\n",
       "      <td>Wind blowing from the west-southwest</td>\n",
       "      <td>6</td>\n",
       "      <td>NaN</td>\n",
       "      <td>NaN</td>\n",
       "      <td>NaN</td>\n",
       "      <td>No Significant Clouds</td>\n",
       "      <td>10.0 and more</td>\n",
       "      <td>18</td>\n",
       "      <td>group3</td>\n",
       "      <td>0</td>\n",
       "    </tr>\n",
       "    <tr>\n",
       "      <th>2015-08-05 18:00:00</th>\n",
       "      <td>0</td>\n",
       "      <td>0.782729</td>\n",
       "      <td>-1.654776</td>\n",
       "      <td>-1.649791</td>\n",
       "      <td>-0.584181</td>\n",
       "      <td>0.617438</td>\n",
       "      <td>0.491567</td>\n",
       "      <td>1.002294</td>\n",
       "      <td>0.510072</td>\n",
       "      <td>-0.711154</td>\n",
       "      <td>...</td>\n",
       "      <td>Wind blowing from the south-west</td>\n",
       "      <td>3</td>\n",
       "      <td>NaN</td>\n",
       "      <td>NaN</td>\n",
       "      <td>NaN</td>\n",
       "      <td>No Significant Clouds</td>\n",
       "      <td>10.0 and more</td>\n",
       "      <td>18</td>\n",
       "      <td>group3</td>\n",
       "      <td>0</td>\n",
       "    </tr>\n",
       "    <tr>\n",
       "      <th>2015-08-05 20:00:00</th>\n",
       "      <td>0</td>\n",
       "      <td>0.782729</td>\n",
       "      <td>-1.654776</td>\n",
       "      <td>-1.649791</td>\n",
       "      <td>-0.584181</td>\n",
       "      <td>0.617438</td>\n",
       "      <td>0.491567</td>\n",
       "      <td>1.002294</td>\n",
       "      <td>0.510072</td>\n",
       "      <td>-0.711154</td>\n",
       "      <td>...</td>\n",
       "      <td>Wind blowing from the west-southwest</td>\n",
       "      <td>2</td>\n",
       "      <td>NaN</td>\n",
       "      <td>NaN</td>\n",
       "      <td>NaN</td>\n",
       "      <td>No Significant Clouds</td>\n",
       "      <td>10.0 and more</td>\n",
       "      <td>18</td>\n",
       "      <td>group3</td>\n",
       "      <td>0</td>\n",
       "    </tr>\n",
       "    <tr>\n",
       "      <th>2015-08-05 22:00:00</th>\n",
       "      <td>0</td>\n",
       "      <td>0.782729</td>\n",
       "      <td>-1.654776</td>\n",
       "      <td>-1.649791</td>\n",
       "      <td>-0.584181</td>\n",
       "      <td>0.617438</td>\n",
       "      <td>0.491567</td>\n",
       "      <td>1.002294</td>\n",
       "      <td>0.510072</td>\n",
       "      <td>-0.711154</td>\n",
       "      <td>...</td>\n",
       "      <td>variable wind direction</td>\n",
       "      <td>1</td>\n",
       "      <td>NaN</td>\n",
       "      <td>NaN</td>\n",
       "      <td>NaN</td>\n",
       "      <td>Scattered clouds (40-50%) 600 m</td>\n",
       "      <td>10.0 and more</td>\n",
       "      <td>18</td>\n",
       "      <td>group3</td>\n",
       "      <td>0</td>\n",
       "    </tr>\n",
       "    <tr>\n",
       "      <th>2015-08-06 00:00:00</th>\n",
       "      <td>0</td>\n",
       "      <td>0.782729</td>\n",
       "      <td>-1.654776</td>\n",
       "      <td>-1.649791</td>\n",
       "      <td>-0.584181</td>\n",
       "      <td>0.617438</td>\n",
       "      <td>0.491567</td>\n",
       "      <td>1.002294</td>\n",
       "      <td>0.510072</td>\n",
       "      <td>-0.711154</td>\n",
       "      <td>...</td>\n",
       "      <td>Wind blowing from the south-east</td>\n",
       "      <td>2</td>\n",
       "      <td>NaN</td>\n",
       "      <td>NaN</td>\n",
       "      <td>NaN</td>\n",
       "      <td>Scattered clouds (40-50%) 600 m</td>\n",
       "      <td>10.0 and more</td>\n",
       "      <td>18</td>\n",
       "      <td>group3</td>\n",
       "      <td>0</td>\n",
       "    </tr>\n",
       "    <tr>\n",
       "      <th>...</th>\n",
       "      <td>...</td>\n",
       "      <td>...</td>\n",
       "      <td>...</td>\n",
       "      <td>...</td>\n",
       "      <td>...</td>\n",
       "      <td>...</td>\n",
       "      <td>...</td>\n",
       "      <td>...</td>\n",
       "      <td>...</td>\n",
       "      <td>...</td>\n",
       "      <td>...</td>\n",
       "      <td>...</td>\n",
       "      <td>...</td>\n",
       "      <td>...</td>\n",
       "      <td>...</td>\n",
       "      <td>...</td>\n",
       "      <td>...</td>\n",
       "      <td>...</td>\n",
       "      <td>...</td>\n",
       "      <td>...</td>\n",
       "      <td>...</td>\n",
       "    </tr>\n",
       "    <tr>\n",
       "      <th>2016-01-02 00:00:00</th>\n",
       "      <td>0</td>\n",
       "      <td>0.300204</td>\n",
       "      <td>1.403239</td>\n",
       "      <td>1.400695</td>\n",
       "      <td>0.286543</td>\n",
       "      <td>-2.040808</td>\n",
       "      <td>-1.292731</td>\n",
       "      <td>-0.562867</td>\n",
       "      <td>0.074660</td>\n",
       "      <td>-0.711154</td>\n",
       "      <td>...</td>\n",
       "      <td>Wind blowing from the east-northeast</td>\n",
       "      <td>2</td>\n",
       "      <td>NaN</td>\n",
       "      <td>NaN</td>\n",
       "      <td>NaN</td>\n",
       "      <td>No Significant Clouds</td>\n",
       "      <td>10.0 and more</td>\n",
       "      <td>10</td>\n",
       "      <td>group3</td>\n",
       "      <td>0</td>\n",
       "    </tr>\n",
       "    <tr>\n",
       "      <th>2016-01-02 02:00:00</th>\n",
       "      <td>0</td>\n",
       "      <td>0.300204</td>\n",
       "      <td>1.403239</td>\n",
       "      <td>1.400695</td>\n",
       "      <td>0.286543</td>\n",
       "      <td>-2.040808</td>\n",
       "      <td>-1.292731</td>\n",
       "      <td>-0.562867</td>\n",
       "      <td>0.074660</td>\n",
       "      <td>-0.711154</td>\n",
       "      <td>...</td>\n",
       "      <td>Wind blowing from the east</td>\n",
       "      <td>2</td>\n",
       "      <td>NaN</td>\n",
       "      <td>NaN</td>\n",
       "      <td>NaN</td>\n",
       "      <td>No Significant Clouds</td>\n",
       "      <td>10.0 and more</td>\n",
       "      <td>8</td>\n",
       "      <td>group3</td>\n",
       "      <td>0</td>\n",
       "    </tr>\n",
       "    <tr>\n",
       "      <th>2016-01-02 04:00:00</th>\n",
       "      <td>0</td>\n",
       "      <td>0.300204</td>\n",
       "      <td>1.403239</td>\n",
       "      <td>1.400695</td>\n",
       "      <td>0.286543</td>\n",
       "      <td>-2.040808</td>\n",
       "      <td>-1.292731</td>\n",
       "      <td>-0.562867</td>\n",
       "      <td>0.074660</td>\n",
       "      <td>-0.711154</td>\n",
       "      <td>...</td>\n",
       "      <td>Wind blowing from the east-northeast</td>\n",
       "      <td>3</td>\n",
       "      <td>NaN</td>\n",
       "      <td>NaN</td>\n",
       "      <td>NaN</td>\n",
       "      <td>No Significant Clouds</td>\n",
       "      <td>10.0 and more</td>\n",
       "      <td>4</td>\n",
       "      <td>group3</td>\n",
       "      <td>0</td>\n",
       "    </tr>\n",
       "    <tr>\n",
       "      <th>2016-01-02 06:00:00</th>\n",
       "      <td>0</td>\n",
       "      <td>-1.056896</td>\n",
       "      <td>1.403239</td>\n",
       "      <td>1.400695</td>\n",
       "      <td>0.286543</td>\n",
       "      <td>-1.471184</td>\n",
       "      <td>-1.292731</td>\n",
       "      <td>-0.458523</td>\n",
       "      <td>0.074660</td>\n",
       "      <td>-0.711154</td>\n",
       "      <td>...</td>\n",
       "      <td>Wind blowing from the east</td>\n",
       "      <td>4</td>\n",
       "      <td>NaN</td>\n",
       "      <td>NaN</td>\n",
       "      <td>NaN</td>\n",
       "      <td>No Significant Clouds</td>\n",
       "      <td>10.0 and more</td>\n",
       "      <td>4</td>\n",
       "      <td>group3</td>\n",
       "      <td>0</td>\n",
       "    </tr>\n",
       "    <tr>\n",
       "      <th>2016-01-02 08:00:00</th>\n",
       "      <td>0</td>\n",
       "      <td>-0.755318</td>\n",
       "      <td>1.603296</td>\n",
       "      <td>1.598412</td>\n",
       "      <td>1.012146</td>\n",
       "      <td>-1.407892</td>\n",
       "      <td>-0.697965</td>\n",
       "      <td>-0.458523</td>\n",
       "      <td>0.074660</td>\n",
       "      <td>0.344257</td>\n",
       "      <td>...</td>\n",
       "      <td>Wind blowing from the east-northeast</td>\n",
       "      <td>4</td>\n",
       "      <td>NaN</td>\n",
       "      <td>NaN</td>\n",
       "      <td>NaN</td>\n",
       "      <td>No Significant Clouds</td>\n",
       "      <td>10.0 and more</td>\n",
       "      <td>2</td>\n",
       "      <td>group3</td>\n",
       "      <td>0</td>\n",
       "    </tr>\n",
       "    <tr>\n",
       "      <th>2016-01-02 10:00:00</th>\n",
       "      <td>0</td>\n",
       "      <td>-0.755318</td>\n",
       "      <td>1.603296</td>\n",
       "      <td>1.598412</td>\n",
       "      <td>1.012146</td>\n",
       "      <td>-1.407892</td>\n",
       "      <td>-0.697965</td>\n",
       "      <td>-0.458523</td>\n",
       "      <td>0.074660</td>\n",
       "      <td>0.344257</td>\n",
       "      <td>...</td>\n",
       "      <td>Wind blowing from the east-northeast</td>\n",
       "      <td>4</td>\n",
       "      <td>NaN</td>\n",
       "      <td>NaN</td>\n",
       "      <td>NaN</td>\n",
       "      <td>No Significant Clouds</td>\n",
       "      <td>10.0 and more</td>\n",
       "      <td>2</td>\n",
       "      <td>group3</td>\n",
       "      <td>0</td>\n",
       "    </tr>\n",
       "    <tr>\n",
       "      <th>2016-01-02 12:00:00</th>\n",
       "      <td>0</td>\n",
       "      <td>0.360520</td>\n",
       "      <td>1.746194</td>\n",
       "      <td>1.739638</td>\n",
       "      <td>0.721905</td>\n",
       "      <td>-0.268644</td>\n",
       "      <td>-0.697965</td>\n",
       "      <td>-0.458523</td>\n",
       "      <td>0.074660</td>\n",
       "      <td>-0.711154</td>\n",
       "      <td>...</td>\n",
       "      <td>Wind blowing from the east</td>\n",
       "      <td>3</td>\n",
       "      <td>NaN</td>\n",
       "      <td>NaN</td>\n",
       "      <td>NaN</td>\n",
       "      <td>No Significant Clouds</td>\n",
       "      <td>10.0 and more</td>\n",
       "      <td>1</td>\n",
       "      <td>group3</td>\n",
       "      <td>0</td>\n",
       "    </tr>\n",
       "    <tr>\n",
       "      <th>2016-01-02 14:00:00</th>\n",
       "      <td>0</td>\n",
       "      <td>0.450993</td>\n",
       "      <td>1.460398</td>\n",
       "      <td>1.457186</td>\n",
       "      <td>-1.454904</td>\n",
       "      <td>-0.142061</td>\n",
       "      <td>-0.697965</td>\n",
       "      <td>-0.458523</td>\n",
       "      <td>0.074660</td>\n",
       "      <td>-0.183449</td>\n",
       "      <td>...</td>\n",
       "      <td>Wind blowing from the west</td>\n",
       "      <td>5</td>\n",
       "      <td>NaN</td>\n",
       "      <td>NaN</td>\n",
       "      <td>NaN</td>\n",
       "      <td>No Significant Clouds</td>\n",
       "      <td>10.0 and more</td>\n",
       "      <td>6</td>\n",
       "      <td>group3</td>\n",
       "      <td>0</td>\n",
       "    </tr>\n",
       "    <tr>\n",
       "      <th>2016-01-02 16:00:00</th>\n",
       "      <td>0</td>\n",
       "      <td>0.450993</td>\n",
       "      <td>1.460398</td>\n",
       "      <td>1.457186</td>\n",
       "      <td>-1.454904</td>\n",
       "      <td>-0.142061</td>\n",
       "      <td>-0.697965</td>\n",
       "      <td>-0.458523</td>\n",
       "      <td>0.074660</td>\n",
       "      <td>-0.183449</td>\n",
       "      <td>...</td>\n",
       "      <td>Wind blowing from the west-southwest</td>\n",
       "      <td>4</td>\n",
       "      <td>NaN</td>\n",
       "      <td>NaN</td>\n",
       "      <td>NaN</td>\n",
       "      <td>No Significant Clouds</td>\n",
       "      <td>10.0 and more</td>\n",
       "      <td>4</td>\n",
       "      <td>group3</td>\n",
       "      <td>0</td>\n",
       "    </tr>\n",
       "    <tr>\n",
       "      <th>2016-01-02 18:00:00</th>\n",
       "      <td>0</td>\n",
       "      <td>-0.182320</td>\n",
       "      <td>1.403239</td>\n",
       "      <td>1.400695</td>\n",
       "      <td>-0.293939</td>\n",
       "      <td>0.364272</td>\n",
       "      <td>-0.103199</td>\n",
       "      <td>-0.458523</td>\n",
       "      <td>-0.061406</td>\n",
       "      <td>-0.711154</td>\n",
       "      <td>...</td>\n",
       "      <td>Wind blowing from the west-southwest</td>\n",
       "      <td>3</td>\n",
       "      <td>NaN</td>\n",
       "      <td>NaN</td>\n",
       "      <td>NaN</td>\n",
       "      <td>No Significant Clouds</td>\n",
       "      <td>10.0 and more</td>\n",
       "      <td>6</td>\n",
       "      <td>group3</td>\n",
       "      <td>0</td>\n",
       "    </tr>\n",
       "    <tr>\n",
       "      <th>2016-01-02 20:00:00</th>\n",
       "      <td>0</td>\n",
       "      <td>-0.182320</td>\n",
       "      <td>1.403239</td>\n",
       "      <td>1.400695</td>\n",
       "      <td>-0.293939</td>\n",
       "      <td>0.364272</td>\n",
       "      <td>-0.103199</td>\n",
       "      <td>-0.458523</td>\n",
       "      <td>-0.061406</td>\n",
       "      <td>-0.711154</td>\n",
       "      <td>...</td>\n",
       "      <td>Wind blowing from the south</td>\n",
       "      <td>4</td>\n",
       "      <td>NaN</td>\n",
       "      <td>NaN</td>\n",
       "      <td>NaN</td>\n",
       "      <td>No Significant Clouds</td>\n",
       "      <td>10.0 and more</td>\n",
       "      <td>11</td>\n",
       "      <td>group3</td>\n",
       "      <td>0</td>\n",
       "    </tr>\n",
       "    <tr>\n",
       "      <th>2016-01-02 22:00:00</th>\n",
       "      <td>0</td>\n",
       "      <td>-0.182320</td>\n",
       "      <td>1.403239</td>\n",
       "      <td>1.400695</td>\n",
       "      <td>-0.293939</td>\n",
       "      <td>0.364272</td>\n",
       "      <td>-0.103199</td>\n",
       "      <td>-0.458523</td>\n",
       "      <td>-0.061406</td>\n",
       "      <td>-0.711154</td>\n",
       "      <td>...</td>\n",
       "      <td>Wind blowing from the south-southeast</td>\n",
       "      <td>3</td>\n",
       "      <td>NaN</td>\n",
       "      <td>NaN</td>\n",
       "      <td>NaN</td>\n",
       "      <td>No Significant Clouds</td>\n",
       "      <td>10.0 and more</td>\n",
       "      <td>11</td>\n",
       "      <td>group3</td>\n",
       "      <td>0</td>\n",
       "    </tr>\n",
       "    <tr>\n",
       "      <th>2016-01-03 00:00:00</th>\n",
       "      <td>0</td>\n",
       "      <td>-0.182320</td>\n",
       "      <td>1.403239</td>\n",
       "      <td>1.400695</td>\n",
       "      <td>-0.293939</td>\n",
       "      <td>0.364272</td>\n",
       "      <td>-0.103199</td>\n",
       "      <td>-0.458523</td>\n",
       "      <td>-0.061406</td>\n",
       "      <td>-0.711154</td>\n",
       "      <td>...</td>\n",
       "      <td>Wind blowing from the east-northeast</td>\n",
       "      <td>2</td>\n",
       "      <td>NaN</td>\n",
       "      <td>NaN</td>\n",
       "      <td>NaN</td>\n",
       "      <td>No Significant Clouds</td>\n",
       "      <td>10.0 and more</td>\n",
       "      <td>8</td>\n",
       "      <td>group3</td>\n",
       "      <td>0</td>\n",
       "    </tr>\n",
       "    <tr>\n",
       "      <th>2016-01-03 02:00:00</th>\n",
       "      <td>0</td>\n",
       "      <td>-0.182320</td>\n",
       "      <td>1.403239</td>\n",
       "      <td>1.400695</td>\n",
       "      <td>-0.293939</td>\n",
       "      <td>0.364272</td>\n",
       "      <td>-0.103199</td>\n",
       "      <td>-0.458523</td>\n",
       "      <td>-0.061406</td>\n",
       "      <td>-0.711154</td>\n",
       "      <td>...</td>\n",
       "      <td>Wind blowing from the east</td>\n",
       "      <td>3</td>\n",
       "      <td>NaN</td>\n",
       "      <td>NaN</td>\n",
       "      <td>NaN</td>\n",
       "      <td>No Significant Clouds</td>\n",
       "      <td>10.0 and more</td>\n",
       "      <td>7</td>\n",
       "      <td>group3</td>\n",
       "      <td>0</td>\n",
       "    </tr>\n",
       "    <tr>\n",
       "      <th>2016-01-03 04:00:00</th>\n",
       "      <td>0</td>\n",
       "      <td>-0.182320</td>\n",
       "      <td>1.403239</td>\n",
       "      <td>1.400695</td>\n",
       "      <td>-0.293939</td>\n",
       "      <td>0.364272</td>\n",
       "      <td>-0.103199</td>\n",
       "      <td>-0.458523</td>\n",
       "      <td>-0.061406</td>\n",
       "      <td>-0.711154</td>\n",
       "      <td>...</td>\n",
       "      <td>Wind blowing from the east</td>\n",
       "      <td>3</td>\n",
       "      <td>NaN</td>\n",
       "      <td>NaN</td>\n",
       "      <td>NaN</td>\n",
       "      <td>No Significant Clouds</td>\n",
       "      <td>10.0 and more</td>\n",
       "      <td>6</td>\n",
       "      <td>group3</td>\n",
       "      <td>0</td>\n",
       "    </tr>\n",
       "    <tr>\n",
       "      <th>2016-01-03 06:00:00</th>\n",
       "      <td>0</td>\n",
       "      <td>-1.298159</td>\n",
       "      <td>1.460398</td>\n",
       "      <td>1.485431</td>\n",
       "      <td>-0.293939</td>\n",
       "      <td>-0.205352</td>\n",
       "      <td>-0.697965</td>\n",
       "      <td>-0.910680</td>\n",
       "      <td>-0.061406</td>\n",
       "      <td>-0.711154</td>\n",
       "      <td>...</td>\n",
       "      <td>Wind blowing from the east</td>\n",
       "      <td>3</td>\n",
       "      <td>NaN</td>\n",
       "      <td>NaN</td>\n",
       "      <td>NaN</td>\n",
       "      <td>NaN</td>\n",
       "      <td>10.0 and more</td>\n",
       "      <td>3</td>\n",
       "      <td>group3</td>\n",
       "      <td>0</td>\n",
       "    </tr>\n",
       "    <tr>\n",
       "      <th>2016-01-03 08:00:00</th>\n",
       "      <td>0</td>\n",
       "      <td>-0.966423</td>\n",
       "      <td>1.631876</td>\n",
       "      <td>1.626657</td>\n",
       "      <td>0.867025</td>\n",
       "      <td>0.617438</td>\n",
       "      <td>-0.697965</td>\n",
       "      <td>-0.910680</td>\n",
       "      <td>-0.061406</td>\n",
       "      <td>-0.711154</td>\n",
       "      <td>...</td>\n",
       "      <td>Wind blowing from the north</td>\n",
       "      <td>2</td>\n",
       "      <td>NaN</td>\n",
       "      <td>NaN</td>\n",
       "      <td>NaN</td>\n",
       "      <td>No Significant Clouds</td>\n",
       "      <td>10.0 and more</td>\n",
       "      <td>2</td>\n",
       "      <td>group3</td>\n",
       "      <td>0</td>\n",
       "    </tr>\n",
       "    <tr>\n",
       "      <th>2016-01-03 10:00:00</th>\n",
       "      <td>0</td>\n",
       "      <td>-0.966423</td>\n",
       "      <td>1.631876</td>\n",
       "      <td>1.626657</td>\n",
       "      <td>0.867025</td>\n",
       "      <td>0.617438</td>\n",
       "      <td>-0.697965</td>\n",
       "      <td>-0.910680</td>\n",
       "      <td>-0.061406</td>\n",
       "      <td>-0.711154</td>\n",
       "      <td>...</td>\n",
       "      <td>Wind blowing from the east</td>\n",
       "      <td>2</td>\n",
       "      <td>NaN</td>\n",
       "      <td>NaN</td>\n",
       "      <td>NaN</td>\n",
       "      <td>No Significant Clouds</td>\n",
       "      <td>10.0 and more</td>\n",
       "      <td>7</td>\n",
       "      <td>group3</td>\n",
       "      <td>0</td>\n",
       "    </tr>\n",
       "    <tr>\n",
       "      <th>2016-01-03 12:00:00</th>\n",
       "      <td>0</td>\n",
       "      <td>-0.001374</td>\n",
       "      <td>1.631876</td>\n",
       "      <td>1.626657</td>\n",
       "      <td>-0.003698</td>\n",
       "      <td>-0.078769</td>\n",
       "      <td>-0.697965</td>\n",
       "      <td>-0.910680</td>\n",
       "      <td>-0.061406</td>\n",
       "      <td>0.344257</td>\n",
       "      <td>...</td>\n",
       "      <td>Wind blowing from the west-northwest</td>\n",
       "      <td>2</td>\n",
       "      <td>NaN</td>\n",
       "      <td>NaN</td>\n",
       "      <td>NaN</td>\n",
       "      <td>No Significant Clouds</td>\n",
       "      <td>10.0 and more</td>\n",
       "      <td>2</td>\n",
       "      <td>group3</td>\n",
       "      <td>0</td>\n",
       "    </tr>\n",
       "    <tr>\n",
       "      <th>2016-01-03 14:00:00</th>\n",
       "      <td>0</td>\n",
       "      <td>0.119258</td>\n",
       "      <td>1.403239</td>\n",
       "      <td>1.400695</td>\n",
       "      <td>-1.164663</td>\n",
       "      <td>0.047814</td>\n",
       "      <td>-0.103199</td>\n",
       "      <td>-0.910680</td>\n",
       "      <td>-0.061406</td>\n",
       "      <td>0.344257</td>\n",
       "      <td>...</td>\n",
       "      <td>Wind blowing from the west</td>\n",
       "      <td>5</td>\n",
       "      <td>NaN</td>\n",
       "      <td>NaN</td>\n",
       "      <td>NaN</td>\n",
       "      <td>No Significant Clouds</td>\n",
       "      <td>10.0 and more</td>\n",
       "      <td>5</td>\n",
       "      <td>group3</td>\n",
       "      <td>0</td>\n",
       "    </tr>\n",
       "    <tr>\n",
       "      <th>2016-01-03 16:00:00</th>\n",
       "      <td>0</td>\n",
       "      <td>0.119258</td>\n",
       "      <td>1.403239</td>\n",
       "      <td>1.400695</td>\n",
       "      <td>-1.164663</td>\n",
       "      <td>0.047814</td>\n",
       "      <td>-0.103199</td>\n",
       "      <td>-0.910680</td>\n",
       "      <td>-0.061406</td>\n",
       "      <td>0.344257</td>\n",
       "      <td>...</td>\n",
       "      <td>Wind blowing from the west-southwest</td>\n",
       "      <td>4</td>\n",
       "      <td>NaN</td>\n",
       "      <td>NaN</td>\n",
       "      <td>NaN</td>\n",
       "      <td>No Significant Clouds</td>\n",
       "      <td>10.0 and more</td>\n",
       "      <td>3</td>\n",
       "      <td>group3</td>\n",
       "      <td>0</td>\n",
       "    </tr>\n",
       "    <tr>\n",
       "      <th>2016-01-03 18:00:00</th>\n",
       "      <td>0</td>\n",
       "      <td>-0.453740</td>\n",
       "      <td>1.346080</td>\n",
       "      <td>1.344205</td>\n",
       "      <td>-0.293939</td>\n",
       "      <td>-0.078769</td>\n",
       "      <td>0.491567</td>\n",
       "      <td>-0.910680</td>\n",
       "      <td>-0.387965</td>\n",
       "      <td>0.344257</td>\n",
       "      <td>...</td>\n",
       "      <td>Wind blowing from the south-southwest</td>\n",
       "      <td>3</td>\n",
       "      <td>NaN</td>\n",
       "      <td>NaN</td>\n",
       "      <td>NaN</td>\n",
       "      <td>No Significant Clouds</td>\n",
       "      <td>10.0 and more</td>\n",
       "      <td>13</td>\n",
       "      <td>group3</td>\n",
       "      <td>0</td>\n",
       "    </tr>\n",
       "    <tr>\n",
       "      <th>2016-01-03 20:00:00</th>\n",
       "      <td>0</td>\n",
       "      <td>-0.453740</td>\n",
       "      <td>1.346080</td>\n",
       "      <td>1.344205</td>\n",
       "      <td>-0.293939</td>\n",
       "      <td>-0.078769</td>\n",
       "      <td>0.491567</td>\n",
       "      <td>-0.910680</td>\n",
       "      <td>-0.387965</td>\n",
       "      <td>0.344257</td>\n",
       "      <td>...</td>\n",
       "      <td>Wind blowing from the east-southeast</td>\n",
       "      <td>2</td>\n",
       "      <td>NaN</td>\n",
       "      <td>NaN</td>\n",
       "      <td>NaN</td>\n",
       "      <td>No Significant Clouds</td>\n",
       "      <td>10.0 and more</td>\n",
       "      <td>13</td>\n",
       "      <td>group3</td>\n",
       "      <td>0</td>\n",
       "    </tr>\n",
       "    <tr>\n",
       "      <th>2016-01-03 22:00:00</th>\n",
       "      <td>0</td>\n",
       "      <td>-0.453740</td>\n",
       "      <td>1.346080</td>\n",
       "      <td>1.344205</td>\n",
       "      <td>-0.293939</td>\n",
       "      <td>-0.078769</td>\n",
       "      <td>0.491567</td>\n",
       "      <td>-0.910680</td>\n",
       "      <td>-0.387965</td>\n",
       "      <td>0.344257</td>\n",
       "      <td>...</td>\n",
       "      <td>Wind blowing from the east-northeast</td>\n",
       "      <td>3</td>\n",
       "      <td>NaN</td>\n",
       "      <td>NaN</td>\n",
       "      <td>NaN</td>\n",
       "      <td>Scattered clouds (40-50%) 300 m</td>\n",
       "      <td>10.0 and more</td>\n",
       "      <td>14</td>\n",
       "      <td>group3</td>\n",
       "      <td>0</td>\n",
       "    </tr>\n",
       "    <tr>\n",
       "      <th>2016-01-04 00:00:00</th>\n",
       "      <td>0</td>\n",
       "      <td>-0.453740</td>\n",
       "      <td>1.346080</td>\n",
       "      <td>1.344205</td>\n",
       "      <td>-0.293939</td>\n",
       "      <td>-0.078769</td>\n",
       "      <td>0.491567</td>\n",
       "      <td>-0.910680</td>\n",
       "      <td>-0.387965</td>\n",
       "      <td>0.344257</td>\n",
       "      <td>...</td>\n",
       "      <td>Wind blowing from the east</td>\n",
       "      <td>3</td>\n",
       "      <td>NaN</td>\n",
       "      <td>NaN</td>\n",
       "      <td>NaN</td>\n",
       "      <td>Scattered clouds (40-50%) 300 m, broken clouds...</td>\n",
       "      <td>10.0 and more</td>\n",
       "      <td>13</td>\n",
       "      <td>group3</td>\n",
       "      <td>0</td>\n",
       "    </tr>\n",
       "    <tr>\n",
       "      <th>2016-01-04 02:00:00</th>\n",
       "      <td>0</td>\n",
       "      <td>-0.453740</td>\n",
       "      <td>1.346080</td>\n",
       "      <td>1.344205</td>\n",
       "      <td>-0.293939</td>\n",
       "      <td>-0.078769</td>\n",
       "      <td>0.491567</td>\n",
       "      <td>-0.910680</td>\n",
       "      <td>-0.387965</td>\n",
       "      <td>0.344257</td>\n",
       "      <td>...</td>\n",
       "      <td>Wind blowing from the east</td>\n",
       "      <td>4</td>\n",
       "      <td>NaN</td>\n",
       "      <td>NaN</td>\n",
       "      <td>NaN</td>\n",
       "      <td>Broken clouds (60-90%) 480 m</td>\n",
       "      <td>10.0 and more</td>\n",
       "      <td>9</td>\n",
       "      <td>group3</td>\n",
       "      <td>0</td>\n",
       "    </tr>\n",
       "    <tr>\n",
       "      <th>2016-01-04 04:00:00</th>\n",
       "      <td>0</td>\n",
       "      <td>-0.453740</td>\n",
       "      <td>1.346080</td>\n",
       "      <td>1.344205</td>\n",
       "      <td>-0.293939</td>\n",
       "      <td>-0.078769</td>\n",
       "      <td>0.491567</td>\n",
       "      <td>-0.910680</td>\n",
       "      <td>-0.387965</td>\n",
       "      <td>0.344257</td>\n",
       "      <td>...</td>\n",
       "      <td>Wind blowing from the east</td>\n",
       "      <td>3</td>\n",
       "      <td>NaN</td>\n",
       "      <td>NaN</td>\n",
       "      <td>NaN</td>\n",
       "      <td>No Significant Clouds</td>\n",
       "      <td>10.0 and more</td>\n",
       "      <td>11</td>\n",
       "      <td>group3</td>\n",
       "      <td>0</td>\n",
       "    </tr>\n",
       "    <tr>\n",
       "      <th>2016-01-04 06:00:00</th>\n",
       "      <td>0</td>\n",
       "      <td>-0.514056</td>\n",
       "      <td>1.174602</td>\n",
       "      <td>1.174733</td>\n",
       "      <td>-0.293939</td>\n",
       "      <td>0.364272</td>\n",
       "      <td>-0.103199</td>\n",
       "      <td>0.167542</td>\n",
       "      <td>-0.387965</td>\n",
       "      <td>-0.711154</td>\n",
       "      <td>...</td>\n",
       "      <td>Wind blowing from the north-east</td>\n",
       "      <td>3</td>\n",
       "      <td>NaN</td>\n",
       "      <td>NaN</td>\n",
       "      <td>NaN</td>\n",
       "      <td>No Significant Clouds</td>\n",
       "      <td>10.0 and more</td>\n",
       "      <td>7</td>\n",
       "      <td>group3</td>\n",
       "      <td>0</td>\n",
       "    </tr>\n",
       "    <tr>\n",
       "      <th>2016-01-04 08:00:00</th>\n",
       "      <td>0</td>\n",
       "      <td>-0.393425</td>\n",
       "      <td>1.174602</td>\n",
       "      <td>1.174733</td>\n",
       "      <td>-0.003698</td>\n",
       "      <td>0.490855</td>\n",
       "      <td>-0.697965</td>\n",
       "      <td>0.167542</td>\n",
       "      <td>-0.387965</td>\n",
       "      <td>0.344257</td>\n",
       "      <td>...</td>\n",
       "      <td>Wind blowing from the east</td>\n",
       "      <td>3</td>\n",
       "      <td>NaN</td>\n",
       "      <td>NaN</td>\n",
       "      <td>NaN</td>\n",
       "      <td>No Significant Clouds</td>\n",
       "      <td>10.0 and more</td>\n",
       "      <td>6</td>\n",
       "      <td>group3</td>\n",
       "      <td>0</td>\n",
       "    </tr>\n",
       "    <tr>\n",
       "      <th>2016-01-04 10:00:00</th>\n",
       "      <td>0</td>\n",
       "      <td>-0.393425</td>\n",
       "      <td>1.174602</td>\n",
       "      <td>1.174733</td>\n",
       "      <td>-0.003698</td>\n",
       "      <td>0.490855</td>\n",
       "      <td>-0.697965</td>\n",
       "      <td>0.167542</td>\n",
       "      <td>-0.387965</td>\n",
       "      <td>0.344257</td>\n",
       "      <td>...</td>\n",
       "      <td>Wind blowing from the north-east</td>\n",
       "      <td>3</td>\n",
       "      <td>NaN</td>\n",
       "      <td>NaN</td>\n",
       "      <td>NaN</td>\n",
       "      <td>No Significant Clouds</td>\n",
       "      <td>10.0 and more</td>\n",
       "      <td>10</td>\n",
       "      <td>group3</td>\n",
       "      <td>0</td>\n",
       "    </tr>\n",
       "  </tbody>\n",
       "</table>\n",
       "<p>1847 rows × 87 columns</p>\n",
       "</div>"
      ],
      "text/plain": [
       "                     feat_yield    feat_0    feat_1    feat_2    feat_3  \\\n",
       "2015-08-03 14:00:00           0  1.114465 -0.197217 -0.209284 -0.874422   \n",
       "2015-08-03 16:00:00           0  1.114465 -0.197217 -0.209284 -0.874422   \n",
       "2015-08-03 18:00:00           0  1.144622 -0.340115 -0.350510 -0.729301   \n",
       "2015-08-03 20:00:00           0  1.144622 -0.340115 -0.350510 -0.729301   \n",
       "2015-08-03 22:00:00           0  1.144622 -0.340115 -0.350510 -0.729301   \n",
       "2015-08-04 00:00:00           0  1.144622 -0.340115 -0.350510 -0.729301   \n",
       "2015-08-04 02:00:00           0  1.144622 -0.340115 -0.350510 -0.729301   \n",
       "2015-08-04 04:00:00           0  1.144622 -0.340115 -0.350510 -0.729301   \n",
       "2015-08-04 06:00:00           0  0.119258 -0.797388 -0.802434 -0.729301   \n",
       "2015-08-04 08:00:00           0  0.179573 -0.683070 -0.689453  0.576784   \n",
       "2015-08-04 10:00:00           0  0.179573 -0.683070 -0.689453  0.576784   \n",
       "2015-08-04 12:00:00           0  0.601782 -0.711650 -0.717698 -0.148819   \n",
       "2015-08-04 14:00:00           0  1.054149 -0.883127 -0.887169 -0.874422   \n",
       "2015-08-04 16:00:00           0  1.054149 -0.883127 -0.887169 -0.874422   \n",
       "2015-08-04 18:00:00           0  0.692256 -1.026025 -1.028395 -0.729301   \n",
       "2015-08-04 20:00:00           0  0.692256 -1.026025 -1.028395 -0.729301   \n",
       "2015-08-04 22:00:00           0  0.692256 -1.026025 -1.028395 -0.729301   \n",
       "2015-08-05 00:00:00           0  0.692256 -1.026025 -1.028395 -0.729301   \n",
       "2015-08-05 02:00:00           0  0.692256 -1.026025 -1.028395 -0.729301   \n",
       "2015-08-05 04:00:00           0  0.692256 -1.026025 -1.028395 -0.729301   \n",
       "2015-08-05 06:00:00           0  0.209731 -1.311821 -1.310848 -0.729301   \n",
       "2015-08-05 08:00:00           0  0.390678 -1.197502 -1.197867  0.576784   \n",
       "2015-08-05 10:00:00           0  0.390678 -1.197502 -1.197867  0.576784   \n",
       "2015-08-05 12:00:00           0  0.752571 -1.226082 -1.226112 -0.148819   \n",
       "2015-08-05 14:00:00           0  1.144622 -1.540457 -1.536810 -1.600025   \n",
       "2015-08-05 16:00:00           0  1.144622 -1.540457 -1.536810 -1.600025   \n",
       "2015-08-05 18:00:00           0  0.782729 -1.654776 -1.649791 -0.584181   \n",
       "2015-08-05 20:00:00           0  0.782729 -1.654776 -1.649791 -0.584181   \n",
       "2015-08-05 22:00:00           0  0.782729 -1.654776 -1.649791 -0.584181   \n",
       "2015-08-06 00:00:00           0  0.782729 -1.654776 -1.649791 -0.584181   \n",
       "...                         ...       ...       ...       ...       ...   \n",
       "2016-01-02 00:00:00           0  0.300204  1.403239  1.400695  0.286543   \n",
       "2016-01-02 02:00:00           0  0.300204  1.403239  1.400695  0.286543   \n",
       "2016-01-02 04:00:00           0  0.300204  1.403239  1.400695  0.286543   \n",
       "2016-01-02 06:00:00           0 -1.056896  1.403239  1.400695  0.286543   \n",
       "2016-01-02 08:00:00           0 -0.755318  1.603296  1.598412  1.012146   \n",
       "2016-01-02 10:00:00           0 -0.755318  1.603296  1.598412  1.012146   \n",
       "2016-01-02 12:00:00           0  0.360520  1.746194  1.739638  0.721905   \n",
       "2016-01-02 14:00:00           0  0.450993  1.460398  1.457186 -1.454904   \n",
       "2016-01-02 16:00:00           0  0.450993  1.460398  1.457186 -1.454904   \n",
       "2016-01-02 18:00:00           0 -0.182320  1.403239  1.400695 -0.293939   \n",
       "2016-01-02 20:00:00           0 -0.182320  1.403239  1.400695 -0.293939   \n",
       "2016-01-02 22:00:00           0 -0.182320  1.403239  1.400695 -0.293939   \n",
       "2016-01-03 00:00:00           0 -0.182320  1.403239  1.400695 -0.293939   \n",
       "2016-01-03 02:00:00           0 -0.182320  1.403239  1.400695 -0.293939   \n",
       "2016-01-03 04:00:00           0 -0.182320  1.403239  1.400695 -0.293939   \n",
       "2016-01-03 06:00:00           0 -1.298159  1.460398  1.485431 -0.293939   \n",
       "2016-01-03 08:00:00           0 -0.966423  1.631876  1.626657  0.867025   \n",
       "2016-01-03 10:00:00           0 -0.966423  1.631876  1.626657  0.867025   \n",
       "2016-01-03 12:00:00           0 -0.001374  1.631876  1.626657 -0.003698   \n",
       "2016-01-03 14:00:00           0  0.119258  1.403239  1.400695 -1.164663   \n",
       "2016-01-03 16:00:00           0  0.119258  1.403239  1.400695 -1.164663   \n",
       "2016-01-03 18:00:00           0 -0.453740  1.346080  1.344205 -0.293939   \n",
       "2016-01-03 20:00:00           0 -0.453740  1.346080  1.344205 -0.293939   \n",
       "2016-01-03 22:00:00           0 -0.453740  1.346080  1.344205 -0.293939   \n",
       "2016-01-04 00:00:00           0 -0.453740  1.346080  1.344205 -0.293939   \n",
       "2016-01-04 02:00:00           0 -0.453740  1.346080  1.344205 -0.293939   \n",
       "2016-01-04 04:00:00           0 -0.453740  1.346080  1.344205 -0.293939   \n",
       "2016-01-04 06:00:00           0 -0.514056  1.174602  1.174733 -0.293939   \n",
       "2016-01-04 08:00:00           0 -0.393425  1.174602  1.174733 -0.003698   \n",
       "2016-01-04 10:00:00           0 -0.393425  1.174602  1.174733 -0.003698   \n",
       "\n",
       "                       feat_4    feat_5    feat_6    feat_7    feat_8  \\\n",
       "2015-08-03 14:00:00 -0.142061  1.681099  1.002294  0.591712 -0.183449   \n",
       "2015-08-03 16:00:00 -0.142061  1.681099  1.002294  0.591712 -0.183449   \n",
       "2015-08-03 18:00:00 -0.331935  2.275865  1.002294  0.537285  0.344257   \n",
       "2015-08-03 20:00:00 -0.331935  2.275865  1.002294  0.537285  0.344257   \n",
       "2015-08-03 22:00:00 -0.331935  2.275865  1.002294  0.537285  0.344257   \n",
       "2015-08-04 00:00:00 -0.331935  2.275865  1.002294  0.537285  0.344257   \n",
       "2015-08-04 02:00:00 -0.331935  2.275865  1.002294  0.537285  0.344257   \n",
       "2015-08-04 04:00:00 -0.331935  2.275865  1.002294  0.537285  0.344257   \n",
       "2015-08-04 06:00:00  0.933896 -0.103199  0.932732  0.537285 -0.711154   \n",
       "2015-08-04 08:00:00  0.807313  0.491567  0.932732  0.537285 -0.711154   \n",
       "2015-08-04 10:00:00  0.807313  0.491567  0.932732  0.537285 -0.711154   \n",
       "2015-08-04 12:00:00  0.427563  1.086333  0.932732  0.537285 -0.711154   \n",
       "2015-08-04 14:00:00 -0.078769  0.491567  0.932732  0.537285 -1.238859   \n",
       "2015-08-04 16:00:00 -0.078769  0.491567  0.932732  0.537285 -1.238859   \n",
       "2015-08-04 18:00:00  0.300980 -0.697965  0.932732  0.455645 -0.711154   \n",
       "2015-08-04 20:00:00  0.300980 -0.697965  0.932732  0.455645 -0.711154   \n",
       "2015-08-04 22:00:00  0.300980 -0.697965  0.932732  0.455645 -0.711154   \n",
       "2015-08-05 00:00:00  0.300980 -0.697965  0.932732  0.455645 -0.711154   \n",
       "2015-08-05 02:00:00  0.300980 -0.697965  0.932732  0.455645 -0.711154   \n",
       "2015-08-05 04:00:00  0.300980 -0.697965  0.932732  0.455645 -0.711154   \n",
       "2015-08-05 06:00:00  0.933896 -0.103199  1.002294  0.455645 -1.238859   \n",
       "2015-08-05 08:00:00  0.933896 -0.103199  1.002294  0.455645 -0.711154   \n",
       "2015-08-05 10:00:00  0.933896 -0.103199  1.002294  0.455645 -0.711154   \n",
       "2015-08-05 12:00:00  0.997188  0.491567  1.002294  0.455645 -1.238859   \n",
       "2015-08-05 14:00:00  0.174397 -0.103199  1.002294  0.455645 -0.711154   \n",
       "2015-08-05 16:00:00  0.174397 -0.103199  1.002294  0.455645 -0.711154   \n",
       "2015-08-05 18:00:00  0.617438  0.491567  1.002294  0.510072 -0.711154   \n",
       "2015-08-05 20:00:00  0.617438  0.491567  1.002294  0.510072 -0.711154   \n",
       "2015-08-05 22:00:00  0.617438  0.491567  1.002294  0.510072 -0.711154   \n",
       "2015-08-06 00:00:00  0.617438  0.491567  1.002294  0.510072 -0.711154   \n",
       "...                       ...       ...       ...       ...       ...   \n",
       "2016-01-02 00:00:00 -2.040808 -1.292731 -0.562867  0.074660 -0.711154   \n",
       "2016-01-02 02:00:00 -2.040808 -1.292731 -0.562867  0.074660 -0.711154   \n",
       "2016-01-02 04:00:00 -2.040808 -1.292731 -0.562867  0.074660 -0.711154   \n",
       "2016-01-02 06:00:00 -1.471184 -1.292731 -0.458523  0.074660 -0.711154   \n",
       "2016-01-02 08:00:00 -1.407892 -0.697965 -0.458523  0.074660  0.344257   \n",
       "2016-01-02 10:00:00 -1.407892 -0.697965 -0.458523  0.074660  0.344257   \n",
       "2016-01-02 12:00:00 -0.268644 -0.697965 -0.458523  0.074660 -0.711154   \n",
       "2016-01-02 14:00:00 -0.142061 -0.697965 -0.458523  0.074660 -0.183449   \n",
       "2016-01-02 16:00:00 -0.142061 -0.697965 -0.458523  0.074660 -0.183449   \n",
       "2016-01-02 18:00:00  0.364272 -0.103199 -0.458523 -0.061406 -0.711154   \n",
       "2016-01-02 20:00:00  0.364272 -0.103199 -0.458523 -0.061406 -0.711154   \n",
       "2016-01-02 22:00:00  0.364272 -0.103199 -0.458523 -0.061406 -0.711154   \n",
       "2016-01-03 00:00:00  0.364272 -0.103199 -0.458523 -0.061406 -0.711154   \n",
       "2016-01-03 02:00:00  0.364272 -0.103199 -0.458523 -0.061406 -0.711154   \n",
       "2016-01-03 04:00:00  0.364272 -0.103199 -0.458523 -0.061406 -0.711154   \n",
       "2016-01-03 06:00:00 -0.205352 -0.697965 -0.910680 -0.061406 -0.711154   \n",
       "2016-01-03 08:00:00  0.617438 -0.697965 -0.910680 -0.061406 -0.711154   \n",
       "2016-01-03 10:00:00  0.617438 -0.697965 -0.910680 -0.061406 -0.711154   \n",
       "2016-01-03 12:00:00 -0.078769 -0.697965 -0.910680 -0.061406  0.344257   \n",
       "2016-01-03 14:00:00  0.047814 -0.103199 -0.910680 -0.061406  0.344257   \n",
       "2016-01-03 16:00:00  0.047814 -0.103199 -0.910680 -0.061406  0.344257   \n",
       "2016-01-03 18:00:00 -0.078769  0.491567 -0.910680 -0.387965  0.344257   \n",
       "2016-01-03 20:00:00 -0.078769  0.491567 -0.910680 -0.387965  0.344257   \n",
       "2016-01-03 22:00:00 -0.078769  0.491567 -0.910680 -0.387965  0.344257   \n",
       "2016-01-04 00:00:00 -0.078769  0.491567 -0.910680 -0.387965  0.344257   \n",
       "2016-01-04 02:00:00 -0.078769  0.491567 -0.910680 -0.387965  0.344257   \n",
       "2016-01-04 04:00:00 -0.078769  0.491567 -0.910680 -0.387965  0.344257   \n",
       "2016-01-04 06:00:00  0.364272 -0.103199  0.167542 -0.387965 -0.711154   \n",
       "2016-01-04 08:00:00  0.490855 -0.697965  0.167542 -0.387965  0.344257   \n",
       "2016-01-04 10:00:00  0.490855 -0.697965  0.167542 -0.387965  0.344257   \n",
       "\n",
       "                        ...                                     aga_DD  \\\n",
       "2015-08-03 14:00:00     ...       Wind blowing from the west-southwest   \n",
       "2015-08-03 16:00:00     ...       Wind blowing from the west-southwest   \n",
       "2015-08-03 18:00:00     ...      Wind blowing from the south-southwest   \n",
       "2015-08-03 20:00:00     ...                Wind blowing from the south   \n",
       "2015-08-03 22:00:00     ...                Wind blowing from the south   \n",
       "2015-08-04 00:00:00     ...                              Calm, no wind   \n",
       "2015-08-04 02:00:00     ...                              Calm, no wind   \n",
       "2015-08-04 04:00:00     ...                 Wind blowing from the west   \n",
       "2015-08-04 06:00:00     ...                 Wind blowing from the west   \n",
       "2015-08-04 08:00:00     ...                              Calm, no wind   \n",
       "2015-08-04 10:00:00     ...       Wind blowing from the west-southwest   \n",
       "2015-08-04 12:00:00     ...                 Wind blowing from the west   \n",
       "2015-08-04 14:00:00     ...                 Wind blowing from the west   \n",
       "2015-08-04 16:00:00     ...                 Wind blowing from the west   \n",
       "2015-08-04 18:00:00     ...      Wind blowing from the south-southwest   \n",
       "2015-08-04 20:00:00     ...           Wind blowing from the south-west   \n",
       "2015-08-04 22:00:00     ...                 Wind blowing from the west   \n",
       "2015-08-05 00:00:00     ...           Wind blowing from the south-west   \n",
       "2015-08-05 02:00:00     ...                              Calm, no wind   \n",
       "2015-08-05 04:00:00     ...                Wind blowing from the south   \n",
       "2015-08-05 06:00:00     ...       Wind blowing from the west-southwest   \n",
       "2015-08-05 08:00:00     ...                    variable wind direction   \n",
       "2015-08-05 10:00:00     ...      Wind blowing from the north-northeast   \n",
       "2015-08-05 12:00:00     ...       Wind blowing from the west-northwest   \n",
       "2015-08-05 14:00:00     ...                                        NaN   \n",
       "2015-08-05 16:00:00     ...       Wind blowing from the west-southwest   \n",
       "2015-08-05 18:00:00     ...           Wind blowing from the south-west   \n",
       "2015-08-05 20:00:00     ...       Wind blowing from the west-southwest   \n",
       "2015-08-05 22:00:00     ...                    variable wind direction   \n",
       "2015-08-06 00:00:00     ...           Wind blowing from the south-east   \n",
       "...                     ...                                        ...   \n",
       "2016-01-02 00:00:00     ...       Wind blowing from the east-northeast   \n",
       "2016-01-02 02:00:00     ...                 Wind blowing from the east   \n",
       "2016-01-02 04:00:00     ...       Wind blowing from the east-northeast   \n",
       "2016-01-02 06:00:00     ...                 Wind blowing from the east   \n",
       "2016-01-02 08:00:00     ...       Wind blowing from the east-northeast   \n",
       "2016-01-02 10:00:00     ...       Wind blowing from the east-northeast   \n",
       "2016-01-02 12:00:00     ...                 Wind blowing from the east   \n",
       "2016-01-02 14:00:00     ...                 Wind blowing from the west   \n",
       "2016-01-02 16:00:00     ...       Wind blowing from the west-southwest   \n",
       "2016-01-02 18:00:00     ...       Wind blowing from the west-southwest   \n",
       "2016-01-02 20:00:00     ...                Wind blowing from the south   \n",
       "2016-01-02 22:00:00     ...      Wind blowing from the south-southeast   \n",
       "2016-01-03 00:00:00     ...       Wind blowing from the east-northeast   \n",
       "2016-01-03 02:00:00     ...                 Wind blowing from the east   \n",
       "2016-01-03 04:00:00     ...                 Wind blowing from the east   \n",
       "2016-01-03 06:00:00     ...                 Wind blowing from the east   \n",
       "2016-01-03 08:00:00     ...                Wind blowing from the north   \n",
       "2016-01-03 10:00:00     ...                 Wind blowing from the east   \n",
       "2016-01-03 12:00:00     ...       Wind blowing from the west-northwest   \n",
       "2016-01-03 14:00:00     ...                 Wind blowing from the west   \n",
       "2016-01-03 16:00:00     ...       Wind blowing from the west-southwest   \n",
       "2016-01-03 18:00:00     ...      Wind blowing from the south-southwest   \n",
       "2016-01-03 20:00:00     ...       Wind blowing from the east-southeast   \n",
       "2016-01-03 22:00:00     ...       Wind blowing from the east-northeast   \n",
       "2016-01-04 00:00:00     ...                 Wind blowing from the east   \n",
       "2016-01-04 02:00:00     ...                 Wind blowing from the east   \n",
       "2016-01-04 04:00:00     ...                 Wind blowing from the east   \n",
       "2016-01-04 06:00:00     ...           Wind blowing from the north-east   \n",
       "2016-01-04 08:00:00     ...                 Wind blowing from the east   \n",
       "2016-01-04 10:00:00     ...           Wind blowing from the north-east   \n",
       "\n",
       "                     aga_Ff  aga_ff10  aga_WW  aga_W'W'  \\\n",
       "2015-08-03 14:00:00       6       NaN     NaN       NaN   \n",
       "2015-08-03 16:00:00       6       NaN     NaN       NaN   \n",
       "2015-08-03 18:00:00       3       NaN     NaN       NaN   \n",
       "2015-08-03 20:00:00       4       NaN     NaN       NaN   \n",
       "2015-08-03 22:00:00       3       NaN     NaN       NaN   \n",
       "2015-08-04 00:00:00       0       NaN     NaN       NaN   \n",
       "2015-08-04 02:00:00       0       NaN     NaN       NaN   \n",
       "2015-08-04 04:00:00       1       NaN     NaN       NaN   \n",
       "2015-08-04 06:00:00       2       NaN     NaN       NaN   \n",
       "2015-08-04 08:00:00       0       NaN     NaN       NaN   \n",
       "2015-08-04 10:00:00       2       NaN     NaN       NaN   \n",
       "2015-08-04 12:00:00       3       NaN     NaN       NaN   \n",
       "2015-08-04 14:00:00       6       NaN     NaN       NaN   \n",
       "2015-08-04 16:00:00       6       NaN     NaN       NaN   \n",
       "2015-08-04 18:00:00       2       NaN     NaN       NaN   \n",
       "2015-08-04 20:00:00       2       NaN     NaN       NaN   \n",
       "2015-08-04 22:00:00       3       NaN     NaN       NaN   \n",
       "2015-08-05 00:00:00       2       NaN     NaN       NaN   \n",
       "2015-08-05 02:00:00       0       NaN     NaN       NaN   \n",
       "2015-08-05 04:00:00       2       NaN     NaN       NaN   \n",
       "2015-08-05 06:00:00       2       NaN     NaN       NaN   \n",
       "2015-08-05 08:00:00       1       NaN     NaN       NaN   \n",
       "2015-08-05 10:00:00       2       NaN     NaN       NaN   \n",
       "2015-08-05 12:00:00       2       NaN     NaN       NaN   \n",
       "2015-08-05 14:00:00     NaN       NaN     NaN       NaN   \n",
       "2015-08-05 16:00:00       6       NaN     NaN       NaN   \n",
       "2015-08-05 18:00:00       3       NaN     NaN       NaN   \n",
       "2015-08-05 20:00:00       2       NaN     NaN       NaN   \n",
       "2015-08-05 22:00:00       1       NaN     NaN       NaN   \n",
       "2015-08-06 00:00:00       2       NaN     NaN       NaN   \n",
       "...                     ...       ...     ...       ...   \n",
       "2016-01-02 00:00:00       2       NaN     NaN       NaN   \n",
       "2016-01-02 02:00:00       2       NaN     NaN       NaN   \n",
       "2016-01-02 04:00:00       3       NaN     NaN       NaN   \n",
       "2016-01-02 06:00:00       4       NaN     NaN       NaN   \n",
       "2016-01-02 08:00:00       4       NaN     NaN       NaN   \n",
       "2016-01-02 10:00:00       4       NaN     NaN       NaN   \n",
       "2016-01-02 12:00:00       3       NaN     NaN       NaN   \n",
       "2016-01-02 14:00:00       5       NaN     NaN       NaN   \n",
       "2016-01-02 16:00:00       4       NaN     NaN       NaN   \n",
       "2016-01-02 18:00:00       3       NaN     NaN       NaN   \n",
       "2016-01-02 20:00:00       4       NaN     NaN       NaN   \n",
       "2016-01-02 22:00:00       3       NaN     NaN       NaN   \n",
       "2016-01-03 00:00:00       2       NaN     NaN       NaN   \n",
       "2016-01-03 02:00:00       3       NaN     NaN       NaN   \n",
       "2016-01-03 04:00:00       3       NaN     NaN       NaN   \n",
       "2016-01-03 06:00:00       3       NaN     NaN       NaN   \n",
       "2016-01-03 08:00:00       2       NaN     NaN       NaN   \n",
       "2016-01-03 10:00:00       2       NaN     NaN       NaN   \n",
       "2016-01-03 12:00:00       2       NaN     NaN       NaN   \n",
       "2016-01-03 14:00:00       5       NaN     NaN       NaN   \n",
       "2016-01-03 16:00:00       4       NaN     NaN       NaN   \n",
       "2016-01-03 18:00:00       3       NaN     NaN       NaN   \n",
       "2016-01-03 20:00:00       2       NaN     NaN       NaN   \n",
       "2016-01-03 22:00:00       3       NaN     NaN       NaN   \n",
       "2016-01-04 00:00:00       3       NaN     NaN       NaN   \n",
       "2016-01-04 02:00:00       4       NaN     NaN       NaN   \n",
       "2016-01-04 04:00:00       3       NaN     NaN       NaN   \n",
       "2016-01-04 06:00:00       3       NaN     NaN       NaN   \n",
       "2016-01-04 08:00:00       3       NaN     NaN       NaN   \n",
       "2016-01-04 10:00:00       3       NaN     NaN       NaN   \n",
       "\n",
       "                                                                 aga_c  \\\n",
       "2015-08-03 14:00:00                              No Significant Clouds   \n",
       "2015-08-03 16:00:00                          Few clouds (10-30%) 480 m   \n",
       "2015-08-03 18:00:00                              No Significant Clouds   \n",
       "2015-08-03 20:00:00                              No Significant Clouds   \n",
       "2015-08-03 22:00:00                              No Significant Clouds   \n",
       "2015-08-04 00:00:00                              No Significant Clouds   \n",
       "2015-08-04 02:00:00                              No Significant Clouds   \n",
       "2015-08-04 04:00:00                              No Significant Clouds   \n",
       "2015-08-04 06:00:00  Scattered clouds (40-50%) 240 m, broken clouds...   \n",
       "2015-08-04 08:00:00  Scattered clouds (40-50%) 240 m, broken clouds...   \n",
       "2015-08-04 10:00:00                              No Significant Clouds   \n",
       "2015-08-04 12:00:00                              No Significant Clouds   \n",
       "2015-08-04 14:00:00                              No Significant Clouds   \n",
       "2015-08-04 16:00:00                              No Significant Clouds   \n",
       "2015-08-04 18:00:00                              No Significant Clouds   \n",
       "2015-08-04 20:00:00                              No Significant Clouds   \n",
       "2015-08-04 22:00:00                              No Significant Clouds   \n",
       "2015-08-05 00:00:00                              No Significant Clouds   \n",
       "2015-08-05 02:00:00                    Scattered clouds (40-50%) 300 m   \n",
       "2015-08-05 04:00:00                    Scattered clouds (40-50%) 300 m   \n",
       "2015-08-05 06:00:00                       Broken clouds (60-90%) 180 m   \n",
       "2015-08-05 08:00:00                       Broken clouds (60-90%) 120 m   \n",
       "2015-08-05 10:00:00  Few clouds (10-30%) 240 m, scattered clouds (4...   \n",
       "2015-08-05 12:00:00  Few clouds (10-30%) 240 m, scattered clouds (4...   \n",
       "2015-08-05 14:00:00                              No Significant Clouds   \n",
       "2015-08-05 16:00:00                              No Significant Clouds   \n",
       "2015-08-05 18:00:00                              No Significant Clouds   \n",
       "2015-08-05 20:00:00                              No Significant Clouds   \n",
       "2015-08-05 22:00:00                    Scattered clouds (40-50%) 600 m   \n",
       "2015-08-06 00:00:00                    Scattered clouds (40-50%) 600 m   \n",
       "...                                                                ...   \n",
       "2016-01-02 00:00:00                              No Significant Clouds   \n",
       "2016-01-02 02:00:00                              No Significant Clouds   \n",
       "2016-01-02 04:00:00                              No Significant Clouds   \n",
       "2016-01-02 06:00:00                              No Significant Clouds   \n",
       "2016-01-02 08:00:00                              No Significant Clouds   \n",
       "2016-01-02 10:00:00                              No Significant Clouds   \n",
       "2016-01-02 12:00:00                              No Significant Clouds   \n",
       "2016-01-02 14:00:00                              No Significant Clouds   \n",
       "2016-01-02 16:00:00                              No Significant Clouds   \n",
       "2016-01-02 18:00:00                              No Significant Clouds   \n",
       "2016-01-02 20:00:00                              No Significant Clouds   \n",
       "2016-01-02 22:00:00                              No Significant Clouds   \n",
       "2016-01-03 00:00:00                              No Significant Clouds   \n",
       "2016-01-03 02:00:00                              No Significant Clouds   \n",
       "2016-01-03 04:00:00                              No Significant Clouds   \n",
       "2016-01-03 06:00:00                                                NaN   \n",
       "2016-01-03 08:00:00                              No Significant Clouds   \n",
       "2016-01-03 10:00:00                              No Significant Clouds   \n",
       "2016-01-03 12:00:00                              No Significant Clouds   \n",
       "2016-01-03 14:00:00                              No Significant Clouds   \n",
       "2016-01-03 16:00:00                              No Significant Clouds   \n",
       "2016-01-03 18:00:00                              No Significant Clouds   \n",
       "2016-01-03 20:00:00                              No Significant Clouds   \n",
       "2016-01-03 22:00:00                    Scattered clouds (40-50%) 300 m   \n",
       "2016-01-04 00:00:00  Scattered clouds (40-50%) 300 m, broken clouds...   \n",
       "2016-01-04 02:00:00                       Broken clouds (60-90%) 480 m   \n",
       "2016-01-04 04:00:00                              No Significant Clouds   \n",
       "2016-01-04 06:00:00                              No Significant Clouds   \n",
       "2016-01-04 08:00:00                              No Significant Clouds   \n",
       "2016-01-04 10:00:00                              No Significant Clouds   \n",
       "\n",
       "                            aga_VV  aga_Td   group  yield_pred  \n",
       "2015-08-03 14:00:00  10.0 and more      17  group3           0  \n",
       "2015-08-03 16:00:00  10.0 and more      16  group3           0  \n",
       "2015-08-03 18:00:00  10.0 and more      16  group3           0  \n",
       "2015-08-03 20:00:00  10.0 and more      16  group3           0  \n",
       "2015-08-03 22:00:00  10.0 and more      17  group3           0  \n",
       "2015-08-04 00:00:00  10.0 and more      17  group3           0  \n",
       "2015-08-04 02:00:00  10.0 and more      16  group3           0  \n",
       "2015-08-04 04:00:00  10.0 and more      16  group3           0  \n",
       "2015-08-04 06:00:00  10.0 and more      17  group3           0  \n",
       "2015-08-04 08:00:00  10.0 and more      18  group3           0  \n",
       "2015-08-04 10:00:00  10.0 and more      17  group3           0  \n",
       "2015-08-04 12:00:00  10.0 and more      17  group3           0  \n",
       "2015-08-04 14:00:00  10.0 and more      17  group3           0  \n",
       "2015-08-04 16:00:00  10.0 and more      16  group3           0  \n",
       "2015-08-04 18:00:00  10.0 and more      16  group3           0  \n",
       "2015-08-04 20:00:00  10.0 and more      16  group3           0  \n",
       "2015-08-04 22:00:00  10.0 and more      17  group3           0  \n",
       "2015-08-05 00:00:00  10.0 and more      18  group3           0  \n",
       "2015-08-05 02:00:00  10.0 and more      18  group3           0  \n",
       "2015-08-05 04:00:00  10.0 and more      18  group3           0  \n",
       "2015-08-05 06:00:00  10.0 and more      18  group3           0  \n",
       "2015-08-05 08:00:00            6.0      19  group3           0  \n",
       "2015-08-05 10:00:00  10.0 and more      18  group3           0  \n",
       "2015-08-05 12:00:00  10.0 and more      18  group3           0  \n",
       "2015-08-05 14:00:00  10.0 and more      18  group3           0  \n",
       "2015-08-05 16:00:00  10.0 and more      18  group3           0  \n",
       "2015-08-05 18:00:00  10.0 and more      18  group3           0  \n",
       "2015-08-05 20:00:00  10.0 and more      18  group3           0  \n",
       "2015-08-05 22:00:00  10.0 and more      18  group3           0  \n",
       "2015-08-06 00:00:00  10.0 and more      18  group3           0  \n",
       "...                            ...     ...     ...         ...  \n",
       "2016-01-02 00:00:00  10.0 and more      10  group3           0  \n",
       "2016-01-02 02:00:00  10.0 and more       8  group3           0  \n",
       "2016-01-02 04:00:00  10.0 and more       4  group3           0  \n",
       "2016-01-02 06:00:00  10.0 and more       4  group3           0  \n",
       "2016-01-02 08:00:00  10.0 and more       2  group3           0  \n",
       "2016-01-02 10:00:00  10.0 and more       2  group3           0  \n",
       "2016-01-02 12:00:00  10.0 and more       1  group3           0  \n",
       "2016-01-02 14:00:00  10.0 and more       6  group3           0  \n",
       "2016-01-02 16:00:00  10.0 and more       4  group3           0  \n",
       "2016-01-02 18:00:00  10.0 and more       6  group3           0  \n",
       "2016-01-02 20:00:00  10.0 and more      11  group3           0  \n",
       "2016-01-02 22:00:00  10.0 and more      11  group3           0  \n",
       "2016-01-03 00:00:00  10.0 and more       8  group3           0  \n",
       "2016-01-03 02:00:00  10.0 and more       7  group3           0  \n",
       "2016-01-03 04:00:00  10.0 and more       6  group3           0  \n",
       "2016-01-03 06:00:00  10.0 and more       3  group3           0  \n",
       "2016-01-03 08:00:00  10.0 and more       2  group3           0  \n",
       "2016-01-03 10:00:00  10.0 and more       7  group3           0  \n",
       "2016-01-03 12:00:00  10.0 and more       2  group3           0  \n",
       "2016-01-03 14:00:00  10.0 and more       5  group3           0  \n",
       "2016-01-03 16:00:00  10.0 and more       3  group3           0  \n",
       "2016-01-03 18:00:00  10.0 and more      13  group3           0  \n",
       "2016-01-03 20:00:00  10.0 and more      13  group3           0  \n",
       "2016-01-03 22:00:00  10.0 and more      14  group3           0  \n",
       "2016-01-04 00:00:00  10.0 and more      13  group3           0  \n",
       "2016-01-04 02:00:00  10.0 and more       9  group3           0  \n",
       "2016-01-04 04:00:00  10.0 and more      11  group3           0  \n",
       "2016-01-04 06:00:00  10.0 and more       7  group3           0  \n",
       "2016-01-04 08:00:00  10.0 and more       6  group3           0  \n",
       "2016-01-04 10:00:00  10.0 and more      10  group3           0  \n",
       "\n",
       "[1847 rows x 87 columns]"
      ]
     },
     "execution_count": 155,
     "metadata": {},
     "output_type": "execute_result"
    }
   ],
   "source": [
    "gp"
   ]
  },
  {
   "cell_type": "code",
   "execution_count": 151,
   "metadata": {
    "collapsed": false
   },
   "outputs": [
    {
     "name": "stdout",
     "output_type": "stream",
     "text": [
      "Le train is composed by 1 group and 3058 observation\n",
      "Le test is composed by 1 group and 1020 observation\n",
      "train summary:\n",
      "    rmse : 100000.000\n",
      "    aic : 100000.000\n",
      "    bic : 100000.000\n",
      "    hqic : 100000.000\n",
      "test summary:\n",
      "    rmse : 2.000\n",
      "    aic : 2.000\n",
      "    bic : 2.000\n",
      "    hqic : 2.000\n"
     ]
    },
    {
     "ename": "TypeError",
     "evalue": "<statsmodels.tsa.statespace.sarimax.SARIMAXResultsWrapper object at 0x121cb8210> is not JSON serializable",
     "output_type": "error",
     "traceback": [
      "\u001b[0;31m---------------------------------------------------------------------------\u001b[0m",
      "\u001b[0;31mTypeError\u001b[0m                                 Traceback (most recent call last)",
      "\u001b[0;32m<ipython-input-151-22a9f6312119>\u001b[0m in \u001b[0;36m<module>\u001b[0;34m()\u001b[0m\n\u001b[0;32m----> 1\u001b[0;31m \u001b[0mmodel\u001b[0m\u001b[0;34m.\u001b[0m\u001b[0mtrain\u001b[0m\u001b[0;34m(\u001b[0m\u001b[0;34m)\u001b[0m\u001b[0;34m\u001b[0m\u001b[0m\n\u001b[0m",
      "\u001b[0;32m/Users/thorey/Documents/project/competition/fognet/utils/arima_utils.py\u001b[0m in \u001b[0;36mtrain\u001b[0;34m(self)\u001b[0m\n\u001b[1;32m    173\u001b[0m         \u001b[0mself\u001b[0m\u001b[0;34m.\u001b[0m\u001b[0mget_summary\u001b[0m\u001b[0;34m(\u001b[0m\u001b[0mtrain_score\u001b[0m\u001b[0;34m,\u001b[0m \u001b[0msplit\u001b[0m\u001b[0;34m=\u001b[0m\u001b[0;34m'train'\u001b[0m\u001b[0;34m)\u001b[0m\u001b[0;34m\u001b[0m\u001b[0m\n\u001b[1;32m    174\u001b[0m         \u001b[0mself\u001b[0m\u001b[0;34m.\u001b[0m\u001b[0mget_summary\u001b[0m\u001b[0;34m(\u001b[0m\u001b[0mtest_score\u001b[0m\u001b[0;34m,\u001b[0m \u001b[0msplit\u001b[0m\u001b[0;34m=\u001b[0m\u001b[0;34m'test'\u001b[0m\u001b[0;34m)\u001b[0m\u001b[0;34m\u001b[0m\u001b[0m\n\u001b[0;32m--> 175\u001b[0;31m         \u001b[0mself\u001b[0m\u001b[0;34m.\u001b[0m\u001b[0mdump_final_config_file\u001b[0m\u001b[0;34m(\u001b[0m\u001b[0;34m)\u001b[0m\u001b[0;34m\u001b[0m\u001b[0m\n\u001b[0m\u001b[1;32m    176\u001b[0m \u001b[0;34m\u001b[0m\u001b[0m\n\u001b[1;32m    177\u001b[0m     \u001b[0;32mdef\u001b[0m \u001b[0miterative_fit\u001b[0m\u001b[0;34m(\u001b[0m\u001b[0mself\u001b[0m\u001b[0;34m,\u001b[0m \u001b[0mepsilon_threeshold\u001b[0m\u001b[0;34m)\u001b[0m\u001b[0;34m:\u001b[0m\u001b[0;34m\u001b[0m\u001b[0m\n",
      "\u001b[0;32m/Users/thorey/Documents/project/competition/fognet/utils/arima_utils.py\u001b[0m in \u001b[0;36mdump_final_config_file\u001b[0;34m(self)\u001b[0m\n\u001b[1;32m    209\u001b[0m         config = {k: v for k, v in props(\n\u001b[1;32m    210\u001b[0m             self).iteritems() if k not in unwanted}\n\u001b[0;32m--> 211\u001b[0;31m         \u001b[0mdump_conf_file\u001b[0m\u001b[0;34m(\u001b[0m\u001b[0mconfig\u001b[0m\u001b[0;34m,\u001b[0m \u001b[0mos\u001b[0m\u001b[0;34m.\u001b[0m\u001b[0mpath\u001b[0m\u001b[0;34m.\u001b[0m\u001b[0mexpanduser\u001b[0m\u001b[0;34m(\u001b[0m\u001b[0mself\u001b[0m\u001b[0;34m.\u001b[0m\u001b[0mfolder\u001b[0m\u001b[0;34m)\u001b[0m\u001b[0;34m)\u001b[0m\u001b[0;34m\u001b[0m\u001b[0m\n\u001b[0m\u001b[1;32m    212\u001b[0m \u001b[0;34m\u001b[0m\u001b[0m\n\u001b[1;32m    213\u001b[0m     \u001b[0;32mdef\u001b[0m \u001b[0mget_rmse\u001b[0m\u001b[0;34m(\u001b[0m\u001b[0mself\u001b[0m\u001b[0;34m,\u001b[0m \u001b[0mdf\u001b[0m\u001b[0;34m,\u001b[0m \u001b[0magainst\u001b[0m\u001b[0;34m=\u001b[0m\u001b[0;34m'yield_pred'\u001b[0m\u001b[0;34m)\u001b[0m\u001b[0;34m:\u001b[0m\u001b[0;34m\u001b[0m\u001b[0m\n",
      "\u001b[0;32m/Users/thorey/Documents/project/competition/fognet/utils/helper.py\u001b[0m in \u001b[0;36mdump_conf_file\u001b[0;34m(config, fname)\u001b[0m\n\u001b[1;32m     19\u001b[0m                   \u001b[0msort_keys\u001b[0m\u001b[0;34m=\u001b[0m\u001b[0mTrue\u001b[0m\u001b[0;34m,\u001b[0m\u001b[0;34m\u001b[0m\u001b[0m\n\u001b[1;32m     20\u001b[0m                   \u001b[0mindent\u001b[0m\u001b[0;34m=\u001b[0m\u001b[0;36m4\u001b[0m\u001b[0;34m,\u001b[0m\u001b[0;34m\u001b[0m\u001b[0m\n\u001b[0;32m---> 21\u001b[0;31m                   ensure_ascii=False)\n\u001b[0m\u001b[1;32m     22\u001b[0m \u001b[0;34m\u001b[0m\u001b[0m\n\u001b[1;32m     23\u001b[0m \u001b[0;34m\u001b[0m\u001b[0m\n",
      "\u001b[0;32m/Users/thorey/miniconda2/envs/fognet/lib/python2.7/json/__init__.pyc\u001b[0m in \u001b[0;36mdump\u001b[0;34m(obj, fp, skipkeys, ensure_ascii, check_circular, allow_nan, cls, indent, separators, encoding, default, sort_keys, **kw)\u001b[0m\n\u001b[1;32m    187\u001b[0m     \u001b[0;31m# could accelerate with writelines in some versions of Python, at\u001b[0m\u001b[0;34m\u001b[0m\u001b[0;34m\u001b[0m\u001b[0m\n\u001b[1;32m    188\u001b[0m     \u001b[0;31m# a debuggability cost\u001b[0m\u001b[0;34m\u001b[0m\u001b[0;34m\u001b[0m\u001b[0m\n\u001b[0;32m--> 189\u001b[0;31m     \u001b[0;32mfor\u001b[0m \u001b[0mchunk\u001b[0m \u001b[0;32min\u001b[0m \u001b[0miterable\u001b[0m\u001b[0;34m:\u001b[0m\u001b[0;34m\u001b[0m\u001b[0m\n\u001b[0m\u001b[1;32m    190\u001b[0m         \u001b[0mfp\u001b[0m\u001b[0;34m.\u001b[0m\u001b[0mwrite\u001b[0m\u001b[0;34m(\u001b[0m\u001b[0mchunk\u001b[0m\u001b[0;34m)\u001b[0m\u001b[0;34m\u001b[0m\u001b[0m\n\u001b[1;32m    191\u001b[0m \u001b[0;34m\u001b[0m\u001b[0m\n",
      "\u001b[0;32m/Users/thorey/miniconda2/envs/fognet/lib/python2.7/json/encoder.pyc\u001b[0m in \u001b[0;36m_iterencode\u001b[0;34m(o, _current_indent_level)\u001b[0m\n\u001b[1;32m    432\u001b[0m                 \u001b[0;32myield\u001b[0m \u001b[0mchunk\u001b[0m\u001b[0;34m\u001b[0m\u001b[0m\n\u001b[1;32m    433\u001b[0m         \u001b[0;32melif\u001b[0m \u001b[0misinstance\u001b[0m\u001b[0;34m(\u001b[0m\u001b[0mo\u001b[0m\u001b[0;34m,\u001b[0m \u001b[0mdict\u001b[0m\u001b[0;34m)\u001b[0m\u001b[0;34m:\u001b[0m\u001b[0;34m\u001b[0m\u001b[0m\n\u001b[0;32m--> 434\u001b[0;31m             \u001b[0;32mfor\u001b[0m \u001b[0mchunk\u001b[0m \u001b[0;32min\u001b[0m \u001b[0m_iterencode_dict\u001b[0m\u001b[0;34m(\u001b[0m\u001b[0mo\u001b[0m\u001b[0;34m,\u001b[0m \u001b[0m_current_indent_level\u001b[0m\u001b[0;34m)\u001b[0m\u001b[0;34m:\u001b[0m\u001b[0;34m\u001b[0m\u001b[0m\n\u001b[0m\u001b[1;32m    435\u001b[0m                 \u001b[0;32myield\u001b[0m \u001b[0mchunk\u001b[0m\u001b[0;34m\u001b[0m\u001b[0m\n\u001b[1;32m    436\u001b[0m         \u001b[0;32melse\u001b[0m\u001b[0;34m:\u001b[0m\u001b[0;34m\u001b[0m\u001b[0m\n",
      "\u001b[0;32m/Users/thorey/miniconda2/envs/fognet/lib/python2.7/json/encoder.pyc\u001b[0m in \u001b[0;36m_iterencode_dict\u001b[0;34m(dct, _current_indent_level)\u001b[0m\n\u001b[1;32m    406\u001b[0m                 \u001b[0;32melse\u001b[0m\u001b[0;34m:\u001b[0m\u001b[0;34m\u001b[0m\u001b[0m\n\u001b[1;32m    407\u001b[0m                     \u001b[0mchunks\u001b[0m \u001b[0;34m=\u001b[0m \u001b[0m_iterencode\u001b[0m\u001b[0;34m(\u001b[0m\u001b[0mvalue\u001b[0m\u001b[0;34m,\u001b[0m \u001b[0m_current_indent_level\u001b[0m\u001b[0;34m)\u001b[0m\u001b[0;34m\u001b[0m\u001b[0m\n\u001b[0;32m--> 408\u001b[0;31m                 \u001b[0;32mfor\u001b[0m \u001b[0mchunk\u001b[0m \u001b[0;32min\u001b[0m \u001b[0mchunks\u001b[0m\u001b[0;34m:\u001b[0m\u001b[0;34m\u001b[0m\u001b[0m\n\u001b[0m\u001b[1;32m    409\u001b[0m                     \u001b[0;32myield\u001b[0m \u001b[0mchunk\u001b[0m\u001b[0;34m\u001b[0m\u001b[0m\n\u001b[1;32m    410\u001b[0m         \u001b[0;32mif\u001b[0m \u001b[0mnewline_indent\u001b[0m \u001b[0;32mis\u001b[0m \u001b[0;32mnot\u001b[0m \u001b[0mNone\u001b[0m\u001b[0;34m:\u001b[0m\u001b[0;34m\u001b[0m\u001b[0m\n",
      "\u001b[0;32m/Users/thorey/miniconda2/envs/fognet/lib/python2.7/json/encoder.pyc\u001b[0m in \u001b[0;36m_iterencode\u001b[0;34m(o, _current_indent_level)\u001b[0m\n\u001b[1;32m    440\u001b[0m                     \u001b[0;32mraise\u001b[0m \u001b[0mValueError\u001b[0m\u001b[0;34m(\u001b[0m\u001b[0;34m\"Circular reference detected\"\u001b[0m\u001b[0;34m)\u001b[0m\u001b[0;34m\u001b[0m\u001b[0m\n\u001b[1;32m    441\u001b[0m                 \u001b[0mmarkers\u001b[0m\u001b[0;34m[\u001b[0m\u001b[0mmarkerid\u001b[0m\u001b[0;34m]\u001b[0m \u001b[0;34m=\u001b[0m \u001b[0mo\u001b[0m\u001b[0;34m\u001b[0m\u001b[0m\n\u001b[0;32m--> 442\u001b[0;31m             \u001b[0mo\u001b[0m \u001b[0;34m=\u001b[0m \u001b[0m_default\u001b[0m\u001b[0;34m(\u001b[0m\u001b[0mo\u001b[0m\u001b[0;34m)\u001b[0m\u001b[0;34m\u001b[0m\u001b[0m\n\u001b[0m\u001b[1;32m    443\u001b[0m             \u001b[0;32mfor\u001b[0m \u001b[0mchunk\u001b[0m \u001b[0;32min\u001b[0m \u001b[0m_iterencode\u001b[0m\u001b[0;34m(\u001b[0m\u001b[0mo\u001b[0m\u001b[0;34m,\u001b[0m \u001b[0m_current_indent_level\u001b[0m\u001b[0;34m)\u001b[0m\u001b[0;34m:\u001b[0m\u001b[0;34m\u001b[0m\u001b[0m\n\u001b[1;32m    444\u001b[0m                 \u001b[0;32myield\u001b[0m \u001b[0mchunk\u001b[0m\u001b[0;34m\u001b[0m\u001b[0m\n",
      "\u001b[0;32m/Users/thorey/miniconda2/envs/fognet/lib/python2.7/json/encoder.pyc\u001b[0m in \u001b[0;36mdefault\u001b[0;34m(self, o)\u001b[0m\n\u001b[1;32m    182\u001b[0m \u001b[0;34m\u001b[0m\u001b[0m\n\u001b[1;32m    183\u001b[0m         \"\"\"\n\u001b[0;32m--> 184\u001b[0;31m         \u001b[0;32mraise\u001b[0m \u001b[0mTypeError\u001b[0m\u001b[0;34m(\u001b[0m\u001b[0mrepr\u001b[0m\u001b[0;34m(\u001b[0m\u001b[0mo\u001b[0m\u001b[0;34m)\u001b[0m \u001b[0;34m+\u001b[0m \u001b[0;34m\" is not JSON serializable\"\u001b[0m\u001b[0;34m)\u001b[0m\u001b[0;34m\u001b[0m\u001b[0m\n\u001b[0m\u001b[1;32m    185\u001b[0m \u001b[0;34m\u001b[0m\u001b[0m\n\u001b[1;32m    186\u001b[0m     \u001b[0;32mdef\u001b[0m \u001b[0mencode\u001b[0m\u001b[0;34m(\u001b[0m\u001b[0mself\u001b[0m\u001b[0;34m,\u001b[0m \u001b[0mo\u001b[0m\u001b[0;34m)\u001b[0m\u001b[0;34m:\u001b[0m\u001b[0;34m\u001b[0m\u001b[0m\n",
      "\u001b[0;31mTypeError\u001b[0m: <statsmodels.tsa.statespace.sarimax.SARIMAXResultsWrapper object at 0x121cb8210> is not JSON serializable"
     ]
    }
   ],
   "source": [
    "model.train()"
   ]
  },
  {
   "cell_type": "code",
   "execution_count": 135,
   "metadata": {
    "collapsed": false
   },
   "outputs": [],
   "source": [
    "            df_model = model.get_model_architecture(train)\n",
    "            df_results = df_model.fit(maxiter=100, disp=1)"
   ]
  },
  {
   "cell_type": "code",
   "execution_count": 136,
   "metadata": {
    "collapsed": false
   },
   "outputs": [
    {
     "data": {
      "text/plain": [
       "<statsmodels.tsa.statespace.sarimax.SARIMAXResultsWrapper at 0x1187be5d0>"
      ]
     },
     "execution_count": 136,
     "metadata": {},
     "output_type": "execute_result"
    }
   ],
   "source": [
    "df_results"
   ]
  },
  {
   "cell_type": "code",
   "execution_count": null,
   "metadata": {
    "collapsed": true
   },
   "outputs": [],
   "source": [
    "df_resultsultss"
   ]
  },
  {
   "cell_type": "code",
   "execution_count": 125,
   "metadata": {
    "collapsed": false
   },
   "outputs": [
    {
     "name": "stdout",
     "output_type": "stream",
     "text": [
      "third try\n"
     ]
    },
    {
     "ename": "ValueError",
     "evalue": "",
     "output_type": "error",
     "traceback": [
      "\u001b[0;31m---------------------------------------------------------------------------\u001b[0m",
      "\u001b[0;31mValueError\u001b[0m                                Traceback (most recent call last)",
      "\u001b[0;32m<ipython-input-125-8f976bd93a50>\u001b[0m in \u001b[0;36m<module>\u001b[0;34m()\u001b[0m\n\u001b[0;32m----> 1\u001b[0;31m \u001b[0mmodel\u001b[0m\u001b[0;34m.\u001b[0m\u001b[0mfit\u001b[0m\u001b[0;34m(\u001b[0m\u001b[0mmodel\u001b[0m\u001b[0;34m.\u001b[0m\u001b[0mdf\u001b[0m\u001b[0;34m)\u001b[0m\u001b[0;34m\u001b[0m\u001b[0m\n\u001b[0m",
      "\u001b[0;32m/Users/thorey/Documents/project/competition/fognet/utils/arima_utils.py\u001b[0m in \u001b[0;36mfit\u001b[0;34m(name, df, disp, maxiter)\u001b[0m\n\u001b[1;32m    125\u001b[0m         \u001b[0;32mexcept\u001b[0m\u001b[0;34m:\u001b[0m\u001b[0;34m\u001b[0m\u001b[0m\n\u001b[1;32m    126\u001b[0m             \u001b[0;32mprint\u001b[0m \u001b[0;34m'third try'\u001b[0m\u001b[0;34m\u001b[0m\u001b[0m\n\u001b[0;32m--> 127\u001b[0;31m             \u001b[0;32mraise\u001b[0m \u001b[0mValueError\u001b[0m\u001b[0;34m(\u001b[0m\u001b[0;34m)\u001b[0m\u001b[0;34m\u001b[0m\u001b[0m\n\u001b[0m\u001b[1;32m    128\u001b[0m         \u001b[0msetattr\u001b[0m\u001b[0;34m(\u001b[0m\u001b[0mself\u001b[0m\u001b[0;34m,\u001b[0m \u001b[0;34m'model_'\u001b[0m \u001b[0;34m+\u001b[0m \u001b[0mname\u001b[0m\u001b[0;34m,\u001b[0m \u001b[0mdf_results\u001b[0m\u001b[0;34m)\u001b[0m\u001b[0;34m\u001b[0m\u001b[0m\n\u001b[1;32m    129\u001b[0m         \u001b[0mgetattr\u001b[0m\u001b[0;34m(\u001b[0m\u001b[0mself\u001b[0m\u001b[0;34m,\u001b[0m \u001b[0;34m'save_'\u001b[0m \u001b[0;34m+\u001b[0m \u001b[0mname\u001b[0m\u001b[0;34m)\u001b[0m\u001b[0;34m(\u001b[0m\u001b[0mdf_results\u001b[0m\u001b[0;34m)\u001b[0m\u001b[0;34m\u001b[0m\u001b[0m\n",
      "\u001b[0;31mValueError\u001b[0m: "
     ]
    }
   ],
   "source": [
    "model.fit(model.df)"
   ]
  },
  {
   "cell_type": "code",
   "execution_count": 104,
   "metadata": {
    "collapsed": false
   },
   "outputs": [
    {
     "name": "stderr",
     "output_type": "stream",
     "text": [
      "[autoreload of utils.arima_utils failed: Traceback (most recent call last):\n",
      "  File \"/Users/thorey/miniconda2/envs/fognet/lib/python2.7/site-packages/IPython/extensions/autoreload.py\", line 247, in check\n",
      "    superreload(m, reload, self.old_objects)\n",
      "  File \"utils/arima_utils.py\", line 176\n",
      "    def iterative_fit(self, epsilon_threeshold):\n",
      "      ^\n",
      "IndentationError: expected an indented block\n",
      "]\n"
     ]
    },
    {
     "data": {
      "text/plain": [
       "feat_0     4.681099e-01\n",
       "feat_1     7.995832e-01\n",
       "feat_2    -4.557650e-01\n",
       "feat_3    -9.346223e-02\n",
       "feat_4     4.962536e-01\n",
       "feat_5    -2.779085e-02\n",
       "feat_6    -1.083388e-01\n",
       "feat_7     1.973641e-01\n",
       "feat_8    -2.408663e-03\n",
       "feat_9    -2.966867e-01\n",
       "feat_10   -7.648840e-02\n",
       "feat_11    3.323790e-02\n",
       "feat_12    1.954788e-16\n",
       "feat_13   -1.820818e-01\n",
       "feat_14    1.226888e+00\n",
       "feat_15   -7.753842e-03\n",
       "feat_16    1.393780e+00\n",
       "feat_17   -2.809595e+00\n",
       "feat_18    3.547140e+00\n",
       "feat_19    1.172686e+00\n",
       "feat_20    4.482022e-01\n",
       "feat_21    3.007285e-01\n",
       "feat_22   -7.207876e-02\n",
       "feat_23    1.012638e+00\n",
       "feat_24    7.594804e-02\n",
       "feat_25    3.604874e-02\n",
       "feat_26   -7.780199e-02\n",
       "feat_27    2.314502e+00\n",
       "feat_28   -2.120518e+00\n",
       "feat_29   -6.956145e-01\n",
       "feat_30   -2.811122e-01\n",
       "feat_31    3.361432e-01\n",
       "feat_32    5.483801e-01\n",
       "feat_33    5.835140e-01\n",
       "feat_34   -3.476975e-02\n",
       "feat_35   -3.851115e-03\n",
       "ma.L1     -3.086090e-02\n",
       "sigma2     4.372129e+00\n",
       "dtype: float64"
      ]
     },
     "execution_count": 104,
     "metadata": {},
     "output_type": "execute_result"
    }
   ],
   "source": [
    "model.params_group0"
   ]
  },
  {
   "cell_type": "code",
   "execution_count": 102,
   "metadata": {
    "collapsed": false
   },
   "outputs": [
    {
     "ename": "NameError",
     "evalue": "name 'train' is not defined",
     "output_type": "error",
     "traceback": [
      "\u001b[0;31m---------------------------------------------------------------------------\u001b[0m",
      "\u001b[0;31mNameError\u001b[0m                                 Traceback (most recent call last)",
      "\u001b[0;32m<ipython-input-102-06d0d813d671>\u001b[0m in \u001b[0;36m<module>\u001b[0;34m()\u001b[0m\n\u001b[0;32m----> 1\u001b[0;31m \u001b[0mmodel\u001b[0m\u001b[0;34m.\u001b[0m\u001b[0mget_model\u001b[0m\u001b[0;34m(\u001b[0m\u001b[0mtrain\u001b[0m\u001b[0;34m)\u001b[0m\u001b[0;34m\u001b[0m\u001b[0m\n\u001b[0m",
      "\u001b[0;31mNameError\u001b[0m: name 'train' is not defined"
     ]
    }
   ],
   "source": [
    "model.get_model(train)"
   ]
  },
  {
   "cell_type": "code",
   "execution_count": 85,
   "metadata": {
    "collapsed": false
   },
   "outputs": [
    {
     "name": "stdout",
     "output_type": "stream",
     "text": [
      "Le train is composed by 1 group and 3058 observation\n",
      "Le test is composed by 1 group and 1020 observation\n",
      "Le train is composed by 1 group and 1089 observation\n",
      "Le test is composed by 1 group and 363 observation\n"
     ]
    },
    {
     "name": "stderr",
     "output_type": "stream",
     "text": [
      "/Users/thorey/miniconda2/envs/fognet/lib/python2.7/site-packages/statsmodels-0.8.0-py2.7-macosx-10.5-x86_64.egg/statsmodels/base/model.py:471: ConvergenceWarning: Maximum Likelihood optimization failed to converge. Check mle_retvals\n",
      "  \"Check mle_retvals\", ConvergenceWarning)\n"
     ]
    },
    {
     "name": "stdout",
     "output_type": "stream",
     "text": [
      "Le train is composed by 1 group and 1385 observation\n",
      "Le test is composed by 1 group and 462 observation\n"
     ]
    },
    {
     "name": "stderr",
     "output_type": "stream",
     "text": [
      "/Users/thorey/miniconda2/envs/fognet/lib/python2.7/site-packages/statsmodels-0.8.0-py2.7-macosx-10.5-x86_64.egg/statsmodels/base/model.py:471: ConvergenceWarning: Maximum Likelihood optimization failed to converge. Check mle_retvals\n",
      "  \"Check mle_retvals\", ConvergenceWarning)\n"
     ]
    },
    {
     "name": "stdout",
     "output_type": "stream",
     "text": [
      "Will write output to ~/Documents/project/competition/fognet/models/bbking/arima/model_0/AR_0_MA_1_D_1/submissions_20160408_152939.csv\n",
      "train summary:\n",
      "    rmse : 1.825\n",
      "    aic : 7377.840\n",
      "    bic : 7583.698\n",
      "    hqic : 7453.998\n",
      "test summary:\n",
      "    rmse : 0.904\n",
      "    aic : 2084.483\n",
      "    bic : 2248.611\n",
      "    hqic : 2148.414\n"
     ]
    }
   ],
   "source": [
    "model.train()"
   ]
  },
  {
   "cell_type": "code",
   "execution_count": 63,
   "metadata": {
    "collapsed": false
   },
   "outputs": [
    {
     "data": {
      "text/plain": [
       "((0, 1, 1), (0, 0, 0, 0))"
      ]
     },
     "execution_count": 63,
     "metadata": {},
     "output_type": "execute_result"
    }
   ],
   "source": [
    "model.order,model.seasonal_order"
   ]
  },
  {
   "cell_type": "code",
   "execution_count": 68,
   "metadata": {
    "collapsed": false
   },
   "outputs": [
    {
     "name": "stdout",
     "output_type": "stream",
     "text": [
      "group0\n",
      "group1\n",
      "group3\n"
     ]
    }
   ],
   "source": [
    "for name,gp in model.dfgroup:\n",
    "    print name"
   ]
  },
  {
   "cell_type": "code",
   "execution_count": 77,
   "metadata": {
    "collapsed": false
   },
   "outputs": [
    {
     "name": "stdout",
     "output_type": "stream",
     "text": [
      "Le train is composed by 1 group and 1385 observation\n",
      "Le test is composed by 1 group and 462 observation\n"
     ]
    },
    {
     "name": "stderr",
     "output_type": "stream",
     "text": [
      "/Users/thorey/miniconda2/envs/fognet/lib/python2.7/site-packages/statsmodels-0.8.0-py2.7-macosx-10.5-x86_64.egg/statsmodels/base/model.py:471: ConvergenceWarning: Maximum Likelihood optimization failed to converge. Check mle_retvals\n",
      "  \"Check mle_retvals\", ConvergenceWarning)\n"
     ]
    },
    {
     "data": {
      "text/plain": [
       "([1.1714420232523794,\n",
       "  4228.1838761035497,\n",
       "  4427.0551820111641,\n",
       "  4302.5663566949088,\n",
       "  1385],\n",
       " [0.21128564093178817,\n",
       "  1033.5371103243644,\n",
       "  1190.6885761854705,\n",
       "  1095.408873778325,\n",
       "  462])"
      ]
     },
     "execution_count": 77,
     "metadata": {},
     "output_type": "execute_result"
    }
   ],
   "source": [
    "model.fit_group(name,gp)"
   ]
  },
  {
   "cell_type": "code",
   "execution_count": 73,
   "metadata": {
    "collapsed": false
   },
   "outputs": [
    {
     "data": {
      "text/plain": [
       "False"
      ]
     },
     "execution_count": 73,
     "metadata": {},
     "output_type": "execute_result"
    }
   ],
   "source": [
    "model.save_group3.path=='/Users/thorey/Documents/project/competition/fognet/models/bbking/arima/model_0/AR_0_MA_1_D_1/model_group3.pkl'"
   ]
  },
  {
   "cell_type": "code",
   "execution_count": 74,
   "metadata": {
    "collapsed": false
   },
   "outputs": [
    {
     "data": {
      "text/plain": [
       "u'~/Documents/project/competition/fognet/models/bbking/arima/model_0/AR_0_MA_1_D_1/model_group3.pkl'"
      ]
     },
     "execution_count": 74,
     "metadata": {},
     "output_type": "execute_result"
    }
   ],
   "source": [
    "model.save_group3.path"
   ]
  },
  {
   "cell_type": "code",
   "execution_count": 61,
   "metadata": {
    "collapsed": false
   },
   "outputs": [
    {
     "name": "stdout",
     "output_type": "stream",
     "text": [
      "Le train is composed by 1 group and 3058 observation\n",
      "Le test is composed by 1 group and 1020 observation\n",
      "train summary:\n",
      "    rmse : 100000.000\n",
      "    aic : 100000.000\n",
      "    bic : 100000.000\n",
      "    hqic : 100000.000\n",
      "test summary:\n",
      "    rmse : 2.000\n",
      "    aic : 2.000\n",
      "    bic : 2.000\n",
      "    hqic : 2.000\n"
     ]
    }
   ],
   "source": [
    "model.fit()"
   ]
  },
  {
   "cell_type": "code",
   "execution_count": 58,
   "metadata": {
    "collapsed": true
   },
   "outputs": [],
   "source": [
    "        unwanted = ['df', 'architecture', 'pipeline', 'pipeline_yield']\n",
    "        unwanted += ['save_' + group for group in model.dfgroup.groups.keys()]"
   ]
  },
  {
   "cell_type": "code",
   "execution_count": 59,
   "metadata": {
    "collapsed": false
   },
   "outputs": [
    {
     "data": {
      "text/plain": [
       "['df',\n",
       " 'architecture',\n",
       " 'pipeline',\n",
       " 'pipeline_yield',\n",
       " 'save_group1',\n",
       " 'save_group0',\n",
       " 'save_group3']"
      ]
     },
     "execution_count": 59,
     "metadata": {},
     "output_type": "execute_result"
    }
   ],
   "source": [
    "unwanted"
   ]
  },
  {
   "cell_type": "code",
   "execution_count": 49,
   "metadata": {
    "collapsed": true
   },
   "outputs": [],
   "source": [
    "\n",
    "dfg = model.df.groupby('group')"
   ]
  },
  {
   "cell_type": "code",
   "execution_count": 51,
   "metadata": {
    "collapsed": false
   },
   "outputs": [
    {
     "data": {
      "text/plain": [
       "['group1', 'group0', 'group3']"
      ]
     },
     "execution_count": 51,
     "metadata": {},
     "output_type": "execute_result"
    }
   ],
   "source": [
    "dfg.groups.keys()"
   ]
  },
  {
   "cell_type": "code",
   "execution_count": 18,
   "metadata": {
    "collapsed": false
   },
   "outputs": [],
   "source": [
    "mod = model.get_model(model.df)"
   ]
  },
  {
   "cell_type": "code",
   "execution_count": 37,
   "metadata": {
    "collapsed": false
   },
   "outputs": [],
   "source": [
    "mres = mod.fit()"
   ]
  },
  {
   "cell_type": "code",
   "execution_count": null,
   "metadata": {
    "collapsed": true
   },
   "outputs": [],
   "source": [
    "model.mo"
   ]
  },
  {
   "cell_type": "code",
   "execution_count": 105,
   "metadata": {
    "collapsed": false
   },
   "outputs": [],
   "source": [
    "from utils.hook import SaveArimaParameters"
   ]
  },
  {
   "cell_type": "code",
   "execution_count": 106,
   "metadata": {
    "collapsed": false
   },
   "outputs": [],
   "source": [
    "a = SaveArimaParameters(name)"
   ]
  },
  {
   "cell_type": "code",
   "execution_count": 112,
   "metadata": {
    "collapsed": false
   },
   "outputs": [],
   "source": [
    "name = os.path.join(os.getcwd(),'test.pkl')"
   ]
  },
  {
   "cell_type": "code",
   "execution_count": 113,
   "metadata": {
    "collapsed": false
   },
   "outputs": [],
   "source": [
    "a(mres)"
   ]
  },
  {
   "cell_type": "code",
   "execution_count": null,
   "metadata": {
    "collapsed": false
   },
   "outputs": [],
   "source": []
  },
  {
   "cell_type": "code",
   "execution_count": 114,
   "metadata": {
    "collapsed": false
   },
   "outputs": [
    {
     "data": {
      "text/plain": [
       "'/Users/thorey/Documents/project/competition/fognet'"
      ]
     },
     "execution_count": 114,
     "metadata": {},
     "output_type": "execute_result"
    }
   ],
   "source": [
    "os.getcwd()"
   ]
  },
  {
   "cell_type": "code",
   "execution_count": 115,
   "metadata": {
    "collapsed": true
   },
   "outputs": [],
   "source": [
    "import pickle"
   ]
  },
  {
   "cell_type": "code",
   "execution_count": 116,
   "metadata": {
    "collapsed": false
   },
   "outputs": [],
   "source": [
    "with open(name) as f:\n",
    "    b = pickle.load(f)"
   ]
  },
  {
   "cell_type": "code",
   "execution_count": 117,
   "metadata": {
    "collapsed": false
   },
   "outputs": [
    {
     "data": {
      "text/plain": [
       "feat_0     1.375119e-01\n",
       "feat_1    -1.924005e+00\n",
       "feat_2     1.749756e+00\n",
       "feat_3     1.555272e-02\n",
       "feat_4     1.607059e-01\n",
       "feat_5     1.584824e-03\n",
       "feat_6    -1.522976e-01\n",
       "feat_7    -2.399106e-01\n",
       "feat_8     5.510599e-02\n",
       "feat_9    -7.119296e-02\n",
       "feat_10   -7.949035e-02\n",
       "feat_11   -2.412112e-01\n",
       "feat_12   -3.011499e-15\n",
       "feat_13    1.100941e-01\n",
       "feat_14    9.900238e-01\n",
       "feat_15    2.949102e-03\n",
       "feat_16    1.163514e+00\n",
       "feat_17   -1.282680e+00\n",
       "feat_18    1.768532e+00\n",
       "feat_19    6.713874e-01\n",
       "feat_20    1.891168e-01\n",
       "feat_21    4.183713e-01\n",
       "feat_22   -4.185914e-02\n",
       "feat_23    4.665872e-01\n",
       "feat_24    3.234409e-02\n",
       "feat_25    1.147793e-01\n",
       "feat_26    4.838382e-02\n",
       "feat_27    1.847405e+00\n",
       "feat_28   -1.880115e+00\n",
       "feat_29    6.461015e-01\n",
       "feat_30   -1.221039e-01\n",
       "feat_31   -1.104635e-02\n",
       "feat_32    2.922087e-01\n",
       "feat_33   -9.042886e-01\n",
       "feat_34   -4.618590e-02\n",
       "feat_35    1.685940e-03\n",
       "ma.L1     -5.384763e-02\n",
       "sigma2     3.074295e+00\n",
       "dtype: float64"
      ]
     },
     "execution_count": 117,
     "metadata": {},
     "output_type": "execute_result"
    }
   ],
   "source": [
    "b"
   ]
  },
  {
   "cell_type": "code",
   "execution_count": 48,
   "metadata": {
    "collapsed": false
   },
   "outputs": [
    {
     "data": {
      "text/plain": [
       "<statsmodels.tsa.statespace.sarimax.SARIMAXResultsWrapper at 0x103b987d0>"
      ]
     },
     "execution_count": 48,
     "metadata": {},
     "output_type": "execute_result"
    }
   ],
   "source": [
    "mod.filter(b)"
   ]
  },
  {
   "cell_type": "code",
   "execution_count": 132,
   "metadata": {
    "collapsed": false
   },
   "outputs": [
    {
     "name": "stdout",
     "output_type": "stream",
     "text": [
      "Set up the checkpoints\n"
     ]
    }
   ],
   "source": [
    "model.AR = 3\n",
    "model.D = 1\n",
    "model.Season_Period = 0\n",
    "model.AR = 4\n",
    "model.Season_MA = 0\n",
    "model.Season_D = 0\n",
    "model.Season_AR = 0\n",
    "model.init_model()"
   ]
  },
  {
   "cell_type": "code",
   "execution_count": 134,
   "metadata": {
    "collapsed": false
   },
   "outputs": [
    {
     "name": "stderr",
     "output_type": "stream",
     "text": [
      "\r",
      "  0%|          | 0/3 [00:00<?, ?it/s]"
     ]
    },
    {
     "name": "stdout",
     "output_type": "stream",
     "text": [
      "Le train is composed by 1 group and 3058 observation\n",
      "Le test is composed by 1 group and 1020 observation\n"
     ]
    },
    {
     "name": "stderr",
     "output_type": "stream",
     "text": [
      "/Users/thorey/miniconda2/envs/fognet/lib/python2.7/site-packages/statsmodels-0.8.0-py2.7-macosx-10.5-x86_64.egg/statsmodels/base/model.py:471: ConvergenceWarning: Maximum Likelihood optimization failed to converge. Check mle_retvals\n",
      "  \"Check mle_retvals\", ConvergenceWarning)\n",
      " 33%|███▎      | 1/3 [00:45<01:31, 45.55s/it]"
     ]
    },
    {
     "name": "stdout",
     "output_type": "stream",
     "text": [
      "Le train is composed by 1 group and 1089 observation\n",
      "Le test is composed by 1 group and 363 observation\n"
     ]
    },
    {
     "name": "stderr",
     "output_type": "stream",
     "text": [
      "/Users/thorey/miniconda2/envs/fognet/lib/python2.7/site-packages/statsmodels-0.8.0-py2.7-macosx-10.5-x86_64.egg/statsmodels/base/model.py:471: ConvergenceWarning: Maximum Likelihood optimization failed to converge. Check mle_retvals\n",
      "  \"Check mle_retvals\", ConvergenceWarning)\n",
      " 67%|██████▋   | 2/3 [01:03<00:37, 37.29s/it]"
     ]
    },
    {
     "name": "stdout",
     "output_type": "stream",
     "text": [
      "Le train is composed by 1 group and 1385 observation\n",
      "Le test is composed by 1 group and 462 observation\n"
     ]
    },
    {
     "name": "stderr",
     "output_type": "stream",
     "text": [
      "/Users/thorey/miniconda2/envs/fognet/lib/python2.7/site-packages/statsmodels-0.8.0-py2.7-macosx-10.5-x86_64.egg/statsmodels/base/model.py:471: ConvergenceWarning: Maximum Likelihood optimization failed to converge. Check mle_retvals\n",
      "  \"Check mle_retvals\", ConvergenceWarning)\n"
     ]
    },
    {
     "name": "stdout",
     "output_type": "stream",
     "text": [
      "Will write output to ~/Documents/project/competition/fognet/models/bbking/arima/model_0/AR_0_MA_1_D_1/submissions_20160408_121743.csv\n",
      "train summary:\n",
      "    rmse : 1.723\n",
      "    aic : 7153.892\n",
      "    bic : 7381.420\n",
      "    hqic : 7238.067\n",
      "test summary:\n",
      "    rmse : 0.878\n",
      "    aic : 2037.992\n",
      "    bic : 2219.398\n",
      "    hqic : 2108.653\n"
     ]
    }
   ],
   "source": [
    "model.fit(maxiter=100)"
   ]
  },
  {
   "cell_type": "code",
   "execution_count": 129,
   "metadata": {
    "collapsed": false
   },
   "outputs": [
    {
     "data": {
      "text/plain": [
       "<statsmodels.tsa.statespace.sarimax.SARIMAX at 0x126fe9450>"
      ]
     },
     "execution_count": 129,
     "metadata": {},
     "output_type": "execute_result"
    }
   ],
   "source": [
    "model.get_model(model.df)"
   ]
  },
  {
   "cell_type": "markdown",
   "metadata": {},
   "source": [
    "# implementing recursive fit procedure"
   ]
  },
  {
   "cell_type": "code",
   "execution_count": 121,
   "metadata": {
    "collapsed": false
   },
   "outputs": [
    {
     "name": "stdout",
     "output_type": "stream",
     "text": [
      "{'AR': 0, 'MA': 1, 'D': 1}\n",
      "Loading the prepro pipeline\n",
      "Set up the checkpoints\n"
     ]
    }
   ],
   "source": [
    "from utils.arima_utils import *\n",
    "config = parse_conf_file(os.path.join(root,'model_0','conf_model.json'))\n",
    "model = ArimaModel(config=config)"
   ]
  },
  {
   "cell_type": "code",
   "execution_count": 120,
   "metadata": {
    "collapsed": false
   },
   "outputs": [
    {
     "name": "stderr",
     "output_type": "stream",
     "text": [
      "\r",
      "  0%|          | 0/3 [00:00<?, ?it/s]"
     ]
    },
    {
     "name": "stdout",
     "output_type": "stream",
     "text": [
      "Le train is composed by 1 group and 3058 observation\n",
      "Le test is composed by 1 group and 1020 observation\n"
     ]
    },
    {
     "name": "stderr",
     "output_type": "stream",
     "text": [
      "\r",
      " 33%|███▎      | 1/3 [00:21<00:43, 21.91s/it]"
     ]
    },
    {
     "name": "stdout",
     "output_type": "stream",
     "text": [
      "Le train is composed by 1 group and 1089 observation\n",
      "Le test is composed by 1 group and 363 observation\n"
     ]
    },
    {
     "name": "stderr",
     "output_type": "stream",
     "text": [
      "/Users/thorey/miniconda2/envs/fognet/lib/python2.7/site-packages/statsmodels-0.8.0-py2.7-macosx-10.5-x86_64.egg/statsmodels/base/model.py:471: ConvergenceWarning: Maximum Likelihood optimization failed to converge. Check mle_retvals\n",
      "  \"Check mle_retvals\", ConvergenceWarning)\n",
      " 67%|██████▋   | 2/3 [00:35<00:19, 19.38s/it]"
     ]
    },
    {
     "name": "stdout",
     "output_type": "stream",
     "text": [
      "Le train is composed by 1 group and 1385 observation\n",
      "Le test is composed by 1 group and 462 observation\n"
     ]
    },
    {
     "name": "stderr",
     "output_type": "stream",
     "text": [
      "/Users/thorey/miniconda2/envs/fognet/lib/python2.7/site-packages/statsmodels-0.8.0-py2.7-macosx-10.5-x86_64.egg/statsmodels/base/model.py:471: ConvergenceWarning: Maximum Likelihood optimization failed to converge. Check mle_retvals\n",
      "  \"Check mle_retvals\", ConvergenceWarning)\n"
     ]
    },
    {
     "name": "stdout",
     "output_type": "stream",
     "text": [
      "0 ieme iterations, error 0.466\n"
     ]
    },
    {
     "name": "stderr",
     "output_type": "stream",
     "text": [
      "\r",
      "  0%|          | 0/3 [00:00<?, ?it/s]"
     ]
    },
    {
     "name": "stdout",
     "output_type": "stream",
     "text": [
      "Le train is composed by 1 group and 3058 observation\n",
      "Le test is composed by 1 group and 1020 observation\n"
     ]
    },
    {
     "name": "stderr",
     "output_type": "stream",
     "text": [
      "\r",
      " 33%|███▎      | 1/3 [00:24<00:48, 24.30s/it]"
     ]
    },
    {
     "name": "stdout",
     "output_type": "stream",
     "text": [
      "Le train is composed by 1 group and 1089 observation\n",
      "Le test is composed by 1 group and 363 observation\n"
     ]
    },
    {
     "name": "stderr",
     "output_type": "stream",
     "text": [
      "/Users/thorey/miniconda2/envs/fognet/lib/python2.7/site-packages/statsmodels-0.8.0-py2.7-macosx-10.5-x86_64.egg/statsmodels/base/model.py:471: ConvergenceWarning: Maximum Likelihood optimization failed to converge. Check mle_retvals\n",
      "  \"Check mle_retvals\", ConvergenceWarning)\n",
      " 67%|██████▋   | 2/3 [00:39<00:21, 21.49s/it]"
     ]
    },
    {
     "name": "stdout",
     "output_type": "stream",
     "text": [
      "Le train is composed by 1 group and 1385 observation\n",
      "Le test is composed by 1 group and 462 observation\n"
     ]
    },
    {
     "name": "stderr",
     "output_type": "stream",
     "text": [
      "/Users/thorey/miniconda2/envs/fognet/lib/python2.7/site-packages/statsmodels-0.8.0-py2.7-macosx-10.5-x86_64.egg/statsmodels/base/model.py:471: ConvergenceWarning: Maximum Likelihood optimization failed to converge. Check mle_retvals\n",
      "  \"Check mle_retvals\", ConvergenceWarning)\n"
     ]
    },
    {
     "name": "stdout",
     "output_type": "stream",
     "text": [
      "1 ieme iterations, error 0.368\n"
     ]
    },
    {
     "name": "stderr",
     "output_type": "stream",
     "text": [
      "\r",
      "  0%|          | 0/3 [00:00<?, ?it/s]"
     ]
    },
    {
     "name": "stdout",
     "output_type": "stream",
     "text": [
      "Le train is composed by 1 group and 3058 observation\n",
      "Le test is composed by 1 group and 1020 observation\n"
     ]
    },
    {
     "name": "stderr",
     "output_type": "stream",
     "text": [
      "\r",
      " 33%|███▎      | 1/3 [00:23<00:47, 23.97s/it]"
     ]
    },
    {
     "name": "stdout",
     "output_type": "stream",
     "text": [
      "Le train is composed by 1 group and 1089 observation\n",
      "Le test is composed by 1 group and 363 observation\n"
     ]
    },
    {
     "name": "stderr",
     "output_type": "stream",
     "text": [
      "/Users/thorey/miniconda2/envs/fognet/lib/python2.7/site-packages/statsmodels-0.8.0-py2.7-macosx-10.5-x86_64.egg/statsmodels/base/model.py:471: ConvergenceWarning: Maximum Likelihood optimization failed to converge. Check mle_retvals\n",
      "  \"Check mle_retvals\", ConvergenceWarning)\n",
      " 67%|██████▋   | 2/3 [00:37<00:20, 20.90s/it]"
     ]
    },
    {
     "name": "stdout",
     "output_type": "stream",
     "text": [
      "Le train is composed by 1 group and 1385 observation\n",
      "Le test is composed by 1 group and 462 observation\n"
     ]
    },
    {
     "name": "stderr",
     "output_type": "stream",
     "text": [
      "/Users/thorey/miniconda2/envs/fognet/lib/python2.7/site-packages/statsmodels-0.8.0-py2.7-macosx-10.5-x86_64.egg/statsmodels/base/model.py:471: ConvergenceWarning: Maximum Likelihood optimization failed to converge. Check mle_retvals\n",
      "  \"Check mle_retvals\", ConvergenceWarning)\n"
     ]
    },
    {
     "name": "stdout",
     "output_type": "stream",
     "text": [
      "2 ieme iterations, error 0.273\n"
     ]
    },
    {
     "name": "stderr",
     "output_type": "stream",
     "text": [
      "\r",
      "  0%|          | 0/3 [00:00<?, ?it/s]"
     ]
    },
    {
     "name": "stdout",
     "output_type": "stream",
     "text": [
      "Le train is composed by 1 group and 3058 observation\n",
      "Le test is composed by 1 group and 1020 observation\n"
     ]
    },
    {
     "name": "stderr",
     "output_type": "stream",
     "text": [
      "\r",
      " 33%|███▎      | 1/3 [00:24<00:49, 24.61s/it]"
     ]
    },
    {
     "name": "stdout",
     "output_type": "stream",
     "text": [
      "Le train is composed by 1 group and 1089 observation\n",
      "Le test is composed by 1 group and 363 observation\n"
     ]
    },
    {
     "name": "stderr",
     "output_type": "stream",
     "text": [
      "/Users/thorey/miniconda2/envs/fognet/lib/python2.7/site-packages/statsmodels-0.8.0-py2.7-macosx-10.5-x86_64.egg/statsmodels/base/model.py:471: ConvergenceWarning: Maximum Likelihood optimization failed to converge. Check mle_retvals\n",
      "  \"Check mle_retvals\", ConvergenceWarning)\n",
      " 67%|██████▋   | 2/3 [00:38<00:21, 21.28s/it]"
     ]
    },
    {
     "name": "stdout",
     "output_type": "stream",
     "text": [
      "Le train is composed by 1 group and 1385 observation\n",
      "Le test is composed by 1 group and 462 observation\n"
     ]
    },
    {
     "name": "stderr",
     "output_type": "stream",
     "text": [
      "/Users/thorey/miniconda2/envs/fognet/lib/python2.7/site-packages/statsmodels-0.8.0-py2.7-macosx-10.5-x86_64.egg/statsmodels/base/model.py:471: ConvergenceWarning: Maximum Likelihood optimization failed to converge. Check mle_retvals\n",
      "  \"Check mle_retvals\", ConvergenceWarning)\n"
     ]
    },
    {
     "name": "stdout",
     "output_type": "stream",
     "text": [
      "3 ieme iterations, error 0.201\n"
     ]
    },
    {
     "name": "stderr",
     "output_type": "stream",
     "text": [
      "\r",
      "  0%|          | 0/3 [00:00<?, ?it/s]"
     ]
    },
    {
     "name": "stdout",
     "output_type": "stream",
     "text": [
      "Le train is composed by 1 group and 3058 observation\n",
      "Le test is composed by 1 group and 1020 observation\n"
     ]
    },
    {
     "name": "stderr",
     "output_type": "stream",
     "text": [
      "\r",
      " 33%|███▎      | 1/3 [00:25<00:50, 25.40s/it]"
     ]
    },
    {
     "name": "stdout",
     "output_type": "stream",
     "text": [
      "Le train is composed by 1 group and 1089 observation\n",
      "Le test is composed by 1 group and 363 observation\n"
     ]
    },
    {
     "name": "stderr",
     "output_type": "stream",
     "text": [
      "/Users/thorey/miniconda2/envs/fognet/lib/python2.7/site-packages/statsmodels-0.8.0-py2.7-macosx-10.5-x86_64.egg/statsmodels/base/model.py:471: ConvergenceWarning: Maximum Likelihood optimization failed to converge. Check mle_retvals\n",
      "  \"Check mle_retvals\", ConvergenceWarning)\n",
      " 67%|██████▋   | 2/3 [00:38<00:21, 21.66s/it]"
     ]
    },
    {
     "name": "stdout",
     "output_type": "stream",
     "text": [
      "Le train is composed by 1 group and 1385 observation\n",
      "Le test is composed by 1 group and 462 observation\n"
     ]
    },
    {
     "name": "stderr",
     "output_type": "stream",
     "text": [
      "/Users/thorey/miniconda2/envs/fognet/lib/python2.7/site-packages/statsmodels-0.8.0-py2.7-macosx-10.5-x86_64.egg/statsmodels/base/model.py:471: ConvergenceWarning: Maximum Likelihood optimization failed to converge. Check mle_retvals\n",
      "  \"Check mle_retvals\", ConvergenceWarning)\n"
     ]
    },
    {
     "name": "stdout",
     "output_type": "stream",
     "text": [
      "4 ieme iterations, error 0.162\n"
     ]
    },
    {
     "name": "stderr",
     "output_type": "stream",
     "text": [
      "\r",
      "  0%|          | 0/3 [00:00<?, ?it/s]"
     ]
    },
    {
     "name": "stdout",
     "output_type": "stream",
     "text": [
      "Le train is composed by 1 group and 3058 observation\n",
      "Le test is composed by 1 group and 1020 observation\n"
     ]
    },
    {
     "name": "stderr",
     "output_type": "stream",
     "text": [
      "\r",
      " 33%|███▎      | 1/3 [00:24<00:49, 24.85s/it]"
     ]
    },
    {
     "name": "stdout",
     "output_type": "stream",
     "text": [
      "Le train is composed by 1 group and 1089 observation\n",
      "Le test is composed by 1 group and 363 observation\n"
     ]
    },
    {
     "name": "stderr",
     "output_type": "stream",
     "text": [
      "/Users/thorey/miniconda2/envs/fognet/lib/python2.7/site-packages/statsmodels-0.8.0-py2.7-macosx-10.5-x86_64.egg/statsmodels/base/model.py:471: ConvergenceWarning: Maximum Likelihood optimization failed to converge. Check mle_retvals\n",
      "  \"Check mle_retvals\", ConvergenceWarning)\n",
      " 67%|██████▋   | 2/3 [00:37<00:21, 21.29s/it]"
     ]
    },
    {
     "name": "stdout",
     "output_type": "stream",
     "text": [
      "Le train is composed by 1 group and 1385 observation\n",
      "Le test is composed by 1 group and 462 observation\n"
     ]
    },
    {
     "name": "stderr",
     "output_type": "stream",
     "text": [
      "/Users/thorey/miniconda2/envs/fognet/lib/python2.7/site-packages/statsmodels-0.8.0-py2.7-macosx-10.5-x86_64.egg/statsmodels/base/model.py:471: ConvergenceWarning: Maximum Likelihood optimization failed to converge. Check mle_retvals\n",
      "  \"Check mle_retvals\", ConvergenceWarning)\n"
     ]
    },
    {
     "name": "stdout",
     "output_type": "stream",
     "text": [
      "Will write output to ~/Documents/project/competition/fognet/models/bbking/arima/model_0/AR_0_MA_1_D_1/submissions_20160408_112916.csv\n",
      "train summary:\n",
      "    rmse : 1.794\n",
      "    aic : 7307.732\n",
      "    bic : 7513.591\n",
      "    hqic : 7383.891\n",
      "test summary:\n",
      "    rmse : 0.939\n",
      "    aic : 2071.534\n",
      "    bic : 2235.662\n",
      "    hqic : 2135.465\n"
     ]
    }
   ],
   "source": [
    "model.iterative_fit()"
   ]
  },
  {
   "cell_type": "markdown",
   "metadata": {},
   "source": []
  },
  {
   "cell_type": "markdown",
   "metadata": {},
   "source": [
    "# Implement random sampling feature space"
   ]
  },
  {
   "cell_type": "code",
   "execution_count": 75,
   "metadata": {
    "collapsed": false
   },
   "outputs": [
    {
     "name": "stdout",
     "output_type": "stream",
     "text": [
      "{'AR': 0, 'MA': 1, 'D': 1}\n",
      "Loading the prepro pipeline\n",
      "Set up the checkpoints\n",
      "Loading the prepro pipeline\n",
      "Set up the checkpoints\n"
     ]
    }
   ],
   "source": [
    "from utils.arima_utils import *\n",
    "config = parse_conf_file(os.path.join(root,'model_0','conf_model.json'))\n",
    "model = ArimaModel(config=config)\n",
    "model.AR = 0\n",
    "model.D = 1\n",
    "model.MA = 0\n",
    "model.pca_components = 10\n",
    "model.init_data()\n",
    "model.init_model()"
   ]
  },
  {
   "cell_type": "code",
   "execution_count": 76,
   "metadata": {
    "collapsed": false
   },
   "outputs": [
    {
     "name": "stderr",
     "output_type": "stream",
     "text": [
      "\r",
      "  0%|          | 0/3 [00:00<?, ?it/s]"
     ]
    },
    {
     "name": "stdout",
     "output_type": "stream",
     "text": [
      "Le train is composed by 1 group and 3058 observation\n",
      "Le test is composed by 1 group and 1020 observation\n",
      "train summary:\n",
      "    rmse : 100000.000\n",
      "    aic : 100000.000\n",
      "    bic : 100000.000\n",
      "    hqic : 100000.000\n",
      "test summary:\n",
      "    rmse : 2.000\n",
      "    aic : 2.000\n",
      "    bic : 2.000\n",
      "    hqic : 2.000\n"
     ]
    }
   ],
   "source": [
    "model.fit()"
   ]
  },
  {
   "cell_type": "code",
   "execution_count": 74,
   "metadata": {
    "collapsed": false
   },
   "outputs": [
    {
     "name": "stdout",
     "output_type": "stream",
     "text": [
      "Le train is composed by 1 group and 1089 observation\n",
      "Le test is composed by 1 group and 363 observation\n"
     ]
    },
    {
     "ename": "ValueError",
     "evalue": "could not broadcast input array from shape (0,0) into shape (1,1)",
     "output_type": "error",
     "traceback": [
      "\u001b[0;31m---------------------------------------------------------------------------\u001b[0m",
      "\u001b[0;31mValueError\u001b[0m                                Traceback (most recent call last)",
      "\u001b[0;32m<ipython-input-74-fac71d853b2c>\u001b[0m in \u001b[0;36m<module>\u001b[0;34m()\u001b[0m\n\u001b[1;32m      4\u001b[0m                     \u001b[0morder\u001b[0m \u001b[0;34m=\u001b[0m \u001b[0;34m(\u001b[0m\u001b[0;36m0\u001b[0m\u001b[0;34m,\u001b[0m\u001b[0;36m1\u001b[0m\u001b[0;34m,\u001b[0m\u001b[0;36m0\u001b[0m\u001b[0;34m)\u001b[0m\u001b[0;34m,\u001b[0m\u001b[0;34m\u001b[0m\u001b[0m\n\u001b[1;32m      5\u001b[0m                     \u001b[0menforce_stationarity\u001b[0m \u001b[0;34m=\u001b[0m \u001b[0mFalse\u001b[0m\u001b[0;34m,\u001b[0m\u001b[0;34m\u001b[0m\u001b[0m\n\u001b[0;32m----> 6\u001b[0;31m                     enforce_invertibility = False)\n\u001b[0m",
      "\u001b[0;32m/Users/thorey/miniconda2/envs/fognet/lib/python2.7/site-packages/statsmodels-0.8.0-py2.7-macosx-10.5-x86_64.egg/statsmodels/tsa/statespace/sarimax.pyc\u001b[0m in \u001b[0;36m__init__\u001b[0;34m(self, endog, exog, order, seasonal_order, trend, measurement_error, time_varying_regression, mle_regression, simple_differencing, enforce_stationarity, enforce_invertibility, hamilton_representation, **kwargs)\u001b[0m\n\u001b[1;32m    516\u001b[0m         \u001b[0mself\u001b[0m\u001b[0;34m.\u001b[0m\u001b[0mssm\u001b[0m\u001b[0;34m.\u001b[0m\u001b[0mdesign\u001b[0m \u001b[0;34m=\u001b[0m \u001b[0mself\u001b[0m\u001b[0;34m.\u001b[0m\u001b[0minitial_design\u001b[0m\u001b[0;34m\u001b[0m\u001b[0m\n\u001b[1;32m    517\u001b[0m         \u001b[0mself\u001b[0m\u001b[0;34m.\u001b[0m\u001b[0mssm\u001b[0m\u001b[0;34m.\u001b[0m\u001b[0mstate_intercept\u001b[0m \u001b[0;34m=\u001b[0m \u001b[0mself\u001b[0m\u001b[0;34m.\u001b[0m\u001b[0minitial_state_intercept\u001b[0m\u001b[0;34m\u001b[0m\u001b[0m\n\u001b[0;32m--> 518\u001b[0;31m         \u001b[0mself\u001b[0m\u001b[0;34m.\u001b[0m\u001b[0mssm\u001b[0m\u001b[0;34m.\u001b[0m\u001b[0mtransition\u001b[0m \u001b[0;34m=\u001b[0m \u001b[0mself\u001b[0m\u001b[0;34m.\u001b[0m\u001b[0minitial_transition\u001b[0m\u001b[0;34m\u001b[0m\u001b[0m\n\u001b[0m\u001b[1;32m    519\u001b[0m         \u001b[0mself\u001b[0m\u001b[0;34m.\u001b[0m\u001b[0mssm\u001b[0m\u001b[0;34m.\u001b[0m\u001b[0mselection\u001b[0m \u001b[0;34m=\u001b[0m \u001b[0mself\u001b[0m\u001b[0;34m.\u001b[0m\u001b[0minitial_selection\u001b[0m\u001b[0;34m\u001b[0m\u001b[0m\n\u001b[1;32m    520\u001b[0m \u001b[0;34m\u001b[0m\u001b[0m\n",
      "\u001b[0;32m/Users/thorey/miniconda2/envs/fognet/lib/python2.7/site-packages/statsmodels-0.8.0-py2.7-macosx-10.5-x86_64.egg/statsmodels/tsa/statespace/sarimax.pyc\u001b[0m in \u001b[0;36minitial_transition\u001b[0;34m(self)\u001b[0m\n\u001b[1;32m    780\u001b[0m \u001b[0;34m\u001b[0m\u001b[0m\n\u001b[1;32m    781\u001b[0m         \u001b[0;31m# T_c\u001b[0m\u001b[0;34m\u001b[0m\u001b[0;34m\u001b[0m\u001b[0m\n\u001b[0;32m--> 782\u001b[0;31m         \u001b[0mtransition\u001b[0m\u001b[0;34m[\u001b[0m\u001b[0mstart\u001b[0m\u001b[0;34m:\u001b[0m\u001b[0mend\u001b[0m\u001b[0;34m,\u001b[0m \u001b[0mstart\u001b[0m\u001b[0;34m:\u001b[0m\u001b[0mend\u001b[0m\u001b[0;34m]\u001b[0m \u001b[0;34m=\u001b[0m \u001b[0mcompanion_matrix\u001b[0m\u001b[0;34m(\u001b[0m\u001b[0mself\u001b[0m\u001b[0;34m.\u001b[0m\u001b[0m_k_order\u001b[0m\u001b[0;34m)\u001b[0m\u001b[0;34m\u001b[0m\u001b[0m\n\u001b[0m\u001b[1;32m    783\u001b[0m         \u001b[0;32mif\u001b[0m \u001b[0mself\u001b[0m\u001b[0;34m.\u001b[0m\u001b[0mhamilton_representation\u001b[0m\u001b[0;34m:\u001b[0m\u001b[0;34m\u001b[0m\u001b[0m\n\u001b[1;32m    784\u001b[0m             transition[start:end, start:end] = np.transpose(\n",
      "\u001b[0;31mValueError\u001b[0m: could not broadcast input array from shape (0,0) into shape (1,1)"
     ]
    }
   ],
   "source": [
    "train,test = train_test_split(df)\n",
    "mod2=sm.tsa.SARIMAX(endog = train['feat_yield'],\n",
    "                    exog = train[model.regressors],\n",
    "                    order = (0,1,0),\n",
    "                    enforce_stationarity = False,\n",
    "                    enforce_invertibility = False)"
   ]
  },
  {
   "cell_type": "code",
   "execution_count": null,
   "metadata": {
    "collapsed": true
   },
   "outputs": [],
   "source": []
  },
  {
   "cell_type": "code",
   "execution_count": 70,
   "metadata": {
    "collapsed": false
   },
   "outputs": [
    {
     "name": "stdout",
     "output_type": "stream",
     "text": [
      "Le train is composed by 1 group and 1089 observation\n",
      "Le test is composed by 1 group and 363 observation\n"
     ]
    },
    {
     "ename": "ValueError",
     "evalue": "could not broadcast input array from shape (0,0) into shape (1,1)",
     "output_type": "error",
     "traceback": [
      "\u001b[0;31m---------------------------------------------------------------------------\u001b[0m",
      "\u001b[0;31mValueError\u001b[0m                                Traceback (most recent call last)",
      "\u001b[0;32m<ipython-input-70-0dbde6073bf8>\u001b[0m in \u001b[0;36m<module>\u001b[0;34m()\u001b[0m\n\u001b[1;32m      2\u001b[0m \u001b[0mdf\u001b[0m \u001b[0;34m=\u001b[0m \u001b[0mmodel\u001b[0m\u001b[0;34m.\u001b[0m\u001b[0mdf\u001b[0m\u001b[0;34m\u001b[0m\u001b[0m\n\u001b[1;32m      3\u001b[0m \u001b[0mdf\u001b[0m \u001b[0;34m=\u001b[0m \u001b[0mdf\u001b[0m\u001b[0;34m.\u001b[0m\u001b[0mgroupby\u001b[0m\u001b[0;34m(\u001b[0m\u001b[0;34m'group'\u001b[0m\u001b[0;34m)\u001b[0m\u001b[0;34m.\u001b[0m\u001b[0mget_group\u001b[0m\u001b[0;34m(\u001b[0m\u001b[0;34m'group1'\u001b[0m\u001b[0;34m)\u001b[0m\u001b[0;34m\u001b[0m\u001b[0m\n\u001b[0;32m----> 4\u001b[0;31m \u001b[0mmodel\u001b[0m\u001b[0;34m.\u001b[0m\u001b[0mfit_group\u001b[0m\u001b[0;34m(\u001b[0m\u001b[0mdf\u001b[0m\u001b[0;34m)\u001b[0m\u001b[0;34m\u001b[0m\u001b[0m\n\u001b[0m",
      "\u001b[0;32m/Users/thorey/Documents/project/competition/fognet/utils/arima_utils.py\u001b[0m in \u001b[0;36mfit_group\u001b[0;34m(self, df)\u001b[0m\n\u001b[1;32m    108\u001b[0m         \u001b[0;32mexcept\u001b[0m \u001b[0mValueError\u001b[0m\u001b[0;34m:\u001b[0m\u001b[0;34m\u001b[0m\u001b[0m\n\u001b[1;32m    109\u001b[0m             train_model = self.get_model(\n\u001b[0;32m--> 110\u001b[0;31m                 train, enforce_stationarity=False, enforce_invertibility=False)\n\u001b[0m\u001b[1;32m    111\u001b[0m             \u001b[0mtrain_results\u001b[0m \u001b[0;34m=\u001b[0m \u001b[0mtrain_model\u001b[0m\u001b[0;34m.\u001b[0m\u001b[0mfit\u001b[0m\u001b[0;34m(\u001b[0m\u001b[0mmaxiter\u001b[0m\u001b[0;34m=\u001b[0m\u001b[0;36m100\u001b[0m\u001b[0;34m)\u001b[0m\u001b[0;34m\u001b[0m\u001b[0m\n\u001b[1;32m    112\u001b[0m         \u001b[0;32mexcept\u001b[0m\u001b[0;34m:\u001b[0m\u001b[0;34m\u001b[0m\u001b[0m\n",
      "\u001b[0;32m/Users/thorey/Documents/project/competition/fognet/utils/arima_utils.py\u001b[0m in \u001b[0;36mget_model\u001b[0;34m(self, df, enforce_stationarity, enforce_invertibility)\u001b[0m\n\u001b[1;32m     65\u001b[0m                                      \u001b[0mseasonal_order\u001b[0m\u001b[0;34m=\u001b[0m\u001b[0mself\u001b[0m\u001b[0;34m.\u001b[0m\u001b[0mseasonal_order\u001b[0m\u001b[0;34m,\u001b[0m\u001b[0;34m\u001b[0m\u001b[0m\n\u001b[1;32m     66\u001b[0m                                      \u001b[0menforce_invertibility\u001b[0m\u001b[0;34m=\u001b[0m\u001b[0menforce_invertibility\u001b[0m\u001b[0;34m,\u001b[0m\u001b[0;34m\u001b[0m\u001b[0m\n\u001b[0;32m---> 67\u001b[0;31m                                      enforce_stationarity=enforce_stationarity)\n\u001b[0m\u001b[1;32m     68\u001b[0m         \u001b[0;32melse\u001b[0m\u001b[0;34m:\u001b[0m\u001b[0;34m\u001b[0m\u001b[0m\n\u001b[1;32m     69\u001b[0m             raise ValueError('%s is not implemented' %\n",
      "\u001b[0;32m/Users/thorey/miniconda2/envs/fognet/lib/python2.7/site-packages/statsmodels-0.8.0-py2.7-macosx-10.5-x86_64.egg/statsmodels/tsa/statespace/sarimax.pyc\u001b[0m in \u001b[0;36m__init__\u001b[0;34m(self, endog, exog, order, seasonal_order, trend, measurement_error, time_varying_regression, mle_regression, simple_differencing, enforce_stationarity, enforce_invertibility, hamilton_representation, **kwargs)\u001b[0m\n\u001b[1;32m    516\u001b[0m         \u001b[0mself\u001b[0m\u001b[0;34m.\u001b[0m\u001b[0mssm\u001b[0m\u001b[0;34m.\u001b[0m\u001b[0mdesign\u001b[0m \u001b[0;34m=\u001b[0m \u001b[0mself\u001b[0m\u001b[0;34m.\u001b[0m\u001b[0minitial_design\u001b[0m\u001b[0;34m\u001b[0m\u001b[0m\n\u001b[1;32m    517\u001b[0m         \u001b[0mself\u001b[0m\u001b[0;34m.\u001b[0m\u001b[0mssm\u001b[0m\u001b[0;34m.\u001b[0m\u001b[0mstate_intercept\u001b[0m \u001b[0;34m=\u001b[0m \u001b[0mself\u001b[0m\u001b[0;34m.\u001b[0m\u001b[0minitial_state_intercept\u001b[0m\u001b[0;34m\u001b[0m\u001b[0m\n\u001b[0;32m--> 518\u001b[0;31m         \u001b[0mself\u001b[0m\u001b[0;34m.\u001b[0m\u001b[0mssm\u001b[0m\u001b[0;34m.\u001b[0m\u001b[0mtransition\u001b[0m \u001b[0;34m=\u001b[0m \u001b[0mself\u001b[0m\u001b[0;34m.\u001b[0m\u001b[0minitial_transition\u001b[0m\u001b[0;34m\u001b[0m\u001b[0m\n\u001b[0m\u001b[1;32m    519\u001b[0m         \u001b[0mself\u001b[0m\u001b[0;34m.\u001b[0m\u001b[0mssm\u001b[0m\u001b[0;34m.\u001b[0m\u001b[0mselection\u001b[0m \u001b[0;34m=\u001b[0m \u001b[0mself\u001b[0m\u001b[0;34m.\u001b[0m\u001b[0minitial_selection\u001b[0m\u001b[0;34m\u001b[0m\u001b[0m\n\u001b[1;32m    520\u001b[0m \u001b[0;34m\u001b[0m\u001b[0m\n",
      "\u001b[0;32m/Users/thorey/miniconda2/envs/fognet/lib/python2.7/site-packages/statsmodels-0.8.0-py2.7-macosx-10.5-x86_64.egg/statsmodels/tsa/statespace/sarimax.pyc\u001b[0m in \u001b[0;36minitial_transition\u001b[0;34m(self)\u001b[0m\n\u001b[1;32m    780\u001b[0m \u001b[0;34m\u001b[0m\u001b[0m\n\u001b[1;32m    781\u001b[0m         \u001b[0;31m# T_c\u001b[0m\u001b[0;34m\u001b[0m\u001b[0;34m\u001b[0m\u001b[0m\n\u001b[0;32m--> 782\u001b[0;31m         \u001b[0mtransition\u001b[0m\u001b[0;34m[\u001b[0m\u001b[0mstart\u001b[0m\u001b[0;34m:\u001b[0m\u001b[0mend\u001b[0m\u001b[0;34m,\u001b[0m \u001b[0mstart\u001b[0m\u001b[0;34m:\u001b[0m\u001b[0mend\u001b[0m\u001b[0;34m]\u001b[0m \u001b[0;34m=\u001b[0m \u001b[0mcompanion_matrix\u001b[0m\u001b[0;34m(\u001b[0m\u001b[0mself\u001b[0m\u001b[0;34m.\u001b[0m\u001b[0m_k_order\u001b[0m\u001b[0;34m)\u001b[0m\u001b[0;34m\u001b[0m\u001b[0m\n\u001b[0m\u001b[1;32m    783\u001b[0m         \u001b[0;32mif\u001b[0m \u001b[0mself\u001b[0m\u001b[0;34m.\u001b[0m\u001b[0mhamilton_representation\u001b[0m\u001b[0;34m:\u001b[0m\u001b[0;34m\u001b[0m\u001b[0m\n\u001b[1;32m    784\u001b[0m             transition[start:end, start:end] = np.transpose(\n",
      "\u001b[0;31mValueError\u001b[0m: could not broadcast input array from shape (0,0) into shape (1,1)"
     ]
    }
   ],
   "source": [
    "model.verbose = 2\n",
    "df = model.df\n",
    "df = df.groupby('group').get_group('group1')\n",
    "model.fit_group(df)"
   ]
  },
  {
   "cell_type": "code",
   "execution_count": null,
   "metadata": {
    "collapsed": true
   },
   "outputs": [],
   "source": []
  },
  {
   "cell_type": "code",
   "execution_count": 11,
   "metadata": {
    "collapsed": false
   },
   "outputs": [
    {
     "data": {
      "text/plain": [
       "0"
      ]
     },
     "execution_count": 11,
     "metadata": {},
     "output_type": "execute_result"
    }
   ],
   "source": [
    "model.Season_AR"
   ]
  },
  {
   "cell_type": "code",
   "execution_count": 4,
   "metadata": {
    "collapsed": false
   },
   "outputs": [
    {
     "name": "stdout",
     "output_type": "stream",
     "text": [
      "Le train is composed by 1 group and 3058 observation\n",
      "Le test is composed by 1 group and 1020 observation\n"
     ]
    }
   ],
   "source": [
    "df = model.df\n",
    "df0 = df.groupby('group').get_group('group0')\n",
    "train,test = train_test_split(df0)"
   ]
  },
  {
   "cell_type": "code",
   "execution_count": null,
   "metadata": {
    "collapsed": true
   },
   "outputs": [],
   "source": [
    "{u'Season_RA': 3, u'D': 1, u'Season_Period': 1, u'AR': 2, u'Season_MA': 1, u'Season_D': 1, u'MA': 3}"
   ]
  },
  {
   "cell_type": "code",
   "execution_count": 71,
   "metadata": {
    "collapsed": false
   },
   "outputs": [
    {
     "ename": "KeyError",
     "evalue": "\"['feat_9'] not in index\"",
     "output_type": "error",
     "traceback": [
      "\u001b[0;31m---------------------------------------------------------------------------\u001b[0m",
      "\u001b[0;31mKeyError\u001b[0m                                  Traceback (most recent call last)",
      "\u001b[0;32m<ipython-input-71-46ceeed678b7>\u001b[0m in \u001b[0;36m<module>\u001b[0;34m()\u001b[0m\n\u001b[1;32m      1\u001b[0m mod2=sm.tsa.SARIMAX(endog = train['feat_yield'],\n\u001b[0;32m----> 2\u001b[0;31m                     \u001b[0mexog\u001b[0m \u001b[0;34m=\u001b[0m \u001b[0mtrain\u001b[0m\u001b[0;34m[\u001b[0m\u001b[0mmodel\u001b[0m\u001b[0;34m.\u001b[0m\u001b[0mregressors\u001b[0m\u001b[0;34m]\u001b[0m\u001b[0;34m,\u001b[0m\u001b[0;34m\u001b[0m\u001b[0m\n\u001b[0m\u001b[1;32m      3\u001b[0m                     \u001b[0morder\u001b[0m \u001b[0;34m=\u001b[0m \u001b[0;34m(\u001b[0m\u001b[0;36m0\u001b[0m\u001b[0;34m,\u001b[0m\u001b[0;36m1\u001b[0m\u001b[0;34m,\u001b[0m\u001b[0;36m0\u001b[0m\u001b[0;34m)\u001b[0m\u001b[0;34m,\u001b[0m\u001b[0;34m\u001b[0m\u001b[0m\n\u001b[1;32m      4\u001b[0m                     \u001b[0mseasonal_order\u001b[0m \u001b[0;34m=\u001b[0m \u001b[0;34m(\u001b[0m\u001b[0;36m3\u001b[0m\u001b[0;34m,\u001b[0m\u001b[0;36m1\u001b[0m\u001b[0;34m,\u001b[0m\u001b[0;36m1\u001b[0m\u001b[0;34m,\u001b[0m\u001b[0;36m1\u001b[0m\u001b[0;34m)\u001b[0m\u001b[0;34m,\u001b[0m\u001b[0;34m\u001b[0m\u001b[0m\n\u001b[1;32m      5\u001b[0m                     \u001b[0menforce_stationarity\u001b[0m \u001b[0;34m=\u001b[0m \u001b[0mFalse\u001b[0m\u001b[0;34m,\u001b[0m\u001b[0;34m\u001b[0m\u001b[0m\n",
      "\u001b[0;32m/Users/thorey/miniconda2/envs/fognet/lib/python2.7/site-packages/pandas/core/frame.pyc\u001b[0m in \u001b[0;36m__getitem__\u001b[0;34m(self, key)\u001b[0m\n\u001b[1;32m   1961\u001b[0m         \u001b[0;32mif\u001b[0m \u001b[0misinstance\u001b[0m\u001b[0;34m(\u001b[0m\u001b[0mkey\u001b[0m\u001b[0;34m,\u001b[0m \u001b[0;34m(\u001b[0m\u001b[0mSeries\u001b[0m\u001b[0;34m,\u001b[0m \u001b[0mnp\u001b[0m\u001b[0;34m.\u001b[0m\u001b[0mndarray\u001b[0m\u001b[0;34m,\u001b[0m \u001b[0mIndex\u001b[0m\u001b[0;34m,\u001b[0m \u001b[0mlist\u001b[0m\u001b[0;34m)\u001b[0m\u001b[0;34m)\u001b[0m\u001b[0;34m:\u001b[0m\u001b[0;34m\u001b[0m\u001b[0m\n\u001b[1;32m   1962\u001b[0m             \u001b[0;31m# either boolean or fancy integer index\u001b[0m\u001b[0;34m\u001b[0m\u001b[0;34m\u001b[0m\u001b[0m\n\u001b[0;32m-> 1963\u001b[0;31m             \u001b[0;32mreturn\u001b[0m \u001b[0mself\u001b[0m\u001b[0;34m.\u001b[0m\u001b[0m_getitem_array\u001b[0m\u001b[0;34m(\u001b[0m\u001b[0mkey\u001b[0m\u001b[0;34m)\u001b[0m\u001b[0;34m\u001b[0m\u001b[0m\n\u001b[0m\u001b[1;32m   1964\u001b[0m         \u001b[0;32melif\u001b[0m \u001b[0misinstance\u001b[0m\u001b[0;34m(\u001b[0m\u001b[0mkey\u001b[0m\u001b[0;34m,\u001b[0m \u001b[0mDataFrame\u001b[0m\u001b[0;34m)\u001b[0m\u001b[0;34m:\u001b[0m\u001b[0;34m\u001b[0m\u001b[0m\n\u001b[1;32m   1965\u001b[0m             \u001b[0;32mreturn\u001b[0m \u001b[0mself\u001b[0m\u001b[0;34m.\u001b[0m\u001b[0m_getitem_frame\u001b[0m\u001b[0;34m(\u001b[0m\u001b[0mkey\u001b[0m\u001b[0;34m)\u001b[0m\u001b[0;34m\u001b[0m\u001b[0m\n",
      "\u001b[0;32m/Users/thorey/miniconda2/envs/fognet/lib/python2.7/site-packages/pandas/core/frame.pyc\u001b[0m in \u001b[0;36m_getitem_array\u001b[0;34m(self, key)\u001b[0m\n\u001b[1;32m   2005\u001b[0m             \u001b[0;32mreturn\u001b[0m \u001b[0mself\u001b[0m\u001b[0;34m.\u001b[0m\u001b[0mtake\u001b[0m\u001b[0;34m(\u001b[0m\u001b[0mindexer\u001b[0m\u001b[0;34m,\u001b[0m \u001b[0maxis\u001b[0m\u001b[0;34m=\u001b[0m\u001b[0;36m0\u001b[0m\u001b[0;34m,\u001b[0m \u001b[0mconvert\u001b[0m\u001b[0;34m=\u001b[0m\u001b[0mFalse\u001b[0m\u001b[0;34m)\u001b[0m\u001b[0;34m\u001b[0m\u001b[0m\n\u001b[1;32m   2006\u001b[0m         \u001b[0;32melse\u001b[0m\u001b[0;34m:\u001b[0m\u001b[0;34m\u001b[0m\u001b[0m\n\u001b[0;32m-> 2007\u001b[0;31m             \u001b[0mindexer\u001b[0m \u001b[0;34m=\u001b[0m \u001b[0mself\u001b[0m\u001b[0;34m.\u001b[0m\u001b[0mix\u001b[0m\u001b[0;34m.\u001b[0m\u001b[0m_convert_to_indexer\u001b[0m\u001b[0;34m(\u001b[0m\u001b[0mkey\u001b[0m\u001b[0;34m,\u001b[0m \u001b[0maxis\u001b[0m\u001b[0;34m=\u001b[0m\u001b[0;36m1\u001b[0m\u001b[0;34m)\u001b[0m\u001b[0;34m\u001b[0m\u001b[0m\n\u001b[0m\u001b[1;32m   2008\u001b[0m             \u001b[0;32mreturn\u001b[0m \u001b[0mself\u001b[0m\u001b[0;34m.\u001b[0m\u001b[0mtake\u001b[0m\u001b[0;34m(\u001b[0m\u001b[0mindexer\u001b[0m\u001b[0;34m,\u001b[0m \u001b[0maxis\u001b[0m\u001b[0;34m=\u001b[0m\u001b[0;36m1\u001b[0m\u001b[0;34m,\u001b[0m \u001b[0mconvert\u001b[0m\u001b[0;34m=\u001b[0m\u001b[0mTrue\u001b[0m\u001b[0;34m)\u001b[0m\u001b[0;34m\u001b[0m\u001b[0m\n\u001b[1;32m   2009\u001b[0m \u001b[0;34m\u001b[0m\u001b[0m\n",
      "\u001b[0;32m/Users/thorey/miniconda2/envs/fognet/lib/python2.7/site-packages/pandas/core/indexing.pyc\u001b[0m in \u001b[0;36m_convert_to_indexer\u001b[0;34m(self, obj, axis, is_setter)\u001b[0m\n\u001b[1;32m   1148\u001b[0m                 \u001b[0mmask\u001b[0m \u001b[0;34m=\u001b[0m \u001b[0mcheck\u001b[0m \u001b[0;34m==\u001b[0m \u001b[0;34m-\u001b[0m\u001b[0;36m1\u001b[0m\u001b[0;34m\u001b[0m\u001b[0m\n\u001b[1;32m   1149\u001b[0m                 \u001b[0;32mif\u001b[0m \u001b[0mmask\u001b[0m\u001b[0;34m.\u001b[0m\u001b[0many\u001b[0m\u001b[0;34m(\u001b[0m\u001b[0;34m)\u001b[0m\u001b[0;34m:\u001b[0m\u001b[0;34m\u001b[0m\u001b[0m\n\u001b[0;32m-> 1150\u001b[0;31m                     \u001b[0;32mraise\u001b[0m \u001b[0mKeyError\u001b[0m\u001b[0;34m(\u001b[0m\u001b[0;34m'%s not in index'\u001b[0m \u001b[0;34m%\u001b[0m \u001b[0mobjarr\u001b[0m\u001b[0;34m[\u001b[0m\u001b[0mmask\u001b[0m\u001b[0;34m]\u001b[0m\u001b[0;34m)\u001b[0m\u001b[0;34m\u001b[0m\u001b[0m\n\u001b[0m\u001b[1;32m   1151\u001b[0m \u001b[0;34m\u001b[0m\u001b[0m\n\u001b[1;32m   1152\u001b[0m                 \u001b[0;32mreturn\u001b[0m \u001b[0m_values_from_object\u001b[0m\u001b[0;34m(\u001b[0m\u001b[0mindexer\u001b[0m\u001b[0;34m)\u001b[0m\u001b[0;34m\u001b[0m\u001b[0m\n",
      "\u001b[0;31mKeyError\u001b[0m: \"['feat_9'] not in index\""
     ]
    }
   ],
   "source": [
    "mod2=sm.tsa.SARIMAX(endog = train['feat_yield'],\n",
    "                    exog = train[model.regressors],\n",
    "                    order = (0,1,0),\n",
    "                    seasonal_order = (3,1,1,1),\n",
    "                    enforce_stationarity = False,\n",
    "                    enforce_invertibility = False)"
   ]
  },
  {
   "cell_type": "code",
   "execution_count": 21,
   "metadata": {
    "collapsed": false
   },
   "outputs": [
    {
     "name": "stderr",
     "output_type": "stream",
     "text": [
      "/Users/thorey/miniconda2/envs/fognet/lib/python2.7/site-packages/statsmodels-0.8.0-py2.7-macosx-10.5-x86_64.egg/statsmodels/base/model.py:471: ConvergenceWarning: Maximum Likelihood optimization failed to converge. Check mle_retvals\n",
      "  \"Check mle_retvals\", ConvergenceWarning)\n"
     ]
    }
   ],
   "source": [
    "res = mod2.fit()"
   ]
  },
  {
   "cell_type": "code",
   "execution_count": 22,
   "metadata": {
    "collapsed": false
   },
   "outputs": [
    {
     "name": "stdout",
     "output_type": "stream",
     "text": [
      "                                 Statespace Model Results                                \n",
      "=========================================================================================\n",
      "Dep. Variable:                        feat_yield   No. Observations:                 3058\n",
      "Model:             SARIMAX(2, 1, 3)x(3, 1, 1, 1)   Log Likelihood               -6412.596\n",
      "Date:                           Thu, 07 Apr 2016   AIC                          12863.193\n",
      "Time:                                   14:47:02   BIC                          12977.678\n",
      "Sample:                               11-23-2013   HQIC                         12904.333\n",
      "                                    - 08-09-2014                                         \n",
      "Covariance Type:                             opg                                         \n",
      "==============================================================================\n",
      "                 coef    std err          z      P>|z|      [0.025      0.975]\n",
      "------------------------------------------------------------------------------\n",
      "feat_0        -0.0984      0.141     -0.696      0.487      -0.376       0.179\n",
      "feat_1         1.2180      0.033     37.375      0.000       1.154       1.282\n",
      "feat_2        -0.0130      0.072     -0.179      0.858      -0.155       0.129\n",
      "feat_3         1.0024      0.229      4.368      0.000       0.553       1.452\n",
      "feat_4        -2.4535      0.432     -5.678      0.000      -3.300      -1.607\n",
      "feat_5         3.3092      0.408      8.117      0.000       2.510       4.108\n",
      "feat_6         1.1129      0.118      9.434      0.000       0.882       1.344\n",
      "feat_7         0.3950      0.049      8.110      0.000       0.300       0.491\n",
      "feat_8         0.3097      0.096      3.212      0.001       0.121       0.499\n",
      "ar.L1         -1.0332      2.562     -0.403      0.687      -6.054       3.987\n",
      "ar.L2         -0.1862      1.966     -0.095      0.925      -4.040       3.668\n",
      "ma.L1          0.3334      0.278      1.200      0.230      -0.211       0.878\n",
      "ma.L2         -0.8883      0.270     -3.293      0.001      -1.417      -0.360\n",
      "ma.L3         -0.4451      0.258     -1.728      0.084      -0.950       0.060\n",
      "ar.S.L1        0.5286      2.776      0.190      0.849      -4.913       5.970\n",
      "ar.S.L2        0.0946      2.220      0.043      0.966      -4.256       4.445\n",
      "ar.S.L3       -0.0424      0.358     -0.118      0.906      -0.745       0.660\n",
      "ma.S.L1       -0.9292      0.010    -93.820      0.000      -0.949      -0.910\n",
      "sigma2         3.8606      0.759      5.083      0.000       2.372       5.349\n",
      "===================================================================================\n",
      "Ljung-Box (Q):                       98.99   Jarque-Bera (JB):             76723.66\n",
      "Prob(Q):                              0.00   Prob(JB):                         0.00\n",
      "Heteroskedasticity (H):               0.88   Skew:                             1.54\n",
      "Prob(H) (two-sided):                  0.04   Kurtosis:                        27.37\n",
      "===================================================================================\n",
      "\n",
      "Warnings:\n",
      "[1] Covariance matrix calculated using the outer product of gradients (complex-step).\n"
     ]
    }
   ],
   "source": [
    "print(res.summary())"
   ]
  },
  {
   "cell_type": "code",
   "execution_count": 469,
   "metadata": {
    "collapsed": true
   },
   "outputs": [],
   "source": [
    "sm.tsa.SARIMAX?"
   ]
  },
  {
   "cell_type": "code",
   "execution_count": 437,
   "metadata": {
    "collapsed": true
   },
   "outputs": [],
   "source": [
    "sm.tsa.SARIMAX?"
   ]
  },
  {
   "cell_type": "code",
   "execution_count": 435,
   "metadata": {
    "collapsed": false
   },
   "outputs": [
    {
     "name": "stderr",
     "output_type": "stream",
     "text": [
      "\r",
      "  0%|          | 0/3 [00:00<?, ?it/s]"
     ]
    },
    {
     "name": "stdout",
     "output_type": "stream",
     "text": [
      "Le train is composed by 1 group and 3058 observation\n",
      "Le test is composed by 1 group and 1020 observation\n",
      "                           Statespace Model Results                           \n",
      "==============================================================================\n",
      "Dep. Variable:             feat_yield   No. Observations:                 3058\n",
      "Model:               SARIMAX(0, 1, 1)   Log Likelihood               -6608.933\n",
      "Date:                Thu, 07 Apr 2016   AIC                          13239.866\n",
      "Time:                        14:03:30   BIC                          13306.147\n",
      "Sample:                    11-23-2013   HQIC                         13263.684\n",
      "                         - 08-09-2014                                         \n",
      "Covariance Type:                  opg                                         \n",
      "==============================================================================\n",
      "                 coef    std err          z      P>|z|      [0.025      0.975]\n",
      "------------------------------------------------------------------------------\n",
      "feat_0        -0.1855      0.143     -1.299      0.194      -0.465       0.094\n",
      "feat_1         1.2447      0.029     42.671      0.000       1.188       1.302\n",
      "feat_2        -0.0133      0.073     -0.181      0.857      -0.157       0.131\n",
      "feat_3         1.0986      0.269      4.078      0.000       0.571       1.627\n",
      "feat_4        -3.0076      0.447     -6.729      0.000      -3.884      -2.132\n",
      "feat_5         3.7381      0.411      9.096      0.000       2.933       4.544\n",
      "feat_6         1.2017      0.115     10.467      0.000       0.977       1.427\n",
      "feat_7         0.4254      0.050      8.429      0.000       0.326       0.524\n",
      "feat_8         0.1873      0.109      1.715      0.086      -0.027       0.401\n",
      "ma.L1         -0.0223      0.008     -2.969      0.003      -0.037      -0.008\n",
      "sigma2         4.4191      0.042    105.708      0.000       4.337       4.501\n",
      "===================================================================================\n",
      "Ljung-Box (Q):                      279.98   Jarque-Bera (JB):             81898.99\n",
      "Prob(Q):                              0.00   Prob(JB):                         0.00\n",
      "Heteroskedasticity (H):               0.94   Skew:                             0.24\n",
      "Prob(H) (two-sided):                  0.35   Kurtosis:                        28.35\n",
      "===================================================================================\n",
      "\n",
      "Warnings:\n",
      "[1] Covariance matrix calculated using the outer product of gradients (complex-step).\n"
     ]
    },
    {
     "name": "stderr",
     "output_type": "stream",
     "text": [
      "\r",
      " 33%|███▎      | 1/3 [00:03<00:06,  3.33s/it]"
     ]
    },
    {
     "name": "stdout",
     "output_type": "stream",
     "text": [
      "Le train is composed by 1 group and 1089 observation\n",
      "Le test is composed by 1 group and 363 observation\n",
      "                           Statespace Model Results                           \n",
      "==============================================================================\n",
      "Dep. Variable:             feat_yield   No. Observations:                 1089\n",
      "Model:               SARIMAX(0, 1, 1)   Log Likelihood               -2295.060\n",
      "Date:                Thu, 07 Apr 2016   AIC                           4612.120\n",
      "Time:                        14:03:33   BIC                           4667.044\n",
      "Sample:                    12-01-2014   HQIC                          4632.908\n",
      "                         - 03-01-2015                                         \n",
      "Covariance Type:                  opg                                         \n",
      "==============================================================================\n",
      "                 coef    std err          z      P>|z|      [0.025      0.975]\n",
      "------------------------------------------------------------------------------\n",
      "feat_0        -0.0057      0.134     -0.043      0.966      -0.269       0.257\n",
      "feat_1         1.6478      0.072     23.020      0.000       1.507       1.788\n",
      "feat_2         1.6688      1.592      1.048      0.295      -1.452       4.790\n",
      "feat_3         1.0396      0.780      1.332      0.183      -0.490       2.569\n",
      "feat_4        -0.2664      0.727     -0.366      0.714      -1.692       1.159\n",
      "feat_5         0.9075      0.701      1.295      0.195      -0.466       2.281\n",
      "feat_6         3.8983     81.089      0.048      0.962    -155.033     162.830\n",
      "feat_7         0.0881      0.091      0.973      0.330      -0.089       0.266\n",
      "feat_8         0.4054      0.597      0.679      0.497      -0.765       1.576\n",
      "ma.L1         -0.1078      0.017     -6.344      0.000      -0.141      -0.074\n",
      "sigma2         3.9788      0.070     56.711      0.000       3.841       4.116\n",
      "===================================================================================\n",
      "Ljung-Box (Q):                      119.51   Jarque-Bera (JB):              7221.38\n",
      "Prob(Q):                              0.00   Prob(JB):                         0.00\n",
      "Heteroskedasticity (H):               1.56   Skew:                            -0.36\n",
      "Prob(H) (two-sided):                  0.00   Kurtosis:                        15.60\n",
      "===================================================================================\n",
      "\n",
      "Warnings:\n",
      "[1] Covariance matrix calculated using the outer product of gradients (complex-step).\n"
     ]
    },
    {
     "name": "stderr",
     "output_type": "stream",
     "text": [
      "\r",
      " 67%|██████▋   | 2/3 [00:05<00:03,  3.09s/it]"
     ]
    },
    {
     "name": "stdout",
     "output_type": "stream",
     "text": [
      "Le train is composed by 1 group and 1385 observation\n",
      "Le test is composed by 1 group and 462 observation\n",
      "                           Statespace Model Results                           \n",
      "==============================================================================\n",
      "Dep. Variable:             feat_yield   No. Observations:                 1385\n",
      "Model:               SARIMAX(0, 1, 1)   Log Likelihood               -2093.254\n",
      "Date:                Thu, 07 Apr 2016   AIC                           4208.508\n",
      "Time:                        14:03:35   BIC                           4266.076\n",
      "Sample:                    08-03-2015   HQIC                          4230.040\n",
      "                         - 11-26-2015                                         \n",
      "Covariance Type:                  opg                                         \n",
      "==============================================================================\n",
      "                 coef    std err          z      P>|z|      [0.025      0.975]\n",
      "------------------------------------------------------------------------------\n",
      "feat_0        -0.2556      0.112     -2.278      0.023      -0.475      -0.036\n",
      "feat_1         0.5697      0.021     27.692      0.000       0.529       0.610\n",
      "feat_2         2.2236      0.307      7.241      0.000       1.622       2.825\n",
      "feat_3         0.5825      0.461      1.265      0.206      -0.320       1.485\n",
      "feat_4        -1.1420      0.421     -2.714      0.007      -1.967      -0.317\n",
      "feat_5         1.2788      0.389      3.288      0.001       0.517       2.041\n",
      "feat_6         0.4870      0.086      5.647      0.000       0.318       0.656\n",
      "feat_7        -0.0438      0.060     -0.727      0.467      -0.162       0.074\n",
      "feat_8         0.2501      0.379      0.659      0.510      -0.493       0.994\n",
      "ma.L1         -0.2143      0.005    -44.053      0.000      -0.224      -0.205\n",
      "sigma2         1.2057      0.014     88.405      0.000       1.179       1.232\n",
      "===================================================================================\n",
      "Ljung-Box (Q):                      204.35   Jarque-Bera (JB):            353683.29\n",
      "Prob(Q):                              0.00   Prob(JB):                         0.00\n",
      "Heteroskedasticity (H):              10.40   Skew:                             2.53\n",
      "Prob(H) (two-sided):                  0.00   Kurtosis:                        81.15\n",
      "===================================================================================\n",
      "\n",
      "Warnings:\n",
      "[1] Covariance matrix calculated using the outer product of gradients (complex-step).\n"
     ]
    },
    {
     "name": "stderr",
     "output_type": "stream",
     "text": []
    },
    {
     "name": "stdout",
     "output_type": "stream",
     "text": [
      "Will write output to ~/Documents/project/competition/fognet/models/bbking/arima/model_0/AR_0_MA_1_D_1/submissions_20160407_140336.csv\n",
      "train summary:\n",
      "    rmse : 1.898\n",
      "    aic : 7353.498\n",
      "    bic : 7413.089\n",
      "    hqic : 7375.544\n",
      "test summary:\n",
      "    rmse : 0.919\n",
      "    aic : 2019.872\n",
      "    bic : 2067.383\n",
      "    hqic : 2038.379\n"
     ]
    }
   ],
   "source": [
    "model.fit()"
   ]
  },
  {
   "cell_type": "markdown",
   "metadata": {},
   "source": [
    "# Implement avec PCA en premier pour voir si ca a de l'effet"
   ]
  },
  {
   "cell_type": "code",
   "execution_count": 355,
   "metadata": {
    "collapsed": false
   },
   "outputs": [
    {
     "name": "stdout",
     "output_type": "stream",
     "text": [
      "{'AR': 0, 'MA': 1, 'D': 1}\n",
      "Loading the prepro pipeline\n",
      "Set up the checkpoints\n"
     ]
    }
   ],
   "source": [
    "from utils.arima_utils import *\n",
    "config = parse_conf_file(os.path.join(root,'model_2','conf_model.json'))\n",
    "model = ArimaModel(config=config)"
   ]
  },
  {
   "cell_type": "code",
   "execution_count": 356,
   "metadata": {
    "collapsed": false
   },
   "outputs": [
    {
     "name": "stderr",
     "output_type": "stream",
     "text": [
      "\r",
      "  0%|          | 0/3 [00:00<?, ?it/s]"
     ]
    },
    {
     "name": "stdout",
     "output_type": "stream",
     "text": [
      "Le train is composed by 1 group and 3058 observation\n",
      "Le test is composed by 1 group and 1020 observation\n",
      "                           Statespace Model Results                           \n",
      "==============================================================================\n",
      "Dep. Variable:             feat_yield   No. Observations:                 3058\n",
      "Model:               SARIMAX(0, 1, 1)   Log Likelihood               -6724.266\n",
      "Date:                Thu, 07 Apr 2016   AIC                          13458.532\n",
      "Time:                        12:20:28   BIC                          13488.659\n",
      "Sample:                    11-23-2013   HQIC                         13469.358\n",
      "                         - 08-09-2014                                         \n",
      "Covariance Type:                  opg                                         \n",
      "==============================================================================\n",
      "                 coef    std err          z      P>|z|      [0.025      0.975]\n",
      "------------------------------------------------------------------------------\n",
      "feat_0         1.5226      0.037     40.638      0.000       1.449       1.596\n",
      "feat_1        -0.1615      0.050     -3.246      0.001      -0.259      -0.064\n",
      "feat_2         0.2111      0.052      4.048      0.000       0.109       0.313\n",
      "ma.L1         -0.0239      0.006     -3.874      0.000      -0.036      -0.012\n",
      "sigma2         4.7653      0.042    112.763      0.000       4.682       4.848\n",
      "===================================================================================\n",
      "Ljung-Box (Q):                      292.23   Jarque-Bera (JB):             96749.56\n",
      "Prob(Q):                              0.00   Prob(JB):                         0.00\n",
      "Heteroskedasticity (H):               1.06   Skew:                             0.06\n",
      "Prob(H) (two-sided):                  0.39   Kurtosis:                        30.56\n",
      "===================================================================================\n",
      "\n",
      "Warnings:\n",
      "[1] Covariance matrix calculated using the outer product of gradients (complex-step).\n"
     ]
    },
    {
     "name": "stderr",
     "output_type": "stream",
     "text": [
      "\r",
      " 33%|███▎      | 1/3 [00:02<00:04,  2.32s/it]"
     ]
    },
    {
     "name": "stdout",
     "output_type": "stream",
     "text": [
      "Le train is composed by 1 group and 1089 observation\n",
      "Le test is composed by 1 group and 363 observation\n",
      "                           Statespace Model Results                           \n",
      "==============================================================================\n",
      "Dep. Variable:             feat_yield   No. Observations:                 1089\n",
      "Model:               SARIMAX(0, 1, 1)   Log Likelihood               -2340.729\n",
      "Date:                Thu, 07 Apr 2016   AIC                           4691.459\n",
      "Time:                        12:20:29   BIC                           4716.424\n",
      "Sample:                    12-01-2014   HQIC                          4700.908\n",
      "                         - 03-01-2015                                         \n",
      "Covariance Type:                  opg                                         \n",
      "==============================================================================\n",
      "                 coef    std err          z      P>|z|      [0.025      0.975]\n",
      "------------------------------------------------------------------------------\n",
      "feat_0         1.5673      0.075     20.774      0.000       1.419       1.715\n",
      "feat_1        -0.2732      0.076     -3.588      0.000      -0.422      -0.124\n",
      "feat_2        -0.3059      0.092     -3.331      0.001      -0.486      -0.126\n",
      "ma.L1         -0.0991      0.014     -7.025      0.000      -0.127      -0.071\n",
      "sigma2         4.3272      0.078     55.355      0.000       4.174       4.480\n",
      "===================================================================================\n",
      "Ljung-Box (Q):                      117.21   Jarque-Bera (JB):              8905.32\n",
      "Prob(Q):                              0.00   Prob(JB):                         0.00\n",
      "Heteroskedasticity (H):               1.37   Skew:                            -0.62\n",
      "Prob(H) (two-sided):                  0.00   Kurtosis:                        16.96\n",
      "===================================================================================\n",
      "\n",
      "Warnings:\n",
      "[1] Covariance matrix calculated using the outer product of gradients (complex-step).\n"
     ]
    },
    {
     "name": "stderr",
     "output_type": "stream",
     "text": [
      "\r",
      " 67%|██████▋   | 2/3 [00:03<00:01,  1.90s/it]"
     ]
    },
    {
     "name": "stdout",
     "output_type": "stream",
     "text": [
      "Le train is composed by 1 group and 1385 observation\n",
      "Le test is composed by 1 group and 462 observation\n",
      "                           Statespace Model Results                           \n",
      "==============================================================================\n",
      "Dep. Variable:             feat_yield   No. Observations:                 1385\n",
      "Model:               SARIMAX(0, 1, 1)   Log Likelihood               -2141.517\n",
      "Date:                Thu, 07 Apr 2016   AIC                           4293.035\n",
      "Time:                        12:20:30   BIC                           4319.202\n",
      "Sample:                    08-03-2015   HQIC                          4302.822\n",
      "                         - 11-26-2015                                         \n",
      "Covariance Type:                  opg                                         \n",
      "==============================================================================\n",
      "                 coef    std err          z      P>|z|      [0.025      0.975]\n",
      "------------------------------------------------------------------------------\n",
      "feat_0         0.4765      0.035     13.640      0.000       0.408       0.545\n",
      "feat_1        -0.1429      0.041     -3.472      0.001      -0.224      -0.062\n",
      "feat_2        -0.1522      0.063     -2.408      0.016      -0.276      -0.028\n",
      "ma.L1         -0.2103      0.004    -55.210      0.000      -0.218      -0.203\n",
      "sigma2         1.2927      0.010    124.181      0.000       1.272       1.313\n",
      "===================================================================================\n",
      "Ljung-Box (Q):                      218.15   Jarque-Bera (JB):            386722.58\n",
      "Prob(Q):                              0.00   Prob(JB):                         0.00\n",
      "Heteroskedasticity (H):               9.87   Skew:                             2.49\n",
      "Prob(H) (two-sided):                  0.00   Kurtosis:                        84.74\n",
      "===================================================================================\n",
      "\n",
      "Warnings:\n",
      "[1] Covariance matrix calculated using the outer product of gradients (complex-step).\n"
     ]
    },
    {
     "name": "stderr",
     "output_type": "stream",
     "text": []
    },
    {
     "name": "stdout",
     "output_type": "stream",
     "text": [
      "Will write output to ~/Documents/project/competition/fognet/models/bbking/arima/model_2/AR_0_MA_1_D_1/submissions_20160407_122031.csv\n",
      "train summary:\n",
      "    rmse : 1.989\n",
      "    aic : 7481.008\n",
      "    bic : 7508.095\n",
      "    hqic : 7491.029\n",
      "test summary:\n",
      "    rmse : 0.949\n",
      "    aic : 2037.312\n",
      "    bic : 2058.908\n",
      "    hqic : 2045.724\n"
     ]
    }
   ],
   "source": [
    "model.fit()"
   ]
  },
  {
   "cell_type": "code",
   "execution_count": null,
   "metadata": {
    "collapsed": true
   },
   "outputs": [],
   "source": [
    "train summary:\n",
    "    rmse : 1.964\n",
    "    aic : 7434.571\n",
    "    bic : 7477.910\n",
    "    hqic : 7450.604\n",
    "test summary:\n",
    "    rmse : 0.998\n",
    "    aic : 2039.104\n",
    "    bic : 2073.657\n",
    "    hqic : 2052.563"
   ]
  },
  {
   "cell_type": "markdown",
   "metadata": {},
   "source": [
    "#  Try only with ARIMA, pas SARIMAX"
   ]
  },
  {
   "cell_type": "markdown",
   "metadata": {},
   "source": [
    "**Rapport**\n"
   ]
  },
  {
   "cell_type": "code",
   "execution_count": 427,
   "metadata": {
    "collapsed": false
   },
   "outputs": [
    {
     "name": "stdout",
     "output_type": "stream",
     "text": [
      "{'AR': 0, 'MA': 1, 'D': 1}\n",
      "Loading the prepro pipeline\n",
      "Set up the checkpoints\n",
      "Set up the checkpoints\n"
     ]
    }
   ],
   "source": [
    "from utils.arima_utils import *\n",
    "config = parse_conf_file(os.path.join(root,'model_0','conf_model.json'))\n",
    "model = ArimaModel(config=config)\n",
    "model.AR = 5\n",
    "model.init_model()"
   ]
  },
  {
   "cell_type": "code",
   "execution_count": 428,
   "metadata": {
    "collapsed": false
   },
   "outputs": [
    {
     "name": "stderr",
     "output_type": "stream",
     "text": [
      "\r",
      "  0%|          | 0/3 [00:00<?, ?it/s]"
     ]
    },
    {
     "name": "stdout",
     "output_type": "stream",
     "text": [
      "Le train is composed by 1 group and 3058 observation\n",
      "Le test is composed by 1 group and 1020 observation\n",
      "                             ARIMA Model Results                              \n",
      "==============================================================================\n",
      "Dep. Variable:           D.feat_yield   No. Observations:                 3057\n",
      "Model:                 ARIMA(5, 1, 1)   Log Likelihood               -6836.561\n",
      "Method:                       css-mle   S.D. of innovations              2.264\n",
      "Date:                Thu, 07 Apr 2016   AIC                          13707.121\n",
      "Time:                        13:59:55   BIC                          13809.550\n",
      "Sample:                    11-23-2013   HQIC                         13743.929\n",
      "                         - 08-09-2014                                         \n",
      "======================================================================================\n",
      "                         coef    std err          z      P>|z|      [0.025      0.975]\n",
      "--------------------------------------------------------------------------------------\n",
      "const                  0.0837      0.032      2.587      0.010       0.020       0.147\n",
      "feat_0                -0.5544      0.128     -4.320      0.000      -0.806      -0.303\n",
      "feat_1                 0.2554      0.050      5.097      0.000       0.157       0.354\n",
      "feat_2                -0.0023      0.016     -0.140      0.888      -0.034       0.030\n",
      "feat_3                 0.0566      0.027      2.080      0.038       0.003       0.110\n",
      "feat_4                -0.7472      0.304     -2.459      0.014      -1.343      -0.152\n",
      "feat_5                 0.7563      0.302      2.503      0.012       0.164       1.348\n",
      "feat_6                 0.4759      0.133      3.566      0.000       0.214       0.737\n",
      "feat_7                 0.0392      0.026      1.513      0.130      -0.012       0.090\n",
      "feat_8                -0.0172      0.030     -0.571      0.568      -0.076       0.042\n",
      "ar.L1.D.feat_yield     0.7193      0.038     18.769      0.000       0.644       0.794\n",
      "ar.L2.D.feat_yield    -0.2414      0.022    -10.849      0.000      -0.285      -0.198\n",
      "ar.L3.D.feat_yield     0.0176      0.024      0.734      0.463      -0.029       0.065\n",
      "ar.L4.D.feat_yield    -0.0573      0.022     -2.564      0.010      -0.101      -0.014\n",
      "ar.L5.D.feat_yield    -0.0721      0.022     -3.334      0.001      -0.114      -0.030\n",
      "ma.L1.D.feat_yield    -0.7356      0.035    -20.837      0.000      -0.805      -0.666\n",
      "                                    Roots                                    \n",
      "=============================================================================\n",
      "                 Real           Imaginary           Modulus         Frequency\n",
      "-----------------------------------------------------------------------------\n",
      "AR.1            1.0890           -0.7219j            1.3066           -0.0932\n",
      "AR.2            1.0890           +0.7219j            1.3066            0.0932\n",
      "AR.3           -0.2502           -1.7957j            1.8130           -0.2720\n",
      "AR.4           -0.2502           +1.7957j            1.8130            0.2720\n",
      "AR.5           -2.4729           -0.0000j            2.4729           -0.5000\n",
      "MA.1            1.3594           +0.0000j            1.3594            0.0000\n",
      "-----------------------------------------------------------------------------\n"
     ]
    },
    {
     "ename": "AttributeError",
     "evalue": "'ARIMA' object has no attribute 'filter'",
     "output_type": "error",
     "traceback": [
      "\u001b[0;31m---------------------------------------------------------------------------\u001b[0m",
      "\u001b[0;31mAttributeError\u001b[0m                            Traceback (most recent call last)",
      "\u001b[0;32m<ipython-input-428-1938638aa215>\u001b[0m in \u001b[0;36m<module>\u001b[0;34m()\u001b[0m\n\u001b[0;32m----> 1\u001b[0;31m \u001b[0mmodel\u001b[0m\u001b[0;34m.\u001b[0m\u001b[0mfit\u001b[0m\u001b[0;34m(\u001b[0m\u001b[0;34m)\u001b[0m\u001b[0;34m\u001b[0m\u001b[0m\n\u001b[0m",
      "\u001b[0;32m/Users/thorey/Documents/project/competition/fognet/utils/arima_utils.py\u001b[0m in \u001b[0;36mfit\u001b[0;34m(self)\u001b[0m\n\u001b[1;32m    121\u001b[0m         \u001b[0;31m# try:\u001b[0m\u001b[0;34m\u001b[0m\u001b[0;34m\u001b[0m\u001b[0m\n\u001b[1;32m    122\u001b[0m         \u001b[0;32mfor\u001b[0m \u001b[0mname\u001b[0m\u001b[0;34m,\u001b[0m \u001b[0mgp\u001b[0m \u001b[0;32min\u001b[0m \u001b[0mtqdm\u001b[0m\u001b[0;34m(\u001b[0m\u001b[0mdfgroup\u001b[0m\u001b[0;34m,\u001b[0m \u001b[0mtotal\u001b[0m\u001b[0;34m=\u001b[0m\u001b[0mdfgroup\u001b[0m\u001b[0;34m.\u001b[0m\u001b[0mngroups\u001b[0m\u001b[0;34m)\u001b[0m\u001b[0;34m:\u001b[0m\u001b[0;34m\u001b[0m\u001b[0m\n\u001b[0;32m--> 123\u001b[0;31m             \u001b[0mtrains\u001b[0m\u001b[0;34m,\u001b[0m \u001b[0mtests\u001b[0m \u001b[0;34m=\u001b[0m \u001b[0mself\u001b[0m\u001b[0;34m.\u001b[0m\u001b[0mfit_group\u001b[0m\u001b[0;34m(\u001b[0m\u001b[0mgp\u001b[0m\u001b[0;34m)\u001b[0m\u001b[0;34m\u001b[0m\u001b[0m\n\u001b[0m\u001b[1;32m    124\u001b[0m             \u001b[0mtrain_score\u001b[0m\u001b[0;34m.\u001b[0m\u001b[0mappend\u001b[0m\u001b[0;34m(\u001b[0m\u001b[0mtrains\u001b[0m\u001b[0;34m)\u001b[0m\u001b[0;34m\u001b[0m\u001b[0m\n\u001b[1;32m    125\u001b[0m             \u001b[0mtest_score\u001b[0m\u001b[0;34m.\u001b[0m\u001b[0mappend\u001b[0m\u001b[0;34m(\u001b[0m\u001b[0mtests\u001b[0m\u001b[0;34m)\u001b[0m\u001b[0;34m\u001b[0m\u001b[0m\n",
      "\u001b[0;32m/Users/thorey/Documents/project/competition/fognet/utils/arima_utils.py\u001b[0m in \u001b[0;36mfit_group\u001b[0;34m(self, df)\u001b[0m\n\u001b[1;32m    104\u001b[0m         \u001b[0;31m# testing\u001b[0m\u001b[0;34m\u001b[0m\u001b[0;34m\u001b[0m\u001b[0m\n\u001b[1;32m    105\u001b[0m         \u001b[0mtest_model\u001b[0m \u001b[0;34m=\u001b[0m \u001b[0mself\u001b[0m\u001b[0;34m.\u001b[0m\u001b[0mget_model\u001b[0m\u001b[0;34m(\u001b[0m\u001b[0mtest\u001b[0m\u001b[0;34m)\u001b[0m\u001b[0;34m\u001b[0m\u001b[0m\n\u001b[0;32m--> 106\u001b[0;31m         \u001b[0mtest_results\u001b[0m \u001b[0;34m=\u001b[0m \u001b[0mtest_model\u001b[0m\u001b[0;34m.\u001b[0m\u001b[0mfilter\u001b[0m\u001b[0;34m(\u001b[0m\u001b[0mtrain_results\u001b[0m\u001b[0;34m.\u001b[0m\u001b[0mparams\u001b[0m\u001b[0;34m)\u001b[0m\u001b[0;34m\u001b[0m\u001b[0m\n\u001b[0m\u001b[1;32m    107\u001b[0m         \u001b[0mtest\u001b[0m \u001b[0;34m=\u001b[0m \u001b[0mself\u001b[0m\u001b[0;34m.\u001b[0m\u001b[0mmerge_fitted_values\u001b[0m\u001b[0;34m(\u001b[0m\u001b[0mtest\u001b[0m\u001b[0;34m,\u001b[0m \u001b[0mtest_results\u001b[0m\u001b[0;34m)\u001b[0m\u001b[0;34m\u001b[0m\u001b[0m\n\u001b[1;32m    108\u001b[0m         \u001b[0mtest_score\u001b[0m \u001b[0;34m=\u001b[0m \u001b[0mself\u001b[0m\u001b[0;34m.\u001b[0m\u001b[0mget_information_fit\u001b[0m\u001b[0;34m(\u001b[0m\u001b[0mtest\u001b[0m\u001b[0;34m,\u001b[0m \u001b[0mtest_results\u001b[0m\u001b[0;34m)\u001b[0m\u001b[0;34m\u001b[0m\u001b[0m\n",
      "\u001b[0;31mAttributeError\u001b[0m: 'ARIMA' object has no attribute 'filter'"
     ]
    }
   ],
   "source": [
    "model.fit()"
   ]
  },
  {
   "cell_type": "code",
   "execution_count": 429,
   "metadata": {
    "collapsed": false
   },
   "outputs": [],
   "source": [
    "model.which_architecture = 'ARIMA'"
   ]
  },
  {
   "cell_type": "code",
   "execution_count": 430,
   "metadata": {
    "collapsed": false
   },
   "outputs": [
    {
     "name": "stdout",
     "output_type": "stream",
     "text": [
      "Set up the checkpoints\n"
     ]
    }
   ],
   "source": [
    "model.init_model()"
   ]
  },
  {
   "cell_type": "code",
   "execution_count": 433,
   "metadata": {
    "collapsed": true
   },
   "outputs": [],
   "source": [
    "sm.tsa.SARIMAX?"
   ]
  },
  {
   "cell_type": "code",
   "execution_count": 431,
   "metadata": {
    "collapsed": false
   },
   "outputs": [],
   "source": [
    "m = sm.tsa.ARIMA(endog = model.df['feat_yield'],\n",
    "            exog = model.df[model.regressors],\n",
    "            order = model.order)"
   ]
  },
  {
   "cell_type": "code",
   "execution_count": 432,
   "metadata": {
    "collapsed": false
   },
   "outputs": [
    {
     "ename": "AttributeError",
     "evalue": "'ARIMA' object has no attribute 'filter'",
     "output_type": "error",
     "traceback": [
      "\u001b[0;31m---------------------------------------------------------------------------\u001b[0m",
      "\u001b[0;31mAttributeError\u001b[0m                            Traceback (most recent call last)",
      "\u001b[0;32m<ipython-input-432-4d650f2c12ce>\u001b[0m in \u001b[0;36m<module>\u001b[0;34m()\u001b[0m\n\u001b[0;32m----> 1\u001b[0;31m \u001b[0mm\u001b[0m\u001b[0;34m.\u001b[0m\u001b[0mfilter\u001b[0m\u001b[0;34m(\u001b[0m\u001b[0mres\u001b[0m\u001b[0;34m.\u001b[0m\u001b[0mparams\u001b[0m\u001b[0;34m)\u001b[0m\u001b[0;34m\u001b[0m\u001b[0m\n\u001b[0m",
      "\u001b[0;31mAttributeError\u001b[0m: 'ARIMA' object has no attribute 'filter'"
     ]
    }
   ],
   "source": [
    "m.filter(res.params)"
   ]
  },
  {
   "cell_type": "code",
   "execution_count": 190,
   "metadata": {
    "collapsed": false
   },
   "outputs": [],
   "source": [
    "df.join?"
   ]
  },
  {
   "cell_type": "code",
   "execution_count": 182,
   "metadata": {
    "collapsed": false
   },
   "outputs": [
    {
     "data": {
      "text/plain": [
       "(7377, 7377)"
      ]
     },
     "execution_count": 182,
     "metadata": {},
     "output_type": "execute_result"
    }
   ],
   "source": [
    "len(res.fittedvalues),len(model.df)"
   ]
  },
  {
   "cell_type": "markdown",
   "metadata": {},
   "source": [
    "# Does SARIMAX perform the same if we input the nan with time interpolation"
   ]
  },
  {
   "cell_type": "markdown",
   "metadata": {},
   "source": [
    "**Rapport**\n",
    "\n",
    "- Significant improvement in the performance when we use time interpolation for yield\n",
    "- We implement it in the pipeline as a yield arg !"
   ]
  },
  {
   "cell_type": "code",
   "execution_count": 154,
   "metadata": {
    "collapsed": false
   },
   "outputs": [],
   "source": [
    "from utils.arima_utils import *"
   ]
  },
  {
   "cell_type": "code",
   "execution_count": 159,
   "metadata": {
    "collapsed": false
   },
   "outputs": [
    {
     "name": "stdout",
     "output_type": "stream",
     "text": [
      "{'AR': 0, 'MA': 1, 'D': 1}\n",
      "Loading the prepro pipeline\n",
      "Set up the checkpoints\n",
      "Set up the checkpoints\n"
     ]
    }
   ],
   "source": [
    "# On prend le meilleur model pour l'instant\n",
    "config = parse_conf_file(os.path.join(root,'model_0','conf_model.json'))\n",
    "model = ArimaModel(config=config)\n",
    "model.verbose = 0\n",
    "model.Season_AR = 1\n",
    "model.Season_Period = 0\n",
    "model.AR = 3\n",
    "model.Season_MA =0\n",
    "model.MA = 1\n",
    "\n",
    "model.init_model()"
   ]
  },
  {
   "cell_type": "code",
   "execution_count": 160,
   "metadata": {
    "collapsed": false
   },
   "outputs": [
    {
     "data": {
      "text/plain": [
       "(1, 0, 0, 0)"
      ]
     },
     "execution_count": 160,
     "metadata": {},
     "output_type": "execute_result"
    }
   ],
   "source": [
    "model.seasonal_order"
   ]
  },
  {
   "cell_type": "code",
   "execution_count": 161,
   "metadata": {
    "collapsed": true
   },
   "outputs": [
    {
     "name": "stderr",
     "output_type": "stream",
     "text": [
      "\r",
      "  0%|          | 0/3 [00:00<?, ?it/s]"
     ]
    },
    {
     "name": "stdout",
     "output_type": "stream",
     "text": [
      "Le train is composed by 1 group and 3058 observation\n",
      "Le test is composed by 1 group and 1020 observation\n"
     ]
    },
    {
     "name": "stderr",
     "output_type": "stream",
     "text": [
      "/Users/thorey/miniconda2/envs/fognet/lib/python2.7/site-packages/statsmodels-0.8.0-py2.7-macosx-10.5-x86_64.egg/statsmodels/base/model.py:471: ConvergenceWarning: Maximum Likelihood optimization failed to converge. Check mle_retvals\n",
      "  \"Check mle_retvals\", ConvergenceWarning)\n",
      " 33%|███▎      | 1/3 [00:15<00:30, 15.24s/it]"
     ]
    },
    {
     "name": "stdout",
     "output_type": "stream",
     "text": [
      "Le train is composed by 1 group and 1089 observation\n",
      "Le test is composed by 1 group and 363 observation\n"
     ]
    },
    {
     "name": "stderr",
     "output_type": "stream",
     "text": [
      "/Users/thorey/miniconda2/envs/fognet/lib/python2.7/site-packages/statsmodels-0.8.0-py2.7-macosx-10.5-x86_64.egg/statsmodels/base/model.py:471: ConvergenceWarning: Maximum Likelihood optimization failed to converge. Check mle_retvals\n",
      "  \"Check mle_retvals\", ConvergenceWarning)\n",
      " 67%|██████▋   | 2/3 [00:21<00:12, 12.55s/it]"
     ]
    },
    {
     "name": "stdout",
     "output_type": "stream",
     "text": [
      "Le train is composed by 1 group and 1385 observation\n",
      "Le test is composed by 1 group and 462 observation\n"
     ]
    },
    {
     "name": "stderr",
     "output_type": "stream",
     "text": [
      "/Users/thorey/miniconda2/envs/fognet/lib/python2.7/site-packages/statsmodels-0.8.0-py2.7-macosx-10.5-x86_64.egg/statsmodels/base/model.py:471: ConvergenceWarning: Maximum Likelihood optimization failed to converge. Check mle_retvals\n",
      "  \"Check mle_retvals\", ConvergenceWarning)\n"
     ]
    },
    {
     "name": "stdout",
     "output_type": "stream",
     "text": [
      "Will write output to ~/Documents/project/competition/fognet/models/bbking/arima/model_0/AR_0_MA_1_D_1/submissions_20160407_103505.csv\n",
      "train summary:\n",
      "    rmse : 1.777\n",
      "    aic : 7131.676\n",
      "    bic : 7212.936\n",
      "    hqic : 7161.739\n",
      "test summary:\n",
      "    rmse : 0.903\n",
      "    aic : 1976.788\n",
      "    bic : 2041.576\n",
      "    hqic : 2002.025\n"
     ]
    }
   ],
   "source": [
    "model.fit()"
   ]
  },
  {
   "cell_type": "code",
   "execution_count": null,
   "metadata": {
    "collapsed": true
   },
   "outputs": [],
   "source": []
  }
 ],
 "metadata": {
  "kernelspec": {
   "display_name": "Python 2",
   "language": "python",
   "name": "python2"
  },
  "language_info": {
   "codemirror_mode": {
    "name": "ipython",
    "version": 2
   },
   "file_extension": ".py",
   "mimetype": "text/x-python",
   "name": "python",
   "nbconvert_exporter": "python",
   "pygments_lexer": "ipython2",
   "version": "2.7.11"
  },
  "latex_envs": {
   "bibliofile": "biblio.bib",
   "cite_by": "apalike",
   "current_citInitial": 1,
   "eqLabelWithNumbers": true,
   "eqNumInitial": 0
  }
 },
 "nbformat": 4,
 "nbformat_minor": 0
}

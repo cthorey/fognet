{
 "cells": [
  {
   "cell_type": "code",
   "execution_count": 18,
   "metadata": {
    "collapsed": false
   },
   "outputs": [
    {
     "name": "stdout",
     "output_type": "stream",
     "text": [
      "The autoreload extension is already loaded. To reload it, use:\n",
      "  %reload_ext autoreload\n"
     ]
    }
   ],
   "source": [
    "%matplotlib inline\n",
    "from __future__ import print_function\n",
    "\n",
    "from matplotlib import pyplot as plt\n",
    "import seaborn as sns\n",
    "\n",
    "import numpy as np\n",
    "import pandas as pd\n",
    "\n",
    "%load_ext autoreload\n",
    "%autoreload 2\n",
    " \n",
    "from utils.nolearn_net import NeuralNet\n",
    "from utils.helper import *\n",
    "#from utils.iterator import BaseBatchIterator\n",
    "#from utils.utils import parse_conf_file\n",
    "#from utils.preprocessing import build_pipeline\n",
    "import importlib\n",
    "import pickle"
   ]
  },
  {
   "cell_type": "code",
   "execution_count": 80,
   "metadata": {
    "collapsed": false
   },
   "outputs": [],
   "source": [
    "from utils.helper import *\n",
    "from utils.train_utils import *"
   ]
  },
  {
   "cell_type": "code",
   "execution_count": 81,
   "metadata": {
    "collapsed": false
   },
   "outputs": [
    {
     "name": "stdout",
     "output_type": "stream",
     "text": [
      "Loading the prepro pipeline : [u'MyImputer', u'MyStandardScaler']\n",
      "Loading data iterator using : benchmark\n",
      "Le train is composed by 21 group and 3738 observation\n",
      "Le val is composed by 8 group and 1112 observation\n",
      "Le test is composed by 5 group and 948 observation\n",
      "Build the architecture: lstm, build_simple_lstm\n",
      "Set up the checkpoints\n",
      "Initialize the network \n"
     ]
    }
   ],
   "source": [
    "m = Model(config,mode ='train')"
   ]
  },
  {
   "cell_type": "code",
   "execution_count": 83,
   "metadata": {
    "collapsed": true
   },
   "outputs": [],
   "source": [
    "m.continue_training = False"
   ]
  },
  {
   "cell_type": "code",
   "execution_count": 84,
   "metadata": {
    "collapsed": false
   },
   "outputs": [
    {
     "name": "stdout",
     "output_type": "stream",
     "text": [
      "# Neural Network with 17161 learnable parameters\n",
      "\n",
      "## Layer information\n",
      "\n",
      "  #  name    size\n",
      "---  ------  -------\n",
      "  0  in      Nonex9\n",
      "     lstm    Nonex60\n",
      "             60\n",
      "     dense   1\n",
      "             None\n",
      "\n",
      "  epoch    train loss    valid loss    train/val  dur\n",
      "-------  ------------  ------------  -----------  -----\n",
      "      1      \u001b[36m17.24463\u001b[0m      \u001b[32m14.21711\u001b[0m      1.21295  3.64s\n",
      "      2      \u001b[36m15.89604\u001b[0m      \u001b[32m13.12790\u001b[0m      1.21086  3.22s\n",
      "      3      \u001b[36m14.16727\u001b[0m      \u001b[32m11.65764\u001b[0m      1.21528  3.25s\n",
      "      4      \u001b[36m12.40288\u001b[0m      \u001b[32m10.57987\u001b[0m      1.17231  3.30s\n",
      "      5      \u001b[36m11.36526\u001b[0m      \u001b[32m10.06273\u001b[0m      1.12944  3.23s\n",
      "      6      \u001b[36m10.72240\u001b[0m       \u001b[32m9.71938\u001b[0m      1.10320  3.31s\n",
      "      7      \u001b[36m10.23355\u001b[0m       \u001b[32m9.44626\u001b[0m      1.08334  3.22s\n",
      "      8       \u001b[36m9.83315\u001b[0m       \u001b[32m9.20805\u001b[0m      1.06789  3.22s\n",
      "      9       \u001b[36m9.48973\u001b[0m       \u001b[32m8.99456\u001b[0m      1.05505  3.20s\n",
      "     10       \u001b[36m9.18814\u001b[0m       \u001b[32m8.80312\u001b[0m      1.04374  3.34s\n",
      "     11       \u001b[36m8.92032\u001b[0m       \u001b[32m8.63061\u001b[0m      1.03357  3.94s\n",
      "     12       \u001b[36m8.68217\u001b[0m       \u001b[32m8.47553\u001b[0m      1.02438  3.85s\n",
      "     13       \u001b[36m8.46920\u001b[0m       \u001b[32m8.33558\u001b[0m      1.01603  3.43s\n",
      "     14       \u001b[36m8.27655\u001b[0m       \u001b[32m8.20803\u001b[0m      1.00835  3.54s\n",
      "     15       \u001b[36m8.10030\u001b[0m       \u001b[32m8.09130\u001b[0m      1.00111  3.37s\n",
      "     16       \u001b[36m7.93811\u001b[0m       \u001b[32m7.98476\u001b[0m      0.99416  3.37s\n",
      "     17       \u001b[36m7.78869\u001b[0m       \u001b[32m7.88822\u001b[0m      0.98738  3.31s\n",
      "     18       \u001b[36m7.65060\u001b[0m       \u001b[32m7.80159\u001b[0m      0.98065  3.26s\n",
      "     19       \u001b[36m7.52209\u001b[0m       \u001b[32m7.72483\u001b[0m      0.97375  3.26s\n",
      "     20       \u001b[36m7.40147\u001b[0m       \u001b[32m7.65809\u001b[0m      0.96649  3.28s\n",
      "     21       \u001b[36m7.28746\u001b[0m       \u001b[32m7.60211\u001b[0m      0.95861  3.24s\n",
      "     22       \u001b[36m7.17930\u001b[0m       \u001b[32m7.55795\u001b[0m      0.94990  3.36s\n",
      "     23       \u001b[36m7.07652\u001b[0m       \u001b[32m7.52603\u001b[0m      0.94027  3.29s\n",
      "     24       \u001b[36m6.97852\u001b[0m       \u001b[32m7.50624\u001b[0m      0.92970  3.26s\n",
      "     25       \u001b[36m6.88445\u001b[0m       \u001b[32m7.49855\u001b[0m      0.91810  3.23s\n",
      "     26       \u001b[36m6.79351\u001b[0m       7.50168      0.90560  3.24s\n",
      "     27       \u001b[36m6.70485\u001b[0m       7.51380      0.89234  3.24s\n",
      "     28       \u001b[36m6.61752\u001b[0m       7.53709      0.87799  3.27s\n",
      "     29       \u001b[36m6.53144\u001b[0m       7.56647      0.86321  3.23s\n",
      "     30       \u001b[36m6.44501\u001b[0m       7.60653      0.84730  3.25s\n",
      "     31       \u001b[36m6.35832\u001b[0m       7.65797      0.83029  3.24s\n",
      "     32       \u001b[36m6.27102\u001b[0m       7.71766      0.81256  3.24s\n",
      "     33       \u001b[36m6.18313\u001b[0m       7.77956      0.79479  3.24s\n",
      "     34       \u001b[36m6.09595\u001b[0m       7.84507      0.77704  3.99s\n",
      "     35       \u001b[36m6.01082\u001b[0m       7.91177      0.75973  3.26s\n",
      "     36       \u001b[36m5.92838\u001b[0m       7.97279      0.74358  3.23s\n",
      "     37       \u001b[36m5.85005\u001b[0m       8.01798      0.72962  3.23s\n",
      "     38       \u001b[36m5.77580\u001b[0m       8.04679      0.71778  3.23s\n",
      "     39       \u001b[36m5.70503\u001b[0m       8.06812      0.70711  3.23s\n",
      "     40       \u001b[36m5.63728\u001b[0m       8.09072      0.69676  3.23s\n",
      "     41       \u001b[36m5.57230\u001b[0m       8.11860      0.68636  3.24s\n",
      "     42       \u001b[36m5.51020\u001b[0m       8.15517      0.67567  3.24s\n",
      "     43       \u001b[36m5.45109\u001b[0m       8.19311      0.66533  3.23s\n",
      "     44       \u001b[36m5.39491\u001b[0m       8.23340      0.65525  3.25s\n",
      "     45       \u001b[36m5.34122\u001b[0m       8.27517      0.64545  3.24s\n",
      "     46       \u001b[36m5.28929\u001b[0m       8.31739      0.63593  3.23s\n",
      "     47       \u001b[36m5.23924\u001b[0m       8.36028      0.62668  3.23s\n",
      "     48       \u001b[36m5.19103\u001b[0m       8.40276      0.61778  3.24s\n",
      "     49       \u001b[36m5.14416\u001b[0m       8.44438      0.60918  3.23s\n",
      "Early stopping.\n",
      "Best valid loss was 7.498548 at epoch 25.\n",
      "Loaded parameters to layer 'lstm' (shape 9x60).\n",
      "Loaded parameters to layer 'lstm' (shape 60x60).\n",
      "Loaded parameters to layer 'lstm' (shape 60).\n",
      "Loaded parameters to layer 'lstm' (shape 9x60).\n",
      "Loaded parameters to layer 'lstm' (shape 60x60).\n",
      "Loaded parameters to layer 'lstm' (shape 60).\n",
      "Loaded parameters to layer 'lstm' (shape 9x60).\n",
      "Loaded parameters to layer 'lstm' (shape 60x60).\n",
      "Loaded parameters to layer 'lstm' (shape 60).\n",
      "Loaded parameters to layer 'lstm' (shape 9x60).\n",
      "Loaded parameters to layer 'lstm' (shape 60x60).\n",
      "Loaded parameters to layer 'lstm' (shape 60).\n",
      "Loaded parameters to layer 'lstm' (shape 60).\n",
      "Loaded parameters to layer 'lstm' (shape 60).\n",
      "Loaded parameters to layer 'lstm' (shape 60).\n",
      "Loaded parameters to layer 'lstm' (shape 1x60).\n",
      "Loaded parameters to layer 'lstm' (shape 1x60).\n",
      "Loaded parameters to layer 'dense' (shape 60x1).\n",
      "Loaded parameters to layer 'dense' (shape 1).\n",
      "Loading best param\n"
     ]
    },
    {
     "ename": "NameError",
     "evalue": "global name 'model_fname' is not defined",
     "output_type": "error",
     "traceback": [
      "\u001b[0;31m---------------------------------------------------------------------------\u001b[0m",
      "\u001b[0;31mNameError\u001b[0m                                 Traceback (most recent call last)",
      "\u001b[0;32m<ipython-input-84-adfb0955cd85>\u001b[0m in \u001b[0;36m<module>\u001b[0;34m()\u001b[0m\n\u001b[0;32m----> 1\u001b[0;31m \u001b[0mm\u001b[0m\u001b[0;34m.\u001b[0m\u001b[0mtrain\u001b[0m\u001b[0;34m(\u001b[0m\u001b[0;34m)\u001b[0m\u001b[0;34m\u001b[0m\u001b[0m\n\u001b[0m",
      "\u001b[0;32m/Users/thorey/Documents/project/competition/fognet/utils/train_utils.py\u001b[0m in \u001b[0;36mtrain\u001b[0;34m(self)\u001b[0m\n\u001b[1;32m    138\u001b[0m         \u001b[0;31m# Final score\u001b[0m\u001b[0;34m\u001b[0m\u001b[0;34m\u001b[0m\u001b[0m\n\u001b[1;32m    139\u001b[0m         \u001b[0;32mprint\u001b[0m \u001b[0;34m'Loading best param'\u001b[0m\u001b[0;34m\u001b[0m\u001b[0m\n\u001b[0;32m--> 140\u001b[0;31m         \u001b[0mself\u001b[0m\u001b[0;34m.\u001b[0m\u001b[0mnet\u001b[0m\u001b[0;34m.\u001b[0m\u001b[0mload_params_from\u001b[0m\u001b[0;34m(\u001b[0m\u001b[0mmodel_fname\u001b[0m\u001b[0;34m)\u001b[0m\u001b[0;34m\u001b[0m\u001b[0m\n\u001b[0m\u001b[1;32m    141\u001b[0m \u001b[0;34m\u001b[0m\u001b[0m\n\u001b[1;32m    142\u001b[0m         \u001b[0;32mprint\u001b[0m \u001b[0;34m'Evaluating on test set'\u001b[0m\u001b[0;34m\u001b[0m\u001b[0m\n",
      "\u001b[0;31mNameError\u001b[0m: global name 'model_fname' is not defined"
     ]
    }
   ],
   "source": [
    "m.train()"
   ]
  },
  {
   "cell_type": "code",
   "execution_count": 86,
   "metadata": {
    "collapsed": false
   },
   "outputs": [
    {
     "name": "stdout",
     "output_type": "stream",
     "text": [
      "Loaded parameters to layer 'lstm' (shape 9x60).\n",
      "Loaded parameters to layer 'lstm' (shape 60x60).\n",
      "Loaded parameters to layer 'lstm' (shape 60).\n",
      "Loaded parameters to layer 'lstm' (shape 9x60).\n",
      "Loaded parameters to layer 'lstm' (shape 60x60).\n",
      "Loaded parameters to layer 'lstm' (shape 60).\n",
      "Loaded parameters to layer 'lstm' (shape 9x60).\n",
      "Loaded parameters to layer 'lstm' (shape 60x60).\n",
      "Loaded parameters to layer 'lstm' (shape 60).\n",
      "Loaded parameters to layer 'lstm' (shape 9x60).\n",
      "Loaded parameters to layer 'lstm' (shape 60x60).\n",
      "Loaded parameters to layer 'lstm' (shape 60).\n",
      "Loaded parameters to layer 'lstm' (shape 60).\n",
      "Loaded parameters to layer 'lstm' (shape 60).\n",
      "Loaded parameters to layer 'lstm' (shape 60).\n",
      "Loaded parameters to layer 'lstm' (shape 1x60).\n",
      "Loaded parameters to layer 'lstm' (shape 1x60).\n",
      "Loaded parameters to layer 'dense' (shape 60x1).\n",
      "Loaded parameters to layer 'dense' (shape 1).\n"
     ]
    }
   ],
   "source": [
    "m.net.load_params_from(m.model_fname)"
   ]
  },
  {
   "cell_type": "code",
   "execution_count": 74,
   "metadata": {
    "collapsed": false
   },
   "outputs": [
    {
     "data": {
      "text/plain": [
       "{'batch_size': 25,\n",
       " 'build_ite': u'benchmark',\n",
       " 'continue_training': True,\n",
       " 'feats': [u'percip_mm',\n",
       "  u'humidity',\n",
       "  u'temp',\n",
       "  u'leafwet450_min',\n",
       "  u'leafwet460_min',\n",
       "  u'leafwet_lwscnt',\n",
       "  u'gusts_ms',\n",
       "  u'wind_dir',\n",
       "  u'wind_ms'],\n",
       " 'folder': u'/Users/thorey/Documents/project/competition/fognet/models/bbking/lstm/model_0/hiddens_60_lr_0.0001_reg_1e-06',\n",
       " 'grad_clip': 50,\n",
       " 'hiddens': 60,\n",
       " 'hp': {'hiddens': 60, 'lr': 0.0001, 'reg': 1e-06},\n",
       " 'loss_function': u'squared_error',\n",
       " 'lr': 0.0001,\n",
       " 'mode': 'train',\n",
       " 'model': u'lstm',\n",
       " 'model_fname': u'/Users/thorey/Documents/project/competition/fognet/models/bbking/lstm/model_0/hiddens_60_lr_0.0001_reg_1e-06/model.pkl',\n",
       " 'model_graph_fname': u'/Users/thorey/Documents/project/competition/fognet/models/bbking/lstm/model_0/hiddens_60_lr_0.0001_reg_1e-06/model_history.png',\n",
       " 'model_history_fname': u'/Users/thorey/Documents/project/competition/fognet/models/bbking/lstm/model_0/hiddens_60_lr_0.0001_reg_1e-06/model_history.pkl',\n",
       " 'model_name': 'hiddens_60_lr_0.0001_reg_1e-06',\n",
       " 'name': u'micro',\n",
       " 'nb_epochs': 1000,\n",
       " 'nb_features': 9,\n",
       " 'overwrite': True,\n",
       " 'patience': 25,\n",
       " 'pipe_kwargs': {u'MyImputer__strategy': u'mean'},\n",
       " 'pipe_list': [u'MyImputer', u'MyStandardScaler'],\n",
       " 'platform': u'bbking',\n",
       " 'reg': 1e-06,\n",
       " 'root': u'/Users/thorey/Documents/project/competition/fognet/models/bbking/lstm/model_0',\n",
       " 'seq_length': 25,\n",
       " 'stride': 1,\n",
       " 'update_rule': u'adam',\n",
       " 'verbose': 11}"
      ]
     },
     "execution_count": 74,
     "metadata": {},
     "output_type": "execute_result"
    }
   ],
   "source": [
    "unwanted = ['architecture','batch_ite_pred','batch_ite_test','batch_ite_val','batch_ite_train','config','net','on_epoch_finished']\n",
    "\n",
    "{k:v for k,v in m.config.iteritems() if k not in unwanted}"
   ]
  },
  {
   "cell_type": "markdown",
   "metadata": {},
   "source": [
    "# Test "
   ]
  },
  {
   "cell_type": "code",
   "execution_count": 65,
   "metadata": {
    "collapsed": false
   },
   "outputs": [],
   "source": [
    "config = parse_conf_file('/Users/thorey/Documents/project/competition/fognet/models/bbking/lstm/model_0/conf_model.json')"
   ]
  },
  {
   "cell_type": "code",
   "execution_count": 66,
   "metadata": {
    "collapsed": false
   },
   "outputs": [
    {
     "data": {
      "text/plain": [
       "{u'architecture': u'build_simple_lstm',\n",
       " u'batch_size': 25,\n",
       " u'build_ite': u'benchmark',\n",
       " u'continue_training': True,\n",
       " u'feats': [u'percip_mm',\n",
       "  u'humidity',\n",
       "  u'temp',\n",
       "  u'leafwet450_min',\n",
       "  u'leafwet460_min',\n",
       "  u'leafwet_lwscnt',\n",
       "  u'gusts_ms',\n",
       "  u'wind_dir',\n",
       "  u'wind_ms'],\n",
       " u'grad_clip': 50,\n",
       " u'hiddens': 60,\n",
       " u'loss_function': u'squared_error',\n",
       " u'lr': 0.0001,\n",
       " u'model': u'lstm',\n",
       " u'name': u'micro',\n",
       " u'nb_epochs': 1000,\n",
       " u'overwrite': True,\n",
       " u'patience': 25,\n",
       " u'pipe_kwargs': {u'MyImputer__strategy': u'mean'},\n",
       " u'pipe_list': [u'MyImputer', u'MyStandardScaler'],\n",
       " u'platform': u'bbking',\n",
       " u'reg': 1e-06,\n",
       " u'root': u'/Users/thorey/Documents/project/competition/fognet/models/bbking/lstm/model_0',\n",
       " u'seq_length': 25,\n",
       " u'stride': 1,\n",
       " u'update_rule': u'adam',\n",
       " u'verbose': 11}"
      ]
     },
     "execution_count": 66,
     "metadata": {},
     "output_type": "execute_result"
    }
   ],
   "source": [
    "config"
   ]
  },
  {
   "cell_type": "code",
   "execution_count": null,
   "metadata": {
    "collapsed": true
   },
   "outputs": [],
   "source": [
    "a = {'b':2,'a':1}\n",
    "class D(object):\n",
    "    def __init__(self,a):\n",
    "        map(set)\n",
    "        "
   ]
  },
  {
   "cell_type": "code",
   "execution_count": 381,
   "metadata": {
    "collapsed": false
   },
   "outputs": [
    {
     "name": "stdout",
     "output_type": "stream",
     "text": [
      "Le train is composed by 21 group and 3738 observation\n",
      "Le val is composed by 8 group and 1112 observation\n",
      "Le test is composed by 5 group and 948 observation\n"
     ]
    }
   ],
   "source": [
    "pipeline = build_pipeline(config['pipe_list'], config['pipe_kwargs'])\n",
    "nb_features, batch_ite_train, batch_ite_val, batch_ite_test, batch_ite_pred = load_data(\n",
    "        name=config['name'],\n",
    "        feats=config['feats'],\n",
    "        build_ite=config['build_ite'],\n",
    "        pipeline=pipeline)\n",
    "model = importlib.import_module(\n",
    "        'model_defs.%s' % config['model'])\n",
    "builder = getattr(model, config['architecture'])\n",
    "architecture = builder(D=nb_features, H=config[\n",
    "        'hiddens'], grad_clip=config['grad_clip'])"
   ]
  },
  {
   "cell_type": "code",
   "execution_count": 385,
   "metadata": {
    "collapsed": false
   },
   "outputs": [
    {
     "name": "stdout",
     "output_type": "stream",
     "text": [
      "Loaded parameters to layer 'lstm' (shape 9x25).\n",
      "Loaded parameters to layer 'lstm' (shape 25x25).\n",
      "Loaded parameters to layer 'lstm' (shape 25).\n",
      "Loaded parameters to layer 'lstm' (shape 9x25).\n",
      "Loaded parameters to layer 'lstm' (shape 25x25).\n",
      "Loaded parameters to layer 'lstm' (shape 25).\n",
      "Loaded parameters to layer 'lstm' (shape 9x25).\n",
      "Loaded parameters to layer 'lstm' (shape 25x25).\n",
      "Loaded parameters to layer 'lstm' (shape 25).\n",
      "Loaded parameters to layer 'lstm' (shape 9x25).\n",
      "Loaded parameters to layer 'lstm' (shape 25x25).\n",
      "Loaded parameters to layer 'lstm' (shape 25).\n",
      "Loaded parameters to layer 'lstm' (shape 25).\n",
      "Loaded parameters to layer 'lstm' (shape 25).\n",
      "Loaded parameters to layer 'lstm' (shape 25).\n",
      "Loaded parameters to layer 'lstm' (shape 1x25).\n",
      "Loaded parameters to layer 'lstm' (shape 1x25).\n",
      "Loaded parameters to layer 'dense' (shape 25x1).\n",
      "Loaded parameters to layer 'dense' (shape 1).\n"
     ]
    }
   ],
   "source": [
    "net = NeuralNet(\n",
    "        layers=architecture,\n",
    "        regression=True,\n",
    "        objective_loss_function=getattr(\n",
    "            lasagne.objectives, config['loss_function']),\n",
    "        objective_l2=config['reg'],  # L2 regularization\n",
    "        update=getattr(lasagne.updates, config['update_rule']),\n",
    "        update_learning_rate=config['lr'],\n",
    "        batch_iterator_train=batch_ite_train,\n",
    "        batch_iterator_test=batch_ite_val,\n",
    "        verbose=config['verbose'],\n",
    "        max_epochs=10000,)\n",
    "net.initialize()\n",
    "net.load_params_from(config['model_fname'])\n",
    "with open(config['model_history_fname']) as f:\n",
    "    net.train_history_ = pickle.load(f)"
   ]
  },
  {
   "cell_type": "code",
   "execution_count": 388,
   "metadata": {
    "collapsed": false
   },
   "outputs": [
    {
     "data": {
      "text/plain": [
       "(3.0808924682517103, 5.8183123682635864)"
      ]
     },
     "execution_count": 388,
     "metadata": {},
     "output_type": "execute_result"
    }
   ],
   "source": [
    "net.get_score_whole_set('train'),net.get_score_whole_set('test')"
   ]
  },
  {
   "cell_type": "code",
   "execution_count": 389,
   "metadata": {
    "collapsed": true
   },
   "outputs": [],
   "source": [
    "from utils.hook import write_final_score"
   ]
  },
  {
   "cell_type": "code",
   "execution_count": 390,
   "metadata": {
    "collapsed": true
   },
   "outputs": [],
   "source": [
    "write_final_score(config,net)"
   ]
  },
  {
   "cell_type": "code",
   "execution_count": 395,
   "metadata": {
    "collapsed": true
   },
   "outputs": [],
   "source": [
    "from utils.prediction_utils import *"
   ]
  },
  {
   "cell_type": "code",
   "execution_count": 397,
   "metadata": {
    "collapsed": false
   },
   "outputs": [
    {
     "name": "stdout",
     "output_type": "stream",
     "text": [
      "Will write output to /Users/thorey/Documents/project/competition/fognet/models/lstm/model_3/h_25_rg_1e-07_lr_0.001/submissions_20160322_144424.csv\n"
     ]
    }
   ],
   "source": [
    "    final_pred = prediction(net, batch_ite_pred)\n",
    "    make_submission(config, final_pred)"
   ]
  },
  {
   "cell_type": "code",
   "execution_count": 440,
   "metadata": {
    "collapsed": true
   },
   "outputs": [],
   "source": [
    "def conf_generator(config, parameters_grids):\n",
    "\n",
    "    assert all([f in ['lr', 'reg', 'hiddens'] for f in parameters_grid.keys()])\n",
    "    product = [x for x in apply(itertools.product, parameters_grid.values())]\n",
    "    conf_runs = [dict(zip(parameters_grid.keys(), p)) for p in product]\n",
    "    for conf_run in conf_runs:\n",
    "        config.update(conf_run)\n",
    "        yield config"
   ]
  },
  {
   "cell_type": "code",
   "execution_count": 441,
   "metadata": {
    "collapsed": false
   },
   "outputs": [],
   "source": [
    "parameters_grid = {'lr':np.arange(1,10,1),\n",
    "                  'reg':np.arange(1,10,1),\n",
    "                  'hiddens':np.arange(1,10,1)}"
   ]
  },
  {
   "cell_type": "code",
   "execution_count": 435,
   "metadata": {
    "collapsed": true
   },
   "outputs": [],
   "source": [
    "    parameters_grid = {'lr': np.logspace(-7, -1, num=20),\n",
    "                       'reg': np.logspace(-7, -1, num=20),\n",
    "                       'hiddens': range(25, 525, 25)}\n",
    "    confs = conf_generator(config, parameters_grid)"
   ]
  },
  {
   "cell_type": "code",
   "execution_count": 437,
   "metadata": {
    "collapsed": true
   },
   "outputs": [],
   "source": [
    "import multiprocessing"
   ]
  },
  {
   "cell_type": "code",
   "execution_count": 438,
   "metadata": {
    "collapsed": false
   },
   "outputs": [
    {
     "data": {
      "text/plain": [
       "4"
      ]
     },
     "execution_count": 438,
     "metadata": {},
     "output_type": "execute_result"
    }
   ],
   "source": [
    "multiprocessing.cpu_count()"
   ]
  },
  {
   "cell_type": "code",
   "execution_count": 434,
   "metadata": {
    "collapsed": false
   },
   "outputs": [
    {
     "name": "stdout",
     "output_type": "stream",
     "text": [
      "2\n",
      "2\n",
      "2\n",
      "2\n",
      "2\n",
      "2\n",
      "3\n",
      "3\n",
      "3\n",
      "3\n",
      "3\n",
      "3\n"
     ]
    },
    {
     "ename": "SystemExit",
     "evalue": "",
     "output_type": "error",
     "traceback": [
      "An exception has occurred, use %tb to see the full traceback.\n",
      "\u001b[0;31mSystemExit\u001b[0m\n"
     ]
    },
    {
     "name": "stderr",
     "output_type": "stream",
     "text": [
      "To exit: use 'exit', 'quit', or Ctrl-D.\n"
     ]
    }
   ],
   "source": [
    "for i,elt in enumerate(confs):\n",
    "    print(elt['lr'])\n",
    "    if i>10:\n",
    "        sys.exit()"
   ]
  },
  {
   "cell_type": "code",
   "execution_count": 439,
   "metadata": {
    "collapsed": true
   },
   "outputs": [],
   "source": [
    "\n",
    "from multiprocessing import Pool "
   ]
  },
  {
   "cell_type": "code",
   "execution_count": 449,
   "metadata": {
    "collapsed": false
   },
   "outputs": [
    {
     "data": {
      "text/plain": [
       "{'hiddens': array([1, 2, 3, 4, 5, 6, 7, 8, 9]),\n",
       " 'lr': array([1, 2, 3, 4, 5, 6, 7, 8, 9]),\n",
       " 'reg': array([1, 2, 3, 4, 5, 6, 7, 8, 9])}"
      ]
     },
     "execution_count": 449,
     "metadata": {},
     "output_type": "execute_result"
    }
   ],
   "source": [
    "parameters_grid"
   ]
  },
  {
   "cell_type": "code",
   "execution_count": 453,
   "metadata": {
    "collapsed": false
   },
   "outputs": [],
   "source": [
    "def test(config):\n",
    "    print(config['lr'],config['reg'],config['hiddens'])"
   ]
  },
  {
   "cell_type": "code",
   "execution_count": null,
   "metadata": {
    "collapsed": true
   },
   "outputs": [],
   "source": [
    "def conf_generator(config, parameters_grids):\n",
    "\n",
    "    assert all([f in ['lr', 'reg', 'hiddens'] for f in parameters_grid.keys()])\n",
    "    product = [x for x in apply(itertools.product, parameters_grid.values())]\n",
    "    conf_runs = [dict(zip(parameters_grid.keys(), p)) for p in product]\n",
    "    for conf_run in conf_runs:\n",
    "        config.update(conf_run)\n",
    "        yield config"
   ]
  },
  {
   "cell_type": "code",
   "execution_count": 459,
   "metadata": {
    "collapsed": false
   },
   "outputs": [
    {
     "name": "stdout",
     "output_type": "stream",
     "text": [
      "9 9 9\n",
      "9 9 9\n",
      "9 9 9\n",
      "9 9 9\n",
      "9 9 9\n",
      "9 9 9\n",
      "9 9 9\n",
      "9 9 9\n",
      "9 9 9\n",
      "9 9 9\n",
      "9 9 9\n",
      "9 9 9\n",
      "9 9 9\n",
      "9 9 9\n",
      "9 9 9\n",
      "9 9 9\n",
      "9 9 9\n",
      "9 9 9\n",
      "9 9 9\n",
      "9 9 9\n",
      "9 9 9\n",
      "9 9 9\n",
      "9 9 9\n",
      "9 9 9\n",
      "9 9 9\n",
      "9 9 9\n",
      "9 9 9\n",
      "9 9 9\n",
      "9 9 9\n",
      "9 9 9\n",
      "9 9 9\n",
      "9 9 9\n",
      "9 9 9\n",
      "9 9 9\n",
      "9 9 9\n",
      "9 9 9\n",
      "9 9 9\n",
      "9 9 9\n",
      "9 9 9\n",
      "9 9 9\n",
      "9 9 9\n",
      "9 9 9\n",
      "9 9 9\n",
      "9 9 9\n",
      "9 9 9\n",
      "9 9 9\n",
      "9 9 9\n",
      "9 9 9\n",
      "9 9 9\n",
      "9 9 9\n",
      "9 9 9\n",
      "9 9 9\n",
      "9 9 9\n",
      "9 9 9\n",
      "9 9 9\n",
      "9 9 9\n",
      "9 9 9\n",
      "9 9 9\n",
      "9 9 9\n",
      "9 9 9\n",
      "9 9 9\n",
      "9 9 9\n",
      "9 9 9\n",
      "9 9 9\n",
      "9 9 9\n",
      "9 9 9\n",
      "9 9 9\n",
      "9 9 9\n",
      "9 9 9\n",
      "9 9 9\n",
      "9 9 9\n",
      "9 9 9\n",
      "9 9 9\n",
      "9 9 9\n",
      "9 9 9\n",
      "9 9 9\n",
      "9 9 9\n",
      "9 9 9\n",
      "9 9 9\n",
      "9 9 9\n",
      "9 9 9\n",
      "9 9 9\n",
      "9 9 9\n",
      "9 9 9\n",
      "9 9 9\n",
      "9 9 9\n",
      "9 9 9\n",
      "9 9 9\n",
      "9 9 9\n",
      "9 9 9\n",
      "9 9 9\n",
      "9 9 9\n",
      "9 9 9\n",
      "9 9 9\n",
      "9 9 9\n",
      "9 9 9\n",
      "9 9 9\n",
      "9 9 9\n",
      "9 9 9\n",
      "9 9 9\n",
      "9 9 9\n",
      "9 9 9\n",
      "9 9 9\n",
      "9 9 9\n",
      "9 9 9\n",
      "9 9 9\n",
      "9 9 9\n",
      "9 9 9\n",
      "9 9 9\n",
      "9 9 9\n",
      "9 9 9\n",
      "9 9 9\n",
      "9 9 9\n",
      "9 9 9\n",
      "9 9 9\n",
      "9 9 9\n",
      "9 9 9\n",
      "9 9 9\n",
      "9 9 9\n",
      "9 9 9\n",
      "9 9 9\n",
      "9 9 9\n",
      "9 9 9\n",
      "9 9 9\n",
      "9 9 9\n",
      "9 9 9\n",
      "9 9 9\n",
      "9 9 9\n",
      "9 9 9\n",
      "9 9 9\n",
      "9 9 9\n",
      "9 9 9\n",
      "9 9 9\n",
      "9 9 9\n",
      "9 9 9\n",
      "9 9 9\n",
      "9 9 9\n",
      "9 9 9\n",
      "9 9 9\n",
      "9 9 9\n",
      "9 9 9\n",
      "9 9 9\n",
      "9 9 9\n",
      "9 9 9\n",
      "9 9 9\n",
      "9 9 9\n",
      "9 9 9\n",
      "9 9 9\n",
      "9 9 9\n",
      "9 9 9\n",
      "9 9 9\n",
      "9 9 9\n",
      "9 9 9\n",
      "9 9 9\n",
      "9 9 9\n",
      "9 9 9\n",
      "9 9 9\n",
      "9 9 9\n",
      "9 9 9\n",
      "9 9 9\n",
      "9 9 9\n",
      "9 9 9\n",
      "9 9 9\n",
      "9 9 9\n",
      "9 9 9\n",
      "9 9 9\n",
      "9 9 9\n",
      "9 9 9\n",
      "9 9 9\n",
      "9 9 9\n",
      "9 9 9\n",
      "9 9 9\n",
      "9 9 9\n",
      "9 9 9\n",
      "9 9 9\n",
      "9 9 9\n",
      "9 9 9\n",
      "9 9 9\n",
      "9 9 9\n",
      "9 9 9\n",
      "9 9 9\n",
      "9 9 9\n",
      "9 9 9\n",
      "9 9 9\n",
      "9 9 9\n",
      "9 9 9\n",
      "9 9 9\n",
      "9 9 9\n",
      "9 9 9\n",
      "9 9 9\n",
      "9 9 9\n",
      "9 9 9\n",
      "9 9 9\n",
      "9 9 9\n",
      "9 9 9\n",
      "9 9 9\n",
      "9 9 9\n",
      "9 9 9\n",
      "9 9 9\n",
      "9 9 9\n",
      "9 9 9\n",
      "9 9 9\n",
      "9 9 9\n",
      "9 9 9\n",
      "9 9 9\n",
      "9 9 9\n",
      "9 9 9\n",
      "9 9 9\n",
      "9 9 9\n",
      "9 9 9\n",
      "9 9 9\n",
      "9 9 9\n",
      "9 9 9\n",
      "9 9 9\n",
      "9 9 9\n",
      "9 9 9\n",
      "9 9 9\n"
     ]
    }
   ],
   "source": [
    "for elt in confs:\n",
    "    print(elt)"
   ]
  },
  {
   "cell_type": "code",
   "execution_count": 457,
   "metadata": {
    "collapsed": true
   },
   "outputs": [],
   "source": [
    "confs = conf_generator(config,parameters_grid)"
   ]
  },
  {
   "cell_type": "code",
   "execution_count": 458,
   "metadata": {
    "collapsed": false
   },
   "outputs": [
    {
     "name": "stdout",
     "output_type": "stream",
     "text": [
      "9 9 9\n",
      "9 9 9\n",
      "9 9 9\n",
      "9 9 9\n",
      "9 9 9\n",
      "9 9 9\n",
      "9 9 9\n",
      "9 9 9\n",
      "9 9 9\n",
      "9 9 9\n",
      "9 9 9\n",
      "9 9 9\n",
      "9 9 9\n",
      "9 9 9\n",
      "9 9 9\n",
      "9 9 9\n",
      "9 9 9\n",
      "9 9 9\n",
      "9 9 9\n",
      "9 9 9\n",
      "9 9 9\n",
      "9 9 9\n",
      "9 9 9\n",
      "9 9 9\n",
      "9 9 9\n",
      "9 9 9\n",
      "9 9 9\n",
      "9 9 9\n",
      "9 9 9\n",
      "9 9 9\n",
      "9 9 9\n",
      "9 9 9\n",
      "9 9 9\n",
      "9 9 9\n",
      "9 9 9\n",
      "9 9 9\n",
      "9 9 9\n",
      "9 9 9\n",
      "9 9 9\n",
      "9 9 9\n",
      "9 9 9\n",
      "9 9 9\n",
      "9 9 9\n",
      "9 9 9\n",
      "9 9 9\n",
      "9 9 9\n",
      "9 9 9\n",
      "9 9 9\n",
      "9 9 9\n",
      "9 9 9\n",
      "9 9 9\n",
      "9 9 9\n",
      "9 9 9\n",
      "9 9 9\n",
      "9 9 9\n",
      "9 9 9\n",
      "9 9 9\n",
      "9 9 9\n",
      "9 9 9\n",
      "9 9 9\n",
      "9 9 9\n",
      "9 9 9\n",
      "9 9 9\n",
      "9 9 9\n",
      "9 9 9\n",
      "9 9 9\n",
      "9 9 9\n",
      "9 9 9\n",
      "9 9 9\n",
      "9 9 9\n",
      "9 9 9\n",
      "9 9 9\n",
      "9 9 9\n",
      "9 9 9\n",
      "9 9 9\n",
      "9 9 9\n",
      "9 9 9\n",
      "9 9 9\n",
      "9 9 9\n",
      "9 9 9\n",
      "9 9 9\n",
      "9 9 9\n",
      "9 9 9\n",
      "9 9 9\n",
      "9 9 9\n",
      "9 9 9\n",
      "9 9 9\n",
      "9 9 9\n",
      "9 9 9\n",
      "9 9 9\n",
      "9 9 9\n",
      "9 9 9\n",
      "9 9 9\n",
      "9 9 9\n",
      "9 9 9\n",
      "9 9 9\n",
      "9 9 9\n",
      "9 9 9\n",
      "9 9 9\n",
      "9 9 9\n",
      "9 9 9\n",
      "9 9 9\n",
      "9 9 9\n",
      "9 9 9\n",
      "9 9 9\n",
      "9 9 9\n",
      "9 9 9\n",
      "9 9 9\n",
      "9 9 9\n",
      "9 9 9\n",
      "9 9 9\n",
      "9 9 9\n",
      "9 9 9\n",
      "9 9 9\n",
      "9 9 9\n",
      "9 9 9\n",
      "9 9 9\n",
      "9 9 9\n",
      "9 9 9\n",
      "9 9 9\n",
      "9 9 9\n",
      "9 9 9\n",
      "9 9 9\n",
      "9 9 9\n",
      "9 9 9\n",
      "9 9 9\n",
      "9 9 9\n",
      "9 9 9\n",
      "9 9 9\n",
      "9 9 9\n",
      "9 9 9\n",
      "9 9 9\n",
      "9 9 9\n",
      "9 9 9\n",
      "9 9 9\n",
      "9 9 9\n",
      "9 9 9\n",
      "9 9 9\n",
      "9 9 9\n",
      "9 9 9\n",
      "9 9 9\n",
      "9 9 9\n",
      "9 9 9\n",
      "9 9 9\n",
      "9 9 9\n",
      "9 9 9\n",
      "9 9 9\n",
      "9 9 9\n",
      "9 9 9\n",
      "9 9 9\n",
      "9 9 9\n",
      "9 9 9\n",
      "9 9 9\n",
      "9 9 9\n",
      "9 9 9\n",
      "9 9 9\n",
      "9 9 9\n",
      "9 9 9\n",
      "9 9 9\n",
      "9 9 9\n",
      "9 9 9\n",
      "9 9 9\n",
      "9 9 9\n",
      "9 9 9\n",
      "9 9 9\n",
      "9 9 9\n",
      "9 9 9\n",
      "9 9 9\n",
      "9 9 9\n",
      "9 9 9\n",
      "9 9 9\n",
      "9 9 9\n",
      "9 9 9\n",
      "9 9 9\n",
      "9 9 9\n",
      "9 9 9\n",
      "9 9 9\n",
      "9 9 9\n",
      "9 9 9\n",
      "9 9 9\n",
      "9 9 9\n",
      "9 9 9\n",
      "9 9 9\n",
      "9 9 9\n",
      "9 9 9\n",
      "9 9 9\n",
      "9 9 9\n",
      "9 9 9\n",
      "9 9 9\n",
      "9 9 9\n",
      "9 9 9\n",
      "9 9 9\n",
      "9 9 9\n",
      "9 9 9\n",
      "9 9 9\n",
      "9 9 9\n",
      "9 9 9\n",
      "9 9 9\n",
      "9 9 9\n",
      "9 9 9\n",
      "9 9 9\n",
      "9 9 9\n",
      "9 9 9\n",
      "9 9 9\n",
      "9 9 9\n",
      "9 9 9\n",
      "9 9 9\n",
      "9 9 9\n",
      "9 9 9\n",
      "9 9 9\n",
      "9 9 9\n",
      "9 9 9\n",
      "9 9 9\n",
      "9 9 9\n",
      "9 9 9\n",
      "9 9 9\n",
      "9 9 9\n",
      "9 9 9\n",
      "9 9 9\n",
      "9 9 9\n",
      "9 9 9\n",
      "9 9 9\n",
      "9 9 9\n",
      "9 9 9\n",
      "9 9 9\n",
      "9 9 9\n",
      "9 9 9\n",
      "9 9 9\n",
      "9 9 9\n",
      "9 9 9\n",
      "9 9 9\n",
      "9 9 9\n",
      "9 9 9\n",
      "9 9 9\n",
      "9 9 9\n",
      "9 9 9\n",
      "9 9 9\n",
      "9 9 9\n",
      "9 9 9\n",
      "9 9 9\n",
      "9 9 9\n",
      "9 9 9\n",
      "9 9 9\n",
      "9 9 9\n",
      "9 9 9\n",
      "9 9 9\n",
      "9 9 9\n",
      "9 9 9\n",
      "9 9 9\n",
      "9 9 9\n",
      "9 9 9\n",
      "9 9 9\n",
      "9 9 9\n",
      "9 9 9\n",
      "9 9 9\n",
      "9 9 9\n",
      "9 9 9\n",
      "9 9 9\n",
      "9 9 9\n",
      "9 9 9\n",
      "9 9 9\n",
      "9 9 9\n",
      "9 9 9\n",
      "9 9 9\n",
      "9 9 9\n",
      "9 9 9\n",
      "9 9 9\n",
      "9 9 9\n",
      "9 9 9\n",
      "9 9 9\n",
      "9 9 9\n",
      "9 9 9\n",
      "9 9 9\n",
      "9 9 9\n",
      "9 9 9\n",
      "9 9 9\n",
      "9 9 9\n",
      "9 9 9\n",
      "9 9 9\n",
      "9 9 9\n",
      "9 9 9\n",
      "9 9 9\n",
      "9 9 9\n",
      "9 9 9\n",
      "9 9 9\n",
      "9 9 9\n",
      "9 9 9\n",
      "9 9 9\n",
      "9 9 9\n",
      "9 9 9\n",
      "9 9 9\n",
      "9 9 9\n",
      "9 9 9\n",
      "9 9 9\n",
      "9 9 9\n",
      "9 9 9\n",
      "9 9 9\n",
      "9 9 9\n",
      "9 9 9\n",
      "9 9 9\n",
      "9 9 9\n",
      "9 9 9\n",
      "9 9 9\n",
      "9 9 9\n",
      "9 9 9\n",
      "9 9 9\n",
      "9 9 9\n",
      "9 9 9\n",
      "9 9 9\n",
      "9 9 9\n",
      "9 9 9\n",
      "9 9 9\n",
      "9 9 9\n",
      "9 9 9\n",
      "9 9 9\n",
      "9 9 9\n",
      "9 9 9\n",
      "9 9 9\n",
      "9 9 9\n",
      "9 9 9\n",
      "9 9 9\n",
      "9 9 9\n",
      "9 9 9\n",
      "9 9 9\n",
      "9 9 9\n",
      "9 9 9\n",
      "9 9 9\n",
      "9 9 9\n",
      "9 9 9\n",
      "9 9 9\n",
      "9 9 9\n",
      "9 9 9\n",
      "9 9 9\n",
      "9 9 9\n",
      "9 9 9\n",
      "9 9 9\n",
      "9 9 9\n",
      "9 9 9\n",
      "9 9 9\n",
      "9 9 9\n",
      "9 9 9\n",
      "9 9 9\n",
      "9 9 9\n",
      "9 9 9\n",
      "9 9 9\n",
      "9 9 9\n",
      "9 9 9\n",
      "9 9 9\n",
      "9 9 9\n",
      "9 9 9\n",
      "9 9 9\n",
      "9 9 9\n",
      "9 9 9\n",
      "9 9 9\n",
      "9 9 9\n",
      "9 9 9\n",
      "9 9 9\n",
      "9 9 9\n",
      "9 9 9\n",
      "9 9 9\n",
      "9 9 9\n",
      "9 9 9\n",
      "9 9 9\n",
      "9 9 9\n",
      "9 9 9\n",
      "9 9 9\n",
      "9 9 9\n",
      "9 9 9\n",
      "9 9 9\n",
      "9 9 9\n",
      "9 9 9\n",
      "9 9 9\n",
      "9 9 9\n",
      "9 9 9\n",
      "9 9 9\n",
      "9 9 9\n",
      "9 9 9\n",
      "9 9 9\n",
      "9 9 9\n",
      "9 9 9\n",
      "9 9 9\n",
      "9 9 9\n",
      "9 9 9\n",
      "9 9 9\n",
      "9 9 9\n",
      "9 9 9\n",
      "9 9 9\n",
      "9 9 9\n",
      "9 9 9\n",
      "9 9 9\n",
      "9 9 9\n",
      "9 9 9\n",
      "9 9 9\n",
      "9 9 9\n",
      "9 9 9\n",
      "9 9 9\n",
      "9 9 9\n",
      "9 9 9\n",
      "9 9 9\n",
      "9 9 9\n",
      "9 9 9\n",
      "9 9 9\n",
      "9 9 9\n",
      "9 9 9\n",
      "9 9 9\n",
      "9 9 9\n",
      "9 9 9\n",
      "9 9 9\n",
      "9 9 9\n",
      "9 9 9\n",
      "9 9 9\n",
      "9 9 9\n",
      "9 9 9\n",
      "9 9 9\n",
      "9 9 9\n",
      "9 9 9\n",
      "9 9 9\n",
      "9 9 9\n",
      "9 9 9\n",
      "9 9 9\n",
      "9 9 9\n",
      "9 9 9\n",
      "9 9 9\n",
      "9 9 9\n",
      "9 9 9\n",
      "9 9 9\n",
      "9 9 9\n",
      "9 9 9\n",
      "9 9 9\n",
      "9 9 9\n",
      "9 9 9\n",
      "9 9 9\n",
      "9 9 9\n",
      "9 9 9\n",
      "9 9 9\n",
      "9 9 9\n",
      "9 9 9\n",
      "9 9 9\n",
      "9 9 9\n",
      "9 9 9\n",
      "9 9 9\n",
      "9 9 9\n",
      "9 9 9\n",
      "9 9 9\n",
      "9 9 9\n",
      "9 9 9\n",
      "9 9 9\n",
      "9 9 9\n",
      "9 9 9\n",
      "9 9 9\n",
      "9 9 9\n",
      "9 9 9\n",
      "9 9 9\n",
      "9 9 9\n",
      "9 9 9\n",
      "9 9 9\n",
      "9 9 9\n",
      "9 9 9\n",
      "9 9 9\n",
      "9 9 9\n",
      "9 9 9\n",
      "9 9 9\n",
      "9 9 9\n",
      "9 9 9\n",
      "9 9 9\n",
      "9 9 9\n",
      "9 9 9\n",
      "9 9 9\n",
      "9 9 9\n",
      "9 9 9\n",
      "9 9 9\n",
      "9 9 9\n",
      "9 9 9\n",
      "9 9 9\n",
      "9 9 9\n",
      "9 9 9\n",
      "9 9 9\n",
      "9 9 9\n",
      "9 9 9\n",
      "9 9 9\n",
      "9 9 9\n",
      "9 9 9\n",
      "9 9 9\n",
      "9 9 9\n",
      "9 9 9\n",
      "9 9 9\n",
      "9 9 9\n",
      "9 9 9\n",
      "9 9 9\n",
      "9 9 9\n",
      "9 9 9\n",
      "9 9 9\n",
      "9 9 9\n",
      "9 9 9\n",
      "9 9 9\n",
      "9 9 9\n",
      "9 9 9\n",
      "9 9 9\n",
      "9 9 9\n",
      "9 9 9\n",
      "9 9 9\n",
      "9 9 9\n",
      "9 9 9\n",
      "9 9 9\n",
      "9 9 9\n",
      "9 9 9\n",
      "9 9 9\n",
      "9 9 9\n",
      "9 9 9\n",
      "9 9 9\n",
      "9 9 9\n",
      "9 9 9\n"
     ]
    }
   ],
   "source": [
    "pool = Pool()\n",
    "pool.map(test, confs)\n",
    "pool.close() \n",
    "pool.join()"
   ]
  },
  {
   "cell_type": "code",
   "execution_count": 476,
   "metadata": {
    "collapsed": true
   },
   "outputs": [],
   "source": [
    "    parameters_grid = {'lr': np.logspace(-3, -2, num=2),\n",
    "                       'reg': [1e-7],\n",
    "                       'hiddens': [25, 1,50]}"
   ]
  },
  {
   "cell_type": "code",
   "execution_count": 523,
   "metadata": {
    "collapsed": true
   },
   "outputs": [],
   "source": [
    "class MyDict(dict):\n",
    "\n",
    "    def update(self, *args):\n",
    "        dict.update(self, *args)\n",
    "        return self"
   ]
  },
  {
   "cell_type": "code",
   "execution_count": 546,
   "metadata": {
    "collapsed": true
   },
   "outputs": [],
   "source": [
    "def conf_generator(config, parameters_grids):\n",
    "\n",
    "    assert all([f in ['lr', 'reg', 'hiddens'] for f in parameters_grid.keys()])\n",
    "    product = [x for x in apply(itertools.product, parameters_grid.values())]\n",
    "    conf_runs = [dict(zip(parameters_grid.keys(), p)) for p in product]\n",
    "    confs = map(lambda d: update_dict(config, d), conf_runs)\n",
    "    return confs\n"
   ]
  },
  {
   "cell_type": "code",
   "execution_count": 548,
   "metadata": {
    "collapsed": false
   },
   "outputs": [],
   "source": [
    "confs = conf_generator(config,parameters_grid)"
   ]
  },
  {
   "cell_type": "code",
   "execution_count": 549,
   "metadata": {
    "collapsed": false
   },
   "outputs": [
    {
     "name": "stdout",
     "output_type": "stream",
     "text": [
      "0.001 25 1e-07\n",
      "0.01 25 1e-07\n",
      "0.001 1 1e-07\n",
      "0.01 1 1e-07\n",
      "0.001 50 1e-07\n",
      "0.01 50 1e-07\n"
     ]
    }
   ],
   "source": [
    "for elt in confs:\n",
    "    print(elt['lr'],elt['hiddens'],elt['reg'])"
   ]
  },
  {
   "cell_type": "code",
   "execution_count": 515,
   "metadata": {
    "collapsed": true
   },
   "outputs": [],
   "source": [
    "def worker(elt):\n",
    "    print(elt['lr'],elt['hiddens'],elt['reg'])"
   ]
  },
  {
   "cell_type": "code",
   "execution_count": 550,
   "metadata": {
    "collapsed": false
   },
   "outputs": [
    {
     "name": "stdout",
     "output_type": "stream",
     "text": [
      "0.001 25 1e-07\n",
      "0.01 25 1e-07\n",
      "0.001 1 1e-07\n",
      "0.01 1 1e-07\n",
      "0.001 50 1e-07\n",
      "0.01 50 1e-07\n"
     ]
    }
   ],
   "source": [
    "confs = conf_generator(config,parameters_grid)\n",
    "pool = Pool()\n",
    "pool.map(worker, ite)\n",
    "pool.close()\n",
    "pool.join()"
   ]
  },
  {
   "cell_type": "code",
   "execution_count": 494,
   "metadata": {
    "collapsed": false
   },
   "outputs": [],
   "source": [
    "class myDict(dict):\n",
    "    def update(self, *args):\n",
    "    \tdict.update(self, *args)\n",
    "    \treturn self"
   ]
  },
  {
   "cell_type": "code",
   "execution_count": 496,
   "metadata": {
    "collapsed": false
   },
   "outputs": [],
   "source": [
    "myconfig = myDict(config)"
   ]
  },
  {
   "cell_type": "code",
   "execution_count": 498,
   "metadata": {
    "collapsed": false
   },
   "outputs": [
    {
     "data": {
      "text/plain": [
       "[{u'architecture': u'build_simple_lstm',\n",
       "  u'build_ite': u'benchmark',\n",
       "  u'conf': u'../models/lstm/model_3/conf_model.json',\n",
       "  u'continue_training': False,\n",
       "  u'feats': [u'percip_mm',\n",
       "   u'humidity',\n",
       "   u'temp',\n",
       "   u'leafwet450_min',\n",
       "   u'leafwet460_min',\n",
       "   u'leafwet_lwscnt',\n",
       "   u'gusts_ms',\n",
       "   u'wind_dir',\n",
       "   u'wind_ms'],\n",
       "  u'folder': u'/Users/thorey/Documents/project/competition/fognet/models/lstm/model_3/h_25_rg_1e-07_lr_0.001',\n",
       "  u'grad_clip': 50,\n",
       "  u'hiddens': 50,\n",
       "  u'loss_function': u'squared_error',\n",
       "  u'lr': 0.01,\n",
       "  u'model': u'lstm',\n",
       "  u'model_fname': u'/Users/thorey/Documents/project/competition/fognet/models/lstm/model_3/h_25_rg_1e-07_lr_0.001/model.pkl',\n",
       "  u'model_graph_fname': u'/Users/thorey/Documents/project/competition/fognet/models/lstm/model_3/h_25_rg_1e-07_lr_0.001/model_history.png',\n",
       "  u'model_history_fname': u'/Users/thorey/Documents/project/competition/fognet/models/lstm/model_3/h_25_rg_1e-07_lr_0.001/model_history.pkl',\n",
       "  u'model_name': u'h_25_rg_1e-07_lr_0.001',\n",
       "  u'name': u'micro',\n",
       "  u'nb_epochs': 1000,\n",
       "  u'overwrite': True,\n",
       "  u'patience': 15,\n",
       "  u'pipe_kwargs': {u'MyImputer__strategy': u'mean'},\n",
       "  u'pipe_list': [u'MyImputer', u'MyStandardScaler'],\n",
       "  u'reg': 1e-07,\n",
       "  u'root': u'/Users/thorey/Documents/project/competition/fognet/models/lstm/model_3',\n",
       "  u'time': u'20160322_134638',\n",
       "  u'update_rule': u'adam',\n",
       "  u'verbose': 11},\n",
       " {u'architecture': u'build_simple_lstm',\n",
       "  u'build_ite': u'benchmark',\n",
       "  u'conf': u'../models/lstm/model_3/conf_model.json',\n",
       "  u'continue_training': False,\n",
       "  u'feats': [u'percip_mm',\n",
       "   u'humidity',\n",
       "   u'temp',\n",
       "   u'leafwet450_min',\n",
       "   u'leafwet460_min',\n",
       "   u'leafwet_lwscnt',\n",
       "   u'gusts_ms',\n",
       "   u'wind_dir',\n",
       "   u'wind_ms'],\n",
       "  u'folder': u'/Users/thorey/Documents/project/competition/fognet/models/lstm/model_3/h_25_rg_1e-07_lr_0.001',\n",
       "  u'grad_clip': 50,\n",
       "  u'hiddens': 50,\n",
       "  u'loss_function': u'squared_error',\n",
       "  u'lr': 0.01,\n",
       "  u'model': u'lstm',\n",
       "  u'model_fname': u'/Users/thorey/Documents/project/competition/fognet/models/lstm/model_3/h_25_rg_1e-07_lr_0.001/model.pkl',\n",
       "  u'model_graph_fname': u'/Users/thorey/Documents/project/competition/fognet/models/lstm/model_3/h_25_rg_1e-07_lr_0.001/model_history.png',\n",
       "  u'model_history_fname': u'/Users/thorey/Documents/project/competition/fognet/models/lstm/model_3/h_25_rg_1e-07_lr_0.001/model_history.pkl',\n",
       "  u'model_name': u'h_25_rg_1e-07_lr_0.001',\n",
       "  u'name': u'micro',\n",
       "  u'nb_epochs': 1000,\n",
       "  u'overwrite': True,\n",
       "  u'patience': 15,\n",
       "  u'pipe_kwargs': {u'MyImputer__strategy': u'mean'},\n",
       "  u'pipe_list': [u'MyImputer', u'MyStandardScaler'],\n",
       "  u'reg': 1e-07,\n",
       "  u'root': u'/Users/thorey/Documents/project/competition/fognet/models/lstm/model_3',\n",
       "  u'time': u'20160322_134638',\n",
       "  u'update_rule': u'adam',\n",
       "  u'verbose': 11},\n",
       " {u'architecture': u'build_simple_lstm',\n",
       "  u'build_ite': u'benchmark',\n",
       "  u'conf': u'../models/lstm/model_3/conf_model.json',\n",
       "  u'continue_training': False,\n",
       "  u'feats': [u'percip_mm',\n",
       "   u'humidity',\n",
       "   u'temp',\n",
       "   u'leafwet450_min',\n",
       "   u'leafwet460_min',\n",
       "   u'leafwet_lwscnt',\n",
       "   u'gusts_ms',\n",
       "   u'wind_dir',\n",
       "   u'wind_ms'],\n",
       "  u'folder': u'/Users/thorey/Documents/project/competition/fognet/models/lstm/model_3/h_25_rg_1e-07_lr_0.001',\n",
       "  u'grad_clip': 50,\n",
       "  u'hiddens': 50,\n",
       "  u'loss_function': u'squared_error',\n",
       "  u'lr': 0.01,\n",
       "  u'model': u'lstm',\n",
       "  u'model_fname': u'/Users/thorey/Documents/project/competition/fognet/models/lstm/model_3/h_25_rg_1e-07_lr_0.001/model.pkl',\n",
       "  u'model_graph_fname': u'/Users/thorey/Documents/project/competition/fognet/models/lstm/model_3/h_25_rg_1e-07_lr_0.001/model_history.png',\n",
       "  u'model_history_fname': u'/Users/thorey/Documents/project/competition/fognet/models/lstm/model_3/h_25_rg_1e-07_lr_0.001/model_history.pkl',\n",
       "  u'model_name': u'h_25_rg_1e-07_lr_0.001',\n",
       "  u'name': u'micro',\n",
       "  u'nb_epochs': 1000,\n",
       "  u'overwrite': True,\n",
       "  u'patience': 15,\n",
       "  u'pipe_kwargs': {u'MyImputer__strategy': u'mean'},\n",
       "  u'pipe_list': [u'MyImputer', u'MyStandardScaler'],\n",
       "  u'reg': 1e-07,\n",
       "  u'root': u'/Users/thorey/Documents/project/competition/fognet/models/lstm/model_3',\n",
       "  u'time': u'20160322_134638',\n",
       "  u'update_rule': u'adam',\n",
       "  u'verbose': 11},\n",
       " {u'architecture': u'build_simple_lstm',\n",
       "  u'build_ite': u'benchmark',\n",
       "  u'conf': u'../models/lstm/model_3/conf_model.json',\n",
       "  u'continue_training': False,\n",
       "  u'feats': [u'percip_mm',\n",
       "   u'humidity',\n",
       "   u'temp',\n",
       "   u'leafwet450_min',\n",
       "   u'leafwet460_min',\n",
       "   u'leafwet_lwscnt',\n",
       "   u'gusts_ms',\n",
       "   u'wind_dir',\n",
       "   u'wind_ms'],\n",
       "  u'folder': u'/Users/thorey/Documents/project/competition/fognet/models/lstm/model_3/h_25_rg_1e-07_lr_0.001',\n",
       "  u'grad_clip': 50,\n",
       "  u'hiddens': 50,\n",
       "  u'loss_function': u'squared_error',\n",
       "  u'lr': 0.01,\n",
       "  u'model': u'lstm',\n",
       "  u'model_fname': u'/Users/thorey/Documents/project/competition/fognet/models/lstm/model_3/h_25_rg_1e-07_lr_0.001/model.pkl',\n",
       "  u'model_graph_fname': u'/Users/thorey/Documents/project/competition/fognet/models/lstm/model_3/h_25_rg_1e-07_lr_0.001/model_history.png',\n",
       "  u'model_history_fname': u'/Users/thorey/Documents/project/competition/fognet/models/lstm/model_3/h_25_rg_1e-07_lr_0.001/model_history.pkl',\n",
       "  u'model_name': u'h_25_rg_1e-07_lr_0.001',\n",
       "  u'name': u'micro',\n",
       "  u'nb_epochs': 1000,\n",
       "  u'overwrite': True,\n",
       "  u'patience': 15,\n",
       "  u'pipe_kwargs': {u'MyImputer__strategy': u'mean'},\n",
       "  u'pipe_list': [u'MyImputer', u'MyStandardScaler'],\n",
       "  u'reg': 1e-07,\n",
       "  u'root': u'/Users/thorey/Documents/project/competition/fognet/models/lstm/model_3',\n",
       "  u'time': u'20160322_134638',\n",
       "  u'update_rule': u'adam',\n",
       "  u'verbose': 11},\n",
       " {u'architecture': u'build_simple_lstm',\n",
       "  u'build_ite': u'benchmark',\n",
       "  u'conf': u'../models/lstm/model_3/conf_model.json',\n",
       "  u'continue_training': False,\n",
       "  u'feats': [u'percip_mm',\n",
       "   u'humidity',\n",
       "   u'temp',\n",
       "   u'leafwet450_min',\n",
       "   u'leafwet460_min',\n",
       "   u'leafwet_lwscnt',\n",
       "   u'gusts_ms',\n",
       "   u'wind_dir',\n",
       "   u'wind_ms'],\n",
       "  u'folder': u'/Users/thorey/Documents/project/competition/fognet/models/lstm/model_3/h_25_rg_1e-07_lr_0.001',\n",
       "  u'grad_clip': 50,\n",
       "  u'hiddens': 50,\n",
       "  u'loss_function': u'squared_error',\n",
       "  u'lr': 0.01,\n",
       "  u'model': u'lstm',\n",
       "  u'model_fname': u'/Users/thorey/Documents/project/competition/fognet/models/lstm/model_3/h_25_rg_1e-07_lr_0.001/model.pkl',\n",
       "  u'model_graph_fname': u'/Users/thorey/Documents/project/competition/fognet/models/lstm/model_3/h_25_rg_1e-07_lr_0.001/model_history.png',\n",
       "  u'model_history_fname': u'/Users/thorey/Documents/project/competition/fognet/models/lstm/model_3/h_25_rg_1e-07_lr_0.001/model_history.pkl',\n",
       "  u'model_name': u'h_25_rg_1e-07_lr_0.001',\n",
       "  u'name': u'micro',\n",
       "  u'nb_epochs': 1000,\n",
       "  u'overwrite': True,\n",
       "  u'patience': 15,\n",
       "  u'pipe_kwargs': {u'MyImputer__strategy': u'mean'},\n",
       "  u'pipe_list': [u'MyImputer', u'MyStandardScaler'],\n",
       "  u'reg': 1e-07,\n",
       "  u'root': u'/Users/thorey/Documents/project/competition/fognet/models/lstm/model_3',\n",
       "  u'time': u'20160322_134638',\n",
       "  u'update_rule': u'adam',\n",
       "  u'verbose': 11},\n",
       " {u'architecture': u'build_simple_lstm',\n",
       "  u'build_ite': u'benchmark',\n",
       "  u'conf': u'../models/lstm/model_3/conf_model.json',\n",
       "  u'continue_training': False,\n",
       "  u'feats': [u'percip_mm',\n",
       "   u'humidity',\n",
       "   u'temp',\n",
       "   u'leafwet450_min',\n",
       "   u'leafwet460_min',\n",
       "   u'leafwet_lwscnt',\n",
       "   u'gusts_ms',\n",
       "   u'wind_dir',\n",
       "   u'wind_ms'],\n",
       "  u'folder': u'/Users/thorey/Documents/project/competition/fognet/models/lstm/model_3/h_25_rg_1e-07_lr_0.001',\n",
       "  u'grad_clip': 50,\n",
       "  u'hiddens': 50,\n",
       "  u'loss_function': u'squared_error',\n",
       "  u'lr': 0.01,\n",
       "  u'model': u'lstm',\n",
       "  u'model_fname': u'/Users/thorey/Documents/project/competition/fognet/models/lstm/model_3/h_25_rg_1e-07_lr_0.001/model.pkl',\n",
       "  u'model_graph_fname': u'/Users/thorey/Documents/project/competition/fognet/models/lstm/model_3/h_25_rg_1e-07_lr_0.001/model_history.png',\n",
       "  u'model_history_fname': u'/Users/thorey/Documents/project/competition/fognet/models/lstm/model_3/h_25_rg_1e-07_lr_0.001/model_history.pkl',\n",
       "  u'model_name': u'h_25_rg_1e-07_lr_0.001',\n",
       "  u'name': u'micro',\n",
       "  u'nb_epochs': 1000,\n",
       "  u'overwrite': True,\n",
       "  u'patience': 15,\n",
       "  u'pipe_kwargs': {u'MyImputer__strategy': u'mean'},\n",
       "  u'pipe_list': [u'MyImputer', u'MyStandardScaler'],\n",
       "  u'reg': 1e-07,\n",
       "  u'root': u'/Users/thorey/Documents/project/competition/fognet/models/lstm/model_3',\n",
       "  u'time': u'20160322_134638',\n",
       "  u'update_rule': u'adam',\n",
       "  u'verbose': 11}]"
      ]
     },
     "execution_count": 498,
     "metadata": {},
     "output_type": "execute_result"
    }
   ],
   "source": [
    "map(myconfig.update,ite)"
   ]
  },
  {
   "cell_type": "code",
   "execution_count": 492,
   "metadata": {
    "collapsed": false
   },
   "outputs": [],
   "source": [
    "def update_dict(config,d):\n",
    "    config.update(d)\n",
    "    return config\n"
   ]
  },
  {
   "cell_type": "code",
   "execution_count": 493,
   "metadata": {
    "collapsed": false
   },
   "outputs": [
    {
     "ename": "TypeError",
     "evalue": "update_dict() takes exactly 2 arguments (1 given)",
     "output_type": "error",
     "traceback": [
      "\u001b[0;31m---------------------------------------------------------------------------\u001b[0m",
      "\u001b[0;31mTypeError\u001b[0m                                 Traceback (most recent call last)",
      "\u001b[0;32m<ipython-input-493-94d251fbee04>\u001b[0m in \u001b[0;36m<module>\u001b[0;34m()\u001b[0m\n\u001b[0;32m----> 1\u001b[0;31m \u001b[0mmap\u001b[0m\u001b[0;34m(\u001b[0m\u001b[0mupdate_dict\u001b[0m\u001b[0;34m,\u001b[0m\u001b[0mite\u001b[0m\u001b[0;34m)\u001b[0m\u001b[0;34m\u001b[0m\u001b[0m\n\u001b[0m",
      "\u001b[0;31mTypeError\u001b[0m: update_dict() takes exactly 2 arguments (1 given)"
     ]
    }
   ],
   "source": [
    "map(update_dict,ite)"
   ]
  },
  {
   "cell_type": "code",
   "execution_count": 501,
   "metadata": {
    "collapsed": true
   },
   "outputs": [],
   "source": [
    "class myDict(dict):\n",
    "\n",
    "    def update(self, *args):\n",
    "        dict.update(self, *args)\n",
    "        return self\n",
    "\n",
    "\n",
    "def conf_generator(config, parameters_grids):\n",
    "\n",
    "    config = myDict(config)\n",
    "    assert all([f in ['lr', 'reg', 'hiddens'] for f in parameters_grid.keys()])\n",
    "    product = [x for x in apply(itertools.product, parameters_grid.values())]\n",
    "    conf_runs = [dict(zip(parameters_grid.keys(), p)) for p in product]\n",
    "    conf_runs = map(dict, map(config.update, conf_runs))\n",
    "    return conf_runs"
   ]
  },
  {
   "cell_type": "code",
   "execution_count": 503,
   "metadata": {
    "collapsed": false
   },
   "outputs": [],
   "source": [
    "confs = conf_generator(config,parameters_grid)"
   ]
  },
  {
   "cell_type": "code",
   "execution_count": 504,
   "metadata": {
    "collapsed": false
   },
   "outputs": [
    {
     "data": {
      "text/plain": [
       "6"
      ]
     },
     "execution_count": 504,
     "metadata": {},
     "output_type": "execute_result"
    }
   ],
   "source": [
    "len(confs)"
   ]
  },
  {
   "cell_type": "code",
   "execution_count": 505,
   "metadata": {
    "collapsed": false
   },
   "outputs": [
    {
     "name": "stdout",
     "output_type": "stream",
     "text": [
      "0.01 50 1e-07\n",
      "0.01 50 1e-07\n",
      "0.01 50 1e-07\n",
      "0.01 50 1e-07\n",
      "0.01 50 1e-07\n",
      "0.01 50 1e-07\n"
     ]
    }
   ],
   "source": [
    "pool = Pool()\n",
    "pool.map(worker, confs)\n",
    "pool.close()\n",
    "pool.join()"
   ]
  },
  {
   "cell_type": "code",
   "execution_count": 552,
   "metadata": {
    "collapsed": false
   },
   "outputs": [
    {
     "data": {
      "text/plain": [
       "4"
      ]
     },
     "execution_count": 552,
     "metadata": {},
     "output_type": "execute_result"
    }
   ],
   "source": [
    "multiprocessing.cpu_count()"
   ]
  },
  {
   "cell_type": "code",
   "execution_count": null,
   "metadata": {
    "collapsed": true
   },
   "outputs": [],
   "source": []
  }
 ],
 "metadata": {
  "kernelspec": {
   "display_name": "Python 2",
   "language": "python",
   "name": "python2"
  },
  "language_info": {
   "codemirror_mode": {
    "name": "ipython",
    "version": 2
   },
   "file_extension": ".py",
   "mimetype": "text/x-python",
   "name": "python",
   "nbconvert_exporter": "python",
   "pygments_lexer": "ipython2",
   "version": "2.7.11"
  },
  "latex_envs": {
   "bibliofile": "biblio.bib",
   "cite_by": "apalike",
   "current_citInitial": 1,
   "eqLabelWithNumbers": true,
   "eqNumInitial": 0
  }
 },
 "nbformat": 4,
 "nbformat_minor": 0
}

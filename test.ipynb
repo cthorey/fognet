{
 "cells": [
  {
   "cell_type": "code",
   "execution_count": 384,
   "metadata": {
    "collapsed": false
   },
   "outputs": [
    {
     "name": "stdout",
     "output_type": "stream",
     "text": [
      "The autoreload extension is already loaded. To reload it, use:\n",
      "  %reload_ext autoreload\n"
     ]
    }
   ],
   "source": [
    "%matplotlib inline\n",
    "from __future__ import print_function\n",
    "\n",
    "from matplotlib import pyplot as plt\n",
    "import seaborn as sns\n",
    "\n",
    "import numpy as np\n",
    "import pandas as pd\n",
    "\n",
    "%load_ext autoreload\n",
    "%autoreload 2\n",
    " \n",
    "from utils.nolearn_net import NeuralNet\n",
    "from utils.data_utils import *\n",
    "from utils.iterator import BaseBatchIterator\n",
    "from utils.training_utils import parse_conf_file\n",
    "from utils.preprocessing import build_pipeline\n",
    "import importlib\n",
    "import pickle"
   ]
  },
  {
   "cell_type": "markdown",
   "metadata": {},
   "source": [
    "# Test "
   ]
  },
  {
   "cell_type": "code",
   "execution_count": 374,
   "metadata": {
    "collapsed": true
   },
   "outputs": [],
   "source": [
    "config = parse_conf_file('/Users/thorey/Documents/project/competition/fognet/models/lstm/model_3/h_25_rg_1e-07_lr_0.001/conf_model.json')"
   ]
  },
  {
   "cell_type": "code",
   "execution_count": 375,
   "metadata": {
    "collapsed": false
   },
   "outputs": [
    {
     "data": {
      "text/plain": [
       "{u'architecture': u'build_simple_lstm',\n",
       " u'build_ite': u'benchmark',\n",
       " u'conf': u'../models/lstm/model_3/conf_model.json',\n",
       " u'continue_training': False,\n",
       " u'feats': [u'percip_mm',\n",
       "  u'humidity',\n",
       "  u'temp',\n",
       "  u'leafwet450_min',\n",
       "  u'leafwet460_min',\n",
       "  u'leafwet_lwscnt',\n",
       "  u'gusts_ms',\n",
       "  u'wind_dir',\n",
       "  u'wind_ms'],\n",
       " u'folder': u'/Users/thorey/Documents/project/competition/fognet/models/lstm/model_3/h_25_rg_1e-07_lr_0.001',\n",
       " u'grad_clip': 50,\n",
       " u'hiddens': 25,\n",
       " u'loss_function': u'squared_error',\n",
       " u'lr': 0.001,\n",
       " u'model': u'lstm',\n",
       " u'model_fname': u'/Users/thorey/Documents/project/competition/fognet/models/lstm/model_3/h_25_rg_1e-07_lr_0.001/model.pkl',\n",
       " u'model_graph_fname': u'/Users/thorey/Documents/project/competition/fognet/models/lstm/model_3/h_25_rg_1e-07_lr_0.001/model_history.png',\n",
       " u'model_history_fname': u'/Users/thorey/Documents/project/competition/fognet/models/lstm/model_3/h_25_rg_1e-07_lr_0.001/model_history.pkl',\n",
       " u'model_name': u'h_25_rg_1e-07_lr_0.001',\n",
       " u'name': u'micro',\n",
       " u'nb_epochs': 1000,\n",
       " u'overwrite': True,\n",
       " u'patience': 15,\n",
       " u'pipe_kwargs': {u'MyImputer__strategy': u'mean'},\n",
       " u'pipe_list': [u'MyImputer', u'MyStandardScaler'],\n",
       " u'reg': 1e-07,\n",
       " u'root': u'/Users/thorey/Documents/project/competition/fognet/models/lstm/model_3',\n",
       " u'time': u'20160322_134638',\n",
       " u'update_rule': u'adam',\n",
       " u'verbose': 11}"
      ]
     },
     "execution_count": 375,
     "metadata": {},
     "output_type": "execute_result"
    }
   ],
   "source": [
    "config"
   ]
  },
  {
   "cell_type": "code",
   "execution_count": 381,
   "metadata": {
    "collapsed": false
   },
   "outputs": [
    {
     "name": "stdout",
     "output_type": "stream",
     "text": [
      "Le train is composed by 21 group and 3738 observation\n",
      "Le val is composed by 8 group and 1112 observation\n",
      "Le test is composed by 5 group and 948 observation\n"
     ]
    }
   ],
   "source": [
    "pipeline = build_pipeline(config['pipe_list'], config['pipe_kwargs'])\n",
    "nb_features, batch_ite_train, batch_ite_val, batch_ite_test, batch_ite_pred = load_data(\n",
    "        name=config['name'],\n",
    "        feats=config['feats'],\n",
    "        build_ite=config['build_ite'],\n",
    "        pipeline=pipeline)\n",
    "model = importlib.import_module(\n",
    "        'model_defs.%s' % config['model'])\n",
    "builder = getattr(model, config['architecture'])\n",
    "architecture = builder(D=nb_features, H=config[\n",
    "        'hiddens'], grad_clip=config['grad_clip'])"
   ]
  },
  {
   "cell_type": "code",
   "execution_count": 385,
   "metadata": {
    "collapsed": false
   },
   "outputs": [
    {
     "name": "stdout",
     "output_type": "stream",
     "text": [
      "Loaded parameters to layer 'lstm' (shape 9x25).\n",
      "Loaded parameters to layer 'lstm' (shape 25x25).\n",
      "Loaded parameters to layer 'lstm' (shape 25).\n",
      "Loaded parameters to layer 'lstm' (shape 9x25).\n",
      "Loaded parameters to layer 'lstm' (shape 25x25).\n",
      "Loaded parameters to layer 'lstm' (shape 25).\n",
      "Loaded parameters to layer 'lstm' (shape 9x25).\n",
      "Loaded parameters to layer 'lstm' (shape 25x25).\n",
      "Loaded parameters to layer 'lstm' (shape 25).\n",
      "Loaded parameters to layer 'lstm' (shape 9x25).\n",
      "Loaded parameters to layer 'lstm' (shape 25x25).\n",
      "Loaded parameters to layer 'lstm' (shape 25).\n",
      "Loaded parameters to layer 'lstm' (shape 25).\n",
      "Loaded parameters to layer 'lstm' (shape 25).\n",
      "Loaded parameters to layer 'lstm' (shape 25).\n",
      "Loaded parameters to layer 'lstm' (shape 1x25).\n",
      "Loaded parameters to layer 'lstm' (shape 1x25).\n",
      "Loaded parameters to layer 'dense' (shape 25x1).\n",
      "Loaded parameters to layer 'dense' (shape 1).\n"
     ]
    }
   ],
   "source": [
    "net = NeuralNet(\n",
    "        layers=architecture,\n",
    "        regression=True,\n",
    "        objective_loss_function=getattr(\n",
    "            lasagne.objectives, config['loss_function']),\n",
    "        objective_l2=config['reg'],  # L2 regularization\n",
    "        update=getattr(lasagne.updates, config['update_rule']),\n",
    "        update_learning_rate=config['lr'],\n",
    "        batch_iterator_train=batch_ite_train,\n",
    "        batch_iterator_test=batch_ite_val,\n",
    "        verbose=config['verbose'],\n",
    "        max_epochs=10000,)\n",
    "net.initialize()\n",
    "net.load_params_from(config['model_fname'])\n",
    "with open(config['model_history_fname']) as f:\n",
    "    net.train_history_ = pickle.load(f)"
   ]
  },
  {
   "cell_type": "code",
   "execution_count": 388,
   "metadata": {
    "collapsed": false
   },
   "outputs": [
    {
     "data": {
      "text/plain": [
       "(3.0808924682517103, 5.8183123682635864)"
      ]
     },
     "execution_count": 388,
     "metadata": {},
     "output_type": "execute_result"
    }
   ],
   "source": [
    "net.get_score_whole_set('train'),net.get_score_whole_set('test')"
   ]
  },
  {
   "cell_type": "code",
   "execution_count": 389,
   "metadata": {
    "collapsed": true
   },
   "outputs": [],
   "source": [
    "from utils.hook import write_final_score"
   ]
  },
  {
   "cell_type": "code",
   "execution_count": 390,
   "metadata": {
    "collapsed": true
   },
   "outputs": [],
   "source": [
    "write_final_score(config,net)"
   ]
  },
  {
   "cell_type": "code",
   "execution_count": 395,
   "metadata": {
    "collapsed": true
   },
   "outputs": [],
   "source": [
    "from utils.prediction_utils import *"
   ]
  },
  {
   "cell_type": "code",
   "execution_count": 397,
   "metadata": {
    "collapsed": false
   },
   "outputs": [
    {
     "name": "stdout",
     "output_type": "stream",
     "text": [
      "Will write output to /Users/thorey/Documents/project/competition/fognet/models/lstm/model_3/h_25_rg_1e-07_lr_0.001/submissions_20160322_144424.csv\n"
     ]
    }
   ],
   "source": [
    "    final_pred = prediction(net, batch_ite_pred)\n",
    "    make_submission(config, final_pred)"
   ]
  },
  {
   "cell_type": "code",
   "execution_count": 398,
   "metadata": {
    "collapsed": true
   },
   "outputs": [],
   "source": [
    ">>> def producer():\n",
    "...     for i in range(6):\n",
    "...         print('Produced %s' % i)\n",
    "...         yield i\n"
   ]
  },
  {
   "cell_type": "code",
   "execution_count": 399,
   "metadata": {
    "collapsed": true
   },
   "outputs": [],
   "source": [
    ">>> from math import sqrt\n",
    ">>> from joblib import Parallel, delayed"
   ]
  },
  {
   "cell_type": "code",
   "execution_count": 400,
   "metadata": {
    "collapsed": false
   },
   "outputs": [
    {
     "name": "stdout",
     "output_type": "stream",
     "text": [
      "Produced 0\n",
      "Produced 1\n",
      "Produced 2\n",
      "[Parallel(n_jobs=2)]: Done   1 tasks      | elapsed:    0.0s\n",
      "[Parallel(n_jobs=2)]: Batch computation too fast (0.0057s.) Setting batch_size=70.\n",
      "Produced 3\n",
      "Produced 4\n",
      "Produced 5\n",
      "[Parallel(n_jobs=2)]: Done   2 tasks      | elapsed:    0.0s\n",
      "[Parallel(n_jobs=2)]: Done   5 out of   6 | elapsed:    0.0s remaining:    0.0s\n",
      "[Parallel(n_jobs=2)]: Done   5 out of   6 | elapsed:    0.0s remaining:    0.0s\n",
      "[Parallel(n_jobs=2)]: Done   6 out of   6 | elapsed:    0.0s finished\n"
     ]
    }
   ],
   "source": [
    "out = Parallel(n_jobs=2, verbose=100, pre_dispatch='1.5*n_jobs')(\n",
    "...                         delayed(sqrt)(i) for i in producer()) "
   ]
  },
  {
   "cell_type": "code",
   "execution_count": 409,
   "metadata": {
    "collapsed": true
   },
   "outputs": [],
   "source": [
    "import itertools\n",
    "def run_generator(parameters_grids):\n",
    "\n",
    "    assert all([f in ['lr', 'reg', 'hiddens'] for f in parameters_grid.keys()])\n",
    "    product = [x for x in apply(itertools.product, parameters_grid.values())]\n",
    "    runs = [dict(zip(parameters_grid.keys(), p)) for p in product]\n",
    "    for run in runs:\n",
    "        yield run"
   ]
  },
  {
   "cell_type": "code",
   "execution_count": 411,
   "metadata": {
    "collapsed": true
   },
   "outputs": [],
   "source": [
    "    parameters_grid = {'lr': np.logspace(-7, -2, num=100),\n",
    "                       'reg': [1e-7],\n",
    "                       'hiddens': [25, 50]}"
   ]
  },
  {
   "cell_type": "code",
   "execution_count": 416,
   "metadata": {
    "collapsed": true
   },
   "outputs": [],
   "source": [
    "import time"
   ]
  },
  {
   "cell_type": "code",
   "execution_count": 417,
   "metadata": {
    "collapsed": true
   },
   "outputs": [],
   "source": [
    "def test(config):\n",
    "    time.sleep(0.2)\n",
    "    return config['lr']"
   ]
  },
  {
   "cell_type": "code",
   "execution_count": 418,
   "metadata": {
    "collapsed": false
   },
   "outputs": [],
   "source": [
    "runs = run_generator(parameters_grid)"
   ]
  },
  {
   "cell_type": "code",
   "execution_count": 419,
   "metadata": {
    "collapsed": false
   },
   "outputs": [
    {
     "name": "stdout",
     "output_type": "stream",
     "text": [
      "[Parallel(n_jobs=2)]: Done   1 tasks      | elapsed:    0.2s\n",
      "[Parallel(n_jobs=2)]: Done   2 tasks      | elapsed:    0.2s\n",
      "[Parallel(n_jobs=2)]: Done   3 tasks      | elapsed:    0.4s\n",
      "[Parallel(n_jobs=2)]: Done   4 tasks      | elapsed:    0.4s\n",
      "[Parallel(n_jobs=2)]: Done   5 tasks      | elapsed:    0.6s\n",
      "[Parallel(n_jobs=2)]: Done   6 tasks      | elapsed:    0.6s\n",
      "[Parallel(n_jobs=2)]: Done   7 tasks      | elapsed:    0.8s\n",
      "[Parallel(n_jobs=2)]: Done   8 tasks      | elapsed:    0.8s\n",
      "[Parallel(n_jobs=2)]: Done   9 tasks      | elapsed:    1.0s\n",
      "[Parallel(n_jobs=2)]: Done  10 tasks      | elapsed:    1.0s\n",
      "[Parallel(n_jobs=2)]: Done  11 tasks      | elapsed:    1.2s\n",
      "[Parallel(n_jobs=2)]: Done  12 tasks      | elapsed:    1.2s\n",
      "[Parallel(n_jobs=2)]: Done  13 tasks      | elapsed:    1.4s\n",
      "[Parallel(n_jobs=2)]: Done  14 tasks      | elapsed:    1.4s\n",
      "[Parallel(n_jobs=2)]: Done  15 tasks      | elapsed:    1.6s\n",
      "[Parallel(n_jobs=2)]: Done  16 tasks      | elapsed:    1.6s\n",
      "[Parallel(n_jobs=2)]: Done  17 tasks      | elapsed:    1.8s\n",
      "[Parallel(n_jobs=2)]: Done  18 tasks      | elapsed:    1.8s\n",
      "[Parallel(n_jobs=2)]: Done  19 tasks      | elapsed:    2.0s\n",
      "[Parallel(n_jobs=2)]: Done  20 tasks      | elapsed:    2.0s\n",
      "[Parallel(n_jobs=2)]: Done  21 tasks      | elapsed:    2.2s\n",
      "[Parallel(n_jobs=2)]: Done  22 tasks      | elapsed:    2.2s\n",
      "[Parallel(n_jobs=2)]: Done  23 tasks      | elapsed:    2.4s\n",
      "[Parallel(n_jobs=2)]: Done  24 tasks      | elapsed:    2.4s\n",
      "[Parallel(n_jobs=2)]: Done  25 tasks      | elapsed:    2.6s\n",
      "[Parallel(n_jobs=2)]: Done  26 tasks      | elapsed:    2.6s\n",
      "[Parallel(n_jobs=2)]: Done  27 tasks      | elapsed:    2.8s\n",
      "[Parallel(n_jobs=2)]: Done  28 tasks      | elapsed:    2.8s\n",
      "[Parallel(n_jobs=2)]: Done  29 tasks      | elapsed:    3.0s\n",
      "[Parallel(n_jobs=2)]: Done  30 tasks      | elapsed:    3.0s\n",
      "[Parallel(n_jobs=2)]: Done  31 tasks      | elapsed:    3.2s\n",
      "[Parallel(n_jobs=2)]: Done  32 tasks      | elapsed:    3.2s\n",
      "[Parallel(n_jobs=2)]: Done  33 tasks      | elapsed:    3.4s\n",
      "[Parallel(n_jobs=2)]: Done  34 tasks      | elapsed:    3.4s\n",
      "[Parallel(n_jobs=2)]: Done  35 tasks      | elapsed:    3.6s\n",
      "[Parallel(n_jobs=2)]: Done  36 tasks      | elapsed:    3.6s\n",
      "[Parallel(n_jobs=2)]: Done  37 tasks      | elapsed:    3.8s\n",
      "[Parallel(n_jobs=2)]: Done  38 tasks      | elapsed:    3.8s\n",
      "[Parallel(n_jobs=2)]: Done  39 tasks      | elapsed:    4.0s\n",
      "[Parallel(n_jobs=2)]: Done  40 tasks      | elapsed:    4.0s\n",
      "[Parallel(n_jobs=2)]: Done  41 tasks      | elapsed:    4.2s\n",
      "[Parallel(n_jobs=2)]: Done  42 tasks      | elapsed:    4.2s\n",
      "[Parallel(n_jobs=2)]: Done  43 tasks      | elapsed:    4.4s\n",
      "[Parallel(n_jobs=2)]: Done  44 tasks      | elapsed:    4.4s\n",
      "[Parallel(n_jobs=2)]: Done  45 tasks      | elapsed:    4.6s\n",
      "[Parallel(n_jobs=2)]: Done  46 tasks      | elapsed:    4.6s\n",
      "[Parallel(n_jobs=2)]: Done  47 tasks      | elapsed:    4.8s\n",
      "[Parallel(n_jobs=2)]: Done  48 tasks      | elapsed:    4.8s\n",
      "[Parallel(n_jobs=2)]: Done  49 tasks      | elapsed:    5.0s\n",
      "[Parallel(n_jobs=2)]: Done  50 tasks      | elapsed:    5.0s\n",
      "[Parallel(n_jobs=2)]: Done  51 tasks      | elapsed:    5.2s\n",
      "[Parallel(n_jobs=2)]: Done  52 tasks      | elapsed:    5.2s\n",
      "[Parallel(n_jobs=2)]: Done  53 tasks      | elapsed:    5.4s\n",
      "[Parallel(n_jobs=2)]: Done  54 tasks      | elapsed:    5.4s\n",
      "[Parallel(n_jobs=2)]: Done  55 tasks      | elapsed:    5.6s\n",
      "[Parallel(n_jobs=2)]: Done  56 tasks      | elapsed:    5.6s\n",
      "[Parallel(n_jobs=2)]: Done  57 tasks      | elapsed:    5.8s\n",
      "[Parallel(n_jobs=2)]: Done  58 tasks      | elapsed:    5.9s\n",
      "[Parallel(n_jobs=2)]: Done  59 tasks      | elapsed:    6.1s\n",
      "[Parallel(n_jobs=2)]: Done  60 tasks      | elapsed:    6.1s\n",
      "[Parallel(n_jobs=2)]: Done  61 tasks      | elapsed:    6.3s\n",
      "[Parallel(n_jobs=2)]: Done  62 tasks      | elapsed:    6.3s\n",
      "[Parallel(n_jobs=2)]: Done  63 tasks      | elapsed:    6.5s\n",
      "[Parallel(n_jobs=2)]: Done  64 tasks      | elapsed:    6.5s\n",
      "[Parallel(n_jobs=2)]: Done  65 tasks      | elapsed:    6.7s\n",
      "[Parallel(n_jobs=2)]: Done  66 tasks      | elapsed:    6.7s\n",
      "[Parallel(n_jobs=2)]: Done  67 tasks      | elapsed:    6.9s\n",
      "[Parallel(n_jobs=2)]: Done  68 tasks      | elapsed:    6.9s\n",
      "[Parallel(n_jobs=2)]: Done  69 tasks      | elapsed:    7.1s\n",
      "[Parallel(n_jobs=2)]: Done  70 tasks      | elapsed:    7.1s\n",
      "[Parallel(n_jobs=2)]: Done  71 tasks      | elapsed:    7.3s\n",
      "[Parallel(n_jobs=2)]: Done  72 tasks      | elapsed:    7.3s\n",
      "[Parallel(n_jobs=2)]: Done  73 tasks      | elapsed:    7.5s\n",
      "[Parallel(n_jobs=2)]: Done  74 tasks      | elapsed:    7.5s\n",
      "[Parallel(n_jobs=2)]: Done  75 tasks      | elapsed:    7.7s\n",
      "[Parallel(n_jobs=2)]: Done  76 tasks      | elapsed:    7.7s\n",
      "[Parallel(n_jobs=2)]: Done  77 tasks      | elapsed:    7.9s\n",
      "[Parallel(n_jobs=2)]: Done  78 tasks      | elapsed:    7.9s\n",
      "[Parallel(n_jobs=2)]: Done  79 tasks      | elapsed:    8.1s\n",
      "[Parallel(n_jobs=2)]: Done  80 tasks      | elapsed:    8.1s\n",
      "[Parallel(n_jobs=2)]: Done  81 tasks      | elapsed:    8.3s\n",
      "[Parallel(n_jobs=2)]: Done  82 tasks      | elapsed:    8.3s\n",
      "[Parallel(n_jobs=2)]: Done  83 tasks      | elapsed:    8.5s\n",
      "[Parallel(n_jobs=2)]: Done  84 tasks      | elapsed:    8.5s\n",
      "[Parallel(n_jobs=2)]: Done  85 tasks      | elapsed:    8.7s\n",
      "[Parallel(n_jobs=2)]: Done  86 tasks      | elapsed:    8.7s\n",
      "[Parallel(n_jobs=2)]: Done  87 tasks      | elapsed:    8.9s\n",
      "[Parallel(n_jobs=2)]: Done  88 tasks      | elapsed:    8.9s\n",
      "[Parallel(n_jobs=2)]: Done  89 tasks      | elapsed:    9.1s\n",
      "[Parallel(n_jobs=2)]: Done  90 tasks      | elapsed:    9.1s\n",
      "[Parallel(n_jobs=2)]: Done  91 tasks      | elapsed:    9.3s\n",
      "[Parallel(n_jobs=2)]: Done  92 tasks      | elapsed:    9.3s\n",
      "[Parallel(n_jobs=2)]: Done  93 tasks      | elapsed:    9.5s\n",
      "[Parallel(n_jobs=2)]: Done  94 tasks      | elapsed:    9.5s\n",
      "[Parallel(n_jobs=2)]: Done  95 tasks      | elapsed:    9.7s\n",
      "[Parallel(n_jobs=2)]: Done  96 tasks      | elapsed:    9.7s\n",
      "[Parallel(n_jobs=2)]: Done  97 tasks      | elapsed:    9.9s\n",
      "[Parallel(n_jobs=2)]: Done  98 tasks      | elapsed:    9.9s\n",
      "[Parallel(n_jobs=2)]: Done  99 tasks      | elapsed:   10.1s\n",
      "[Parallel(n_jobs=2)]: Done 100 tasks      | elapsed:   10.1s\n",
      "[Parallel(n_jobs=2)]: Done 101 tasks      | elapsed:   10.3s\n",
      "[Parallel(n_jobs=2)]: Done 102 tasks      | elapsed:   10.3s\n",
      "[Parallel(n_jobs=2)]: Done 103 tasks      | elapsed:   10.5s\n",
      "[Parallel(n_jobs=2)]: Done 104 tasks      | elapsed:   10.5s\n",
      "[Parallel(n_jobs=2)]: Done 105 tasks      | elapsed:   10.7s\n",
      "[Parallel(n_jobs=2)]: Done 106 tasks      | elapsed:   10.7s\n",
      "[Parallel(n_jobs=2)]: Done 107 tasks      | elapsed:   10.9s\n",
      "[Parallel(n_jobs=2)]: Done 108 tasks      | elapsed:   10.9s\n",
      "[Parallel(n_jobs=2)]: Done 109 tasks      | elapsed:   11.1s\n",
      "[Parallel(n_jobs=2)]: Done 110 tasks      | elapsed:   11.1s\n",
      "[Parallel(n_jobs=2)]: Done 111 tasks      | elapsed:   11.3s\n",
      "[Parallel(n_jobs=2)]: Done 112 tasks      | elapsed:   11.3s\n",
      "[Parallel(n_jobs=2)]: Done 113 tasks      | elapsed:   11.5s\n",
      "[Parallel(n_jobs=2)]: Done 114 tasks      | elapsed:   11.5s\n",
      "[Parallel(n_jobs=2)]: Done 115 tasks      | elapsed:   11.7s\n",
      "[Parallel(n_jobs=2)]: Done 116 tasks      | elapsed:   11.7s\n",
      "[Parallel(n_jobs=2)]: Done 117 tasks      | elapsed:   11.9s\n",
      "[Parallel(n_jobs=2)]: Done 118 tasks      | elapsed:   11.9s\n",
      "[Parallel(n_jobs=2)]: Done 119 tasks      | elapsed:   12.1s\n",
      "[Parallel(n_jobs=2)]: Done 120 tasks      | elapsed:   12.1s\n",
      "[Parallel(n_jobs=2)]: Done 121 tasks      | elapsed:   12.3s\n",
      "[Parallel(n_jobs=2)]: Done 122 tasks      | elapsed:   12.3s\n",
      "[Parallel(n_jobs=2)]: Done 123 tasks      | elapsed:   12.5s\n",
      "[Parallel(n_jobs=2)]: Done 124 tasks      | elapsed:   12.5s\n",
      "[Parallel(n_jobs=2)]: Done 125 tasks      | elapsed:   12.7s\n",
      "[Parallel(n_jobs=2)]: Done 126 tasks      | elapsed:   12.7s\n",
      "[Parallel(n_jobs=2)]: Done 127 tasks      | elapsed:   12.9s\n",
      "[Parallel(n_jobs=2)]: Done 128 tasks      | elapsed:   12.9s\n",
      "[Parallel(n_jobs=2)]: Done 129 tasks      | elapsed:   13.1s\n",
      "[Parallel(n_jobs=2)]: Done 130 tasks      | elapsed:   13.1s\n",
      "[Parallel(n_jobs=2)]: Done 131 tasks      | elapsed:   13.3s\n",
      "[Parallel(n_jobs=2)]: Done 132 tasks      | elapsed:   13.3s\n",
      "[Parallel(n_jobs=2)]: Done 133 tasks      | elapsed:   13.5s\n",
      "[Parallel(n_jobs=2)]: Done 134 tasks      | elapsed:   13.5s\n",
      "[Parallel(n_jobs=2)]: Done 135 tasks      | elapsed:   13.7s\n",
      "[Parallel(n_jobs=2)]: Done 136 tasks      | elapsed:   13.7s\n",
      "[Parallel(n_jobs=2)]: Done 137 tasks      | elapsed:   13.9s\n",
      "[Parallel(n_jobs=2)]: Done 138 tasks      | elapsed:   13.9s\n",
      "[Parallel(n_jobs=2)]: Done 139 tasks      | elapsed:   14.1s\n",
      "[Parallel(n_jobs=2)]: Done 140 tasks      | elapsed:   14.1s\n",
      "[Parallel(n_jobs=2)]: Done 141 tasks      | elapsed:   14.3s\n",
      "[Parallel(n_jobs=2)]: Done 142 tasks      | elapsed:   14.3s\n",
      "[Parallel(n_jobs=2)]: Done 143 tasks      | elapsed:   14.5s\n",
      "[Parallel(n_jobs=2)]: Done 144 tasks      | elapsed:   14.5s\n",
      "[Parallel(n_jobs=2)]: Done 145 tasks      | elapsed:   14.7s\n",
      "[Parallel(n_jobs=2)]: Done 146 tasks      | elapsed:   14.7s\n",
      "[Parallel(n_jobs=2)]: Done 147 tasks      | elapsed:   14.9s\n",
      "[Parallel(n_jobs=2)]: Done 148 tasks      | elapsed:   14.9s\n",
      "[Parallel(n_jobs=2)]: Done 149 tasks      | elapsed:   15.1s\n",
      "[Parallel(n_jobs=2)]: Done 150 tasks      | elapsed:   15.1s\n",
      "[Parallel(n_jobs=2)]: Done 151 tasks      | elapsed:   15.3s\n",
      "[Parallel(n_jobs=2)]: Done 152 tasks      | elapsed:   15.3s\n",
      "[Parallel(n_jobs=2)]: Done 153 tasks      | elapsed:   15.5s\n",
      "[Parallel(n_jobs=2)]: Done 154 tasks      | elapsed:   15.5s\n",
      "[Parallel(n_jobs=2)]: Done 155 tasks      | elapsed:   15.7s\n",
      "[Parallel(n_jobs=2)]: Done 156 tasks      | elapsed:   15.7s\n",
      "[Parallel(n_jobs=2)]: Done 157 tasks      | elapsed:   15.9s\n",
      "[Parallel(n_jobs=2)]: Done 158 tasks      | elapsed:   15.9s\n",
      "[Parallel(n_jobs=2)]: Done 159 tasks      | elapsed:   16.1s\n",
      "[Parallel(n_jobs=2)]: Done 160 tasks      | elapsed:   16.1s\n",
      "[Parallel(n_jobs=2)]: Done 161 tasks      | elapsed:   16.3s\n",
      "[Parallel(n_jobs=2)]: Done 162 tasks      | elapsed:   16.3s\n",
      "[Parallel(n_jobs=2)]: Done 163 tasks      | elapsed:   16.5s\n",
      "[Parallel(n_jobs=2)]: Done 164 tasks      | elapsed:   16.5s\n",
      "[Parallel(n_jobs=2)]: Done 165 tasks      | elapsed:   16.7s\n",
      "[Parallel(n_jobs=2)]: Done 166 tasks      | elapsed:   16.7s\n",
      "[Parallel(n_jobs=2)]: Done 167 tasks      | elapsed:   16.9s\n",
      "[Parallel(n_jobs=2)]: Done 168 tasks      | elapsed:   16.9s\n",
      "[Parallel(n_jobs=2)]: Done 169 tasks      | elapsed:   17.1s\n",
      "[Parallel(n_jobs=2)]: Done 170 tasks      | elapsed:   17.1s\n",
      "[Parallel(n_jobs=2)]: Done 171 tasks      | elapsed:   17.3s\n",
      "[Parallel(n_jobs=2)]: Done 172 tasks      | elapsed:   17.3s\n",
      "[Parallel(n_jobs=2)]: Done 173 tasks      | elapsed:   17.5s\n",
      "[Parallel(n_jobs=2)]: Done 174 tasks      | elapsed:   17.5s\n",
      "[Parallel(n_jobs=2)]: Done 175 tasks      | elapsed:   17.7s\n",
      "[Parallel(n_jobs=2)]: Done 176 tasks      | elapsed:   17.7s\n",
      "[Parallel(n_jobs=2)]: Done 177 tasks      | elapsed:   17.9s\n",
      "[Parallel(n_jobs=2)]: Done 178 tasks      | elapsed:   17.9s\n",
      "[Parallel(n_jobs=2)]: Done 179 tasks      | elapsed:   18.1s\n",
      "[Parallel(n_jobs=2)]: Done 180 tasks      | elapsed:   18.1s\n",
      "[Parallel(n_jobs=2)]: Done 181 tasks      | elapsed:   18.3s\n",
      "[Parallel(n_jobs=2)]: Done 182 tasks      | elapsed:   18.3s\n",
      "[Parallel(n_jobs=2)]: Done 183 tasks      | elapsed:   18.5s\n",
      "[Parallel(n_jobs=2)]: Done 184 tasks      | elapsed:   18.5s\n",
      "[Parallel(n_jobs=2)]: Done 185 tasks      | elapsed:   18.7s\n",
      "[Parallel(n_jobs=2)]: Done 186 tasks      | elapsed:   18.8s\n",
      "[Parallel(n_jobs=2)]: Done 187 tasks      | elapsed:   19.0s\n",
      "[Parallel(n_jobs=2)]: Done 188 tasks      | elapsed:   19.0s\n",
      "[Parallel(n_jobs=2)]: Done 189 tasks      | elapsed:   19.2s\n",
      "[Parallel(n_jobs=2)]: Done 190 tasks      | elapsed:   19.2s\n",
      "[Parallel(n_jobs=2)]: Done 191 tasks      | elapsed:   19.4s\n",
      "[Parallel(n_jobs=2)]: Done 192 tasks      | elapsed:   19.4s\n",
      "[Parallel(n_jobs=2)]: Done 193 tasks      | elapsed:   19.6s\n",
      "[Parallel(n_jobs=2)]: Done 194 tasks      | elapsed:   19.6s\n",
      "[Parallel(n_jobs=2)]: Done 195 tasks      | elapsed:   19.8s\n",
      "[Parallel(n_jobs=2)]: Done 196 tasks      | elapsed:   19.8s\n",
      "[Parallel(n_jobs=2)]: Done 197 tasks      | elapsed:   20.0s\n",
      "[Parallel(n_jobs=2)]: Done 201 out of 200 | elapsed:   20.0s remaining:   -0.1s\n",
      "[Parallel(n_jobs=2)]: Done 201 out of 200 | elapsed:   20.2s remaining:   -0.1s\n",
      "[Parallel(n_jobs=2)]: Done 201 out of 200 | elapsed:   20.2s remaining:   -0.1s\n",
      "[Parallel(n_jobs=2)]: Done 200 out of 200 | elapsed:   20.2s finished\n"
     ]
    }
   ],
   "source": [
    "out = Parallel(n_jobs=2, verbose=100)(\n",
    "...                         delayed(test)(conf) for conf in runs) "
   ]
  },
  {
   "cell_type": "code",
   "execution_count": null,
   "metadata": {
    "collapsed": true
   },
   "outputs": [],
   "source": []
  }
 ],
 "metadata": {
  "kernelspec": {
   "display_name": "Python 2",
   "language": "python",
   "name": "python2"
  },
  "language_info": {
   "codemirror_mode": {
    "name": "ipython",
    "version": 2
   },
   "file_extension": ".py",
   "mimetype": "text/x-python",
   "name": "python",
   "nbconvert_exporter": "python",
   "pygments_lexer": "ipython2",
   "version": "2.7.11"
  },
  "latex_envs": {
   "bibliofile": "biblio.bib",
   "cite_by": "apalike",
   "current_citInitial": 1,
   "eqLabelWithNumbers": true,
   "eqNumInitial": 0
  }
 },
 "nbformat": 4,
 "nbformat_minor": 0
}

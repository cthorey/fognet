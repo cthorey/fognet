{
 "cells": [
  {
   "cell_type": "code",
   "execution_count": 3,
   "metadata": {
    "collapsed": false
   },
   "outputs": [
    {
     "name": "stdout",
     "output_type": "stream",
     "text": [
      "The autoreload extension is already loaded. To reload it, use:\n",
      "  %reload_ext autoreload\n"
     ]
    }
   ],
   "source": [
    "%matplotlib inline\n",
    "from __future__ import print_function\n",
    "\n",
    "from matplotlib import pyplot as plt\n",
    "import seaborn as sns\n",
    "\n",
    "import numpy as np\n",
    "import pandas as pd\n",
    "\n",
    "%load_ext autoreload\n",
    "%autoreload 2\n",
    " \n",
    "from utils.nolearn_net import NeuralNet\n",
    "from utils.helper import *\n",
    "#from utils.iterator import BaseBatchIterator\n",
    "#from utils.utils import parse_conf_file\n",
    "#from utils.preprocessing import build_pipeline\n",
    "import importlib\n",
    "import pickle"
   ]
  },
  {
   "cell_type": "code",
   "execution_count": 253,
   "metadata": {
    "collapsed": false
   },
   "outputs": [],
   "source": [
    "from utils.helper import *\n",
    "from utils.train_utils import *"
   ]
  },
  {
   "cell_type": "code",
   "execution_count": 135,
   "metadata": {
    "collapsed": false
   },
   "outputs": [
    {
     "data": {
      "text/plain": [
       "[25, 44, 63, 83, 102, 122, 141, 161, 180, 200]"
      ]
     },
     "execution_count": 135,
     "metadata": {},
     "output_type": "execute_result"
    }
   ],
   "source": [
    "map(int,np.linspace(25,200,num=10))"
   ]
  },
  {
   "cell_type": "code",
   "execution_count": 113,
   "metadata": {
    "collapsed": false
   },
   "outputs": [
    {
     "name": "stdout",
     "output_type": "stream",
     "text": [
      "Loading the prepro pipeline : [u'MyImputer', u'MyStandardScaler']\n",
      "Loading data iterator using : benchmark\n",
      "Le train is composed by 21 group and 3738 observation\n",
      "Le val is composed by 8 group and 1112 observation\n",
      "Le test is composed by 5 group and 948 observation\n",
      "Build the architecture: lstm, build_simple_lstm\n",
      "Set up the checkpoints\n",
      "Initialize the network \n"
     ]
    }
   ],
   "source": [
    "m = Model(config,mode ='train')"
   ]
  },
  {
   "cell_type": "code",
   "execution_count": 128,
   "metadata": {
    "collapsed": false
   },
   "outputs": [],
   "source": [
    "m.seq_length = 5*12"
   ]
  },
  {
   "cell_type": "code",
   "execution_count": 136,
   "metadata": {
    "collapsed": false
   },
   "outputs": [
    {
     "data": {
      "text/plain": [
       "u'/Users/thorey/Documents/project/competition/fognet/models/bbking/lstm/model_0'"
      ]
     },
     "execution_count": 136,
     "metadata": {},
     "output_type": "execute_result"
    }
   ],
   "source": [
    "m.root"
   ]
  },
  {
   "cell_type": "code",
   "execution_count": 129,
   "metadata": {
    "collapsed": false
   },
   "outputs": [],
   "source": [
    "m.nb_epochs =20"
   ]
  },
  {
   "cell_type": "code",
   "execution_count": 130,
   "metadata": {
    "collapsed": true
   },
   "outputs": [],
   "source": [
    "m.continue_training = False"
   ]
  },
  {
   "cell_type": "code",
   "execution_count": 131,
   "metadata": {
    "collapsed": false
   },
   "outputs": [
    {
     "name": "stdout",
     "output_type": "stream",
     "text": [
      "      3      \u001b[36m14.17581\u001b[0m      \u001b[32m11.41558\u001b[0m      1.24179  3.36s\n",
      "      4      \u001b[36m12.46666\u001b[0m      \u001b[32m10.49290\u001b[0m      1.18810  3.30s\n",
      "      5      \u001b[36m11.50960\u001b[0m      \u001b[32m10.06551\u001b[0m      1.14347  3.30s\n",
      "      6      \u001b[36m10.90883\u001b[0m       \u001b[32m9.75034\u001b[0m      1.11881  3.29s\n",
      "      7      \u001b[36m10.42059\u001b[0m       \u001b[32m9.49202\u001b[0m      1.09783  3.29s\n",
      "      8       \u001b[36m9.99423\u001b[0m       \u001b[32m9.27292\u001b[0m      1.07779  3.29s\n",
      "      9       \u001b[36m9.61446\u001b[0m       \u001b[32m9.08400\u001b[0m      1.05839  3.30s\n",
      "     10       \u001b[36m9.27494\u001b[0m       \u001b[32m8.91656\u001b[0m      1.04019  3.35s\n",
      "     11       \u001b[36m8.96900\u001b[0m       \u001b[32m8.76235\u001b[0m      1.02358  3.30s\n",
      "     12       \u001b[36m8.68996\u001b[0m       \u001b[32m8.61889\u001b[0m      1.00825  3.35s\n",
      "     13       \u001b[36m8.43430\u001b[0m       \u001b[32m8.48817\u001b[0m      0.99365  3.30s\n",
      "     14       \u001b[36m8.20186\u001b[0m       \u001b[32m8.37462\u001b[0m      0.97937  3.30s\n",
      "     15       \u001b[36m7.99391\u001b[0m       \u001b[32m8.28050\u001b[0m      0.96539  3.35s\n",
      "     16       \u001b[36m7.80981\u001b[0m       \u001b[32m8.20432\u001b[0m      0.95191  3.34s\n",
      "     17       \u001b[36m7.64653\u001b[0m       \u001b[32m8.14404\u001b[0m      0.93891  3.38s\n",
      "     18       \u001b[36m7.50042\u001b[0m       \u001b[32m8.09831\u001b[0m      0.92617  3.31s\n",
      "     19       \u001b[36m7.36801\u001b[0m       \u001b[32m8.06625\u001b[0m      0.91344  3.31s\n",
      "     20       \u001b[36m7.24634\u001b[0m       \u001b[32m8.04692\u001b[0m      0.90051  3.33s\n",
      "     21       \u001b[36m7.13314\u001b[0m       \u001b[32m8.03819\u001b[0m      0.88741  3.42s\n",
      "     22       \u001b[36m7.02665\u001b[0m       \u001b[32m8.03669\u001b[0m      0.87432  3.32s\n",
      "Loading best param\n",
      "Loaded parameters to layer 'lstm' (shape 9x60).\n",
      "Loaded parameters to layer 'lstm' (shape 60x60).\n",
      "Loaded parameters to layer 'lstm' (shape 60).\n",
      "Loaded parameters to layer 'lstm' (shape 9x60).\n",
      "Loaded parameters to layer 'lstm' (shape 60x60).\n",
      "Loaded parameters to layer 'lstm' (shape 60).\n",
      "Loaded parameters to layer 'lstm' (shape 9x60).\n",
      "Loaded parameters to layer 'lstm' (shape 60x60).\n",
      "Loaded parameters to layer 'lstm' (shape 60).\n",
      "Loaded parameters to layer 'lstm' (shape 9x60).\n",
      "Loaded parameters to layer 'lstm' (shape 60x60).\n",
      "Loaded parameters to layer 'lstm' (shape 60).\n",
      "Loaded parameters to layer 'lstm' (shape 60).\n",
      "Loaded parameters to layer 'lstm' (shape 60).\n",
      "Loaded parameters to layer 'lstm' (shape 60).\n",
      "Loaded parameters to layer 'lstm' (shape 1x60).\n",
      "Loaded parameters to layer 'lstm' (shape 1x60).\n",
      "Loaded parameters to layer 'dense' (shape 60x1).\n",
      "Loaded parameters to layer 'dense' (shape 1).\n",
      "Evaluating on val set\n",
      "3.6046053165\n",
      "Run the prediction\n",
      "Will write output to /Users/thorey/Documents/project/competition/fognet/models/bbking/lstm/model_0/hiddens_60_lr_0.0001_reg_1e-06/submissions_20160325_154351.csv\n"
     ]
    }
   ],
   "source": [
    "m.train()"
   ]
  },
  {
   "cell_type": "markdown",
   "metadata": {},
   "source": [
    "# Test "
   ]
  },
  {
   "cell_type": "code",
   "execution_count": 222,
   "metadata": {
    "collapsed": true
   },
   "outputs": [],
   "source": [
    "from utils.result_utils import *"
   ]
  },
  {
   "cell_type": "code",
   "execution_count": 265,
   "metadata": {
    "collapsed": false
   },
   "outputs": [
    {
     "data": {
      "text/plain": [
       "u'/Users/thorey/Documents/project/competition/fognet/models/bbking/lstm/model_0'"
      ]
     },
     "execution_count": 265,
     "metadata": {},
     "output_type": "execute_result"
    }
   ],
   "source": [
    "m.root"
   ]
  },
  {
   "cell_type": "code",
   "execution_count": 267,
   "metadata": {
    "collapsed": false
   },
   "outputs": [
    {
     "name": "stderr",
     "output_type": "stream",
     "text": []
    }
   ],
   "source": [
    "results = get_result(m.root,hp=['lr', 'reg', 'seq_length','hiddens','grad_clip'])"
   ]
  },
  {
   "cell_type": "code",
   "execution_count": 271,
   "metadata": {
    "collapsed": false
   },
   "outputs": [
    {
     "data": {
      "text/html": [
       "<div>\n",
       "<table border=\"1\" class=\"dataframe\">\n",
       "  <thead>\n",
       "    <tr style=\"text-align: right;\">\n",
       "      <th></th>\n",
       "      <th>root</th>\n",
       "      <th>model</th>\n",
       "      <th>lr</th>\n",
       "      <th>reg</th>\n",
       "      <th>seq_length</th>\n",
       "      <th>hiddens</th>\n",
       "      <th>grad_clip</th>\n",
       "      <th>train</th>\n",
       "      <th>val</th>\n",
       "    </tr>\n",
       "  </thead>\n",
       "  <tbody>\n",
       "    <tr>\n",
       "      <th>0</th>\n",
       "      <td>/Users/thorey/Documents/project/competition/fo...</td>\n",
       "      <td>grad_clip_10_hiddens_100_lr_0.001_reg_1e-06_se...</td>\n",
       "      <td>1.000000e-03</td>\n",
       "      <td>1.000000e-06</td>\n",
       "      <td>200</td>\n",
       "      <td>100</td>\n",
       "      <td>10</td>\n",
       "      <td>2.722</td>\n",
       "      <td>2.684</td>\n",
       "    </tr>\n",
       "    <tr>\n",
       "      <th>1</th>\n",
       "      <td>/Users/thorey/Documents/project/competition/fo...</td>\n",
       "      <td>grad_clip_1_hiddens_100_lr_0.001_reg_1e-06_seq...</td>\n",
       "      <td>1.000000e-03</td>\n",
       "      <td>1.000000e-06</td>\n",
       "      <td>200</td>\n",
       "      <td>100</td>\n",
       "      <td>1</td>\n",
       "      <td>2.722</td>\n",
       "      <td>2.684</td>\n",
       "    </tr>\n",
       "    <tr>\n",
       "      <th>2</th>\n",
       "      <td>/Users/thorey/Documents/project/competition/fo...</td>\n",
       "      <td>grad_clip_20_hiddens_100_lr_0.001_reg_1e-06_se...</td>\n",
       "      <td>1.000000e-03</td>\n",
       "      <td>1.000000e-06</td>\n",
       "      <td>200</td>\n",
       "      <td>100</td>\n",
       "      <td>20</td>\n",
       "      <td>2.722</td>\n",
       "      <td>2.684</td>\n",
       "    </tr>\n",
       "    <tr>\n",
       "      <th>3</th>\n",
       "      <td>/Users/thorey/Documents/project/competition/fo...</td>\n",
       "      <td>hiddens_100_lr_0.001_reg_1e-06_seq_length_200</td>\n",
       "      <td>1.000000e-03</td>\n",
       "      <td>1.000000e-06</td>\n",
       "      <td>200</td>\n",
       "      <td>100</td>\n",
       "      <td>1</td>\n",
       "      <td>2.798</td>\n",
       "      <td>2.816</td>\n",
       "    </tr>\n",
       "    <tr>\n",
       "      <th>4</th>\n",
       "      <td>/Users/thorey/Documents/project/competition/fo...</td>\n",
       "      <td>hiddens_100_lr_0.001_reg_1e-06_seq_length_100</td>\n",
       "      <td>1.000000e-03</td>\n",
       "      <td>1.000000e-06</td>\n",
       "      <td>100</td>\n",
       "      <td>100</td>\n",
       "      <td>1</td>\n",
       "      <td>3.220</td>\n",
       "      <td>2.877</td>\n",
       "    </tr>\n",
       "    <tr>\n",
       "      <th>5</th>\n",
       "      <td>/Users/thorey/Documents/project/competition/fo...</td>\n",
       "      <td>hiddens_100_lr_0.001_reg_1e-06_seq_length_60</td>\n",
       "      <td>1.000000e-03</td>\n",
       "      <td>1.000000e-06</td>\n",
       "      <td>60</td>\n",
       "      <td>100</td>\n",
       "      <td>1</td>\n",
       "      <td>3.444</td>\n",
       "      <td>3.149</td>\n",
       "    </tr>\n",
       "    <tr>\n",
       "      <th>6</th>\n",
       "      <td>/Users/thorey/Documents/project/competition/fo...</td>\n",
       "      <td>hiddens_100_lr_0.001_reg_1e-06_seq_length_48</td>\n",
       "      <td>1.000000e-03</td>\n",
       "      <td>1.000000e-06</td>\n",
       "      <td>48</td>\n",
       "      <td>100</td>\n",
       "      <td>1</td>\n",
       "      <td>3.601</td>\n",
       "      <td>3.304</td>\n",
       "    </tr>\n",
       "    <tr>\n",
       "      <th>7</th>\n",
       "      <td>/Users/thorey/Documents/project/competition/fo...</td>\n",
       "      <td>hiddens_100_lr_0.001_reg_1e-06_seq_length_36</td>\n",
       "      <td>1.000000e-03</td>\n",
       "      <td>1.000000e-06</td>\n",
       "      <td>36</td>\n",
       "      <td>100</td>\n",
       "      <td>1</td>\n",
       "      <td>3.764</td>\n",
       "      <td>3.415</td>\n",
       "    </tr>\n",
       "    <tr>\n",
       "      <th>8</th>\n",
       "      <td>/Users/thorey/Documents/project/competition/fo...</td>\n",
       "      <td>hiddens_100_lr_0.001_reg_1e-06_seq_length_24</td>\n",
       "      <td>1.000000e-03</td>\n",
       "      <td>1.000000e-06</td>\n",
       "      <td>24</td>\n",
       "      <td>100</td>\n",
       "      <td>1</td>\n",
       "      <td>3.906</td>\n",
       "      <td>3.556</td>\n",
       "    </tr>\n",
       "    <tr>\n",
       "      <th>9</th>\n",
       "      <td>/Users/thorey/Documents/project/competition/fo...</td>\n",
       "      <td>hiddens_60_lr_0.0001_reg_1e-06</td>\n",
       "      <td>1.000000e-04</td>\n",
       "      <td>1.000000e-06</td>\n",
       "      <td>25</td>\n",
       "      <td>60</td>\n",
       "      <td>1</td>\n",
       "      <td>3.856</td>\n",
       "      <td>3.586</td>\n",
       "    </tr>\n",
       "    <tr>\n",
       "      <th>10</th>\n",
       "      <td>/Users/thorey/Documents/project/competition/fo...</td>\n",
       "      <td>hiddens_100_lr_0.001_reg_1e-06_seq_length_12</td>\n",
       "      <td>1.000000e-03</td>\n",
       "      <td>1.000000e-06</td>\n",
       "      <td>12</td>\n",
       "      <td>100</td>\n",
       "      <td>1</td>\n",
       "      <td>4.063</td>\n",
       "      <td>3.672</td>\n",
       "    </tr>\n",
       "    <tr>\n",
       "      <th>11</th>\n",
       "      <td>/Users/thorey/Documents/project/competition/fo...</td>\n",
       "      <td>hiddens_200_lr_1e-07_reg_1e-07</td>\n",
       "      <td>1.000000e-07</td>\n",
       "      <td>1.000000e-07</td>\n",
       "      <td>25</td>\n",
       "      <td>200</td>\n",
       "      <td>1</td>\n",
       "      <td>100.000</td>\n",
       "      <td>100.000</td>\n",
       "    </tr>\n",
       "    <tr>\n",
       "      <th>12</th>\n",
       "      <td>/Users/thorey/Documents/project/competition/fo...</td>\n",
       "      <td>hiddens_25_lr_1e-07_reg_1e-07</td>\n",
       "      <td>1.000000e-07</td>\n",
       "      <td>1.000000e-07</td>\n",
       "      <td>25</td>\n",
       "      <td>25</td>\n",
       "      <td>1</td>\n",
       "      <td>100.000</td>\n",
       "      <td>100.000</td>\n",
       "    </tr>\n",
       "  </tbody>\n",
       "</table>\n",
       "</div>"
      ],
      "text/plain": [
       "                                                 root  \\\n",
       "0   /Users/thorey/Documents/project/competition/fo...   \n",
       "1   /Users/thorey/Documents/project/competition/fo...   \n",
       "2   /Users/thorey/Documents/project/competition/fo...   \n",
       "3   /Users/thorey/Documents/project/competition/fo...   \n",
       "4   /Users/thorey/Documents/project/competition/fo...   \n",
       "5   /Users/thorey/Documents/project/competition/fo...   \n",
       "6   /Users/thorey/Documents/project/competition/fo...   \n",
       "7   /Users/thorey/Documents/project/competition/fo...   \n",
       "8   /Users/thorey/Documents/project/competition/fo...   \n",
       "9   /Users/thorey/Documents/project/competition/fo...   \n",
       "10  /Users/thorey/Documents/project/competition/fo...   \n",
       "11  /Users/thorey/Documents/project/competition/fo...   \n",
       "12  /Users/thorey/Documents/project/competition/fo...   \n",
       "\n",
       "                                                model            lr  \\\n",
       "0   grad_clip_10_hiddens_100_lr_0.001_reg_1e-06_se...  1.000000e-03   \n",
       "1   grad_clip_1_hiddens_100_lr_0.001_reg_1e-06_seq...  1.000000e-03   \n",
       "2   grad_clip_20_hiddens_100_lr_0.001_reg_1e-06_se...  1.000000e-03   \n",
       "3       hiddens_100_lr_0.001_reg_1e-06_seq_length_200  1.000000e-03   \n",
       "4       hiddens_100_lr_0.001_reg_1e-06_seq_length_100  1.000000e-03   \n",
       "5        hiddens_100_lr_0.001_reg_1e-06_seq_length_60  1.000000e-03   \n",
       "6        hiddens_100_lr_0.001_reg_1e-06_seq_length_48  1.000000e-03   \n",
       "7        hiddens_100_lr_0.001_reg_1e-06_seq_length_36  1.000000e-03   \n",
       "8        hiddens_100_lr_0.001_reg_1e-06_seq_length_24  1.000000e-03   \n",
       "9                      hiddens_60_lr_0.0001_reg_1e-06  1.000000e-04   \n",
       "10       hiddens_100_lr_0.001_reg_1e-06_seq_length_12  1.000000e-03   \n",
       "11                     hiddens_200_lr_1e-07_reg_1e-07  1.000000e-07   \n",
       "12                      hiddens_25_lr_1e-07_reg_1e-07  1.000000e-07   \n",
       "\n",
       "             reg  seq_length  hiddens  grad_clip    train      val  \n",
       "0   1.000000e-06         200      100         10    2.722    2.684  \n",
       "1   1.000000e-06         200      100          1    2.722    2.684  \n",
       "2   1.000000e-06         200      100         20    2.722    2.684  \n",
       "3   1.000000e-06         200      100          1    2.798    2.816  \n",
       "4   1.000000e-06         100      100          1    3.220    2.877  \n",
       "5   1.000000e-06          60      100          1    3.444    3.149  \n",
       "6   1.000000e-06          48      100          1    3.601    3.304  \n",
       "7   1.000000e-06          36      100          1    3.764    3.415  \n",
       "8   1.000000e-06          24      100          1    3.906    3.556  \n",
       "9   1.000000e-06          25       60          1    3.856    3.586  \n",
       "10  1.000000e-06          12      100          1    4.063    3.672  \n",
       "11  1.000000e-07          25      200          1  100.000  100.000  \n",
       "12  1.000000e-07          25       25          1  100.000  100.000  "
      ]
     },
     "execution_count": 271,
     "metadata": {},
     "output_type": "execute_result"
    }
   ],
   "source": [
    "results.sort_values('val')"
   ]
  },
  {
   "cell_type": "code",
   "execution_count": 239,
   "metadata": {
    "collapsed": false
   },
   "outputs": [
    {
     "data": {
      "text/plain": [
       "u'hiddens_100_lr_0.001_reg_1e-06_seq_length_200'"
      ]
     },
     "execution_count": 239,
     "metadata": {},
     "output_type": "execute_result"
    }
   ],
   "source": [
    "results.model.iloc[0]"
   ]
  },
  {
   "cell_type": "code",
   "execution_count": 255,
   "metadata": {
    "collapsed": false
   },
   "outputs": [
    {
     "name": "stdout",
     "output_type": "stream",
     "text": [
      "Loading the prepro pipeline : [u'MyImputer', u'MyStandardScaler']\n",
      "Loading data iterator using : benchmark\n",
      "Le train is composed by 21 group and 3738 observation\n",
      "Le val is composed by 8 group and 1112 observation\n",
      "Le test is composed by 5 group and 948 observation\n",
      "Build the architecture: lstm, build_simple_lstm\n",
      "Initialize the network \n",
      "Loading model params from /Users/thorey/Documents/project/competition/fognet/models/bbking/lstm/model_0/hiddens_100_lr_0.001_reg_1e-06_seq_length_200/model.pkl\n",
      "Loaded parameters to layer 'lstm' (shape 9x100).\n",
      "Loaded parameters to layer 'lstm' (shape 100x100).\n",
      "Loaded parameters to layer 'lstm' (shape 100).\n",
      "Loaded parameters to layer 'lstm' (shape 9x100).\n",
      "Loaded parameters to layer 'lstm' (shape 100x100).\n",
      "Loaded parameters to layer 'lstm' (shape 100).\n",
      "Loaded parameters to layer 'lstm' (shape 9x100).\n",
      "Loaded parameters to layer 'lstm' (shape 100x100).\n",
      "Loaded parameters to layer 'lstm' (shape 100).\n",
      "Loaded parameters to layer 'lstm' (shape 9x100).\n",
      "Loaded parameters to layer 'lstm' (shape 100x100).\n",
      "Loaded parameters to layer 'lstm' (shape 100).\n",
      "Loaded parameters to layer 'lstm' (shape 100).\n",
      "Loaded parameters to layer 'lstm' (shape 100).\n",
      "Loaded parameters to layer 'lstm' (shape 100).\n",
      "Loaded parameters to layer 'lstm' (shape 1x100).\n",
      "Loaded parameters to layer 'lstm' (shape 1x100).\n",
      "Loaded parameters to layer 'dense' (shape 100x1).\n",
      "Loaded parameters to layer 'dense' (shape 1).\n"
     ]
    }
   ],
   "source": [
    "config = os.path.join(results.root.iloc[0],results.model.iloc[0],'conf_model.json')\n",
    "config = parse_conf_file(config)\n",
    "m = Model(config,mode= 'inspection')"
   ]
  },
  {
   "cell_type": "code",
   "execution_count": 263,
   "metadata": {
    "collapsed": false
   },
   "outputs": [
    {
     "data": {
      "text/plain": [
       "<matplotlib.axes._subplots.AxesSubplot at 0x12e7ef550>"
      ]
     },
     "execution_count": 263,
     "metadata": {},
     "output_type": "execute_result"
    },
    {
     "data": {
      "image/png": "[encoded data removed]",
      "text/plain": [
       "<matplotlib.figure.Figure at 0x12f639b10>"
      ]
     },
     "metadata": {},
     "output_type": "display_data"
    },
    {
     "data": {
      "image/png": "[encoded data removed]",
      "text/plain": [
       "<matplotlib.figure.Figure at 0x12e75bd10>"
      ]
     },
     "metadata": {},
     "output_type": "display_data"
    }
   ],
   "source": [
    "m.predict_yield('train')[['yield','yield_pred']].plot()\n",
    "m.predict_yield('val')[['yield','yield_pred']].plot()"
   ]
  },
  {
   "cell_type": "code",
   "execution_count": null,
   "metadata": {
    "collapsed": true
   },
   "outputs": [],
   "source": [
    "df = "
   ]
  },
  {
   "cell_type": "code",
   "execution_count": 272,
   "metadata": {
    "collapsed": false
   },
   "outputs": [
    {
     "data": {
      "text/plain": [
       "<matplotlib.axes._subplots.AxesSubplot at 0x130345ed0>"
      ]
     },
     "execution_count": 272,
     "metadata": {},
     "output_type": "execute_result"
    },
    {
     "data": {
      "image/png": "[encoded data removed]",
      "text/plain": [
       "<matplotlib.figure.Figure at 0x152748110>"
      ]
     },
     "metadata": {},
     "output_type": "display_data"
    }
   ],
   "source": [
    "m.predict_yield('train')[['yield','yield_pred']].plot()"
   ]
  },
  {
   "cell_type": "code",
   "execution_count": null,
   "metadata": {
    "collapsed": true
   },
   "outputs": [],
   "source": []
  },
  {
   "cell_type": "code",
   "execution_count": 250,
   "metadata": {
    "collapsed": false
   },
   "outputs": [
    {
     "data": {
      "text/plain": [
       "u'/Users/thorey/Documents/project/competition/fognet/models/bbking/lstm/model_0/hiddens_100_lr_0.001_reg_1e-06/model.pkl'"
      ]
     },
     "execution_count": 250,
     "metadata": {},
     "output_type": "execute_result"
    }
   ],
   "source": [
    "m.model_fname"
   ]
  },
  {
   "cell_type": "code",
   "execution_count": 251,
   "metadata": {
    "collapsed": false
   },
   "outputs": [
    {
     "data": {
      "text/plain": [
       "u'/Users/thorey/Documents/project/competition/fognet/models/bbking/lstm/model_0/hiddens_100_lr_0.001_reg_1e-06_seq_length_200/model.pkl'"
      ]
     },
     "execution_count": 251,
     "metadata": {},
     "output_type": "execute_result"
    }
   ],
   "source": [
    "config['model_fname']"
   ]
  },
  {
   "cell_type": "code",
   "execution_count": 249,
   "metadata": {
    "collapsed": false
   },
   "outputs": [
    {
     "data": {
      "text/plain": [
       "root          /Users/thorey/Documents/project/competition/fo...\n",
       "model             hiddens_100_lr_0.001_reg_1e-06_seq_length_200\n",
       "lr                                                        0.001\n",
       "reg                                                       1e-06\n",
       "seq_length                                                  200\n",
       "hiddens                                                     100\n",
       "train                                                     2.798\n",
       "val                                                       2.816\n",
       "Name: 0, dtype: object"
      ]
     },
     "execution_count": 249,
     "metadata": {},
     "output_type": "execute_result"
    }
   ],
   "source": [
    "results.iloc[0]"
   ]
  },
  {
   "cell_type": "code",
   "execution_count": 247,
   "metadata": {
    "collapsed": false
   },
   "outputs": [
    {
     "data": {
      "text/plain": [
       "{u'batch_size': 25,\n",
       " u'build_ite': u'benchmark',\n",
       " u'continue_training': False,\n",
       " u'feats': [u'percip_mm',\n",
       "  u'humidity',\n",
       "  u'temp',\n",
       "  u'leafwet450_min',\n",
       "  u'leafwet460_min',\n",
       "  u'leafwet_lwscnt',\n",
       "  u'gusts_ms',\n",
       "  u'wind_dir',\n",
       "  u'wind_ms'],\n",
       " u'folder': u'/Users/thorey/Documents/project/competition/fognet/models/bbking/lstm/model_0/hiddens_100_lr_0.001_reg_1e-06_seq_length_200',\n",
       " u'grad_clip': 1,\n",
       " u'hiddens': 100,\n",
       " u'hp': {u'hiddens': 100, u'lr': 0.001, u'reg': 1e-06, u'seq_length': 200},\n",
       " u'loss_function': u'squared_error',\n",
       " u'lr': 0.001,\n",
       " u'mode': u'train',\n",
       " u'model': u'lstm',\n",
       " u'model_fname': u'/Users/thorey/Documents/project/competition/fognet/models/bbking/lstm/model_0/hiddens_100_lr_0.001_reg_1e-06_seq_length_200/model.pkl',\n",
       " u'model_graph_fname': u'/Users/thorey/Documents/project/competition/fognet/models/bbking/lstm/model_0/hiddens_100_lr_0.001_reg_1e-06_seq_length_200/model_history.png',\n",
       " u'model_history_fname': u'/Users/thorey/Documents/project/competition/fognet/models/bbking/lstm/model_0/hiddens_100_lr_0.001_reg_1e-06_seq_length_200/model_history.pkl',\n",
       " u'model_name': u'hiddens_100_lr_0.001_reg_1e-06_seq_length_200',\n",
       " u'name': u'micro',\n",
       " u'nb_epochs': 1000,\n",
       " u'nb_features': 9,\n",
       " u'overwrite': True,\n",
       " u'patience': 25,\n",
       " u'pipe_kwargs': {u'MyImputer__strategy': u'mean'},\n",
       " u'pipe_list': [u'MyImputer', u'MyStandardScaler'],\n",
       " u'platform': u'bbking',\n",
       " u'reg': 1e-06,\n",
       " u'root': u'/Users/thorey/Documents/project/competition/fognet/models/bbking/lstm/model_0',\n",
       " u'seq_length': 200,\n",
       " u'stride': 1,\n",
       " u'time': u'20160325_163312',\n",
       " u'update_rule': u'adam',\n",
       " u'verbose': 11,\n",
       " u'which_architecture': u'build_simple_lstm'}"
      ]
     },
     "execution_count": 247,
     "metadata": {},
     "output_type": "execute_result"
    }
   ],
   "source": [
    "config"
   ]
  },
  {
   "cell_type": "code",
   "execution_count": null,
   "metadata": {
    "collapsed": true
   },
   "outputs": [],
   "source": []
  },
  {
   "cell_type": "code",
   "execution_count": 160,
   "metadata": {
    "collapsed": false
   },
   "outputs": [
    {
     "name": "stderr",
     "output_type": "stream",
     "text": []
    }
   ],
   "source": [
    "res = get_result(m.root)"
   ]
  },
  {
   "cell_type": "code",
   "execution_count": 172,
   "metadata": {
    "collapsed": false
   },
   "outputs": [
    {
     "data": {
      "text/plain": [
       "u'hiddens_100_lr_0.001_reg_1e-06_seq_length_12'"
      ]
     },
     "execution_count": 172,
     "metadata": {},
     "output_type": "execute_result"
    }
   ],
   "source": [
    "res.name.iloc[0]"
   ]
  },
  {
   "cell_type": "code",
   "execution_count": 169,
   "metadata": {
    "collapsed": false
   },
   "outputs": [
    {
     "data": {
      "text/plain": [
       "0"
      ]
     },
     "execution_count": 169,
     "metadata": {},
     "output_type": "execute_result"
    }
   ],
   "source": [
    "res.iloc[0].name"
   ]
  },
  {
   "cell_type": "code",
   "execution_count": 173,
   "metadata": {
    "collapsed": false
   },
   "outputs": [
    {
     "data": {
      "text/plain": [
       "u'/Users/thorey/Documents/project/competition/fognet/models/bbking/lstm/model_0/hiddens_100_lr_0.001_reg_1e-06_seq_length_12/model_history.png'"
      ]
     },
     "execution_count": 173,
     "metadata": {},
     "output_type": "execute_result"
    }
   ],
   "source": [
    "os.path.join(res.iloc[0].root,res.name.iloc[0],'model_history.png')"
   ]
  },
  {
   "cell_type": "code",
   "execution_count": 175,
   "metadata": {
    "collapsed": true
   },
   "outputs": [],
   "source": [
    "import matplotlib.image as mpimg"
   ]
  },
  {
   "cell_type": "code",
   "execution_count": 180,
   "metadata": {
    "collapsed": false
   },
   "outputs": [],
   "source": [
    "%matplotlib inline"
   ]
  },
  {
   "cell_type": "raw",
   "metadata": {},
   "source": [
    "res.head"
   ]
  },
  {
   "cell_type": "code",
   "execution_count": 9,
   "metadata": {
    "collapsed": false
   },
   "outputs": [],
   "source": [
    "config = parse_conf_file('/Users/thorey/Documents/project/competition/fognet/models/bbking/lstm/model_0/conf_model.json')"
   ]
  },
  {
   "cell_type": "code",
   "execution_count": 12,
   "metadata": {
    "collapsed": false
   },
   "outputs": [
    {
     "data": {
      "text/plain": [
       "{u'architecture': u'build_simple_lstm',\n",
       " u'batch_size': 25,\n",
       " u'build_ite': u'benchmark',\n",
       " u'continue_training': False,\n",
       " u'feats': [u'percip_mm',\n",
       "  u'humidity',\n",
       "  u'temp',\n",
       "  u'leafwet450_min',\n",
       "  u'leafwet460_min',\n",
       "  u'leafwet_lwscnt',\n",
       "  u'gusts_ms',\n",
       "  u'wind_dir',\n",
       "  u'wind_ms'],\n",
       " u'grad_clip': 1,\n",
       " u'hiddens': 60,\n",
       " u'loss_function': u'squared_error',\n",
       " u'lr': 0.0001,\n",
       " u'model': u'lstm',\n",
       " u'name': u'micro',\n",
       " u'nb_epochs': 1000,\n",
       " u'overwrite': True,\n",
       " u'patience': 25,\n",
       " u'pipe_kwargs': {u'MyImputer__strategy': u'mean'},\n",
       " u'pipe_list': [u'MyImputer', u'MyStandardScaler'],\n",
       " u'platform': u'ray',\n",
       " u'reg': 1e-06,\n",
       " u'root': u'/Users/cthorey/Documents/project/competition/fognet/models/ray/lstm/model_0',\n",
       " u'seq_length': 25,\n",
       " u'stride': 1,\n",
       " u'update_rule': u'adam',\n",
       " u'verbose': 11}"
      ]
     },
     "execution_count": 12,
     "metadata": {},
     "output_type": "execute_result"
    }
   ],
   "source": [
    "config"
   ]
  },
  {
   "cell_type": "code",
   "execution_count": null,
   "metadata": {
    "collapsed": true
   },
   "outputs": [],
   "source": [
    "a = {'b':2,'a':1}\n",
    "class D(object):\n",
    "    def __init__(self,a):\n",
    "        map(set)\n",
    "        "
   ]
  },
  {
   "cell_type": "code",
   "execution_count": 381,
   "metadata": {
    "collapsed": false
   },
   "outputs": [
    {
     "name": "stdout",
     "output_type": "stream",
     "text": [
      "Le train is composed by 21 group and 3738 observation\n",
      "Le val is composed by 8 group and 1112 observation\n",
      "Le test is composed by 5 group and 948 observation\n"
     ]
    }
   ],
   "source": [
    "pipeline = build_pipeline(config['pipe_list'], config['pipe_kwargs'])\n",
    "nb_features, batch_ite_train, batch_ite_val, batch_ite_test, batch_ite_pred = load_data(\n",
    "        name=config['name'],\n",
    "        feats=config['feats'],\n",
    "        build_ite=config['build_ite'],\n",
    "        pipeline=pipeline)\n",
    "model = importlib.import_module(\n",
    "        'model_defs.%s' % config['model'])\n",
    "builder = getattr(model, config['architecture'])\n",
    "architecture = builder(D=nb_features, H=config[\n",
    "        'hiddens'], grad_clip=config['grad_clip'])"
   ]
  },
  {
   "cell_type": "code",
   "execution_count": 385,
   "metadata": {
    "collapsed": false
   },
   "outputs": [
    {
     "name": "stdout",
     "output_type": "stream",
     "text": [
      "Loaded parameters to layer 'lstm' (shape 9x25).\n",
      "Loaded parameters to layer 'lstm' (shape 25x25).\n",
      "Loaded parameters to layer 'lstm' (shape 25).\n",
      "Loaded parameters to layer 'lstm' (shape 9x25).\n",
      "Loaded parameters to layer 'lstm' (shape 25x25).\n",
      "Loaded parameters to layer 'lstm' (shape 25).\n",
      "Loaded parameters to layer 'lstm' (shape 9x25).\n",
      "Loaded parameters to layer 'lstm' (shape 25x25).\n",
      "Loaded parameters to layer 'lstm' (shape 25).\n",
      "Loaded parameters to layer 'lstm' (shape 9x25).\n",
      "Loaded parameters to layer 'lstm' (shape 25x25).\n",
      "Loaded parameters to layer 'lstm' (shape 25).\n",
      "Loaded parameters to layer 'lstm' (shape 25).\n",
      "Loaded parameters to layer 'lstm' (shape 25).\n",
      "Loaded parameters to layer 'lstm' (shape 25).\n",
      "Loaded parameters to layer 'lstm' (shape 1x25).\n",
      "Loaded parameters to layer 'lstm' (shape 1x25).\n",
      "Loaded parameters to layer 'dense' (shape 25x1).\n",
      "Loaded parameters to layer 'dense' (shape 1).\n"
     ]
    }
   ],
   "source": [
    "net = NeuralNet(\n",
    "        layers=architecture,\n",
    "        regression=True,\n",
    "        objective_loss_function=getattr(\n",
    "            lasagne.objectives, config['loss_function']),\n",
    "        objective_l2=config['reg'],  # L2 regularization\n",
    "        update=getattr(lasagne.updates, config['update_rule']),\n",
    "        update_learning_rate=config['lr'],\n",
    "        batch_iterator_train=batch_ite_train,\n",
    "        batch_iterator_test=batch_ite_val,\n",
    "        verbose=config['verbose'],\n",
    "        max_epochs=10000,)\n",
    "net.initialize()\n",
    "net.load_params_from(config['model_fname'])\n",
    "with open(config['model_history_fname']) as f:\n",
    "    net.train_history_ = pickle.load(f)"
   ]
  },
  {
   "cell_type": "code",
   "execution_count": 388,
   "metadata": {
    "collapsed": false
   },
   "outputs": [
    {
     "data": {
      "text/plain": [
       "(3.0808924682517103, 5.8183123682635864)"
      ]
     },
     "execution_count": 388,
     "metadata": {},
     "output_type": "execute_result"
    }
   ],
   "source": [
    "net.get_score_whole_set('train'),net.get_score_whole_set('test')"
   ]
  },
  {
   "cell_type": "code",
   "execution_count": 389,
   "metadata": {
    "collapsed": true
   },
   "outputs": [],
   "source": [
    "from utils.hook import write_final_score"
   ]
  },
  {
   "cell_type": "code",
   "execution_count": 390,
   "metadata": {
    "collapsed": true
   },
   "outputs": [],
   "source": [
    "write_final_score(config,net)"
   ]
  },
  {
   "cell_type": "code",
   "execution_count": 395,
   "metadata": {
    "collapsed": true
   },
   "outputs": [],
   "source": [
    "from utils.prediction_utils import *"
   ]
  },
  {
   "cell_type": "code",
   "execution_count": 397,
   "metadata": {
    "collapsed": false
   },
   "outputs": [
    {
     "name": "stdout",
     "output_type": "stream",
     "text": [
      "Will write output to /Users/thorey/Documents/project/competition/fognet/models/lstm/model_3/h_25_rg_1e-07_lr_0.001/submissions_20160322_144424.csv\n"
     ]
    }
   ],
   "source": [
    "    final_pred = prediction(net, batch_ite_pred)\n",
    "    make_submission(config, final_pred)"
   ]
  },
  {
   "cell_type": "code",
   "execution_count": 440,
   "metadata": {
    "collapsed": true
   },
   "outputs": [],
   "source": [
    "def conf_generator(config, parameters_grids):\n",
    "\n",
    "    assert all([f in ['lr', 'reg', 'hiddens'] for f in parameters_grid.keys()])\n",
    "    product = [x for x in apply(itertools.product, parameters_grid.values())]\n",
    "    conf_runs = [dict(zip(parameters_grid.keys(), p)) for p in product]\n",
    "    for conf_run in conf_runs:\n",
    "        config.update(conf_run)\n",
    "        yield config"
   ]
  },
  {
   "cell_type": "code",
   "execution_count": 441,
   "metadata": {
    "collapsed": false
   },
   "outputs": [],
   "source": [
    "parameters_grid = {'lr':np.arange(1,10,1),\n",
    "                  'reg':np.arange(1,10,1),\n",
    "                  'hiddens':np.arange(1,10,1)}"
   ]
  },
  {
   "cell_type": "code",
   "execution_count": 435,
   "metadata": {
    "collapsed": true
   },
   "outputs": [],
   "source": [
    "    parameters_grid = {'lr': np.logspace(-7, -1, num=20),\n",
    "                       'reg': np.logspace(-7, -1, num=20),\n",
    "                       'hiddens': range(25, 525, 25)}\n",
    "    confs = conf_generator(config, parameters_grid)"
   ]
  },
  {
   "cell_type": "code",
   "execution_count": 437,
   "metadata": {
    "collapsed": true
   },
   "outputs": [],
   "source": [
    "import multiprocessing"
   ]
  },
  {
   "cell_type": "code",
   "execution_count": 438,
   "metadata": {
    "collapsed": false
   },
   "outputs": [
    {
     "data": {
      "text/plain": [
       "4"
      ]
     },
     "execution_count": 438,
     "metadata": {},
     "output_type": "execute_result"
    }
   ],
   "source": [
    "multiprocessing.cpu_count()"
   ]
  },
  {
   "cell_type": "code",
   "execution_count": 434,
   "metadata": {
    "collapsed": false
   },
   "outputs": [
    {
     "name": "stdout",
     "output_type": "stream",
     "text": [
      "2\n",
      "2\n",
      "2\n",
      "2\n",
      "2\n",
      "2\n",
      "3\n",
      "3\n",
      "3\n",
      "3\n",
      "3\n",
      "3\n"
     ]
    },
    {
     "ename": "SystemExit",
     "evalue": "",
     "output_type": "error",
     "traceback": [
      "An exception has occurred, use %tb to see the full traceback.\n",
      "\u001b[0;31mSystemExit\u001b[0m\n"
     ]
    },
    {
     "name": "stderr",
     "output_type": "stream",
     "text": [
      "To exit: use 'exit', 'quit', or Ctrl-D.\n"
     ]
    }
   ],
   "source": [
    "for i,elt in enumerate(confs):\n",
    "    print(elt['lr'])\n",
    "    if i>10:\n",
    "        sys.exit()"
   ]
  },
  {
   "cell_type": "code",
   "execution_count": 439,
   "metadata": {
    "collapsed": true
   },
   "outputs": [],
   "source": [
    "\n",
    "from multiprocessing import Pool "
   ]
  },
  {
   "cell_type": "code",
   "execution_count": 449,
   "metadata": {
    "collapsed": false
   },
   "outputs": [
    {
     "data": {
      "text/plain": [
       "{'hiddens': array([1, 2, 3, 4, 5, 6, 7, 8, 9]),\n",
       " 'lr': array([1, 2, 3, 4, 5, 6, 7, 8, 9]),\n",
       " 'reg': array([1, 2, 3, 4, 5, 6, 7, 8, 9])}"
      ]
     },
     "execution_count": 449,
     "metadata": {},
     "output_type": "execute_result"
    }
   ],
   "source": [
    "parameters_grid"
   ]
  },
  {
   "cell_type": "code",
   "execution_count": 453,
   "metadata": {
    "collapsed": false
   },
   "outputs": [],
   "source": [
    "def test(config):\n",
    "    print(config['lr'],config['reg'],config['hiddens'])"
   ]
  },
  {
   "cell_type": "code",
   "execution_count": null,
   "metadata": {
    "collapsed": true
   },
   "outputs": [],
   "source": [
    "def conf_generator(config, parameters_grids):\n",
    "\n",
    "    assert all([f in ['lr', 'reg', 'hiddens'] for f in parameters_grid.keys()])\n",
    "    product = [x for x in apply(itertools.product, parameters_grid.values())]\n",
    "    conf_runs = [dict(zip(parameters_grid.keys(), p)) for p in product]\n",
    "    for conf_run in conf_runs:\n",
    "        config.update(conf_run)\n",
    "        yield config"
   ]
  },
  {
   "cell_type": "code",
   "execution_count": 459,
   "metadata": {
    "collapsed": false
   },
   "outputs": [
    {
     "name": "stdout",
     "output_type": "stream",
     "text": [
      "9 9 9\n",
      "9 9 9\n",
      "9 9 9\n",
      "9 9 9\n",
      "9 9 9\n",
      "9 9 9\n",
      "9 9 9\n",
      "9 9 9\n",
      "9 9 9\n",
      "9 9 9\n",
      "9 9 9\n",
      "9 9 9\n",
      "9 9 9\n",
      "9 9 9\n",
      "9 9 9\n",
      "9 9 9\n",
      "9 9 9\n",
      "9 9 9\n",
      "9 9 9\n",
      "9 9 9\n",
      "9 9 9\n",
      "9 9 9\n",
      "9 9 9\n",
      "9 9 9\n",
      "9 9 9\n",
      "9 9 9\n",
      "9 9 9\n",
      "9 9 9\n",
      "9 9 9\n",
      "9 9 9\n",
      "9 9 9\n",
      "9 9 9\n",
      "9 9 9\n",
      "9 9 9\n",
      "9 9 9\n",
      "9 9 9\n",
      "9 9 9\n",
      "9 9 9\n",
      "9 9 9\n",
      "9 9 9\n",
      "9 9 9\n",
      "9 9 9\n",
      "9 9 9\n",
      "9 9 9\n",
      "9 9 9\n",
      "9 9 9\n",
      "9 9 9\n",
      "9 9 9\n",
      "9 9 9\n",
      "9 9 9\n",
      "9 9 9\n",
      "9 9 9\n",
      "9 9 9\n",
      "9 9 9\n",
      "9 9 9\n",
      "9 9 9\n",
      "9 9 9\n",
      "9 9 9\n",
      "9 9 9\n",
      "9 9 9\n",
      "9 9 9\n",
      "9 9 9\n",
      "9 9 9\n",
      "9 9 9\n",
      "9 9 9\n",
      "9 9 9\n",
      "9 9 9\n",
      "9 9 9\n",
      "9 9 9\n",
      "9 9 9\n",
      "9 9 9\n",
      "9 9 9\n",
      "9 9 9\n",
      "9 9 9\n",
      "9 9 9\n",
      "9 9 9\n",
      "9 9 9\n",
      "9 9 9\n",
      "9 9 9\n",
      "9 9 9\n",
      "9 9 9\n",
      "9 9 9\n",
      "9 9 9\n",
      "9 9 9\n",
      "9 9 9\n",
      "9 9 9\n",
      "9 9 9\n",
      "9 9 9\n",
      "9 9 9\n",
      "9 9 9\n",
      "9 9 9\n",
      "9 9 9\n",
      "9 9 9\n",
      "9 9 9\n",
      "9 9 9\n",
      "9 9 9\n",
      "9 9 9\n",
      "9 9 9\n",
      "9 9 9\n",
      "9 9 9\n",
      "9 9 9\n",
      "9 9 9\n",
      "9 9 9\n",
      "9 9 9\n",
      "9 9 9\n",
      "9 9 9\n",
      "9 9 9\n",
      "9 9 9\n",
      "9 9 9\n",
      "9 9 9\n",
      "9 9 9\n",
      "9 9 9\n",
      "9 9 9\n",
      "9 9 9\n",
      "9 9 9\n",
      "9 9 9\n",
      "9 9 9\n",
      "9 9 9\n",
      "9 9 9\n",
      "9 9 9\n",
      "9 9 9\n",
      "9 9 9\n",
      "9 9 9\n",
      "9 9 9\n",
      "9 9 9\n",
      "9 9 9\n",
      "9 9 9\n",
      "9 9 9\n",
      "9 9 9\n",
      "9 9 9\n",
      "9 9 9\n",
      "9 9 9\n",
      "9 9 9\n",
      "9 9 9\n",
      "9 9 9\n",
      "9 9 9\n",
      "9 9 9\n",
      "9 9 9\n",
      "9 9 9\n",
      "9 9 9\n",
      "9 9 9\n",
      "9 9 9\n",
      "9 9 9\n",
      "9 9 9\n",
      "9 9 9\n",
      "9 9 9\n",
      "9 9 9\n",
      "9 9 9\n",
      "9 9 9\n",
      "9 9 9\n",
      "9 9 9\n",
      "9 9 9\n",
      "9 9 9\n",
      "9 9 9\n",
      "9 9 9\n",
      "9 9 9\n",
      "9 9 9\n",
      "9 9 9\n",
      "9 9 9\n",
      "9 9 9\n",
      "9 9 9\n",
      "9 9 9\n",
      "9 9 9\n",
      "9 9 9\n",
      "9 9 9\n",
      "9 9 9\n",
      "9 9 9\n",
      "9 9 9\n",
      "9 9 9\n",
      "9 9 9\n",
      "9 9 9\n",
      "9 9 9\n",
      "9 9 9\n",
      "9 9 9\n",
      "9 9 9\n",
      "9 9 9\n",
      "9 9 9\n",
      "9 9 9\n",
      "9 9 9\n",
      "9 9 9\n",
      "9 9 9\n",
      "9 9 9\n",
      "9 9 9\n",
      "9 9 9\n",
      "9 9 9\n",
      "9 9 9\n",
      "9 9 9\n",
      "9 9 9\n",
      "9 9 9\n",
      "9 9 9\n",
      "9 9 9\n",
      "9 9 9\n",
      "9 9 9\n",
      "9 9 9\n",
      "9 9 9\n",
      "9 9 9\n",
      "9 9 9\n",
      "9 9 9\n",
      "9 9 9\n",
      "9 9 9\n",
      "9 9 9\n",
      "9 9 9\n",
      "9 9 9\n",
      "9 9 9\n",
      "9 9 9\n",
      "9 9 9\n",
      "9 9 9\n",
      "9 9 9\n",
      "9 9 9\n",
      "9 9 9\n",
      "9 9 9\n",
      "9 9 9\n",
      "9 9 9\n",
      "9 9 9\n",
      "9 9 9\n",
      "9 9 9\n",
      "9 9 9\n"
     ]
    }
   ],
   "source": [
    "for elt in confs:\n",
    "    print(elt)"
   ]
  },
  {
   "cell_type": "code",
   "execution_count": 457,
   "metadata": {
    "collapsed": true
   },
   "outputs": [],
   "source": [
    "confs = conf_generator(config,parameters_grid)"
   ]
  },
  {
   "cell_type": "code",
   "execution_count": 458,
   "metadata": {
    "collapsed": false
   },
   "outputs": [
    {
     "name": "stdout",
     "output_type": "stream",
     "text": [
      "9 9 9\n",
      "9 9 9\n",
      "9 9 9\n",
      "9 9 9\n",
      "9 9 9\n",
      "9 9 9\n",
      "9 9 9\n",
      "9 9 9\n",
      "9 9 9\n",
      "9 9 9\n",
      "9 9 9\n",
      "9 9 9\n",
      "9 9 9\n",
      "9 9 9\n",
      "9 9 9\n",
      "9 9 9\n",
      "9 9 9\n",
      "9 9 9\n",
      "9 9 9\n",
      "9 9 9\n",
      "9 9 9\n",
      "9 9 9\n",
      "9 9 9\n",
      "9 9 9\n",
      "9 9 9\n",
      "9 9 9\n",
      "9 9 9\n",
      "9 9 9\n",
      "9 9 9\n",
      "9 9 9\n",
      "9 9 9\n",
      "9 9 9\n",
      "9 9 9\n",
      "9 9 9\n",
      "9 9 9\n",
      "9 9 9\n",
      "9 9 9\n",
      "9 9 9\n",
      "9 9 9\n",
      "9 9 9\n",
      "9 9 9\n",
      "9 9 9\n",
      "9 9 9\n",
      "9 9 9\n",
      "9 9 9\n",
      "9 9 9\n",
      "9 9 9\n",
      "9 9 9\n",
      "9 9 9\n",
      "9 9 9\n",
      "9 9 9\n",
      "9 9 9\n",
      "9 9 9\n",
      "9 9 9\n",
      "9 9 9\n",
      "9 9 9\n",
      "9 9 9\n",
      "9 9 9\n",
      "9 9 9\n",
      "9 9 9\n",
      "9 9 9\n",
      "9 9 9\n",
      "9 9 9\n",
      "9 9 9\n",
      "9 9 9\n",
      "9 9 9\n",
      "9 9 9\n",
      "9 9 9\n",
      "9 9 9\n",
      "9 9 9\n",
      "9 9 9\n",
      "9 9 9\n",
      "9 9 9\n",
      "9 9 9\n",
      "9 9 9\n",
      "9 9 9\n",
      "9 9 9\n",
      "9 9 9\n",
      "9 9 9\n",
      "9 9 9\n",
      "9 9 9\n",
      "9 9 9\n",
      "9 9 9\n",
      "9 9 9\n",
      "9 9 9\n",
      "9 9 9\n",
      "9 9 9\n",
      "9 9 9\n",
      "9 9 9\n",
      "9 9 9\n",
      "9 9 9\n",
      "9 9 9\n",
      "9 9 9\n",
      "9 9 9\n",
      "9 9 9\n",
      "9 9 9\n",
      "9 9 9\n",
      "9 9 9\n",
      "9 9 9\n",
      "9 9 9\n",
      "9 9 9\n",
      "9 9 9\n",
      "9 9 9\n",
      "9 9 9\n",
      "9 9 9\n",
      "9 9 9\n",
      "9 9 9\n",
      "9 9 9\n",
      "9 9 9\n",
      "9 9 9\n",
      "9 9 9\n",
      "9 9 9\n",
      "9 9 9\n",
      "9 9 9\n",
      "9 9 9\n",
      "9 9 9\n",
      "9 9 9\n",
      "9 9 9\n",
      "9 9 9\n",
      "9 9 9\n",
      "9 9 9\n",
      "9 9 9\n",
      "9 9 9\n",
      "9 9 9\n",
      "9 9 9\n",
      "9 9 9\n",
      "9 9 9\n",
      "9 9 9\n",
      "9 9 9\n",
      "9 9 9\n",
      "9 9 9\n",
      "9 9 9\n",
      "9 9 9\n",
      "9 9 9\n",
      "9 9 9\n",
      "9 9 9\n",
      "9 9 9\n",
      "9 9 9\n",
      "9 9 9\n",
      "9 9 9\n",
      "9 9 9\n",
      "9 9 9\n",
      "9 9 9\n",
      "9 9 9\n",
      "9 9 9\n",
      "9 9 9\n",
      "9 9 9\n",
      "9 9 9\n",
      "9 9 9\n",
      "9 9 9\n",
      "9 9 9\n",
      "9 9 9\n",
      "9 9 9\n",
      "9 9 9\n",
      "9 9 9\n",
      "9 9 9\n",
      "9 9 9\n",
      "9 9 9\n",
      "9 9 9\n",
      "9 9 9\n",
      "9 9 9\n",
      "9 9 9\n",
      "9 9 9\n",
      "9 9 9\n",
      "9 9 9\n",
      "9 9 9\n",
      "9 9 9\n",
      "9 9 9\n",
      "9 9 9\n",
      "9 9 9\n",
      "9 9 9\n",
      "9 9 9\n",
      "9 9 9\n",
      "9 9 9\n",
      "9 9 9\n",
      "9 9 9\n",
      "9 9 9\n",
      "9 9 9\n",
      "9 9 9\n",
      "9 9 9\n",
      "9 9 9\n",
      "9 9 9\n",
      "9 9 9\n",
      "9 9 9\n",
      "9 9 9\n",
      "9 9 9\n",
      "9 9 9\n",
      "9 9 9\n",
      "9 9 9\n",
      "9 9 9\n",
      "9 9 9\n",
      "9 9 9\n",
      "9 9 9\n",
      "9 9 9\n",
      "9 9 9\n",
      "9 9 9\n",
      "9 9 9\n",
      "9 9 9\n",
      "9 9 9\n",
      "9 9 9\n",
      "9 9 9\n",
      "9 9 9\n",
      "9 9 9\n",
      "9 9 9\n",
      "9 9 9\n",
      "9 9 9\n",
      "9 9 9\n",
      "9 9 9\n",
      "9 9 9\n",
      "9 9 9\n",
      "9 9 9\n",
      "9 9 9\n",
      "9 9 9\n",
      "9 9 9\n",
      "9 9 9\n",
      "9 9 9\n",
      "9 9 9\n",
      "9 9 9\n",
      "9 9 9\n",
      "9 9 9\n",
      "9 9 9\n",
      "9 9 9\n",
      "9 9 9\n",
      "9 9 9\n",
      "9 9 9\n",
      "9 9 9\n",
      "9 9 9\n",
      "9 9 9\n",
      "9 9 9\n",
      "9 9 9\n",
      "9 9 9\n",
      "9 9 9\n",
      "9 9 9\n",
      "9 9 9\n",
      "9 9 9\n",
      "9 9 9\n",
      "9 9 9\n",
      "9 9 9\n",
      "9 9 9\n",
      "9 9 9\n",
      "9 9 9\n",
      "9 9 9\n",
      "9 9 9\n",
      "9 9 9\n",
      "9 9 9\n",
      "9 9 9\n",
      "9 9 9\n",
      "9 9 9\n",
      "9 9 9\n",
      "9 9 9\n",
      "9 9 9\n",
      "9 9 9\n",
      "9 9 9\n",
      "9 9 9\n",
      "9 9 9\n",
      "9 9 9\n",
      "9 9 9\n",
      "9 9 9\n",
      "9 9 9\n",
      "9 9 9\n",
      "9 9 9\n",
      "9 9 9\n",
      "9 9 9\n",
      "9 9 9\n",
      "9 9 9\n",
      "9 9 9\n",
      "9 9 9\n",
      "9 9 9\n",
      "9 9 9\n",
      "9 9 9\n",
      "9 9 9\n",
      "9 9 9\n",
      "9 9 9\n",
      "9 9 9\n",
      "9 9 9\n",
      "9 9 9\n",
      "9 9 9\n",
      "9 9 9\n",
      "9 9 9\n",
      "9 9 9\n",
      "9 9 9\n",
      "9 9 9\n",
      "9 9 9\n",
      "9 9 9\n",
      "9 9 9\n",
      "9 9 9\n",
      "9 9 9\n",
      "9 9 9\n",
      "9 9 9\n",
      "9 9 9\n",
      "9 9 9\n",
      "9 9 9\n",
      "9 9 9\n",
      "9 9 9\n",
      "9 9 9\n",
      "9 9 9\n",
      "9 9 9\n",
      "9 9 9\n",
      "9 9 9\n",
      "9 9 9\n",
      "9 9 9\n",
      "9 9 9\n",
      "9 9 9\n",
      "9 9 9\n",
      "9 9 9\n",
      "9 9 9\n",
      "9 9 9\n",
      "9 9 9\n",
      "9 9 9\n",
      "9 9 9\n",
      "9 9 9\n",
      "9 9 9\n",
      "9 9 9\n",
      "9 9 9\n",
      "9 9 9\n",
      "9 9 9\n",
      "9 9 9\n",
      "9 9 9\n",
      "9 9 9\n",
      "9 9 9\n",
      "9 9 9\n",
      "9 9 9\n",
      "9 9 9\n",
      "9 9 9\n",
      "9 9 9\n",
      "9 9 9\n",
      "9 9 9\n",
      "9 9 9\n",
      "9 9 9\n",
      "9 9 9\n",
      "9 9 9\n",
      "9 9 9\n",
      "9 9 9\n",
      "9 9 9\n",
      "9 9 9\n",
      "9 9 9\n",
      "9 9 9\n",
      "9 9 9\n",
      "9 9 9\n",
      "9 9 9\n",
      "9 9 9\n",
      "9 9 9\n",
      "9 9 9\n",
      "9 9 9\n",
      "9 9 9\n",
      "9 9 9\n",
      "9 9 9\n",
      "9 9 9\n",
      "9 9 9\n",
      "9 9 9\n",
      "9 9 9\n",
      "9 9 9\n",
      "9 9 9\n",
      "9 9 9\n",
      "9 9 9\n",
      "9 9 9\n",
      "9 9 9\n",
      "9 9 9\n",
      "9 9 9\n",
      "9 9 9\n",
      "9 9 9\n",
      "9 9 9\n",
      "9 9 9\n",
      "9 9 9\n",
      "9 9 9\n",
      "9 9 9\n",
      "9 9 9\n",
      "9 9 9\n",
      "9 9 9\n",
      "9 9 9\n",
      "9 9 9\n",
      "9 9 9\n",
      "9 9 9\n",
      "9 9 9\n",
      "9 9 9\n",
      "9 9 9\n",
      "9 9 9\n",
      "9 9 9\n",
      "9 9 9\n",
      "9 9 9\n",
      "9 9 9\n",
      "9 9 9\n",
      "9 9 9\n",
      "9 9 9\n",
      "9 9 9\n",
      "9 9 9\n",
      "9 9 9\n",
      "9 9 9\n",
      "9 9 9\n",
      "9 9 9\n",
      "9 9 9\n",
      "9 9 9\n",
      "9 9 9\n",
      "9 9 9\n",
      "9 9 9\n",
      "9 9 9\n",
      "9 9 9\n",
      "9 9 9\n",
      "9 9 9\n",
      "9 9 9\n",
      "9 9 9\n",
      "9 9 9\n",
      "9 9 9\n",
      "9 9 9\n",
      "9 9 9\n",
      "9 9 9\n",
      "9 9 9\n",
      "9 9 9\n",
      "9 9 9\n",
      "9 9 9\n",
      "9 9 9\n",
      "9 9 9\n",
      "9 9 9\n",
      "9 9 9\n",
      "9 9 9\n",
      "9 9 9\n",
      "9 9 9\n",
      "9 9 9\n",
      "9 9 9\n",
      "9 9 9\n",
      "9 9 9\n",
      "9 9 9\n",
      "9 9 9\n",
      "9 9 9\n",
      "9 9 9\n",
      "9 9 9\n",
      "9 9 9\n",
      "9 9 9\n",
      "9 9 9\n",
      "9 9 9\n",
      "9 9 9\n",
      "9 9 9\n",
      "9 9 9\n",
      "9 9 9\n",
      "9 9 9\n",
      "9 9 9\n",
      "9 9 9\n",
      "9 9 9\n",
      "9 9 9\n",
      "9 9 9\n",
      "9 9 9\n",
      "9 9 9\n",
      "9 9 9\n",
      "9 9 9\n",
      "9 9 9\n",
      "9 9 9\n",
      "9 9 9\n",
      "9 9 9\n",
      "9 9 9\n",
      "9 9 9\n",
      "9 9 9\n",
      "9 9 9\n",
      "9 9 9\n",
      "9 9 9\n",
      "9 9 9\n",
      "9 9 9\n",
      "9 9 9\n",
      "9 9 9\n",
      "9 9 9\n",
      "9 9 9\n",
      "9 9 9\n",
      "9 9 9\n",
      "9 9 9\n",
      "9 9 9\n",
      "9 9 9\n",
      "9 9 9\n",
      "9 9 9\n",
      "9 9 9\n",
      "9 9 9\n",
      "9 9 9\n",
      "9 9 9\n",
      "9 9 9\n",
      "9 9 9\n",
      "9 9 9\n",
      "9 9 9\n",
      "9 9 9\n",
      "9 9 9\n",
      "9 9 9\n",
      "9 9 9\n",
      "9 9 9\n",
      "9 9 9\n",
      "9 9 9\n",
      "9 9 9\n",
      "9 9 9\n",
      "9 9 9\n",
      "9 9 9\n",
      "9 9 9\n",
      "9 9 9\n",
      "9 9 9\n",
      "9 9 9\n",
      "9 9 9\n",
      "9 9 9\n",
      "9 9 9\n",
      "9 9 9\n",
      "9 9 9\n",
      "9 9 9\n",
      "9 9 9\n",
      "9 9 9\n",
      "9 9 9\n",
      "9 9 9\n",
      "9 9 9\n",
      "9 9 9\n",
      "9 9 9\n",
      "9 9 9\n",
      "9 9 9\n",
      "9 9 9\n",
      "9 9 9\n",
      "9 9 9\n",
      "9 9 9\n",
      "9 9 9\n",
      "9 9 9\n",
      "9 9 9\n"
     ]
    }
   ],
   "source": [
    "pool = Pool()\n",
    "pool.map(test, confs)\n",
    "pool.close() \n",
    "pool.join()"
   ]
  },
  {
   "cell_type": "code",
   "execution_count": 476,
   "metadata": {
    "collapsed": true
   },
   "outputs": [],
   "source": [
    "    parameters_grid = {'lr': np.logspace(-3, -2, num=2),\n",
    "                       'reg': [1e-7],\n",
    "                       'hiddens': [25, 1,50]}"
   ]
  },
  {
   "cell_type": "code",
   "execution_count": 523,
   "metadata": {
    "collapsed": true
   },
   "outputs": [],
   "source": [
    "class MyDict(dict):\n",
    "\n",
    "    def update(self, *args):\n",
    "        dict.update(self, *args)\n",
    "        return self"
   ]
  },
  {
   "cell_type": "code",
   "execution_count": 546,
   "metadata": {
    "collapsed": true
   },
   "outputs": [],
   "source": [
    "def conf_generator(config, parameters_grids):\n",
    "\n",
    "    assert all([f in ['lr', 'reg', 'hiddens'] for f in parameters_grid.keys()])\n",
    "    product = [x for x in apply(itertools.product, parameters_grid.values())]\n",
    "    conf_runs = [dict(zip(parameters_grid.keys(), p)) for p in product]\n",
    "    confs = map(lambda d: update_dict(config, d), conf_runs)\n",
    "    return confs\n"
   ]
  },
  {
   "cell_type": "code",
   "execution_count": 548,
   "metadata": {
    "collapsed": false
   },
   "outputs": [],
   "source": [
    "confs = conf_generator(config,parameters_grid)"
   ]
  },
  {
   "cell_type": "code",
   "execution_count": 549,
   "metadata": {
    "collapsed": false
   },
   "outputs": [
    {
     "name": "stdout",
     "output_type": "stream",
     "text": [
      "0.001 25 1e-07\n",
      "0.01 25 1e-07\n",
      "0.001 1 1e-07\n",
      "0.01 1 1e-07\n",
      "0.001 50 1e-07\n",
      "0.01 50 1e-07\n"
     ]
    }
   ],
   "source": [
    "for elt in confs:\n",
    "    print(elt['lr'],elt['hiddens'],elt['reg'])"
   ]
  },
  {
   "cell_type": "code",
   "execution_count": 515,
   "metadata": {
    "collapsed": true
   },
   "outputs": [],
   "source": [
    "def worker(elt):\n",
    "    print(elt['lr'],elt['hiddens'],elt['reg'])"
   ]
  },
  {
   "cell_type": "code",
   "execution_count": 550,
   "metadata": {
    "collapsed": false
   },
   "outputs": [
    {
     "name": "stdout",
     "output_type": "stream",
     "text": [
      "0.001 25 1e-07\n",
      "0.01 25 1e-07\n",
      "0.001 1 1e-07\n",
      "0.01 1 1e-07\n",
      "0.001 50 1e-07\n",
      "0.01 50 1e-07\n"
     ]
    }
   ],
   "source": [
    "confs = conf_generator(config,parameters_grid)\n",
    "pool = Pool()\n",
    "pool.map(worker, ite)\n",
    "pool.close()\n",
    "pool.join()"
   ]
  },
  {
   "cell_type": "code",
   "execution_count": 494,
   "metadata": {
    "collapsed": false
   },
   "outputs": [],
   "source": [
    "class myDict(dict):\n",
    "    def update(self, *args):\n",
    "    \tdict.update(self, *args)\n",
    "    \treturn self"
   ]
  },
  {
   "cell_type": "code",
   "execution_count": 496,
   "metadata": {
    "collapsed": false
   },
   "outputs": [],
   "source": [
    "myconfig = myDict(config)"
   ]
  },
  {
   "cell_type": "code",
   "execution_count": 498,
   "metadata": {
    "collapsed": false
   },
   "outputs": [
    {
     "data": {
      "text/plain": [
       "[{u'architecture': u'build_simple_lstm',\n",
       "  u'build_ite': u'benchmark',\n",
       "  u'conf': u'../models/lstm/model_3/conf_model.json',\n",
       "  u'continue_training': False,\n",
       "  u'feats': [u'percip_mm',\n",
       "   u'humidity',\n",
       "   u'temp',\n",
       "   u'leafwet450_min',\n",
       "   u'leafwet460_min',\n",
       "   u'leafwet_lwscnt',\n",
       "   u'gusts_ms',\n",
       "   u'wind_dir',\n",
       "   u'wind_ms'],\n",
       "  u'folder': u'/Users/thorey/Documents/project/competition/fognet/models/lstm/model_3/h_25_rg_1e-07_lr_0.001',\n",
       "  u'grad_clip': 50,\n",
       "  u'hiddens': 50,\n",
       "  u'loss_function': u'squared_error',\n",
       "  u'lr': 0.01,\n",
       "  u'model': u'lstm',\n",
       "  u'model_fname': u'/Users/thorey/Documents/project/competition/fognet/models/lstm/model_3/h_25_rg_1e-07_lr_0.001/model.pkl',\n",
       "  u'model_graph_fname': u'/Users/thorey/Documents/project/competition/fognet/models/lstm/model_3/h_25_rg_1e-07_lr_0.001/model_history.png',\n",
       "  u'model_history_fname': u'/Users/thorey/Documents/project/competition/fognet/models/lstm/model_3/h_25_rg_1e-07_lr_0.001/model_history.pkl',\n",
       "  u'model_name': u'h_25_rg_1e-07_lr_0.001',\n",
       "  u'name': u'micro',\n",
       "  u'nb_epochs': 1000,\n",
       "  u'overwrite': True,\n",
       "  u'patience': 15,\n",
       "  u'pipe_kwargs': {u'MyImputer__strategy': u'mean'},\n",
       "  u'pipe_list': [u'MyImputer', u'MyStandardScaler'],\n",
       "  u'reg': 1e-07,\n",
       "  u'root': u'/Users/thorey/Documents/project/competition/fognet/models/lstm/model_3',\n",
       "  u'time': u'20160322_134638',\n",
       "  u'update_rule': u'adam',\n",
       "  u'verbose': 11},\n",
       " {u'architecture': u'build_simple_lstm',\n",
       "  u'build_ite': u'benchmark',\n",
       "  u'conf': u'../models/lstm/model_3/conf_model.json',\n",
       "  u'continue_training': False,\n",
       "  u'feats': [u'percip_mm',\n",
       "   u'humidity',\n",
       "   u'temp',\n",
       "   u'leafwet450_min',\n",
       "   u'leafwet460_min',\n",
       "   u'leafwet_lwscnt',\n",
       "   u'gusts_ms',\n",
       "   u'wind_dir',\n",
       "   u'wind_ms'],\n",
       "  u'folder': u'/Users/thorey/Documents/project/competition/fognet/models/lstm/model_3/h_25_rg_1e-07_lr_0.001',\n",
       "  u'grad_clip': 50,\n",
       "  u'hiddens': 50,\n",
       "  u'loss_function': u'squared_error',\n",
       "  u'lr': 0.01,\n",
       "  u'model': u'lstm',\n",
       "  u'model_fname': u'/Users/thorey/Documents/project/competition/fognet/models/lstm/model_3/h_25_rg_1e-07_lr_0.001/model.pkl',\n",
       "  u'model_graph_fname': u'/Users/thorey/Documents/project/competition/fognet/models/lstm/model_3/h_25_rg_1e-07_lr_0.001/model_history.png',\n",
       "  u'model_history_fname': u'/Users/thorey/Documents/project/competition/fognet/models/lstm/model_3/h_25_rg_1e-07_lr_0.001/model_history.pkl',\n",
       "  u'model_name': u'h_25_rg_1e-07_lr_0.001',\n",
       "  u'name': u'micro',\n",
       "  u'nb_epochs': 1000,\n",
       "  u'overwrite': True,\n",
       "  u'patience': 15,\n",
       "  u'pipe_kwargs': {u'MyImputer__strategy': u'mean'},\n",
       "  u'pipe_list': [u'MyImputer', u'MyStandardScaler'],\n",
       "  u'reg': 1e-07,\n",
       "  u'root': u'/Users/thorey/Documents/project/competition/fognet/models/lstm/model_3',\n",
       "  u'time': u'20160322_134638',\n",
       "  u'update_rule': u'adam',\n",
       "  u'verbose': 11},\n",
       " {u'architecture': u'build_simple_lstm',\n",
       "  u'build_ite': u'benchmark',\n",
       "  u'conf': u'../models/lstm/model_3/conf_model.json',\n",
       "  u'continue_training': False,\n",
       "  u'feats': [u'percip_mm',\n",
       "   u'humidity',\n",
       "   u'temp',\n",
       "   u'leafwet450_min',\n",
       "   u'leafwet460_min',\n",
       "   u'leafwet_lwscnt',\n",
       "   u'gusts_ms',\n",
       "   u'wind_dir',\n",
       "   u'wind_ms'],\n",
       "  u'folder': u'/Users/thorey/Documents/project/competition/fognet/models/lstm/model_3/h_25_rg_1e-07_lr_0.001',\n",
       "  u'grad_clip': 50,\n",
       "  u'hiddens': 50,\n",
       "  u'loss_function': u'squared_error',\n",
       "  u'lr': 0.01,\n",
       "  u'model': u'lstm',\n",
       "  u'model_fname': u'/Users/thorey/Documents/project/competition/fognet/models/lstm/model_3/h_25_rg_1e-07_lr_0.001/model.pkl',\n",
       "  u'model_graph_fname': u'/Users/thorey/Documents/project/competition/fognet/models/lstm/model_3/h_25_rg_1e-07_lr_0.001/model_history.png',\n",
       "  u'model_history_fname': u'/Users/thorey/Documents/project/competition/fognet/models/lstm/model_3/h_25_rg_1e-07_lr_0.001/model_history.pkl',\n",
       "  u'model_name': u'h_25_rg_1e-07_lr_0.001',\n",
       "  u'name': u'micro',\n",
       "  u'nb_epochs': 1000,\n",
       "  u'overwrite': True,\n",
       "  u'patience': 15,\n",
       "  u'pipe_kwargs': {u'MyImputer__strategy': u'mean'},\n",
       "  u'pipe_list': [u'MyImputer', u'MyStandardScaler'],\n",
       "  u'reg': 1e-07,\n",
       "  u'root': u'/Users/thorey/Documents/project/competition/fognet/models/lstm/model_3',\n",
       "  u'time': u'20160322_134638',\n",
       "  u'update_rule': u'adam',\n",
       "  u'verbose': 11},\n",
       " {u'architecture': u'build_simple_lstm',\n",
       "  u'build_ite': u'benchmark',\n",
       "  u'conf': u'../models/lstm/model_3/conf_model.json',\n",
       "  u'continue_training': False,\n",
       "  u'feats': [u'percip_mm',\n",
       "   u'humidity',\n",
       "   u'temp',\n",
       "   u'leafwet450_min',\n",
       "   u'leafwet460_min',\n",
       "   u'leafwet_lwscnt',\n",
       "   u'gusts_ms',\n",
       "   u'wind_dir',\n",
       "   u'wind_ms'],\n",
       "  u'folder': u'/Users/thorey/Documents/project/competition/fognet/models/lstm/model_3/h_25_rg_1e-07_lr_0.001',\n",
       "  u'grad_clip': 50,\n",
       "  u'hiddens': 50,\n",
       "  u'loss_function': u'squared_error',\n",
       "  u'lr': 0.01,\n",
       "  u'model': u'lstm',\n",
       "  u'model_fname': u'/Users/thorey/Documents/project/competition/fognet/models/lstm/model_3/h_25_rg_1e-07_lr_0.001/model.pkl',\n",
       "  u'model_graph_fname': u'/Users/thorey/Documents/project/competition/fognet/models/lstm/model_3/h_25_rg_1e-07_lr_0.001/model_history.png',\n",
       "  u'model_history_fname': u'/Users/thorey/Documents/project/competition/fognet/models/lstm/model_3/h_25_rg_1e-07_lr_0.001/model_history.pkl',\n",
       "  u'model_name': u'h_25_rg_1e-07_lr_0.001',\n",
       "  u'name': u'micro',\n",
       "  u'nb_epochs': 1000,\n",
       "  u'overwrite': True,\n",
       "  u'patience': 15,\n",
       "  u'pipe_kwargs': {u'MyImputer__strategy': u'mean'},\n",
       "  u'pipe_list': [u'MyImputer', u'MyStandardScaler'],\n",
       "  u'reg': 1e-07,\n",
       "  u'root': u'/Users/thorey/Documents/project/competition/fognet/models/lstm/model_3',\n",
       "  u'time': u'20160322_134638',\n",
       "  u'update_rule': u'adam',\n",
       "  u'verbose': 11},\n",
       " {u'architecture': u'build_simple_lstm',\n",
       "  u'build_ite': u'benchmark',\n",
       "  u'conf': u'../models/lstm/model_3/conf_model.json',\n",
       "  u'continue_training': False,\n",
       "  u'feats': [u'percip_mm',\n",
       "   u'humidity',\n",
       "   u'temp',\n",
       "   u'leafwet450_min',\n",
       "   u'leafwet460_min',\n",
       "   u'leafwet_lwscnt',\n",
       "   u'gusts_ms',\n",
       "   u'wind_dir',\n",
       "   u'wind_ms'],\n",
       "  u'folder': u'/Users/thorey/Documents/project/competition/fognet/models/lstm/model_3/h_25_rg_1e-07_lr_0.001',\n",
       "  u'grad_clip': 50,\n",
       "  u'hiddens': 50,\n",
       "  u'loss_function': u'squared_error',\n",
       "  u'lr': 0.01,\n",
       "  u'model': u'lstm',\n",
       "  u'model_fname': u'/Users/thorey/Documents/project/competition/fognet/models/lstm/model_3/h_25_rg_1e-07_lr_0.001/model.pkl',\n",
       "  u'model_graph_fname': u'/Users/thorey/Documents/project/competition/fognet/models/lstm/model_3/h_25_rg_1e-07_lr_0.001/model_history.png',\n",
       "  u'model_history_fname': u'/Users/thorey/Documents/project/competition/fognet/models/lstm/model_3/h_25_rg_1e-07_lr_0.001/model_history.pkl',\n",
       "  u'model_name': u'h_25_rg_1e-07_lr_0.001',\n",
       "  u'name': u'micro',\n",
       "  u'nb_epochs': 1000,\n",
       "  u'overwrite': True,\n",
       "  u'patience': 15,\n",
       "  u'pipe_kwargs': {u'MyImputer__strategy': u'mean'},\n",
       "  u'pipe_list': [u'MyImputer', u'MyStandardScaler'],\n",
       "  u'reg': 1e-07,\n",
       "  u'root': u'/Users/thorey/Documents/project/competition/fognet/models/lstm/model_3',\n",
       "  u'time': u'20160322_134638',\n",
       "  u'update_rule': u'adam',\n",
       "  u'verbose': 11},\n",
       " {u'architecture': u'build_simple_lstm',\n",
       "  u'build_ite': u'benchmark',\n",
       "  u'conf': u'../models/lstm/model_3/conf_model.json',\n",
       "  u'continue_training': False,\n",
       "  u'feats': [u'percip_mm',\n",
       "   u'humidity',\n",
       "   u'temp',\n",
       "   u'leafwet450_min',\n",
       "   u'leafwet460_min',\n",
       "   u'leafwet_lwscnt',\n",
       "   u'gusts_ms',\n",
       "   u'wind_dir',\n",
       "   u'wind_ms'],\n",
       "  u'folder': u'/Users/thorey/Documents/project/competition/fognet/models/lstm/model_3/h_25_rg_1e-07_lr_0.001',\n",
       "  u'grad_clip': 50,\n",
       "  u'hiddens': 50,\n",
       "  u'loss_function': u'squared_error',\n",
       "  u'lr': 0.01,\n",
       "  u'model': u'lstm',\n",
       "  u'model_fname': u'/Users/thorey/Documents/project/competition/fognet/models/lstm/model_3/h_25_rg_1e-07_lr_0.001/model.pkl',\n",
       "  u'model_graph_fname': u'/Users/thorey/Documents/project/competition/fognet/models/lstm/model_3/h_25_rg_1e-07_lr_0.001/model_history.png',\n",
       "  u'model_history_fname': u'/Users/thorey/Documents/project/competition/fognet/models/lstm/model_3/h_25_rg_1e-07_lr_0.001/model_history.pkl',\n",
       "  u'model_name': u'h_25_rg_1e-07_lr_0.001',\n",
       "  u'name': u'micro',\n",
       "  u'nb_epochs': 1000,\n",
       "  u'overwrite': True,\n",
       "  u'patience': 15,\n",
       "  u'pipe_kwargs': {u'MyImputer__strategy': u'mean'},\n",
       "  u'pipe_list': [u'MyImputer', u'MyStandardScaler'],\n",
       "  u'reg': 1e-07,\n",
       "  u'root': u'/Users/thorey/Documents/project/competition/fognet/models/lstm/model_3',\n",
       "  u'time': u'20160322_134638',\n",
       "  u'update_rule': u'adam',\n",
       "  u'verbose': 11}]"
      ]
     },
     "execution_count": 498,
     "metadata": {},
     "output_type": "execute_result"
    }
   ],
   "source": [
    "map(myconfig.update,ite)"
   ]
  },
  {
   "cell_type": "code",
   "execution_count": 492,
   "metadata": {
    "collapsed": false
   },
   "outputs": [],
   "source": [
    "def update_dict(config,d):\n",
    "    config.update(d)\n",
    "    return config\n"
   ]
  },
  {
   "cell_type": "code",
   "execution_count": 493,
   "metadata": {
    "collapsed": false
   },
   "outputs": [
    {
     "ename": "TypeError",
     "evalue": "update_dict() takes exactly 2 arguments (1 given)",
     "output_type": "error",
     "traceback": [
      "\u001b[0;31m---------------------------------------------------------------------------\u001b[0m",
      "\u001b[0;31mTypeError\u001b[0m                                 Traceback (most recent call last)",
      "\u001b[0;32m<ipython-input-493-94d251fbee04>\u001b[0m in \u001b[0;36m<module>\u001b[0;34m()\u001b[0m\n\u001b[0;32m----> 1\u001b[0;31m \u001b[0mmap\u001b[0m\u001b[0;34m(\u001b[0m\u001b[0mupdate_dict\u001b[0m\u001b[0;34m,\u001b[0m\u001b[0mite\u001b[0m\u001b[0;34m)\u001b[0m\u001b[0;34m\u001b[0m\u001b[0m\n\u001b[0m",
      "\u001b[0;31mTypeError\u001b[0m: update_dict() takes exactly 2 arguments (1 given)"
     ]
    }
   ],
   "source": [
    "map(update_dict,ite)"
   ]
  },
  {
   "cell_type": "code",
   "execution_count": 501,
   "metadata": {
    "collapsed": true
   },
   "outputs": [],
   "source": [
    "class myDict(dict):\n",
    "\n",
    "    def update(self, *args):\n",
    "        dict.update(self, *args)\n",
    "        return self\n",
    "\n",
    "\n",
    "def conf_generator(config, parameters_grids):\n",
    "\n",
    "    config = myDict(config)\n",
    "    assert all([f in ['lr', 'reg', 'hiddens'] for f in parameters_grid.keys()])\n",
    "    product = [x for x in apply(itertools.product, parameters_grid.values())]\n",
    "    conf_runs = [dict(zip(parameters_grid.keys(), p)) for p in product]\n",
    "    conf_runs = map(dict, map(config.update, conf_runs))\n",
    "    return conf_runs"
   ]
  },
  {
   "cell_type": "code",
   "execution_count": 503,
   "metadata": {
    "collapsed": false
   },
   "outputs": [],
   "source": [
    "confs = conf_generator(config,parameters_grid)"
   ]
  },
  {
   "cell_type": "code",
   "execution_count": 504,
   "metadata": {
    "collapsed": false
   },
   "outputs": [
    {
     "data": {
      "text/plain": [
       "6"
      ]
     },
     "execution_count": 504,
     "metadata": {},
     "output_type": "execute_result"
    }
   ],
   "source": [
    "len(confs)"
   ]
  },
  {
   "cell_type": "code",
   "execution_count": 505,
   "metadata": {
    "collapsed": false
   },
   "outputs": [
    {
     "name": "stdout",
     "output_type": "stream",
     "text": [
      "0.01 50 1e-07\n",
      "0.01 50 1e-07\n",
      "0.01 50 1e-07\n",
      "0.01 50 1e-07\n",
      "0.01 50 1e-07\n",
      "0.01 50 1e-07\n"
     ]
    }
   ],
   "source": [
    "pool = Pool()\n",
    "pool.map(worker, confs)\n",
    "pool.close()\n",
    "pool.join()"
   ]
  },
  {
   "cell_type": "code",
   "execution_count": 552,
   "metadata": {
    "collapsed": false
   },
   "outputs": [
    {
     "data": {
      "text/plain": [
       "4"
      ]
     },
     "execution_count": 552,
     "metadata": {},
     "output_type": "execute_result"
    }
   ],
   "source": [
    "multiprocessing.cpu_count()"
   ]
  },
  {
   "cell_type": "code",
   "execution_count": null,
   "metadata": {
    "collapsed": true
   },
   "outputs": [],
   "source": []
  }
 ],
 "metadata": {
  "kernelspec": {
   "display_name": "Python 2",
   "language": "python",
   "name": "python2"
  },
  "language_info": {
   "codemirror_mode": {
    "name": "ipython",
    "version": 2
   },
   "file_extension": ".py",
   "mimetype": "text/x-python",
   "name": "python",
   "nbconvert_exporter": "python",
   "pygments_lexer": "ipython2",
   "version": "2.7.11"
  },
  "latex_envs": {
   "bibliofile": "biblio.bib",
   "cite_by": "apalike",
   "current_citInitial": 1,
   "eqLabelWithNumbers": true,
   "eqNumInitial": 0
  }
 },
 "nbformat": 4,
 "nbformat_minor": 0
}

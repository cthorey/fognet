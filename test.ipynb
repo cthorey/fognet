{
 "cells": [
  {
   "cell_type": "code",
   "execution_count": 22,
   "metadata": {
    "collapsed": false
   },
   "outputs": [
    {
     "name": "stdout",
     "output_type": "stream",
     "text": [
      "The autoreload extension is already loaded. To reload it, use:\n",
      "  %reload_ext autoreload\n"
     ]
    }
   ],
   "source": [
    "%matplotlib inline\n",
    "from __future__ import print_function\n",
    "\n",
    "from matplotlib import pyplot as plt\n",
    "import seaborn as sns\n",
    "\n",
    "import numpy as np\n",
    "import pandas as pd\n",
    "\n",
    "%load_ext autoreload\n",
    "%autoreload 2\n",
    " \n",
    "from utils.nolearn_net import NeuralNet\n",
    "from utils.helper import *\n",
    "#from utils.iterator import BaseBatchIterator\n",
    "#from utils.utils import parse_conf_file\n",
    "#from utils.preprocessing import build_pipeline\n",
    "import importlib\n",
    "import pickle"
   ]
  },
  {
   "cell_type": "code",
   "execution_count": 23,
   "metadata": {
    "collapsed": false
   },
   "outputs": [],
   "source": [
    "from utils.helper import *\n",
    "from utils.train_utils import *"
   ]
  },
  {
   "cell_type": "code",
   "execution_count": 24,
   "metadata": {
    "collapsed": false
   },
   "outputs": [
    {
     "name": "stdout",
     "output_type": "stream",
     "text": [
      "Loading the prepro pipeline : [u'MyImputer', u'MyStandardScaler']\n",
      "Loading data iterator using : benchmark\n",
      "Le train is composed by 21 group and 3738 observation\n",
      "Le val is composed by 8 group and 1112 observation\n",
      "Le test is composed by 5 group and 948 observation\n",
      "Build the architecture: lstm, build_simple_lstm\n",
      "Set up the checkpoints\n",
      "Initialize the network \n"
     ]
    }
   ],
   "source": [
    "m = Model(config,mode ='train')"
   ]
  },
  {
   "cell_type": "code",
   "execution_count": 25,
   "metadata": {
    "collapsed": false
   },
   "outputs": [],
   "source": [
    "m.nb_epochs =2"
   ]
  },
  {
   "cell_type": "code",
   "execution_count": 26,
   "metadata": {
    "collapsed": true
   },
   "outputs": [],
   "source": [
    "m.continue_training = False"
   ]
  },
  {
   "cell_type": "code",
   "execution_count": 30,
   "metadata": {
    "collapsed": false
   },
   "outputs": [
    {
     "name": "stdout",
     "output_type": "stream",
     "text": [
      "      7      \u001b[36m10.32627\u001b[0m       \u001b[32m9.52514\u001b[0m      1.08411  2.83s\n",
      "      8       \u001b[36m9.91381\u001b[0m       \u001b[32m9.30037\u001b[0m      1.06596  2.76s\n",
      "Loading best param\n",
      "Loaded parameters to layer 'lstm' (shape 9x60).\n",
      "Loaded parameters to layer 'lstm' (shape 60x60).\n",
      "Loaded parameters to layer 'lstm' (shape 60).\n",
      "Loaded parameters to layer 'lstm' (shape 9x60).\n",
      "Loaded parameters to layer 'lstm' (shape 60x60).\n",
      "Loaded parameters to layer 'lstm' (shape 60).\n",
      "Loaded parameters to layer 'lstm' (shape 9x60).\n",
      "Loaded parameters to layer 'lstm' (shape 60x60).\n",
      "Loaded parameters to layer 'lstm' (shape 60).\n",
      "Loaded parameters to layer 'lstm' (shape 9x60).\n",
      "Loaded parameters to layer 'lstm' (shape 60x60).\n",
      "Loaded parameters to layer 'lstm' (shape 60).\n",
      "Loaded parameters to layer 'lstm' (shape 60).\n",
      "Loaded parameters to layer 'lstm' (shape 60).\n",
      "Loaded parameters to layer 'lstm' (shape 60).\n",
      "Loaded parameters to layer 'lstm' (shape 1x60).\n",
      "Loaded parameters to layer 'lstm' (shape 1x60).\n",
      "Loaded parameters to layer 'dense' (shape 60x1).\n",
      "Loaded parameters to layer 'dense' (shape 1).\n",
      "Evaluating on val set\n",
      "3.04962052508\n",
      "Run the prediction\n",
      "Will write output to /Users/cthorey/Documents/project/competition/fognet/models/ray/lstm/model_0/hiddens_60_lr_0.0001_reg_1e-06/submissions_20160324_214719.csv\n"
     ]
    }
   ],
   "source": [
    "m.train()"
   ]
  },
  {
   "cell_type": "code",
   "execution_count": 39,
   "metadata": {
    "collapsed": false
   },
   "outputs": [
    {
     "ename": "ValueError",
     "evalue": "all the input array dimensions except for the concatenation axis must match exactly",
     "output_type": "error",
     "traceback": [
      "\u001b[0;31m---------------------------------------------------------------------------\u001b[0m",
      "\u001b[0;31mValueError\u001b[0m                                Traceback (most recent call last)",
      "\u001b[0;32m<ipython-input-39-585f11f9729f>\u001b[0m in \u001b[0;36m<module>\u001b[0;34m()\u001b[0m\n\u001b[0;32m----> 1\u001b[0;31m \u001b[0mm\u001b[0m\u001b[0;34m.\u001b[0m\u001b[0mpredict_set\u001b[0m\u001b[0;34m(\u001b[0m\u001b[0;34m'val'\u001b[0m\u001b[0;34m)\u001b[0m\u001b[0;34m\u001b[0m\u001b[0m\n\u001b[0m",
      "\u001b[0;32m/Users/cthorey/Documents/project/competition/fognet/utils/train_utils.py\u001b[0m in \u001b[0;36mpredict_set\u001b[0;34m(self, split)\u001b[0m\n\u001b[1;32m    159\u001b[0m         \u001b[0;32mfor\u001b[0m \u001b[0mXb\u001b[0m\u001b[0;34m,\u001b[0m \u001b[0m_\u001b[0m \u001b[0;32min\u001b[0m \u001b[0mwhich_batch_iterator\u001b[0m\u001b[0;34m[\u001b[0m\u001b[0msplit\u001b[0m\u001b[0;34m]\u001b[0m\u001b[0;34m:\u001b[0m\u001b[0;34m\u001b[0m\u001b[0m\n\u001b[1;32m    160\u001b[0m             \u001b[0mscores\u001b[0m\u001b[0;34m.\u001b[0m\u001b[0mappend\u001b[0m\u001b[0;34m(\u001b[0m\u001b[0mself\u001b[0m\u001b[0;34m.\u001b[0m\u001b[0mnet\u001b[0m\u001b[0;34m.\u001b[0m\u001b[0mpredict\u001b[0m\u001b[0;34m(\u001b[0m\u001b[0mXb\u001b[0m\u001b[0;34m)\u001b[0m\u001b[0;34m)\u001b[0m\u001b[0;34m\u001b[0m\u001b[0m\n\u001b[0;32m--> 161\u001b[0;31m         \u001b[0;32mreturn\u001b[0m \u001b[0mnp\u001b[0m\u001b[0;34m.\u001b[0m\u001b[0mvstack\u001b[0m\u001b[0;34m(\u001b[0m\u001b[0mscores\u001b[0m\u001b[0;34m)\u001b[0m\u001b[0;34m\u001b[0m\u001b[0m\n\u001b[0m\u001b[1;32m    162\u001b[0m \u001b[0;34m\u001b[0m\u001b[0m\n\u001b[1;32m    163\u001b[0m     \u001b[0;32mdef\u001b[0m \u001b[0mget_score_set\u001b[0m\u001b[0;34m(\u001b[0m\u001b[0mself\u001b[0m\u001b[0;34m,\u001b[0m \u001b[0msplit\u001b[0m\u001b[0;34m=\u001b[0m\u001b[0;34m'train'\u001b[0m\u001b[0;34m)\u001b[0m\u001b[0;34m:\u001b[0m\u001b[0;34m\u001b[0m\u001b[0m\n",
      "\u001b[0;32m/Users/cthorey/miniconda2/envs/fognet/lib/python2.7/site-packages/numpy/core/shape_base.pyc\u001b[0m in \u001b[0;36mvstack\u001b[0;34m(tup)\u001b[0m\n\u001b[1;32m    228\u001b[0m \u001b[0;34m\u001b[0m\u001b[0m\n\u001b[1;32m    229\u001b[0m     \"\"\"\n\u001b[0;32m--> 230\u001b[0;31m     \u001b[0;32mreturn\u001b[0m \u001b[0m_nx\u001b[0m\u001b[0;34m.\u001b[0m\u001b[0mconcatenate\u001b[0m\u001b[0;34m(\u001b[0m\u001b[0;34m[\u001b[0m\u001b[0matleast_2d\u001b[0m\u001b[0;34m(\u001b[0m\u001b[0m_m\u001b[0m\u001b[0;34m)\u001b[0m \u001b[0;32mfor\u001b[0m \u001b[0m_m\u001b[0m \u001b[0;32min\u001b[0m \u001b[0mtup\u001b[0m\u001b[0;34m]\u001b[0m\u001b[0;34m,\u001b[0m \u001b[0;36m0\u001b[0m\u001b[0;34m)\u001b[0m\u001b[0;34m\u001b[0m\u001b[0m\n\u001b[0m\u001b[1;32m    231\u001b[0m \u001b[0;34m\u001b[0m\u001b[0m\n\u001b[1;32m    232\u001b[0m \u001b[0;32mdef\u001b[0m \u001b[0mhstack\u001b[0m\u001b[0;34m(\u001b[0m\u001b[0mtup\u001b[0m\u001b[0;34m)\u001b[0m\u001b[0;34m:\u001b[0m\u001b[0;34m\u001b[0m\u001b[0m\n",
      "\u001b[0;31mValueError\u001b[0m: all the input array dimensions except for the concatenation axis must match exactly"
     ]
    }
   ],
   "source": [
    "m.predict_set('val')"
   ]
  },
  {
   "cell_type": "code",
   "execution_count": 73,
   "metadata": {
    "collapsed": false
   },
   "outputs": [
    {
     "name": "stdout",
     "output_type": "stream",
     "text": [
      "0.00189918775047\n",
      "0.0\n",
      "0.0086294509874\n",
      "0.0\n",
      "0.00506923594472\n",
      "0.0\n",
      "0.000143659867987\n",
      "0.0\n",
      "1.82097364442\n",
      "9.47603121517\n",
      "1.4666603469\n",
      "9.47603121517\n",
      "2.31026849406\n",
      "10.1309921962\n",
      "27.1281328162\n",
      "19.5861204013\n",
      "4.9626771481\n",
      "19.5861204013\n",
      "0.00238915669348\n",
      "0.0\n",
      "0.000624970059044\n",
      "0.0\n",
      "0.47153130055\n",
      "0.0940635451509\n",
      "0.00571924492744\n",
      "0.0\n",
      "2.70815562568\n",
      "10.1031215162\n",
      "0.00148028814621\n",
      "0.0\n",
      "0.928401325626\n",
      "7.13489409141\n",
      "61.9750997814\n",
      "30.2745261984\n",
      "103.023580933\n",
      "30.2745261984\n",
      "12.4923514271\n",
      "13.6078595318\n",
      "17.7244948423\n",
      "13.6078595318\n",
      "14.4262192887\n",
      "15.2382943144\n",
      "16.0870738566\n",
      "20.8542363434\n",
      "14.6375957747\n",
      "20.8542363434\n",
      "4.74302776666\n",
      "14.6251393534\n",
      "42.2724442336\n",
      "21.4673913044\n",
      "20.1062167735\n",
      "21.4673913044\n",
      "0.000419151974207\n",
      "0.0\n",
      "0.75813657003\n",
      "0.515607580825\n",
      "1.24488833456\n",
      "0.515607580825\n",
      "4.46475968686\n",
      "8.64687848384\n",
      "9.44132061525\n",
      "8.64687848384\n",
      "0.305763198472\n",
      "0.00696767001117\n",
      "0.0363338857375\n",
      "0.0\n",
      "1.46778860377\n",
      "0.0\n",
      "0.0155704500868\n",
      "0.0\n",
      "3.39175906716\n",
      "2.4386845039\n",
      "2.97323323476\n",
      "2.4386845039\n",
      "0.79764444381\n",
      "5.70652173913\n",
      "5.45489133406\n",
      "5.70652173913\n",
      "0.529549509499\n",
      "0.0\n",
      "1.11468056591\n",
      "0.599219620959\n"
     ]
    }
   ],
   "source": [
    "for i,(Xb,yb) in enumerate(m.batch_ite_val):\n",
    "    #rint(np.sqrt(np.sum((m.net.predict(Xb)-yb)*2)))\n",
    "    print(m.net.get_score(Xb,yb))\n",
    "    \n",
    "    print(np.max(yb))\n",
    "    #if i==0:\n",
    "    #    sys.exit(1)\n",
    "    "
   ]
  },
  {
   "cell_type": "code",
   "execution_count": 66,
   "metadata": {
    "collapsed": false
   },
   "outputs": [
    {
     "data": {
      "text/plain": [
       "20.064250186333723"
      ]
     },
     "execution_count": 66,
     "metadata": {},
     "output_type": "execute_result"
    }
   ],
   "source": [
    "np.mean(np.sum((m.net.predict(Xb)-yb)**2,axis=0))"
   ]
  },
  {
   "cell_type": "code",
   "execution_count": 71,
   "metadata": {
    "collapsed": false
   },
   "outputs": [
    {
     "data": {
      "text/plain": [
       "1.1146805659074293"
      ]
     },
     "execution_count": 71,
     "metadata": {},
     "output_type": "execute_result"
    }
   ],
   "source": [
    "mean_squared_error(m.net.predict(Xb).ravel(),yb.ravel())"
   ]
  },
  {
   "cell_type": "code",
   "execution_count": 72,
   "metadata": {
    "collapsed": false
   },
   "outputs": [
    {
     "data": {
      "text/plain": [
       "3.0496205250770312"
      ]
     },
     "execution_count": 72,
     "metadata": {},
     "output_type": "execute_result"
    }
   ],
   "source": [
    "m.get_score_set('val')"
   ]
  },
  {
   "cell_type": "code",
   "execution_count": 60,
   "metadata": {
    "collapsed": true
   },
   "outputs": [],
   "source": [
    "from sklearn.metrics import mean_squared_error"
   ]
  },
  {
   "cell_type": "code",
   "execution_count": 62,
   "metadata": {
    "collapsed": false
   },
   "outputs": [
    {
     "data": {
      "text/plain": [
       "1.1146805659074293"
      ]
     },
     "execution_count": 62,
     "metadata": {},
     "output_type": "execute_result"
    }
   ],
   "source": [
    "mean_squared_error(m.net.predict(Xb),yb)"
   ]
  },
  {
   "cell_type": "markdown",
   "metadata": {},
   "source": [
    "# Test "
   ]
  },
  {
   "cell_type": "code",
   "execution_count": 11,
   "metadata": {
    "collapsed": false
   },
   "outputs": [],
   "source": [
    "config = parse_conf_file('/Users/cthorey/Documents/project/competition/fognet/models/ray/lstm/model_0/conf_model.json')"
   ]
  },
  {
   "cell_type": "code",
   "execution_count": 12,
   "metadata": {
    "collapsed": false
   },
   "outputs": [
    {
     "data": {
      "text/plain": [
       "{u'architecture': u'build_simple_lstm',\n",
       " u'batch_size': 25,\n",
       " u'build_ite': u'benchmark',\n",
       " u'continue_training': False,\n",
       " u'feats': [u'percip_mm',\n",
       "  u'humidity',\n",
       "  u'temp',\n",
       "  u'leafwet450_min',\n",
       "  u'leafwet460_min',\n",
       "  u'leafwet_lwscnt',\n",
       "  u'gusts_ms',\n",
       "  u'wind_dir',\n",
       "  u'wind_ms'],\n",
       " u'grad_clip': 1,\n",
       " u'hiddens': 60,\n",
       " u'loss_function': u'squared_error',\n",
       " u'lr': 0.0001,\n",
       " u'model': u'lstm',\n",
       " u'name': u'micro',\n",
       " u'nb_epochs': 1000,\n",
       " u'overwrite': True,\n",
       " u'patience': 25,\n",
       " u'pipe_kwargs': {u'MyImputer__strategy': u'mean'},\n",
       " u'pipe_list': [u'MyImputer', u'MyStandardScaler'],\n",
       " u'platform': u'ray',\n",
       " u'reg': 1e-06,\n",
       " u'root': u'/Users/cthorey/Documents/project/competition/fognet/models/ray/lstm/model_0',\n",
       " u'seq_length': 25,\n",
       " u'stride': 1,\n",
       " u'update_rule': u'adam',\n",
       " u'verbose': 11}"
      ]
     },
     "execution_count": 12,
     "metadata": {},
     "output_type": "execute_result"
    }
   ],
   "source": [
    "config"
   ]
  },
  {
   "cell_type": "code",
   "execution_count": null,
   "metadata": {
    "collapsed": true
   },
   "outputs": [],
   "source": [
    "a = {'b':2,'a':1}\n",
    "class D(object):\n",
    "    def __init__(self,a):\n",
    "        map(set)\n",
    "        "
   ]
  },
  {
   "cell_type": "code",
   "execution_count": 381,
   "metadata": {
    "collapsed": false
   },
   "outputs": [
    {
     "name": "stdout",
     "output_type": "stream",
     "text": [
      "Le train is composed by 21 group and 3738 observation\n",
      "Le val is composed by 8 group and 1112 observation\n",
      "Le test is composed by 5 group and 948 observation\n"
     ]
    }
   ],
   "source": [
    "pipeline = build_pipeline(config['pipe_list'], config['pipe_kwargs'])\n",
    "nb_features, batch_ite_train, batch_ite_val, batch_ite_test, batch_ite_pred = load_data(\n",
    "        name=config['name'],\n",
    "        feats=config['feats'],\n",
    "        build_ite=config['build_ite'],\n",
    "        pipeline=pipeline)\n",
    "model = importlib.import_module(\n",
    "        'model_defs.%s' % config['model'])\n",
    "builder = getattr(model, config['architecture'])\n",
    "architecture = builder(D=nb_features, H=config[\n",
    "        'hiddens'], grad_clip=config['grad_clip'])"
   ]
  },
  {
   "cell_type": "code",
   "execution_count": 385,
   "metadata": {
    "collapsed": false
   },
   "outputs": [
    {
     "name": "stdout",
     "output_type": "stream",
     "text": [
      "Loaded parameters to layer 'lstm' (shape 9x25).\n",
      "Loaded parameters to layer 'lstm' (shape 25x25).\n",
      "Loaded parameters to layer 'lstm' (shape 25).\n",
      "Loaded parameters to layer 'lstm' (shape 9x25).\n",
      "Loaded parameters to layer 'lstm' (shape 25x25).\n",
      "Loaded parameters to layer 'lstm' (shape 25).\n",
      "Loaded parameters to layer 'lstm' (shape 9x25).\n",
      "Loaded parameters to layer 'lstm' (shape 25x25).\n",
      "Loaded parameters to layer 'lstm' (shape 25).\n",
      "Loaded parameters to layer 'lstm' (shape 9x25).\n",
      "Loaded parameters to layer 'lstm' (shape 25x25).\n",
      "Loaded parameters to layer 'lstm' (shape 25).\n",
      "Loaded parameters to layer 'lstm' (shape 25).\n",
      "Loaded parameters to layer 'lstm' (shape 25).\n",
      "Loaded parameters to layer 'lstm' (shape 25).\n",
      "Loaded parameters to layer 'lstm' (shape 1x25).\n",
      "Loaded parameters to layer 'lstm' (shape 1x25).\n",
      "Loaded parameters to layer 'dense' (shape 25x1).\n",
      "Loaded parameters to layer 'dense' (shape 1).\n"
     ]
    }
   ],
   "source": [
    "net = NeuralNet(\n",
    "        layers=architecture,\n",
    "        regression=True,\n",
    "        objective_loss_function=getattr(\n",
    "            lasagne.objectives, config['loss_function']),\n",
    "        objective_l2=config['reg'],  # L2 regularization\n",
    "        update=getattr(lasagne.updates, config['update_rule']),\n",
    "        update_learning_rate=config['lr'],\n",
    "        batch_iterator_train=batch_ite_train,\n",
    "        batch_iterator_test=batch_ite_val,\n",
    "        verbose=config['verbose'],\n",
    "        max_epochs=10000,)\n",
    "net.initialize()\n",
    "net.load_params_from(config['model_fname'])\n",
    "with open(config['model_history_fname']) as f:\n",
    "    net.train_history_ = pickle.load(f)"
   ]
  },
  {
   "cell_type": "code",
   "execution_count": 388,
   "metadata": {
    "collapsed": false
   },
   "outputs": [
    {
     "data": {
      "text/plain": [
       "(3.0808924682517103, 5.8183123682635864)"
      ]
     },
     "execution_count": 388,
     "metadata": {},
     "output_type": "execute_result"
    }
   ],
   "source": [
    "net.get_score_whole_set('train'),net.get_score_whole_set('test')"
   ]
  },
  {
   "cell_type": "code",
   "execution_count": 389,
   "metadata": {
    "collapsed": true
   },
   "outputs": [],
   "source": [
    "from utils.hook import write_final_score"
   ]
  },
  {
   "cell_type": "code",
   "execution_count": 390,
   "metadata": {
    "collapsed": true
   },
   "outputs": [],
   "source": [
    "write_final_score(config,net)"
   ]
  },
  {
   "cell_type": "code",
   "execution_count": 395,
   "metadata": {
    "collapsed": true
   },
   "outputs": [],
   "source": [
    "from utils.prediction_utils import *"
   ]
  },
  {
   "cell_type": "code",
   "execution_count": 397,
   "metadata": {
    "collapsed": false
   },
   "outputs": [
    {
     "name": "stdout",
     "output_type": "stream",
     "text": [
      "Will write output to /Users/thorey/Documents/project/competition/fognet/models/lstm/model_3/h_25_rg_1e-07_lr_0.001/submissions_20160322_144424.csv\n"
     ]
    }
   ],
   "source": [
    "    final_pred = prediction(net, batch_ite_pred)\n",
    "    make_submission(config, final_pred)"
   ]
  },
  {
   "cell_type": "code",
   "execution_count": 440,
   "metadata": {
    "collapsed": true
   },
   "outputs": [],
   "source": [
    "def conf_generator(config, parameters_grids):\n",
    "\n",
    "    assert all([f in ['lr', 'reg', 'hiddens'] for f in parameters_grid.keys()])\n",
    "    product = [x for x in apply(itertools.product, parameters_grid.values())]\n",
    "    conf_runs = [dict(zip(parameters_grid.keys(), p)) for p in product]\n",
    "    for conf_run in conf_runs:\n",
    "        config.update(conf_run)\n",
    "        yield config"
   ]
  },
  {
   "cell_type": "code",
   "execution_count": 441,
   "metadata": {
    "collapsed": false
   },
   "outputs": [],
   "source": [
    "parameters_grid = {'lr':np.arange(1,10,1),\n",
    "                  'reg':np.arange(1,10,1),\n",
    "                  'hiddens':np.arange(1,10,1)}"
   ]
  },
  {
   "cell_type": "code",
   "execution_count": 435,
   "metadata": {
    "collapsed": true
   },
   "outputs": [],
   "source": [
    "    parameters_grid = {'lr': np.logspace(-7, -1, num=20),\n",
    "                       'reg': np.logspace(-7, -1, num=20),\n",
    "                       'hiddens': range(25, 525, 25)}\n",
    "    confs = conf_generator(config, parameters_grid)"
   ]
  },
  {
   "cell_type": "code",
   "execution_count": 437,
   "metadata": {
    "collapsed": true
   },
   "outputs": [],
   "source": [
    "import multiprocessing"
   ]
  },
  {
   "cell_type": "code",
   "execution_count": 438,
   "metadata": {
    "collapsed": false
   },
   "outputs": [
    {
     "data": {
      "text/plain": [
       "4"
      ]
     },
     "execution_count": 438,
     "metadata": {},
     "output_type": "execute_result"
    }
   ],
   "source": [
    "multiprocessing.cpu_count()"
   ]
  },
  {
   "cell_type": "code",
   "execution_count": 434,
   "metadata": {
    "collapsed": false
   },
   "outputs": [
    {
     "name": "stdout",
     "output_type": "stream",
     "text": [
      "2\n",
      "2\n",
      "2\n",
      "2\n",
      "2\n",
      "2\n",
      "3\n",
      "3\n",
      "3\n",
      "3\n",
      "3\n",
      "3\n"
     ]
    },
    {
     "ename": "SystemExit",
     "evalue": "",
     "output_type": "error",
     "traceback": [
      "An exception has occurred, use %tb to see the full traceback.\n",
      "\u001b[0;31mSystemExit\u001b[0m\n"
     ]
    },
    {
     "name": "stderr",
     "output_type": "stream",
     "text": [
      "To exit: use 'exit', 'quit', or Ctrl-D.\n"
     ]
    }
   ],
   "source": [
    "for i,elt in enumerate(confs):\n",
    "    print(elt['lr'])\n",
    "    if i>10:\n",
    "        sys.exit()"
   ]
  },
  {
   "cell_type": "code",
   "execution_count": 439,
   "metadata": {
    "collapsed": true
   },
   "outputs": [],
   "source": [
    "\n",
    "from multiprocessing import Pool "
   ]
  },
  {
   "cell_type": "code",
   "execution_count": 449,
   "metadata": {
    "collapsed": false
   },
   "outputs": [
    {
     "data": {
      "text/plain": [
       "{'hiddens': array([1, 2, 3, 4, 5, 6, 7, 8, 9]),\n",
       " 'lr': array([1, 2, 3, 4, 5, 6, 7, 8, 9]),\n",
       " 'reg': array([1, 2, 3, 4, 5, 6, 7, 8, 9])}"
      ]
     },
     "execution_count": 449,
     "metadata": {},
     "output_type": "execute_result"
    }
   ],
   "source": [
    "parameters_grid"
   ]
  },
  {
   "cell_type": "code",
   "execution_count": 453,
   "metadata": {
    "collapsed": false
   },
   "outputs": [],
   "source": [
    "def test(config):\n",
    "    print(config['lr'],config['reg'],config['hiddens'])"
   ]
  },
  {
   "cell_type": "code",
   "execution_count": null,
   "metadata": {
    "collapsed": true
   },
   "outputs": [],
   "source": [
    "def conf_generator(config, parameters_grids):\n",
    "\n",
    "    assert all([f in ['lr', 'reg', 'hiddens'] for f in parameters_grid.keys()])\n",
    "    product = [x for x in apply(itertools.product, parameters_grid.values())]\n",
    "    conf_runs = [dict(zip(parameters_grid.keys(), p)) for p in product]\n",
    "    for conf_run in conf_runs:\n",
    "        config.update(conf_run)\n",
    "        yield config"
   ]
  },
  {
   "cell_type": "code",
   "execution_count": 459,
   "metadata": {
    "collapsed": false
   },
   "outputs": [
    {
     "name": "stdout",
     "output_type": "stream",
     "text": [
      "9 9 9\n",
      "9 9 9\n",
      "9 9 9\n",
      "9 9 9\n",
      "9 9 9\n",
      "9 9 9\n",
      "9 9 9\n",
      "9 9 9\n",
      "9 9 9\n",
      "9 9 9\n",
      "9 9 9\n",
      "9 9 9\n",
      "9 9 9\n",
      "9 9 9\n",
      "9 9 9\n",
      "9 9 9\n",
      "9 9 9\n",
      "9 9 9\n",
      "9 9 9\n",
      "9 9 9\n",
      "9 9 9\n",
      "9 9 9\n",
      "9 9 9\n",
      "9 9 9\n",
      "9 9 9\n",
      "9 9 9\n",
      "9 9 9\n",
      "9 9 9\n",
      "9 9 9\n",
      "9 9 9\n",
      "9 9 9\n",
      "9 9 9\n",
      "9 9 9\n",
      "9 9 9\n",
      "9 9 9\n",
      "9 9 9\n",
      "9 9 9\n",
      "9 9 9\n",
      "9 9 9\n",
      "9 9 9\n",
      "9 9 9\n",
      "9 9 9\n",
      "9 9 9\n",
      "9 9 9\n",
      "9 9 9\n",
      "9 9 9\n",
      "9 9 9\n",
      "9 9 9\n",
      "9 9 9\n",
      "9 9 9\n",
      "9 9 9\n",
      "9 9 9\n",
      "9 9 9\n",
      "9 9 9\n",
      "9 9 9\n",
      "9 9 9\n",
      "9 9 9\n",
      "9 9 9\n",
      "9 9 9\n",
      "9 9 9\n",
      "9 9 9\n",
      "9 9 9\n",
      "9 9 9\n",
      "9 9 9\n",
      "9 9 9\n",
      "9 9 9\n",
      "9 9 9\n",
      "9 9 9\n",
      "9 9 9\n",
      "9 9 9\n",
      "9 9 9\n",
      "9 9 9\n",
      "9 9 9\n",
      "9 9 9\n",
      "9 9 9\n",
      "9 9 9\n",
      "9 9 9\n",
      "9 9 9\n",
      "9 9 9\n",
      "9 9 9\n",
      "9 9 9\n",
      "9 9 9\n",
      "9 9 9\n",
      "9 9 9\n",
      "9 9 9\n",
      "9 9 9\n",
      "9 9 9\n",
      "9 9 9\n",
      "9 9 9\n",
      "9 9 9\n",
      "9 9 9\n",
      "9 9 9\n",
      "9 9 9\n",
      "9 9 9\n",
      "9 9 9\n",
      "9 9 9\n",
      "9 9 9\n",
      "9 9 9\n",
      "9 9 9\n",
      "9 9 9\n",
      "9 9 9\n",
      "9 9 9\n",
      "9 9 9\n",
      "9 9 9\n",
      "9 9 9\n",
      "9 9 9\n",
      "9 9 9\n",
      "9 9 9\n",
      "9 9 9\n",
      "9 9 9\n",
      "9 9 9\n",
      "9 9 9\n",
      "9 9 9\n",
      "9 9 9\n",
      "9 9 9\n",
      "9 9 9\n",
      "9 9 9\n",
      "9 9 9\n",
      "9 9 9\n",
      "9 9 9\n",
      "9 9 9\n",
      "9 9 9\n",
      "9 9 9\n",
      "9 9 9\n",
      "9 9 9\n",
      "9 9 9\n",
      "9 9 9\n",
      "9 9 9\n",
      "9 9 9\n",
      "9 9 9\n",
      "9 9 9\n",
      "9 9 9\n",
      "9 9 9\n",
      "9 9 9\n",
      "9 9 9\n",
      "9 9 9\n",
      "9 9 9\n",
      "9 9 9\n",
      "9 9 9\n",
      "9 9 9\n",
      "9 9 9\n",
      "9 9 9\n",
      "9 9 9\n",
      "9 9 9\n",
      "9 9 9\n",
      "9 9 9\n",
      "9 9 9\n",
      "9 9 9\n",
      "9 9 9\n",
      "9 9 9\n",
      "9 9 9\n",
      "9 9 9\n",
      "9 9 9\n",
      "9 9 9\n",
      "9 9 9\n",
      "9 9 9\n",
      "9 9 9\n",
      "9 9 9\n",
      "9 9 9\n",
      "9 9 9\n",
      "9 9 9\n",
      "9 9 9\n",
      "9 9 9\n",
      "9 9 9\n",
      "9 9 9\n",
      "9 9 9\n",
      "9 9 9\n",
      "9 9 9\n",
      "9 9 9\n",
      "9 9 9\n",
      "9 9 9\n",
      "9 9 9\n",
      "9 9 9\n",
      "9 9 9\n",
      "9 9 9\n",
      "9 9 9\n",
      "9 9 9\n",
      "9 9 9\n",
      "9 9 9\n",
      "9 9 9\n",
      "9 9 9\n",
      "9 9 9\n",
      "9 9 9\n",
      "9 9 9\n",
      "9 9 9\n",
      "9 9 9\n",
      "9 9 9\n",
      "9 9 9\n",
      "9 9 9\n",
      "9 9 9\n",
      "9 9 9\n",
      "9 9 9\n",
      "9 9 9\n",
      "9 9 9\n",
      "9 9 9\n",
      "9 9 9\n",
      "9 9 9\n",
      "9 9 9\n",
      "9 9 9\n",
      "9 9 9\n",
      "9 9 9\n",
      "9 9 9\n",
      "9 9 9\n",
      "9 9 9\n",
      "9 9 9\n",
      "9 9 9\n",
      "9 9 9\n",
      "9 9 9\n",
      "9 9 9\n",
      "9 9 9\n",
      "9 9 9\n",
      "9 9 9\n",
      "9 9 9\n",
      "9 9 9\n",
      "9 9 9\n",
      "9 9 9\n",
      "9 9 9\n"
     ]
    }
   ],
   "source": [
    "for elt in confs:\n",
    "    print(elt)"
   ]
  },
  {
   "cell_type": "code",
   "execution_count": 457,
   "metadata": {
    "collapsed": true
   },
   "outputs": [],
   "source": [
    "confs = conf_generator(config,parameters_grid)"
   ]
  },
  {
   "cell_type": "code",
   "execution_count": 458,
   "metadata": {
    "collapsed": false
   },
   "outputs": [
    {
     "name": "stdout",
     "output_type": "stream",
     "text": [
      "9 9 9\n",
      "9 9 9\n",
      "9 9 9\n",
      "9 9 9\n",
      "9 9 9\n",
      "9 9 9\n",
      "9 9 9\n",
      "9 9 9\n",
      "9 9 9\n",
      "9 9 9\n",
      "9 9 9\n",
      "9 9 9\n",
      "9 9 9\n",
      "9 9 9\n",
      "9 9 9\n",
      "9 9 9\n",
      "9 9 9\n",
      "9 9 9\n",
      "9 9 9\n",
      "9 9 9\n",
      "9 9 9\n",
      "9 9 9\n",
      "9 9 9\n",
      "9 9 9\n",
      "9 9 9\n",
      "9 9 9\n",
      "9 9 9\n",
      "9 9 9\n",
      "9 9 9\n",
      "9 9 9\n",
      "9 9 9\n",
      "9 9 9\n",
      "9 9 9\n",
      "9 9 9\n",
      "9 9 9\n",
      "9 9 9\n",
      "9 9 9\n",
      "9 9 9\n",
      "9 9 9\n",
      "9 9 9\n",
      "9 9 9\n",
      "9 9 9\n",
      "9 9 9\n",
      "9 9 9\n",
      "9 9 9\n",
      "9 9 9\n",
      "9 9 9\n",
      "9 9 9\n",
      "9 9 9\n",
      "9 9 9\n",
      "9 9 9\n",
      "9 9 9\n",
      "9 9 9\n",
      "9 9 9\n",
      "9 9 9\n",
      "9 9 9\n",
      "9 9 9\n",
      "9 9 9\n",
      "9 9 9\n",
      "9 9 9\n",
      "9 9 9\n",
      "9 9 9\n",
      "9 9 9\n",
      "9 9 9\n",
      "9 9 9\n",
      "9 9 9\n",
      "9 9 9\n",
      "9 9 9\n",
      "9 9 9\n",
      "9 9 9\n",
      "9 9 9\n",
      "9 9 9\n",
      "9 9 9\n",
      "9 9 9\n",
      "9 9 9\n",
      "9 9 9\n",
      "9 9 9\n",
      "9 9 9\n",
      "9 9 9\n",
      "9 9 9\n",
      "9 9 9\n",
      "9 9 9\n",
      "9 9 9\n",
      "9 9 9\n",
      "9 9 9\n",
      "9 9 9\n",
      "9 9 9\n",
      "9 9 9\n",
      "9 9 9\n",
      "9 9 9\n",
      "9 9 9\n",
      "9 9 9\n",
      "9 9 9\n",
      "9 9 9\n",
      "9 9 9\n",
      "9 9 9\n",
      "9 9 9\n",
      "9 9 9\n",
      "9 9 9\n",
      "9 9 9\n",
      "9 9 9\n",
      "9 9 9\n",
      "9 9 9\n",
      "9 9 9\n",
      "9 9 9\n",
      "9 9 9\n",
      "9 9 9\n",
      "9 9 9\n",
      "9 9 9\n",
      "9 9 9\n",
      "9 9 9\n",
      "9 9 9\n",
      "9 9 9\n",
      "9 9 9\n",
      "9 9 9\n",
      "9 9 9\n",
      "9 9 9\n",
      "9 9 9\n",
      "9 9 9\n",
      "9 9 9\n",
      "9 9 9\n",
      "9 9 9\n",
      "9 9 9\n",
      "9 9 9\n",
      "9 9 9\n",
      "9 9 9\n",
      "9 9 9\n",
      "9 9 9\n",
      "9 9 9\n",
      "9 9 9\n",
      "9 9 9\n",
      "9 9 9\n",
      "9 9 9\n",
      "9 9 9\n",
      "9 9 9\n",
      "9 9 9\n",
      "9 9 9\n",
      "9 9 9\n",
      "9 9 9\n",
      "9 9 9\n",
      "9 9 9\n",
      "9 9 9\n",
      "9 9 9\n",
      "9 9 9\n",
      "9 9 9\n",
      "9 9 9\n",
      "9 9 9\n",
      "9 9 9\n",
      "9 9 9\n",
      "9 9 9\n",
      "9 9 9\n",
      "9 9 9\n",
      "9 9 9\n",
      "9 9 9\n",
      "9 9 9\n",
      "9 9 9\n",
      "9 9 9\n",
      "9 9 9\n",
      "9 9 9\n",
      "9 9 9\n",
      "9 9 9\n",
      "9 9 9\n",
      "9 9 9\n",
      "9 9 9\n",
      "9 9 9\n",
      "9 9 9\n",
      "9 9 9\n",
      "9 9 9\n",
      "9 9 9\n",
      "9 9 9\n",
      "9 9 9\n",
      "9 9 9\n",
      "9 9 9\n",
      "9 9 9\n",
      "9 9 9\n",
      "9 9 9\n",
      "9 9 9\n",
      "9 9 9\n",
      "9 9 9\n",
      "9 9 9\n",
      "9 9 9\n",
      "9 9 9\n",
      "9 9 9\n",
      "9 9 9\n",
      "9 9 9\n",
      "9 9 9\n",
      "9 9 9\n",
      "9 9 9\n",
      "9 9 9\n",
      "9 9 9\n",
      "9 9 9\n",
      "9 9 9\n",
      "9 9 9\n",
      "9 9 9\n",
      "9 9 9\n",
      "9 9 9\n",
      "9 9 9\n",
      "9 9 9\n",
      "9 9 9\n",
      "9 9 9\n",
      "9 9 9\n",
      "9 9 9\n",
      "9 9 9\n",
      "9 9 9\n",
      "9 9 9\n",
      "9 9 9\n",
      "9 9 9\n",
      "9 9 9\n",
      "9 9 9\n",
      "9 9 9\n",
      "9 9 9\n",
      "9 9 9\n",
      "9 9 9\n",
      "9 9 9\n",
      "9 9 9\n",
      "9 9 9\n",
      "9 9 9\n",
      "9 9 9\n",
      "9 9 9\n",
      "9 9 9\n",
      "9 9 9\n",
      "9 9 9\n",
      "9 9 9\n",
      "9 9 9\n",
      "9 9 9\n",
      "9 9 9\n",
      "9 9 9\n",
      "9 9 9\n",
      "9 9 9\n",
      "9 9 9\n",
      "9 9 9\n",
      "9 9 9\n",
      "9 9 9\n",
      "9 9 9\n",
      "9 9 9\n",
      "9 9 9\n",
      "9 9 9\n",
      "9 9 9\n",
      "9 9 9\n",
      "9 9 9\n",
      "9 9 9\n",
      "9 9 9\n",
      "9 9 9\n",
      "9 9 9\n",
      "9 9 9\n",
      "9 9 9\n",
      "9 9 9\n",
      "9 9 9\n",
      "9 9 9\n",
      "9 9 9\n",
      "9 9 9\n",
      "9 9 9\n",
      "9 9 9\n",
      "9 9 9\n",
      "9 9 9\n",
      "9 9 9\n",
      "9 9 9\n",
      "9 9 9\n",
      "9 9 9\n",
      "9 9 9\n",
      "9 9 9\n",
      "9 9 9\n",
      "9 9 9\n",
      "9 9 9\n",
      "9 9 9\n",
      "9 9 9\n",
      "9 9 9\n",
      "9 9 9\n",
      "9 9 9\n",
      "9 9 9\n",
      "9 9 9\n",
      "9 9 9\n",
      "9 9 9\n",
      "9 9 9\n",
      "9 9 9\n",
      "9 9 9\n",
      "9 9 9\n",
      "9 9 9\n",
      "9 9 9\n",
      "9 9 9\n",
      "9 9 9\n",
      "9 9 9\n",
      "9 9 9\n",
      "9 9 9\n",
      "9 9 9\n",
      "9 9 9\n",
      "9 9 9\n",
      "9 9 9\n",
      "9 9 9\n",
      "9 9 9\n",
      "9 9 9\n",
      "9 9 9\n",
      "9 9 9\n",
      "9 9 9\n",
      "9 9 9\n",
      "9 9 9\n",
      "9 9 9\n",
      "9 9 9\n",
      "9 9 9\n",
      "9 9 9\n",
      "9 9 9\n",
      "9 9 9\n",
      "9 9 9\n",
      "9 9 9\n",
      "9 9 9\n",
      "9 9 9\n",
      "9 9 9\n",
      "9 9 9\n",
      "9 9 9\n",
      "9 9 9\n",
      "9 9 9\n",
      "9 9 9\n",
      "9 9 9\n",
      "9 9 9\n",
      "9 9 9\n",
      "9 9 9\n",
      "9 9 9\n",
      "9 9 9\n",
      "9 9 9\n",
      "9 9 9\n",
      "9 9 9\n",
      "9 9 9\n",
      "9 9 9\n",
      "9 9 9\n",
      "9 9 9\n",
      "9 9 9\n",
      "9 9 9\n",
      "9 9 9\n",
      "9 9 9\n",
      "9 9 9\n",
      "9 9 9\n",
      "9 9 9\n",
      "9 9 9\n",
      "9 9 9\n",
      "9 9 9\n",
      "9 9 9\n",
      "9 9 9\n",
      "9 9 9\n",
      "9 9 9\n",
      "9 9 9\n",
      "9 9 9\n",
      "9 9 9\n",
      "9 9 9\n",
      "9 9 9\n",
      "9 9 9\n",
      "9 9 9\n",
      "9 9 9\n",
      "9 9 9\n",
      "9 9 9\n",
      "9 9 9\n",
      "9 9 9\n",
      "9 9 9\n",
      "9 9 9\n",
      "9 9 9\n",
      "9 9 9\n",
      "9 9 9\n",
      "9 9 9\n",
      "9 9 9\n",
      "9 9 9\n",
      "9 9 9\n",
      "9 9 9\n",
      "9 9 9\n",
      "9 9 9\n",
      "9 9 9\n",
      "9 9 9\n",
      "9 9 9\n",
      "9 9 9\n",
      "9 9 9\n",
      "9 9 9\n",
      "9 9 9\n",
      "9 9 9\n",
      "9 9 9\n",
      "9 9 9\n",
      "9 9 9\n",
      "9 9 9\n",
      "9 9 9\n",
      "9 9 9\n",
      "9 9 9\n",
      "9 9 9\n",
      "9 9 9\n",
      "9 9 9\n",
      "9 9 9\n",
      "9 9 9\n",
      "9 9 9\n",
      "9 9 9\n",
      "9 9 9\n",
      "9 9 9\n",
      "9 9 9\n",
      "9 9 9\n",
      "9 9 9\n",
      "9 9 9\n",
      "9 9 9\n",
      "9 9 9\n",
      "9 9 9\n",
      "9 9 9\n",
      "9 9 9\n",
      "9 9 9\n",
      "9 9 9\n",
      "9 9 9\n",
      "9 9 9\n",
      "9 9 9\n",
      "9 9 9\n",
      "9 9 9\n",
      "9 9 9\n",
      "9 9 9\n",
      "9 9 9\n",
      "9 9 9\n",
      "9 9 9\n",
      "9 9 9\n",
      "9 9 9\n",
      "9 9 9\n",
      "9 9 9\n",
      "9 9 9\n",
      "9 9 9\n",
      "9 9 9\n",
      "9 9 9\n",
      "9 9 9\n",
      "9 9 9\n",
      "9 9 9\n",
      "9 9 9\n",
      "9 9 9\n",
      "9 9 9\n",
      "9 9 9\n",
      "9 9 9\n",
      "9 9 9\n",
      "9 9 9\n",
      "9 9 9\n",
      "9 9 9\n",
      "9 9 9\n",
      "9 9 9\n",
      "9 9 9\n",
      "9 9 9\n",
      "9 9 9\n",
      "9 9 9\n",
      "9 9 9\n",
      "9 9 9\n",
      "9 9 9\n",
      "9 9 9\n",
      "9 9 9\n",
      "9 9 9\n",
      "9 9 9\n",
      "9 9 9\n",
      "9 9 9\n",
      "9 9 9\n",
      "9 9 9\n",
      "9 9 9\n",
      "9 9 9\n",
      "9 9 9\n",
      "9 9 9\n",
      "9 9 9\n",
      "9 9 9\n",
      "9 9 9\n",
      "9 9 9\n",
      "9 9 9\n",
      "9 9 9\n",
      "9 9 9\n",
      "9 9 9\n",
      "9 9 9\n",
      "9 9 9\n",
      "9 9 9\n",
      "9 9 9\n",
      "9 9 9\n",
      "9 9 9\n",
      "9 9 9\n",
      "9 9 9\n",
      "9 9 9\n",
      "9 9 9\n",
      "9 9 9\n",
      "9 9 9\n",
      "9 9 9\n",
      "9 9 9\n",
      "9 9 9\n",
      "9 9 9\n",
      "9 9 9\n",
      "9 9 9\n",
      "9 9 9\n",
      "9 9 9\n",
      "9 9 9\n",
      "9 9 9\n",
      "9 9 9\n",
      "9 9 9\n",
      "9 9 9\n",
      "9 9 9\n",
      "9 9 9\n",
      "9 9 9\n",
      "9 9 9\n",
      "9 9 9\n",
      "9 9 9\n",
      "9 9 9\n",
      "9 9 9\n",
      "9 9 9\n",
      "9 9 9\n",
      "9 9 9\n",
      "9 9 9\n",
      "9 9 9\n",
      "9 9 9\n",
      "9 9 9\n",
      "9 9 9\n",
      "9 9 9\n",
      "9 9 9\n",
      "9 9 9\n",
      "9 9 9\n",
      "9 9 9\n",
      "9 9 9\n",
      "9 9 9\n",
      "9 9 9\n",
      "9 9 9\n",
      "9 9 9\n",
      "9 9 9\n",
      "9 9 9\n",
      "9 9 9\n",
      "9 9 9\n"
     ]
    }
   ],
   "source": [
    "pool = Pool()\n",
    "pool.map(test, confs)\n",
    "pool.close() \n",
    "pool.join()"
   ]
  },
  {
   "cell_type": "code",
   "execution_count": 476,
   "metadata": {
    "collapsed": true
   },
   "outputs": [],
   "source": [
    "    parameters_grid = {'lr': np.logspace(-3, -2, num=2),\n",
    "                       'reg': [1e-7],\n",
    "                       'hiddens': [25, 1,50]}"
   ]
  },
  {
   "cell_type": "code",
   "execution_count": 523,
   "metadata": {
    "collapsed": true
   },
   "outputs": [],
   "source": [
    "class MyDict(dict):\n",
    "\n",
    "    def update(self, *args):\n",
    "        dict.update(self, *args)\n",
    "        return self"
   ]
  },
  {
   "cell_type": "code",
   "execution_count": 546,
   "metadata": {
    "collapsed": true
   },
   "outputs": [],
   "source": [
    "def conf_generator(config, parameters_grids):\n",
    "\n",
    "    assert all([f in ['lr', 'reg', 'hiddens'] for f in parameters_grid.keys()])\n",
    "    product = [x for x in apply(itertools.product, parameters_grid.values())]\n",
    "    conf_runs = [dict(zip(parameters_grid.keys(), p)) for p in product]\n",
    "    confs = map(lambda d: update_dict(config, d), conf_runs)\n",
    "    return confs\n"
   ]
  },
  {
   "cell_type": "code",
   "execution_count": 548,
   "metadata": {
    "collapsed": false
   },
   "outputs": [],
   "source": [
    "confs = conf_generator(config,parameters_grid)"
   ]
  },
  {
   "cell_type": "code",
   "execution_count": 549,
   "metadata": {
    "collapsed": false
   },
   "outputs": [
    {
     "name": "stdout",
     "output_type": "stream",
     "text": [
      "0.001 25 1e-07\n",
      "0.01 25 1e-07\n",
      "0.001 1 1e-07\n",
      "0.01 1 1e-07\n",
      "0.001 50 1e-07\n",
      "0.01 50 1e-07\n"
     ]
    }
   ],
   "source": [
    "for elt in confs:\n",
    "    print(elt['lr'],elt['hiddens'],elt['reg'])"
   ]
  },
  {
   "cell_type": "code",
   "execution_count": 515,
   "metadata": {
    "collapsed": true
   },
   "outputs": [],
   "source": [
    "def worker(elt):\n",
    "    print(elt['lr'],elt['hiddens'],elt['reg'])"
   ]
  },
  {
   "cell_type": "code",
   "execution_count": 550,
   "metadata": {
    "collapsed": false
   },
   "outputs": [
    {
     "name": "stdout",
     "output_type": "stream",
     "text": [
      "0.001 25 1e-07\n",
      "0.01 25 1e-07\n",
      "0.001 1 1e-07\n",
      "0.01 1 1e-07\n",
      "0.001 50 1e-07\n",
      "0.01 50 1e-07\n"
     ]
    }
   ],
   "source": [
    "confs = conf_generator(config,parameters_grid)\n",
    "pool = Pool()\n",
    "pool.map(worker, ite)\n",
    "pool.close()\n",
    "pool.join()"
   ]
  },
  {
   "cell_type": "code",
   "execution_count": 494,
   "metadata": {
    "collapsed": false
   },
   "outputs": [],
   "source": [
    "class myDict(dict):\n",
    "    def update(self, *args):\n",
    "    \tdict.update(self, *args)\n",
    "    \treturn self"
   ]
  },
  {
   "cell_type": "code",
   "execution_count": 496,
   "metadata": {
    "collapsed": false
   },
   "outputs": [],
   "source": [
    "myconfig = myDict(config)"
   ]
  },
  {
   "cell_type": "code",
   "execution_count": 498,
   "metadata": {
    "collapsed": false
   },
   "outputs": [
    {
     "data": {
      "text/plain": [
       "[{u'architecture': u'build_simple_lstm',\n",
       "  u'build_ite': u'benchmark',\n",
       "  u'conf': u'../models/lstm/model_3/conf_model.json',\n",
       "  u'continue_training': False,\n",
       "  u'feats': [u'percip_mm',\n",
       "   u'humidity',\n",
       "   u'temp',\n",
       "   u'leafwet450_min',\n",
       "   u'leafwet460_min',\n",
       "   u'leafwet_lwscnt',\n",
       "   u'gusts_ms',\n",
       "   u'wind_dir',\n",
       "   u'wind_ms'],\n",
       "  u'folder': u'/Users/thorey/Documents/project/competition/fognet/models/lstm/model_3/h_25_rg_1e-07_lr_0.001',\n",
       "  u'grad_clip': 50,\n",
       "  u'hiddens': 50,\n",
       "  u'loss_function': u'squared_error',\n",
       "  u'lr': 0.01,\n",
       "  u'model': u'lstm',\n",
       "  u'model_fname': u'/Users/thorey/Documents/project/competition/fognet/models/lstm/model_3/h_25_rg_1e-07_lr_0.001/model.pkl',\n",
       "  u'model_graph_fname': u'/Users/thorey/Documents/project/competition/fognet/models/lstm/model_3/h_25_rg_1e-07_lr_0.001/model_history.png',\n",
       "  u'model_history_fname': u'/Users/thorey/Documents/project/competition/fognet/models/lstm/model_3/h_25_rg_1e-07_lr_0.001/model_history.pkl',\n",
       "  u'model_name': u'h_25_rg_1e-07_lr_0.001',\n",
       "  u'name': u'micro',\n",
       "  u'nb_epochs': 1000,\n",
       "  u'overwrite': True,\n",
       "  u'patience': 15,\n",
       "  u'pipe_kwargs': {u'MyImputer__strategy': u'mean'},\n",
       "  u'pipe_list': [u'MyImputer', u'MyStandardScaler'],\n",
       "  u'reg': 1e-07,\n",
       "  u'root': u'/Users/thorey/Documents/project/competition/fognet/models/lstm/model_3',\n",
       "  u'time': u'20160322_134638',\n",
       "  u'update_rule': u'adam',\n",
       "  u'verbose': 11},\n",
       " {u'architecture': u'build_simple_lstm',\n",
       "  u'build_ite': u'benchmark',\n",
       "  u'conf': u'../models/lstm/model_3/conf_model.json',\n",
       "  u'continue_training': False,\n",
       "  u'feats': [u'percip_mm',\n",
       "   u'humidity',\n",
       "   u'temp',\n",
       "   u'leafwet450_min',\n",
       "   u'leafwet460_min',\n",
       "   u'leafwet_lwscnt',\n",
       "   u'gusts_ms',\n",
       "   u'wind_dir',\n",
       "   u'wind_ms'],\n",
       "  u'folder': u'/Users/thorey/Documents/project/competition/fognet/models/lstm/model_3/h_25_rg_1e-07_lr_0.001',\n",
       "  u'grad_clip': 50,\n",
       "  u'hiddens': 50,\n",
       "  u'loss_function': u'squared_error',\n",
       "  u'lr': 0.01,\n",
       "  u'model': u'lstm',\n",
       "  u'model_fname': u'/Users/thorey/Documents/project/competition/fognet/models/lstm/model_3/h_25_rg_1e-07_lr_0.001/model.pkl',\n",
       "  u'model_graph_fname': u'/Users/thorey/Documents/project/competition/fognet/models/lstm/model_3/h_25_rg_1e-07_lr_0.001/model_history.png',\n",
       "  u'model_history_fname': u'/Users/thorey/Documents/project/competition/fognet/models/lstm/model_3/h_25_rg_1e-07_lr_0.001/model_history.pkl',\n",
       "  u'model_name': u'h_25_rg_1e-07_lr_0.001',\n",
       "  u'name': u'micro',\n",
       "  u'nb_epochs': 1000,\n",
       "  u'overwrite': True,\n",
       "  u'patience': 15,\n",
       "  u'pipe_kwargs': {u'MyImputer__strategy': u'mean'},\n",
       "  u'pipe_list': [u'MyImputer', u'MyStandardScaler'],\n",
       "  u'reg': 1e-07,\n",
       "  u'root': u'/Users/thorey/Documents/project/competition/fognet/models/lstm/model_3',\n",
       "  u'time': u'20160322_134638',\n",
       "  u'update_rule': u'adam',\n",
       "  u'verbose': 11},\n",
       " {u'architecture': u'build_simple_lstm',\n",
       "  u'build_ite': u'benchmark',\n",
       "  u'conf': u'../models/lstm/model_3/conf_model.json',\n",
       "  u'continue_training': False,\n",
       "  u'feats': [u'percip_mm',\n",
       "   u'humidity',\n",
       "   u'temp',\n",
       "   u'leafwet450_min',\n",
       "   u'leafwet460_min',\n",
       "   u'leafwet_lwscnt',\n",
       "   u'gusts_ms',\n",
       "   u'wind_dir',\n",
       "   u'wind_ms'],\n",
       "  u'folder': u'/Users/thorey/Documents/project/competition/fognet/models/lstm/model_3/h_25_rg_1e-07_lr_0.001',\n",
       "  u'grad_clip': 50,\n",
       "  u'hiddens': 50,\n",
       "  u'loss_function': u'squared_error',\n",
       "  u'lr': 0.01,\n",
       "  u'model': u'lstm',\n",
       "  u'model_fname': u'/Users/thorey/Documents/project/competition/fognet/models/lstm/model_3/h_25_rg_1e-07_lr_0.001/model.pkl',\n",
       "  u'model_graph_fname': u'/Users/thorey/Documents/project/competition/fognet/models/lstm/model_3/h_25_rg_1e-07_lr_0.001/model_history.png',\n",
       "  u'model_history_fname': u'/Users/thorey/Documents/project/competition/fognet/models/lstm/model_3/h_25_rg_1e-07_lr_0.001/model_history.pkl',\n",
       "  u'model_name': u'h_25_rg_1e-07_lr_0.001',\n",
       "  u'name': u'micro',\n",
       "  u'nb_epochs': 1000,\n",
       "  u'overwrite': True,\n",
       "  u'patience': 15,\n",
       "  u'pipe_kwargs': {u'MyImputer__strategy': u'mean'},\n",
       "  u'pipe_list': [u'MyImputer', u'MyStandardScaler'],\n",
       "  u'reg': 1e-07,\n",
       "  u'root': u'/Users/thorey/Documents/project/competition/fognet/models/lstm/model_3',\n",
       "  u'time': u'20160322_134638',\n",
       "  u'update_rule': u'adam',\n",
       "  u'verbose': 11},\n",
       " {u'architecture': u'build_simple_lstm',\n",
       "  u'build_ite': u'benchmark',\n",
       "  u'conf': u'../models/lstm/model_3/conf_model.json',\n",
       "  u'continue_training': False,\n",
       "  u'feats': [u'percip_mm',\n",
       "   u'humidity',\n",
       "   u'temp',\n",
       "   u'leafwet450_min',\n",
       "   u'leafwet460_min',\n",
       "   u'leafwet_lwscnt',\n",
       "   u'gusts_ms',\n",
       "   u'wind_dir',\n",
       "   u'wind_ms'],\n",
       "  u'folder': u'/Users/thorey/Documents/project/competition/fognet/models/lstm/model_3/h_25_rg_1e-07_lr_0.001',\n",
       "  u'grad_clip': 50,\n",
       "  u'hiddens': 50,\n",
       "  u'loss_function': u'squared_error',\n",
       "  u'lr': 0.01,\n",
       "  u'model': u'lstm',\n",
       "  u'model_fname': u'/Users/thorey/Documents/project/competition/fognet/models/lstm/model_3/h_25_rg_1e-07_lr_0.001/model.pkl',\n",
       "  u'model_graph_fname': u'/Users/thorey/Documents/project/competition/fognet/models/lstm/model_3/h_25_rg_1e-07_lr_0.001/model_history.png',\n",
       "  u'model_history_fname': u'/Users/thorey/Documents/project/competition/fognet/models/lstm/model_3/h_25_rg_1e-07_lr_0.001/model_history.pkl',\n",
       "  u'model_name': u'h_25_rg_1e-07_lr_0.001',\n",
       "  u'name': u'micro',\n",
       "  u'nb_epochs': 1000,\n",
       "  u'overwrite': True,\n",
       "  u'patience': 15,\n",
       "  u'pipe_kwargs': {u'MyImputer__strategy': u'mean'},\n",
       "  u'pipe_list': [u'MyImputer', u'MyStandardScaler'],\n",
       "  u'reg': 1e-07,\n",
       "  u'root': u'/Users/thorey/Documents/project/competition/fognet/models/lstm/model_3',\n",
       "  u'time': u'20160322_134638',\n",
       "  u'update_rule': u'adam',\n",
       "  u'verbose': 11},\n",
       " {u'architecture': u'build_simple_lstm',\n",
       "  u'build_ite': u'benchmark',\n",
       "  u'conf': u'../models/lstm/model_3/conf_model.json',\n",
       "  u'continue_training': False,\n",
       "  u'feats': [u'percip_mm',\n",
       "   u'humidity',\n",
       "   u'temp',\n",
       "   u'leafwet450_min',\n",
       "   u'leafwet460_min',\n",
       "   u'leafwet_lwscnt',\n",
       "   u'gusts_ms',\n",
       "   u'wind_dir',\n",
       "   u'wind_ms'],\n",
       "  u'folder': u'/Users/thorey/Documents/project/competition/fognet/models/lstm/model_3/h_25_rg_1e-07_lr_0.001',\n",
       "  u'grad_clip': 50,\n",
       "  u'hiddens': 50,\n",
       "  u'loss_function': u'squared_error',\n",
       "  u'lr': 0.01,\n",
       "  u'model': u'lstm',\n",
       "  u'model_fname': u'/Users/thorey/Documents/project/competition/fognet/models/lstm/model_3/h_25_rg_1e-07_lr_0.001/model.pkl',\n",
       "  u'model_graph_fname': u'/Users/thorey/Documents/project/competition/fognet/models/lstm/model_3/h_25_rg_1e-07_lr_0.001/model_history.png',\n",
       "  u'model_history_fname': u'/Users/thorey/Documents/project/competition/fognet/models/lstm/model_3/h_25_rg_1e-07_lr_0.001/model_history.pkl',\n",
       "  u'model_name': u'h_25_rg_1e-07_lr_0.001',\n",
       "  u'name': u'micro',\n",
       "  u'nb_epochs': 1000,\n",
       "  u'overwrite': True,\n",
       "  u'patience': 15,\n",
       "  u'pipe_kwargs': {u'MyImputer__strategy': u'mean'},\n",
       "  u'pipe_list': [u'MyImputer', u'MyStandardScaler'],\n",
       "  u'reg': 1e-07,\n",
       "  u'root': u'/Users/thorey/Documents/project/competition/fognet/models/lstm/model_3',\n",
       "  u'time': u'20160322_134638',\n",
       "  u'update_rule': u'adam',\n",
       "  u'verbose': 11},\n",
       " {u'architecture': u'build_simple_lstm',\n",
       "  u'build_ite': u'benchmark',\n",
       "  u'conf': u'../models/lstm/model_3/conf_model.json',\n",
       "  u'continue_training': False,\n",
       "  u'feats': [u'percip_mm',\n",
       "   u'humidity',\n",
       "   u'temp',\n",
       "   u'leafwet450_min',\n",
       "   u'leafwet460_min',\n",
       "   u'leafwet_lwscnt',\n",
       "   u'gusts_ms',\n",
       "   u'wind_dir',\n",
       "   u'wind_ms'],\n",
       "  u'folder': u'/Users/thorey/Documents/project/competition/fognet/models/lstm/model_3/h_25_rg_1e-07_lr_0.001',\n",
       "  u'grad_clip': 50,\n",
       "  u'hiddens': 50,\n",
       "  u'loss_function': u'squared_error',\n",
       "  u'lr': 0.01,\n",
       "  u'model': u'lstm',\n",
       "  u'model_fname': u'/Users/thorey/Documents/project/competition/fognet/models/lstm/model_3/h_25_rg_1e-07_lr_0.001/model.pkl',\n",
       "  u'model_graph_fname': u'/Users/thorey/Documents/project/competition/fognet/models/lstm/model_3/h_25_rg_1e-07_lr_0.001/model_history.png',\n",
       "  u'model_history_fname': u'/Users/thorey/Documents/project/competition/fognet/models/lstm/model_3/h_25_rg_1e-07_lr_0.001/model_history.pkl',\n",
       "  u'model_name': u'h_25_rg_1e-07_lr_0.001',\n",
       "  u'name': u'micro',\n",
       "  u'nb_epochs': 1000,\n",
       "  u'overwrite': True,\n",
       "  u'patience': 15,\n",
       "  u'pipe_kwargs': {u'MyImputer__strategy': u'mean'},\n",
       "  u'pipe_list': [u'MyImputer', u'MyStandardScaler'],\n",
       "  u'reg': 1e-07,\n",
       "  u'root': u'/Users/thorey/Documents/project/competition/fognet/models/lstm/model_3',\n",
       "  u'time': u'20160322_134638',\n",
       "  u'update_rule': u'adam',\n",
       "  u'verbose': 11}]"
      ]
     },
     "execution_count": 498,
     "metadata": {},
     "output_type": "execute_result"
    }
   ],
   "source": [
    "map(myconfig.update,ite)"
   ]
  },
  {
   "cell_type": "code",
   "execution_count": 492,
   "metadata": {
    "collapsed": false
   },
   "outputs": [],
   "source": [
    "def update_dict(config,d):\n",
    "    config.update(d)\n",
    "    return config\n"
   ]
  },
  {
   "cell_type": "code",
   "execution_count": 493,
   "metadata": {
    "collapsed": false
   },
   "outputs": [
    {
     "ename": "TypeError",
     "evalue": "update_dict() takes exactly 2 arguments (1 given)",
     "output_type": "error",
     "traceback": [
      "\u001b[0;31m---------------------------------------------------------------------------\u001b[0m",
      "\u001b[0;31mTypeError\u001b[0m                                 Traceback (most recent call last)",
      "\u001b[0;32m<ipython-input-493-94d251fbee04>\u001b[0m in \u001b[0;36m<module>\u001b[0;34m()\u001b[0m\n\u001b[0;32m----> 1\u001b[0;31m \u001b[0mmap\u001b[0m\u001b[0;34m(\u001b[0m\u001b[0mupdate_dict\u001b[0m\u001b[0;34m,\u001b[0m\u001b[0mite\u001b[0m\u001b[0;34m)\u001b[0m\u001b[0;34m\u001b[0m\u001b[0m\n\u001b[0m",
      "\u001b[0;31mTypeError\u001b[0m: update_dict() takes exactly 2 arguments (1 given)"
     ]
    }
   ],
   "source": [
    "map(update_dict,ite)"
   ]
  },
  {
   "cell_type": "code",
   "execution_count": 501,
   "metadata": {
    "collapsed": true
   },
   "outputs": [],
   "source": [
    "class myDict(dict):\n",
    "\n",
    "    def update(self, *args):\n",
    "        dict.update(self, *args)\n",
    "        return self\n",
    "\n",
    "\n",
    "def conf_generator(config, parameters_grids):\n",
    "\n",
    "    config = myDict(config)\n",
    "    assert all([f in ['lr', 'reg', 'hiddens'] for f in parameters_grid.keys()])\n",
    "    product = [x for x in apply(itertools.product, parameters_grid.values())]\n",
    "    conf_runs = [dict(zip(parameters_grid.keys(), p)) for p in product]\n",
    "    conf_runs = map(dict, map(config.update, conf_runs))\n",
    "    return conf_runs"
   ]
  },
  {
   "cell_type": "code",
   "execution_count": 503,
   "metadata": {
    "collapsed": false
   },
   "outputs": [],
   "source": [
    "confs = conf_generator(config,parameters_grid)"
   ]
  },
  {
   "cell_type": "code",
   "execution_count": 504,
   "metadata": {
    "collapsed": false
   },
   "outputs": [
    {
     "data": {
      "text/plain": [
       "6"
      ]
     },
     "execution_count": 504,
     "metadata": {},
     "output_type": "execute_result"
    }
   ],
   "source": [
    "len(confs)"
   ]
  },
  {
   "cell_type": "code",
   "execution_count": 505,
   "metadata": {
    "collapsed": false
   },
   "outputs": [
    {
     "name": "stdout",
     "output_type": "stream",
     "text": [
      "0.01 50 1e-07\n",
      "0.01 50 1e-07\n",
      "0.01 50 1e-07\n",
      "0.01 50 1e-07\n",
      "0.01 50 1e-07\n",
      "0.01 50 1e-07\n"
     ]
    }
   ],
   "source": [
    "pool = Pool()\n",
    "pool.map(worker, confs)\n",
    "pool.close()\n",
    "pool.join()"
   ]
  },
  {
   "cell_type": "code",
   "execution_count": 552,
   "metadata": {
    "collapsed": false
   },
   "outputs": [
    {
     "data": {
      "text/plain": [
       "4"
      ]
     },
     "execution_count": 552,
     "metadata": {},
     "output_type": "execute_result"
    }
   ],
   "source": [
    "multiprocessing.cpu_count()"
   ]
  },
  {
   "cell_type": "code",
   "execution_count": null,
   "metadata": {
    "collapsed": true
   },
   "outputs": [],
   "source": []
  }
 ],
 "metadata": {
  "kernelspec": {
   "display_name": "Python 2",
   "language": "python",
   "name": "python2"
  },
  "language_info": {
   "codemirror_mode": {
    "name": "ipython",
    "version": 2
   },
   "file_extension": ".py",
   "mimetype": "text/x-python",
   "name": "python",
   "nbconvert_exporter": "python",
   "pygments_lexer": "ipython2",
   "version": "2.7.11"
  },
  "latex_envs": {
   "bibliofile": "biblio.bib",
   "cite_by": "apalike",
   "current_citInitial": 1,
   "eqLabelWithNumbers": true,
   "eqNumInitial": 0
  }
 },
 "nbformat": 4,
 "nbformat_minor": 0
}

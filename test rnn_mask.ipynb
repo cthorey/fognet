{
 "cells": [
  {
   "cell_type": "code",
   "execution_count": 745,
   "metadata": {
    "collapsed": false
   },
   "outputs": [
    {
     "name": "stdout",
     "output_type": "stream",
     "text": [
      "The autoreload extension is already loaded. To reload it, use:\n",
      "  %reload_ext autoreload\n"
     ]
    }
   ],
   "source": [
    "%matplotlib inline\n",
    "from __future__ import print_function\n",
    "\n",
    "from matplotlib import pyplot as plt\n",
    "import matplotlib.gridspec as gridspec\n",
    "import seaborn as sns\n",
    "\n",
    "import numpy as np\n",
    "import pandas as pd\n",
    "import lasagne\n",
    "import theano.tensor as T\n",
    "%load_ext autoreload\n",
    "%autoreload 2\n",
    " \n",
    "import importlib\n",
    "import pickle\n",
    "from utils.result_utils import *\n",
    "root = '/Users/thorey/Documents/project/competition/fognet/models/clavius/lstm'"
   ]
  },
  {
   "cell_type": "markdown",
   "metadata": {},
   "source": [
    "# Artifical data "
   ]
  },
  {
   "cell_type": "code",
   "execution_count": 505,
   "metadata": {
    "collapsed": false
   },
   "outputs": [
    {
     "data": {
      "text/plain": [
       "[<matplotlib.lines.Line2D at 0x134cf77d0>]"
      ]
     },
     "execution_count": 505,
     "metadata": {},
     "output_type": "execute_result"
    },
    {
     "data": {
      "image/png": "[encoded data removed]",
      "text/plain": [
       "<matplotlib.figure.Figure at 0x133920810>"
      ]
     },
     "metadata": {},
     "output_type": "display_data"
    }
   ],
   "source": [
    "xa = np.arange(1,2000,1)\n",
    "xb = np.sqrt(np.arange(1,2000,1))\n",
    "x = np.vstack((xa,xb)).T\n",
    "y = np.sqrt(xa+xb)+2*np.random.rand(x.shape[0])\n",
    "plt.plot(xa,y)"
   ]
  },
  {
   "cell_type": "code",
   "execution_count": 671,
   "metadata": {
    "collapsed": false
   },
   "outputs": [],
   "source": [
    "# On creer un index pour le temps\n",
    "rng = pd.date_range('1/1/2011', periods=x.shape[0], freq='2H')\n",
    "# On crer le data frame\n",
    "data = pd.DataFrame(x,index= rng,columns=['xa','xb'])\n",
    "data['y'] = y\n",
    "# We select som part of the data to mimic the pred set, where we don't know y\n",
    "rand_nan = list(np.random.randint(1999,size=10))\n",
    "for nan in rand_nan:\n",
    "    data.loc[nan:nan+10,'y'] = -1"
   ]
  },
  {
   "cell_type": "code",
   "execution_count": 672,
   "metadata": {
    "collapsed": false
   },
   "outputs": [
    {
     "data": {
      "text/plain": [
       "[<matplotlib.lines.Line2D at 0x1264c0250>]"
      ]
     },
     "execution_count": 672,
     "metadata": {},
     "output_type": "execute_result"
    },
    {
     "data": {
      "image/png": "[encoded data removed]",
      "text/plain": [
       "<matplotlib.figure.Figure at 0x130fa3fd0>"
      ]
     },
     "metadata": {},
     "output_type": "display_data"
    }
   ],
   "source": [
    "# Make train,val,test\n",
    "train,val,test = data.iloc[:1200],data.iloc[1200:1500],data.iloc[1500:]\n",
    "plt.plot(train['y'],color ='b')\n",
    "plt.plot(val['y'],color ='g')\n",
    "plt.plot(test['y'],color ='r')"
   ]
  },
  {
   "cell_type": "code",
   "execution_count": 673,
   "metadata": {
    "collapsed": true
   },
   "outputs": [],
   "source": [
    "class BaseBatchIterator(object):\n",
    "\n",
    "    '''\n",
    "    Class to proceed from the dataframe to batch of data to be\n",
    "    feed in the rnn\n",
    "    At prediction time, each batch correspond to the number of\n",
    "    sample in the group.\n",
    "\n",
    "    '''\n",
    "\n",
    "    def __init__(self, feats=[], label='y', batch_size=25, size_seq=25, stride=1, verbose=False):\n",
    "        # feature to take from the dataframe\n",
    "        self.feats = feats\n",
    "        self.nfeats = len(feats)\n",
    "        # Target\n",
    "        self.label = label\n",
    "        # Size of the sequence you want to enroll in the rnn\n",
    "        self.seq_size = size_seq\n",
    "        # Stride for the construction of the sequence.\n",
    "        # For instance, if we have [xa,xb,xc,xd,xe,xf] where each x is a D-dimensional vector.\n",
    "        # A stride of 2 with a size_seq of 4, willr etuyrn [[xa,xb,xc,xd],[xc,xd,xe,xf]]\n",
    "        # Looks like a conv 1D !\n",
    "        self.stride = stride\n",
    "        # Size of the batch to process each step of the gradient update\n",
    "        self.batch_size = batch_size\n",
    "        self.verbose = False\n",
    "\n",
    "    def __call__(self, df):\n",
    "        self.df = df\n",
    "        self.stack_seqs = self.stack_sequence()\n",
    "        return self\n",
    "\n",
    "    def stack_sequence(self):\n",
    "        '''\n",
    "        This function allows to take the training dataframe, and\n",
    "        return a dict of (X,y) tupple. Each key correspond to a\n",
    "        different group - define above. Each group is consituted by a\n",
    "        continuous sequence of observation (2H lags).\n",
    "        For each group, we input a dataframe of size (N,D). N obs/ D features.\n",
    "        We then build sequence of observation from it. A trivial\n",
    "        way to do it is to take df.iloc[0:seq_size],df.iloc[seq_size:2seq_size]\n",
    "        and so on.\n",
    "\n",
    "        However, we proceed as for a 1D convolution. For instance,\n",
    "        if we have [xa,xb,xc,xd,xe,xf] where each x is a D-dimensional vector.\n",
    "        The X, for a stride of 2 with a size_seq of 4, should be [[xa,xb,xc,xd],[xc,xd,xe,xf]].\n",
    "        The number of sequence is given by the simple formula\n",
    "        n_sequences = (N-seq_size)/stride +1\n",
    "\n",
    "        '''\n",
    "        # The input dataframe is basically (N,D) dimensional tensor.\n",
    "        # N is the number of obs\n",
    "        # D is the number of feature to consider !\n",
    "        # Initialize a dict to store (X,y)\n",
    "        seq_size = self.seq_size\n",
    "        nb_obs = len(self.df)\n",
    "        # Nb of sequences\n",
    "        nb_seqs = (nb_obs - seq_size) / self.stride + 1\n",
    "        # Begin of the processing\n",
    "        gp = self.df\n",
    "        X = np.zeros((nb_seqs, seq_size, self.nfeats))\n",
    "        y = np.zeros((nb_seqs, seq_size))\n",
    "        mask_y = np.zeros((nb_seqs,seq_size))\n",
    "        idx_y = np.zeros((nb_seqs, seq_size))\n",
    "        for k in range(nb_seqs):\n",
    "            kmin = k * self.stride  # lower bound window\n",
    "            kmax = k * self.stride + seq_size  # Upper boud window\n",
    "            X[k, :, :] = np.array(gp[self.feats].iloc[kmin:kmax])\n",
    "            y[k, :] = np.array(gp[self.label].iloc[kmin:kmax])\n",
    "            \n",
    "            idx_y[k, :] = map(int, range(kmin, kmax))\n",
    "        # At the end, X has a shape (N,T,D)\n",
    "        # y has a shape (N,T)\n",
    "        return (X, y)\n",
    "\n",
    "    def __iter__(self):\n",
    "        # Iterator\n",
    "        (X, y) =self.stack_sequence()\n",
    "        n_samples = X.shape[0]\n",
    "        bs = self.batch_size\n",
    "        n_batches = (n_samples + bs - 1) // bs\n",
    "        idx = range(len(X))\n",
    "        for i in range(n_batches):\n",
    "            sl = slice(i * bs, (i + 1) * bs)\n",
    "            Xb = X[idx[sl]]\n",
    "            yb = y[idx[sl]]\n",
    "            yield self.transform(Xb, yb)\n",
    "\n",
    "    @property\n",
    "    def n_samples(self):\n",
    "        X = self.X\n",
    "        if isinstance(X, dict):\n",
    "            return len(list(X.values())[0])\n",
    "        else:\n",
    "            return len(X)\n",
    "\n",
    "    def transform(self, Xb, yb):\n",
    "        return Xb, yb\n",
    "\n",
    "    def __getstate__(self):\n",
    "        state = dict(self.__dict__)\n",
    "        for attr in ('X', 'y',):\n",
    "            if attr in state:\n",
    "                del state[attr]\n",
    "        return state\n"
   ]
  },
  {
   "cell_type": "code",
   "execution_count": 674,
   "metadata": {
    "collapsed": false
   },
   "outputs": [],
   "source": [
    "N_BATCH = 25\n",
    "MAX_LENGTH = 200\n",
    "iter_kwargs = dict(feats=['xa','xb'],\n",
    "                   label='y',\n",
    "                   batch_size=N_BATCH,\n",
    "                   size_seq=MAX_LENGTH,\n",
    "                   stride=1)\n",
    "batch_ite_train = BaseBatchIterator(**iter_kwargs)(train)\n",
    "batch_ite_val = BaseBatchIterator(**iter_kwargs)(val)\n",
    "batch_ite_test = BaseBatchIterator(**iter_kwargs)(test)"
   ]
  },
  {
   "cell_type": "markdown",
   "metadata": {},
   "source": [
    "# Net "
   ]
  },
  {
   "cell_type": "code",
   "execution_count": 679,
   "metadata": {
    "collapsed": false
   },
   "outputs": [],
   "source": [
    "D =2 \n",
    "H=20\n",
    "grad_clip = 10\n",
    "\n",
    "l_in = lasagne.layers.InputLayer(name='in',\n",
    "                                     shape=(None, None, D))\n",
    "batchsize, seqlen, _ = l_in.input_var.shape\n",
    "# lstm layer with tanh non linearity and grad clipper\n",
    "l_lstm = lasagne.layers.RecurrentLayer(l_in,\n",
    "                                  H,\n",
    "                                  grad_clipping=grad_clip,\n",
    "                                  nonlinearity=lasagne.nonlinearities.tanh)\n",
    "\n",
    "# reshaping prior to feed to the scoringlayer\n",
    "l_shp = lasagne.layers.ReshapeLayer(l_lstm, (-1, H))\n",
    "# Dense scoring layers\n",
    "l_dense = lasagne.layers.DenseLayer(l_shp,\n",
    "                                    num_units=1,\n",
    "                                    name='dense',\n",
    "                                    nonlinearity=lasagne.nonlinearities.rectify)\n",
    "# return (N,T) sequence of predictions.\n",
    "l_out = lasagne.layers.ReshapeLayer(l_dense, (batchsize, seqlen))"
   ]
  },
  {
   "cell_type": "code",
   "execution_count": 686,
   "metadata": {
    "collapsed": false
   },
   "outputs": [
    {
     "name": "stdout",
     "output_type": "stream",
     "text": [
      "Computing updates ...\n",
      "Compiling functions ...\n"
     ]
    }
   ],
   "source": [
    "import theano\n",
    "LEARNING_RATE = 1e-6\n",
    "\n",
    "target_values = T.matrix('target_output')\n",
    "network_output = lasagne.layers.get_output(l_out)\n",
    "# The network output will have shape (N_BATCH, MAX_LENGTH); let's flatten to get a\n",
    "# 1-dimensional vector of predicted values\n",
    "predicted_values = network_output\n",
    "# Our cost will be mean-squared error\n",
    "cost= T.mean((predicted_values[(target_values>-1).nonzero()] - target_values[(target_values>-1).nonzero()])**2)\n",
    "# Get a mask with 1 when not nan and zero otherwise\n",
    "#mask = T.eq(T.isnan(cost_tmp),T.zeros_like(cost_tmp))\n",
    "# Calculate the mean when the cost is nonzero only\n",
    "#cost = T.mean(cost_tmp[mask.nonzero()]) \n",
    "# Retrieve all parameters from the network\n",
    "all_params = lasagne.layers.get_all_params(l_out)\n",
    "# Compute SGD updates for training\n",
    "print(\"Computing updates ...\")\n",
    "updates = lasagne.updates.adagrad(cost, all_params, LEARNING_RATE)\n",
    "# Theano functions for training and computing cost\n",
    "print(\"Compiling functions ...\")\n",
    "\n",
    "loss = theano.function([l_in.input_var,target_values],[predicted_values,predicted_values[(target_values>-1).nonzero()]])\n",
    "train_model = theano.function([l_in.input_var, target_values],\n",
    "                            cost, updates=updates)\n",
    "compute_cost_model = theano.function(\n",
    "        [l_in.input_var, target_values], [cost,predicted_values,target_values])\n"
   ]
  },
  {
   "cell_type": "code",
   "execution_count": null,
   "metadata": {
    "collapsed": true
   },
   "outputs": [],
   "source": []
  },
  {
   "cell_type": "code",
   "execution_count": null,
   "metadata": {
    "collapsed": true
   },
   "outputs": [],
   "source": []
  },
  {
   "cell_type": "code",
   "execution_count": 724,
   "metadata": {
    "collapsed": true
   },
   "outputs": [],
   "source": [
    "def loss_function(network_output, target):\n",
    "    cost= (network_output[(target>-1).nonzero()] - target[(target>-1).nonzero()])**2\n",
    "    return cost"
   ]
  },
  {
   "cell_type": "code",
   "execution_count": 729,
   "metadata": {
    "collapsed": false
   },
   "outputs": [],
   "source": [
    "net = NeuralNet(layers=l_out,\n",
    "                regression=True,\n",
    "                objective_loss_function=loss_function,\n",
    "                objective_l2=1e-6,  # L2 regularization\n",
    "                update=getattr(lasagne.updates, 'rmsprop'),\n",
    "                update_learning_rate=1e-2,\n",
    "                batch_iterator_train=batch_ite_train,\n",
    "                batch_iterator_test=batch_ite_val,\n",
    "                on_epoch_finished=[],\n",
    "                verbose=True,\n",
    "                max_epochs=10000)"
   ]
  },
  {
   "cell_type": "code",
   "execution_count": 730,
   "metadata": {
    "collapsed": false
   },
   "outputs": [],
   "source": [
    "net.initialize()"
   ]
  },
  {
   "cell_type": "code",
   "execution_count": 732,
   "metadata": {
    "collapsed": false
   },
   "outputs": [
    {
     "name": "stdout",
     "output_type": "stream",
     "text": [
      "      5      52.07377     182.92983      0.28467  1.50s\n",
      "      6      65.69244     215.69120      0.30457  1.52s\n",
      "      7      62.89467     207.94709      0.30246  1.48s\n",
      "      8      59.50395     190.47174      0.31240  1.51s\n",
      "      9      58.15390     188.03299      0.30927  1.51s\n",
      "     10      29.91319     110.04244      0.27183  1.48s\n",
      "     11      38.55253     140.85245      0.27371  1.51s\n",
      "     12     257.84926     556.56875      0.46328  1.49s\n",
      "     13      89.04257     281.06317      0.31681  1.47s\n",
      "     14      40.93848     124.62965      0.32848  1.48s\n",
      "     15      48.68963     166.15093      0.29304  1.50s\n",
      "     16      35.28713      79.18590      0.44562  1.48s\n",
      "     17      56.41295     178.35858      0.31629  1.49s\n",
      "     18      35.72239     136.99449      0.26076  1.49s\n",
      "     19     122.77404     321.85334      0.38146  1.47s\n",
      "     20      37.53913     154.54764      0.24290  1.48s\n",
      "     21     123.79828     322.52455      0.38384  1.48s\n",
      "     22      55.38827     191.34623      0.28947  1.48s\n",
      "     23     115.03165     315.21938      0.36493  1.47s\n",
      "     24     679.94209    1472.13942      0.46187  1.46s\n",
      "     25     685.59999    1472.13942      0.46572  1.50s\n",
      "     26     685.59997    1472.13942      0.46572  1.49s\n",
      "     27     681.26739    1472.13942      0.46277  1.46s\n",
      "     28      40.42037     135.28756      0.29877  1.48s\n",
      "     29      20.27974      58.86716      0.34450  1.46s\n",
      "     30      28.58266     114.49126      0.24965  1.48s\n",
      "     31      50.93035     178.29458      0.28565  1.49s\n",
      "     32      21.15098      74.63414      0.28340  1.47s\n",
      "     33      36.63168     139.31100      0.26295  1.50s\n",
      "     34      72.15842     183.32369      0.39361  1.48s\n",
      "     35      53.69750     181.96542      0.29510  1.47s\n",
      "     36      30.27310      91.01914      0.33260  1.50s\n",
      "     37     111.67669     304.66538      0.36656  1.47s\n",
      "     38      32.21125     139.93942      0.23018  1.48s\n",
      "     39      17.97149      83.59700      0.21498  1.48s\n",
      "     40      39.61466     153.80584      0.25756  1.52s\n",
      "     41     681.98419    1472.13953      0.46326  1.46s\n",
      "     42     685.60010    1472.13953      0.46572  1.57s\n",
      "     43     685.60009    1472.13953      0.46572  1.50s\n",
      "     44     685.60008    1472.13953      0.46572  1.54s\n",
      "     45     691.48280    1472.13953      0.46971  1.50s\n",
      "     46      44.49663     150.18752      0.29627  1.44s\n",
      "     47      42.83930     135.81053      0.31543  1.46s\n",
      "     48      79.69550     240.03611      0.33201  1.47s\n",
      "     49     100.64558     293.59492      0.34280  1.46s\n",
      "     50      43.49957     141.04259      0.30841  1.52s\n",
      "     51     418.38672     790.18820      0.52948  1.47s\n",
      "     52     170.25025     431.78486      0.39429  1.47s\n",
      "     53      58.58263     209.87444      0.27913  1.44s\n",
      "     54      23.11768      97.03941      0.23823  1.45s\n"
     ]
    },
    {
     "data": {
      "text/plain": [
       "NeuralNet(X_tensor_type=None,\n",
       "     batch_iterator_test=<__main__.BaseBatchIterator object at 0x13140c490>,\n",
       "     batch_iterator_train=<__main__.BaseBatchIterator object at 0x13140cd10>,\n",
       "     custom_scores=None,\n",
       "     layers=[<lasagne.layers.shape.ReshapeLayer object at 0x140a49f10>],\n",
       "     loss=None, max_epochs=10000, more_params={},\n",
       "     objective=<function objective at 0x11e3f4f50>, objective_l2=1e-06,\n",
       "     objective_loss_function=<function loss_function at 0x135265500>,\n",
       "     on_batch_finished=[],\n",
       "     on_epoch_finished=[<nolearn.lasagne.handlers.PrintLog instance at 0x13a372290>],\n",
       "     on_training_finished=[],\n",
       "     on_training_started=[<nolearn.lasagne.handlers.PrintLayerInfo instance at 0x13cdcdd40>],\n",
       "     regression=True,\n",
       "     train_split=<nolearn.lasagne.base.TrainSplit object at 0x147023310>,\n",
       "     update=<function rmsprop at 0x11cd2ca28>, update_learning_rate=0.01,\n",
       "     use_label_encoder=False, verbose=True,\n",
       "     y_tensor_type=TensorType(float64, matrix))"
      ]
     },
     "execution_count": 732,
     "metadata": {},
     "output_type": "execute_result"
    }
   ],
   "source": [
    "net.fit(epochs=50)"
   ]
  },
  {
   "cell_type": "code",
   "execution_count": null,
   "metadata": {
    "collapsed": true
   },
   "outputs": [],
   "source": []
  }
 ],
 "metadata": {
  "kernelspec": {
   "display_name": "Python 2",
   "language": "python",
   "name": "python2"
  },
  "language_info": {
   "codemirror_mode": {
    "name": "ipython",
    "version": 2
   },
   "file_extension": ".py",
   "mimetype": "text/x-python",
   "name": "python",
   "nbconvert_exporter": "python",
   "pygments_lexer": "ipython2",
   "version": "2.7.11"
  },
  "latex_envs": {
   "bibliofile": "biblio.bib",
   "cite_by": "apalike",
   "current_citInitial": 1,
   "eqLabelWithNumbers": true,
   "eqNumInitial": 0
  }
 },
 "nbformat": 4,
 "nbformat_minor": 0
}

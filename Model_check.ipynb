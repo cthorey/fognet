{
 "cells": [
  {
   "cell_type": "code",
   "execution_count": 41,
   "metadata": {
    "collapsed": false
   },
   "outputs": [
    {
     "name": "stdout",
     "output_type": "stream",
     "text": [
      "The autoreload extension is already loaded. To reload it, use:\n",
      "  %reload_ext autoreload\n"
     ]
    }
   ],
   "source": [
    "%matplotlib inline\n",
    "from __future__ import print_function\n",
    "\n",
    "from matplotlib import pyplot as plt\n",
    "import matplotlib.gridspec as gridspec\n",
    "#import seaborn as sns\n",
    "\n",
    "import numpy as np\n",
    "import pandas as pd\n",
    "\n",
    "%load_ext autoreload\n",
    "%autoreload 2\n",
    " \n",
    "import importlib\n",
    "import pickle\n",
    "from utils.result_utils import *\n",
    "root = '/Users/thorey/Documents/project/competition/fognet/models/bbking/lstm'"
   ]
  },
  {
   "cell_type": "markdown",
   "metadata": {},
   "source": [
    "# clavius/model_0 "
   ]
  },
  {
   "cell_type": "code",
   "execution_count": 57,
   "metadata": {
    "collapsed": false
   },
   "outputs": [],
   "source": [
    "root = '/Users/thorey/Documents/project/competition/fognet/models/clavius/arima'\n",
    "parameters_keys = parse_conf_file(os.path.join(root,'model_2','conf_model.json'))['parameters_grid'].keys()"
   ]
  },
  {
   "cell_type": "code",
   "execution_count": 59,
   "metadata": {
    "collapsed": false
   },
   "outputs": [
    {
     "name": "stderr",
     "output_type": "stream",
     "text": []
    }
   ],
   "source": [
    "base_model = os.path.join(root,'model_2')\n",
    "model0s = get_result_arima(base_model,hp = parameters_keys)"
   ]
  },
  {
   "cell_type": "code",
   "execution_count": 60,
   "metadata": {
    "collapsed": false
   },
   "outputs": [
    {
     "data": {
      "text/html": [
       "<div>\n",
       "<table border=\"1\" class=\"dataframe\">\n",
       "  <thead>\n",
       "    <tr style=\"text-align: right;\">\n",
       "      <th></th>\n",
       "      <th>root</th>\n",
       "      <th>model</th>\n",
       "      <th>seasonal_inter_lags</th>\n",
       "      <th>num_features_extra</th>\n",
       "      <th>MA</th>\n",
       "      <th>D</th>\n",
       "      <th>inputer</th>\n",
       "      <th>AR</th>\n",
       "      <th>num_lags_regressors</th>\n",
       "      <th>CV_train_hqic</th>\n",
       "      <th>CV_test_hqic</th>\n",
       "      <th>CV_test_aic</th>\n",
       "      <th>CV_train_bic</th>\n",
       "      <th>CV_train_aic</th>\n",
       "      <th>CV_train_rmse</th>\n",
       "      <th>CV_test_rmse</th>\n",
       "      <th>CV_test_bic</th>\n",
       "    </tr>\n",
       "  </thead>\n",
       "  <tbody>\n",
       "    <tr>\n",
       "      <th>0</th>\n",
       "      <td>/Users/thorey/Documents/project/competition/fo...</td>\n",
       "      <td>seasonal_inter_lags_12_num_lags_regressors_1_M...</td>\n",
       "      <td>12</td>\n",
       "      <td>8</td>\n",
       "      <td>1</td>\n",
       "      <td>0</td>\n",
       "      <td>InterpolateMissingValueInputer</td>\n",
       "      <td>6</td>\n",
       "      <td>1</td>\n",
       "      <td>12531.369660</td>\n",
       "      <td>354.527512</td>\n",
       "      <td>329.650277</td>\n",
       "      <td>12625.377075</td>\n",
       "      <td>12479.082024</td>\n",
       "      <td>2.083433</td>\n",
       "      <td>1.455689</td>\n",
       "      <td>391.194634</td>\n",
       "    </tr>\n",
       "    <tr>\n",
       "      <th>1</th>\n",
       "      <td>/Users/thorey/Documents/project/competition/fo...</td>\n",
       "      <td>seasonal_inter_lags_12_num_lags_regressors_1_M...</td>\n",
       "      <td>12</td>\n",
       "      <td>7</td>\n",
       "      <td>5</td>\n",
       "      <td>0</td>\n",
       "      <td>InterpolateMissingValueInputer</td>\n",
       "      <td>3</td>\n",
       "      <td>1</td>\n",
       "      <td>12559.682838</td>\n",
       "      <td>358.559730</td>\n",
       "      <td>332.645944</td>\n",
       "      <td>12657.607228</td>\n",
       "      <td>12505.216550</td>\n",
       "      <td>2.090928</td>\n",
       "      <td>1.460375</td>\n",
       "      <td>396.754649</td>\n",
       "    </tr>\n",
       "    <tr>\n",
       "      <th>2</th>\n",
       "      <td>/Users/thorey/Documents/project/competition/fo...</td>\n",
       "      <td>seasonal_inter_lags_12_num_lags_regressors_1_M...</td>\n",
       "      <td>12</td>\n",
       "      <td>8</td>\n",
       "      <td>2</td>\n",
       "      <td>0</td>\n",
       "      <td>InterpolateMissingValueInputer</td>\n",
       "      <td>6</td>\n",
       "      <td>1</td>\n",
       "      <td>12554.974036</td>\n",
       "      <td>360.271035</td>\n",
       "      <td>334.357249</td>\n",
       "      <td>12652.898426</td>\n",
       "      <td>12500.507748</td>\n",
       "      <td>2.091795</td>\n",
       "      <td>1.463359</td>\n",
       "      <td>398.465954</td>\n",
       "    </tr>\n",
       "    <tr>\n",
       "      <th>3</th>\n",
       "      <td>/Users/thorey/Documents/project/competition/fo...</td>\n",
       "      <td>seasonal_inter_lags_12_num_lags_regressors_4_M...</td>\n",
       "      <td>12</td>\n",
       "      <td>4</td>\n",
       "      <td>6</td>\n",
       "      <td>0</td>\n",
       "      <td>InterpolateMissingValueInputer</td>\n",
       "      <td>3</td>\n",
       "      <td>4</td>\n",
       "      <td>12578.615661</td>\n",
       "      <td>353.929636</td>\n",
       "      <td>330.088952</td>\n",
       "      <td>12668.706099</td>\n",
       "      <td>12528.506676</td>\n",
       "      <td>2.104584</td>\n",
       "      <td>1.467510</td>\n",
       "      <td>389.068961</td>\n",
       "    </tr>\n",
       "    <tr>\n",
       "      <th>4</th>\n",
       "      <td>/Users/thorey/Documents/project/competition/fo...</td>\n",
       "      <td>seasonal_inter_lags_24_num_lags_regressors_3_M...</td>\n",
       "      <td>24</td>\n",
       "      <td>6</td>\n",
       "      <td>4</td>\n",
       "      <td>0</td>\n",
       "      <td>EWMAMissingValueInputer</td>\n",
       "      <td>2</td>\n",
       "      <td>3</td>\n",
       "      <td>12547.838045</td>\n",
       "      <td>348.477311</td>\n",
       "      <td>326.709730</td>\n",
       "      <td>12630.094533</td>\n",
       "      <td>12502.086363</td>\n",
       "      <td>2.099856</td>\n",
       "      <td>1.470606</td>\n",
       "      <td>380.561042</td>\n",
       "    </tr>\n",
       "    <tr>\n",
       "      <th>5</th>\n",
       "      <td>/Users/thorey/Documents/project/competition/fo...</td>\n",
       "      <td>seasonal_inter_lags_12_num_lags_regressors_6_M...</td>\n",
       "      <td>12</td>\n",
       "      <td>8</td>\n",
       "      <td>2</td>\n",
       "      <td>0</td>\n",
       "      <td>InterpolateMissingValueInputer</td>\n",
       "      <td>6</td>\n",
       "      <td>6</td>\n",
       "      <td>12561.190124</td>\n",
       "      <td>361.144308</td>\n",
       "      <td>335.230522</td>\n",
       "      <td>12659.114513</td>\n",
       "      <td>12506.723835</td>\n",
       "      <td>2.091058</td>\n",
       "      <td>1.473211</td>\n",
       "      <td>399.339227</td>\n",
       "    </tr>\n",
       "    <tr>\n",
       "      <th>6</th>\n",
       "      <td>/Users/thorey/Documents/project/competition/fo...</td>\n",
       "      <td>seasonal_inter_lags_12_num_lags_regressors_2_M...</td>\n",
       "      <td>12</td>\n",
       "      <td>6</td>\n",
       "      <td>1</td>\n",
       "      <td>0</td>\n",
       "      <td>InterpolateMissingValueInputer</td>\n",
       "      <td>5</td>\n",
       "      <td>2</td>\n",
       "      <td>12512.365602</td>\n",
       "      <td>349.590062</td>\n",
       "      <td>326.785930</td>\n",
       "      <td>12598.539065</td>\n",
       "      <td>12464.435268</td>\n",
       "      <td>2.073884</td>\n",
       "      <td>1.474664</td>\n",
       "      <td>383.201590</td>\n",
       "    </tr>\n",
       "    <tr>\n",
       "      <th>7</th>\n",
       "      <td>/Users/thorey/Documents/project/competition/fo...</td>\n",
       "      <td>seasonal_inter_lags_24_num_lags_regressors_2_M...</td>\n",
       "      <td>24</td>\n",
       "      <td>10</td>\n",
       "      <td>1</td>\n",
       "      <td>0</td>\n",
       "      <td>InterpolateMissingValueInputer</td>\n",
       "      <td>5</td>\n",
       "      <td>2</td>\n",
       "      <td>12535.456573</td>\n",
       "      <td>359.080452</td>\n",
       "      <td>333.166666</td>\n",
       "      <td>12633.380963</td>\n",
       "      <td>12480.990285</td>\n",
       "      <td>2.080555</td>\n",
       "      <td>1.477646</td>\n",
       "      <td>397.275371</td>\n",
       "    </tr>\n",
       "    <tr>\n",
       "      <th>8</th>\n",
       "      <td>/Users/thorey/Documents/project/competition/fo...</td>\n",
       "      <td>seasonal_inter_lags_12_num_lags_regressors_4_M...</td>\n",
       "      <td>12</td>\n",
       "      <td>7</td>\n",
       "      <td>2</td>\n",
       "      <td>0</td>\n",
       "      <td>InterpolateMissingValueInputer</td>\n",
       "      <td>6</td>\n",
       "      <td>4</td>\n",
       "      <td>12547.971137</td>\n",
       "      <td>358.656577</td>\n",
       "      <td>333.779342</td>\n",
       "      <td>12641.978551</td>\n",
       "      <td>12495.683501</td>\n",
       "      <td>2.086876</td>\n",
       "      <td>1.478059</td>\n",
       "      <td>395.323699</td>\n",
       "    </tr>\n",
       "    <tr>\n",
       "      <th>9</th>\n",
       "      <td>/Users/thorey/Documents/project/competition/fo...</td>\n",
       "      <td>seasonal_inter_lags_12_num_lags_regressors_2_M...</td>\n",
       "      <td>12</td>\n",
       "      <td>8</td>\n",
       "      <td>1</td>\n",
       "      <td>0</td>\n",
       "      <td>InterpolateMissingValueInputer</td>\n",
       "      <td>5</td>\n",
       "      <td>2</td>\n",
       "      <td>12509.141393</td>\n",
       "      <td>352.619586</td>\n",
       "      <td>328.778903</td>\n",
       "      <td>12599.231832</td>\n",
       "      <td>12459.032408</td>\n",
       "      <td>2.074361</td>\n",
       "      <td>1.478878</td>\n",
       "      <td>387.758911</td>\n",
       "    </tr>\n",
       "  </tbody>\n",
       "</table>\n",
       "</div>"
      ],
      "text/plain": [
       "                                                root  \\\n",
       "0  /Users/thorey/Documents/project/competition/fo...   \n",
       "1  /Users/thorey/Documents/project/competition/fo...   \n",
       "2  /Users/thorey/Documents/project/competition/fo...   \n",
       "3  /Users/thorey/Documents/project/competition/fo...   \n",
       "4  /Users/thorey/Documents/project/competition/fo...   \n",
       "5  /Users/thorey/Documents/project/competition/fo...   \n",
       "6  /Users/thorey/Documents/project/competition/fo...   \n",
       "7  /Users/thorey/Documents/project/competition/fo...   \n",
       "8  /Users/thorey/Documents/project/competition/fo...   \n",
       "9  /Users/thorey/Documents/project/competition/fo...   \n",
       "\n",
       "                                               model  seasonal_inter_lags  \\\n",
       "0  seasonal_inter_lags_12_num_lags_regressors_1_M...                   12   \n",
       "1  seasonal_inter_lags_12_num_lags_regressors_1_M...                   12   \n",
       "2  seasonal_inter_lags_12_num_lags_regressors_1_M...                   12   \n",
       "3  seasonal_inter_lags_12_num_lags_regressors_4_M...                   12   \n",
       "4  seasonal_inter_lags_24_num_lags_regressors_3_M...                   24   \n",
       "5  seasonal_inter_lags_12_num_lags_regressors_6_M...                   12   \n",
       "6  seasonal_inter_lags_12_num_lags_regressors_2_M...                   12   \n",
       "7  seasonal_inter_lags_24_num_lags_regressors_2_M...                   24   \n",
       "8  seasonal_inter_lags_12_num_lags_regressors_4_M...                   12   \n",
       "9  seasonal_inter_lags_12_num_lags_regressors_2_M...                   12   \n",
       "\n",
       "   num_features_extra  MA  D                         inputer  AR  \\\n",
       "0                   8   1  0  InterpolateMissingValueInputer   6   \n",
       "1                   7   5  0  InterpolateMissingValueInputer   3   \n",
       "2                   8   2  0  InterpolateMissingValueInputer   6   \n",
       "3                   4   6  0  InterpolateMissingValueInputer   3   \n",
       "4                   6   4  0         EWMAMissingValueInputer   2   \n",
       "5                   8   2  0  InterpolateMissingValueInputer   6   \n",
       "6                   6   1  0  InterpolateMissingValueInputer   5   \n",
       "7                  10   1  0  InterpolateMissingValueInputer   5   \n",
       "8                   7   2  0  InterpolateMissingValueInputer   6   \n",
       "9                   8   1  0  InterpolateMissingValueInputer   5   \n",
       "\n",
       "   num_lags_regressors  CV_train_hqic  CV_test_hqic  CV_test_aic  \\\n",
       "0                    1   12531.369660    354.527512   329.650277   \n",
       "1                    1   12559.682838    358.559730   332.645944   \n",
       "2                    1   12554.974036    360.271035   334.357249   \n",
       "3                    4   12578.615661    353.929636   330.088952   \n",
       "4                    3   12547.838045    348.477311   326.709730   \n",
       "5                    6   12561.190124    361.144308   335.230522   \n",
       "6                    2   12512.365602    349.590062   326.785930   \n",
       "7                    2   12535.456573    359.080452   333.166666   \n",
       "8                    4   12547.971137    358.656577   333.779342   \n",
       "9                    2   12509.141393    352.619586   328.778903   \n",
       "\n",
       "   CV_train_bic  CV_train_aic  CV_train_rmse  CV_test_rmse  CV_test_bic  \n",
       "0  12625.377075  12479.082024       2.083433      1.455689   391.194634  \n",
       "1  12657.607228  12505.216550       2.090928      1.460375   396.754649  \n",
       "2  12652.898426  12500.507748       2.091795      1.463359   398.465954  \n",
       "3  12668.706099  12528.506676       2.104584      1.467510   389.068961  \n",
       "4  12630.094533  12502.086363       2.099856      1.470606   380.561042  \n",
       "5  12659.114513  12506.723835       2.091058      1.473211   399.339227  \n",
       "6  12598.539065  12464.435268       2.073884      1.474664   383.201590  \n",
       "7  12633.380963  12480.990285       2.080555      1.477646   397.275371  \n",
       "8  12641.978551  12495.683501       2.086876      1.478059   395.323699  \n",
       "9  12599.231832  12459.032408       2.074361      1.478878   387.758911  "
      ]
     },
     "execution_count": 60,
     "metadata": {},
     "output_type": "execute_result"
    }
   ],
   "source": [
    "model0s.head(10)"
   ]
  },
  {
   "cell_type": "code",
   "execution_count": 61,
   "metadata": {
    "collapsed": false
   },
   "outputs": [
    {
     "name": "stdout",
     "output_type": "stream",
     "text": [
      "... Loading the ensemble ...\n"
     ]
    },
    {
     "name": "stderr",
     "output_type": "stream",
     "text": [
      "\r",
      "  0%|          | 0/10 [00:00<?, ?it/s]"
     ]
    },
    {
     "name": "stdout",
     "output_type": "stream",
     "text": [
      "2\n",
      "2\n"
     ]
    },
    {
     "name": "stderr",
     "output_type": "stream",
     "text": [
      "\r",
      " 10%|█         | 1/10 [00:03<00:30,  3.42s/it]"
     ]
    },
    {
     "name": "stdout",
     "output_type": "stream",
     "text": [
      "2\n",
      "2\n"
     ]
    },
    {
     "name": "stderr",
     "output_type": "stream",
     "text": [
      "\r",
      " 20%|██        | 2/10 [00:22<01:04,  8.11s/it]"
     ]
    },
    {
     "name": "stdout",
     "output_type": "stream",
     "text": [
      "2\n",
      "2\n"
     ]
    },
    {
     "name": "stderr",
     "output_type": "stream",
     "text": [
      "\r",
      " 30%|███       | 3/10 [00:26<00:47,  6.76s/it]"
     ]
    },
    {
     "name": "stdout",
     "output_type": "stream",
     "text": [
      "2\n",
      "2\n"
     ]
    },
    {
     "name": "stderr",
     "output_type": "stream",
     "text": [
      "\r",
      " 40%|████      | 4/10 [00:46<01:05, 11.00s/it]"
     ]
    },
    {
     "name": "stdout",
     "output_type": "stream",
     "text": [
      "2\n",
      "2\n"
     ]
    },
    {
     "name": "stderr",
     "output_type": "stream",
     "text": [
      "\r",
      " 50%|█████     | 5/10 [00:50<00:43,  8.61s/it]"
     ]
    },
    {
     "name": "stdout",
     "output_type": "stream",
     "text": [
      "2\n",
      "2\n"
     ]
    },
    {
     "name": "stderr",
     "output_type": "stream",
     "text": [
      "\r",
      " 60%|██████    | 6/10 [00:53<00:28,  7.15s/it]"
     ]
    },
    {
     "name": "stdout",
     "output_type": "stream",
     "text": [
      "2\n",
      "2\n"
     ]
    },
    {
     "name": "stderr",
     "output_type": "stream",
     "text": [
      "\r",
      " 70%|███████   | 7/10 [00:56<00:17,  5.84s/it]"
     ]
    },
    {
     "name": "stdout",
     "output_type": "stream",
     "text": [
      "2\n",
      "2\n"
     ]
    },
    {
     "name": "stderr",
     "output_type": "stream",
     "text": [
      "\r",
      " 80%|████████  | 8/10 [00:59<00:10,  5.07s/it]"
     ]
    },
    {
     "name": "stdout",
     "output_type": "stream",
     "text": [
      "2\n",
      "2\n"
     ]
    },
    {
     "name": "stderr",
     "output_type": "stream",
     "text": [
      "\r",
      " 90%|█████████ | 9/10 [01:03<00:04,  4.58s/it]"
     ]
    },
    {
     "name": "stdout",
     "output_type": "stream",
     "text": [
      "2\n",
      "2\n"
     ]
    },
    {
     "name": "stderr",
     "output_type": "stream",
     "text": []
    },
    {
     "name": "stdout",
     "output_type": "stream",
     "text": [
      "--- 66.1928830147 seconds ---\n"
     ]
    },
    {
     "name": "stderr",
     "output_type": "stream",
     "text": []
    },
    {
     "name": "stdout",
     "output_type": "stream",
     "text": [
      "RMSE = 1.818\n",
      "... Looking at the resulting score ...\n"
     ]
    },
    {
     "name": "stderr",
     "output_type": "stream",
     "text": []
    },
    {
     "name": "stdout",
     "output_type": "stream",
     "text": [
      "RMSE = 1.818\n"
     ]
    },
    {
     "name": "stderr",
     "output_type": "stream",
     "text": []
    },
    {
     "name": "stdout",
     "output_type": "stream",
     "text": [
      "RMSE = 1.806\n"
     ]
    },
    {
     "name": "stderr",
     "output_type": "stream",
     "text": []
    },
    {
     "name": "stdout",
     "output_type": "stream",
     "text": [
      "RMSE = 1.807\n"
     ]
    },
    {
     "name": "stderr",
     "output_type": "stream",
     "text": []
    },
    {
     "name": "stdout",
     "output_type": "stream",
     "text": [
      "RMSE = 1.808\n"
     ]
    },
    {
     "name": "stderr",
     "output_type": "stream",
     "text": []
    },
    {
     "name": "stdout",
     "output_type": "stream",
     "text": [
      "RMSE = 1.808\n"
     ]
    },
    {
     "name": "stderr",
     "output_type": "stream",
     "text": []
    },
    {
     "name": "stdout",
     "output_type": "stream",
     "text": [
      "RMSE = 1.808\n"
     ]
    },
    {
     "name": "stderr",
     "output_type": "stream",
     "text": []
    },
    {
     "name": "stdout",
     "output_type": "stream",
     "text": [
      "RMSE = 1.808\n"
     ]
    },
    {
     "name": "stderr",
     "output_type": "stream",
     "text": []
    },
    {
     "name": "stdout",
     "output_type": "stream",
     "text": [
      "RMSE = 1.809\n"
     ]
    },
    {
     "name": "stderr",
     "output_type": "stream",
     "text": []
    },
    {
     "name": "stdout",
     "output_type": "stream",
     "text": [
      "RMSE = 1.814\n"
     ]
    },
    {
     "name": "stderr",
     "output_type": "stream",
     "text": []
    },
    {
     "name": "stdout",
     "output_type": "stream",
     "text": [
      "... loading the best ensemble: n =9 ...\n"
     ]
    },
    {
     "name": "stderr",
     "output_type": "stream",
     "text": [
      "\r",
      "  0%|          | 0/9 [00:00<?, ?it/s]"
     ]
    },
    {
     "name": "stdout",
     "output_type": "stream",
     "text": [
      "2\n",
      "2\n"
     ]
    },
    {
     "name": "stderr",
     "output_type": "stream",
     "text": [
      "\r",
      " 11%|█         | 1/9 [00:03<00:24,  3.07s/it]"
     ]
    },
    {
     "name": "stdout",
     "output_type": "stream",
     "text": [
      "2\n",
      "2\n"
     ]
    },
    {
     "name": "stderr",
     "output_type": "stream",
     "text": [
      "\r",
      " 22%|██▏       | 2/9 [00:22<00:54,  7.85s/it]"
     ]
    },
    {
     "name": "stdout",
     "output_type": "stream",
     "text": [
      "2\n",
      "2\n"
     ]
    },
    {
     "name": "stderr",
     "output_type": "stream",
     "text": [
      "\r",
      " 33%|███▎      | 3/9 [00:25<00:38,  6.48s/it]"
     ]
    },
    {
     "name": "stdout",
     "output_type": "stream",
     "text": [
      "2\n",
      "2\n"
     ]
    },
    {
     "name": "stderr",
     "output_type": "stream",
     "text": [
      "\r",
      " 44%|████▍     | 4/9 [00:43<00:50, 10.02s/it]"
     ]
    },
    {
     "name": "stdout",
     "output_type": "stream",
     "text": [
      "2\n",
      "2\n"
     ]
    },
    {
     "name": "stderr",
     "output_type": "stream",
     "text": [
      "\r",
      " 56%|█████▌    | 5/9 [00:46<00:31,  7.84s/it]"
     ]
    },
    {
     "name": "stdout",
     "output_type": "stream",
     "text": [
      "2\n",
      "2\n"
     ]
    },
    {
     "name": "stderr",
     "output_type": "stream",
     "text": [
      "\r",
      " 67%|██████▋   | 6/9 [00:49<00:19,  6.51s/it]"
     ]
    },
    {
     "name": "stdout",
     "output_type": "stream",
     "text": [
      "2\n",
      "2\n"
     ]
    },
    {
     "name": "stderr",
     "output_type": "stream",
     "text": [
      "\r",
      " 78%|███████▊  | 7/9 [00:52<00:10,  5.43s/it]"
     ]
    },
    {
     "name": "stdout",
     "output_type": "stream",
     "text": [
      "2\n",
      "2\n"
     ]
    },
    {
     "name": "stderr",
     "output_type": "stream",
     "text": [
      "\r",
      " 89%|████████▉ | 8/9 [00:56<00:04,  4.80s/it]"
     ]
    },
    {
     "name": "stdout",
     "output_type": "stream",
     "text": [
      "2\n",
      "2\n"
     ]
    },
    {
     "name": "stderr",
     "output_type": "stream",
     "text": []
    },
    {
     "name": "stdout",
     "output_type": "stream",
     "text": [
      "--- 59.352298975 seconds ---\n"
     ]
    },
    {
     "name": "stderr",
     "output_type": "stream",
     "text": []
    },
    {
     "name": "stdout",
     "output_type": "stream",
     "text": [
      "RMSE = 1.815\n"
     ]
    }
   ],
   "source": [
    "from utils.ensemble_utils import *\n",
    "ensemble = get_best_ensemble(model0s, nb_models_init=10)"
   ]
  },
  {
   "cell_type": "code",
   "execution_count": 62,
   "metadata": {
    "collapsed": false
   },
   "outputs": [
    {
     "name": "stderr",
     "output_type": "stream",
     "text": []
    },
    {
     "name": "stdout",
     "output_type": "stream",
     "text": [
      "Will write output to /Users/thorey/Documents/project/competition/fognet/models/clavius/arima/model_2/ensemble/submissions_20160422_144630.csv\n"
     ]
    }
   ],
   "source": [
    "ensemble.make_submission()"
   ]
  },
  {
   "cell_type": "code",
   "execution_count": 10,
   "metadata": {
    "collapsed": true
   },
   "outputs": [],
   "source": [
    "from utils.ensemble_utils import *"
   ]
  },
  {
   "cell_type": "code",
   "execution_count": 13,
   "metadata": {
    "collapsed": false
   },
   "outputs": [
    {
     "data": {
      "text/plain": [
       "'/Users/thorey/Documents/project/competition/fognet/models/clavius/arima/model_0'"
      ]
     },
     "execution_count": 13,
     "metadata": {},
     "output_type": "execute_result"
    }
   ],
   "source": [
    "model0s.root.iloc[0]"
   ]
  },
  {
   "cell_type": "code",
   "execution_count": 24,
   "metadata": {
    "collapsed": false
   },
   "outputs": [
    {
     "name": "stdout",
     "output_type": "stream",
     "text": [
      "Loading the prepro pipeline\n",
      "2\n",
      "2\n",
      "Order : \n",
      "(3, 0, 2)\n",
      "Season order : \n",
      "(0, 0, 0, 0)\n",
      "Loading model params for /Users/thorey/Documents/project/competition/fognet/models/clavius/arima/model_0/seasonal_inter_lags_24_num_lags_regressors_2_MA_2_D_0_inputer_AutoArimaInputer_AR_3_num_features_extra_3/model.pkl\n"
     ]
    }
   ],
   "source": [
    "from utils.arima_utils import *\n",
    "conf = parse_conf_file(os.path.join(model0s.root.iloc[0],model0s.model.iloc[0],'conf_model.json'))\n",
    "model = ArimaModel(conf,mode='inspection')"
   ]
  },
  {
   "cell_type": "code",
   "execution_count": 33,
   "metadata": {
    "collapsed": false
   },
   "outputs": [
    {
     "name": "stderr",
     "output_type": "stream",
     "text": [
      "\r",
      "  0%|          | 0/2 [00:00<?, ?it/s]"
     ]
    },
    {
     "name": "stdout",
     "output_type": "stream",
     "text": [
      "2\n",
      "2\n"
     ]
    },
    {
     "name": "stderr",
     "output_type": "stream",
     "text": [
      "\r",
      " 50%|█████     | 1/2 [00:12<00:12, 12.77s/it]"
     ]
    },
    {
     "name": "stdout",
     "output_type": "stream",
     "text": [
      "2\n"
     ]
    },
    {
     "name": "stderr",
     "output_type": "stream",
     "text": []
    },
    {
     "name": "stdout",
     "output_type": "stream",
     "text": [
      "--- 16.3078398705 seconds ---\n"
     ]
    },
    {
     "name": "stderr",
     "output_type": "stream",
     "text": []
    },
    {
     "name": "stdout",
     "output_type": "stream",
     "text": [
      "RMSE = 1.805\n"
     ]
    }
   ],
   "source": [
    "from utils.arima_utils import *\n",
    "from utils.ensemble_utils import *\n",
    "ensemble = EnsembleArima(model0s,2)"
   ]
  },
  {
   "cell_type": "code",
   "execution_count": 34,
   "metadata": {
    "collapsed": false
   },
   "outputs": [
    {
     "name": "stderr",
     "output_type": "stream",
     "text": []
    },
    {
     "name": "stdout",
     "output_type": "stream",
     "text": [
      "Will write output to /Users/thorey/Documents/project/competition/fognet/models/clavius/arima/model_0/ensemble/submissions_20160422_142415.csv\n"
     ]
    }
   ],
   "source": [
    "ensemble.make_submission()"
   ]
  },
  {
   "cell_type": "code",
   "execution_count": 63,
   "metadata": {
    "collapsed": false
   },
   "outputs": [
    {
     "data": {
      "text/plain": [
       "<matplotlib.axes._subplots.AxesSubplot at 0x11edc42d0>"
      ]
     },
     "execution_count": 63,
     "metadata": {},
     "output_type": "execute_result"
    },
    {
     "data": {
      "image/png": "[encoded data removed]",
      "text/plain": [
       "<matplotlib.figure.Figure at 0x123d2f790>"
      ]
     },
     "metadata": {},
     "output_type": "display_data"
    }
   ],
   "source": [
    "ax = plt.subplot(111)\n",
    "a = '/Users/thorey/Documents/project/competition/fognet/models/clavius/arima/model_0/ensemble/submissions_20160422_143842.csv'\n",
    "a1 = '/Users/thorey/Documents/project/competition/fognet/models/clavius/arima/model_1/ensemble/submissions_20160422_144224.csv'\n",
    "a2 = '/Users/thorey/Documents/project/competition/fognet/models/clavius/arima/model_2/ensemble/submissions_20160422_144630.csv'\n",
    "pd.read_csv(a,index_col=0).plot(ax=ax)\n",
    "pd.read_csv(a1,index_col=0).plot(ax=ax)\n",
    "pd.read_csv(a2,index_col=0).plot(ax=ax)"
   ]
  },
  {
   "cell_type": "code",
   "execution_count": 69,
   "metadata": {
    "collapsed": false
   },
   "outputs": [
    {
     "data": {
      "text/plain": [
       "<matplotlib.axes._subplots.AxesSubplot at 0x11c588c50>"
      ]
     },
     "execution_count": 69,
     "metadata": {},
     "output_type": "execute_result"
    },
    {
     "data": {
      "image/png": "[encoded data removed]",
      "text/plain": [
       "<matplotlib.figure.Figure at 0x11edf6f10>"
      ]
     },
     "metadata": {},
     "output_type": "display_data"
    }
   ],
   "source": [
    "np.log10(model.df.temp).plot()"
   ]
  },
  {
   "cell_type": "code",
   "execution_count": null,
   "metadata": {
    "collapsed": true
   },
   "outputs": [],
   "source": []
  }
 ],
 "metadata": {
  "kernelspec": {
   "display_name": "Python 2",
   "language": "python",
   "name": "python2"
  },
  "language_info": {
   "codemirror_mode": {
    "name": "ipython",
    "version": 2
   },
   "file_extension": ".py",
   "mimetype": "text/x-python",
   "name": "python",
   "nbconvert_exporter": "python",
   "pygments_lexer": "ipython2",
   "version": "2.7.11"
  },
  "latex_envs": {
   "bibliofile": "biblio.bib",
   "cite_by": "apalike",
   "current_citInitial": 1,
   "eqLabelWithNumbers": true,
   "eqNumInitial": 0
  }
 },
 "nbformat": 4,
 "nbformat_minor": 0
}

{
 "cells": [
  {
   "cell_type": "code",
   "execution_count": 10,
   "metadata": {
    "collapsed": false
   },
   "outputs": [
    {
     "name": "stdout",
     "output_type": "stream",
     "text": [
      "The autoreload extension is already loaded. To reload it, use:\n",
      "  %reload_ext autoreload\n"
     ]
    },
    {
     "name": "stderr",
     "output_type": "stream",
     "text": [
      "/Users/thorey/miniconda2/envs/fognet/lib/python2.7/site-packages/theano/tensor/signal/downsample.py:6: UserWarning: downsample module has been moved to the theano.tensor.signal.pool module.\n",
      "  \"downsample module has been moved to the theano.tensor.signal.pool module.\")\n"
     ]
    }
   ],
   "source": [
    "%matplotlib inline\n",
    "from __future__ import print_function\n",
    "\n",
    "from matplotlib import pyplot as plt\n",
    "import seaborn as sns\n",
    "\n",
    "import numpy as np\n",
    "import pandas as pd\n",
    "\n",
    "%load_ext autoreload\n",
    "%autoreload 2\n",
    "\n",
    "from utils.data_utils import *\n",
    "from utils.training_utils import *\n",
    "clavius = '/Users/thorey/Documents/project/competition/fognet/models/clavius'"
   ]
  },
  {
   "cell_type": "markdown",
   "metadata": {},
   "source": [
    "# Iterators"
   ]
  },
  {
   "cell_type": "code",
   "execution_count": 20,
   "metadata": {
    "collapsed": false
   },
   "outputs": [],
   "source": [
    "models = [os.path.join(clavius,'lstm','model_0',f) for f in os.listdir(os.path.join(clavius,'lstm','model_0')) if f not in ['conf_model.json']]"
   ]
  },
  {
   "cell_type": "code",
   "execution_count": 113,
   "metadata": {
    "collapsed": false
   },
   "outputs": [],
   "source": [
    "def gather_data(model):\n",
    "    config = parse_conf_file(os.path.join(model,'conf_model.json'))\n",
    "    try:\n",
    "        submission = [f for f in os.listdir(model) if f.split('_')[0] == 'submissions'][0]\n",
    "        score = [f for f in os.listdir(model) if f.split('_')[0] == 'train'][0]\n",
    "    except:\n",
    "        submission = 'Processing'\n",
    "        score = 'train_10_val_10'\n",
    "    \n",
    "    data = {'root': model,\n",
    "            'name':model.split('/')[-1] ,\n",
    "           'submission':submission,\n",
    "           'trainacc':float(score.split('_')[1]),\n",
    "           'valacc':float(score.split('_')[3]),\n",
    "           'lr': config['lr'],\n",
    "           'hiddens':config['hiddens'],\n",
    "           'reg':config['reg']}\n",
    "    return data\n",
    "    \n",
    "results = pd.DataFrame.from_dict(list(gather_data(f) for f in models))"
   ]
  },
  {
   "cell_type": "code",
   "execution_count": 116,
   "metadata": {
    "collapsed": false
   },
   "outputs": [
    {
     "data": {
      "text/html": [
       "<div>\n",
       "<table border=\"1\" class=\"dataframe\">\n",
       "  <thead>\n",
       "    <tr style=\"text-align: right;\">\n",
       "      <th></th>\n",
       "      <th>hiddens</th>\n",
       "      <th>lr</th>\n",
       "      <th>name</th>\n",
       "      <th>reg</th>\n",
       "      <th>root</th>\n",
       "      <th>submission</th>\n",
       "      <th>trainacc</th>\n",
       "      <th>valacc</th>\n",
       "    </tr>\n",
       "  </thead>\n",
       "  <tbody>\n",
       "    <tr>\n",
       "      <th>221</th>\n",
       "      <td>60</td>\n",
       "      <td>0.027826</td>\n",
       "      <td>h_60_rg_0.001_lr_0.0278255940221</td>\n",
       "      <td>1.000000e-03</td>\n",
       "      <td>/Users/thorey/Documents/project/competition/fo...</td>\n",
       "      <td>submissions_20160324_095858.csv</td>\n",
       "      <td>4.086</td>\n",
       "      <td>3.615</td>\n",
       "    </tr>\n",
       "    <tr>\n",
       "      <th>22</th>\n",
       "      <td>10</td>\n",
       "      <td>0.004642</td>\n",
       "      <td>h_10_rg_0.001_lr_0.00464158883361</td>\n",
       "      <td>1.000000e-03</td>\n",
       "      <td>/Users/thorey/Documents/project/competition/fo...</td>\n",
       "      <td>submissions_20160323_204746.csv</td>\n",
       "      <td>2.221</td>\n",
       "      <td>3.895</td>\n",
       "    </tr>\n",
       "    <tr>\n",
       "      <th>63</th>\n",
       "      <td>10</td>\n",
       "      <td>0.027826</td>\n",
       "      <td>h_10_rg_2.78255940221e-07_lr_0.0278255940221</td>\n",
       "      <td>2.782559e-07</td>\n",
       "      <td>/Users/thorey/Documents/project/competition/fo...</td>\n",
       "      <td>submissions_20160323_204614.csv</td>\n",
       "      <td>4.364</td>\n",
       "      <td>3.919</td>\n",
       "    </tr>\n",
       "    <tr>\n",
       "      <th>83</th>\n",
       "      <td>10</td>\n",
       "      <td>0.027826</td>\n",
       "      <td>h_10_rg_5.99484250319e-06_lr_0.0278255940221</td>\n",
       "      <td>5.994843e-06</td>\n",
       "      <td>/Users/thorey/Documents/project/competition/fo...</td>\n",
       "      <td>submissions_20160323_204759.csv</td>\n",
       "      <td>3.499</td>\n",
       "      <td>3.924</td>\n",
       "    </tr>\n",
       "    <tr>\n",
       "      <th>23</th>\n",
       "      <td>10</td>\n",
       "      <td>0.027826</td>\n",
       "      <td>h_10_rg_0.001_lr_0.0278255940221</td>\n",
       "      <td>1.000000e-03</td>\n",
       "      <td>/Users/thorey/Documents/project/competition/fo...</td>\n",
       "      <td>submissions_20160323_205029.csv</td>\n",
       "      <td>3.953</td>\n",
       "      <td>3.926</td>\n",
       "    </tr>\n",
       "    <tr>\n",
       "      <th>13</th>\n",
       "      <td>10</td>\n",
       "      <td>0.027826</td>\n",
       "      <td>h_10_rg_0.00035938136638_lr_0.0278255940221</td>\n",
       "      <td>3.593814e-04</td>\n",
       "      <td>/Users/thorey/Documents/project/competition/fo...</td>\n",
       "      <td>submissions_20160323_204941.csv</td>\n",
       "      <td>4.085</td>\n",
       "      <td>3.936</td>\n",
       "    </tr>\n",
       "    <tr>\n",
       "      <th>249</th>\n",
       "      <td>60</td>\n",
       "      <td>0.027826</td>\n",
       "      <td>h_60_rg_2.15443469003e-06_lr_0.0278255940221</td>\n",
       "      <td>2.154435e-06</td>\n",
       "      <td>/Users/thorey/Documents/project/competition/fo...</td>\n",
       "      <td>submissions_20160324_095033.csv</td>\n",
       "      <td>3.701</td>\n",
       "      <td>4.042</td>\n",
       "    </tr>\n",
       "    <tr>\n",
       "      <th>287</th>\n",
       "      <td>60</td>\n",
       "      <td>0.027826</td>\n",
       "      <td>h_60_rg_7.74263682681e-07_lr_0.0278255940221</td>\n",
       "      <td>7.742637e-07</td>\n",
       "      <td>/Users/thorey/Documents/project/competition/fo...</td>\n",
       "      <td>submissions_20160324_095053.csv</td>\n",
       "      <td>3.601</td>\n",
       "      <td>4.046</td>\n",
       "    </tr>\n",
       "    <tr>\n",
       "      <th>73</th>\n",
       "      <td>10</td>\n",
       "      <td>0.027826</td>\n",
       "      <td>h_10_rg_4.64158883361e-05_lr_0.0278255940221</td>\n",
       "      <td>4.641589e-05</td>\n",
       "      <td>/Users/thorey/Documents/project/competition/fo...</td>\n",
       "      <td>submissions_20160323_204829.csv</td>\n",
       "      <td>4.443</td>\n",
       "      <td>4.097</td>\n",
       "    </tr>\n",
       "    <tr>\n",
       "      <th>133</th>\n",
       "      <td>35</td>\n",
       "      <td>0.027826</td>\n",
       "      <td>h_35_rg_1.6681005372e-05_lr_0.0278255940221</td>\n",
       "      <td>1.668101e-05</td>\n",
       "      <td>/Users/thorey/Documents/project/competition/fo...</td>\n",
       "      <td>submissions_20160324_013958.csv</td>\n",
       "      <td>3.352</td>\n",
       "      <td>4.132</td>\n",
       "    </tr>\n",
       "    <tr>\n",
       "      <th>172</th>\n",
       "      <td>35</td>\n",
       "      <td>0.004642</td>\n",
       "      <td>h_35_rg_4.64158883361e-05_lr_0.00464158883361</td>\n",
       "      <td>4.641589e-05</td>\n",
       "      <td>/Users/thorey/Documents/project/competition/fo...</td>\n",
       "      <td>submissions_20160324_013639.csv</td>\n",
       "      <td>2.474</td>\n",
       "      <td>4.178</td>\n",
       "    </tr>\n",
       "    <tr>\n",
       "      <th>230</th>\n",
       "      <td>60</td>\n",
       "      <td>0.027826</td>\n",
       "      <td>h_60_rg_1.6681005372e-05_lr_0.0278255940221</td>\n",
       "      <td>1.668101e-05</td>\n",
       "      <td>/Users/thorey/Documents/project/competition/fo...</td>\n",
       "      <td>submissions_20160324_094939.csv</td>\n",
       "      <td>4.199</td>\n",
       "      <td>4.178</td>\n",
       "    </tr>\n",
       "    <tr>\n",
       "      <th>113</th>\n",
       "      <td>35</td>\n",
       "      <td>0.027826</td>\n",
       "      <td>h_35_rg_0.00035938136638_lr_0.0278255940221</td>\n",
       "      <td>3.593814e-04</td>\n",
       "      <td>/Users/thorey/Documents/project/competition/fo...</td>\n",
       "      <td>submissions_20160324_014158.csv</td>\n",
       "      <td>4.053</td>\n",
       "      <td>4.231</td>\n",
       "    </tr>\n",
       "    <tr>\n",
       "      <th>53</th>\n",
       "      <td>10</td>\n",
       "      <td>0.027826</td>\n",
       "      <td>h_10_rg_2.15443469003e-06_lr_0.0278255940221</td>\n",
       "      <td>2.154435e-06</td>\n",
       "      <td>/Users/thorey/Documents/project/competition/fo...</td>\n",
       "      <td>submissions_20160323_204810.csv</td>\n",
       "      <td>3.333</td>\n",
       "      <td>4.245</td>\n",
       "    </tr>\n",
       "    <tr>\n",
       "      <th>143</th>\n",
       "      <td>35</td>\n",
       "      <td>0.027826</td>\n",
       "      <td>h_35_rg_1e-07_lr_0.0278255940221</td>\n",
       "      <td>1.000000e-07</td>\n",
       "      <td>/Users/thorey/Documents/project/competition/fo...</td>\n",
       "      <td>submissions_20160324_013738.csv</td>\n",
       "      <td>4.265</td>\n",
       "      <td>4.278</td>\n",
       "    </tr>\n",
       "    <tr>\n",
       "      <th>278</th>\n",
       "      <td>60</td>\n",
       "      <td>0.027826</td>\n",
       "      <td>h_60_rg_5.99484250319e-06_lr_0.0278255940221</td>\n",
       "      <td>5.994843e-06</td>\n",
       "      <td>/Users/thorey/Documents/project/competition/fo...</td>\n",
       "      <td>submissions_20160324_094947.csv</td>\n",
       "      <td>4.508</td>\n",
       "      <td>4.305</td>\n",
       "    </tr>\n",
       "    <tr>\n",
       "      <th>2</th>\n",
       "      <td>10</td>\n",
       "      <td>0.004642</td>\n",
       "      <td>h_10_rg_0.000129154966501_lr_0.00464158883361</td>\n",
       "      <td>1.291550e-04</td>\n",
       "      <td>/Users/thorey/Documents/project/competition/fo...</td>\n",
       "      <td>submissions_20160323_204438.csv</td>\n",
       "      <td>2.487</td>\n",
       "      <td>4.317</td>\n",
       "    </tr>\n",
       "    <tr>\n",
       "      <th>123</th>\n",
       "      <td>35</td>\n",
       "      <td>0.027826</td>\n",
       "      <td>h_35_rg_0.001_lr_0.0278255940221</td>\n",
       "      <td>1.000000e-03</td>\n",
       "      <td>/Users/thorey/Documents/project/competition/fo...</td>\n",
       "      <td>submissions_20160324_014238.csv</td>\n",
       "      <td>4.019</td>\n",
       "      <td>4.331</td>\n",
       "    </tr>\n",
       "    <tr>\n",
       "      <th>92</th>\n",
       "      <td>10</td>\n",
       "      <td>0.004642</td>\n",
       "      <td>h_10_rg_7.74263682681e-07_lr_0.00464158883361</td>\n",
       "      <td>7.742637e-07</td>\n",
       "      <td>/Users/thorey/Documents/project/competition/fo...</td>\n",
       "      <td>submissions_20160323_204219.csv</td>\n",
       "      <td>3.085</td>\n",
       "      <td>4.346</td>\n",
       "    </tr>\n",
       "    <tr>\n",
       "      <th>268</th>\n",
       "      <td>60</td>\n",
       "      <td>0.004642</td>\n",
       "      <td>h_60_rg_4.64158883361e-05_lr_0.00464158883361</td>\n",
       "      <td>4.641589e-05</td>\n",
       "      <td>/Users/thorey/Documents/project/competition/fo...</td>\n",
       "      <td>submissions_20160324_094258.csv</td>\n",
       "      <td>3.103</td>\n",
       "      <td>4.352</td>\n",
       "    </tr>\n",
       "  </tbody>\n",
       "</table>\n",
       "</div>"
      ],
      "text/plain": [
       "     hiddens        lr                                           name  \\\n",
       "221       60  0.027826               h_60_rg_0.001_lr_0.0278255940221   \n",
       "22        10  0.004642              h_10_rg_0.001_lr_0.00464158883361   \n",
       "63        10  0.027826   h_10_rg_2.78255940221e-07_lr_0.0278255940221   \n",
       "83        10  0.027826   h_10_rg_5.99484250319e-06_lr_0.0278255940221   \n",
       "23        10  0.027826               h_10_rg_0.001_lr_0.0278255940221   \n",
       "13        10  0.027826    h_10_rg_0.00035938136638_lr_0.0278255940221   \n",
       "249       60  0.027826   h_60_rg_2.15443469003e-06_lr_0.0278255940221   \n",
       "287       60  0.027826   h_60_rg_7.74263682681e-07_lr_0.0278255940221   \n",
       "73        10  0.027826   h_10_rg_4.64158883361e-05_lr_0.0278255940221   \n",
       "133       35  0.027826    h_35_rg_1.6681005372e-05_lr_0.0278255940221   \n",
       "172       35  0.004642  h_35_rg_4.64158883361e-05_lr_0.00464158883361   \n",
       "230       60  0.027826    h_60_rg_1.6681005372e-05_lr_0.0278255940221   \n",
       "113       35  0.027826    h_35_rg_0.00035938136638_lr_0.0278255940221   \n",
       "53        10  0.027826   h_10_rg_2.15443469003e-06_lr_0.0278255940221   \n",
       "143       35  0.027826               h_35_rg_1e-07_lr_0.0278255940221   \n",
       "278       60  0.027826   h_60_rg_5.99484250319e-06_lr_0.0278255940221   \n",
       "2         10  0.004642  h_10_rg_0.000129154966501_lr_0.00464158883361   \n",
       "123       35  0.027826               h_35_rg_0.001_lr_0.0278255940221   \n",
       "92        10  0.004642  h_10_rg_7.74263682681e-07_lr_0.00464158883361   \n",
       "268       60  0.004642  h_60_rg_4.64158883361e-05_lr_0.00464158883361   \n",
       "\n",
       "              reg                                               root  \\\n",
       "221  1.000000e-03  /Users/thorey/Documents/project/competition/fo...   \n",
       "22   1.000000e-03  /Users/thorey/Documents/project/competition/fo...   \n",
       "63   2.782559e-07  /Users/thorey/Documents/project/competition/fo...   \n",
       "83   5.994843e-06  /Users/thorey/Documents/project/competition/fo...   \n",
       "23   1.000000e-03  /Users/thorey/Documents/project/competition/fo...   \n",
       "13   3.593814e-04  /Users/thorey/Documents/project/competition/fo...   \n",
       "249  2.154435e-06  /Users/thorey/Documents/project/competition/fo...   \n",
       "287  7.742637e-07  /Users/thorey/Documents/project/competition/fo...   \n",
       "73   4.641589e-05  /Users/thorey/Documents/project/competition/fo...   \n",
       "133  1.668101e-05  /Users/thorey/Documents/project/competition/fo...   \n",
       "172  4.641589e-05  /Users/thorey/Documents/project/competition/fo...   \n",
       "230  1.668101e-05  /Users/thorey/Documents/project/competition/fo...   \n",
       "113  3.593814e-04  /Users/thorey/Documents/project/competition/fo...   \n",
       "53   2.154435e-06  /Users/thorey/Documents/project/competition/fo...   \n",
       "143  1.000000e-07  /Users/thorey/Documents/project/competition/fo...   \n",
       "278  5.994843e-06  /Users/thorey/Documents/project/competition/fo...   \n",
       "2    1.291550e-04  /Users/thorey/Documents/project/competition/fo...   \n",
       "123  1.000000e-03  /Users/thorey/Documents/project/competition/fo...   \n",
       "92   7.742637e-07  /Users/thorey/Documents/project/competition/fo...   \n",
       "268  4.641589e-05  /Users/thorey/Documents/project/competition/fo...   \n",
       "\n",
       "                          submission  trainacc  valacc  \n",
       "221  submissions_20160324_095858.csv     4.086   3.615  \n",
       "22   submissions_20160323_204746.csv     2.221   3.895  \n",
       "63   submissions_20160323_204614.csv     4.364   3.919  \n",
       "83   submissions_20160323_204759.csv     3.499   3.924  \n",
       "23   submissions_20160323_205029.csv     3.953   3.926  \n",
       "13   submissions_20160323_204941.csv     4.085   3.936  \n",
       "249  submissions_20160324_095033.csv     3.701   4.042  \n",
       "287  submissions_20160324_095053.csv     3.601   4.046  \n",
       "73   submissions_20160323_204829.csv     4.443   4.097  \n",
       "133  submissions_20160324_013958.csv     3.352   4.132  \n",
       "172  submissions_20160324_013639.csv     2.474   4.178  \n",
       "230  submissions_20160324_094939.csv     4.199   4.178  \n",
       "113  submissions_20160324_014158.csv     4.053   4.231  \n",
       "53   submissions_20160323_204810.csv     3.333   4.245  \n",
       "143  submissions_20160324_013738.csv     4.265   4.278  \n",
       "278  submissions_20160324_094947.csv     4.508   4.305  \n",
       "2    submissions_20160323_204438.csv     2.487   4.317  \n",
       "123  submissions_20160324_014238.csv     4.019   4.331  \n",
       "92   submissions_20160323_204219.csv     3.085   4.346  \n",
       "268  submissions_20160324_094258.csv     3.103   4.352  "
      ]
     },
     "execution_count": 116,
     "metadata": {},
     "output_type": "execute_result"
    }
   ],
   "source": [
    "results.sort_values('valacc').iloc[:20]"
   ]
  },
  {
   "cell_type": "code",
   "execution_count": 167,
   "metadata": {
    "collapsed": false
   },
   "outputs": [],
   "source": [
    "df = results.sort_values('valacc').head(10)\n",
    "df.index = range(len(df))\n",
    "for i,row in df.iterrows():\n",
    "    if i == 0:\n",
    "        submission = pd.read_csv(os.path.join(row.root,row.submission),index_col=0)\n",
    "    else:\n",
    "        submission = submission.join(pd.read_csv(os.path.join(row.root,row.submission),index_col=0),how='left',rsuffix='r')\n",
    "final_sub = pd.DataFrame(np.array(submission).mean(axis=1),index=submission.index,columns = ['yield'])"
   ]
  },
  {
   "cell_type": "code",
   "execution_count": 169,
   "metadata": {
    "collapsed": false
   },
   "outputs": [],
   "source": [
    "final_sub.to_csv('model_ensemble.csv')"
   ]
  },
  {
   "cell_type": "code",
   "execution_count": 177,
   "metadata": {
    "collapsed": false
   },
   "outputs": [
    {
     "data": {
      "text/plain": [
       "Index([u'2013-11-24 00:00:00', u'2013-11-24 02:00:00', u'2013-11-24 04:00:00',\n",
       "       u'2013-11-24 06:00:00', u'2013-11-24 08:00:00', u'2013-11-24 10:00:00',\n",
       "       u'2013-11-24 12:00:00', u'2013-11-24 14:00:00', u'2013-11-24 16:00:00',\n",
       "       u'2013-11-24 18:00:00',\n",
       "       ...\n",
       "       u'2016-01-03 16:00:00', u'2016-01-03 18:00:00', u'2016-01-03 20:00:00',\n",
       "       u'2016-01-03 22:00:00', u'2016-01-04 00:00:00', u'2016-01-04 02:00:00',\n",
       "       u'2016-01-04 04:00:00', u'2016-01-04 06:00:00', u'2016-01-04 08:00:00',\n",
       "       u'2016-01-04 10:00:00'],\n",
       "      dtype='object', length=1590)"
      ]
     },
     "execution_count": 177,
     "metadata": {},
     "output_type": "execute_result"
    }
   ],
   "source": [
    "final_sub.index"
   ]
  },
  {
   "cell_type": "code",
   "execution_count": null,
   "metadata": {
    "collapsed": true
   },
   "outputs": [],
   "source": [
    "plt.scatter(submission_format.index,hello['yield'])"
   ]
  },
  {
   "cell_type": "code",
   "execution_count": 179,
   "metadata": {
    "collapsed": false
   },
   "outputs": [
    {
     "data": {
      "text/plain": [
       "<matplotlib.collections.PathCollection at 0x11c472050>"
      ]
     },
     "execution_count": 179,
     "metadata": {},
     "output_type": "execute_result"
    },
    {
     "data": {
      "image/png": "[encoded data removed]",
      "text/plain": [
       "<matplotlib.figure.Figure at 0x11c3dfdd0>"
      ]
     },
     "metadata": {},
     "output_type": "display_data"
    }
   ],
   "source": [
    "plt.scatter(range(len(final_sub.index)),final_sub['yield'])"
   ]
  },
  {
   "cell_type": "code",
   "execution_count": null,
   "metadata": {
    "collapsed": true
   },
   "outputs": [],
   "source": []
  }
 ],
 "metadata": {
  "kernelspec": {
   "display_name": "Python 2",
   "language": "python",
   "name": "python2"
  },
  "language_info": {
   "codemirror_mode": {
    "name": "ipython",
    "version": 2
   },
   "file_extension": ".py",
   "mimetype": "text/x-python",
   "name": "python",
   "nbconvert_exporter": "python",
   "pygments_lexer": "ipython2",
   "version": "2.7.11"
  },
  "latex_envs": {
   "bibliofile": "biblio.bib",
   "cite_by": "apalike",
   "current_citInitial": 1,
   "eqLabelWithNumbers": true,
   "eqNumInitial": 0
  }
 },
 "nbformat": 4,
 "nbformat_minor": 0
}

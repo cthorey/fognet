{
 "cells": [
  {
   "cell_type": "code",
   "execution_count": null,
   "metadata": {
    "collapsed": true
   },
   "outputs": [],
   "source": [
    "def change_root(fname):\n",
    "    try:\n",
    "        conf = parse_conf_file(os.path.join(fname,'conf_model.json'))\n",
    "        try:\n",
    "            conf['folder'] = conf['folder'].replace('/Users/clement','~')\n",
    "            conf['model_fname'] = conf['model_fname'].replace('/Users/clement','~')\n",
    "            conf['model_graph_fname'] = conf['model_graph_fname'].replace('/Users/clement','~')\n",
    "            conf['model_history_fname'] = conf['model_history_fname'].replace('/Users/clement','~')\n",
    "        except:\n",
    "            pass\n",
    "        conf['root'] = conf['root'].replace('/Users/clement','~')\n",
    "        dump_conf_file(conf,fname)\n",
    "    except:\n",
    "        pass\n",
    "    "
   ]
  },
  {
   "cell_type": "code",
   "execution_count": null,
   "metadata": {
    "collapsed": true
   },
   "outputs": [],
   "source": [
    "models = [f for f in os.listdir(base_model) if f != 'conf_model.json']\n",
    "for model in models:\n",
    "    fname = os.path.join(base_model,model)\n",
    "    change_root(fname)\n",
    "    "
   ]
  }
 ],
 "metadata": {
  "kernelspec": {
   "display_name": "Python 2",
   "language": "python",
   "name": "python2"
  },
  "language_info": {
   "codemirror_mode": {
    "name": "ipython",
    "version": 2
   },
   "file_extension": ".py",
   "mimetype": "text/x-python",
   "name": "python",
   "nbconvert_exporter": "python",
   "pygments_lexer": "ipython2",
   "version": "2.7.11"
  },
  "latex_envs": {
   "bibliofile": "biblio.bib",
   "cite_by": "apalike",
   "current_citInitial": 1,
   "eqLabelWithNumbers": true,
   "eqNumInitial": 0
  }
 },
 "nbformat": 4,
 "nbformat_minor": 0
}

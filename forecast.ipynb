{
 "cells": [
  {
   "cell_type": "code",
   "execution_count": 1,
   "metadata": {
    "collapsed": true
   },
   "outputs": [],
   "source": [
    "import statsmodels.api as sm"
   ]
  },
  {
   "cell_type": "code",
   "execution_count": 2,
   "metadata": {
    "collapsed": true
   },
   "outputs": [],
   "source": [
    "from utils.data_utils import build_dataset"
   ]
  },
  {
   "cell_type": "code",
   "execution_count": 3,
   "metadata": {
    "collapsed": true
   },
   "outputs": [],
   "source": [
    "df = build_dataset()"
   ]
  },
  {
   "cell_type": "code",
   "execution_count": 4,
   "metadata": {
    "collapsed": true
   },
   "outputs": [],
   "source": [
    "import matplotlib.pylab as plt\n",
    "%matplotlib inline"
   ]
  },
  {
   "cell_type": "code",
   "execution_count": 2,
   "metadata": {
    "collapsed": false
   },
   "outputs": [
    {
     "name": "stderr",
     "output_type": "stream",
     "text": [
      "/Users/thorey/miniconda2/envs/fognet/lib/python2.7/site-packages/rpy2/robjects/lib/ggplot2.py:59: UserWarning: This was designed againt ggplot2 version 2.0.0 but you have 2.1.0\n",
      "  warnings.warn('This was designed againt ggplot2 version %s but you have %s' % (TARGET_VERSION, ggplot2.__version__))\n"
     ]
    }
   ],
   "source": [
    "import math, datetime\n",
    "import rpy2.robjects.lib.ggplot2 as ggplot2\n",
    "import rpy2.robjects as robj\n",
    "from rpy2.robjects.packages import importr\n",
    "import rpy2.robjects.numpy2ri as rpyn\n",
    "import uuid\n",
    "from rpy2.robjects.packages import importr \n",
    "from IPython.core.display import Image\n",
    "rprint = robj.globalenv.get(\"print\")"
   ]
  },
  {
   "cell_type": "code",
   "execution_count": 6,
   "metadata": {
    "collapsed": true
   },
   "outputs": [],
   "source": [
    "from utils.data_utils import train_val_test_split"
   ]
  },
  {
   "cell_type": "code",
   "execution_count": 136,
   "metadata": {
    "collapsed": false
   },
   "outputs": [
    {
     "name": "stdout",
     "output_type": "stream",
     "text": [
      "Le train is composed by 3 group and 4425 observation\n",
      "Le val is composed by 3 group and 2213 observation\n",
      "Le test is composed by 3 group and 739 observation\n"
     ]
    }
   ],
   "source": [
    "df = build_dataset()\n",
    "train,val,test = train_val_test_split(df)"
   ]
  },
  {
   "cell_type": "code",
   "execution_count": null,
   "metadata": {
    "collapsed": true
   },
   "outputs": [],
   "source": [
    "obje"
   ]
  },
  {
   "cell_type": "markdown",
   "metadata": {},
   "source": [
    "# Fit a model base on first group "
   ]
  },
  {
   "cell_type": "code",
   "execution_count": 140,
   "metadata": {
    "collapsed": true
   },
   "outputs": [],
   "source": [
    "traingp = train.groupby('group')"
   ]
  },
  {
   "cell_type": "code",
   "execution_count": 154,
   "metadata": {
    "collapsed": false
   },
   "outputs": [
    {
     "name": "stderr",
     "output_type": "stream",
     "text": [
      "\r",
      "  0%|          | 0/4 [00:00<?, ?it/s]"
     ]
    },
    {
     "name": "stdout",
     "output_type": "stream",
     "text": [
      "Series: x \n",
      "ARIMA(5,1,0)                    \n",
      "\n",
      "Coefficients:\n",
      "         ar1      ar2      ar3      ar4      ar5\n",
      "      0.1579  -0.1540  -0.0623  -0.0511  -0.0813\n",
      "s.e.  0.0156   0.0159   0.0161   0.0160   0.0158\n",
      "\n",
      "sigma^2 estimated as 0.007711:  log likelihood=4125.46\n",
      "AIC=-8238.92   AICc=-8238.91   BIC=-8200.56\n",
      "\n",
      "Training set error measures:\n",
      "                       ME       RMSE        MAE MPE MAPE      MASE         ACF1\n",
      "Training set 6.898383e-05 0.08780228 0.05157757 NaN  Inf 0.9835023 -0.004183486\n",
      "                       ME       RMSE        MAE MPE MAPE      MASE         ACF1\n",
      "Training set 6.898383e-05 0.08780228 0.05157757 NaN  Inf 0.9835023 -0.004183486\n",
      "Series: x \n",
      "ARIMA(1,0,2) with non-zero mean \n",
      "\n",
      "Coefficients:\n",
      "         ar1     ma1      ma2  intercept\n",
      "      0.9479  0.1935  -0.1240     0.4845\n",
      "s.e.  0.0080  0.0248   0.0257     0.0327\n",
      "\n",
      "sigma^2 estimated as 0.005557:  log likelihood=2431.07\n",
      "AIC=-4852.14   AICc=-4852.11   BIC=-4823.63\n",
      "\n",
      "Training set error measures:\n",
      "                        ME       RMSE        MAE       MPE     MAPE      MASE\n",
      "Training set -0.0004360662 0.07454472 0.04977402 -4.336887 14.31549 0.9937669\n",
      "                    ACF1\n",
      "Training set 0.006582111\n",
      "                        ME       RMSE        MAE       MPE     MAPE      MASE\n",
      "Training set -0.0004360662 0.07454472 0.04977402 -4.336887 14.31549 0.9937669\n",
      "                    ACF1\n",
      "Training set 0.006582111\n"
     ]
    },
    {
     "name": "stderr",
     "output_type": "stream",
     "text": [
      "\r",
      " 25%|██▌       | 1/4 [00:01<00:03,  1.13s/it]"
     ]
    },
    {
     "name": "stdout",
     "output_type": "stream",
     "text": [
      "Series: x \n",
      "ARIMA(4,1,0)                    \n",
      "\n",
      "Coefficients:\n",
      "         ar1      ar2      ar3      ar4\n",
      "      0.4779  -0.1819  -0.0777  -0.1064\n",
      "s.e.  0.0156   0.0173   0.0173   0.0157\n",
      "\n",
      "sigma^2 estimated as 1.354:  log likelihood=-6426.03\n",
      "AIC=12862.06   AICc=12862.08   BIC=12894.04\n",
      "\n",
      "Training set error measures:\n",
      "                       ME     RMSE       MAE MPE MAPE      MASE         ACF1\n",
      "Training set 0.0006420316 1.163529 0.8134711 NaN  Inf 0.8467089 -0.004463284\n",
      "                       ME     RMSE       MAE MPE MAPE      MASE         ACF1\n",
      "Training set 0.0006420316 1.163529 0.8134711 NaN  Inf 0.8467089 -0.004463284\n",
      "Series: x \n",
      "ARIMA(5,1,0)                    \n",
      "\n",
      "Coefficients:\n",
      "         ar1      ar2      ar3      ar4      ar5\n",
      "      0.5117  -0.1880  -0.0899  -0.0611  -0.0797\n",
      "s.e.  0.0219   0.0246   0.0249   0.0246   0.0219\n",
      "\n",
      "sigma^2 estimated as 1.381:  log likelihood=-3275.57\n",
      "AIC=6563.14   AICc=6563.18   BIC=6597.35\n",
      "\n",
      "Training set error measures:\n",
      "                      ME    RMSE      MAE        MPE    MAPE      MASE\n",
      "Training set 0.006123848 1.17504 0.862174 -0.2372915 5.34352 0.8241146\n",
      "                     ACF1\n",
      "Training set -0.007751617\n",
      "                      ME    RMSE      MAE        MPE    MAPE      MASE\n",
      "Training set 0.006123848 1.17504 0.862174 -0.2372915 5.34352 0.8241146\n",
      "                     ACF1\n",
      "Training set -0.007751617\n"
     ]
    },
    {
     "name": "stderr",
     "output_type": "stream",
     "text": [
      "\r",
      " 50%|█████     | 2/4 [00:02<00:02,  1.19s/it]"
     ]
    },
    {
     "name": "stdout",
     "output_type": "stream",
     "text": [
      "Series: x \n",
      "ARIMA(1,1,0)                    \n",
      "\n",
      "Coefficients:\n",
      "          ar1\n",
      "      -0.1922\n",
      "s.e.   0.0153\n",
      "\n",
      "sigma^2 estimated as 0.4508:  log likelihood=-4177.13\n",
      "AIC=8358.26   AICc=8358.26   BIC=8371.05\n",
      "\n",
      "Training set error measures:\n",
      "                       ME      RMSE        MAE MPE MAPE    MASE       ACF1\n",
      "Training set 6.984358e-06 0.6713105 0.07455553 NaN  Inf 1.00018 0.01031638\n",
      "                       ME      RMSE        MAE MPE MAPE    MASE       ACF1\n",
      "Training set 6.984358e-06 0.6713105 0.07455553 NaN  Inf 1.00018 0.01031638\n",
      "Series: x \n",
      "ARIMA(4,1,5)                    \n",
      "\n",
      "Coefficients:\n",
      "          ar1      ar2      ar3      ar4     ma1      ma2     ma3      ma4\n",
      "      -1.1999  -0.8593  -1.1247  -0.6265  0.5712  -0.1952  0.2119  -0.2386\n",
      "s.e.   0.0605   0.0968   0.0641   0.0418  0.0640   0.0805  0.0477   0.0774\n",
      "          ma5\n",
      "      -0.5973\n",
      "s.e.   0.0455\n",
      "\n",
      "sigma^2 estimated as 4.031e-06:  log likelihood=9909.38\n",
      "AIC=-20385.4   AICc=-20385.3   BIC=-20328.39\n",
      "\n",
      "Training set error measures:\n",
      "                       ME        RMSE          MAE MPE MAPE      MASE\n",
      "Training set 4.543137e-11 0.001994905 0.0007252464 NaN  Inf 0.3469422\n",
      "                    ACF1\n",
      "Training set -0.01926793\n",
      "                       ME        RMSE          MAE MPE MAPE      MASE\n",
      "Training set 4.543137e-11 0.001994905 0.0007252464 NaN  Inf 0.3469422\n",
      "                    ACF1\n",
      "Training set -0.01926793\n"
     ]
    },
    {
     "name": "stderr",
     "output_type": "stream",
     "text": [
      "\r",
      " 75%|███████▌  | 3/4 [00:05<00:01,  1.67s/it]"
     ]
    },
    {
     "name": "stdout",
     "output_type": "stream",
     "text": [
      "Series: x \n",
      "ARIMA(5,1,0)                    \n",
      "\n",
      "Coefficients:\n",
      "         ar1      ar2      ar3      ar4      ar5\n",
      "      0.0548  -0.1459  -0.0961  -0.1053  -0.0663\n",
      "s.e.  0.0157   0.0156   0.0157   0.0157   0.0158\n",
      "\n",
      "sigma^2 estimated as 0.667:  log likelihood=-4975.35\n",
      "AIC=9962.7   AICc=9962.72   BIC=10001.07\n",
      "\n",
      "Training set error measures:\n",
      "                       ME      RMSE       MAE  MPE MAPE      MASE        ACF1\n",
      "Training set 9.868794e-05 0.8165792 0.6144036 -Inf  Inf 0.9775062 -0.00462398\n",
      "                       ME      RMSE       MAE  MPE MAPE      MASE        ACF1\n",
      "Training set 9.868794e-05 0.8165792 0.6144036 -Inf  Inf 0.9775062 -0.00462398\n",
      "Series: x \n",
      "ARIMA(1,0,5) with non-zero mean \n",
      "\n",
      "Coefficients:\n",
      "         ar1     ma1      ma2      ma3      ma4      ma5  intercept\n",
      "      0.9392  0.0704  -0.1238  -0.1660  -0.1347  -0.0596     2.5203\n",
      "s.e.  0.0136  0.0263   0.0265   0.0262   0.0239   0.0220     0.1449\n",
      "\n",
      "sigma^2 estimated as 0.4889:  log likelihood=-2198.59\n",
      "AIC=4413.18   AICc=4413.25   BIC=4458.8\n",
      "\n",
      "Training set error measures:\n",
      "                       ME     RMSE       MAE  MPE MAPE      MASE        ACF1\n",
      "Training set 0.0008087514 0.699205 0.5267162 -Inf  Inf 0.9498622 0.004519533\n",
      "                       ME     RMSE       MAE  MPE MAPE      MASE        ACF1\n",
      "Training set 0.0008087514 0.699205 0.5267162 -Inf  Inf 0.9498622 0.004519533\n"
     ]
    },
    {
     "name": "stderr",
     "output_type": "stream",
     "text": []
    }
   ],
   "source": [
    "train_tmp = train.copy()\n",
    "val_tmp = val.copy()\n",
    "cols = ['humidity','temp','percip_mm','wind_ms']\n",
    "for col in tqdm(cols):\n",
    "    train_tmp[col] = fit_best_ARIMA(train[col])\n",
    "    val_tmp[col] = fit_best_ARIMA(val[col])"
   ]
  },
  {
   "cell_type": "code",
   "execution_count": 143,
   "metadata": {
    "collapsed": true
   },
   "outputs": [],
   "source": [
    "def insert_nan(x):\n",
    "    if x ==-1:\n",
    "        return np.nan\n",
    "    else:\n",
    "        return x\n",
    "train_tmp['yield'] = map(insert_nan,train_tmp['yield'])"
   ]
  },
  {
   "cell_type": "code",
   "execution_count": 1,
   "metadata": {
    "collapsed": false
   },
   "outputs": [
    {
     "ename": "NameError",
     "evalue": "name 'robj' is not defined",
     "output_type": "error",
     "traceback": [
      "\u001b[0;31m---------------------------------------------------------------------------\u001b[0m",
      "\u001b[0;31mNameError\u001b[0m                                 Traceback (most recent call last)",
      "\u001b[0;32m<ipython-input-1-2409af76c1f9>\u001b[0m in \u001b[0;36m<module>\u001b[0;34m()\u001b[0m\n\u001b[0;32m----> 1\u001b[0;31m \u001b[0mrobj\u001b[0m\u001b[0;34m.\u001b[0m\u001b[0mr\u001b[0m\u001b[0;34m(\u001b[0m\u001b[0;34m'fit <- stl(x, t.window=15, s.window=\"periodic\", robust=TRUE)'\u001b[0m\u001b[0;34m)\u001b[0m\u001b[0;34m\u001b[0m\u001b[0m\n\u001b[0m\u001b[1;32m      2\u001b[0m \u001b[0mplot\u001b[0m\u001b[0;34m(\u001b[0m\u001b[0mfit\u001b[0m\u001b[0;34m)\u001b[0m\u001b[0;34m\u001b[0m\u001b[0m\n",
      "\u001b[0;31mNameError\u001b[0m: name 'robj' is not defined"
     ]
    }
   ],
   "source": [
    "robj.r('fit <- stl(x, t.window=15, s.window=\"periodic\", robust=TRUE)')\n",
    "plot(fit)"
   ]
  },
  {
   "cell_type": "code",
   "execution_count": 1,
   "metadata": {
    "collapsed": false
   },
   "outputs": [],
   "source": [
    "def fit_best_ARIMA(x,xreg):\n",
    "    robj.globalenv['xreg'] = xreg\n",
    "    robj.globalenv['x'] = x\n",
    "    robj.r('fit <- auto.arima(x,xreg)')\n",
    "    robj.r('print(summary(fit))')\n",
    "    return rpyn.ri2py(robj.r['y'])"
   ]
  },
  {
   "cell_type": "code",
   "execution_count": null,
   "metadata": {
    "collapsed": true
   },
   "outputs": [],
   "source": [
    "fit_best_ARIMA()"
   ]
  },
  {
   "cell_type": "code",
   "execution_count": 145,
   "metadata": {
    "collapsed": true
   },
   "outputs": [
    {
     "name": "stderr",
     "output_type": "stream",
     "text": [
      " 19%|█▉        | 7/36 [00:19<01:31,  3.17s/it]/Users/thorey/miniconda2/envs/fognet/lib/python2.7/site-packages/statsmodels-0.8.0-py2.7-macosx-10.5-x86_64.egg/statsmodels/base/model.py:471: ConvergenceWarning: Maximum Likelihood optimization failed to converge. Check mle_retvals\n",
      "  \"Check mle_retvals\", ConvergenceWarning)\n",
      " 31%|███       | 11/36 [00:41<02:14,  5.38s/it]/Users/thorey/miniconda2/envs/fognet/lib/python2.7/site-packages/statsmodels-0.8.0-py2.7-macosx-10.5-x86_64.egg/statsmodels/base/model.py:471: ConvergenceWarning: Maximum Likelihood optimization failed to converge. Check mle_retvals\n",
      "  \"Check mle_retvals\", ConvergenceWarning)\n",
      " 36%|███▌      | 13/36 [00:56<02:17,  5.99s/it]/Users/thorey/miniconda2/envs/fognet/lib/python2.7/site-packages/statsmodels-0.8.0-py2.7-macosx-10.5-x86_64.egg/statsmodels/base/model.py:471: ConvergenceWarning: Maximum Likelihood optimization failed to converge. Check mle_retvals\n",
      "  \"Check mle_retvals\", ConvergenceWarning)\n",
      " 47%|████▋     | 17/36 [01:13<01:37,  5.11s/it]/Users/thorey/miniconda2/envs/fognet/lib/python2.7/site-packages/statsmodels-0.8.0-py2.7-macosx-10.5-x86_64.egg/statsmodels/base/model.py:471: ConvergenceWarning: Maximum Likelihood optimization failed to converge. Check mle_retvals\n",
      "  \"Check mle_retvals\", ConvergenceWarning)\n",
      " 56%|█████▌    | 20/36 [01:38<01:44,  6.55s/it]/Users/thorey/miniconda2/envs/fognet/lib/python2.7/site-packages/statsmodels-0.8.0-py2.7-macosx-10.5-x86_64.egg/statsmodels/base/model.py:471: ConvergenceWarning: Maximum Likelihood optimization failed to converge. Check mle_retvals\n",
      "  \"Check mle_retvals\", ConvergenceWarning)\n",
      " 58%|█████▊    | 21/36 [01:46<01:45,  7.03s/it]/Users/thorey/miniconda2/envs/fognet/lib/python2.7/site-packages/statsmodels-0.8.0-py2.7-macosx-10.5-x86_64.egg/statsmodels/base/model.py:471: ConvergenceWarning: Maximum Likelihood optimization failed to converge. Check mle_retvals\n",
      "  \"Check mle_retvals\", ConvergenceWarning)\n",
      " 64%|██████▍   | 23/36 [01:56<01:23,  6.40s/it]/Users/thorey/miniconda2/envs/fognet/lib/python2.7/site-packages/statsmodels-0.8.0-py2.7-macosx-10.5-x86_64.egg/statsmodels/base/model.py:471: ConvergenceWarning: Maximum Likelihood optimization failed to converge. Check mle_retvals\n",
      "  \"Check mle_retvals\", ConvergenceWarning)\n",
      " 72%|███████▏  | 26/36 [02:22<01:14,  7.46s/it]/Users/thorey/miniconda2/envs/fognet/lib/python2.7/site-packages/statsmodels-0.8.0-py2.7-macosx-10.5-x86_64.egg/statsmodels/base/model.py:471: ConvergenceWarning: Maximum Likelihood optimization failed to converge. Check mle_retvals\n",
      "  \"Check mle_retvals\", ConvergenceWarning)\n",
      " 75%|███████▌  | 27/36 [02:32<01:13,  8.20s/it]/Users/thorey/miniconda2/envs/fognet/lib/python2.7/site-packages/statsmodels-0.8.0-py2.7-macosx-10.5-x86_64.egg/statsmodels/base/model.py:471: ConvergenceWarning: Maximum Likelihood optimization failed to converge. Check mle_retvals\n",
      "  \"Check mle_retvals\", ConvergenceWarning)\n",
      " 78%|███████▊  | 28/36 [02:44<01:13,  9.18s/it]/Users/thorey/miniconda2/envs/fognet/lib/python2.7/site-packages/statsmodels-0.8.0-py2.7-macosx-10.5-x86_64.egg/statsmodels/base/model.py:471: ConvergenceWarning: Maximum Likelihood optimization failed to converge. Check mle_retvals\n",
      "  \"Check mle_retvals\", ConvergenceWarning)\n",
      " 81%|████████  | 29/36 [02:55<01:08,  9.74s/it]/Users/thorey/miniconda2/envs/fognet/lib/python2.7/site-packages/statsmodels-0.8.0-py2.7-macosx-10.5-x86_64.egg/statsmodels/base/model.py:471: ConvergenceWarning: Maximum Likelihood optimization failed to converge. Check mle_retvals\n",
      "  \"Check mle_retvals\", ConvergenceWarning)\n",
      " 92%|█████████▏| 33/36 [03:31<00:26,  8.84s/it]/Users/thorey/miniconda2/envs/fognet/lib/python2.7/site-packages/statsmodels-0.8.0-py2.7-macosx-10.5-x86_64.egg/statsmodels/base/model.py:471: ConvergenceWarning: Maximum Likelihood optimization failed to converge. Check mle_retvals\n",
      "  \"Check mle_retvals\", ConvergenceWarning)\n",
      " 94%|█████████▍| 34/36 [03:41<00:18,  9.15s/it]/Users/thorey/miniconda2/envs/fognet/lib/python2.7/site-packages/statsmodels-0.8.0-py2.7-macosx-10.5-x86_64.egg/statsmodels/base/model.py:471: ConvergenceWarning: Maximum Likelihood optimization failed to converge. Check mle_retvals\n",
      "  \"Check mle_retvals\", ConvergenceWarning)\n",
      " 97%|█████████▋| 35/36 [03:52<00:09,  9.65s/it]/Users/thorey/miniconda2/envs/fognet/lib/python2.7/site-packages/statsmodels-0.8.0-py2.7-macosx-10.5-x86_64.egg/statsmodels/base/model.py:471: ConvergenceWarning: Maximum Likelihood optimization failed to converge. Check mle_retvals\n",
      "  \"Check mle_retvals\", ConvergenceWarning)\n"
     ]
    }
   ],
   "source": [
    "import itertools\n",
    "import pandas as pd\n",
    "from tqdm import *\n",
    "parameters_grid = {'p':range(6),'q':range(6)}\n",
    "product = [x for x in apply(itertools.product, parameters_grid.values())]\n",
    "aic = pd.DataFrame(np.zeros((6,6), dtype=float))\n",
    "for (p,q) in tqdm(product):\n",
    "    if p == 0 and q == 0:\n",
    "        continue\n",
    "    mod = sm.tsa.SARIMAX(train_tmp['yield'], \n",
    "                         order=(p,1,q),\n",
    "                         exog=train_tmp[cols],\n",
    "                         date= train_tmp.index,\n",
    "                         enforce_invertibility=False)\n",
    "    try:\n",
    "        res = mod.fit()\n",
    "        aic.iloc[p,q] = res.aic\n",
    "    except:\n",
    "        aic.iloc[p,q] = np.nan  "
   ]
  },
  {
   "cell_type": "code",
   "execution_count": 148,
   "metadata": {
    "collapsed": false
   },
   "outputs": [
    {
     "data": {
      "text/html": [
       "<div>\n",
       "<table border=\"1\" class=\"dataframe\">\n",
       "  <thead>\n",
       "    <tr style=\"text-align: right;\">\n",
       "      <th></th>\n",
       "      <th>0</th>\n",
       "      <th>1</th>\n",
       "      <th>2</th>\n",
       "      <th>3</th>\n",
       "      <th>4</th>\n",
       "      <th>5</th>\n",
       "    </tr>\n",
       "  </thead>\n",
       "  <tbody>\n",
       "    <tr>\n",
       "      <th>0</th>\n",
       "      <td>0.000000</td>\n",
       "      <td>15913.723983</td>\n",
       "      <td>15811.959178</td>\n",
       "      <td>15579.018808</td>\n",
       "      <td>15488.265958</td>\n",
       "      <td>15444.571627</td>\n",
       "    </tr>\n",
       "    <tr>\n",
       "      <th>1</th>\n",
       "      <td>15913.800139</td>\n",
       "      <td>NaN</td>\n",
       "      <td>15442.317081</td>\n",
       "      <td>15435.497000</td>\n",
       "      <td>15437.201810</td>\n",
       "      <td>15438.625752</td>\n",
       "    </tr>\n",
       "    <tr>\n",
       "      <th>2</th>\n",
       "      <td>15860.288724</td>\n",
       "      <td>NaN</td>\n",
       "      <td>15436.430658</td>\n",
       "      <td>NaN</td>\n",
       "      <td>15439.178193</td>\n",
       "      <td>15439.227188</td>\n",
       "    </tr>\n",
       "    <tr>\n",
       "      <th>3</th>\n",
       "      <td>15783.567049</td>\n",
       "      <td>15435.611636</td>\n",
       "      <td>15430.749320</td>\n",
       "      <td>NaN</td>\n",
       "      <td>15431.934330</td>\n",
       "      <td>15432.303711</td>\n",
       "    </tr>\n",
       "    <tr>\n",
       "      <th>4</th>\n",
       "      <td>15728.917694</td>\n",
       "      <td>15437.042425</td>\n",
       "      <td>15432.252813</td>\n",
       "      <td>15434.123366</td>\n",
       "      <td>15434.242998</td>\n",
       "      <td>15433.614564</td>\n",
       "    </tr>\n",
       "    <tr>\n",
       "      <th>5</th>\n",
       "      <td>15664.916955</td>\n",
       "      <td>15438.446356</td>\n",
       "      <td>15434.108275</td>\n",
       "      <td>15436.255929</td>\n",
       "      <td>15428.562535</td>\n",
       "      <td>15448.743455</td>\n",
       "    </tr>\n",
       "  </tbody>\n",
       "</table>\n",
       "</div>"
      ],
      "text/plain": [
       "              0             1             2             3             4  \\\n",
       "0      0.000000  15913.723983  15811.959178  15579.018808  15488.265958   \n",
       "1  15913.800139           NaN  15442.317081  15435.497000  15437.201810   \n",
       "2  15860.288724           NaN  15436.430658           NaN  15439.178193   \n",
       "3  15783.567049  15435.611636  15430.749320           NaN  15431.934330   \n",
       "4  15728.917694  15437.042425  15432.252813  15434.123366  15434.242998   \n",
       "5  15664.916955  15438.446356  15434.108275  15436.255929  15428.562535   \n",
       "\n",
       "              5  \n",
       "0  15444.571627  \n",
       "1  15438.625752  \n",
       "2  15439.227188  \n",
       "3  15432.303711  \n",
       "4  15433.614564  \n",
       "5  15448.743455  "
      ]
     },
     "execution_count": 148,
     "metadata": {},
     "output_type": "execute_result"
    }
   ],
   "source": [
    "aic"
   ]
  },
  {
   "cell_type": "code",
   "execution_count": 149,
   "metadata": {
    "collapsed": false
   },
   "outputs": [
    {
     "name": "stderr",
     "output_type": "stream",
     "text": [
      "/Users/thorey/miniconda2/envs/fognet/lib/python2.7/site-packages/statsmodels-0.8.0-py2.7-macosx-10.5-x86_64.egg/statsmodels/base/model.py:471: ConvergenceWarning: Maximum Likelihood optimization failed to converge. Check mle_retvals\n",
      "  \"Check mle_retvals\", ConvergenceWarning)\n"
     ]
    }
   ],
   "source": [
    "mod = sm.tsa.SARIMAX(map(na_replace,train_tmp['yield']),\n",
    "                     order=(3,1,2),\n",
    "                     exog=train_tmp[cols],\n",
    "                     dates = train_tmp.index)\n",
    "res = mod.fit()"
   ]
  },
  {
   "cell_type": "code",
   "execution_count": 150,
   "metadata": {
    "collapsed": false
   },
   "outputs": [
    {
     "data": {
      "text/html": [
       "<table class=\"simpletable\">\n",
       "<caption>Statespace Model Results</caption>\n",
       "<tr>\n",
       "  <th>Dep. Variable:</th>           <td>y</td>        <th>  No. Observations:  </th>   <td>4425</td>   \n",
       "</tr>\n",
       "<tr>\n",
       "  <th>Model:</th>           <td>SARIMAX(3, 1, 2)</td> <th>  Log Likelihood     </th> <td>-7705.835</td>\n",
       "</tr>\n",
       "<tr>\n",
       "  <th>Date:</th>            <td>Mon, 04 Apr 2016</td> <th>  AIC                </th> <td>15431.671</td>\n",
       "</tr>\n",
       "<tr>\n",
       "  <th>Time:</th>                <td>14:31:14</td>     <th>  BIC                </th> <td>15495.621</td>\n",
       "</tr>\n",
       "<tr>\n",
       "  <th>Sample:</th>             <td>11-23-2013</td>    <th>  HQIC               </th> <td>15454.224</td>\n",
       "</tr>\n",
       "<tr>\n",
       "  <th></th>                   <td>- 11-03-2015</td>   <th>                     </th>     <td> </td>    \n",
       "</tr>\n",
       "<tr>\n",
       "  <th>Covariance Type:</th>        <td>opg</td>       <th>                     </th>     <td> </td>    \n",
       "</tr>\n",
       "</table>\n",
       "<table class=\"simpletable\">\n",
       "<tr>\n",
       "      <td></td>         <th>coef</th>     <th>std err</th>      <th>z</th>      <th>P>|z|</th>  <th>[0.025</th>    <th>0.975]</th>  \n",
       "</tr>\n",
       "<tr>\n",
       "  <th>humidity</th>  <td>    4.2928</td> <td>    0.332</td> <td>   12.916</td> <td> 0.000</td> <td>    3.641</td> <td>    4.944</td>\n",
       "</tr>\n",
       "<tr>\n",
       "  <th>temp</th>      <td>    0.0648</td> <td>    0.027</td> <td>    2.358</td> <td> 0.018</td> <td>    0.011</td> <td>    0.119</td>\n",
       "</tr>\n",
       "<tr>\n",
       "  <th>percip_mm</th> <td>   -0.0453</td> <td>    0.096</td> <td>   -0.473</td> <td> 0.636</td> <td>   -0.233</td> <td>    0.142</td>\n",
       "</tr>\n",
       "<tr>\n",
       "  <th>wind_ms</th>   <td>    0.5312</td> <td>    0.043</td> <td>   12.398</td> <td> 0.000</td> <td>    0.447</td> <td>    0.615</td>\n",
       "</tr>\n",
       "<tr>\n",
       "  <th>ar.L1</th>     <td>   -0.0571</td> <td>    0.037</td> <td>   -1.541</td> <td> 0.123</td> <td>   -0.130</td> <td>    0.016</td>\n",
       "</tr>\n",
       "<tr>\n",
       "  <th>ar.L2</th>     <td>    0.6510</td> <td>    0.031</td> <td>   20.836</td> <td> 0.000</td> <td>    0.590</td> <td>    0.712</td>\n",
       "</tr>\n",
       "<tr>\n",
       "  <th>ar.L3</th>     <td>   -0.1522</td> <td>    0.009</td> <td>  -16.239</td> <td> 0.000</td> <td>   -0.171</td> <td>   -0.134</td>\n",
       "</tr>\n",
       "<tr>\n",
       "  <th>ma.L1</th>     <td>   -0.0640</td> <td>    0.038</td> <td>   -1.705</td> <td> 0.088</td> <td>   -0.138</td> <td>    0.010</td>\n",
       "</tr>\n",
       "<tr>\n",
       "  <th>ma.L2</th>     <td>   -0.8896</td> <td>    0.037</td> <td>  -23.797</td> <td> 0.000</td> <td>   -0.963</td> <td>   -0.816</td>\n",
       "</tr>\n",
       "<tr>\n",
       "  <th>sigma2</th>    <td>    4.9590</td> <td>    0.043</td> <td>  116.601</td> <td> 0.000</td> <td>    4.876</td> <td>    5.042</td>\n",
       "</tr>\n",
       "</table>\n",
       "<table class=\"simpletable\">\n",
       "<tr>\n",
       "  <th>Ljung-Box (Q):</th>           <td>nan</td> <th>  Jarque-Bera (JB):  </th> <td>74289.87</td>\n",
       "</tr>\n",
       "<tr>\n",
       "  <th>Prob(Q):</th>                 <td>nan</td> <th>  Prob(JB):          </th>   <td>0.00</td>  \n",
       "</tr>\n",
       "<tr>\n",
       "  <th>Heteroskedasticity (H):</th> <td>0.53</td> <th>  Skew:              </th>   <td>1.65</td>  \n",
       "</tr>\n",
       "<tr>\n",
       "  <th>Prob(H) (two-sided):</th>    <td>0.00</td> <th>  Kurtosis:          </th>   <td>25.45</td> \n",
       "</tr>\n",
       "</table>"
      ],
      "text/plain": [
       "<class 'statsmodels.iolib.summary.Summary'>\n",
       "\"\"\"\n",
       "                           Statespace Model Results                           \n",
       "==============================================================================\n",
       "Dep. Variable:                      y   No. Observations:                 4425\n",
       "Model:               SARIMAX(3, 1, 2)   Log Likelihood               -7705.835\n",
       "Date:                Mon, 04 Apr 2016   AIC                          15431.671\n",
       "Time:                        14:31:14   BIC                          15495.621\n",
       "Sample:                    11-23-2013   HQIC                         15454.224\n",
       "                         - 11-03-2015                                         \n",
       "Covariance Type:                  opg                                         \n",
       "==============================================================================\n",
       "                 coef    std err          z      P>|z|      [0.025      0.975]\n",
       "------------------------------------------------------------------------------\n",
       "humidity       4.2928      0.332     12.916      0.000       3.641       4.944\n",
       "temp           0.0648      0.027      2.358      0.018       0.011       0.119\n",
       "percip_mm     -0.0453      0.096     -0.473      0.636      -0.233       0.142\n",
       "wind_ms        0.5312      0.043     12.398      0.000       0.447       0.615\n",
       "ar.L1         -0.0571      0.037     -1.541      0.123      -0.130       0.016\n",
       "ar.L2          0.6510      0.031     20.836      0.000       0.590       0.712\n",
       "ar.L3         -0.1522      0.009    -16.239      0.000      -0.171      -0.134\n",
       "ma.L1         -0.0640      0.038     -1.705      0.088      -0.138       0.010\n",
       "ma.L2         -0.8896      0.037    -23.797      0.000      -0.963      -0.816\n",
       "sigma2         4.9590      0.043    116.601      0.000       4.876       5.042\n",
       "===================================================================================\n",
       "Ljung-Box (Q):                         nan   Jarque-Bera (JB):             74289.87\n",
       "Prob(Q):                               nan   Prob(JB):                         0.00\n",
       "Heteroskedasticity (H):               0.53   Skew:                             1.65\n",
       "Prob(H) (two-sided):                  0.00   Kurtosis:                        25.45\n",
       "===================================================================================\n",
       "\n",
       "Warnings:\n",
       "[1] Covariance matrix calculated using the outer product of gradients (complex-step).\n",
       "\"\"\""
      ]
     },
     "execution_count": 150,
     "metadata": {},
     "output_type": "execute_result"
    }
   ],
   "source": [
    "res.summary()"
   ]
  },
  {
   "cell_type": "code",
   "execution_count": 156,
   "metadata": {
    "collapsed": false
   },
   "outputs": [
    {
     "data": {
      "text/plain": [
       "[<matplotlib.lines.Line2D at 0x12800af50>]"
      ]
     },
     "execution_count": 156,
     "metadata": {},
     "output_type": "execute_result"
    },
    {
     "data": {
      "image/png": "[encoded data removed]",
      "text/plain": [
       "<matplotlib.figure.Figure at 0x11ce20a10>"
      ]
     },
     "metadata": {},
     "output_type": "display_data"
    }
   ],
   "source": [
    "plt.plot(res.predict(exog=train_tmp[cols]))\n",
    "plt.plot(res.predict(exog=val_tmp[cols]))"
   ]
  },
  {
   "cell_type": "code",
   "execution_count": 165,
   "metadata": {
    "collapsed": false
   },
   "outputs": [
    {
     "name": "stderr",
     "output_type": "stream",
     "text": [
      "/Users/thorey/miniconda2/envs/fognet/lib/python2.7/site-packages/statsmodels-0.8.0-py2.7-macosx-10.5-x86_64.egg/statsmodels/base/model.py:471: ConvergenceWarning: Maximum Likelihood optimization failed to converge. Check mle_retvals\n",
      "  \"Check mle_retvals\", ConvergenceWarning)\n"
     ]
    }
   ],
   "source": [
    "mod = sm.tsa.ARIMA(train_tmp['yield'],\n",
    "                     order=(3,1,2),\n",
    "                     exog=train_tmp[cols],\n",
    "                     dates = train_tmp.index)\n",
    "res = mod.fit()"
   ]
  },
  {
   "cell_type": "code",
   "execution_count": 182,
   "metadata": {
    "collapsed": false
   },
   "outputs": [],
   "source": [
    "resid = res.resid"
   ]
  },
  {
   "cell_type": "code",
   "execution_count": 184,
   "metadata": {
    "collapsed": false
   },
   "outputs": [
    {
     "data": {
      "text/plain": [
       "[<matplotlib.lines.Line2D at 0x128ccbf50>]"
      ]
     },
     "execution_count": 184,
     "metadata": {},
     "output_type": "execute_result"
    },
    {
     "data": {
      "image/png": "[encoded data removed]",
      "text/plain": [
       "<matplotlib.figure.Figure at 0x128037a50>"
      ]
     },
     "metadata": {},
     "output_type": "display_data"
    }
   ],
   "source": [
    "plt.plot(resid)"
   ]
  },
  {
   "cell_type": "code",
   "execution_count": 183,
   "metadata": {
    "collapsed": false
   },
   "outputs": [
    {
     "data": {
      "image/png": "[encoded data removed]",
      "text/plain": [
       "<matplotlib.figure.Figure at 0x128988710>"
      ]
     },
     "metadata": {},
     "output_type": "display_data"
    }
   ],
   "source": [
    "\n",
    "fig = plt.figure(figsize=(12,8))\n",
    "ax1 = fig.add_subplot(211)\n",
    "fig = sm.graphics.tsa.plot_acf(resid.values.squeeze(), lags=40, ax=ax1)\n",
    "ax2 = fig.add_subplot(212)\n",
    "fig = sm.graphics.tsa.plot_pacf(resid, lags=40, ax=ax2)"
   ]
  },
  {
   "cell_type": "code",
   "execution_count": 162,
   "metadata": {
    "collapsed": false
   },
   "outputs": [],
   "source": [
    "sm.tsa.ARIMA()"
   ]
  },
  {
   "cell_type": "code",
   "execution_count": 160,
   "metadata": {
    "collapsed": false
   },
   "outputs": [
    {
     "data": {
      "text/plain": [
       "((2213,), (4425,))"
      ]
     },
     "execution_count": 160,
     "metadata": {},
     "output_type": "execute_result"
    }
   ],
   "source": [
    "val_tmp.index.shape,train_tmp.index.shape"
   ]
  },
  {
   "cell_type": "code",
   "execution_count": null,
   "metadata": {
    "collapsed": true
   },
   "outputs": [],
   "source": []
  },
  {
   "cell_type": "code",
   "execution_count": 22,
   "metadata": {
    "collapsed": true
   },
   "outputs": [],
   "source": [
    "import numpy as np"
   ]
  },
  {
   "cell_type": "code",
   "execution_count": 24,
   "metadata": {
    "collapsed": true
   },
   "outputs": [],
   "source": [
    "df_tmp = df.copy()"
   ]
  },
  {
   "cell_type": "code",
   "execution_count": 87,
   "metadata": {
    "collapsed": true
   },
   "outputs": [],
   "source": [
    "def na_replace(x):\n",
    "    if x==-1:\n",
    "        return np.nan\n",
    "    else:\n",
    "        return x"
   ]
  },
  {
   "cell_type": "code",
   "execution_count": 95,
   "metadata": {
    "collapsed": false
   },
   "outputs": [
    {
     "name": "stderr",
     "output_type": "stream",
     "text": [
      "\r",
      "  0%|          | 0/4 [00:00<?, ?it/s]"
     ]
    },
    {
     "name": "stdout",
     "output_type": "stream",
     "text": [
      "Series: x \n",
      "ARIMA(3,0,0) with non-zero mean \n",
      "\n",
      "Coefficients:\n",
      "         ar1      ar2     ar3  intercept\n",
      "      1.1612  -0.3490  0.1427     0.5488\n",
      "s.e.  0.0119   0.0179  0.0120     0.0210\n",
      "\n",
      "sigma^2 estimated as 0.006469:  log likelihood=7574.32\n",
      "AIC=-15138.65   AICc=-15138.64   BIC=-15104.11\n",
      "\n",
      "Training set error measures:\n",
      "                        ME       RMSE        MAE MPE MAPE     MASE        ACF1\n",
      "Training set -1.402427e-05 0.08043306 0.05080558 NaN  Inf 1.021582 -0.00625392\n",
      "                        ME       RMSE        MAE MPE MAPE     MASE        ACF1\n",
      "Training set -1.402427e-05 0.08043306 0.05080558 NaN  Inf 1.021582 -0.00625392\n"
     ]
    },
    {
     "name": "stderr",
     "output_type": "stream",
     "text": [
      "\r",
      " 25%|██▌       | 1/4 [00:00<00:02,  1.03it/s]"
     ]
    },
    {
     "name": "stdout",
     "output_type": "stream",
     "text": [
      "Series: x \n",
      "ARIMA(5,1,0)                    \n",
      "\n",
      "Coefficients:\n",
      "         ar1      ar2      ar3      ar4      ar5\n",
      "      0.5041  -0.1968  -0.0838  -0.0800  -0.0512\n",
      "s.e.  0.0120   0.0135   0.0137   0.0135   0.0121\n",
      "\n",
      "sigma^2 estimated as 1.295:  log likelihood=-10691.3\n",
      "AIC=21394.6   AICc=21394.62   BIC=21436.05\n",
      "\n",
      "Training set error measures:\n",
      "                      ME     RMSE      MAE MPE MAPE      MASE         ACF1\n",
      "Training set 0.002085043 1.137864 0.812279 NaN  Inf 0.8354099 -0.006846135\n",
      "                      ME     RMSE      MAE MPE MAPE      MASE         ACF1\n",
      "Training set 0.002085043 1.137864 0.812279 NaN  Inf 0.8354099 -0.006846135\n"
     ]
    },
    {
     "name": "stderr",
     "output_type": "stream",
     "text": [
      "\r",
      " 50%|█████     | 2/4 [00:02<00:02,  1.03s/it]"
     ]
    },
    {
     "name": "stdout",
     "output_type": "stream",
     "text": [
      "Series: x \n",
      "ARIMA(2,1,0)                    \n",
      "\n",
      "Coefficients:\n",
      "          ar1     ar2\n",
      "      -0.1834  0.0463\n",
      "s.e.   0.0120  0.0120\n",
      "\n",
      "sigma^2 estimated as 0.267:  log likelihood=-5246.1\n",
      "AIC=10498.2   AICc=10498.21   BIC=10518.93\n",
      "\n",
      "Training set error measures:\n",
      "                        ME      RMSE        MAE MPE MAPE      MASE        ACF1\n",
      "Training set -1.337745e-06 0.5166925 0.04561151 NaN  Inf 0.9984165 0.001870515\n",
      "                        ME      RMSE        MAE MPE MAPE      MASE        ACF1\n",
      "Training set -1.337745e-06 0.5166925 0.04561151 NaN  Inf 0.9984165 0.001870515\n"
     ]
    },
    {
     "name": "stderr",
     "output_type": "stream",
     "text": [
      "\r",
      " 75%|███████▌  | 3/4 [00:02<00:00,  1.19it/s]"
     ]
    },
    {
     "name": "stdout",
     "output_type": "stream",
     "text": [
      "Series: x \n",
      "ARIMA(5,1,0)                    \n",
      "\n",
      "Coefficients:\n",
      "         ar1      ar2      ar3      ar4      ar5\n",
      "      0.0578  -0.1328  -0.1071  -0.1053  -0.0724\n",
      "s.e.  0.0120   0.0120   0.0120   0.0120   0.0121\n",
      "\n",
      "sigma^2 estimated as 0.6006:  log likelihood=-8052.19\n",
      "AIC=16116.38   AICc=16116.39   BIC=16157.83\n",
      "\n",
      "Training set error measures:\n",
      "                        ME      RMSE       MAE MPE MAPE      MASE         ACF1\n",
      "Training set -2.803389e-05 0.7749518 0.5806049 NaN  Inf 0.9740284 -0.006085267\n",
      "                        ME      RMSE       MAE MPE MAPE      MASE         ACF1\n",
      "Training set -2.803389e-05 0.7749518 0.5806049 NaN  Inf 0.9740284 -0.006085267\n"
     ]
    },
    {
     "name": "stderr",
     "output_type": "stream",
     "text": []
    }
   ],
   "source": [
    "df_tmp = df.copy()\n",
    "cols = ['humidity','temp','percip_mm','wind_ms']\n",
    "for col in tqdm(cols):\n",
    "    df_tmp[col] = fit_best_ARIMA(df[col])"
   ]
  },
  {
   "cell_type": "code",
   "execution_count": 96,
   "metadata": {
    "collapsed": false
   },
   "outputs": [
    {
     "name": "stderr",
     "output_type": "stream",
     "text": [
      " 39%|███▉      | 14/36 [01:38<02:46,  7.58s/it]/Users/thorey/miniconda2/envs/fognet/lib/python2.7/site-packages/statsmodels-0.8.0-py2.7-macosx-10.5-x86_64.egg/statsmodels/base/model.py:471: ConvergenceWarning: Maximum Likelihood optimization failed to converge. Check mle_retvals\n",
      "  \"Check mle_retvals\", ConvergenceWarning)\n",
      " 50%|█████     | 18/36 [01:55<01:59,  6.61s/it]/Users/thorey/miniconda2/envs/fognet/lib/python2.7/site-packages/statsmodels-0.8.0-py2.7-macosx-10.5-x86_64.egg/statsmodels/base/model.py:471: ConvergenceWarning: Maximum Likelihood optimization failed to converge. Check mle_retvals\n",
      "  \"Check mle_retvals\", ConvergenceWarning)\n",
      " 58%|█████▊    | 21/36 [02:14<01:38,  6.54s/it]/Users/thorey/miniconda2/envs/fognet/lib/python2.7/site-packages/statsmodels-0.8.0-py2.7-macosx-10.5-x86_64.egg/statsmodels/base/model.py:471: ConvergenceWarning: Maximum Likelihood optimization failed to converge. Check mle_retvals\n",
      "  \"Check mle_retvals\", ConvergenceWarning)\n",
      " 72%|███████▏  | 26/36 [02:44<01:00,  6.00s/it]/Users/thorey/miniconda2/envs/fognet/lib/python2.7/site-packages/statsmodels-0.8.0-py2.7-macosx-10.5-x86_64.egg/statsmodels/base/model.py:471: ConvergenceWarning: Maximum Likelihood optimization failed to converge. Check mle_retvals\n",
      "  \"Check mle_retvals\", ConvergenceWarning)\n",
      " 83%|████████▎ | 30/36 [03:06<00:34,  5.81s/it]/Users/thorey/miniconda2/envs/fognet/lib/python2.7/site-packages/statsmodels-0.8.0-py2.7-macosx-10.5-x86_64.egg/statsmodels/base/model.py:471: ConvergenceWarning: Maximum Likelihood optimization failed to converge. Check mle_retvals\n",
      "  \"Check mle_retvals\", ConvergenceWarning)\n"
     ]
    }
   ],
   "source": [
    "import itertools\n",
    "import pandas as pd\n",
    "from tqdm import *\n",
    "parameters_grid = {'p':range(6),'q':range(6)}\n",
    "product = [x for x in apply(itertools.product, parameters_grid.values())]\n",
    "aic = pd.DataFrame(np.zeros((6,6), dtype=float))\n",
    "for (p,q) in tqdm(product):\n",
    "    if p == 0 and q == 0:\n",
    "        continue\n",
    "    mod = sm.tsa.SARIMAX(df_tmp['yield'], \n",
    "                         order=(p,0,q),\n",
    "                         exog=df_tmp[cols],\n",
    "                         date= df_tmp.index,\n",
    "                         enforce_invertibility=False)\n",
    "    try:\n",
    "        res = mod.fit()\n",
    "        aic.iloc[p,q] = res.aic\n",
    "    except:\n",
    "        aic.iloc[p,q] = np.nan  "
   ]
  },
  {
   "cell_type": "code",
   "execution_count": 97,
   "metadata": {
    "collapsed": false
   },
   "outputs": [
    {
     "data": {
      "text/html": [
       "<div>\n",
       "<table border=\"1\" class=\"dataframe\">\n",
       "  <thead>\n",
       "    <tr style=\"text-align: right;\">\n",
       "      <th></th>\n",
       "      <th>0</th>\n",
       "      <th>1</th>\n",
       "      <th>2</th>\n",
       "      <th>3</th>\n",
       "      <th>4</th>\n",
       "      <th>5</th>\n",
       "    </tr>\n",
       "  </thead>\n",
       "  <tbody>\n",
       "    <tr>\n",
       "      <th>0</th>\n",
       "      <td>0.000000</td>\n",
       "      <td>32846.461636</td>\n",
       "      <td>31210.558111</td>\n",
       "      <td>30667.784099</td>\n",
       "      <td>30380.149045</td>\n",
       "      <td>30308.265957</td>\n",
       "    </tr>\n",
       "    <tr>\n",
       "      <th>1</th>\n",
       "      <td>30332.302354</td>\n",
       "      <td>30195.852475</td>\n",
       "      <td>30197.720380</td>\n",
       "      <td>30195.341275</td>\n",
       "      <td>30117.045054</td>\n",
       "      <td>30061.849232</td>\n",
       "    </tr>\n",
       "    <tr>\n",
       "      <th>2</th>\n",
       "      <td>30199.592324</td>\n",
       "      <td>30197.752323</td>\n",
       "      <td>NaN</td>\n",
       "      <td>NaN</td>\n",
       "      <td>NaN</td>\n",
       "      <td>30063.794398</td>\n",
       "    </tr>\n",
       "    <tr>\n",
       "      <th>3</th>\n",
       "      <td>30196.487384</td>\n",
       "      <td>30080.424097</td>\n",
       "      <td>NaN</td>\n",
       "      <td>NaN</td>\n",
       "      <td>NaN</td>\n",
       "      <td>29960.417208</td>\n",
       "    </tr>\n",
       "    <tr>\n",
       "      <th>4</th>\n",
       "      <td>30193.187558</td>\n",
       "      <td>NaN</td>\n",
       "      <td>NaN</td>\n",
       "      <td>NaN</td>\n",
       "      <td>NaN</td>\n",
       "      <td>29957.338091</td>\n",
       "    </tr>\n",
       "    <tr>\n",
       "      <th>5</th>\n",
       "      <td>30173.574062</td>\n",
       "      <td>30031.108595</td>\n",
       "      <td>NaN</td>\n",
       "      <td>NaN</td>\n",
       "      <td>NaN</td>\n",
       "      <td>NaN</td>\n",
       "    </tr>\n",
       "  </tbody>\n",
       "</table>\n",
       "</div>"
      ],
      "text/plain": [
       "              0             1             2             3             4  \\\n",
       "0      0.000000  32846.461636  31210.558111  30667.784099  30380.149045   \n",
       "1  30332.302354  30195.852475  30197.720380  30195.341275  30117.045054   \n",
       "2  30199.592324  30197.752323           NaN           NaN           NaN   \n",
       "3  30196.487384  30080.424097           NaN           NaN           NaN   \n",
       "4  30193.187558           NaN           NaN           NaN           NaN   \n",
       "5  30173.574062  30031.108595           NaN           NaN           NaN   \n",
       "\n",
       "              5  \n",
       "0  30308.265957  \n",
       "1  30061.849232  \n",
       "2  30063.794398  \n",
       "3  29960.417208  \n",
       "4  29957.338091  \n",
       "5           NaN  "
      ]
     },
     "execution_count": 97,
     "metadata": {},
     "output_type": "execute_result"
    }
   ],
   "source": [
    "aic"
   ]
  },
  {
   "cell_type": "code",
   "execution_count": 102,
   "metadata": {
    "collapsed": false
   },
   "outputs": [
    {
     "name": "stderr",
     "output_type": "stream",
     "text": [
      "/Users/thorey/miniconda2/envs/fognet/lib/python2.7/site-packages/statsmodels-0.8.0-py2.7-macosx-10.5-x86_64.egg/statsmodels/base/model.py:471: ConvergenceWarning: Maximum Likelihood optimization failed to converge. Check mle_retvals\n",
      "  \"Check mle_retvals\", ConvergenceWarning)\n"
     ]
    }
   ],
   "source": [
    "mod = sm.tsa.SARIMAX(map(na_replace,df['yield']),\n",
    "                     order=(5,0,1),\n",
    "                     exog=df_tmp[cols],\n",
    "                     dates = df_tmp.index)\n",
    "res = mod.fit()"
   ]
  },
  {
   "cell_type": "code",
   "execution_count": 103,
   "metadata": {
    "collapsed": false
   },
   "outputs": [
    {
     "data": {
      "text/html": [
       "<table class=\"simpletable\">\n",
       "<caption>Statespace Model Results</caption>\n",
       "<tr>\n",
       "  <th>Dep. Variable:</th>           <td>y</td>        <th>  No. Observations:  </th>    <td>7392</td>   \n",
       "</tr>\n",
       "<tr>\n",
       "  <th>Model:</th>           <td>SARIMAX(5, 0, 1)</td> <th>  Log Likelihood     </th> <td>-12315.099</td>\n",
       "</tr>\n",
       "<tr>\n",
       "  <th>Date:</th>            <td>Mon, 04 Apr 2016</td> <th>  AIC                </th>  <td>24652.197</td>\n",
       "</tr>\n",
       "<tr>\n",
       "  <th>Time:</th>                <td>14:08:28</td>     <th>  BIC                </th>  <td>24728.187</td>\n",
       "</tr>\n",
       "<tr>\n",
       "  <th>Sample:</th>             <td>11-23-2013</td>    <th>  HQIC               </th>  <td>24678.310</td>\n",
       "</tr>\n",
       "<tr>\n",
       "  <th></th>                   <td>- 01-04-2016</td>   <th>                     </th>      <td> </td>    \n",
       "</tr>\n",
       "<tr>\n",
       "  <th>Covariance Type:</th>        <td>opg</td>       <th>                     </th>      <td> </td>    \n",
       "</tr>\n",
       "</table>\n",
       "<table class=\"simpletable\">\n",
       "<tr>\n",
       "      <td></td>         <th>coef</th>     <th>std err</th>      <th>z</th>      <th>P>|z|</th>  <th>[0.025</th>    <th>0.975]</th>  \n",
       "</tr>\n",
       "<tr>\n",
       "  <th>humidity</th>  <td>    2.6426</td> <td>    0.215</td> <td>   12.275</td> <td> 0.000</td> <td>    2.221</td> <td>    3.065</td>\n",
       "</tr>\n",
       "<tr>\n",
       "  <th>temp</th>      <td>   -0.0706</td> <td>    0.019</td> <td>   -3.762</td> <td> 0.000</td> <td>   -0.107</td> <td>   -0.034</td>\n",
       "</tr>\n",
       "<tr>\n",
       "  <th>percip_mm</th> <td>   -0.0272</td> <td>    0.074</td> <td>   -0.367</td> <td> 0.713</td> <td>   -0.172</td> <td>    0.118</td>\n",
       "</tr>\n",
       "<tr>\n",
       "  <th>wind_ms</th>   <td>    0.4001</td> <td>    0.029</td> <td>   13.961</td> <td> 0.000</td> <td>    0.344</td> <td>    0.456</td>\n",
       "</tr>\n",
       "<tr>\n",
       "  <th>ar.L1</th>     <td>    1.6958</td> <td>    0.018</td> <td>   92.237</td> <td> 0.000</td> <td>    1.660</td> <td>    1.732</td>\n",
       "</tr>\n",
       "<tr>\n",
       "  <th>ar.L2</th>     <td>   -0.8818</td> <td>    0.019</td> <td>  -45.935</td> <td> 0.000</td> <td>   -0.919</td> <td>   -0.844</td>\n",
       "</tr>\n",
       "<tr>\n",
       "  <th>ar.L3</th>     <td>    0.1505</td> <td>    0.012</td> <td>   12.244</td> <td> 0.000</td> <td>    0.126</td> <td>    0.175</td>\n",
       "</tr>\n",
       "<tr>\n",
       "  <th>ar.L4</th>     <td>   -0.0633</td> <td>    0.012</td> <td>   -5.184</td> <td> 0.000</td> <td>   -0.087</td> <td>   -0.039</td>\n",
       "</tr>\n",
       "<tr>\n",
       "  <th>ar.L5</th>     <td>    0.0698</td> <td>    0.007</td> <td>   10.434</td> <td> 0.000</td> <td>    0.057</td> <td>    0.083</td>\n",
       "</tr>\n",
       "<tr>\n",
       "  <th>ma.L1</th>     <td>   -0.8138</td> <td>    0.017</td> <td>  -47.018</td> <td> 0.000</td> <td>   -0.848</td> <td>   -0.780</td>\n",
       "</tr>\n",
       "<tr>\n",
       "  <th>sigma2</th>    <td>    4.0597</td> <td>    0.026</td> <td>  158.908</td> <td> 0.000</td> <td>    4.010</td> <td>    4.110</td>\n",
       "</tr>\n",
       "</table>\n",
       "<table class=\"simpletable\">\n",
       "<tr>\n",
       "  <th>Ljung-Box (Q):</th>           <td>nan</td> <th>  Jarque-Bera (JB):  </th> <td>197206.45</td>\n",
       "</tr>\n",
       "<tr>\n",
       "  <th>Prob(Q):</th>                 <td>nan</td> <th>  Prob(JB):          </th>   <td>0.00</td>   \n",
       "</tr>\n",
       "<tr>\n",
       "  <th>Heteroskedasticity (H):</th> <td>0.32</td> <th>  Skew:              </th>   <td>2.00</td>   \n",
       "</tr>\n",
       "<tr>\n",
       "  <th>Prob(H) (two-sided):</th>    <td>0.00</td> <th>  Kurtosis:          </th>   <td>31.28</td>  \n",
       "</tr>\n",
       "</table>"
      ],
      "text/plain": [
       "<class 'statsmodels.iolib.summary.Summary'>\n",
       "\"\"\"\n",
       "                           Statespace Model Results                           \n",
       "==============================================================================\n",
       "Dep. Variable:                      y   No. Observations:                 7392\n",
       "Model:               SARIMAX(5, 0, 1)   Log Likelihood              -12315.099\n",
       "Date:                Mon, 04 Apr 2016   AIC                          24652.197\n",
       "Time:                        14:08:28   BIC                          24728.187\n",
       "Sample:                    11-23-2013   HQIC                         24678.310\n",
       "                         - 01-04-2016                                         \n",
       "Covariance Type:                  opg                                         \n",
       "==============================================================================\n",
       "                 coef    std err          z      P>|z|      [0.025      0.975]\n",
       "------------------------------------------------------------------------------\n",
       "humidity       2.6426      0.215     12.275      0.000       2.221       3.065\n",
       "temp          -0.0706      0.019     -3.762      0.000      -0.107      -0.034\n",
       "percip_mm     -0.0272      0.074     -0.367      0.713      -0.172       0.118\n",
       "wind_ms        0.4001      0.029     13.961      0.000       0.344       0.456\n",
       "ar.L1          1.6958      0.018     92.237      0.000       1.660       1.732\n",
       "ar.L2         -0.8818      0.019    -45.935      0.000      -0.919      -0.844\n",
       "ar.L3          0.1505      0.012     12.244      0.000       0.126       0.175\n",
       "ar.L4         -0.0633      0.012     -5.184      0.000      -0.087      -0.039\n",
       "ar.L5          0.0698      0.007     10.434      0.000       0.057       0.083\n",
       "ma.L1         -0.8138      0.017    -47.018      0.000      -0.848      -0.780\n",
       "sigma2         4.0597      0.026    158.908      0.000       4.010       4.110\n",
       "===================================================================================\n",
       "Ljung-Box (Q):                         nan   Jarque-Bera (JB):            197206.45\n",
       "Prob(Q):                               nan   Prob(JB):                         0.00\n",
       "Heteroskedasticity (H):               0.32   Skew:                             2.00\n",
       "Prob(H) (two-sided):                  0.00   Kurtosis:                        31.28\n",
       "===================================================================================\n",
       "\n",
       "Warnings:\n",
       "[1] Covariance matrix calculated using the outer product of gradients (complex-step).\n",
       "\"\"\""
      ]
     },
     "execution_count": 103,
     "metadata": {},
     "output_type": "execute_result"
    }
   ],
   "source": [
    "res.summary()"
   ]
  },
  {
   "cell_type": "code",
   "execution_count": 104,
   "metadata": {
    "collapsed": false
   },
   "outputs": [
    {
     "data": {
      "text/plain": [
       "[<matplotlib.lines.Line2D at 0x12448ca90>]"
      ]
     },
     "execution_count": 104,
     "metadata": {},
     "output_type": "execute_result"
    },
    {
     "data": {
      "image/png": "[encoded data removed]",
      "text/plain": [
       "<matplotlib.figure.Figure at 0x1183d2b10>"
      ]
     },
     "metadata": {},
     "output_type": "display_data"
    }
   ],
   "source": [
    "plt.plot(res.predict(exog=df_tmp[cols]))"
   ]
  },
  {
   "cell_type": "code",
   "execution_count": 133,
   "metadata": {
    "collapsed": false
   },
   "outputs": [
    {
     "data": {
      "image/png": "[encoded data removed]",
      "text/plain": [
       "<matplotlib.figure.Figure at 0x127ea7e50>"
      ]
     },
     "metadata": {},
     "output_type": "display_data"
    }
   ],
   "source": [
    "# Graph data\n",
    "fig, axes = plt.subplots(1, 2, figsize=(15,4))\n",
    "\n",
    "fig = sm.graphics.tsa.plot_acf(df_tmp['yield'], lags=40, ax=axes[0])\n",
    "fig = sm.graphics.tsa.plot_pacf(df_tmp['yield'], lags=40, ax=axes[1])"
   ]
  },
  {
   "cell_type": "code",
   "execution_count": 131,
   "metadata": {
    "collapsed": false
   },
   "outputs": [
    {
     "data": {
      "text/plain": [
       "<matplotlib.axes._subplots.AxesSubplot at 0x116a02490>"
      ]
     },
     "execution_count": 131,
     "metadata": {},
     "output_type": "execute_result"
    },
    {
     "data": {
      "image/png": "[encoded data removed]",
      "text/plain": [
       "<matplotlib.figure.Figure at 0x127ea7810>"
      ]
     },
     "metadata": {},
     "output_type": "display_data"
    }
   ],
   "source": [
    "res.resid.plot()"
   ]
  },
  {
   "cell_type": "code",
   "execution_count": 125,
   "metadata": {
    "collapsed": false
   },
   "outputs": [],
   "source": [
    "from statsmodels.graphics.api import qqplot"
   ]
  },
  {
   "cell_type": "code",
   "execution_count": 130,
   "metadata": {
    "collapsed": false
   },
   "outputs": [
    {
     "data": {
      "text/plain": [
       "2013-11-23 16:00:00   -1.429545\n",
       "2013-11-23 18:00:00   -0.238692\n",
       "2013-11-23 20:00:00   -0.282340\n",
       "2013-11-23 22:00:00   -0.291525\n",
       "2013-11-24 00:00:00         NaN\n",
       "2013-11-24 02:00:00         NaN\n",
       "2013-11-24 04:00:00         NaN\n",
       "2013-11-24 06:00:00         NaN\n",
       "2013-11-24 08:00:00         NaN\n",
       "2013-11-24 10:00:00         NaN\n",
       "2013-11-24 12:00:00         NaN\n",
       "2013-11-24 14:00:00         NaN\n",
       "2013-11-24 16:00:00         NaN\n",
       "2013-11-24 18:00:00         NaN\n",
       "2013-11-24 20:00:00         NaN\n",
       "2013-11-24 22:00:00         NaN\n",
       "2013-11-25 00:00:00         NaN\n",
       "2013-11-25 02:00:00         NaN\n",
       "2013-11-25 04:00:00         NaN\n",
       "2013-11-25 06:00:00         NaN\n",
       "2013-11-25 08:00:00         NaN\n",
       "2013-11-25 10:00:00         NaN\n",
       "2013-11-25 12:00:00         NaN\n",
       "2013-11-25 14:00:00         NaN\n",
       "2013-11-25 16:00:00         NaN\n",
       "2013-11-25 18:00:00         NaN\n",
       "2013-11-25 20:00:00         NaN\n",
       "2013-11-25 22:00:00         NaN\n",
       "2013-11-26 00:00:00         NaN\n",
       "2013-11-26 02:00:00         NaN\n",
       "                         ...   \n",
       "2016-01-02 00:00:00         NaN\n",
       "2016-01-02 02:00:00         NaN\n",
       "2016-01-02 04:00:00         NaN\n",
       "2016-01-02 06:00:00         NaN\n",
       "2016-01-02 08:00:00         NaN\n",
       "2016-01-02 10:00:00         NaN\n",
       "2016-01-02 12:00:00         NaN\n",
       "2016-01-02 14:00:00         NaN\n",
       "2016-01-02 16:00:00         NaN\n",
       "2016-01-02 18:00:00         NaN\n",
       "2016-01-02 20:00:00         NaN\n",
       "2016-01-02 22:00:00         NaN\n",
       "2016-01-03 00:00:00         NaN\n",
       "2016-01-03 02:00:00         NaN\n",
       "2016-01-03 04:00:00         NaN\n",
       "2016-01-03 06:00:00         NaN\n",
       "2016-01-03 08:00:00         NaN\n",
       "2016-01-03 10:00:00         NaN\n",
       "2016-01-03 12:00:00         NaN\n",
       "2016-01-03 14:00:00         NaN\n",
       "2016-01-03 16:00:00         NaN\n",
       "2016-01-03 18:00:00         NaN\n",
       "2016-01-03 20:00:00         NaN\n",
       "2016-01-03 22:00:00         NaN\n",
       "2016-01-04 00:00:00         NaN\n",
       "2016-01-04 02:00:00         NaN\n",
       "2016-01-04 04:00:00         NaN\n",
       "2016-01-04 06:00:00         NaN\n",
       "2016-01-04 08:00:00         NaN\n",
       "2016-01-04 10:00:00         NaN\n",
       "dtype: float64"
      ]
     },
     "execution_count": 130,
     "metadata": {},
     "output_type": "execute_result"
    }
   ],
   "source": [
    "resid"
   ]
  },
  {
   "cell_type": "code",
   "execution_count": 128,
   "metadata": {
    "collapsed": true
   },
   "outputs": [],
   "source": [
    "resid = res.resid"
   ]
  },
  {
   "cell_type": "code",
   "execution_count": 129,
   "metadata": {
    "collapsed": false
   },
   "outputs": [
    {
     "data": {
      "image/png": "[encoded data removed]",
      "text/plain": [
       "<matplotlib.figure.Figure at 0x12435eed0>"
      ]
     },
     "metadata": {},
     "output_type": "display_data"
    }
   ],
   "source": [
    "fig = plt.figure(figsize=(12,8))\n",
    "ax1 = fig.add_subplot(211)\n",
    "fig = sm.graphics.tsa.plot_acf(resid.values.squeeze(), lags=40, ax=ax1)\n",
    "ax2 = fig.add_subplot(212)\n",
    "fig = sm.graphics.tsa.plot_pacf(resid, lags=40, ax=ax2)"
   ]
  },
  {
   "cell_type": "code",
   "execution_count": 108,
   "metadata": {
    "collapsed": false
   },
   "outputs": [
    {
     "data": {
      "text/plain": [
       "[<matplotlib.lines.Line2D at 0x1296f9890>]"
      ]
     },
     "execution_count": 108,
     "metadata": {},
     "output_type": "execute_result"
    },
    {
     "data": {
      "image/png": "[encoded data removed]",
      "text/plain": [
       "<matplotlib.figure.Figure at 0x1242400d0>"
      ]
     },
     "metadata": {},
     "output_type": "display_data"
    }
   ],
   "source": [
    "#plt.plot(res.predict(exog=df_tmp[cols]))\n",
    "plt.plot(df_tmp['yield']-res.predict(exog=df_tmp[cols]),color='r',alpha=0.2)"
   ]
  },
  {
   "cell_type": "code",
   "execution_count": 109,
   "metadata": {
    "collapsed": true
   },
   "outputs": [],
   "source": [
    "from sklearn.metrics import mean_squared_error"
   ]
  },
  {
   "cell_type": "code",
   "execution_count": 115,
   "metadata": {
    "collapsed": true
   },
   "outputs": [],
   "source": [
    "def threshold(x):\n",
    "    if x<0:\n",
    "        return 0\n",
    "    else:\n",
    "        return x"
   ]
  },
  {
   "cell_type": "code",
   "execution_count": 117,
   "metadata": {
    "collapsed": false
   },
   "outputs": [],
   "source": [
    "pred = map(threshold,res.predict(exog=df_tmp[cols]))"
   ]
  },
  {
   "cell_type": "code",
   "execution_count": 119,
   "metadata": {
    "collapsed": false
   },
   "outputs": [
    {
     "data": {
      "text/plain": [
       "4.7699734054558913"
      ]
     },
     "execution_count": 119,
     "metadata": {},
     "output_type": "execute_result"
    }
   ],
   "source": [
    "mean_squared_error(df_tmp['yield'],res.predict(exog=df_tmp[cols]))"
   ]
  },
  {
   "cell_type": "code",
   "execution_count": null,
   "metadata": {
    "collapsed": true
   },
   "outputs": [],
   "source": []
  },
  {
   "cell_type": "code",
   "execution_count": 34,
   "metadata": {
    "collapsed": true
   },
   "outputs": [],
   "source": [
    "sm.tsa.SARIMAX?"
   ]
  },
  {
   "cell_type": "code",
   "execution_count": 252,
   "metadata": {
    "collapsed": false
   },
   "outputs": [
    {
     "data": {
      "text/plain": [
       "(7392, 48)"
      ]
     },
     "execution_count": 252,
     "metadata": {},
     "output_type": "execute_result"
    }
   ],
   "source": [
    "df_tmp.shape"
   ]
  },
  {
   "cell_type": "code",
   "execution_count": 256,
   "metadata": {
    "collapsed": false
   },
   "outputs": [
    {
     "data": {
      "text/plain": [
       "7392"
      ]
     },
     "execution_count": 256,
     "metadata": {},
     "output_type": "execute_result"
    }
   ],
   "source": [
    "df_tmp.shape[0]"
   ]
  },
  {
   "cell_type": "code",
   "execution_count": null,
   "metadata": {
    "collapsed": true
   },
   "outputs": [],
   "source": [
    "sm.tsa.SVARX"
   ]
  },
  {
   "cell_type": "code",
   "execution_count": 269,
   "metadata": {
    "collapsed": false
   },
   "outputs": [
    {
     "ename": "TypeError",
     "evalue": "Cannot compare type 'Timestamp' with type 'int'",
     "output_type": "error",
     "traceback": [
      "\u001b[0;31m---------------------------------------------------------------------------\u001b[0m",
      "\u001b[0;31mTypeError\u001b[0m                                 Traceback (most recent call last)",
      "\u001b[0;32m<ipython-input-269-1c120966bcdc>\u001b[0m in \u001b[0;36m<module>\u001b[0;34m()\u001b[0m\n\u001b[0;32m----> 1\u001b[0;31m \u001b[0mvarmodel\u001b[0m\u001b[0;34m.\u001b[0m\u001b[0mpredict\u001b[0m\u001b[0;34m(\u001b[0m\u001b[0my\u001b[0m\u001b[0;34m.\u001b[0m\u001b[0mparams\u001b[0m\u001b[0;34m,\u001b[0m\u001b[0mlags\u001b[0m\u001b[0;34m=\u001b[0m\u001b[0;36m20\u001b[0m\u001b[0;34m,\u001b[0m\u001b[0mstart\u001b[0m\u001b[0;34m=\u001b[0m\u001b[0mpd\u001b[0m\u001b[0;34m.\u001b[0m\u001b[0mto_datetime\u001b[0m\u001b[0;34m(\u001b[0m\u001b[0mdf\u001b[0m\u001b[0;34m.\u001b[0m\u001b[0mindex\u001b[0m\u001b[0;34m[\u001b[0m\u001b[0;36m0\u001b[0m\u001b[0;34m]\u001b[0m\u001b[0;34m)\u001b[0m\u001b[0;34m)\u001b[0m\u001b[0;34m\u001b[0m\u001b[0m\n\u001b[0m",
      "\u001b[0;32m/Users/thorey/miniconda2/envs/fognet/lib/python2.7/site-packages/statsmodels/tsa/vector_ar/var_model.pyc\u001b[0m in \u001b[0;36mpredict\u001b[0;34m(self, params, start, end, lags, trend)\u001b[0m\n\u001b[1;32m    345\u001b[0m         \u001b[0mReturns\u001b[0m \u001b[0;32min\u001b[0m\u001b[0;34m-\u001b[0m\u001b[0msample\u001b[0m \u001b[0mpredictions\u001b[0m \u001b[0;32mor\u001b[0m \u001b[0mforecasts\u001b[0m\u001b[0;34m\u001b[0m\u001b[0m\n\u001b[1;32m    346\u001b[0m         \"\"\"\n\u001b[0;32m--> 347\u001b[0;31m         \u001b[0mstart\u001b[0m \u001b[0;34m=\u001b[0m \u001b[0mself\u001b[0m\u001b[0;34m.\u001b[0m\u001b[0m_get_predict_start\u001b[0m\u001b[0;34m(\u001b[0m\u001b[0mstart\u001b[0m\u001b[0;34m,\u001b[0m \u001b[0mlags\u001b[0m\u001b[0;34m)\u001b[0m\u001b[0;34m\u001b[0m\u001b[0m\n\u001b[0m\u001b[1;32m    348\u001b[0m         \u001b[0mend\u001b[0m\u001b[0;34m,\u001b[0m \u001b[0mout_of_sample\u001b[0m \u001b[0;34m=\u001b[0m \u001b[0mself\u001b[0m\u001b[0;34m.\u001b[0m\u001b[0m_get_predict_end\u001b[0m\u001b[0;34m(\u001b[0m\u001b[0mend\u001b[0m\u001b[0;34m)\u001b[0m\u001b[0;34m\u001b[0m\u001b[0m\n\u001b[1;32m    349\u001b[0m \u001b[0;34m\u001b[0m\u001b[0m\n",
      "\u001b[0;32m/Users/thorey/miniconda2/envs/fognet/lib/python2.7/site-packages/statsmodels/tsa/vector_ar/var_model.pyc\u001b[0m in \u001b[0;36m_get_predict_start\u001b[0;34m(self, start, k_ar)\u001b[0m\n\u001b[1;32m    339\u001b[0m         \u001b[0;32mif\u001b[0m \u001b[0mstart\u001b[0m \u001b[0;32mis\u001b[0m \u001b[0mNone\u001b[0m\u001b[0;34m:\u001b[0m\u001b[0;34m\u001b[0m\u001b[0m\n\u001b[1;32m    340\u001b[0m             \u001b[0mstart\u001b[0m \u001b[0;34m=\u001b[0m \u001b[0mk_ar\u001b[0m\u001b[0;34m\u001b[0m\u001b[0m\n\u001b[0;32m--> 341\u001b[0;31m         \u001b[0;32mreturn\u001b[0m \u001b[0msuper\u001b[0m\u001b[0;34m(\u001b[0m\u001b[0mVAR\u001b[0m\u001b[0;34m,\u001b[0m \u001b[0mself\u001b[0m\u001b[0;34m)\u001b[0m\u001b[0;34m.\u001b[0m\u001b[0m_get_predict_start\u001b[0m\u001b[0;34m(\u001b[0m\u001b[0mstart\u001b[0m\u001b[0;34m)\u001b[0m\u001b[0;34m\u001b[0m\u001b[0m\n\u001b[0m\u001b[1;32m    342\u001b[0m \u001b[0;34m\u001b[0m\u001b[0m\n\u001b[1;32m    343\u001b[0m     \u001b[0;32mdef\u001b[0m \u001b[0mpredict\u001b[0m\u001b[0;34m(\u001b[0m\u001b[0mself\u001b[0m\u001b[0;34m,\u001b[0m \u001b[0mparams\u001b[0m\u001b[0;34m,\u001b[0m \u001b[0mstart\u001b[0m\u001b[0;34m=\u001b[0m\u001b[0mNone\u001b[0m\u001b[0;34m,\u001b[0m \u001b[0mend\u001b[0m\u001b[0;34m=\u001b[0m\u001b[0mNone\u001b[0m\u001b[0;34m,\u001b[0m \u001b[0mlags\u001b[0m\u001b[0;34m=\u001b[0m\u001b[0;36m1\u001b[0m\u001b[0;34m,\u001b[0m \u001b[0mtrend\u001b[0m\u001b[0;34m=\u001b[0m\u001b[0;34m'c'\u001b[0m\u001b[0;34m)\u001b[0m\u001b[0;34m:\u001b[0m\u001b[0;34m\u001b[0m\u001b[0m\n",
      "\u001b[0;32m/Users/thorey/miniconda2/envs/fognet/lib/python2.7/site-packages/statsmodels/tsa/base/tsa_model.pyc\u001b[0m in \u001b[0;36m_get_predict_start\u001b[0;34m(self, start)\u001b[0m\n\u001b[1;32m    129\u001b[0m                         (str(start), str(dtstart)))\n\u001b[1;32m    130\u001b[0m \u001b[0;34m\u001b[0m\u001b[0m\n\u001b[0;32m--> 131\u001b[0;31m         \u001b[0mself\u001b[0m\u001b[0;34m.\u001b[0m\u001b[0m_set_predict_start_date\u001b[0m\u001b[0;34m(\u001b[0m\u001b[0mstart\u001b[0m\u001b[0;34m)\u001b[0m\u001b[0;34m\u001b[0m\u001b[0m\n\u001b[0m\u001b[1;32m    132\u001b[0m         \u001b[0;32mreturn\u001b[0m \u001b[0mstart\u001b[0m\u001b[0;34m\u001b[0m\u001b[0m\n\u001b[1;32m    133\u001b[0m \u001b[0;34m\u001b[0m\u001b[0m\n",
      "\u001b[0;32m/Users/thorey/miniconda2/envs/fognet/lib/python2.7/site-packages/statsmodels/tsa/base/tsa_model.pyc\u001b[0m in \u001b[0;36m_set_predict_start_date\u001b[0;34m(self, start)\u001b[0m\n\u001b[1;32m    100\u001b[0m         \u001b[0;32mif\u001b[0m \u001b[0mdates\u001b[0m \u001b[0;32mis\u001b[0m \u001b[0mNone\u001b[0m\u001b[0;34m:\u001b[0m\u001b[0;34m\u001b[0m\u001b[0m\n\u001b[1;32m    101\u001b[0m             \u001b[0;32mreturn\u001b[0m\u001b[0;34m\u001b[0m\u001b[0m\n\u001b[0;32m--> 102\u001b[0;31m         \u001b[0;32mif\u001b[0m \u001b[0mstart\u001b[0m \u001b[0;34m>\u001b[0m \u001b[0mlen\u001b[0m\u001b[0;34m(\u001b[0m\u001b[0mdates\u001b[0m\u001b[0;34m)\u001b[0m\u001b[0;34m:\u001b[0m\u001b[0;34m\u001b[0m\u001b[0m\n\u001b[0m\u001b[1;32m    103\u001b[0m             \u001b[0;32mraise\u001b[0m \u001b[0mValueError\u001b[0m\u001b[0;34m(\u001b[0m\u001b[0;34m\"Start must be <= len(endog)\"\u001b[0m\u001b[0;34m)\u001b[0m\u001b[0;34m\u001b[0m\u001b[0m\n\u001b[1;32m    104\u001b[0m         \u001b[0;32mif\u001b[0m \u001b[0mstart\u001b[0m \u001b[0;34m==\u001b[0m \u001b[0mlen\u001b[0m\u001b[0;34m(\u001b[0m\u001b[0mdates\u001b[0m\u001b[0;34m)\u001b[0m\u001b[0;34m:\u001b[0m\u001b[0;34m\u001b[0m\u001b[0m\n",
      "\u001b[0;32mpandas/tslib.pyx\u001b[0m in \u001b[0;36mpandas.tslib._Timestamp.__richcmp__ (pandas/tslib.c:17992)\u001b[0;34m()\u001b[0m\n",
      "\u001b[0;31mTypeError\u001b[0m: Cannot compare type 'Timestamp' with type 'int'"
     ]
    }
   ],
   "source": [
    "varmodel.predict(y.params,lags=20,start=pd.to_datetime(df.index[0]))"
   ]
  },
  {
   "cell_type": "code",
   "execution_count": 268,
   "metadata": {
    "collapsed": false
   },
   "outputs": [
    {
     "data": {
      "text/plain": [
       "Timestamp('2013-11-23 16:00:00')"
      ]
     },
     "execution_count": 268,
     "metadata": {},
     "output_type": "execute_result"
    }
   ],
   "source": [
    "pd.to_datetime(df.index[0])"
   ]
  },
  {
   "cell_type": "code",
   "execution_count": 261,
   "metadata": {
    "collapsed": false
   },
   "outputs": [
    {
     "data": {
      "text/plain": [
       "array([[ 0.42870945,  9.36941537,  0.        ],\n",
       "       [ 0.40539093,  9.34441815,  0.        ],\n",
       "       [ 0.38542451,  9.28469045,  0.        ],\n",
       "       ..., \n",
       "       [ 0.99727099,  8.73749995,  0.        ],\n",
       "       [ 1.00267866,  9.07916653,  0.        ],\n",
       "       [ 0.99929035,  9.30000019,  0.        ]])"
      ]
     },
     "execution_count": 261,
     "metadata": {},
     "output_type": "execute_result"
    }
   ],
   "source": [
    "varmodel.y"
   ]
  },
  {
   "cell_type": "code",
   "execution_count": 250,
   "metadata": {
    "collapsed": false
   },
   "outputs": [
    {
     "data": {
      "text/plain": [
       "(7392, 3)"
      ]
     },
     "execution_count": 250,
     "metadata": {},
     "output_type": "execute_result"
    }
   ],
   "source": [
    "df_tmp[['humidity','temp','yield']].shape"
   ]
  },
  {
   "cell_type": "code",
   "execution_count": 245,
   "metadata": {
    "collapsed": false
   },
   "outputs": [
    {
     "ename": "TypeError",
     "evalue": "Cannot compare type 'Timestamp' with type 'int'",
     "output_type": "error",
     "traceback": [
      "\u001b[0;31m---------------------------------------------------------------------------\u001b[0m",
      "\u001b[0;31mTypeError\u001b[0m                                 Traceback (most recent call last)",
      "\u001b[0;32m<ipython-input-245-e4f9afb1781f>\u001b[0m in \u001b[0;36m<module>\u001b[0;34m()\u001b[0m\n\u001b[0;32m----> 1\u001b[0;31m \u001b[0mvarmodel\u001b[0m\u001b[0;34m.\u001b[0m\u001b[0mpredict\u001b[0m\u001b[0;34m(\u001b[0m\u001b[0my\u001b[0m\u001b[0;34m.\u001b[0m\u001b[0mparams\u001b[0m\u001b[0;34m,\u001b[0m\u001b[0mlags\u001b[0m\u001b[0;34m=\u001b[0m\u001b[0;36m42\u001b[0m\u001b[0;34m,\u001b[0m\u001b[0mstart\u001b[0m\u001b[0;34m=\u001b[0m\u001b[0mdf_tmp\u001b[0m\u001b[0;34m.\u001b[0m\u001b[0mindex\u001b[0m\u001b[0;34m[\u001b[0m\u001b[0;36m0\u001b[0m\u001b[0;34m]\u001b[0m\u001b[0;34m)\u001b[0m\u001b[0;34m\u001b[0m\u001b[0m\n\u001b[0m",
      "\u001b[0;32m/Users/thorey/miniconda2/envs/fognet/lib/python2.7/site-packages/statsmodels/tsa/vector_ar/var_model.pyc\u001b[0m in \u001b[0;36mpredict\u001b[0;34m(self, params, start, end, lags, trend)\u001b[0m\n\u001b[1;32m    345\u001b[0m         \u001b[0mReturns\u001b[0m \u001b[0;32min\u001b[0m\u001b[0;34m-\u001b[0m\u001b[0msample\u001b[0m \u001b[0mpredictions\u001b[0m \u001b[0;32mor\u001b[0m \u001b[0mforecasts\u001b[0m\u001b[0;34m\u001b[0m\u001b[0m\n\u001b[1;32m    346\u001b[0m         \"\"\"\n\u001b[0;32m--> 347\u001b[0;31m         \u001b[0mstart\u001b[0m \u001b[0;34m=\u001b[0m \u001b[0mself\u001b[0m\u001b[0;34m.\u001b[0m\u001b[0m_get_predict_start\u001b[0m\u001b[0;34m(\u001b[0m\u001b[0mstart\u001b[0m\u001b[0;34m,\u001b[0m \u001b[0mlags\u001b[0m\u001b[0;34m)\u001b[0m\u001b[0;34m\u001b[0m\u001b[0m\n\u001b[0m\u001b[1;32m    348\u001b[0m         \u001b[0mend\u001b[0m\u001b[0;34m,\u001b[0m \u001b[0mout_of_sample\u001b[0m \u001b[0;34m=\u001b[0m \u001b[0mself\u001b[0m\u001b[0;34m.\u001b[0m\u001b[0m_get_predict_end\u001b[0m\u001b[0;34m(\u001b[0m\u001b[0mend\u001b[0m\u001b[0;34m)\u001b[0m\u001b[0;34m\u001b[0m\u001b[0m\n\u001b[1;32m    349\u001b[0m \u001b[0;34m\u001b[0m\u001b[0m\n",
      "\u001b[0;32m/Users/thorey/miniconda2/envs/fognet/lib/python2.7/site-packages/statsmodels/tsa/vector_ar/var_model.pyc\u001b[0m in \u001b[0;36m_get_predict_start\u001b[0;34m(self, start, k_ar)\u001b[0m\n\u001b[1;32m    339\u001b[0m         \u001b[0;32mif\u001b[0m \u001b[0mstart\u001b[0m \u001b[0;32mis\u001b[0m \u001b[0mNone\u001b[0m\u001b[0;34m:\u001b[0m\u001b[0;34m\u001b[0m\u001b[0m\n\u001b[1;32m    340\u001b[0m             \u001b[0mstart\u001b[0m \u001b[0;34m=\u001b[0m \u001b[0mk_ar\u001b[0m\u001b[0;34m\u001b[0m\u001b[0m\n\u001b[0;32m--> 341\u001b[0;31m         \u001b[0;32mreturn\u001b[0m \u001b[0msuper\u001b[0m\u001b[0;34m(\u001b[0m\u001b[0mVAR\u001b[0m\u001b[0;34m,\u001b[0m \u001b[0mself\u001b[0m\u001b[0;34m)\u001b[0m\u001b[0;34m.\u001b[0m\u001b[0m_get_predict_start\u001b[0m\u001b[0;34m(\u001b[0m\u001b[0mstart\u001b[0m\u001b[0;34m)\u001b[0m\u001b[0;34m\u001b[0m\u001b[0m\n\u001b[0m\u001b[1;32m    342\u001b[0m \u001b[0;34m\u001b[0m\u001b[0m\n\u001b[1;32m    343\u001b[0m     \u001b[0;32mdef\u001b[0m \u001b[0mpredict\u001b[0m\u001b[0;34m(\u001b[0m\u001b[0mself\u001b[0m\u001b[0;34m,\u001b[0m \u001b[0mparams\u001b[0m\u001b[0;34m,\u001b[0m \u001b[0mstart\u001b[0m\u001b[0;34m=\u001b[0m\u001b[0mNone\u001b[0m\u001b[0;34m,\u001b[0m \u001b[0mend\u001b[0m\u001b[0;34m=\u001b[0m\u001b[0mNone\u001b[0m\u001b[0;34m,\u001b[0m \u001b[0mlags\u001b[0m\u001b[0;34m=\u001b[0m\u001b[0;36m1\u001b[0m\u001b[0;34m,\u001b[0m \u001b[0mtrend\u001b[0m\u001b[0;34m=\u001b[0m\u001b[0;34m'c'\u001b[0m\u001b[0;34m)\u001b[0m\u001b[0;34m:\u001b[0m\u001b[0;34m\u001b[0m\u001b[0m\n",
      "\u001b[0;32m/Users/thorey/miniconda2/envs/fognet/lib/python2.7/site-packages/statsmodels/tsa/base/tsa_model.pyc\u001b[0m in \u001b[0;36m_get_predict_start\u001b[0;34m(self, start)\u001b[0m\n\u001b[1;32m    129\u001b[0m                         (str(start), str(dtstart)))\n\u001b[1;32m    130\u001b[0m \u001b[0;34m\u001b[0m\u001b[0m\n\u001b[0;32m--> 131\u001b[0;31m         \u001b[0mself\u001b[0m\u001b[0;34m.\u001b[0m\u001b[0m_set_predict_start_date\u001b[0m\u001b[0;34m(\u001b[0m\u001b[0mstart\u001b[0m\u001b[0;34m)\u001b[0m\u001b[0;34m\u001b[0m\u001b[0m\n\u001b[0m\u001b[1;32m    132\u001b[0m         \u001b[0;32mreturn\u001b[0m \u001b[0mstart\u001b[0m\u001b[0;34m\u001b[0m\u001b[0m\n\u001b[1;32m    133\u001b[0m \u001b[0;34m\u001b[0m\u001b[0m\n",
      "\u001b[0;32m/Users/thorey/miniconda2/envs/fognet/lib/python2.7/site-packages/statsmodels/tsa/base/tsa_model.pyc\u001b[0m in \u001b[0;36m_set_predict_start_date\u001b[0;34m(self, start)\u001b[0m\n\u001b[1;32m    100\u001b[0m         \u001b[0;32mif\u001b[0m \u001b[0mdates\u001b[0m \u001b[0;32mis\u001b[0m \u001b[0mNone\u001b[0m\u001b[0;34m:\u001b[0m\u001b[0;34m\u001b[0m\u001b[0m\n\u001b[1;32m    101\u001b[0m             \u001b[0;32mreturn\u001b[0m\u001b[0;34m\u001b[0m\u001b[0m\n\u001b[0;32m--> 102\u001b[0;31m         \u001b[0;32mif\u001b[0m \u001b[0mstart\u001b[0m \u001b[0;34m>\u001b[0m \u001b[0mlen\u001b[0m\u001b[0;34m(\u001b[0m\u001b[0mdates\u001b[0m\u001b[0;34m)\u001b[0m\u001b[0;34m:\u001b[0m\u001b[0;34m\u001b[0m\u001b[0m\n\u001b[0m\u001b[1;32m    103\u001b[0m             \u001b[0;32mraise\u001b[0m \u001b[0mValueError\u001b[0m\u001b[0;34m(\u001b[0m\u001b[0;34m\"Start must be <= len(endog)\"\u001b[0m\u001b[0;34m)\u001b[0m\u001b[0;34m\u001b[0m\u001b[0m\n\u001b[1;32m    104\u001b[0m         \u001b[0;32mif\u001b[0m \u001b[0mstart\u001b[0m \u001b[0;34m==\u001b[0m \u001b[0mlen\u001b[0m\u001b[0;34m(\u001b[0m\u001b[0mdates\u001b[0m\u001b[0;34m)\u001b[0m\u001b[0;34m:\u001b[0m\u001b[0;34m\u001b[0m\u001b[0m\n",
      "\u001b[0;32mpandas/tslib.pyx\u001b[0m in \u001b[0;36mpandas.tslib._Timestamp.__richcmp__ (pandas/tslib.c:17992)\u001b[0;34m()\u001b[0m\n",
      "\u001b[0;31mTypeError\u001b[0m: Cannot compare type 'Timestamp' with type 'int'"
     ]
    }
   ],
   "source": [
    "varmodel.predict(y.params,lags=42,start=df_tmp.index[0])"
   ]
  },
  {
   "cell_type": "code",
   "execution_count": 240,
   "metadata": {
    "collapsed": false
   },
   "outputs": [
    {
     "data": {
      "text/plain": [
       "[<matplotlib.lines.Line2D at 0x14700b410>]"
      ]
     },
     "execution_count": 240,
     "metadata": {},
     "output_type": "execute_result"
    },
    {
     "data": {
      "image/png": "[encoded data removed]",
      "text/plain": [
       "<matplotlib.figure.Figure at 0x146c87ad0>"
      ]
     },
     "metadata": {},
     "output_type": "display_data"
    }
   ],
   "source": [
    "fig = plt.figure(figsize = (20,10))\n",
    "plt.plot(df_tmp['yield'].tolist())\n",
    "plt.plot(varmodel.predict(y.params,lags=42)[:,-1])"
   ]
  },
  {
   "cell_type": "code",
   "execution_count": 239,
   "metadata": {
    "collapsed": false
   },
   "outputs": [
    {
     "name": "stdout",
     "output_type": "stream",
     "text": [
      "                  VAR Order Selection                  \n",
      "=======================================================\n",
      "             aic          bic          fpe         hqic\n",
      "-------------------------------------------------------\n",
      "0          3.456        3.459        31.69        3.457\n",
      "1         -3.362       -3.351      0.03465       -3.359\n",
      "2         -3.665       -3.645      0.02561       -3.658\n",
      "3         -3.724       -3.696      0.02414       -3.714\n",
      "4         -3.748       -3.711      0.02357       -3.735\n",
      "5         -3.759       -3.714      0.02330       -3.744\n",
      "6         -3.780       -3.726      0.02283       -3.761\n",
      "7         -3.809       -3.747      0.02217       -3.787\n",
      "8         -3.868       -3.797      0.02090       -3.844\n",
      "9         -3.937       -3.857      0.01951       -3.909\n",
      "10        -3.950       -3.862      0.01925       -3.920\n",
      "11        -3.970       -3.873      0.01888       -3.936\n",
      "12        -4.016       -3.911      0.01803       -3.980\n",
      "13        -4.089      -3.975*      0.01676       -4.050\n",
      "14        -4.096       -3.974      0.01664       -4.054\n",
      "15        -4.096       -3.966      0.01664       -4.051\n",
      "16        -4.096       -3.957      0.01663       -4.049\n",
      "17        -4.097       -3.949      0.01663       -4.046\n",
      "18        -4.097       -3.941      0.01663       -4.043\n",
      "19        -4.096       -3.932      0.01664       -4.040\n",
      "20        -4.097       -3.924      0.01662       -4.038\n",
      "21        -4.106       -3.925      0.01647       -4.044\n",
      "22        -4.111       -3.921      0.01639       -4.046\n",
      "23        -4.112       -3.913      0.01638       -4.043\n",
      "24        -4.119       -3.912      0.01625       -4.048\n",
      "25        -4.133       -3.918      0.01603      -4.059*\n",
      "26        -4.133       -3.909      0.01603       -4.056\n",
      "27        -4.133       -3.900      0.01604       -4.053\n",
      "28        -4.133       -3.892      0.01604       -4.050\n",
      "29        -4.135       -3.885      0.01601       -4.049\n",
      "30        -4.133       -3.875      0.01603       -4.044\n",
      "31        -4.135       -3.869      0.01600       -4.044\n",
      "32        -4.138       -3.863      0.01595       -4.044\n",
      "33        -4.139       -3.856      0.01593       -4.042\n",
      "34        -4.141       -3.848      0.01591       -4.040\n",
      "35        -4.140       -3.839      0.01592       -4.037\n",
      "36        -4.141       -3.832      0.01591       -4.034\n",
      "37        -4.148       -3.830      0.01580       -4.039\n",
      "38        -4.149       -3.823      0.01578       -4.037\n",
      "39        -4.147       -3.812      0.01581       -4.032\n",
      "40        -4.147       -3.804      0.01581       -4.029\n",
      "41        -4.150       -3.798      0.01577       -4.029\n",
      "42        -4.150       -3.790      0.01576       -4.026\n",
      "43        -4.149       -3.780      0.01578       -4.022\n",
      "44        -4.149       -3.772      0.01578       -4.020\n",
      "45        -4.148       -3.762      0.01580       -4.015\n",
      "46        -4.147       -3.753      0.01580       -4.012\n",
      "47        -4.146       -3.744      0.01582       -4.008\n",
      "48        -4.146       -3.734      0.01583       -4.004\n",
      "49        -4.148       -3.728      0.01579       -4.004\n",
      "50        -4.147       -3.718      0.01582       -3.999\n",
      "51        -4.148       -3.711      0.01580       -3.998\n",
      "52        -4.146       -3.701      0.01583       -3.993\n",
      "53        -4.145       -3.691      0.01585       -3.989\n",
      "54        -4.143       -3.681      0.01588       -3.984\n",
      "55        -4.142       -3.671      0.01589       -3.980\n",
      "56        -4.144       -3.665      0.01586       -3.979\n",
      "57        -4.144       -3.656      0.01585       -3.977\n",
      "58        -4.145       -3.648      0.01585       -3.974\n",
      "59        -4.144       -3.640      0.01585       -3.971\n",
      "60        -4.144       -3.631      0.01586       -3.967\n",
      "61        -4.144       -3.622      0.01586       -3.964\n",
      "62        -4.143       -3.613      0.01587       -3.961\n",
      "63        -4.142       -3.603      0.01589       -3.957\n",
      "64        -4.142       -3.594      0.01590       -3.954\n",
      "65        -4.141       -3.585      0.01590       -3.950\n",
      "66        -4.140       -3.576      0.01592       -3.946\n",
      "67        -4.138       -3.565      0.01595       -3.941\n",
      "68        -4.137       -3.556      0.01597       -3.937\n",
      "69        -4.138       -3.548      0.01596       -3.935\n",
      "70        -4.138       -3.540      0.01595       -3.933\n",
      "71        -4.138       -3.531      0.01596       -3.929\n",
      "72        -4.137       -3.522      0.01597       -3.926\n",
      "73       -4.150*       -3.526     0.01576*       -3.936\n",
      "74        -4.149       -3.517      0.01578       -3.932\n",
      "75        -4.149       -3.508      0.01579       -3.928\n",
      "76        -4.147       -3.498      0.01581       -3.924\n",
      "77        -4.146       -3.488      0.01583       -3.920\n",
      "78        -4.146       -3.479      0.01583       -3.917\n",
      "79        -4.146       -3.471      0.01583       -3.914\n",
      "80        -4.146       -3.463      0.01582       -3.911\n",
      "81        -4.147       -3.455      0.01581       -3.909\n",
      "82        -4.148       -3.447      0.01580       -3.907\n",
      "83        -4.148       -3.439      0.01579       -3.905\n",
      "84        -4.149       -3.432      0.01577       -3.903\n",
      "85        -4.149       -3.423      0.01578       -3.899\n",
      "86        -4.147       -3.413      0.01581       -3.895\n",
      "87        -4.146       -3.403      0.01583       -3.890\n",
      "88        -4.146       -3.394      0.01583       -3.887\n",
      "89        -4.144       -3.384      0.01586       -3.882\n",
      "90        -4.143       -3.374      0.01588       -3.878\n",
      "91        -4.141       -3.364      0.01591       -3.874\n",
      "92        -4.141       -3.355      0.01591       -3.870\n",
      "93        -4.140       -3.345      0.01593       -3.866\n",
      "94        -4.139       -3.337      0.01593       -3.863\n",
      "95        -4.140       -3.328      0.01593       -3.861\n",
      "96        -4.139       -3.319      0.01594       -3.857\n",
      "97        -4.140       -3.312      0.01592       -3.856\n",
      "98        -4.140       -3.304      0.01592       -3.853\n",
      "99        -4.139       -3.294      0.01594       -3.848\n",
      "100       -4.138       -3.284      0.01596       -3.844\n",
      "=======================================================\n",
      "* Minimum\n",
      "\n"
     ]
    },
    {
     "data": {
      "text/plain": [
       "{'aic': 73, 'bic': 13, 'fpe': 73, 'hqic': 25}"
      ]
     },
     "execution_count": 239,
     "metadata": {},
     "output_type": "execute_result"
    }
   ],
   "source": [
    "varmodel.select_order(maxlags=100)"
   ]
  },
  {
   "cell_type": "code",
   "execution_count": 212,
   "metadata": {
    "collapsed": false
   },
   "outputs": [
    {
     "ename": "ValueError",
     "evalue": "shapes (7391,4) and (97,3) not aligned: 4 (dim 1) != 97 (dim 0)",
     "output_type": "error",
     "traceback": [
      "\u001b[0;31m---------------------------------------------------------------------------\u001b[0m",
      "\u001b[0;31mValueError\u001b[0m                                Traceback (most recent call last)",
      "\u001b[0;32m<ipython-input-212-d5e1ff819e1d>\u001b[0m in \u001b[0;36m<module>\u001b[0;34m()\u001b[0m\n\u001b[0;32m----> 1\u001b[0;31m \u001b[0md\u001b[0m \u001b[0;34m=\u001b[0m \u001b[0mvarmodebl\u001b[0m\u001b[0;34m.\u001b[0m\u001b[0mpredict\u001b[0m\u001b[0;34m(\u001b[0m\u001b[0mparams\u001b[0m\u001b[0;34m=\u001b[0m \u001b[0mvarmodebl\u001b[0m\u001b[0;34m.\u001b[0m\u001b[0mfit\u001b[0m\u001b[0;34m(\u001b[0m\u001b[0;36m32\u001b[0m\u001b[0;34m)\u001b[0m\u001b[0;34m.\u001b[0m\u001b[0mparams\u001b[0m\u001b[0;34m)\u001b[0m\u001b[0;34m\u001b[0m\u001b[0m\n\u001b[0m",
      "\u001b[0;32m/Users/thorey/miniconda2/envs/fognet/lib/python2.7/site-packages/statsmodels/tsa/vector_ar/var_model.pyc\u001b[0m in \u001b[0;36mpredict\u001b[0;34m(self, params, start, end, lags, trend)\u001b[0m\n\u001b[1;32m    364\u001b[0m         \u001b[0my\u001b[0m \u001b[0;34m=\u001b[0m \u001b[0mself\u001b[0m\u001b[0;34m.\u001b[0m\u001b[0my\u001b[0m\u001b[0;34m\u001b[0m\u001b[0m\n\u001b[1;32m    365\u001b[0m         \u001b[0mX\u001b[0m \u001b[0;34m=\u001b[0m \u001b[0mutil\u001b[0m\u001b[0;34m.\u001b[0m\u001b[0mget_var_endog\u001b[0m\u001b[0;34m(\u001b[0m\u001b[0my\u001b[0m\u001b[0;34m,\u001b[0m \u001b[0mlags\u001b[0m\u001b[0;34m,\u001b[0m \u001b[0mtrend\u001b[0m\u001b[0;34m=\u001b[0m\u001b[0mtrend\u001b[0m\u001b[0;34m,\u001b[0m \u001b[0mhas_constant\u001b[0m\u001b[0;34m=\u001b[0m\u001b[0;34m'raise'\u001b[0m\u001b[0;34m)\u001b[0m\u001b[0;34m\u001b[0m\u001b[0m\n\u001b[0;32m--> 366\u001b[0;31m         \u001b[0mfittedvalues\u001b[0m \u001b[0;34m=\u001b[0m \u001b[0mnp\u001b[0m\u001b[0;34m.\u001b[0m\u001b[0mdot\u001b[0m\u001b[0;34m(\u001b[0m\u001b[0mX\u001b[0m\u001b[0;34m,\u001b[0m \u001b[0mparams\u001b[0m\u001b[0;34m)\u001b[0m\u001b[0;34m\u001b[0m\u001b[0m\n\u001b[0m\u001b[1;32m    367\u001b[0m \u001b[0;34m\u001b[0m\u001b[0m\n\u001b[1;32m    368\u001b[0m         \u001b[0mfv_start\u001b[0m \u001b[0;34m=\u001b[0m \u001b[0mstart\u001b[0m \u001b[0;34m-\u001b[0m \u001b[0mk_ar\u001b[0m\u001b[0;34m\u001b[0m\u001b[0m\n",
      "\u001b[0;31mValueError\u001b[0m: shapes (7391,4) and (97,3) not aligned: 4 (dim 1) != 97 (dim 0)"
     ]
    }
   ],
   "source": [
    "d = varmodebl.predict(params= varmodebl.fit(32).params)"
   ]
  },
  {
   "cell_type": "code",
   "execution_count": 208,
   "metadata": {
    "collapsed": false
   },
   "outputs": [],
   "source": [
    "import pandas as pd"
   ]
  },
  {
   "cell_type": "code",
   "execution_count": 210,
   "metadata": {
    "collapsed": false
   },
   "outputs": [
    {
     "ename": "ValueError",
     "evalue": "Shape of passed values is (3, 7391), indices imply (3, 7392)",
     "output_type": "error",
     "traceback": [
      "\u001b[0;31m---------------------------------------------------------------------------\u001b[0m",
      "\u001b[0;31mValueError\u001b[0m                                Traceback (most recent call last)",
      "\u001b[0;32m<ipython-input-210-a832c32f26e7>\u001b[0m in \u001b[0;36m<module>\u001b[0;34m()\u001b[0m\n\u001b[0;32m----> 1\u001b[0;31m \u001b[0mpd\u001b[0m\u001b[0;34m.\u001b[0m\u001b[0mDataFrame\u001b[0m\u001b[0;34m(\u001b[0m\u001b[0md\u001b[0m\u001b[0;34m,\u001b[0m\u001b[0mcolumns\u001b[0m \u001b[0;34m=\u001b[0m \u001b[0mvarmodel\u001b[0m\u001b[0;34m.\u001b[0m\u001b[0mdata\u001b[0m\u001b[0;34m.\u001b[0m\u001b[0mynames\u001b[0m\u001b[0;34m,\u001b[0m\u001b[0mindex\u001b[0m\u001b[0;34m=\u001b[0m\u001b[0mvarmodel\u001b[0m\u001b[0;34m.\u001b[0m\u001b[0mdata\u001b[0m\u001b[0;34m.\u001b[0m\u001b[0mdates\u001b[0m\u001b[0;34m)\u001b[0m\u001b[0;34m\u001b[0m\u001b[0m\n\u001b[0m",
      "\u001b[0;32m/Users/thorey/miniconda2/envs/fognet/lib/python2.7/site-packages/pandas/core/frame.py\u001b[0m in \u001b[0;36m__init__\u001b[0;34m(self, data, index, columns, dtype, copy)\u001b[0m\n\u001b[1;32m    255\u001b[0m             \u001b[0;32melse\u001b[0m\u001b[0;34m:\u001b[0m\u001b[0;34m\u001b[0m\u001b[0m\n\u001b[1;32m    256\u001b[0m                 mgr = self._init_ndarray(data, index, columns, dtype=dtype,\n\u001b[0;32m--> 257\u001b[0;31m                                          copy=copy)\n\u001b[0m\u001b[1;32m    258\u001b[0m         \u001b[0;32melif\u001b[0m \u001b[0misinstance\u001b[0m\u001b[0;34m(\u001b[0m\u001b[0mdata\u001b[0m\u001b[0;34m,\u001b[0m \u001b[0;34m(\u001b[0m\u001b[0mlist\u001b[0m\u001b[0;34m,\u001b[0m \u001b[0mtypes\u001b[0m\u001b[0;34m.\u001b[0m\u001b[0mGeneratorType\u001b[0m\u001b[0;34m)\u001b[0m\u001b[0;34m)\u001b[0m\u001b[0;34m:\u001b[0m\u001b[0;34m\u001b[0m\u001b[0m\n\u001b[1;32m    259\u001b[0m             \u001b[0;32mif\u001b[0m \u001b[0misinstance\u001b[0m\u001b[0;34m(\u001b[0m\u001b[0mdata\u001b[0m\u001b[0;34m,\u001b[0m \u001b[0mtypes\u001b[0m\u001b[0;34m.\u001b[0m\u001b[0mGeneratorType\u001b[0m\u001b[0;34m)\u001b[0m\u001b[0;34m:\u001b[0m\u001b[0;34m\u001b[0m\u001b[0m\n",
      "\u001b[0;32m/Users/thorey/miniconda2/envs/fognet/lib/python2.7/site-packages/pandas/core/frame.py\u001b[0m in \u001b[0;36m_init_ndarray\u001b[0;34m(self, values, index, columns, dtype, copy)\u001b[0m\n\u001b[1;32m    435\u001b[0m             \u001b[0mvalues\u001b[0m \u001b[0;34m=\u001b[0m \u001b[0m_possibly_infer_to_datetimelike\u001b[0m\u001b[0;34m(\u001b[0m\u001b[0mvalues\u001b[0m\u001b[0;34m)\u001b[0m\u001b[0;34m\u001b[0m\u001b[0m\n\u001b[1;32m    436\u001b[0m \u001b[0;34m\u001b[0m\u001b[0m\n\u001b[0;32m--> 437\u001b[0;31m         \u001b[0;32mreturn\u001b[0m \u001b[0mcreate_block_manager_from_blocks\u001b[0m\u001b[0;34m(\u001b[0m\u001b[0;34m[\u001b[0m\u001b[0mvalues\u001b[0m\u001b[0;34m]\u001b[0m\u001b[0;34m,\u001b[0m \u001b[0;34m[\u001b[0m\u001b[0mcolumns\u001b[0m\u001b[0;34m,\u001b[0m \u001b[0mindex\u001b[0m\u001b[0;34m]\u001b[0m\u001b[0;34m)\u001b[0m\u001b[0;34m\u001b[0m\u001b[0m\n\u001b[0m\u001b[1;32m    438\u001b[0m \u001b[0;34m\u001b[0m\u001b[0m\n\u001b[1;32m    439\u001b[0m     \u001b[0;34m@\u001b[0m\u001b[0mproperty\u001b[0m\u001b[0;34m\u001b[0m\u001b[0m\n",
      "\u001b[0;32m/Users/thorey/miniconda2/envs/fognet/lib/python2.7/site-packages/pandas/core/internals.py\u001b[0m in \u001b[0;36mcreate_block_manager_from_blocks\u001b[0;34m(blocks, axes)\u001b[0m\n\u001b[1;32m   3903\u001b[0m         \u001b[0mblocks\u001b[0m \u001b[0;34m=\u001b[0m \u001b[0;34m[\u001b[0m\u001b[0mgetattr\u001b[0m\u001b[0;34m(\u001b[0m\u001b[0mb\u001b[0m\u001b[0;34m,\u001b[0m \u001b[0;34m'values'\u001b[0m\u001b[0;34m,\u001b[0m \u001b[0mb\u001b[0m\u001b[0;34m)\u001b[0m \u001b[0;32mfor\u001b[0m \u001b[0mb\u001b[0m \u001b[0;32min\u001b[0m \u001b[0mblocks\u001b[0m\u001b[0;34m]\u001b[0m\u001b[0;34m\u001b[0m\u001b[0m\n\u001b[1;32m   3904\u001b[0m         \u001b[0mtot_items\u001b[0m \u001b[0;34m=\u001b[0m \u001b[0msum\u001b[0m\u001b[0;34m(\u001b[0m\u001b[0mb\u001b[0m\u001b[0;34m.\u001b[0m\u001b[0mshape\u001b[0m\u001b[0;34m[\u001b[0m\u001b[0;36m0\u001b[0m\u001b[0;34m]\u001b[0m \u001b[0;32mfor\u001b[0m \u001b[0mb\u001b[0m \u001b[0;32min\u001b[0m \u001b[0mblocks\u001b[0m\u001b[0;34m)\u001b[0m\u001b[0;34m\u001b[0m\u001b[0m\n\u001b[0;32m-> 3905\u001b[0;31m         \u001b[0mconstruction_error\u001b[0m\u001b[0;34m(\u001b[0m\u001b[0mtot_items\u001b[0m\u001b[0;34m,\u001b[0m \u001b[0mblocks\u001b[0m\u001b[0;34m[\u001b[0m\u001b[0;36m0\u001b[0m\u001b[0;34m]\u001b[0m\u001b[0;34m.\u001b[0m\u001b[0mshape\u001b[0m\u001b[0;34m[\u001b[0m\u001b[0;36m1\u001b[0m\u001b[0;34m:\u001b[0m\u001b[0;34m]\u001b[0m\u001b[0;34m,\u001b[0m \u001b[0maxes\u001b[0m\u001b[0;34m,\u001b[0m \u001b[0me\u001b[0m\u001b[0;34m)\u001b[0m\u001b[0;34m\u001b[0m\u001b[0m\n\u001b[0m\u001b[1;32m   3906\u001b[0m \u001b[0;34m\u001b[0m\u001b[0m\n\u001b[1;32m   3907\u001b[0m \u001b[0;34m\u001b[0m\u001b[0m\n",
      "\u001b[0;32m/Users/thorey/miniconda2/envs/fognet/lib/python2.7/site-packages/pandas/core/internals.py\u001b[0m in \u001b[0;36mconstruction_error\u001b[0;34m(tot_items, block_shape, axes, e)\u001b[0m\n\u001b[1;32m   3880\u001b[0m         \u001b[0;32mraise\u001b[0m \u001b[0me\u001b[0m\u001b[0;34m\u001b[0m\u001b[0m\n\u001b[1;32m   3881\u001b[0m     raise ValueError(\"Shape of passed values is {0}, indices imply {1}\".format(\n\u001b[0;32m-> 3882\u001b[0;31m         passed,implied))\n\u001b[0m\u001b[1;32m   3883\u001b[0m \u001b[0;34m\u001b[0m\u001b[0m\n\u001b[1;32m   3884\u001b[0m \u001b[0;34m\u001b[0m\u001b[0m\n",
      "\u001b[0;31mValueError\u001b[0m: Shape of passed values is (3, 7391), indices imply (3, 7392)"
     ]
    }
   ],
   "source": [
    "pd.DataFrame(d,columns = varmodel.data.ynames,index=varmodel.data.dates)"
   ]
  },
  {
   "cell_type": "code",
   "execution_count": null,
   "metadata": {
    "collapsed": true
   },
   "outputs": [],
   "source": [
    "varmodel.data."
   ]
  },
  {
   "cell_type": "code",
   "execution_count": 200,
   "metadata": {
    "collapsed": false
   },
   "outputs": [
    {
     "data": {
      "text/plain": [
       "[<matplotlib.lines.Line2D at 0x1401fff10>]"
      ]
     },
     "execution_count": 200,
     "metadata": {},
     "output_type": "execute_result"
    },
    {
     "data": {
      "image/png": "[encoded data removed]",
      "text/plain": [
       "<matplotlib.figure.Figure at 0x139504b10>"
      ]
     },
     "metadata": {},
     "output_type": "display_data"
    }
   ],
   "source": [
    "plt.plot(df_tmp['yield'].tolist())\n",
    "plt.plot(d[:,2])"
   ]
  },
  {
   "cell_type": "code",
   "execution_count": 178,
   "metadata": {
    "collapsed": false
   },
   "outputs": [
    {
     "ename": "TypeError",
     "evalue": "'PandasData' object has no attribute '__getitem__'",
     "output_type": "error",
     "traceback": [
      "\u001b[0;31m---------------------------------------------------------------------------\u001b[0m",
      "\u001b[0;31mTypeError\u001b[0m                                 Traceback (most recent call last)",
      "\u001b[0;32m<ipython-input-178-93e85f2b18d8>\u001b[0m in \u001b[0;36m<module>\u001b[0;34m()\u001b[0m\n\u001b[0;32m----> 1\u001b[0;31m \u001b[0mplt\u001b[0m\u001b[0;34m.\u001b[0m\u001b[0mplot\u001b[0m\u001b[0;34m(\u001b[0m\u001b[0mvarmodebl\u001b[0m\u001b[0;34m.\u001b[0m\u001b[0mdata\u001b[0m\u001b[0;34m[\u001b[0m\u001b[0;34m:\u001b[0m\u001b[0;34m,\u001b[0m\u001b[0;36m0\u001b[0m\u001b[0;34m]\u001b[0m\u001b[0;34m)\u001b[0m\u001b[0;34m\u001b[0m\u001b[0m\n\u001b[0m\u001b[1;32m      2\u001b[0m \u001b[0mplt\u001b[0m\u001b[0;34m.\u001b[0m\u001b[0mplot\u001b[0m\u001b[0;34m(\u001b[0m\u001b[0mres\u001b[0m\u001b[0;34m[\u001b[0m\u001b[0;34m:\u001b[0m\u001b[0;34m,\u001b[0m\u001b[0;36m0\u001b[0m\u001b[0;34m]\u001b[0m\u001b[0;34m)\u001b[0m\u001b[0;34m\u001b[0m\u001b[0m\n",
      "\u001b[0;31mTypeError\u001b[0m: 'PandasData' object has no attribute '__getitem__'"
     ]
    }
   ],
   "source": [
    "plt.plot(varmodebl.data[:,0])\n",
    "plt.plot(res[:,0])"
   ]
  },
  {
   "cell_type": "code",
   "execution_count": 183,
   "metadata": {
    "collapsed": false
   },
   "outputs": [],
   "source": [
    "df_tmp"
   ]
  },
  {
   "cell_type": "code",
   "execution_count": 136,
   "metadata": {
    "collapsed": false
   },
   "outputs": [
    {
     "data": {
      "text/plain": [
       "DatetimeIndex(['2013-11-23 16:00:00', '2013-11-23 18:00:00',\n",
       "               '2013-11-23 20:00:00', '2013-11-23 22:00:00',\n",
       "               '2013-11-24 00:00:00', '2013-11-24 02:00:00',\n",
       "               '2013-11-24 04:00:00', '2013-11-24 06:00:00',\n",
       "               '2013-11-24 08:00:00', '2013-11-24 10:00:00',\n",
       "               ...\n",
       "               '2016-01-03 16:00:00', '2016-01-03 18:00:00',\n",
       "               '2016-01-03 20:00:00', '2016-01-03 22:00:00',\n",
       "               '2016-01-04 00:00:00', '2016-01-04 02:00:00',\n",
       "               '2016-01-04 04:00:00', '2016-01-04 06:00:00',\n",
       "               '2016-01-04 08:00:00', '2016-01-04 10:00:00'],\n",
       "              dtype='datetime64[ns]', length=7392, freq=None)"
      ]
     },
     "execution_count": 136,
     "metadata": {},
     "output_type": "execute_result"
    }
   ],
   "source": [
    "varmodebl.dates"
   ]
  },
  {
   "cell_type": "code",
   "execution_count": 133,
   "metadata": {
    "collapsed": false
   },
   "outputs": [
    {
     "data": {
      "text/plain": [
       "array([[ True,  True,  True],\n",
       "       [ True,  True,  True],\n",
       "       [ True,  True,  True],\n",
       "       ..., \n",
       "       [ True,  True,  True],\n",
       "       [ True,  True,  True],\n",
       "       [ True,  True,  True]], dtype=bool)"
      ]
     },
     "execution_count": 133,
     "metadata": {},
     "output_type": "execute_result"
    }
   ],
   "source": [
    "varmodebl.y == np.array(df_tmp[['humidity','temp','yield']])"
   ]
  },
  {
   "cell_type": "code",
   "execution_count": 115,
   "metadata": {
    "collapsed": true
   },
   "outputs": [],
   "source": [
    "sm.tsa.VAR?"
   ]
  },
  {
   "cell_type": "code",
   "execution_count": 110,
   "metadata": {
    "collapsed": false
   },
   "outputs": [
    {
     "name": "stdout",
     "output_type": "stream",
     "text": [
      "Series: x \n",
      "ARIMA(3,0,0) with non-zero mean \n",
      "\n",
      "Coefficients:\n",
      "         ar1      ar2     ar3  intercept\n",
      "      1.1612  -0.3490  0.1427     0.5488\n",
      "s.e.  0.0119   0.0179  0.0120     0.0210\n",
      "\n",
      "sigma^2 estimated as 0.006469:  log likelihood=7574.32\n",
      "AIC=-15138.65   AICc=-15138.64   BIC=-15104.11\n",
      "\n",
      "Training set error measures:\n",
      "                        ME       RMSE        MAE MPE MAPE     MASE        ACF1\n",
      "Training set -1.402427e-05 0.08043306 0.05080558 NaN  Inf 1.021582 -0.00625392\n",
      "                        ME       RMSE        MAE MPE MAPE     MASE        ACF1\n",
      "Training set -1.402427e-05 0.08043306 0.05080558 NaN  Inf 1.021582 -0.00625392\n"
     ]
    },
    {
     "data": {
      "text/plain": [
       "array([ 0.42870945,  0.40539093,  0.38542451, ...,  0.99727099,\n",
       "        1.00267866,  0.99929035])"
      ]
     },
     "execution_count": 110,
     "metadata": {},
     "output_type": "execute_result"
    }
   ],
   "source": [
    "fit_best_ARIMA(df.humidity)"
   ]
  },
  {
   "cell_type": "code",
   "execution_count": 107,
   "metadata": {
    "collapsed": false
   },
   "outputs": [
    {
     "data": {
      "image/png": "[encoded data removed]",
      "text/plain": [
       "<matplotlib.figure.Figure at 0x1408478d0>"
      ]
     },
     "metadata": {},
     "output_type": "display_data"
    }
   ],
   "source": [
    "fig = plt.figure(figsize=(12,8))\n",
    "ax1 = fig.add_subplot(211)\n",
    "fig = sm.graphics.tsa.plot_acf(df_tmp[['humidity']].values.squeeze(), lags=40, ax=ax1)\n",
    "ax2 = fig.add_subplot(212)\n",
    "fig = sm.graphics.tsa.plot_pacf(df_tmp[['humidity']], lags=40, ax=ax2)"
   ]
  },
  {
   "cell_type": "code",
   "execution_count": 93,
   "metadata": {
    "collapsed": true
   },
   "outputs": [],
   "source": [
    "sm.tsa.VAR?"
   ]
  },
  {
   "cell_type": "code",
   "execution_count": 67,
   "metadata": {
    "collapsed": false
   },
   "outputs": [
    {
     "data": {
      "text/plain": [
       "[<matplotlib.lines.Line2D at 0x1268433d0>]"
      ]
     },
     "execution_count": 67,
     "metadata": {},
     "output_type": "execute_result"
    },
    {
     "data": {
      "image/png": "[encoded data removed]",
      "text/plain": [
       "<matplotlib.figure.Figure at 0x127551790>"
      ]
     },
     "metadata": {},
     "output_type": "display_data"
    }
   ],
   "source": [
    "fig = plt.figure(figsize = (20,10))\n",
    "plt.plot(x,marker='o',alpha = 0.2)\n",
    "plt.plot(ypred,marker='o',markersize =1,color = 'r')"
   ]
  },
  {
   "cell_type": "code",
   "execution_count": 68,
   "metadata": {
    "collapsed": true
   },
   "outputs": [],
   "source": [
    "import statsmodels.api as sm"
   ]
  },
  {
   "cell_type": "code",
   "execution_count": 75,
   "metadata": {
    "collapsed": true
   },
   "outputs": [],
   "source": [
    "model = sm.tsa.ARIMA(ypred,order= (2,1,0),dates = df.index).fit()"
   ]
  },
  {
   "cell_type": "code",
   "execution_count": 78,
   "metadata": {
    "collapsed": false
   },
   "outputs": [],
   "source": [
    "model.forecast?"
   ]
  },
  {
   "cell_type": "code",
   "execution_count": 76,
   "metadata": {
    "collapsed": false
   },
   "outputs": [
    {
     "data": {
      "text/plain": [
       "[<matplotlib.lines.Line2D at 0x138b9fe50>]"
      ]
     },
     "execution_count": 76,
     "metadata": {},
     "output_type": "execute_result"
    },
    {
     "data": {
      "image/png": "[encoded data removed]",
      "text/plain": [
       "<matplotlib.figure.Figure at 0x1268522d0>"
      ]
     },
     "metadata": {},
     "output_type": "display_data"
    }
   ],
   "source": [
    "plt.plot(ypred)"
   ]
  },
  {
   "cell_type": "code",
   "execution_count": 20,
   "metadata": {
    "collapsed": false
   },
   "outputs": [
    {
     "ename": "LinAlgError",
     "evalue": "Array must not contain infs or NaNs",
     "output_type": "error",
     "traceback": [
      "\u001b[0;31m---------------------------------------------------------------------------\u001b[0m",
      "\u001b[0;31mLinAlgError\u001b[0m                               Traceback (most recent call last)",
      "\u001b[0;32m<ipython-input-20-e0a5ab5740d9>\u001b[0m in \u001b[0;36m<module>\u001b[0;34m()\u001b[0m\n\u001b[1;32m      1\u001b[0m \u001b[0mmod\u001b[0m \u001b[0;34m=\u001b[0m \u001b[0msm\u001b[0m\u001b[0;34m.\u001b[0m\u001b[0mtsa\u001b[0m\u001b[0;34m.\u001b[0m\u001b[0mARIMA\u001b[0m\u001b[0;34m(\u001b[0m\u001b[0mendog\u001b[0m\u001b[0;34m=\u001b[0m\u001b[0mdf\u001b[0m\u001b[0;34m.\u001b[0m\u001b[0mtemp\u001b[0m\u001b[0;34m,\u001b[0m\u001b[0morder\u001b[0m\u001b[0;34m=\u001b[0m\u001b[0;34m(\u001b[0m\u001b[0;36m1\u001b[0m\u001b[0;34m,\u001b[0m\u001b[0;36m0\u001b[0m\u001b[0;34m,\u001b[0m\u001b[0;36m0\u001b[0m\u001b[0;34m)\u001b[0m\u001b[0;34m)\u001b[0m\u001b[0;34m\u001b[0m\u001b[0m\n\u001b[0;32m----> 2\u001b[0;31m \u001b[0mmod\u001b[0m\u001b[0;34m.\u001b[0m\u001b[0mfit\u001b[0m\u001b[0;34m(\u001b[0m\u001b[0;34m)\u001b[0m\u001b[0;34m\u001b[0m\u001b[0m\n\u001b[0m",
      "\u001b[0;32m/Users/thorey/miniconda2/envs/fognet/lib/python2.7/site-packages/statsmodels/tsa/arima_model.pyc\u001b[0m in \u001b[0;36mfit\u001b[0;34m(self, start_params, trend, method, transparams, solver, maxiter, full_output, disp, callback, **kwargs)\u001b[0m\n\u001b[1;32m    917\u001b[0m \u001b[0;34m\u001b[0m\u001b[0m\n\u001b[1;32m    918\u001b[0m         \u001b[0;32melse\u001b[0m\u001b[0;34m:\u001b[0m  \u001b[0;31m# estimate starting parameters\u001b[0m\u001b[0;34m\u001b[0m\u001b[0m\n\u001b[0;32m--> 919\u001b[0;31m             \u001b[0mstart_params\u001b[0m \u001b[0;34m=\u001b[0m \u001b[0mself\u001b[0m\u001b[0;34m.\u001b[0m\u001b[0m_fit_start_params\u001b[0m\u001b[0;34m(\u001b[0m\u001b[0;34m(\u001b[0m\u001b[0mk_ar\u001b[0m\u001b[0;34m,\u001b[0m \u001b[0mk_ma\u001b[0m\u001b[0;34m,\u001b[0m \u001b[0mk\u001b[0m\u001b[0;34m)\u001b[0m\u001b[0;34m,\u001b[0m \u001b[0mmethod\u001b[0m\u001b[0;34m)\u001b[0m\u001b[0;34m\u001b[0m\u001b[0m\n\u001b[0m\u001b[1;32m    920\u001b[0m \u001b[0;34m\u001b[0m\u001b[0m\n\u001b[1;32m    921\u001b[0m         \u001b[0;32mif\u001b[0m \u001b[0mtransparams\u001b[0m\u001b[0;34m:\u001b[0m  \u001b[0;31m# transform initial parameters to ensure invertibility\u001b[0m\u001b[0;34m\u001b[0m\u001b[0m\n",
      "\u001b[0;32m/Users/thorey/miniconda2/envs/fognet/lib/python2.7/site-packages/statsmodels/tsa/arima_model.pyc\u001b[0m in \u001b[0;36m_fit_start_params\u001b[0;34m(self, order, method)\u001b[0m\n\u001b[1;32m    554\u001b[0m             \u001b[0mfunc\u001b[0m \u001b[0;34m=\u001b[0m \u001b[0;32mlambda\u001b[0m \u001b[0mparams\u001b[0m\u001b[0;34m:\u001b[0m \u001b[0;34m-\u001b[0m\u001b[0mself\u001b[0m\u001b[0;34m.\u001b[0m\u001b[0mloglike_css\u001b[0m\u001b[0;34m(\u001b[0m\u001b[0mparams\u001b[0m\u001b[0;34m)\u001b[0m\u001b[0;34m\u001b[0m\u001b[0m\n\u001b[1;32m    555\u001b[0m             \u001b[0;31m#start_params = [.1]*(k_ar+k_ma+k_exog) # different one for k?\u001b[0m\u001b[0;34m\u001b[0m\u001b[0;34m\u001b[0m\u001b[0m\n\u001b[0;32m--> 556\u001b[0;31m             \u001b[0mstart_params\u001b[0m \u001b[0;34m=\u001b[0m \u001b[0mself\u001b[0m\u001b[0;34m.\u001b[0m\u001b[0m_fit_start_params_hr\u001b[0m\u001b[0;34m(\u001b[0m\u001b[0morder\u001b[0m\u001b[0;34m)\u001b[0m\u001b[0;34m\u001b[0m\u001b[0m\n\u001b[0m\u001b[1;32m    557\u001b[0m             \u001b[0;32mif\u001b[0m \u001b[0mself\u001b[0m\u001b[0;34m.\u001b[0m\u001b[0mtransparams\u001b[0m\u001b[0;34m:\u001b[0m\u001b[0;34m\u001b[0m\u001b[0m\n\u001b[1;32m    558\u001b[0m                 \u001b[0mstart_params\u001b[0m \u001b[0;34m=\u001b[0m \u001b[0mself\u001b[0m\u001b[0;34m.\u001b[0m\u001b[0m_invtransparams\u001b[0m\u001b[0;34m(\u001b[0m\u001b[0mstart_params\u001b[0m\u001b[0;34m)\u001b[0m\u001b[0;34m\u001b[0m\u001b[0m\n",
      "\u001b[0;32m/Users/thorey/miniconda2/envs/fognet/lib/python2.7/site-packages/statsmodels/tsa/arima_model.pyc\u001b[0m in \u001b[0;36m_fit_start_params_hr\u001b[0;34m(self, order)\u001b[0m\n\u001b[1;32m    531\u001b[0m \u001b[0;34m\u001b[0m\u001b[0m\n\u001b[1;32m    532\u001b[0m         \u001b[0;31m# check AR coefficients\u001b[0m\u001b[0;34m\u001b[0m\u001b[0;34m\u001b[0m\u001b[0m\n\u001b[0;32m--> 533\u001b[0;31m         if p and not np.all(np.abs(np.roots(np.r_[1, -start_params[k:k + p]]\n\u001b[0m\u001b[1;32m    534\u001b[0m                                             )) < 1):\n\u001b[1;32m    535\u001b[0m             raise ValueError(\"The computed initial AR coefficients are not \"\n",
      "\u001b[0;32m/Users/thorey/miniconda2/envs/fognet/lib/python2.7/site-packages/numpy/lib/polynomial.pyc\u001b[0m in \u001b[0;36mroots\u001b[0;34m(p)\u001b[0m\n\u001b[1;32m    231\u001b[0m         \u001b[0mA\u001b[0m \u001b[0;34m=\u001b[0m \u001b[0mdiag\u001b[0m\u001b[0;34m(\u001b[0m\u001b[0mNX\u001b[0m\u001b[0;34m.\u001b[0m\u001b[0mones\u001b[0m\u001b[0;34m(\u001b[0m\u001b[0;34m(\u001b[0m\u001b[0mN\u001b[0m\u001b[0;34m-\u001b[0m\u001b[0;36m2\u001b[0m\u001b[0;34m,\u001b[0m\u001b[0;34m)\u001b[0m\u001b[0;34m,\u001b[0m \u001b[0mp\u001b[0m\u001b[0;34m.\u001b[0m\u001b[0mdtype\u001b[0m\u001b[0;34m)\u001b[0m\u001b[0;34m,\u001b[0m \u001b[0;34m-\u001b[0m\u001b[0;36m1\u001b[0m\u001b[0;34m)\u001b[0m\u001b[0;34m\u001b[0m\u001b[0m\n\u001b[1;32m    232\u001b[0m         \u001b[0mA\u001b[0m\u001b[0;34m[\u001b[0m\u001b[0;36m0\u001b[0m\u001b[0;34m,\u001b[0m\u001b[0;34m:\u001b[0m\u001b[0;34m]\u001b[0m \u001b[0;34m=\u001b[0m \u001b[0;34m-\u001b[0m\u001b[0mp\u001b[0m\u001b[0;34m[\u001b[0m\u001b[0;36m1\u001b[0m\u001b[0;34m:\u001b[0m\u001b[0;34m]\u001b[0m \u001b[0;34m/\u001b[0m \u001b[0mp\u001b[0m\u001b[0;34m[\u001b[0m\u001b[0;36m0\u001b[0m\u001b[0;34m]\u001b[0m\u001b[0;34m\u001b[0m\u001b[0m\n\u001b[0;32m--> 233\u001b[0;31m         \u001b[0mroots\u001b[0m \u001b[0;34m=\u001b[0m \u001b[0meigvals\u001b[0m\u001b[0;34m(\u001b[0m\u001b[0mA\u001b[0m\u001b[0;34m)\u001b[0m\u001b[0;34m\u001b[0m\u001b[0m\n\u001b[0m\u001b[1;32m    234\u001b[0m     \u001b[0;32melse\u001b[0m\u001b[0;34m:\u001b[0m\u001b[0;34m\u001b[0m\u001b[0m\n\u001b[1;32m    235\u001b[0m         \u001b[0mroots\u001b[0m \u001b[0;34m=\u001b[0m \u001b[0mNX\u001b[0m\u001b[0;34m.\u001b[0m\u001b[0marray\u001b[0m\u001b[0;34m(\u001b[0m\u001b[0;34m[\u001b[0m\u001b[0;34m]\u001b[0m\u001b[0;34m)\u001b[0m\u001b[0;34m\u001b[0m\u001b[0m\n",
      "\u001b[0;32m/Users/thorey/miniconda2/envs/fognet/lib/python2.7/site-packages/numpy/linalg/linalg.pyc\u001b[0m in \u001b[0;36meigvals\u001b[0;34m(a)\u001b[0m\n\u001b[1;32m    901\u001b[0m     \u001b[0m_assertRankAtLeast2\u001b[0m\u001b[0;34m(\u001b[0m\u001b[0ma\u001b[0m\u001b[0;34m)\u001b[0m\u001b[0;34m\u001b[0m\u001b[0m\n\u001b[1;32m    902\u001b[0m     \u001b[0m_assertNdSquareness\u001b[0m\u001b[0;34m(\u001b[0m\u001b[0ma\u001b[0m\u001b[0;34m)\u001b[0m\u001b[0;34m\u001b[0m\u001b[0m\n\u001b[0;32m--> 903\u001b[0;31m     \u001b[0m_assertFinite\u001b[0m\u001b[0;34m(\u001b[0m\u001b[0ma\u001b[0m\u001b[0;34m)\u001b[0m\u001b[0;34m\u001b[0m\u001b[0m\n\u001b[0m\u001b[1;32m    904\u001b[0m     \u001b[0mt\u001b[0m\u001b[0;34m,\u001b[0m \u001b[0mresult_t\u001b[0m \u001b[0;34m=\u001b[0m \u001b[0m_commonType\u001b[0m\u001b[0;34m(\u001b[0m\u001b[0ma\u001b[0m\u001b[0;34m)\u001b[0m\u001b[0;34m\u001b[0m\u001b[0m\n\u001b[1;32m    905\u001b[0m \u001b[0;34m\u001b[0m\u001b[0m\n",
      "\u001b[0;32m/Users/thorey/miniconda2/envs/fognet/lib/python2.7/site-packages/numpy/linalg/linalg.pyc\u001b[0m in \u001b[0;36m_assertFinite\u001b[0;34m(*arrays)\u001b[0m\n\u001b[1;32m    215\u001b[0m     \u001b[0;32mfor\u001b[0m \u001b[0ma\u001b[0m \u001b[0;32min\u001b[0m \u001b[0marrays\u001b[0m\u001b[0;34m:\u001b[0m\u001b[0;34m\u001b[0m\u001b[0m\n\u001b[1;32m    216\u001b[0m         \u001b[0;32mif\u001b[0m \u001b[0;32mnot\u001b[0m \u001b[0;34m(\u001b[0m\u001b[0misfinite\u001b[0m\u001b[0;34m(\u001b[0m\u001b[0ma\u001b[0m\u001b[0;34m)\u001b[0m\u001b[0;34m.\u001b[0m\u001b[0mall\u001b[0m\u001b[0;34m(\u001b[0m\u001b[0;34m)\u001b[0m\u001b[0;34m)\u001b[0m\u001b[0;34m:\u001b[0m\u001b[0;34m\u001b[0m\u001b[0m\n\u001b[0;32m--> 217\u001b[0;31m             \u001b[0;32mraise\u001b[0m \u001b[0mLinAlgError\u001b[0m\u001b[0;34m(\u001b[0m\u001b[0;34m\"Array must not contain infs or NaNs\"\u001b[0m\u001b[0;34m)\u001b[0m\u001b[0;34m\u001b[0m\u001b[0m\n\u001b[0m\u001b[1;32m    218\u001b[0m \u001b[0;34m\u001b[0m\u001b[0m\n\u001b[1;32m    219\u001b[0m \u001b[0;32mdef\u001b[0m \u001b[0m_assertNoEmpty2d\u001b[0m\u001b[0;34m(\u001b[0m\u001b[0;34m*\u001b[0m\u001b[0marrays\u001b[0m\u001b[0;34m)\u001b[0m\u001b[0;34m:\u001b[0m\u001b[0;34m\u001b[0m\u001b[0m\n",
      "\u001b[0;31mLinAlgError\u001b[0m: Array must not contain infs or NaNs"
     ]
    }
   ],
   "source": [
    "mod = sm.tsa.ARIMA(endog=df.temp,order=(1,0,0))\n",
    "mod.fit()\n"
   ]
  },
  {
   "cell_type": "code",
   "execution_count": 1,
   "metadata": {
    "collapsed": false
   },
   "outputs": [],
   "source": [
    "import rpy2.robjects as robj"
   ]
  },
  {
   "cell_type": "code",
   "execution_count": 10,
   "metadata": {
    "collapsed": false
   },
   "outputs": [
    {
     "name": "stdout",
     "output_type": "stream",
     "text": [
      "Series: x \n",
      "ARIMA(3,0,0) with non-zero mean \n",
      "\n",
      "Coefficients:\n",
      "         ar1      ar2     ar3  intercept\n",
      "      1.1612  -0.3490  0.1427     0.5488\n",
      "s.e.  0.0119   0.0179  0.0120     0.0210\n",
      "\n",
      "sigma^2 estimated as 0.006469:  log likelihood=7574.32\n",
      "AIC=-15138.65   AICc=-15138.64   BIC=-15104.11\n",
      "\n",
      "Training set error measures:\n",
      "                        ME       RMSE        MAE MPE MAPE     MASE        ACF1\n",
      "Training set -1.402427e-05 0.08043306 0.05080558 NaN  Inf 1.021582 -0.00625392\n",
      "                        ME       RMSE        MAE MPE MAPE     MASE        ACF1\n",
      "Training set -1.402427e-05 0.08043306 0.05080558 NaN  Inf 1.021582 -0.00625392\n"
     ]
    },
    {
     "data": {
      "text/plain": [
       "<Matrix - Python:0x10c6de4d0 / R:0x10a0369a8>\n",
       "[-0.000014, 0.080433, 0.050806, ...,      inf, 1.021582, -0.006254]"
      ]
     },
     "execution_count": 10,
     "metadata": {},
     "output_type": "execute_result"
    }
   ],
   "source": [
    "x0 = robj.FloatVector(df.humidity)\n",
    "robj.globalenv['x'] = x0\n",
    "robj.r('fit <- auto.arima(x)')\n",
    "robj.r('print(summary(fit))')"
   ]
  },
  {
   "cell_type": "code",
   "execution_count": null,
   "metadata": {
    "collapsed": true
   },
   "outputs": [],
   "source": []
  },
  {
   "cell_type": "code",
   "execution_count": 3,
   "metadata": {
    "collapsed": false
   },
   "outputs": [],
   "source": [
    "import math, datetime\n",
    "import rpy2.robjects.lib.ggplot2 as ggplot2\n",
    "import rpy2.robjects as robj\n",
    "from rpy2.robjects.packages import importr\n",
    "\n",
    "import uuid\n",
    "from rpy2.robjects.packages import importr \n",
    "from IPython.core.display import Image\n",
    "rprint = robj.globalenv.get(\"print\")\n",
    "\n",
    "grdevices = importr('grDevices')\n",
    "def ggplot_notebook(gg, width = 800, height = 600):\n",
    "    fn = '{uuid}.png'.format(uuid = uuid.uuid4())\n",
    "    grdevices.png(fn, width = width, height = height)\n",
    "    gg.plot()\n",
    "    grdevices.dev_off()\n",
    "    return Image(filename=fn)\n",
    "\n",
    "def plot_forecast(forecast, width = 800, height = 600):\n",
    "    fn = '{uuid}.png'.format(uuid = uuid.uuid4())\n",
    "    grdevices.png(fn, width = width, height = height)\n",
    "    rforecast.plot_forecast(forecast,h=100)\n",
    "    grdevices.dev_off()\n",
    "    return Image(filename=fn)\n",
    "\n",
    "\n",
    "rforecast = importr('forecast')"
   ]
  },
  {
   "cell_type": "code",
   "execution_count": null,
   "metadata": {
    "collapsed": true
   },
   "outputs": [],
   "source": [
    "rfor"
   ]
  },
  {
   "cell_type": "code",
   "execution_count": 3,
   "metadata": {
    "collapsed": false
   },
   "outputs": [],
   "source": [
    "from utils.data_utils import build_dataset\n",
    "df = build_dataset()"
   ]
  },
  {
   "cell_type": "code",
   "execution_count": 30,
   "metadata": {
    "collapsed": false
   },
   "outputs": [],
   "source": [
    "x0 = robj.FloatVector(df.humidity)\n",
    "x = x0\n",
    "fit = rforecast.auto_arima(x)\n",
    "robj.globalenv['fit'] = fit\n",
    "robj.globalenv['x'] = x\n",
    "robj.globalenv['y'] = x\n",
    "robj.r('fit = auto.arima(x)')\n",
    "robj.r('kr = KalmanRun(x, fit$model)')\n",
    "robj.r('id.na = which(is.na(x))')\n",
    "robj.r('for (i in id.na) y[i] <- fit$model$Z %*% kr$states[i,]')\n",
    "ypred = robj.r('y')"
   ]
  },
  {
   "cell_type": "code",
   "execution_count": 34,
   "metadata": {
    "collapsed": false
   },
   "outputs": [],
   "source": [
    "import rpy2.robjects.numpy2ri as rpyn\n",
    "vector=rpyn.ri2py(ypred)"
   ]
  },
  {
   "cell_type": "code",
   "execution_count": 36,
   "metadata": {
    "collapsed": true
   },
   "outputs": [],
   "source": [
    "import matplotlib.pylab as plt"
   ]
  },
  {
   "cell_type": "code",
   "execution_count": null,
   "metadata": {
    "collapsed": false
   },
   "outputs": [],
   "source": [
    "plt.plot(vector)"
   ]
  },
  {
   "cell_type": "code",
   "execution_count": null,
   "metadata": {
    "collapsed": true
   },
   "outputs": [],
   "source": []
  }
 ],
 "metadata": {
  "kernelspec": {
   "display_name": "Python 2",
   "language": "python",
   "name": "python2"
  },
  "language_info": {
   "codemirror_mode": {
    "name": "ipython",
    "version": 2
   },
   "file_extension": ".py",
   "mimetype": "text/x-python",
   "name": "python",
   "nbconvert_exporter": "python",
   "pygments_lexer": "ipython2",
   "version": "2.7.11"
  },
  "latex_envs": {
   "bibliofile": "biblio.bib",
   "cite_by": "apalike",
   "current_citInitial": 1,
   "eqLabelWithNumbers": true,
   "eqNumInitial": 0
  }
 },
 "nbformat": 4,
 "nbformat_minor": 0
}

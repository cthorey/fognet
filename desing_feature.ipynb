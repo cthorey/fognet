{
 "cells": [
  {
   "cell_type": "code",
   "execution_count": 2,
   "metadata": {
    "collapsed": false
   },
   "outputs": [
    {
     "name": "stdout",
     "output_type": "stream",
     "text": [
      "The autoreload extension is already loaded. To reload it, use:\n",
      "  %reload_ext autoreload\n"
     ]
    }
   ],
   "source": [
    "%matplotlib inline\n",
    "from __future__ import print_function\n",
    "\n",
    "from matplotlib import pyplot as plt\n",
    "import matplotlib.gridspec as gridspec\n",
    "import seaborn as sns\n",
    "\n",
    "import numpy as np\n",
    "import pandas as pd\n",
    "\n",
    "%load_ext autoreload\n",
    "%autoreload 2\n",
    " \n",
    "import importlib\n",
    "import pickle\n",
    "from utils.data_utils import *\n",
    "from utils.preprocessing import *\n",
    "from utils.helper import *\n",
    "root = '/Users/thorey/Documents/project/competition/fognet/models/bbking/lstm'"
   ]
  },
  {
   "cell_type": "code",
   "execution_count": 6,
   "metadata": {
    "collapsed": true
   },
   "outputs": [],
   "source": [
    "df = build_dataset()"
   ]
  },
  {
   "cell_type": "code",
   "execution_count": 77,
   "metadata": {
    "collapsed": false
   },
   "outputs": [],
   "source": [
    "base_model = os.path.join(root,'model_0')\n",
    "config = parse_conf_file(os.path.join(base_model,'conf_model.json'))"
   ]
  },
  {
   "cell_type": "code",
   "execution_count": 78,
   "metadata": {
    "collapsed": false
   },
   "outputs": [],
   "source": [
    "from utils.train_utils import *"
   ]
  },
  {
   "cell_type": "code",
   "execution_count": 88,
   "metadata": {
    "collapsed": false
   },
   "outputs": [
    {
     "name": "stdout",
     "output_type": "stream",
     "text": [
      "{'hiddens': 60, 'lr': 0.0001, 'reg': 1e-06}\n",
      "Loading the prepro pipeline\n",
      "{u'pipe_kwargs': {u'micro': {u'FeatureSelector__features': [u'leafwet450_min',\n",
      "                                                            u'leafwet_lwscnt',\n",
      "                                                            u'percip_mm',\n",
      "                                                            u'temp',\n",
      "                                                            u'gusts_ms',\n",
      "                                                            u'wind_ms',\n",
      "                                                            u'leafwet460_min',\n",
      "                                                            u'wind_dir',\n",
      "                                                            u'humidity'],\n",
      "                             u'FillRemainingNaN__method': u'bfill',\n",
      "                             u'MissingValueInputer__method': u'time'}},\n",
      " u'pipe_list': {u'micro': [u'FeatureSelector',\n",
      "                           u'MissingValueInputer',\n",
      "                           u'FillRemainingNaN',\n",
      "                           u'MyStandardScaler']}}\n",
      "Loading data iterator using : benchmark\n",
      "Le train is composed by 3 group and 4425 observation\n",
      "Le val is composed by 3 group and 2213 observation\n",
      "Le test is composed by 3 group and 739 observation\n",
      "Build the architecture: lstm, lstm\n",
      "Set up the checkpoints\n",
      "Initialize the loss function: partial_squared_error\n",
      "Initialize the network \n"
     ]
    }
   ],
   "source": [
    "model.hiddens = 200\n",
    "model = Model(config)"
   ]
  },
  {
   "cell_type": "code",
   "execution_count": 89,
   "metadata": {
    "collapsed": false
   },
   "outputs": [
    {
     "name": "stdout",
     "output_type": "stream",
     "text": [
      "# Neural Network with 17041 learnable parameters\n",
      "\n",
      "## Layer information\n",
      "\n",
      "  #  name    size\n",
      "---  ------  -------\n",
      "  0  in      Nonex9\n",
      "     lstm_0  Nonex60\n",
      "             60\n",
      "     dense   1\n",
      "             None\n",
      "\n",
      "  epoch    train loss    valid loss    train/val  dur\n",
      "-------  ------------  ------------  -----------  ------\n",
      "      1      \u001b[36m15.10965\u001b[0m       \u001b[32m6.91889\u001b[0m      2.18383  34.62s\n",
      "      2      \u001b[36m12.63618\u001b[0m       \u001b[32m5.94277\u001b[0m      2.12631  33.19s\n",
      "      3      \u001b[36m10.33209\u001b[0m       \u001b[32m5.48084\u001b[0m      1.88513  42.18s\n",
      "      4       \u001b[36m9.31214\u001b[0m       \u001b[32m5.14219\u001b[0m      1.81093  49.37s\n",
      "      5       \u001b[36m8.58122\u001b[0m       \u001b[32m4.84835\u001b[0m      1.76993  38.46s\n",
      "      6       \u001b[36m8.08270\u001b[0m       \u001b[32m4.61252\u001b[0m      1.75234  35.95s\n",
      "      7       \u001b[36m7.68225\u001b[0m       \u001b[32m4.39490\u001b[0m      1.74799  43.06s\n",
      "      8       \u001b[36m7.38488\u001b[0m       \u001b[32m4.19721\u001b[0m      1.75947  48.34s\n",
      "      9       \u001b[36m7.14825\u001b[0m       \u001b[32m4.05001\u001b[0m      1.76500  39.50s\n",
      "     10       \u001b[36m6.88618\u001b[0m       \u001b[32m3.92197\u001b[0m      1.75579  48.26s\n",
      "     11       \u001b[36m6.68595\u001b[0m       \u001b[32m3.82613\u001b[0m      1.74745  39.72s\n",
      "     12       \u001b[36m6.47962\u001b[0m       \u001b[32m3.72934\u001b[0m      1.73747  39.58s\n",
      "     13       \u001b[36m6.22433\u001b[0m       \u001b[32m3.62146\u001b[0m      1.71873  40.49s\n",
      "     14       \u001b[36m6.11887\u001b[0m       \u001b[32m3.51776\u001b[0m      1.73942  35.85s\n",
      "     15       \u001b[36m5.84532\u001b[0m       \u001b[32m3.40907\u001b[0m      1.71464  36.75s\n",
      "     16       \u001b[36m5.63166\u001b[0m       \u001b[32m3.33966\u001b[0m      1.68630  34.44s\n",
      "     17       \u001b[36m5.43199\u001b[0m       \u001b[32m3.28856\u001b[0m      1.65178  32.74s\n",
      "     18       5.47105       \u001b[32m3.21534\u001b[0m      1.70155  33.68s\n",
      "     19       \u001b[36m5.19561\u001b[0m       \u001b[32m3.16239\u001b[0m      1.64294  33.65s\n",
      "     20       \u001b[36m5.10898\u001b[0m       \u001b[32m3.12110\u001b[0m      1.63692  34.06s\n",
      "     21       \u001b[36m4.89632\u001b[0m       \u001b[32m3.09931\u001b[0m      1.57981  32.06s\n",
      "     22       \u001b[36m4.72928\u001b[0m       \u001b[32m3.07518\u001b[0m      1.53789  32.19s\n",
      "     23       \u001b[36m4.61855\u001b[0m       \u001b[32m3.04412\u001b[0m      1.51720  31.42s\n",
      "     24       \u001b[36m4.50447\u001b[0m       \u001b[32m3.01767\u001b[0m      1.49270  32.85s\n",
      "     25       \u001b[36m4.38984\u001b[0m       \u001b[32m2.99983\u001b[0m      1.46336  31.70s\n",
      "     26       \u001b[36m4.28685\u001b[0m       \u001b[32m2.98561\u001b[0m      1.43584  31.70s\n",
      "     27       \u001b[36m4.18337\u001b[0m       \u001b[32m2.97868\u001b[0m      1.40444  31.80s\n",
      "     28       4.18496       2.98892      1.40016  31.78s\n",
      "     29       \u001b[36m4.04362\u001b[0m       \u001b[32m2.91008\u001b[0m      1.38952  31.66s\n",
      "     30       4.07965       \u001b[32m2.89095\u001b[0m      1.41118  31.76s\n",
      "     31       \u001b[36m3.93085\u001b[0m       2.89163      1.35939  31.83s\n",
      "     32       \u001b[36m3.91292\u001b[0m       \u001b[32m2.86493\u001b[0m      1.36580  31.67s\n",
      "     33       \u001b[36m3.82266\u001b[0m       \u001b[32m2.80921\u001b[0m      1.36076  31.72s\n",
      "     34       \u001b[36m3.74537\u001b[0m       \u001b[32m2.80914\u001b[0m      1.33328  31.60s\n",
      "     35       \u001b[36m3.65373\u001b[0m       \u001b[32m2.73830\u001b[0m      1.33431  32.67s\n",
      "     36       \u001b[36m3.56556\u001b[0m       2.73878      1.30188  31.75s\n",
      "     37       \u001b[36m3.55642\u001b[0m       2.74312      1.29649  31.66s\n",
      "     38       \u001b[36m3.48309\u001b[0m       \u001b[32m2.68994\u001b[0m      1.29486  31.71s\n",
      "     39       \u001b[36m3.42287\u001b[0m       \u001b[32m2.65179\u001b[0m      1.29078  31.59s\n",
      "     40       \u001b[36m3.33301\u001b[0m       \u001b[32m2.64784\u001b[0m      1.25877  31.80s\n",
      "     41       \u001b[36m3.29956\u001b[0m       \u001b[32m2.63401\u001b[0m      1.25268  31.77s\n",
      "     42       \u001b[36m3.21500\u001b[0m       2.67472      1.20200  31.65s\n",
      "     43       \u001b[36m3.18817\u001b[0m       2.69239      1.18414  31.82s\n",
      "     44       \u001b[36m3.14993\u001b[0m       2.71595      1.15979  31.81s\n",
      "     45       \u001b[36m3.12914\u001b[0m       2.65302      1.17946  31.74s\n",
      "     46       \u001b[36m3.00674\u001b[0m       \u001b[32m2.56267\u001b[0m      1.17328  33.03s\n",
      "     47       \u001b[36m2.98018\u001b[0m       2.57161      1.15887  32.16s\n",
      "     48       \u001b[36m2.90589\u001b[0m       2.59221      1.12101  32.10s\n",
      "     49       2.97192       2.84563      1.04438  31.94s\n",
      "     50       3.33385       2.61991      1.27251  32.05s\n",
      "Loading best param\n",
      "Loaded parameters to layer 'lstm_0' (shape 9x60).\n",
      "Loaded parameters to layer 'lstm_0' (shape 60x60).\n",
      "Loaded parameters to layer 'lstm_0' (shape 60).\n",
      "Loaded parameters to layer 'lstm_0' (shape 9x60).\n",
      "Loaded parameters to layer 'lstm_0' (shape 60x60).\n",
      "Loaded parameters to layer 'lstm_0' (shape 60).\n",
      "Loaded parameters to layer 'lstm_0' (shape 9x60).\n",
      "Loaded parameters to layer 'lstm_0' (shape 60x60).\n",
      "Loaded parameters to layer 'lstm_0' (shape 60).\n",
      "Loaded parameters to layer 'lstm_0' (shape 9x60).\n",
      "Loaded parameters to layer 'lstm_0' (shape 60x60).\n",
      "Loaded parameters to layer 'lstm_0' (shape 60).\n",
      "Loaded parameters to layer 'lstm_0' (shape 60).\n",
      "Loaded parameters to layer 'lstm_0' (shape 60).\n",
      "Loaded parameters to layer 'lstm_0' (shape 60).\n",
      "Loaded parameters to layer 'lstm_0' (shape 1x60).\n",
      "Loaded parameters to layer 'lstm_0' (shape 1x60).\n",
      "Loaded parameters to layer 'dense' (shape 60x1).\n",
      "Loaded parameters to layer 'dense' (shape 1).\n",
      "Evaluating on val set\n",
      "2.6360963225\n",
      "Run the prediction\n",
      "Will write output to ~/Documents/project/competition/fognet/models/bbking/lstm/model_0/hiddens_60_lr_0.0001_reg_1e-06/submissions_20160331_122539.csv\n"
     ]
    }
   ],
   "source": [
    "model.nb_epochs = 50\n",
    "model.train()"
   ]
  },
  {
   "cell_type": "code",
   "execution_count": 107,
   "metadata": {
    "collapsed": true
   },
   "outputs": [],
   "source": [
    "from utils.train_utils import *"
   ]
  },
  {
   "cell_type": "code",
   "execution_count": 113,
   "metadata": {
    "collapsed": false
   },
   "outputs": [
    {
     "data": {
      "text/plain": [
       "'/Users/thorey/Documents/project/competition/fognet/models/bbking/lstm/model_0'"
      ]
     },
     "execution_count": 113,
     "metadata": {},
     "output_type": "execute_result"
    }
   ],
   "source": [
    "base_model"
   ]
  },
  {
   "cell_type": "code",
   "execution_count": 110,
   "metadata": {
    "collapsed": false
   },
   "outputs": [
    {
     "name": "stdout",
     "output_type": "stream",
     "text": [
      "{'hiddens': 60, 'lr': 0.0001, 'reg': 1e-06}\n",
      "Loading the prepro pipeline\n",
      "{u'pipe_kwargs': {u'micro': {u'FeatureSelector__features': [u'leafwet450_min',\n",
      "                                                            u'leafwet_lwscnt',\n",
      "                                                            u'percip_mm',\n",
      "                                                            u'temp',\n",
      "                                                            u'gusts_ms',\n",
      "                                                            u'wind_ms',\n",
      "                                                            u'leafwet460_min',\n",
      "                                                            u'wind_dir',\n",
      "                                                            u'humidity'],\n",
      "                             u'FillRemainingNaN__method': u'bfill',\n",
      "                             u'MissingValueInputer__method': u'time'}},\n",
      " u'pipe_list': {u'micro': [u'FeatureSelector',\n",
      "                           u'MissingValueInputer',\n",
      "                           u'FillRemainingNaN',\n",
      "                           u'MyStandardScaler']}}\n",
      "Loading data iterator using : benchmark\n",
      "Le train is composed by 3 group and 4425 observation\n",
      "Le val is composed by 3 group and 2213 observation\n",
      "Le test is composed by 3 group and 739 observation\n",
      "Build the architecture: lstm, lstm\n",
      "Initialize the loss function: partial_squared_error\n",
      "Initialize the network \n",
      "Loading model params from ~/Documents/project/competition/fognet/models/bbking/lstm/model_0/hiddens_60_lr_0.0001_reg_1e-06/model.pkl\n",
      "Loaded parameters to layer 'lstm_0' (shape 9x60).\n",
      "Loaded parameters to layer 'lstm_0' (shape 60x60).\n",
      "Loaded parameters to layer 'lstm_0' (shape 60).\n",
      "Loaded parameters to layer 'lstm_0' (shape 9x60).\n",
      "Loaded parameters to layer 'lstm_0' (shape 60x60).\n",
      "Loaded parameters to layer 'lstm_0' (shape 60).\n",
      "Loaded parameters to layer 'lstm_0' (shape 9x60).\n",
      "Loaded parameters to layer 'lstm_0' (shape 60x60).\n",
      "Loaded parameters to layer 'lstm_0' (shape 60).\n",
      "Loaded parameters to layer 'lstm_0' (shape 9x60).\n",
      "Loaded parameters to layer 'lstm_0' (shape 60x60).\n",
      "Loaded parameters to layer 'lstm_0' (shape 60).\n",
      "Loaded parameters to layer 'lstm_0' (shape 60).\n",
      "Loaded parameters to layer 'lstm_0' (shape 60).\n",
      "Loaded parameters to layer 'lstm_0' (shape 60).\n",
      "Loaded parameters to layer 'lstm_0' (shape 1x60).\n",
      "Loaded parameters to layer 'lstm_0' (shape 1x60).\n",
      "Loaded parameters to layer 'dense' (shape 60x1).\n",
      "Loaded parameters to layer 'dense' (shape 1).\n"
     ]
    }
   ],
   "source": [
    "config = parse_conf_file(os.path.join(base_model,'hiddens_60_lr_0.0001_reg_1e-06/conf_model.json'))\n",
    "model = Model(config,mode='inspection')"
   ]
  },
  {
   "cell_type": "code",
   "execution_count": 112,
   "metadata": {
    "collapsed": false
   },
   "outputs": [
    {
     "data": {
      "text/plain": [
       "<matplotlib.axes._subplots.AxesSubplot at 0x13c7bdb10>"
      ]
     },
     "execution_count": 112,
     "metadata": {},
     "output_type": "execute_result"
    },
    {
     "data": {
      "image/png": "[encoded data removed]",
      "text/plain": [
       "<matplotlib.figure.Figure at 0x159e76290>"
      ]
     },
     "metadata": {},
     "output_type": "display_data"
    }
   ],
   "source": [
    "df = model.predict_yield('train')\n",
    "df[['yield','yield_pred']].plot()"
   ]
  },
  {
   "cell_type": "code",
   "execution_count": 90,
   "metadata": {
    "collapsed": false
   },
   "outputs": [
    {
     "data": {
      "text/plain": [
       "<matplotlib.axes._subplots.AxesSubplot at 0x13e48a410>"
      ]
     },
     "execution_count": 90,
     "metadata": {},
     "output_type": "execute_result"
    },
    {
     "data": {
      "image/png": "[encoded data removed]",
      "text/plain": [
       "<matplotlib.figure.Figure at 0x13433cf50>"
      ]
     },
     "metadata": {},
     "output_type": "display_data"
    }
   ],
   "source": [
    "a = pd.read_csv(os.path.join(base_model,'hiddens_60_lr_0.0001_reg_1e-06/submissions_20160331_122539.csv'),index_col=0)\n",
    "a.plot(marker ='o')"
   ]
  },
  {
   "cell_type": "code",
   "execution_count": 103,
   "metadata": {
    "collapsed": false
   },
   "outputs": [
    {
     "data": {
      "text/plain": [
       "4.1512567312364368"
      ]
     },
     "execution_count": 103,
     "metadata": {},
     "output_type": "execute_result"
    }
   ],
   "source": [
    "dft = model.predict_yield('train')\n",
    "model.get_score_set('train')/np.mean(dft['yield'])"
   ]
  },
  {
   "cell_type": "code",
   "execution_count": 93,
   "metadata": {
    "collapsed": false
   },
   "outputs": [
    {
     "data": {
      "text/plain": [
       "<matplotlib.axes._subplots.AxesSubplot at 0x13c70d110>"
      ]
     },
     "execution_count": 93,
     "metadata": {},
     "output_type": "execute_result"
    },
    {
     "data": {
      "image/png": "[encoded data removed]",
      "text/plain": [
       "<matplotlib.figure.Figure at 0x13454acd0>"
      ]
     },
     "metadata": {},
     "output_type": "display_data"
    }
   ],
   "source": [
    "df[['yield','yield_pred']].plot()"
   ]
  },
  {
   "cell_type": "code",
   "execution_count": 101,
   "metadata": {
    "collapsed": false
   },
   "outputs": [
    {
     "data": {
      "text/plain": [
       "4.1621926053235292"
      ]
     },
     "execution_count": 101,
     "metadata": {},
     "output_type": "execute_result"
    }
   ],
   "source": [
    "model.get_score_set('train')"
   ]
  },
  {
   "cell_type": "code",
   "execution_count": 97,
   "metadata": {
    "collapsed": false
   },
   "outputs": [],
   "source": [
    "from sklearn.metrics import mean_squared_error"
   ]
  },
  {
   "cell_type": "code",
   "execution_count": 102,
   "metadata": {
    "collapsed": false
   },
   "outputs": [
    {
     "data": {
      "text/plain": [
       "2.672394660191983"
      ]
     },
     "execution_count": 102,
     "metadata": {},
     "output_type": "execute_result"
    }
   ],
   "source": [
    "dft = df[df['yield']!=-1]\n",
    "np.sqrt(mean_squared_error(dft['yield'],dft['yield_pred']))/(np.mean(dft['yield']))"
   ]
  },
  {
   "cell_type": "code",
   "execution_count": null,
   "metadata": {
    "collapsed": true
   },
   "outputs": [],
   "source": [
    "mean_squared_error(df['yield'],'d')"
   ]
  }
 ],
 "metadata": {
  "kernelspec": {
   "display_name": "Python 2",
   "language": "python",
   "name": "python2"
  },
  "language_info": {
   "codemirror_mode": {
    "name": "ipython",
    "version": 2
   },
   "file_extension": ".py",
   "mimetype": "text/x-python",
   "name": "python",
   "nbconvert_exporter": "python",
   "pygments_lexer": "ipython2",
   "version": "2.7.11"
  },
  "latex_envs": {
   "bibliofile": "biblio.bib",
   "cite_by": "apalike",
   "current_citInitial": 1,
   "eqLabelWithNumbers": true,
   "eqNumInitial": 0
  }
 },
 "nbformat": 4,
 "nbformat_minor": 0
}
